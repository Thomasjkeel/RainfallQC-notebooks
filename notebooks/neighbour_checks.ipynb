{
 "cells": [
  {
   "cell_type": "markdown",
   "id": "530f7296-c84f-4910-909d-b2c1f99fc035",
   "metadata": {},
   "source": [
    "# Neighbour checks for quality control flags\n",
    "Covers QC16-25\n",
    "\n",
    "## Table of contents\n",
    "[Neighbourhood functions](#neighbourhood-functions)  \n",
    "[QC16 Daily neighbours (wet)](#QC16---Daily-neighbours-wet)  \n",
    "[QC17 Hourly neighbours (wet)](#QC17---Hourly-neighbours-wet)  \n",
    "[QC18 Daily neighbours (dry)](#QC18---Daily-neighbours-dry)  \n",
    "[QC19 Hourly neighbours (dry)](#QC19---Hourly-neighbours-dry)  \n",
    "[QC20 Monthly neighbours](#QC20---Monthly-neighbours)  \n",
    "[QC21 Timing offset](#QC21---Timing-offset)  \n",
    "[QC22 Pre-QC Affinity](#QC22---Pre-QC-Affinity)  \n",
    "[QC23 Pre-QC Pearson](#QC23---Pre-QC-Pearson)  \n",
    "[QC24 Daily factor](#QC24---Daily-factor)  \n",
    "[QC25 Monthly factor](#QC25---Monthly-factor)  \n",
    "\n",
    "See '3.3.4 Neighbouring gauge checks on large values' in Lewis et al. (2021)"
   ]
  },
  {
   "cell_type": "code",
   "id": "4b1a0e6d",
   "metadata": {
    "ExecuteTime": {
     "end_time": "2025-04-15T13:47:05.409774Z",
     "start_time": "2025-04-15T13:47:04.704285Z"
    }
   },
   "source": [
    "import datetime\n",
    "import glob\n",
    "\n",
    "import zipfile  ## used once for Intense format data\n",
    "import pandas as pd  ## used once for Intense format data\n",
    "\n",
    "import polars as pl\n",
    "import numpy as np\n",
    "\n",
    "import scipy.stats\n",
    "import geopy.distance"
   ],
   "outputs": [],
   "execution_count": 1
  },
  {
   "cell_type": "code",
   "id": "e01b6d93",
   "metadata": {
    "ExecuteTime": {
     "end_time": "2025-04-15T13:47:05.418494Z",
     "start_time": "2025-04-15T13:47:05.415568Z"
    }
   },
   "source": [
    "TARGET_STATION_ID = \"DE_02483\"\n",
    "DISTANCE_THRESHOLD = 50  # 50 km\n",
    "OVERLAP_THRESHOLD = 365 * 3  # three years\n",
    "\n",
    "## Data reading globals\n",
    "GAUGE_DATA_PATH = \"../data/gauge_data\"\n",
    "DATA_ROWS_TO_SKIP = 20  ## First 20 rows are metadata TODO: what if not?\n",
    "UNIT_COL = \"new_units\"  ## There is an original_units col too TODO: think of way to do this for different data\n",
    "\n",
    "MULTIPLYING_FACTORS = {\"hourly\": 24, \"daily\": 1}  ## compared to daily reference"
   ],
   "outputs": [],
   "execution_count": 2
  },
  {
   "cell_type": "code",
   "id": "0436c1b7",
   "metadata": {
    "ExecuteTime": {
     "end_time": "2025-04-15T13:47:05.503160Z",
     "start_time": "2025-04-15T13:47:05.498990Z"
    }
   },
   "source": [
    "def read_metadata(data_path):\n",
    "    metadata = {}\n",
    "\n",
    "    with open(data_path, \"r\") as f:\n",
    "        while True:\n",
    "            key, val = f.readline().strip().split(\":\", maxsplit=1)\n",
    "            key = key.lower().replace(\" \", \"_\")\n",
    "            metadata[key.strip()] = val.strip()\n",
    "            if key == \"other\":\n",
    "                break\n",
    "    return metadata"
   ],
   "outputs": [],
   "execution_count": 3
  },
  {
   "cell_type": "code",
   "id": "72451179",
   "metadata": {
    "ExecuteTime": {
     "end_time": "2025-04-15T13:47:05.557522Z",
     "start_time": "2025-04-15T13:47:05.548207Z"
    }
   },
   "source": [
    "station_metadata = read_metadata(\n",
    "    data_path=f\"../data/gauge_data/{TARGET_STATION_ID}.txt\"\n",
    ")\n",
    "station_metadata[\"start_datetime\"] = datetime.datetime.strptime(\n",
    "    station_metadata[\"start_datetime\"], \"%Y%m%d%H\"\n",
    ")\n",
    "station_metadata[\"end_datetime\"] = datetime.datetime.strptime(\n",
    "    station_metadata[\"end_datetime\"], \"%Y%m%d%H\"\n",
    ")"
   ],
   "outputs": [],
   "execution_count": 4
  },
  {
   "cell_type": "code",
   "id": "7cc198b6",
   "metadata": {
    "ExecuteTime": {
     "end_time": "2025-04-15T13:47:05.614904Z",
     "start_time": "2025-04-15T13:47:05.605496Z"
    }
   },
   "source": [
    "def add_datetime_to_gauge_data(station_metadata, gauge_data, time_multiplying_factor):\n",
    "    \"\"\"\n",
    "    Add datetime column to gauge data using metadata from that gauge.\n",
    "    NOTE: Could maybe extend so can find metadata if not provided?\n",
    "    \"\"\"\n",
    "    startdate = station_metadata[\"start_datetime\"]\n",
    "    enddate = station_metadata[\"end_datetime\"]\n",
    "    assert isinstance(\n",
    "        startdate, datetime.datetime\n",
    "    ), \"Please convert start_ and end_datetime to datetime.datetime objects\"\n",
    "\n",
    "    date_interval = []\n",
    "    delta_days = (enddate + datetime.timedelta(days=1) - startdate).days\n",
    "    for i in range(delta_days * time_multiplying_factor):\n",
    "        date_interval.append(startdate + datetime.timedelta(hours=i))\n",
    "\n",
    "    ## add datetime column\n",
    "    assert len(gauge_data) == len(date_interval)\n",
    "    gauge_data = gauge_data.with_columns(\n",
    "        time=pl.Series(date_interval)\n",
    "    )  ## set time columns\n",
    "\n",
    "    return gauge_data"
   ],
   "outputs": [],
   "execution_count": 5
  },
  {
   "cell_type": "code",
   "id": "783e5eb9",
   "metadata": {
    "ExecuteTime": {
     "end_time": "2025-04-15T13:47:05.674694Z",
     "start_time": "2025-04-15T13:47:05.672735Z"
    }
   },
   "source": [
    "rain_col = f\"rain_{station_metadata['original_units']}\""
   ],
   "outputs": [],
   "execution_count": 6
  },
  {
   "cell_type": "code",
   "id": "eba66818",
   "metadata": {
    "ExecuteTime": {
     "end_time": "2025-04-15T13:47:05.723878Z",
     "start_time": "2025-04-15T13:47:05.717053Z"
    }
   },
   "source": [
    "## read in gauge data\n",
    "target_gauge = pl.read_csv(\n",
    "    f\"../data/gauge_data/{TARGET_STATION_ID}.txt\",\n",
    "    skip_rows=20,\n",
    "    schema_overrides={rain_col: pl.Float64},\n",
    ")"
   ],
   "outputs": [],
   "execution_count": 7
  },
  {
   "cell_type": "code",
   "id": "1b4d06bc",
   "metadata": {
    "ExecuteTime": {
     "end_time": "2025-04-15T13:47:05.814577Z",
     "start_time": "2025-04-15T13:47:05.778492Z"
    }
   },
   "source": [
    "target_gauge = add_datetime_to_gauge_data(\n",
    "    station_metadata,\n",
    "    target_gauge,\n",
    "    time_multiplying_factor=MULTIPLYING_FACTORS[\"hourly\"],\n",
    ")\n",
    "target_gauge = target_gauge.select([\"time\", rain_col])  ## Reorder (to look nice)"
   ],
   "outputs": [],
   "execution_count": 8
  },
  {
   "cell_type": "code",
   "id": "7cbef85c",
   "metadata": {
    "ExecuteTime": {
     "end_time": "2025-04-15T13:47:05.826975Z",
     "start_time": "2025-04-15T13:47:05.823330Z"
    }
   },
   "source": [
    "def replace_no_data_with_nan(data, no_data_value):\n",
    "    return data.with_columns(\n",
    "        pl.when(pl.col(rain_col) == no_data_value)\n",
    "        .then(np.nan)\n",
    "        .otherwise(pl.col(rain_col))\n",
    "        .alias(rain_col)\n",
    "    )"
   ],
   "outputs": [],
   "execution_count": 9
  },
  {
   "cell_type": "code",
   "id": "72f6f3db",
   "metadata": {
    "ExecuteTime": {
     "end_time": "2025-04-15T13:47:05.886897Z",
     "start_time": "2025-04-15T13:47:05.881737Z"
    }
   },
   "source": [
    "## make no data vals nans\n",
    "target_gauge = replace_no_data_with_nan(\n",
    "    target_gauge, no_data_value=int(station_metadata[\"no_data_value\"])\n",
    ")"
   ],
   "outputs": [],
   "execution_count": 10
  },
  {
   "cell_type": "code",
   "id": "57da3cfd",
   "metadata": {
    "ExecuteTime": {
     "end_time": "2025-04-15T13:47:05.953129Z",
     "start_time": "2025-04-15T13:47:05.947329Z"
    }
   },
   "source": [
    "target_gauge.head()"
   ],
   "outputs": [
    {
     "data": {
      "text/plain": [
       "shape: (5, 2)\n",
       "┌─────────────────────┬─────────┐\n",
       "│ time                ┆ rain_mm │\n",
       "│ ---                 ┆ ---     │\n",
       "│ datetime[μs]        ┆ f64     │\n",
       "╞═════════════════════╪═════════╡\n",
       "│ 2006-01-01 00:00:00 ┆ 0.9     │\n",
       "│ 2006-01-01 01:00:00 ┆ 0.3     │\n",
       "│ 2006-01-01 02:00:00 ┆ 0.3     │\n",
       "│ 2006-01-01 03:00:00 ┆ 0.0     │\n",
       "│ 2006-01-01 04:00:00 ┆ 0.0     │\n",
       "└─────────────────────┴─────────┘"
      ],
      "text/html": [
       "<div><style>\n",
       ".dataframe > thead > tr,\n",
       ".dataframe > tbody > tr {\n",
       "  text-align: right;\n",
       "  white-space: pre-wrap;\n",
       "}\n",
       "</style>\n",
       "<small>shape: (5, 2)</small><table border=\"1\" class=\"dataframe\"><thead><tr><th>time</th><th>rain_mm</th></tr><tr><td>datetime[μs]</td><td>f64</td></tr></thead><tbody><tr><td>2006-01-01 00:00:00</td><td>0.9</td></tr><tr><td>2006-01-01 01:00:00</td><td>0.3</td></tr><tr><td>2006-01-01 02:00:00</td><td>0.3</td></tr><tr><td>2006-01-01 03:00:00</td><td>0.0</td></tr><tr><td>2006-01-01 04:00:00</td><td>0.0</td></tr></tbody></table></div>"
      ]
     },
     "execution_count": 11,
     "metadata": {},
     "output_type": "execute_result"
    }
   ],
   "execution_count": 11
  },
  {
   "cell_type": "markdown",
   "id": "65e34f32",
   "metadata": {},
   "source": [
    "# Neighbourhood functions\n",
    "TODO: convert to Classes"
   ]
  },
  {
   "cell_type": "markdown",
   "id": "2e05d71b",
   "metadata": {},
   "source": [
    "### Part 1. Make or read summary metadata of stations"
   ]
  },
  {
   "cell_type": "code",
   "id": "56dd5d81",
   "metadata": {
    "ExecuteTime": {
     "end_time": "2025-04-15T13:47:06.061487Z",
     "start_time": "2025-04-15T13:47:06.055921Z"
    }
   },
   "source": [
    "## Could work by checking if metadata already exists (or user can input)\n",
    "all_gauge_data_paths = glob.glob(f\"{GAUGE_DATA_PATH}/*.txt\")\n",
    "all_gauge_data_paths"
   ],
   "outputs": [
    {
     "data": {
      "text/plain": [
       "['../data/gauge_data/DE_02718.txt',\n",
       " '../data/gauge_data/DE_00389.txt',\n",
       " '../data/gauge_data/DE_01300.txt',\n",
       " '../data/gauge_data/DE_00390.txt',\n",
       " '../data/gauge_data/DE_06264.txt',\n",
       " '../data/gauge_data/DE_02483.txt',\n",
       " '../data/gauge_data/DE_04488.txt',\n",
       " '../data/gauge_data/DE_03215.txt',\n",
       " '../data/gauge_data/DE_04313.txt',\n",
       " '../data/gauge_data/DE_00310.txt',\n",
       " '../data/gauge_data/DE_06303.txt']"
      ]
     },
     "execution_count": 12,
     "metadata": {},
     "output_type": "execute_result"
    }
   ],
   "execution_count": 12
  },
  {
   "cell_type": "code",
   "id": "9b217948",
   "metadata": {
    "ExecuteTime": {
     "end_time": "2025-04-15T13:47:06.170897Z",
     "start_time": "2025-04-15T13:47:06.167158Z"
    }
   },
   "source": [
    "all_station_metadata_list = []\n",
    "for ind, file in enumerate(all_gauge_data_paths):\n",
    "    one_station_metadata = read_metadata(data_path=file)\n",
    "    all_station_metadata_list.append(one_station_metadata)"
   ],
   "outputs": [],
   "execution_count": 13
  },
  {
   "cell_type": "code",
   "id": "442c16fe",
   "metadata": {
    "ExecuteTime": {
     "end_time": "2025-04-15T13:47:06.346282Z",
     "start_time": "2025-04-15T13:47:06.325364Z"
    }
   },
   "source": [
    "all_station_metadata = pl.from_dicts(all_station_metadata_list)\n",
    "all_station_metadata = all_station_metadata.with_columns(\n",
    "    pl.col(\"latitude\").cast(pl.Float64),\n",
    "    pl.col(\"longitude\").cast(pl.Float64),\n",
    "    (pl.col(\"start_datetime\") + \"00\").str.strptime(pl.Datetime, \"%Y%m%d%H%M\"),\n",
    "    (pl.col(\"end_datetime\") + \"00\").str.strptime(pl.Datetime, \"%Y%m%d%H%M\"),\n",
    ")\n",
    "all_station_metadata.head()"
   ],
   "outputs": [
    {
     "data": {
      "text/plain": [
       "shape: (5, 21)\n",
       "┌────────────┬─────────┬────────────┬────────────┬───┬────────────┬────────────┬───────────┬───────┐\n",
       "│ station_id ┆ country ┆ original_s ┆ original_s ┆ … ┆ daylight_s ┆ no_data_va ┆ resolutio ┆ other │\n",
       "│ ---        ┆ ---     ┆ tation_num ┆ tation_nam ┆   ┆ aving_info ┆ lue        ┆ n         ┆ ---   │\n",
       "│ str        ┆ str     ┆ ber        ┆ e          ┆   ┆ ---        ┆ ---        ┆ ---       ┆ str   │\n",
       "│            ┆         ┆ ---        ┆ ---        ┆   ┆ str        ┆ str        ┆ str       ┆       │\n",
       "│            ┆         ┆ str        ┆ str        ┆   ┆            ┆            ┆           ┆       │\n",
       "╞════════════╪═════════╪════════════╪════════════╪═══╪════════════╪════════════╪═══════════╪═══════╡\n",
       "│ DE_02718   ┆ Germany ┆ 02718      ┆ NA         ┆ … ┆ NA         ┆ -999       ┆ 0.10      ┆       │\n",
       "│ DE_00389   ┆ Germany ┆ 00389      ┆ NA         ┆ … ┆ NA         ┆ -999       ┆ 0.10      ┆       │\n",
       "│ DE_01300   ┆ Germany ┆ 01300      ┆ NA         ┆ … ┆ NA         ┆ -999       ┆ 0.10      ┆       │\n",
       "│ DE_00390   ┆ Germany ┆ 00390      ┆ NA         ┆ … ┆ NA         ┆ -999       ┆ 0.10      ┆       │\n",
       "│ DE_06264   ┆ Germany ┆ 06264      ┆ NA         ┆ … ┆ NA         ┆ -999       ┆ 0.10      ┆       │\n",
       "└────────────┴─────────┴────────────┴────────────┴───┴────────────┴────────────┴───────────┴───────┘"
      ],
      "text/html": [
       "<div><style>\n",
       ".dataframe > thead > tr,\n",
       ".dataframe > tbody > tr {\n",
       "  text-align: right;\n",
       "  white-space: pre-wrap;\n",
       "}\n",
       "</style>\n",
       "<small>shape: (5, 21)</small><table border=\"1\" class=\"dataframe\"><thead><tr><th>station_id</th><th>country</th><th>original_station_number</th><th>original_station_name</th><th>path_to_original_data</th><th>latitude</th><th>longitude</th><th>start_datetime</th><th>end_datetime</th><th>elevation</th><th>number_of_records</th><th>percent_missing_data</th><th>original_timestep</th><th>new_timestep</th><th>original_units</th><th>new_units</th><th>time_zone</th><th>daylight_saving_info</th><th>no_data_value</th><th>resolution</th><th>other</th></tr><tr><td>str</td><td>str</td><td>str</td><td>str</td><td>str</td><td>f64</td><td>f64</td><td>datetime[μs]</td><td>datetime[μs]</td><td>str</td><td>str</td><td>str</td><td>str</td><td>str</td><td>str</td><td>str</td><td>str</td><td>str</td><td>str</td><td>str</td><td>str</td></tr></thead><tbody><tr><td>&quot;DE_02718&quot;</td><td>&quot;Germany&quot;</td><td>&quot;02718&quot;</td><td>&quot;NA&quot;</td><td>&quot;B:/INTENSE data/Original data/…</td><td>51.288</td><td>8.7928</td><td>2006-01-01 00:00:00</td><td>2010-12-31 23:00:00</td><td>&quot;458m&quot;</td><td>&quot;43824&quot;</td><td>&quot;0.00&quot;</td><td>&quot;1hr&quot;</td><td>&quot;1hr&quot;</td><td>&quot;mm&quot;</td><td>&quot;mm&quot;</td><td>&quot;CET&quot;</td><td>&quot;NA&quot;</td><td>&quot;-999&quot;</td><td>&quot;0.10&quot;</td><td>&quot;&quot;</td></tr><tr><td>&quot;DE_00389&quot;</td><td>&quot;Germany&quot;</td><td>&quot;00389&quot;</td><td>&quot;NA&quot;</td><td>&quot;B:/INTENSE data/Original data/…</td><td>51.0148</td><td>8.4318</td><td>2009-11-01 00:00:00</td><td>2010-12-31 23:00:00</td><td>&quot;436m&quot;</td><td>&quot;10224&quot;</td><td>&quot;0.00&quot;</td><td>&quot;1hr&quot;</td><td>&quot;1hr&quot;</td><td>&quot;mm&quot;</td><td>&quot;mm&quot;</td><td>&quot;CET&quot;</td><td>&quot;NA&quot;</td><td>&quot;-999&quot;</td><td>&quot;0.10&quot;</td><td>&quot;&quot;</td></tr><tr><td>&quot;DE_01300&quot;</td><td>&quot;Germany&quot;</td><td>&quot;01300&quot;</td><td>&quot;NA&quot;</td><td>&quot;B:/INTENSE data/Original data/…</td><td>51.254</td><td>8.1565</td><td>2006-01-01 00:00:00</td><td>2010-12-31 23:00:00</td><td>&quot;351m&quot;</td><td>&quot;43824&quot;</td><td>&quot;0.00&quot;</td><td>&quot;1hr&quot;</td><td>&quot;1hr&quot;</td><td>&quot;mm&quot;</td><td>&quot;mm&quot;</td><td>&quot;CET&quot;</td><td>&quot;NA&quot;</td><td>&quot;-999&quot;</td><td>&quot;0.10&quot;</td><td>&quot;&quot;</td></tr><tr><td>&quot;DE_00390&quot;</td><td>&quot;Germany&quot;</td><td>&quot;00390&quot;</td><td>&quot;NA&quot;</td><td>&quot;B:/INTENSE data/Original data/…</td><td>50.9837</td><td>8.3679</td><td>2006-01-01 00:00:00</td><td>2010-12-31 23:00:00</td><td>&quot;610m&quot;</td><td>&quot;43824&quot;</td><td>&quot;0.00&quot;</td><td>&quot;1hr&quot;</td><td>&quot;1hr&quot;</td><td>&quot;mm&quot;</td><td>&quot;mm&quot;</td><td>&quot;CET&quot;</td><td>&quot;NA&quot;</td><td>&quot;-999&quot;</td><td>&quot;0.10&quot;</td><td>&quot;&quot;</td></tr><tr><td>&quot;DE_06264&quot;</td><td>&quot;Germany&quot;</td><td>&quot;06264&quot;</td><td>&quot;NA&quot;</td><td>&quot;B:/INTENSE data/Original data/…</td><td>51.4143</td><td>8.6498</td><td>2006-01-01 00:00:00</td><td>2010-12-31 23:00:00</td><td>&quot;457m&quot;</td><td>&quot;43824&quot;</td><td>&quot;0.00&quot;</td><td>&quot;1hr&quot;</td><td>&quot;1hr&quot;</td><td>&quot;mm&quot;</td><td>&quot;mm&quot;</td><td>&quot;CET&quot;</td><td>&quot;NA&quot;</td><td>&quot;-999&quot;</td><td>&quot;0.10&quot;</td><td>&quot;&quot;</td></tr></tbody></table></div>"
      ]
     },
     "execution_count": 14,
     "metadata": {},
     "output_type": "execute_result"
    }
   ],
   "execution_count": 14
  },
  {
   "cell_type": "markdown",
   "id": "d12847bb",
   "metadata": {},
   "source": [
    "### Part 2. Compute distance from target station\n",
    "TODO: What if the location data is in a different projection i.e. EPSG: 27700?  \n",
    "TODO: Remove duplicates"
   ]
  },
  {
   "cell_type": "code",
   "id": "567b1846",
   "metadata": {
    "ExecuteTime": {
     "end_time": "2025-04-15T13:47:06.478721Z",
     "start_time": "2025-04-15T13:47:06.472396Z"
    }
   },
   "source": [
    "def compute_distance_from_target_id(metadata, target_id):\n",
    "    target_station = metadata.filter(pl.col(\"station_id\") == target_id)\n",
    "    target_latlon = (\n",
    "        target_station[\"latitude\"].item(),\n",
    "        target_station[\"longitude\"].item(),\n",
    "    )\n",
    "\n",
    "    neighbour_distances = {}\n",
    "    for other_station_id, other_lat, other_lon in metadata[\n",
    "        [\"station_id\", \"latitude\", \"longitude\"]\n",
    "    ].rows():\n",
    "\n",
    "        neighbour_distances[other_station_id] = geopy.distance.geodesic(\n",
    "            target_latlon, (other_lat, other_lon)\n",
    "        ).kilometers\n",
    "    return neighbour_distances"
   ],
   "outputs": [],
   "execution_count": 15
  },
  {
   "cell_type": "code",
   "id": "3d5e59fb",
   "metadata": {
    "ExecuteTime": {
     "end_time": "2025-04-15T13:47:06.671643Z",
     "start_time": "2025-04-15T13:47:06.660728Z"
    }
   },
   "source": [
    "neighbours_distances = compute_distance_from_target_id(\n",
    "    all_station_metadata, TARGET_STATION_ID\n",
    ")\n",
    "neighbours_distances"
   ],
   "outputs": [
    {
     "data": {
      "text/plain": [
       "{'DE_02718': 24.361752991036987,\n",
       " 'DE_00389': 18.844342416100808,\n",
       " 'DE_01300': 24.64263807685722,\n",
       " 'DE_00390': 23.462778369145934,\n",
       " 'DE_06264': 28.343769567230837,\n",
       " 'DE_02483': 0.0,\n",
       " 'DE_04488': 15.929311137997068,\n",
       " 'DE_03215': 15.710073576478786,\n",
       " 'DE_04313': 35.397225659812456,\n",
       " 'DE_00310': 13.134594190689885,\n",
       " 'DE_06303': 13.96385857171046}"
      ]
     },
     "execution_count": 16,
     "metadata": {},
     "output_type": "execute_result"
    }
   ],
   "execution_count": 16
  },
  {
   "cell_type": "code",
   "id": "a05ce598",
   "metadata": {
    "ExecuteTime": {
     "end_time": "2025-04-15T13:47:06.872688Z",
     "start_time": "2025-04-15T13:47:06.867049Z"
    }
   },
   "source": [
    "# ALTERNATIVE: do we want to avoid using geopy.distance and simply write a distance function?\n",
    "# # ALTERNATIVE: maybe precompute a matrix of distances?\n",
    "# all_station_dist_mtx = scipy.spatial.distance.cdist(all_station_metadata[['latitude', 'longitude']].rows(),\n",
    "#                                         all_station_metadata[['latitude', 'longitude']].rows(),\n",
    "#                                         metric=lambda pnt1, pnt2: geopy.distance.geodesic(pnt1, pnt2).kilometers)"
   ],
   "outputs": [],
   "execution_count": 17
  },
  {
   "cell_type": "code",
   "id": "15d4dc66",
   "metadata": {
    "ExecuteTime": {
     "end_time": "2025-04-15T13:47:06.986859Z",
     "start_time": "2025-04-15T13:47:06.977087Z"
    }
   },
   "source": [
    "neighbours_distances_df = pl.DataFrame(\n",
    "    {\n",
    "        \"station_id\": neighbours_distances.keys(),\n",
    "        \"distances\": neighbours_distances.values(),\n",
    "    }\n",
    ")\n",
    "neighbours_distances_df"
   ],
   "outputs": [
    {
     "data": {
      "text/plain": [
       "shape: (11, 2)\n",
       "┌────────────┬───────────┐\n",
       "│ station_id ┆ distances │\n",
       "│ ---        ┆ ---       │\n",
       "│ str        ┆ f64       │\n",
       "╞════════════╪═══════════╡\n",
       "│ DE_02718   ┆ 24.361753 │\n",
       "│ DE_00389   ┆ 18.844342 │\n",
       "│ DE_01300   ┆ 24.642638 │\n",
       "│ DE_00390   ┆ 23.462778 │\n",
       "│ DE_06264   ┆ 28.34377  │\n",
       "│ …          ┆ …         │\n",
       "│ DE_04488   ┆ 15.929311 │\n",
       "│ DE_03215   ┆ 15.710074 │\n",
       "│ DE_04313   ┆ 35.397226 │\n",
       "│ DE_00310   ┆ 13.134594 │\n",
       "│ DE_06303   ┆ 13.963859 │\n",
       "└────────────┴───────────┘"
      ],
      "text/html": [
       "<div><style>\n",
       ".dataframe > thead > tr,\n",
       ".dataframe > tbody > tr {\n",
       "  text-align: right;\n",
       "  white-space: pre-wrap;\n",
       "}\n",
       "</style>\n",
       "<small>shape: (11, 2)</small><table border=\"1\" class=\"dataframe\"><thead><tr><th>station_id</th><th>distances</th></tr><tr><td>str</td><td>f64</td></tr></thead><tbody><tr><td>&quot;DE_02718&quot;</td><td>24.361753</td></tr><tr><td>&quot;DE_00389&quot;</td><td>18.844342</td></tr><tr><td>&quot;DE_01300&quot;</td><td>24.642638</td></tr><tr><td>&quot;DE_00390&quot;</td><td>23.462778</td></tr><tr><td>&quot;DE_06264&quot;</td><td>28.34377</td></tr><tr><td>&hellip;</td><td>&hellip;</td></tr><tr><td>&quot;DE_04488&quot;</td><td>15.929311</td></tr><tr><td>&quot;DE_03215&quot;</td><td>15.710074</td></tr><tr><td>&quot;DE_04313&quot;</td><td>35.397226</td></tr><tr><td>&quot;DE_00310&quot;</td><td>13.134594</td></tr><tr><td>&quot;DE_06303&quot;</td><td>13.963859</td></tr></tbody></table></div>"
      ]
     },
     "execution_count": 18,
     "metadata": {},
     "output_type": "execute_result"
    }
   ],
   "execution_count": 18
  },
  {
   "cell_type": "code",
   "id": "06a1e697",
   "metadata": {
    "ExecuteTime": {
     "end_time": "2025-04-15T13:47:07.351125Z",
     "start_time": "2025-04-15T13:47:07.337998Z"
    }
   },
   "source": [
    "## Subset based on 50 km\n",
    "close_neighbours = neighbours_distances_df.filter(\n",
    "    (pl.col(\"distances\") <= DISTANCE_THRESHOLD) & (pl.col(\"distances\") != 0)\n",
    ")\n",
    "\n",
    "## closest 10\n",
    "close_neighbours.sort(\"distances\")[:10]"
   ],
   "outputs": [
    {
     "data": {
      "text/plain": [
       "shape: (10, 2)\n",
       "┌────────────┬───────────┐\n",
       "│ station_id ┆ distances │\n",
       "│ ---        ┆ ---       │\n",
       "│ str        ┆ f64       │\n",
       "╞════════════╪═══════════╡\n",
       "│ DE_00310   ┆ 13.134594 │\n",
       "│ DE_06303   ┆ 13.963859 │\n",
       "│ DE_03215   ┆ 15.710074 │\n",
       "│ DE_04488   ┆ 15.929311 │\n",
       "│ DE_00389   ┆ 18.844342 │\n",
       "│ DE_00390   ┆ 23.462778 │\n",
       "│ DE_02718   ┆ 24.361753 │\n",
       "│ DE_01300   ┆ 24.642638 │\n",
       "│ DE_06264   ┆ 28.34377  │\n",
       "│ DE_04313   ┆ 35.397226 │\n",
       "└────────────┴───────────┘"
      ],
      "text/html": [
       "<div><style>\n",
       ".dataframe > thead > tr,\n",
       ".dataframe > tbody > tr {\n",
       "  text-align: right;\n",
       "  white-space: pre-wrap;\n",
       "}\n",
       "</style>\n",
       "<small>shape: (10, 2)</small><table border=\"1\" class=\"dataframe\"><thead><tr><th>station_id</th><th>distances</th></tr><tr><td>str</td><td>f64</td></tr></thead><tbody><tr><td>&quot;DE_00310&quot;</td><td>13.134594</td></tr><tr><td>&quot;DE_06303&quot;</td><td>13.963859</td></tr><tr><td>&quot;DE_03215&quot;</td><td>15.710074</td></tr><tr><td>&quot;DE_04488&quot;</td><td>15.929311</td></tr><tr><td>&quot;DE_00389&quot;</td><td>18.844342</td></tr><tr><td>&quot;DE_00390&quot;</td><td>23.462778</td></tr><tr><td>&quot;DE_02718&quot;</td><td>24.361753</td></tr><tr><td>&quot;DE_01300&quot;</td><td>24.642638</td></tr><tr><td>&quot;DE_06264&quot;</td><td>28.34377</td></tr><tr><td>&quot;DE_04313&quot;</td><td>35.397226</td></tr></tbody></table></div>"
      ]
     },
     "execution_count": 19,
     "metadata": {},
     "output_type": "execute_result"
    }
   ],
   "execution_count": 19
  },
  {
   "cell_type": "markdown",
   "id": "4635d967",
   "metadata": {},
   "source": [
    "### Part 3. Compute the temporal overlap"
   ]
  },
  {
   "cell_type": "code",
   "id": "0ceaafab",
   "metadata": {
    "ExecuteTime": {
     "end_time": "2025-04-15T13:47:07.662856Z",
     "start_time": "2025-04-15T13:47:07.657374Z"
    }
   },
   "source": [
    "def compute_overlap_days(start_1, end_1, start_2, end_2):\n",
    "    ## TODO: add cast to datetime functionality/checks\n",
    "    ## compute overlap\n",
    "    overlap_start = max(start_1, start_2)\n",
    "    overlap_end = min(end_1, end_2)\n",
    "\n",
    "    overlap_days = max(0, (overlap_end - overlap_start).days)\n",
    "\n",
    "    return overlap_days"
   ],
   "outputs": [],
   "execution_count": 20
  },
  {
   "cell_type": "code",
   "id": "c9996026",
   "metadata": {
    "ExecuteTime": {
     "end_time": "2025-04-15T13:47:08.024587Z",
     "start_time": "2025-04-15T13:47:08.016762Z"
    }
   },
   "source": [
    "def compute_overlap_days_from_target_id(metadata, target_id):\n",
    "    target_station = metadata.filter(pl.col(\"station_id\") == target_id)\n",
    "    start_1, end_1 = (\n",
    "        target_station[\"start_datetime\"].item(),\n",
    "        target_station[\"end_datetime\"].item(),\n",
    "    )\n",
    "\n",
    "    neighbour_overlap_days = {}\n",
    "    for other_station_id, start_2, end_2 in metadata[\n",
    "        [\"station_id\", \"start_datetime\", \"end_datetime\"]\n",
    "    ].rows():\n",
    "        if target_id == other_station_id:\n",
    "            continue\n",
    "\n",
    "        neighbour_overlap_days[other_station_id] = compute_overlap_days(\n",
    "            start_1, end_1, start_2, end_2\n",
    "        )\n",
    "    return neighbour_overlap_days"
   ],
   "outputs": [],
   "execution_count": 21
  },
  {
   "cell_type": "code",
   "id": "8d7cb147",
   "metadata": {
    "ExecuteTime": {
     "end_time": "2025-04-15T13:47:08.201436Z",
     "start_time": "2025-04-15T13:47:08.195168Z"
    }
   },
   "source": [
    "neighbour_overlap_days = compute_overlap_days_from_target_id(\n",
    "    all_station_metadata, TARGET_STATION_ID\n",
    ")\n",
    "neighbour_overlap_days"
   ],
   "outputs": [
    {
     "data": {
      "text/plain": [
       "{'DE_02718': 1825,\n",
       " 'DE_00389': 425,\n",
       " 'DE_01300': 1825,\n",
       " 'DE_00390': 1825,\n",
       " 'DE_06264': 1825,\n",
       " 'DE_04488': 1613,\n",
       " 'DE_03215': 1309,\n",
       " 'DE_04313': 1825,\n",
       " 'DE_00310': 1825,\n",
       " 'DE_06303': 1825}"
      ]
     },
     "execution_count": 22,
     "metadata": {},
     "output_type": "execute_result"
    }
   ],
   "execution_count": 22
  },
  {
   "cell_type": "markdown",
   "id": "01ed8d5d",
   "metadata": {},
   "source": [
    "#### Subset based on 3 years"
   ]
  },
  {
   "cell_type": "code",
   "id": "f13c19aa",
   "metadata": {
    "ExecuteTime": {
     "end_time": "2025-04-15T13:47:08.412154Z",
     "start_time": "2025-04-15T13:47:08.405644Z"
    }
   },
   "source": [
    "neighbour_overlap_days_df = pl.DataFrame(\n",
    "    {\n",
    "        \"station_id\": neighbour_overlap_days.keys(),\n",
    "        \"overlap_days\": neighbour_overlap_days.values(),\n",
    "    }\n",
    ")\n",
    "neighbour_overlap_days_df"
   ],
   "outputs": [
    {
     "data": {
      "text/plain": [
       "shape: (10, 2)\n",
       "┌────────────┬──────────────┐\n",
       "│ station_id ┆ overlap_days │\n",
       "│ ---        ┆ ---          │\n",
       "│ str        ┆ i64          │\n",
       "╞════════════╪══════════════╡\n",
       "│ DE_02718   ┆ 1825         │\n",
       "│ DE_00389   ┆ 425          │\n",
       "│ DE_01300   ┆ 1825         │\n",
       "│ DE_00390   ┆ 1825         │\n",
       "│ DE_06264   ┆ 1825         │\n",
       "│ DE_04488   ┆ 1613         │\n",
       "│ DE_03215   ┆ 1309         │\n",
       "│ DE_04313   ┆ 1825         │\n",
       "│ DE_00310   ┆ 1825         │\n",
       "│ DE_06303   ┆ 1825         │\n",
       "└────────────┴──────────────┘"
      ],
      "text/html": [
       "<div><style>\n",
       ".dataframe > thead > tr,\n",
       ".dataframe > tbody > tr {\n",
       "  text-align: right;\n",
       "  white-space: pre-wrap;\n",
       "}\n",
       "</style>\n",
       "<small>shape: (10, 2)</small><table border=\"1\" class=\"dataframe\"><thead><tr><th>station_id</th><th>overlap_days</th></tr><tr><td>str</td><td>i64</td></tr></thead><tbody><tr><td>&quot;DE_02718&quot;</td><td>1825</td></tr><tr><td>&quot;DE_00389&quot;</td><td>425</td></tr><tr><td>&quot;DE_01300&quot;</td><td>1825</td></tr><tr><td>&quot;DE_00390&quot;</td><td>1825</td></tr><tr><td>&quot;DE_06264&quot;</td><td>1825</td></tr><tr><td>&quot;DE_04488&quot;</td><td>1613</td></tr><tr><td>&quot;DE_03215&quot;</td><td>1309</td></tr><tr><td>&quot;DE_04313&quot;</td><td>1825</td></tr><tr><td>&quot;DE_00310&quot;</td><td>1825</td></tr><tr><td>&quot;DE_06303&quot;</td><td>1825</td></tr></tbody></table></div>"
      ]
     },
     "execution_count": 23,
     "metadata": {},
     "output_type": "execute_result"
    }
   ],
   "execution_count": 23
  },
  {
   "cell_type": "code",
   "id": "e506ef05",
   "metadata": {
    "ExecuteTime": {
     "end_time": "2025-04-15T13:47:08.601395Z",
     "start_time": "2025-04-15T13:47:08.591042Z"
    }
   },
   "source": [
    "neighbour_overlap_days_df.filter(pl.col(\"overlap_days\") >= OVERLAP_THRESHOLD)"
   ],
   "outputs": [
    {
     "data": {
      "text/plain": [
       "shape: (9, 2)\n",
       "┌────────────┬──────────────┐\n",
       "│ station_id ┆ overlap_days │\n",
       "│ ---        ┆ ---          │\n",
       "│ str        ┆ i64          │\n",
       "╞════════════╪══════════════╡\n",
       "│ DE_02718   ┆ 1825         │\n",
       "│ DE_01300   ┆ 1825         │\n",
       "│ DE_00390   ┆ 1825         │\n",
       "│ DE_06264   ┆ 1825         │\n",
       "│ DE_04488   ┆ 1613         │\n",
       "│ DE_03215   ┆ 1309         │\n",
       "│ DE_04313   ┆ 1825         │\n",
       "│ DE_00310   ┆ 1825         │\n",
       "│ DE_06303   ┆ 1825         │\n",
       "└────────────┴──────────────┘"
      ],
      "text/html": [
       "<div><style>\n",
       ".dataframe > thead > tr,\n",
       ".dataframe > tbody > tr {\n",
       "  text-align: right;\n",
       "  white-space: pre-wrap;\n",
       "}\n",
       "</style>\n",
       "<small>shape: (9, 2)</small><table border=\"1\" class=\"dataframe\"><thead><tr><th>station_id</th><th>overlap_days</th></tr><tr><td>str</td><td>i64</td></tr></thead><tbody><tr><td>&quot;DE_02718&quot;</td><td>1825</td></tr><tr><td>&quot;DE_01300&quot;</td><td>1825</td></tr><tr><td>&quot;DE_00390&quot;</td><td>1825</td></tr><tr><td>&quot;DE_06264&quot;</td><td>1825</td></tr><tr><td>&quot;DE_04488&quot;</td><td>1613</td></tr><tr><td>&quot;DE_03215&quot;</td><td>1309</td></tr><tr><td>&quot;DE_04313&quot;</td><td>1825</td></tr><tr><td>&quot;DE_00310&quot;</td><td>1825</td></tr><tr><td>&quot;DE_06303&quot;</td><td>1825</td></tr></tbody></table></div>"
      ]
     },
     "execution_count": 24,
     "metadata": {},
     "output_type": "execute_result"
    }
   ],
   "execution_count": 24
  },
  {
   "cell_type": "markdown",
   "id": "9f159f4d",
   "metadata": {},
   "source": [
    "## Part 4. Bring together to get neighbours both close and overlapping"
   ]
  },
  {
   "cell_type": "code",
   "id": "8d2d7eaf",
   "metadata": {
    "ExecuteTime": {
     "end_time": "2025-04-15T13:47:08.775853Z",
     "start_time": "2025-04-15T13:47:08.770983Z"
    }
   },
   "source": [
    "num_closest_gauges = 10  ## based on IntenseQC"
   ],
   "outputs": [],
   "execution_count": 25
  },
  {
   "cell_type": "code",
   "id": "a0e7071a",
   "metadata": {
    "ExecuteTime": {
     "end_time": "2025-04-15T13:47:09.016631Z",
     "start_time": "2025-04-15T13:47:09.010678Z"
    }
   },
   "source": [
    "## Subset based on 50 km\n",
    "close_neighbour_ids = neighbours_distances_df.filter(\n",
    "    (pl.col(\"distances\") <= DISTANCE_THRESHOLD) & (pl.col(\"distances\") != 0)\n",
    ")\n",
    "## closest 10 values\n",
    "closest_neighbour_ids = close_neighbour_ids.sort(\"distances\")[:num_closest_gauges][\n",
    "    \"station_id\"\n",
    "].to_list()\n",
    "\n",
    "## Subset based on 3 years\n",
    "overlapping_neighbour_ids = neighbour_overlap_days_df.filter(\n",
    "    pl.col(\"overlap_days\") >= OVERLAP_THRESHOLD\n",
    ")[\"station_id\"].to_list()"
   ],
   "outputs": [],
   "execution_count": 26
  },
  {
   "cell_type": "code",
   "id": "e1517bff",
   "metadata": {
    "ExecuteTime": {
     "end_time": "2025-04-15T13:47:09.236858Z",
     "start_time": "2025-04-15T13:47:09.228751Z"
    }
   },
   "source": [
    "all_neighbour_ids = set(overlapping_neighbour_ids).intersection(\n",
    "    set(closest_neighbour_ids)\n",
    ")\n",
    "all_neighbour_ids"
   ],
   "outputs": [
    {
     "data": {
      "text/plain": [
       "{'DE_00310',\n",
       " 'DE_00390',\n",
       " 'DE_01300',\n",
       " 'DE_02718',\n",
       " 'DE_03215',\n",
       " 'DE_04313',\n",
       " 'DE_04488',\n",
       " 'DE_06264',\n",
       " 'DE_06303'}"
      ]
     },
     "execution_count": 27,
     "metadata": {},
     "output_type": "execute_result"
    }
   ],
   "execution_count": 27
  },
  {
   "cell_type": "code",
   "id": "9482e133",
   "metadata": {
    "ExecuteTime": {
     "end_time": "2025-04-15T13:47:09.456216Z",
     "start_time": "2025-04-15T13:47:09.450257Z"
    }
   },
   "source": [
    "all_neighbour_ids_paths = {}\n",
    "for id in all_neighbour_ids:\n",
    "    ids_path = glob.glob(f\"{GAUGE_DATA_PATH}/*{id}.txt\")\n",
    "    assert len(ids_path) == 1, f\"There are {len(ids_path)} data files for {id}\"\n",
    "    all_neighbour_ids_paths[id] = ids_path[0]"
   ],
   "outputs": [],
   "execution_count": 28
  },
  {
   "cell_type": "code",
   "id": "07ddf6ac",
   "metadata": {
    "ExecuteTime": {
     "end_time": "2025-04-15T13:47:09.542606Z",
     "start_time": "2025-04-15T13:47:09.532374Z"
    }
   },
   "source": [
    "all_neighbour_ids_paths"
   ],
   "outputs": [
    {
     "data": {
      "text/plain": [
       "{'DE_04313': '../data/gauge_data/DE_04313.txt',\n",
       " 'DE_03215': '../data/gauge_data/DE_03215.txt',\n",
       " 'DE_02718': '../data/gauge_data/DE_02718.txt',\n",
       " 'DE_01300': '../data/gauge_data/DE_01300.txt',\n",
       " 'DE_00390': '../data/gauge_data/DE_00390.txt',\n",
       " 'DE_00310': '../data/gauge_data/DE_00310.txt',\n",
       " 'DE_04488': '../data/gauge_data/DE_04488.txt',\n",
       " 'DE_06303': '../data/gauge_data/DE_06303.txt',\n",
       " 'DE_06264': '../data/gauge_data/DE_06264.txt'}"
      ]
     },
     "execution_count": 29,
     "metadata": {},
     "output_type": "execute_result"
    }
   ],
   "execution_count": 29
  },
  {
   "cell_type": "markdown",
   "id": "7fbabd29",
   "metadata": {},
   "source": [
    "## Part 5. Get neighbouring GDSR gauge by ID (an example)"
   ]
  },
  {
   "cell_type": "code",
   "id": "363a4e5c",
   "metadata": {
    "ExecuteTime": {
     "end_time": "2025-04-15T13:47:09.643218Z",
     "start_time": "2025-04-15T13:47:09.635146Z"
    }
   },
   "source": [
    "def get_neighbouring_gdsr_data(neighbour_gdsr_id, time_multiplying_factor):\n",
    "    data_path = all_neighbour_ids_paths[neighbour_gdsr_id]\n",
    "    station_metadata = all_station_metadata.filter(\n",
    "        pl.col(\"station_id\") == neighbour_gdsr_id\n",
    "    )\n",
    "    assert (\n",
    "        len(station_metadata) == 1\n",
    "    ), f\"There are {len(station_metadata)} metadata values for {neighbour_gdsr_id}. Investigate because there should only be one\"\n",
    "    station_metadata = station_metadata.to_dicts()[0]  ## convert df to a dict\n",
    "\n",
    "    ## Read in gauge data\n",
    "    units = station_metadata[UNIT_COL]\n",
    "    rain_col = f\"rain_{units}\"\n",
    "    gauge_data = pl.read_csv(\n",
    "        data_path, skip_rows=DATA_ROWS_TO_SKIP, schema_overrides={rain_col: pl.Float64}\n",
    "    )\n",
    "\n",
    "    ## make datetime column\n",
    "    gauge_data_w_dates = add_datetime_to_gauge_data(\n",
    "        station_metadata, gauge_data, time_multiplying_factor=time_multiplying_factor\n",
    "    )\n",
    "    gauge_data_w_dates = gauge_data_w_dates.select(\n",
    "        [\"time\", rain_col]\n",
    "    )  ## Reorder (to look nice)\n",
    "\n",
    "    return gauge_data_w_dates"
   ],
   "outputs": [],
   "execution_count": 30
  },
  {
   "cell_type": "code",
   "id": "46235227",
   "metadata": {
    "ExecuteTime": {
     "end_time": "2025-04-15T13:47:09.826089Z",
     "start_time": "2025-04-15T13:47:09.743863Z"
    }
   },
   "source": [
    "get_neighbouring_gdsr_data(\n",
    "    neighbour_gdsr_id=\"DE_06264\", time_multiplying_factor=MULTIPLYING_FACTORS[\"hourly\"]\n",
    ")"
   ],
   "outputs": [
    {
     "data": {
      "text/plain": [
       "shape: (43_824, 2)\n",
       "┌─────────────────────┬─────────┐\n",
       "│ time                ┆ rain_mm │\n",
       "│ ---                 ┆ ---     │\n",
       "│ datetime[μs]        ┆ f64     │\n",
       "╞═════════════════════╪═════════╡\n",
       "│ 2006-01-01 00:00:00 ┆ 0.0     │\n",
       "│ 2006-01-01 01:00:00 ┆ 0.1     │\n",
       "│ 2006-01-01 02:00:00 ┆ 0.0     │\n",
       "│ 2006-01-01 03:00:00 ┆ 0.0     │\n",
       "│ 2006-01-01 04:00:00 ┆ 0.0     │\n",
       "│ …                   ┆ …       │\n",
       "│ 2010-12-31 19:00:00 ┆ 0.0     │\n",
       "│ 2010-12-31 20:00:00 ┆ 0.0     │\n",
       "│ 2010-12-31 21:00:00 ┆ 0.0     │\n",
       "│ 2010-12-31 22:00:00 ┆ 0.0     │\n",
       "│ 2010-12-31 23:00:00 ┆ 0.0     │\n",
       "└─────────────────────┴─────────┘"
      ],
      "text/html": [
       "<div><style>\n",
       ".dataframe > thead > tr,\n",
       ".dataframe > tbody > tr {\n",
       "  text-align: right;\n",
       "  white-space: pre-wrap;\n",
       "}\n",
       "</style>\n",
       "<small>shape: (43_824, 2)</small><table border=\"1\" class=\"dataframe\"><thead><tr><th>time</th><th>rain_mm</th></tr><tr><td>datetime[μs]</td><td>f64</td></tr></thead><tbody><tr><td>2006-01-01 00:00:00</td><td>0.0</td></tr><tr><td>2006-01-01 01:00:00</td><td>0.1</td></tr><tr><td>2006-01-01 02:00:00</td><td>0.0</td></tr><tr><td>2006-01-01 03:00:00</td><td>0.0</td></tr><tr><td>2006-01-01 04:00:00</td><td>0.0</td></tr><tr><td>&hellip;</td><td>&hellip;</td></tr><tr><td>2010-12-31 19:00:00</td><td>0.0</td></tr><tr><td>2010-12-31 20:00:00</td><td>0.0</td></tr><tr><td>2010-12-31 21:00:00</td><td>0.0</td></tr><tr><td>2010-12-31 22:00:00</td><td>0.0</td></tr><tr><td>2010-12-31 23:00:00</td><td>0.0</td></tr></tbody></table></div>"
      ]
     },
     "execution_count": 31,
     "metadata": {},
     "output_type": "execute_result"
    }
   ],
   "execution_count": 31
  },
  {
   "cell_type": "code",
   "id": "872c94c4",
   "metadata": {
    "ExecuteTime": {
     "end_time": "2025-04-15T13:47:09.893251Z",
     "start_time": "2025-04-15T13:47:09.887368Z"
    }
   },
   "source": [],
   "outputs": [],
   "execution_count": null
  },
  {
   "cell_type": "markdown",
   "id": "4feafe1e",
   "metadata": {},
   "source": [
    "## Part 6. Get neighbouring GPCC gauge by ID (an example)\n",
    "\n",
    "#### Note:\n",
    "In the original methodology, GPCC is extracted on the fly\n",
    "\n",
    "Hence, this needs to be refactored"
   ]
  },
  {
   "cell_type": "code",
   "id": "fc05caa4",
   "metadata": {
    "ExecuteTime": {
     "end_time": "2025-04-15T13:47:10.026308Z",
     "start_time": "2025-04-15T13:47:10.023368Z"
    }
   },
   "source": [
    "# TODO: check whether GPCC name is same ID as GDSR i.e. gauge_data ID"
   ],
   "outputs": [],
   "execution_count": 32
  },
  {
   "cell_type": "code",
   "id": "f595c46a",
   "metadata": {
    "ExecuteTime": {
     "end_time": "2025-04-15T13:47:10.209609Z",
     "start_time": "2025-04-15T13:47:10.204249Z"
    }
   },
   "source": [
    "existing_gpcc_daily_paths = {}\n",
    "existing_gpcc_monthly_paths = {}\n",
    "for neighbour_id in all_neighbour_ids_paths.keys():\n",
    "    gpcc_id = neighbour_id.split(\"DE_\")[1].lstrip(\"0\")\n",
    "    existing_gpcc_daily_paths[neighbour_id] = glob.glob(\n",
    "        f\"../data/GPCC/tw_{gpcc_id}.zip\"\n",
    "    )\n",
    "    existing_gpcc_monthly_paths[neighbour_id] = glob.glob(\n",
    "        f\"../data/GPCC/mw_{gpcc_id}.zip\"\n",
    "    )"
   ],
   "outputs": [],
   "execution_count": 33
  },
  {
   "cell_type": "code",
   "id": "3877bc6f",
   "metadata": {
    "ExecuteTime": {
     "end_time": "2025-04-15T13:47:10.313158Z",
     "start_time": "2025-04-15T13:47:10.302697Z"
    }
   },
   "source": [
    "existing_gpcc_daily_paths"
   ],
   "outputs": [
    {
     "data": {
      "text/plain": [
       "{'DE_04313': [],\n",
       " 'DE_03215': ['../data/GPCC/tw_3215.zip'],\n",
       " 'DE_02718': [],\n",
       " 'DE_01300': [],\n",
       " 'DE_00390': [],\n",
       " 'DE_00310': ['../data/GPCC/tw_310.zip'],\n",
       " 'DE_04488': [],\n",
       " 'DE_06303': ['../data/GPCC/tw_6303.zip'],\n",
       " 'DE_06264': []}"
      ]
     },
     "execution_count": 34,
     "metadata": {},
     "output_type": "execute_result"
    }
   ],
   "execution_count": 34
  },
  {
   "cell_type": "code",
   "id": "07bd099b",
   "metadata": {
    "ExecuteTime": {
     "end_time": "2025-04-15T13:47:10.580048Z",
     "start_time": "2025-04-15T13:47:10.426570Z"
    }
   },
   "source": [
    "gpcc_id_to_use = \"DE_00310\"\n",
    "gpcc_id = gpcc_id_to_use.split(\"DE_\")[-1].lstrip(\"0\")  # like 6303\n",
    "example_dat_path = existing_gpcc_daily_paths[gpcc_id_to_use][0]\n",
    "f = zipfile.ZipFile(example_dat_path).open(f\"tw_{gpcc_id}.dat\")\n",
    "example_gpcc = pl.from_pandas(pd.read_csv(f, skiprows=1, header=None, sep=r\"\\s+\"))\n",
    "\n",
    "## drop unnecessary columns\n",
    "example_gpcc = example_gpcc.drop([str(i) for i in range(4, 16)])\n",
    "\n",
    "## make datetime column (apparently it's 7am-7pm)\n",
    "example_gpcc = example_gpcc.with_columns(\n",
    "    pl.datetime(pl.col(\"2\"), pl.col(\"1\"), pl.col(\"0\"), 7).alias(\"time\")\n",
    ").drop([\"0\", \"1\", \"2\"])\n",
    "\n",
    "## rename and reorder\n",
    "example_gpcc = example_gpcc.rename({\"3\": rain_col})\n",
    "example_gpcc = example_gpcc.select([\"time\", rain_col])  ## Reorder (to look nice)\n",
    "\n",
    "example_gpcc"
   ],
   "outputs": [
    {
     "data": {
      "text/plain": [
       "shape: (24_822, 2)\n",
       "┌─────────────────────┬─────────┐\n",
       "│ time                ┆ rain_mm │\n",
       "│ ---                 ┆ ---     │\n",
       "│ datetime[μs]        ┆ f64     │\n",
       "╞═════════════════════╪═════════╡\n",
       "│ 1951-01-01 07:00:00 ┆ 5.2     │\n",
       "│ 1951-01-02 07:00:00 ┆ 10.3    │\n",
       "│ 1951-01-03 07:00:00 ┆ 0.0     │\n",
       "│ 1951-01-04 07:00:00 ┆ 3.7     │\n",
       "│ 1951-01-05 07:00:00 ┆ 3.5     │\n",
       "│ …                   ┆ …       │\n",
       "│ 2018-12-27 07:00:00 ┆ 0.0     │\n",
       "│ 2018-12-28 07:00:00 ┆ 0.2     │\n",
       "│ 2018-12-29 07:00:00 ┆ 6.9     │\n",
       "│ 2018-12-30 07:00:00 ┆ 0.9     │\n",
       "│ 2018-12-31 07:00:00 ┆ 1.4     │\n",
       "└─────────────────────┴─────────┘"
      ],
      "text/html": [
       "<div><style>\n",
       ".dataframe > thead > tr,\n",
       ".dataframe > tbody > tr {\n",
       "  text-align: right;\n",
       "  white-space: pre-wrap;\n",
       "}\n",
       "</style>\n",
       "<small>shape: (24_822, 2)</small><table border=\"1\" class=\"dataframe\"><thead><tr><th>time</th><th>rain_mm</th></tr><tr><td>datetime[μs]</td><td>f64</td></tr></thead><tbody><tr><td>1951-01-01 07:00:00</td><td>5.2</td></tr><tr><td>1951-01-02 07:00:00</td><td>10.3</td></tr><tr><td>1951-01-03 07:00:00</td><td>0.0</td></tr><tr><td>1951-01-04 07:00:00</td><td>3.7</td></tr><tr><td>1951-01-05 07:00:00</td><td>3.5</td></tr><tr><td>&hellip;</td><td>&hellip;</td></tr><tr><td>2018-12-27 07:00:00</td><td>0.0</td></tr><tr><td>2018-12-28 07:00:00</td><td>0.2</td></tr><tr><td>2018-12-29 07:00:00</td><td>6.9</td></tr><tr><td>2018-12-30 07:00:00</td><td>0.9</td></tr><tr><td>2018-12-31 07:00:00</td><td>1.4</td></tr></tbody></table></div>"
      ]
     },
     "execution_count": 35,
     "metadata": {},
     "output_type": "execute_result"
    }
   ],
   "execution_count": 35
  },
  {
   "cell_type": "code",
   "id": "9b3c019f",
   "metadata": {
    "ExecuteTime": {
     "end_time": "2025-04-15T13:47:10.731211Z",
     "start_time": "2025-04-15T13:47:10.723620Z"
    }
   },
   "source": [
    "## resample into daily (also round to 1 decimal place) TODO: check offset='7h' part\n",
    "target_gauge_daily = (\n",
    "    target_gauge.group_by_dynamic(\"time\", every=\"1d\", offset=\"7h\")\n",
    "    .agg(\n",
    "        [\n",
    "            pl.len().alias(\"n_hours\"),\n",
    "            pl.col(rain_col).mean().round(1).alias(rain_col),\n",
    "        ]\n",
    "    )\n",
    "    .filter(pl.col(\"n_hours\") == 24)\n",
    "    .drop(\"n_hours\")\n",
    ")  # Ensure at least 24 data points\n",
    "target_gauge_daily"
   ],
   "outputs": [
    {
     "data": {
      "text/plain": [
       "shape: (1_825, 2)\n",
       "┌─────────────────────┬─────────┐\n",
       "│ time                ┆ rain_mm │\n",
       "│ ---                 ┆ ---     │\n",
       "│ datetime[μs]        ┆ f64     │\n",
       "╞═════════════════════╪═════════╡\n",
       "│ 2006-01-01 07:00:00 ┆ 0.2     │\n",
       "│ 2006-01-02 07:00:00 ┆ 0.0     │\n",
       "│ 2006-01-03 07:00:00 ┆ 0.0     │\n",
       "│ 2006-01-04 07:00:00 ┆ 0.0     │\n",
       "│ 2006-01-05 07:00:00 ┆ 0.0     │\n",
       "│ …                   ┆ …       │\n",
       "│ 2010-12-26 07:00:00 ┆ 0.2     │\n",
       "│ 2010-12-27 07:00:00 ┆ 0.0     │\n",
       "│ 2010-12-28 07:00:00 ┆ 0.0     │\n",
       "│ 2010-12-29 07:00:00 ┆ 0.0     │\n",
       "│ 2010-12-30 07:00:00 ┆ 0.0     │\n",
       "└─────────────────────┴─────────┘"
      ],
      "text/html": [
       "<div><style>\n",
       ".dataframe > thead > tr,\n",
       ".dataframe > tbody > tr {\n",
       "  text-align: right;\n",
       "  white-space: pre-wrap;\n",
       "}\n",
       "</style>\n",
       "<small>shape: (1_825, 2)</small><table border=\"1\" class=\"dataframe\"><thead><tr><th>time</th><th>rain_mm</th></tr><tr><td>datetime[μs]</td><td>f64</td></tr></thead><tbody><tr><td>2006-01-01 07:00:00</td><td>0.2</td></tr><tr><td>2006-01-02 07:00:00</td><td>0.0</td></tr><tr><td>2006-01-03 07:00:00</td><td>0.0</td></tr><tr><td>2006-01-04 07:00:00</td><td>0.0</td></tr><tr><td>2006-01-05 07:00:00</td><td>0.0</td></tr><tr><td>&hellip;</td><td>&hellip;</td></tr><tr><td>2010-12-26 07:00:00</td><td>0.2</td></tr><tr><td>2010-12-27 07:00:00</td><td>0.0</td></tr><tr><td>2010-12-28 07:00:00</td><td>0.0</td></tr><tr><td>2010-12-29 07:00:00</td><td>0.0</td></tr><tr><td>2010-12-30 07:00:00</td><td>0.0</td></tr></tbody></table></div>"
      ]
     },
     "execution_count": 36,
     "metadata": {},
     "output_type": "execute_result"
    }
   ],
   "execution_count": 36
  },
  {
   "cell_type": "code",
   "id": "1d71e3f2",
   "metadata": {
    "ExecuteTime": {
     "end_time": "2025-04-15T13:47:10.970115Z",
     "start_time": "2025-04-15T13:47:10.958499Z"
    }
   },
   "source": [
    "joined_gauges_gpcc = target_gauge_daily.join(\n",
    "    example_gpcc, on=\"time\", suffix=f\"_GPCC_{gpcc_id}\"\n",
    ")\n",
    "joined_gauges_gpcc = joined_gauges_gpcc.drop_nans()\n",
    "joined_gauges_gpcc.head()"
   ],
   "outputs": [
    {
     "data": {
      "text/plain": [
       "shape: (5, 3)\n",
       "┌─────────────────────┬─────────┬──────────────────┐\n",
       "│ time                ┆ rain_mm ┆ rain_mm_GPCC_310 │\n",
       "│ ---                 ┆ ---     ┆ ---              │\n",
       "│ datetime[μs]        ┆ f64     ┆ f64              │\n",
       "╞═════════════════════╪═════════╪══════════════════╡\n",
       "│ 2006-01-01 07:00:00 ┆ 0.2     ┆ 0.2              │\n",
       "│ 2006-01-02 07:00:00 ┆ 0.0     ┆ 0.0              │\n",
       "│ 2006-01-03 07:00:00 ┆ 0.0     ┆ 0.0              │\n",
       "│ 2006-01-04 07:00:00 ┆ 0.0     ┆ 0.0              │\n",
       "│ 2006-01-05 07:00:00 ┆ 0.0     ┆ 0.0              │\n",
       "└─────────────────────┴─────────┴──────────────────┘"
      ],
      "text/html": [
       "<div><style>\n",
       ".dataframe > thead > tr,\n",
       ".dataframe > tbody > tr {\n",
       "  text-align: right;\n",
       "  white-space: pre-wrap;\n",
       "}\n",
       "</style>\n",
       "<small>shape: (5, 3)</small><table border=\"1\" class=\"dataframe\"><thead><tr><th>time</th><th>rain_mm</th><th>rain_mm_GPCC_310</th></tr><tr><td>datetime[μs]</td><td>f64</td><td>f64</td></tr></thead><tbody><tr><td>2006-01-01 07:00:00</td><td>0.2</td><td>0.2</td></tr><tr><td>2006-01-02 07:00:00</td><td>0.0</td><td>0.0</td></tr><tr><td>2006-01-03 07:00:00</td><td>0.0</td><td>0.0</td></tr><tr><td>2006-01-04 07:00:00</td><td>0.0</td><td>0.0</td></tr><tr><td>2006-01-05 07:00:00</td><td>0.0</td><td>0.0</td></tr></tbody></table></div>"
      ]
     },
     "execution_count": 37,
     "metadata": {},
     "output_type": "execute_result"
    }
   ],
   "execution_count": 37
  },
  {
   "cell_type": "markdown",
   "id": "7aa02e4b",
   "metadata": {},
   "source": [
    "## Step 7 Compute factor, affinity index and correlation "
   ]
  },
  {
   "cell_type": "code",
   "id": "0bcde4ad",
   "metadata": {
    "ExecuteTime": {
     "end_time": "2025-04-15T13:47:11.240680Z",
     "start_time": "2025-04-15T13:47:11.231247Z"
    }
   },
   "source": [
    "a = np.around(joined_gauges_gpcc.filter(pl.col(rain_col) >= 0.1).min()[rain_col], 1)[0]\n",
    "b = np.around(\n",
    "    joined_gauges_gpcc.filter(pl.col(f\"{rain_col}_GPCC_{gpcc_id}\") >= 0.1).min()[\n",
    "        f\"{rain_col}_GPCC_{gpcc_id}\"\n",
    "    ],\n",
    "    1,\n",
    ")[0]\n",
    "p = max(a, b, 0.1)\n",
    "print(a, b, p)"
   ],
   "outputs": [
    {
     "name": "stdout",
     "output_type": "stream",
     "text": [
      "0.1 0.1 0.1\n"
     ]
    }
   ],
   "execution_count": 38
  },
  {
   "cell_type": "code",
   "id": "ad3a15da",
   "metadata": {
    "ExecuteTime": {
     "end_time": "2025-04-15T13:47:11.502304Z",
     "start_time": "2025-04-15T13:47:11.492983Z"
    }
   },
   "source": [
    "joined_gauges_gpcc_duplicates = joined_gauges_gpcc.with_columns(\n",
    "    pl.when((pl.col(rain_col) > p) & (pl.col(f\"{rain_col}_GPCC_{gpcc_id}\") > p))\n",
    "    .then(1)\n",
    "    .when(\n",
    "        (pl.col(rain_col) == p) & (pl.col(f\"{rain_col}_GPCC_{gpcc_id}\") == p),\n",
    "    )\n",
    "    .then(1)\n",
    "    .when(\n",
    "        (pl.col(rain_col) == p) & (pl.col(f\"{rain_col}_GPCC_{gpcc_id}\") > p),\n",
    "    )\n",
    "    .then(0)\n",
    "    .when((pl.col(rain_col) > p) & (pl.col(f\"{rain_col}_GPCC_{gpcc_id}\") == p))\n",
    "    .then(0)\n",
    "    .otherwise(np.nan)\n",
    "    .alias(\"duplicate\")\n",
    ")\n",
    "\n",
    "joined_gauges_gpcc = joined_gauges_gpcc.with_columns(\n",
    "    pl.when((pl.col(rain_col) > 0) & (pl.col(f\"{rain_col}_GPCC_{gpcc_id}\") > 0))\n",
    "    .then(pl.col(rain_col) / pl.col(f\"{rain_col}_GPCC_{gpcc_id}\"))\n",
    "    .otherwise(np.nan)\n",
    "    .alias(\"factor\")\n",
    ")\n",
    "joined_gauges_gpcc"
   ],
   "outputs": [
    {
     "data": {
      "text/plain": [
       "shape: (1_760, 4)\n",
       "┌─────────────────────┬─────────┬──────────────────┬──────────┐\n",
       "│ time                ┆ rain_mm ┆ rain_mm_GPCC_310 ┆ factor   │\n",
       "│ ---                 ┆ ---     ┆ ---              ┆ ---      │\n",
       "│ datetime[μs]        ┆ f64     ┆ f64              ┆ f64      │\n",
       "╞═════════════════════╪═════════╪══════════════════╪══════════╡\n",
       "│ 2006-01-01 07:00:00 ┆ 0.2     ┆ 0.2              ┆ 1.0      │\n",
       "│ 2006-01-02 07:00:00 ┆ 0.0     ┆ 0.0              ┆ NaN      │\n",
       "│ 2006-01-03 07:00:00 ┆ 0.0     ┆ 0.0              ┆ NaN      │\n",
       "│ 2006-01-04 07:00:00 ┆ 0.0     ┆ 0.0              ┆ NaN      │\n",
       "│ 2006-01-05 07:00:00 ┆ 0.0     ┆ 0.0              ┆ NaN      │\n",
       "│ …                   ┆ …       ┆ …                ┆ …        │\n",
       "│ 2010-12-26 07:00:00 ┆ 0.2     ┆ 2.9              ┆ 0.068966 │\n",
       "│ 2010-12-27 07:00:00 ┆ 0.0     ┆ 0.2              ┆ NaN      │\n",
       "│ 2010-12-28 07:00:00 ┆ 0.0     ┆ 0.0              ┆ NaN      │\n",
       "│ 2010-12-29 07:00:00 ┆ 0.0     ┆ 0.0              ┆ NaN      │\n",
       "│ 2010-12-30 07:00:00 ┆ 0.0     ┆ 0.0              ┆ NaN      │\n",
       "└─────────────────────┴─────────┴──────────────────┴──────────┘"
      ],
      "text/html": [
       "<div><style>\n",
       ".dataframe > thead > tr,\n",
       ".dataframe > tbody > tr {\n",
       "  text-align: right;\n",
       "  white-space: pre-wrap;\n",
       "}\n",
       "</style>\n",
       "<small>shape: (1_760, 4)</small><table border=\"1\" class=\"dataframe\"><thead><tr><th>time</th><th>rain_mm</th><th>rain_mm_GPCC_310</th><th>factor</th></tr><tr><td>datetime[μs]</td><td>f64</td><td>f64</td><td>f64</td></tr></thead><tbody><tr><td>2006-01-01 07:00:00</td><td>0.2</td><td>0.2</td><td>1.0</td></tr><tr><td>2006-01-02 07:00:00</td><td>0.0</td><td>0.0</td><td>NaN</td></tr><tr><td>2006-01-03 07:00:00</td><td>0.0</td><td>0.0</td><td>NaN</td></tr><tr><td>2006-01-04 07:00:00</td><td>0.0</td><td>0.0</td><td>NaN</td></tr><tr><td>2006-01-05 07:00:00</td><td>0.0</td><td>0.0</td><td>NaN</td></tr><tr><td>&hellip;</td><td>&hellip;</td><td>&hellip;</td><td>&hellip;</td></tr><tr><td>2010-12-26 07:00:00</td><td>0.2</td><td>2.9</td><td>0.068966</td></tr><tr><td>2010-12-27 07:00:00</td><td>0.0</td><td>0.2</td><td>NaN</td></tr><tr><td>2010-12-28 07:00:00</td><td>0.0</td><td>0.0</td><td>NaN</td></tr><tr><td>2010-12-29 07:00:00</td><td>0.0</td><td>0.0</td><td>NaN</td></tr><tr><td>2010-12-30 07:00:00</td><td>0.0</td><td>0.0</td><td>NaN</td></tr></tbody></table></div>"
      ]
     },
     "execution_count": 39,
     "metadata": {},
     "output_type": "execute_result"
    }
   ],
   "execution_count": 39
  },
  {
   "cell_type": "code",
   "id": "3b238361",
   "metadata": {
    "ExecuteTime": {
     "end_time": "2025-04-15T13:47:12.023740Z",
     "start_time": "2025-04-15T13:47:12.011263Z"
    }
   },
   "source": [
    "match = (\n",
    "    joined_gauges_gpcc_duplicates[\"duplicate\"]\n",
    "    .value_counts()\n",
    "    .filter(pl.col(\"duplicate\") == 1)[\"count\"]\n",
    "    .item()\n",
    ")\n",
    "diff = (\n",
    "    joined_gauges_gpcc_duplicates[\"duplicate\"]\n",
    "    .value_counts()\n",
    "    .filter(pl.col(\"duplicate\") == 0)[\"count\"]\n",
    "    .item()\n",
    ")\n",
    "perc = match / (match + diff)\n",
    "p_corr = np.corrcoef(\n",
    "    joined_gauges_gpcc[rain_col], joined_gauges_gpcc[f\"{rain_col}_GPCC_{gpcc_id}\"]\n",
    ")[0, 1]\n",
    "f_mean = joined_gauges_gpcc[\"factor\"].drop_nans().mean()\n",
    "print(f\"diff: {diff}, match:{match}\")\n",
    "print(f\"affinity: {perc}, p_corr: {p_corr}, f_mean: {f_mean}\")"
   ],
   "outputs": [
    {
     "name": "stdout",
     "output_type": "stream",
     "text": [
      "diff: 157, match:540\n",
      "affinity: 0.7747489239598279, p_corr: 0.011471497096547798, f_mean: 0.17114986225908063\n"
     ]
    }
   ],
   "execution_count": 40
  },
  {
   "cell_type": "markdown",
   "id": "e6a201cf",
   "metadata": {},
   "source": [
    "## Part 8 Compare target with neighbour (hourly and daily)\n",
    "- For hourly data, the data is first converted to daily to do comparison\n",
    "\n",
    "_Output:_ df with long list of neighbour columns and flags\n",
    "\n",
    "Works by computing differences from target and each of its neighbours then collates all those differences and associated difference flags into a single flag/column that describes how similar target is from neighbours\n"
   ]
  },
  {
   "cell_type": "code",
   "id": "c2ced7cf",
   "metadata": {
    "ExecuteTime": {
     "end_time": "2025-04-15T13:47:12.358372Z",
     "start_time": "2025-04-15T13:47:12.349423Z"
    }
   },
   "source": [
    "gpcc_id_to_use = \"DE_00310\"\n",
    "gpcc_id = gpcc_id_to_use.split(\"DE_\")[-1].lstrip(\"0\")  # like 6303"
   ],
   "outputs": [],
   "execution_count": 41
  },
  {
   "cell_type": "code",
   "id": "3fead6b3",
   "metadata": {
    "ExecuteTime": {
     "end_time": "2025-04-15T13:47:12.601445Z",
     "start_time": "2025-04-15T13:47:12.591392Z"
    }
   },
   "source": [
    "joined_gauges_gpcc = target_gauge_daily.join(\n",
    "    example_gpcc, on=\"time\", suffix=f\"_GPCC_{gpcc_id}\"\n",
    ")\n",
    "joined_gauges_gpcc = joined_gauges_gpcc.drop_nans()\n",
    "joined_gauges_gpcc.head()"
   ],
   "outputs": [
    {
     "data": {
      "text/plain": [
       "shape: (5, 3)\n",
       "┌─────────────────────┬─────────┬──────────────────┐\n",
       "│ time                ┆ rain_mm ┆ rain_mm_GPCC_310 │\n",
       "│ ---                 ┆ ---     ┆ ---              │\n",
       "│ datetime[μs]        ┆ f64     ┆ f64              │\n",
       "╞═════════════════════╪═════════╪══════════════════╡\n",
       "│ 2006-01-01 07:00:00 ┆ 0.2     ┆ 0.2              │\n",
       "│ 2006-01-02 07:00:00 ┆ 0.0     ┆ 0.0              │\n",
       "│ 2006-01-03 07:00:00 ┆ 0.0     ┆ 0.0              │\n",
       "│ 2006-01-04 07:00:00 ┆ 0.0     ┆ 0.0              │\n",
       "│ 2006-01-05 07:00:00 ┆ 0.0     ┆ 0.0              │\n",
       "└─────────────────────┴─────────┴──────────────────┘"
      ],
      "text/html": [
       "<div><style>\n",
       ".dataframe > thead > tr,\n",
       ".dataframe > tbody > tr {\n",
       "  text-align: right;\n",
       "  white-space: pre-wrap;\n",
       "}\n",
       "</style>\n",
       "<small>shape: (5, 3)</small><table border=\"1\" class=\"dataframe\"><thead><tr><th>time</th><th>rain_mm</th><th>rain_mm_GPCC_310</th></tr><tr><td>datetime[μs]</td><td>f64</td><td>f64</td></tr></thead><tbody><tr><td>2006-01-01 07:00:00</td><td>0.2</td><td>0.2</td></tr><tr><td>2006-01-02 07:00:00</td><td>0.0</td><td>0.0</td></tr><tr><td>2006-01-03 07:00:00</td><td>0.0</td><td>0.0</td></tr><tr><td>2006-01-04 07:00:00</td><td>0.0</td><td>0.0</td></tr><tr><td>2006-01-05 07:00:00</td><td>0.0</td><td>0.0</td></tr></tbody></table></div>"
      ]
     },
     "execution_count": 42,
     "metadata": {},
     "output_type": "execute_result"
    }
   ],
   "execution_count": 42
  },
  {
   "cell_type": "markdown",
   "id": "46ac9d9c",
   "metadata": {},
   "source": [
    "## Part 8.1 Wet neighbours\n",
    "- This is normalised difference\n",
    "TODO: Problem that there is not enough data which is wetter in the target than in the GPCC neighbour"
   ]
  },
  {
   "cell_type": "code",
   "id": "0d887356",
   "metadata": {
    "ExecuteTime": {
     "end_time": "2025-04-15T13:47:12.853368Z",
     "start_time": "2025-04-15T13:47:12.845948Z"
    }
   },
   "source": [
    "def normalise_data(data):\n",
    "    return (data - data.min()) / (data.max() - data.min())"
   ],
   "outputs": [],
   "execution_count": 43
  },
  {
   "cell_type": "code",
   "id": "8d4625ff",
   "metadata": {
    "ExecuteTime": {
     "end_time": "2025-04-15T13:47:12.996563Z",
     "start_time": "2025-04-15T13:47:12.986628Z"
    }
   },
   "source": [
    "joined_gauges_gpcc_normalised_diff = joined_gauges_gpcc.with_columns(\n",
    "    # get normalised difference between target and neighbour\n",
    "    rain_mm_normalised_diff=normalise_data(pl.col(f\"{rain_col}\"))\n",
    "    - normalise_data(pl.col(f\"{rain_col}_GPCC_{gpcc_id}\"))\n",
    ")"
   ],
   "outputs": [],
   "execution_count": 44
  },
  {
   "cell_type": "code",
   "id": "bcf88685",
   "metadata": {
    "ExecuteTime": {
     "end_time": "2025-04-15T13:47:13.125647Z",
     "start_time": "2025-04-15T13:47:13.122246Z"
    }
   },
   "source": [
    "WET_THRESHOLD = 0.3  # default in original methodology is 1\n",
    "joined_gauges_gpcc_normalised_diff_filtered = joined_gauges_gpcc_normalised_diff.filter(\n",
    "    (pl.col(f\"{rain_col}\") >= WET_THRESHOLD)\n",
    "    & (pl.col(f\"{rain_col}\").is_finite())\n",
    "    & (pl.col(f\"{rain_col}_GPCC_{gpcc_id}\").is_finite())\n",
    "    & (pl.col(f\"{rain_col}_normalised_diff\") > 0.0)\n",
    ")"
   ],
   "outputs": [],
   "execution_count": 45
  },
  {
   "cell_type": "code",
   "id": "0611abff",
   "metadata": {
    "ExecuteTime": {
     "end_time": "2025-04-15T13:47:13.381438Z",
     "start_time": "2025-04-15T13:47:13.367165Z"
    }
   },
   "source": [
    "joined_gauges_gpcc_normalised_diff_filtered"
   ],
   "outputs": [
    {
     "data": {
      "text/plain": [
       "shape: (18, 4)\n",
       "┌─────────────────────┬─────────┬──────────────────┬─────────────────────────┐\n",
       "│ time                ┆ rain_mm ┆ rain_mm_GPCC_310 ┆ rain_mm_normalised_diff │\n",
       "│ ---                 ┆ ---     ┆ ---              ┆ ---                     │\n",
       "│ datetime[μs]        ┆ f64     ┆ f64              ┆ f64                     │\n",
       "╞═════════════════════╪═════════╪══════════════════╪═════════════════════════╡\n",
       "│ 2006-04-25 07:00:00 ┆ 0.3     ┆ 0.0              ┆ 0.000941                │\n",
       "│ 2006-05-13 07:00:00 ┆ 0.3     ┆ 0.0              ┆ 0.000941                │\n",
       "│ 2006-12-23 07:00:00 ┆ 112.5   ┆ 0.0              ┆ 0.352886                │\n",
       "│ 2006-12-24 07:00:00 ┆ 318.8   ┆ 0.0              ┆ 1.0                     │\n",
       "│ 2007-03-16 07:00:00 ┆ 3.1     ┆ 0.0              ┆ 0.009724                │\n",
       "│ …                   ┆ …       ┆ …                ┆ …                       │\n",
       "│ 2009-11-06 07:00:00 ┆ 9.8     ┆ 0.9              ┆ 0.015486                │\n",
       "│ 2009-11-18 07:00:00 ┆ 1.2     ┆ 0.0              ┆ 0.003764                │\n",
       "│ 2009-11-19 07:00:00 ┆ 0.8     ┆ 0.0              ┆ 0.002509                │\n",
       "│ 2010-08-09 07:00:00 ┆ 1.3     ┆ 0.0              ┆ 0.004078                │\n",
       "│ 2010-08-13 07:00:00 ┆ 0.8     ┆ 0.0              ┆ 0.002509                │\n",
       "└─────────────────────┴─────────┴──────────────────┴─────────────────────────┘"
      ],
      "text/html": [
       "<div><style>\n",
       ".dataframe > thead > tr,\n",
       ".dataframe > tbody > tr {\n",
       "  text-align: right;\n",
       "  white-space: pre-wrap;\n",
       "}\n",
       "</style>\n",
       "<small>shape: (18, 4)</small><table border=\"1\" class=\"dataframe\"><thead><tr><th>time</th><th>rain_mm</th><th>rain_mm_GPCC_310</th><th>rain_mm_normalised_diff</th></tr><tr><td>datetime[μs]</td><td>f64</td><td>f64</td><td>f64</td></tr></thead><tbody><tr><td>2006-04-25 07:00:00</td><td>0.3</td><td>0.0</td><td>0.000941</td></tr><tr><td>2006-05-13 07:00:00</td><td>0.3</td><td>0.0</td><td>0.000941</td></tr><tr><td>2006-12-23 07:00:00</td><td>112.5</td><td>0.0</td><td>0.352886</td></tr><tr><td>2006-12-24 07:00:00</td><td>318.8</td><td>0.0</td><td>1.0</td></tr><tr><td>2007-03-16 07:00:00</td><td>3.1</td><td>0.0</td><td>0.009724</td></tr><tr><td>&hellip;</td><td>&hellip;</td><td>&hellip;</td><td>&hellip;</td></tr><tr><td>2009-11-06 07:00:00</td><td>9.8</td><td>0.9</td><td>0.015486</td></tr><tr><td>2009-11-18 07:00:00</td><td>1.2</td><td>0.0</td><td>0.003764</td></tr><tr><td>2009-11-19 07:00:00</td><td>0.8</td><td>0.0</td><td>0.002509</td></tr><tr><td>2010-08-09 07:00:00</td><td>1.3</td><td>0.0</td><td>0.004078</td></tr><tr><td>2010-08-13 07:00:00</td><td>0.8</td><td>0.0</td><td>0.002509</td></tr></tbody></table></div>"
      ]
     },
     "execution_count": 46,
     "metadata": {},
     "output_type": "execute_result"
    }
   ],
   "execution_count": 46
  },
  {
   "cell_type": "code",
   "id": "757b30d3",
   "metadata": {
    "ExecuteTime": {
     "end_time": "2025-04-15T13:47:13.579166Z",
     "start_time": "2025-04-15T13:47:13.573144Z"
    }
   },
   "source": [
    "if not len(joined_gauges_gpcc_normalised_diff_filtered) >= 30:\n",
    "    print(\n",
    "        \"Original methodology needs there to be at least 30 values to fit exponential function\"\n",
    "    )"
   ],
   "outputs": [
    {
     "name": "stdout",
     "output_type": "stream",
     "text": [
      "Original methodology needs there to be at least 30 values to fit exponential function\n"
     ]
    }
   ],
   "execution_count": 47
  },
  {
   "cell_type": "code",
   "id": "fae4decf",
   "metadata": {
    "ExecuteTime": {
     "end_time": "2025-04-15T13:47:13.824303Z",
     "start_time": "2025-04-15T13:47:13.820053Z"
    }
   },
   "source": [
    "expon_params = scipy.stats.expon.fit(\n",
    "    joined_gauges_gpcc_normalised_diff_filtered[f\"{rain_col}_normalised_diff\"]\n",
    ")"
   ],
   "outputs": [],
   "execution_count": 48
  },
  {
   "cell_type": "code",
   "id": "e1e547b7",
   "metadata": {
    "ExecuteTime": {
     "end_time": "2025-04-15T13:47:13.980491Z",
     "start_time": "2025-04-15T13:47:13.975690Z"
    }
   },
   "source": [
    "# Calculate thresholds at key percentiles of fitted distribution\n",
    "q95 = scipy.stats.expon.ppf(0.95, expon_params[0], expon_params[1])\n",
    "q99 = scipy.stats.expon.ppf(0.99, expon_params[0], expon_params[1])\n",
    "q999 = scipy.stats.expon.ppf(0.999, expon_params[0], expon_params[1])\n",
    "\n",
    "q95, q99, q999"
   ],
   "outputs": [
    {
     "data": {
      "text/plain": [
       "(np.float64(0.3444910378117832),\n",
       " np.float64(0.5294660929815043),\n",
       " np.float64(0.7941055682411567))"
      ]
     },
     "execution_count": 49,
     "metadata": {},
     "output_type": "execute_result"
    }
   ],
   "execution_count": 49
  },
  {
   "cell_type": "code",
   "id": "6ce769f6",
   "metadata": {
    "ExecuteTime": {
     "end_time": "2025-04-15T13:47:14.144746Z",
     "start_time": "2025-04-15T13:47:14.139648Z"
    }
   },
   "source": [
    "## Assign flags\n",
    "joined_gauges_gpcc_normalised_wet_flags = (\n",
    "    joined_gauges_gpcc_normalised_diff.with_columns(\n",
    "        pl.when(\n",
    "            (pl.col(rain_col) >= 1.0) & (pl.col(f\"{rain_col}_normalised_diff\") <= q95)\n",
    "        )\n",
    "        .then(0)\n",
    "        .when(\n",
    "            (pl.col(rain_col) >= 1.0)\n",
    "            & (pl.col(f\"{rain_col}_normalised_diff\") > q95)\n",
    "            & (pl.col(f\"{rain_col}_normalised_diff\") <= q99),\n",
    "        )\n",
    "        .then(1)\n",
    "        .when(\n",
    "            (pl.col(rain_col) >= 1.0)\n",
    "            & (pl.col(f\"{rain_col}_normalised_diff\") > q99)\n",
    "            & (pl.col(f\"{rain_col}_normalised_diff\") <= q999),\n",
    "        )\n",
    "        .then(2)\n",
    "        .when((pl.col(rain_col) >= 1.0) & (pl.col(f\"{rain_col}_normalised_diff\") > q95))\n",
    "        .then(3)\n",
    "        .otherwise(0)\n",
    "        .alias(\"wet_flags\")\n",
    "    )\n",
    ")"
   ],
   "outputs": [],
   "execution_count": 50
  },
  {
   "cell_type": "code",
   "id": "12c34376",
   "metadata": {
    "ExecuteTime": {
     "end_time": "2025-04-15T13:47:14.285124Z",
     "start_time": "2025-04-15T13:47:14.279424Z"
    }
   },
   "source": [
    "joined_gauges_gpcc_normalised_wet_flags[\"wet_flags\"].value_counts()"
   ],
   "outputs": [
    {
     "data": {
      "text/plain": [
       "shape: (4, 2)\n",
       "┌───────────┬───────┐\n",
       "│ wet_flags ┆ count │\n",
       "│ ---       ┆ ---   │\n",
       "│ i32       ┆ u32   │\n",
       "╞═══════════╪═══════╡\n",
       "│ 1         ┆ 1     │\n",
       "│ 0         ┆ 1757  │\n",
       "│ 2         ┆ 1     │\n",
       "│ 3         ┆ 1     │\n",
       "└───────────┴───────┘"
      ],
      "text/html": [
       "<div><style>\n",
       ".dataframe > thead > tr,\n",
       ".dataframe > tbody > tr {\n",
       "  text-align: right;\n",
       "  white-space: pre-wrap;\n",
       "}\n",
       "</style>\n",
       "<small>shape: (4, 2)</small><table border=\"1\" class=\"dataframe\"><thead><tr><th>wet_flags</th><th>count</th></tr><tr><td>i32</td><td>u32</td></tr></thead><tbody><tr><td>1</td><td>1</td></tr><tr><td>0</td><td>1757</td></tr><tr><td>2</td><td>1</td></tr><tr><td>3</td><td>1</td></tr></tbody></table></div>"
      ]
     },
     "execution_count": 51,
     "metadata": {},
     "output_type": "execute_result"
    }
   ],
   "execution_count": 51
  },
  {
   "cell_type": "markdown",
   "id": "776dea03",
   "metadata": {},
   "source": "## Part 8.2 Dry neighbours"
  },
  {
   "cell_type": "code",
   "id": "9006e520",
   "metadata": {
    "ExecuteTime": {
     "end_time": "2025-04-15T13:47:14.455148Z",
     "start_time": "2025-04-15T13:47:14.449183Z"
    }
   },
   "source": [
    "DRY_PERIOD_DAYS = 15\n",
    "gpcc_col_name = f\"{rain_col}_GPCC_{gpcc_id}\""
   ],
   "outputs": [],
   "execution_count": 52
  },
  {
   "cell_type": "code",
   "id": "b20a14dc",
   "metadata": {
    "ExecuteTime": {
     "end_time": "2025-04-15T13:47:14.633435Z",
     "start_time": "2025-04-15T13:47:14.619229Z"
    }
   },
   "source": "joined_gauges_gpcc.head()",
   "outputs": [
    {
     "data": {
      "text/plain": [
       "shape: (5, 3)\n",
       "┌─────────────────────┬─────────┬──────────────────┐\n",
       "│ time                ┆ rain_mm ┆ rain_mm_GPCC_310 │\n",
       "│ ---                 ┆ ---     ┆ ---              │\n",
       "│ datetime[μs]        ┆ f64     ┆ f64              │\n",
       "╞═════════════════════╪═════════╪══════════════════╡\n",
       "│ 2006-01-01 07:00:00 ┆ 0.2     ┆ 0.2              │\n",
       "│ 2006-01-02 07:00:00 ┆ 0.0     ┆ 0.0              │\n",
       "│ 2006-01-03 07:00:00 ┆ 0.0     ┆ 0.0              │\n",
       "│ 2006-01-04 07:00:00 ┆ 0.0     ┆ 0.0              │\n",
       "│ 2006-01-05 07:00:00 ┆ 0.0     ┆ 0.0              │\n",
       "└─────────────────────┴─────────┴──────────────────┘"
      ],
      "text/html": [
       "<div><style>\n",
       ".dataframe > thead > tr,\n",
       ".dataframe > tbody > tr {\n",
       "  text-align: right;\n",
       "  white-space: pre-wrap;\n",
       "}\n",
       "</style>\n",
       "<small>shape: (5, 3)</small><table border=\"1\" class=\"dataframe\"><thead><tr><th>time</th><th>rain_mm</th><th>rain_mm_GPCC_310</th></tr><tr><td>datetime[μs]</td><td>f64</td><td>f64</td></tr></thead><tbody><tr><td>2006-01-01 07:00:00</td><td>0.2</td><td>0.2</td></tr><tr><td>2006-01-02 07:00:00</td><td>0.0</td><td>0.0</td></tr><tr><td>2006-01-03 07:00:00</td><td>0.0</td><td>0.0</td></tr><tr><td>2006-01-04 07:00:00</td><td>0.0</td><td>0.0</td></tr><tr><td>2006-01-05 07:00:00</td><td>0.0</td><td>0.0</td></tr></tbody></table></div>"
      ]
     },
     "execution_count": 53,
     "metadata": {},
     "output_type": "execute_result"
    }
   ],
   "execution_count": 53
  },
  {
   "metadata": {
    "ExecuteTime": {
     "end_time": "2025-04-15T13:47:14.775156Z",
     "start_time": "2025-04-15T13:47:14.771134Z"
    }
   },
   "cell_type": "code",
   "source": [
    "## TODO: This might use preexisting code, as this code is essentially looking for dry periods\n",
    "def convert_to_dry_spell(rain_daily, dry_period_days, col_name):\n",
    "    ## Convert to polars dataframe to use 'with_columns'\n",
    "    if not isinstance(rain_daily, pl.DataFrame):\n",
    "        rain_daily = rain_daily.to_frame()\n",
    "\n",
    "    ## make dry day column\n",
    "    rain_daily_dry_day = add_dry_day_col(rain_daily, col_name)\n",
    "    rain_daily_dry_day = rain_daily_dry_day.with_columns(\n",
    "        dry_spell_fraction=pl.col(\"dry_day\").rolling_sum(\n",
    "            window_size=dry_period_days, min_samples=dry_period_days\n",
    "        )\n",
    "        / dry_period_days\n",
    "    )\n",
    "    return rain_daily_dry_day[\"dry_spell_fraction\"]\n",
    "\n",
    "\n",
    "def add_dry_day_col(rain_daily, col_name):\n",
    "    rain_daily_dry_day = rain_daily.with_columns(\n",
    "        (pl.col(col_name) == 0).cast(pl.Int8()).alias(\"dry_day\")\n",
    "    )\n",
    "    return rain_daily_dry_day"
   ],
   "id": "90156273",
   "outputs": [],
   "execution_count": 54
  },
  {
   "metadata": {
    "ExecuteTime": {
     "end_time": "2025-04-15T13:47:14.937492Z",
     "start_time": "2025-04-15T13:47:14.927797Z"
    }
   },
   "cell_type": "code",
   "source": [
    "joined_gauges_gpcc_dry_spell = (\n",
    "    joined_gauges_gpcc.with_columns(\n",
    "        pl.col(rain_col)\n",
    "        .map_batches(\n",
    "            lambda row: convert_to_dry_spell(row, DRY_PERIOD_DAYS, col_name=rain_col)\n",
    "        )\n",
    "        .alias(\"dry_spell_fraction\"),\n",
    "        pl.col(gpcc_col_name)\n",
    "        .map_batches(\n",
    "            lambda row: convert_to_dry_spell(\n",
    "                row, DRY_PERIOD_DAYS, col_name=gpcc_col_name\n",
    "            )\n",
    "        )\n",
    "        .alias(f\"dry_spell_fraction_{gpcc_id}\"),\n",
    "    )\n",
    ")"
   ],
   "id": "cd44faf3",
   "outputs": [],
   "execution_count": 55
  },
  {
   "cell_type": "code",
   "id": "7afd661d",
   "metadata": {
    "ExecuteTime": {
     "end_time": "2025-04-15T13:47:15.116335Z",
     "start_time": "2025-04-15T13:47:15.107317Z"
    }
   },
   "source": "joined_gauges_gpcc_dry_spell.head()",
   "outputs": [
    {
     "data": {
      "text/plain": [
       "shape: (5, 5)\n",
       "┌─────────────────────┬─────────┬──────────────────┬────────────────────┬────────────────────────┐\n",
       "│ time                ┆ rain_mm ┆ rain_mm_GPCC_310 ┆ dry_spell_fraction ┆ dry_spell_fraction_310 │\n",
       "│ ---                 ┆ ---     ┆ ---              ┆ ---                ┆ ---                    │\n",
       "│ datetime[μs]        ┆ f64     ┆ f64              ┆ f64                ┆ f64                    │\n",
       "╞═════════════════════╪═════════╪══════════════════╪════════════════════╪════════════════════════╡\n",
       "│ 2006-01-01 07:00:00 ┆ 0.2     ┆ 0.2              ┆ null               ┆ null                   │\n",
       "│ 2006-01-02 07:00:00 ┆ 0.0     ┆ 0.0              ┆ null               ┆ null                   │\n",
       "│ 2006-01-03 07:00:00 ┆ 0.0     ┆ 0.0              ┆ null               ┆ null                   │\n",
       "│ 2006-01-04 07:00:00 ┆ 0.0     ┆ 0.0              ┆ null               ┆ null                   │\n",
       "│ 2006-01-05 07:00:00 ┆ 0.0     ┆ 0.0              ┆ null               ┆ null                   │\n",
       "└─────────────────────┴─────────┴──────────────────┴────────────────────┴────────────────────────┘"
      ],
      "text/html": [
       "<div><style>\n",
       ".dataframe > thead > tr,\n",
       ".dataframe > tbody > tr {\n",
       "  text-align: right;\n",
       "  white-space: pre-wrap;\n",
       "}\n",
       "</style>\n",
       "<small>shape: (5, 5)</small><table border=\"1\" class=\"dataframe\"><thead><tr><th>time</th><th>rain_mm</th><th>rain_mm_GPCC_310</th><th>dry_spell_fraction</th><th>dry_spell_fraction_310</th></tr><tr><td>datetime[μs]</td><td>f64</td><td>f64</td><td>f64</td><td>f64</td></tr></thead><tbody><tr><td>2006-01-01 07:00:00</td><td>0.2</td><td>0.2</td><td>null</td><td>null</td></tr><tr><td>2006-01-02 07:00:00</td><td>0.0</td><td>0.0</td><td>null</td><td>null</td></tr><tr><td>2006-01-03 07:00:00</td><td>0.0</td><td>0.0</td><td>null</td><td>null</td></tr><tr><td>2006-01-04 07:00:00</td><td>0.0</td><td>0.0</td><td>null</td><td>null</td></tr><tr><td>2006-01-05 07:00:00</td><td>0.0</td><td>0.0</td><td>null</td><td>null</td></tr></tbody></table></div>"
      ]
     },
     "execution_count": 56,
     "metadata": {},
     "output_type": "execute_result"
    }
   ],
   "execution_count": 56
  },
  {
   "cell_type": "code",
   "id": "d1303aa3",
   "metadata": {
    "ExecuteTime": {
     "end_time": "2025-04-15T13:47:15.304481Z",
     "start_time": "2025-04-15T13:47:15.294130Z"
    }
   },
   "source": [
    "## TODO: why have this part?\n",
    "## consider only whether dry 15-day periods are corrobated as dry by neighbours\n",
    "## dry flag works on the basis of fraction of dry days within 15-day\n",
    "## check based on whether 0, 1, 2 or >= 3 wet days are recorded at the neighbour when the target is dry over the 15-day period\n",
    "## truncating these fractions to 2 dp below and manipulating equalities to work with these fractions, but could work in days not fractions if change the convertToDrySpell function\n",
    "dry_period = DRY_PERIOD_DAYS\n",
    "fraction_drydays = {}\n",
    "for d in range(1, 3 + 1):\n",
    "    fraction_drydays[str(d)] = np.trunc((1.0 - (float(d) / dry_period)) * 10**2) / (\n",
    "        10**2\n",
    "    )\n",
    "\n",
    "fraction_drydays  # moving window, so 1 = all dry, 0 = all wet"
   ],
   "outputs": [
    {
     "data": {
      "text/plain": [
       "{'1': np.float64(0.93), '2': np.float64(0.86), '3': np.float64(0.8)}"
      ]
     },
     "execution_count": 57,
     "metadata": {},
     "output_type": "execute_result"
    }
   ],
   "execution_count": 57
  },
  {
   "cell_type": "code",
   "id": "8a851837",
   "metadata": {
    "ExecuteTime": {
     "end_time": "2025-04-15T13:47:15.635736Z",
     "start_time": "2025-04-15T13:47:15.624151Z"
    }
   },
   "source": [
    "## Assign flags\n",
    "joined_gauges_gpcc_dry_flags = (\n",
    "    joined_gauges_gpcc_dry_spell.with_columns(\n",
    "        pl.when(\n",
    "            (pl.col(\"dry_spell_fraction\") == 1.0)\n",
    "            & (pl.col(f\"dry_spell_fraction_{gpcc_id}\") == 1.0)\n",
    "        )\n",
    "        .then(0)\n",
    "        .when(\n",
    "            (pl.col(\"dry_spell_fraction\") == 1.0)\n",
    "            & (pl.col(f\"dry_spell_fraction_{gpcc_id}\") < 1.0)\n",
    "            & (pl.col(f\"dry_spell_fraction_{gpcc_id}\") >= fraction_drydays[\"1\"]),\n",
    "        )\n",
    "        .then(1)\n",
    "        .when(\n",
    "            (pl.col(\"dry_spell_fraction\") == 1.0)\n",
    "            & (pl.col(f\"dry_spell_fraction_{gpcc_id}\") < fraction_drydays[\"1\"])\n",
    "            & (pl.col(f\"dry_spell_fraction_{gpcc_id}\") >= fraction_drydays[\"2\"]),\n",
    "        )\n",
    "        .then(2)\n",
    "        .when(\n",
    "            (pl.col(\"dry_spell_fraction\") == 1.0)\n",
    "            & (pl.col(f\"dry_spell_fraction_{gpcc_id}\") < fraction_drydays[\"2\"])\n",
    "        )\n",
    "        .then(3)\n",
    "        .otherwise(0)\n",
    "        .alias(\"dry_flags\")\n",
    "    )\n",
    ")"
   ],
   "outputs": [],
   "execution_count": 58
  },
  {
   "cell_type": "code",
   "id": "8f34b348",
   "metadata": {
    "ExecuteTime": {
     "end_time": "2025-04-15T13:47:15.798983Z",
     "start_time": "2025-04-15T13:47:15.788909Z"
    }
   },
   "source": "joined_gauges_gpcc_dry_flags[\"dry_flags\"].value_counts()\n",
   "outputs": [
    {
     "data": {
      "text/plain": [
       "shape: (4, 2)\n",
       "┌───────────┬───────┐\n",
       "│ dry_flags ┆ count │\n",
       "│ ---       ┆ ---   │\n",
       "│ i32       ┆ u32   │\n",
       "╞═══════════╪═══════╡\n",
       "│ 0         ┆ 1629  │\n",
       "│ 1         ┆ 1     │\n",
       "│ 3         ┆ 126   │\n",
       "│ 2         ┆ 4     │\n",
       "└───────────┴───────┘"
      ],
      "text/html": [
       "<div><style>\n",
       ".dataframe > thead > tr,\n",
       ".dataframe > tbody > tr {\n",
       "  text-align: right;\n",
       "  white-space: pre-wrap;\n",
       "}\n",
       "</style>\n",
       "<small>shape: (4, 2)</small><table border=\"1\" class=\"dataframe\"><thead><tr><th>dry_flags</th><th>count</th></tr><tr><td>i32</td><td>u32</td></tr></thead><tbody><tr><td>0</td><td>1629</td></tr><tr><td>1</td><td>1</td></tr><tr><td>3</td><td>126</td></tr><tr><td>2</td><td>4</td></tr></tbody></table></div>"
      ]
     },
     "execution_count": 59,
     "metadata": {},
     "output_type": "execute_result"
    }
   ],
   "execution_count": 59
  },
  {
   "cell_type": "markdown",
   "id": "b8a80cbc",
   "metadata": {},
   "source": [
    "## Part 9 Compare target with neighbour (monthly) \n",
    "- Works differently from hourly and daily\n",
    "- original methodology uses bfill which uses the next available value to fillNA"
   ]
  },
  {
   "cell_type": "code",
   "id": "c5aa9908",
   "metadata": {
    "ExecuteTime": {
     "end_time": "2025-04-15T13:47:16.055308Z",
     "start_time": "2025-04-15T13:47:16.048904Z"
    }
   },
   "source": [
    "gpcc_id_to_use = \"DE_03215\"\n",
    "gpcc_id = gpcc_id_to_use.split(\"DE_\")[-1].lstrip(\"0\")  # like 6303"
   ],
   "outputs": [],
   "execution_count": 60
  },
  {
   "cell_type": "code",
   "id": "b4e3232b",
   "metadata": {
    "ExecuteTime": {
     "end_time": "2025-04-15T13:47:16.430672Z",
     "start_time": "2025-04-15T13:47:16.418673Z"
    }
   },
   "source": [
    "## TODO: get gpcc monthly\n",
    "joined_gauges_gpcc = target_gauge_daily.join(\n",
    "    example_gpcc, on=\"time\", suffix=f\"_GPCC_{gpcc_id}\"\n",
    ")\n",
    "joined_gauges_gpcc = joined_gauges_gpcc.drop_nans()\n",
    "joined_gauges_gpcc.head()"
   ],
   "outputs": [
    {
     "data": {
      "text/plain": [
       "shape: (5, 3)\n",
       "┌─────────────────────┬─────────┬───────────────────┐\n",
       "│ time                ┆ rain_mm ┆ rain_mm_GPCC_3215 │\n",
       "│ ---                 ┆ ---     ┆ ---               │\n",
       "│ datetime[μs]        ┆ f64     ┆ f64               │\n",
       "╞═════════════════════╪═════════╪═══════════════════╡\n",
       "│ 2006-01-01 07:00:00 ┆ 0.2     ┆ 0.2               │\n",
       "│ 2006-01-02 07:00:00 ┆ 0.0     ┆ 0.0               │\n",
       "│ 2006-01-03 07:00:00 ┆ 0.0     ┆ 0.0               │\n",
       "│ 2006-01-04 07:00:00 ┆ 0.0     ┆ 0.0               │\n",
       "│ 2006-01-05 07:00:00 ┆ 0.0     ┆ 0.0               │\n",
       "└─────────────────────┴─────────┴───────────────────┘"
      ],
      "text/html": [
       "<div><style>\n",
       ".dataframe > thead > tr,\n",
       ".dataframe > tbody > tr {\n",
       "  text-align: right;\n",
       "  white-space: pre-wrap;\n",
       "}\n",
       "</style>\n",
       "<small>shape: (5, 3)</small><table border=\"1\" class=\"dataframe\"><thead><tr><th>time</th><th>rain_mm</th><th>rain_mm_GPCC_3215</th></tr><tr><td>datetime[μs]</td><td>f64</td><td>f64</td></tr></thead><tbody><tr><td>2006-01-01 07:00:00</td><td>0.2</td><td>0.2</td></tr><tr><td>2006-01-02 07:00:00</td><td>0.0</td><td>0.0</td></tr><tr><td>2006-01-03 07:00:00</td><td>0.0</td><td>0.0</td></tr><tr><td>2006-01-04 07:00:00</td><td>0.0</td><td>0.0</td></tr><tr><td>2006-01-05 07:00:00</td><td>0.0</td><td>0.0</td></tr></tbody></table></div>"
      ]
     },
     "execution_count": 61,
     "metadata": {},
     "output_type": "execute_result"
    }
   ],
   "execution_count": 61
  },
  {
   "cell_type": "code",
   "id": "6036038a655b9922",
   "metadata": {
    "ExecuteTime": {
     "end_time": "2025-04-15T13:47:16.642639Z",
     "start_time": "2025-04-15T13:47:16.639844Z"
    }
   },
   "source": "gpcc_col_name = f\"{rain_col}_GPCC_{gpcc_id}\"",
   "outputs": [],
   "execution_count": 62
  },
  {
   "cell_type": "code",
   "id": "b774762d6bfcd2ee",
   "metadata": {
    "ExecuteTime": {
     "end_time": "2025-04-15T13:47:16.891646Z",
     "start_time": "2025-04-15T13:47:16.882417Z"
    }
   },
   "source": [
    "## resample into monthly\n",
    "joined_gauges_gpcc_monthly = joined_gauges_gpcc.group_by_dynamic(\n",
    "    \"time\", every=\"1mo\", offset=\"7h\"\n",
    ").agg(\n",
    "    [\n",
    "        pl.col(rain_col).mean().round(1).alias(rain_col),\n",
    "        pl.col(gpcc_col_name).mean().round(1).alias(gpcc_col_name),\n",
    "    ]\n",
    ")  # TODO: Ensure at least 24*n_days_in_month data points"
   ],
   "outputs": [],
   "execution_count": 63
  },
  {
   "cell_type": "code",
   "id": "71e872dcd2ef88c0",
   "metadata": {
    "ExecuteTime": {
     "end_time": "2025-04-15T13:47:17.080326Z",
     "start_time": "2025-04-15T13:47:17.075003Z"
    }
   },
   "source": [
    "joined_gauges_gpcc_monthly.head()"
   ],
   "outputs": [
    {
     "data": {
      "text/plain": [
       "shape: (5, 3)\n",
       "┌─────────────────────┬─────────┬───────────────────┐\n",
       "│ time                ┆ rain_mm ┆ rain_mm_GPCC_3215 │\n",
       "│ ---                 ┆ ---     ┆ ---               │\n",
       "│ datetime[μs]        ┆ f64     ┆ f64               │\n",
       "╞═════════════════════╪═════════╪═══════════════════╡\n",
       "│ 2006-01-01 07:00:00 ┆ 0.1     ┆ 1.1               │\n",
       "│ 2006-02-01 07:00:00 ┆ 0.3     ┆ 3.0               │\n",
       "│ 2006-03-01 07:00:00 ┆ 0.4     ┆ 3.6               │\n",
       "│ 2006-04-01 07:00:00 ┆ 0.3     ┆ 2.3               │\n",
       "│ 2006-05-01 07:00:00 ┆ 0.6     ┆ 4.6               │\n",
       "└─────────────────────┴─────────┴───────────────────┘"
      ],
      "text/html": [
       "<div><style>\n",
       ".dataframe > thead > tr,\n",
       ".dataframe > tbody > tr {\n",
       "  text-align: right;\n",
       "  white-space: pre-wrap;\n",
       "}\n",
       "</style>\n",
       "<small>shape: (5, 3)</small><table border=\"1\" class=\"dataframe\"><thead><tr><th>time</th><th>rain_mm</th><th>rain_mm_GPCC_3215</th></tr><tr><td>datetime[μs]</td><td>f64</td><td>f64</td></tr></thead><tbody><tr><td>2006-01-01 07:00:00</td><td>0.1</td><td>1.1</td></tr><tr><td>2006-02-01 07:00:00</td><td>0.3</td><td>3.0</td></tr><tr><td>2006-03-01 07:00:00</td><td>0.4</td><td>3.6</td></tr><tr><td>2006-04-01 07:00:00</td><td>0.3</td><td>2.3</td></tr><tr><td>2006-05-01 07:00:00</td><td>0.6</td><td>4.6</td></tr></tbody></table></div>"
      ]
     },
     "execution_count": 64,
     "metadata": {},
     "output_type": "execute_result"
    }
   ],
   "execution_count": 64
  },
  {
   "cell_type": "code",
   "id": "8ae9645b",
   "metadata": {
    "ExecuteTime": {
     "end_time": "2025-04-15T13:47:17.264483Z",
     "start_time": "2025-04-15T13:47:17.257790Z"
    }
   },
   "source": [
    "joined_gauges_gpcc_monthly_perc_diff = joined_gauges_gpcc_monthly.with_columns(\n",
    "    perc_diff=((pl.col(rain_col) - pl.col(gpcc_col_name)) * 100.0)\n",
    "    / pl.col(gpcc_col_name),\n",
    "    factor_diff=pl.col(rain_col) / pl.col(gpcc_col_name),\n",
    ")"
   ],
   "outputs": [],
   "execution_count": 65
  },
  {
   "cell_type": "code",
   "id": "d699dc2b2219fdb1",
   "metadata": {
    "ExecuteTime": {
     "end_time": "2025-04-15T13:47:17.497478Z",
     "start_time": "2025-04-15T13:47:17.484438Z"
    }
   },
   "source": [
    "joined_gauges_gpcc_monthly_flags = joined_gauges_gpcc_monthly_perc_diff.with_columns(\n",
    "    pl.when(pl.col(\"perc_diff\") <= -100.0)\n",
    "    .then(-3)\n",
    "    .when((pl.col(\"perc_diff\") <= -50.0) & (pl.col(\"perc_diff\") > -100.0))\n",
    "    .then(-2)\n",
    "    .when((pl.col(\"perc_diff\") <= -25.0) & (pl.col(\"perc_diff\") > -50.0))\n",
    "    .then(-1)\n",
    "    .when((pl.col(\"perc_diff\") < 25.0) & (pl.col(\"perc_diff\") > -25.0))\n",
    "    .then(0)\n",
    "    .when((pl.col(\"perc_diff\") >= 25.0) & (pl.col(\"perc_diff\") < 50.0))\n",
    "    .then(1)\n",
    "    .when((pl.col(\"perc_diff\") >= 50.0) & (pl.col(\"perc_diff\") < 100.0))\n",
    "    .then(2)\n",
    "    .when(pl.col(\"perc_diff\") >= 100.0)\n",
    "    .then(3)\n",
    "    .otherwise(None)\n",
    "    .alias(\"precip_flags\"),\n",
    "    pl.when((pl.col(\"factor_diff\") < 11) & (pl.col(\"factor_diff\") > 9))\n",
    "    .then(1)\n",
    "    .when((pl.col(\"factor_diff\") < 26) & (pl.col(\"factor_diff\") > 24))\n",
    "    .then(2)\n",
    "    .when((pl.col(\"factor_diff\") < 3) & (pl.col(\"factor_diff\") > 2))\n",
    "    .then(3)\n",
    "    .when((pl.col(\"factor_diff\") > 1 / 11) & (pl.col(\"factor_diff\") < 1 / 9))\n",
    "    .then(4)\n",
    "    .when((pl.col(\"factor_diff\") > 1 / 26) & (pl.col(\"factor_diff\") < 1 / 24))\n",
    "    .then(5)\n",
    "    .when((pl.col(\"factor_diff\") > 1 / 3) & (pl.col(\"factor_diff\") < 1 / 2))\n",
    "    .then(6)\n",
    "    .otherwise(0)\n",
    "    .alias(\"factor_flags\"),\n",
    ")"
   ],
   "outputs": [],
   "execution_count": 66
  },
  {
   "cell_type": "code",
   "id": "71377f39",
   "metadata": {
    "ExecuteTime": {
     "end_time": "2025-04-15T13:47:17.606558Z",
     "start_time": "2025-04-15T13:47:17.599869Z"
    }
   },
   "source": [
    "joined_gauges_gpcc_monthly_flags[\"precip_flags\"].value_counts()"
   ],
   "outputs": [
    {
     "data": {
      "text/plain": [
       "shape: (3, 2)\n",
       "┌──────────────┬───────┐\n",
       "│ precip_flags ┆ count │\n",
       "│ ---          ┆ ---   │\n",
       "│ i32          ┆ u32   │\n",
       "╞══════════════╪═══════╡\n",
       "│ 3            ┆ 2     │\n",
       "│ -3           ┆ 6     │\n",
       "│ -2           ┆ 52    │\n",
       "└──────────────┴───────┘"
      ],
      "text/html": [
       "<div><style>\n",
       ".dataframe > thead > tr,\n",
       ".dataframe > tbody > tr {\n",
       "  text-align: right;\n",
       "  white-space: pre-wrap;\n",
       "}\n",
       "</style>\n",
       "<small>shape: (3, 2)</small><table border=\"1\" class=\"dataframe\"><thead><tr><th>precip_flags</th><th>count</th></tr><tr><td>i32</td><td>u32</td></tr></thead><tbody><tr><td>3</td><td>2</td></tr><tr><td>-3</td><td>6</td></tr><tr><td>-2</td><td>52</td></tr></tbody></table></div>"
      ]
     },
     "execution_count": 67,
     "metadata": {},
     "output_type": "execute_result"
    }
   ],
   "execution_count": 67
  },
  {
   "cell_type": "code",
   "id": "6dc4a7ab",
   "metadata": {
    "ExecuteTime": {
     "end_time": "2025-04-15T13:47:17.761625Z",
     "start_time": "2025-04-15T13:47:17.755930Z"
    }
   },
   "source": [
    "joined_gauges_gpcc_monthly_flags[\"factor_flags\"].value_counts()"
   ],
   "outputs": [
    {
     "data": {
      "text/plain": [
       "shape: (2, 2)\n",
       "┌──────────────┬───────┐\n",
       "│ factor_flags ┆ count │\n",
       "│ ---          ┆ ---   │\n",
       "│ i32          ┆ u32   │\n",
       "╞══════════════╪═══════╡\n",
       "│ 0            ┆ 55    │\n",
       "│ 4            ┆ 5     │\n",
       "└──────────────┴───────┘"
      ],
      "text/html": [
       "<div><style>\n",
       ".dataframe > thead > tr,\n",
       ".dataframe > tbody > tr {\n",
       "  text-align: right;\n",
       "  white-space: pre-wrap;\n",
       "}\n",
       "</style>\n",
       "<small>shape: (2, 2)</small><table border=\"1\" class=\"dataframe\"><thead><tr><th>factor_flags</th><th>count</th></tr><tr><td>i32</td><td>u32</td></tr></thead><tbody><tr><td>0</td><td>55</td></tr><tr><td>4</td><td>5</td></tr></tbody></table></div>"
      ]
     },
     "execution_count": 68,
     "metadata": {},
     "output_type": "execute_result"
    }
   ],
   "execution_count": 68
  },
  {
   "cell_type": "code",
   "id": "2f93cb56",
   "metadata": {
    "ExecuteTime": {
     "end_time": "2025-04-15T13:47:17.984601Z",
     "start_time": "2025-04-15T13:47:17.976630Z"
    }
   },
   "source": [
    "## Set up NaN\n",
    "joined_gauges_gpcc_monthly_flags = joined_gauges_gpcc_monthly_flags.with_columns(\n",
    "    pl.when(pl.col(rain_col).is_nan())\n",
    "    .then(np.nan)\n",
    "    .otherwise(pl.col(\"factor_flags\"))\n",
    "    .alias(\"factor_flags\"),\n",
    "    pl.when(pl.col(rain_col).is_nan())\n",
    "    .then(np.nan)\n",
    "    .otherwise(pl.col(\"precip_flags\"))\n",
    "    .alias(\"precip_flags\"),\n",
    ")"
   ],
   "outputs": [],
   "execution_count": 69
  },
  {
   "cell_type": "code",
   "id": "60febab3",
   "metadata": {
    "ExecuteTime": {
     "end_time": "2025-04-15T13:47:18.193977Z",
     "start_time": "2025-04-15T13:47:18.192227Z"
    }
   },
   "source": [],
   "outputs": [],
   "execution_count": null
  },
  {
   "cell_type": "markdown",
   "id": "301fb685",
   "metadata": {},
   "source": [
    "# QC16 - Daily neighbours (wet)\n",
    "[Back to Index](#Table-of-contents)\n",
    "\n",
    "#### Differences from `intense-qc`: \n",
    "- Many, although mainly this implementation opens the neighbour wet and dry functions to parameter tweaking"
   ]
  },
  {
   "cell_type": "markdown",
   "id": "bf3657b6",
   "metadata": {},
   "source": [
    "#### Step 1. resample to daily resolution"
   ]
  },
  {
   "cell_type": "code",
   "id": "05ca0ce2",
   "metadata": {
    "ExecuteTime": {
     "end_time": "2025-04-15T13:47:18.395636Z",
     "start_time": "2025-04-15T13:47:18.387851Z"
    }
   },
   "source": [
    "## resample into daily (also round to 1 decimal place) TODO: check offset='7h' part\n",
    "target_gauge_daily = (\n",
    "    target_gauge.group_by_dynamic(\"time\", every=\"1d\", offset=\"7h\")\n",
    "    .agg(\n",
    "        [\n",
    "            pl.len().alias(\"n_hours\"),\n",
    "            pl.col(rain_col).mean().round(1).alias(rain_col),\n",
    "        ]\n",
    "    )\n",
    "    .filter(pl.col(\"n_hours\") == 24)\n",
    "    .drop(\"n_hours\")\n",
    ")  # Ensure at least 24 data points"
   ],
   "outputs": [],
   "execution_count": 70
  },
  {
   "cell_type": "code",
   "id": "daa4cc73",
   "metadata": {
    "ExecuteTime": {
     "end_time": "2025-04-15T13:47:18.503623Z",
     "start_time": "2025-04-15T13:47:18.497319Z"
    }
   },
   "source": [
    "target_gauge_daily.head()"
   ],
   "outputs": [
    {
     "data": {
      "text/plain": [
       "shape: (5, 2)\n",
       "┌─────────────────────┬─────────┐\n",
       "│ time                ┆ rain_mm │\n",
       "│ ---                 ┆ ---     │\n",
       "│ datetime[μs]        ┆ f64     │\n",
       "╞═════════════════════╪═════════╡\n",
       "│ 2006-01-01 07:00:00 ┆ 0.2     │\n",
       "│ 2006-01-02 07:00:00 ┆ 0.0     │\n",
       "│ 2006-01-03 07:00:00 ┆ 0.0     │\n",
       "│ 2006-01-04 07:00:00 ┆ 0.0     │\n",
       "│ 2006-01-05 07:00:00 ┆ 0.0     │\n",
       "└─────────────────────┴─────────┘"
      ],
      "text/html": [
       "<div><style>\n",
       ".dataframe > thead > tr,\n",
       ".dataframe > tbody > tr {\n",
       "  text-align: right;\n",
       "  white-space: pre-wrap;\n",
       "}\n",
       "</style>\n",
       "<small>shape: (5, 2)</small><table border=\"1\" class=\"dataframe\"><thead><tr><th>time</th><th>rain_mm</th></tr><tr><td>datetime[μs]</td><td>f64</td></tr></thead><tbody><tr><td>2006-01-01 07:00:00</td><td>0.2</td></tr><tr><td>2006-01-02 07:00:00</td><td>0.0</td></tr><tr><td>2006-01-03 07:00:00</td><td>0.0</td></tr><tr><td>2006-01-04 07:00:00</td><td>0.0</td></tr><tr><td>2006-01-05 07:00:00</td><td>0.0</td></tr></tbody></table></div>"
      ]
     },
     "execution_count": 71,
     "metadata": {},
     "output_type": "execute_result"
    }
   ],
   "execution_count": 71
  },
  {
   "cell_type": "markdown",
   "id": "84d7fbc8",
   "metadata": {},
   "source": [
    "#### Step 2. Join each GPCC data & compare to target"
   ]
  },
  {
   "cell_type": "code",
   "id": "6fec54e7",
   "metadata": {
    "ExecuteTime": {
     "end_time": "2025-04-15T13:47:18.651998Z",
     "start_time": "2025-04-15T13:47:18.644142Z"
    }
   },
   "source": [
    "existing_gpcc_daily_paths"
   ],
   "outputs": [
    {
     "data": {
      "text/plain": [
       "{'DE_04313': [],\n",
       " 'DE_03215': ['../data/GPCC/tw_3215.zip'],\n",
       " 'DE_02718': [],\n",
       " 'DE_01300': [],\n",
       " 'DE_00390': [],\n",
       " 'DE_00310': ['../data/GPCC/tw_310.zip'],\n",
       " 'DE_04488': [],\n",
       " 'DE_06303': ['../data/GPCC/tw_6303.zip'],\n",
       " 'DE_06264': []}"
      ]
     },
     "execution_count": 72,
     "metadata": {},
     "output_type": "execute_result"
    }
   ],
   "execution_count": 72
  },
  {
   "cell_type": "code",
   "id": "f3c9219f",
   "metadata": {
    "ExecuteTime": {
     "end_time": "2025-04-15T13:47:19.058916Z",
     "start_time": "2025-04-15T13:47:18.843023Z"
    }
   },
   "source": [
    "all_data = target_gauge_daily.clone()\n",
    "\n",
    "for gpcc_id_to_use, gpcc_path in existing_gpcc_daily_paths.items():\n",
    "    gpcc_id_name = gpcc_id_to_use.split(\"DE_\")[1].lstrip(\"0\")\n",
    "    if len(gpcc_path) == 0:\n",
    "        continue\n",
    "    f = zipfile.ZipFile(gpcc_path[0]).open(f\"tw_{gpcc_id_name}.dat\")\n",
    "    example_gpcc = pl.from_pandas(pd.read_csv(f, skiprows=1, header=None, sep=r\"\\s+\"))\n",
    "\n",
    "    ## drop unnecessary columns\n",
    "    example_gpcc = example_gpcc.drop([str(i) for i in range(4, 16)])\n",
    "\n",
    "    ## make datetime column (apparently it's 7am-7pm)\n",
    "    example_gpcc = example_gpcc.with_columns(\n",
    "        pl.datetime(pl.col(\"2\"), pl.col(\"1\"), pl.col(\"0\"), 7).alias(\"time\")\n",
    "    ).drop([\"0\", \"1\", \"2\"])\n",
    "\n",
    "    ## rename and reorder\n",
    "    example_gpcc = example_gpcc.rename({\"3\": rain_col})\n",
    "    example_gpcc = example_gpcc.select([\"time\", rain_col])  ## Reorder (to look nice)\n",
    "\n",
    "    ## join to target data\n",
    "    joined_gauges_gpcc = target_gauge_daily.join(\n",
    "        example_gpcc, on=\"time\", suffix=f\"_GPCC_{gpcc_id_name}\"\n",
    "    )\n",
    "    joined_gauges_gpcc = joined_gauges_gpcc.drop_nans()\n",
    "\n",
    "    ## get normalised diff\n",
    "    joined_gauges_gpcc_normalised_diff = joined_gauges_gpcc.with_columns(\n",
    "        # get normalised difference between target and neighbour\n",
    "        rain_mm_normalised_diff=normalise_data(pl.col(f\"{rain_col}\"))\n",
    "        - normalise_data(pl.col(f\"{rain_col}_GPCC_{gpcc_id_name}\"))\n",
    "    )\n",
    "\n",
    "    ## filter values\n",
    "    joined_gauges_gpcc_normalised_diff_filtered = (\n",
    "        joined_gauges_gpcc_normalised_diff.filter(\n",
    "            (pl.col(f\"{rain_col}\") >= WET_THRESHOLD)\n",
    "            & (pl.col(f\"{rain_col}\").is_finite())\n",
    "            & (pl.col(f\"{rain_col}_GPCC_{gpcc_id_name}\").is_finite())\n",
    "            & (pl.col(f\"{rain_col}_normalised_diff\") > 0.0)\n",
    "        )\n",
    "    )\n",
    "\n",
    "    ## Calcualte exponetial function of normalised diff\n",
    "    expon_params = scipy.stats.expon.fit(\n",
    "        joined_gauges_gpcc_normalised_diff_filtered[f\"{rain_col}_normalised_diff\"]\n",
    "    )\n",
    "    # Calculate thresholds at key percentiles of fitted distribution\n",
    "    q95 = scipy.stats.expon.ppf(0.95, expon_params[0], expon_params[1])\n",
    "    q99 = scipy.stats.expon.ppf(0.99, expon_params[0], expon_params[1])\n",
    "    q999 = scipy.stats.expon.ppf(0.999, expon_params[0], expon_params[1])\n",
    "\n",
    "    ## Assign flags\n",
    "    joined_gauges_gpcc_normalised_wet_flags = (\n",
    "        joined_gauges_gpcc_normalised_diff.with_columns(\n",
    "            pl.when(\n",
    "                (pl.col(rain_col) >= 1.0)\n",
    "                & (pl.col(f\"{rain_col}_normalised_diff\") <= q95)\n",
    "            )\n",
    "            .then(0)\n",
    "            .when(\n",
    "                (pl.col(rain_col) >= 1.0)\n",
    "                & (pl.col(f\"{rain_col}_normalised_diff\") > q95)\n",
    "                & (pl.col(f\"{rain_col}_normalised_diff\") <= q99),\n",
    "            )\n",
    "            .then(1)\n",
    "            .when(\n",
    "                (pl.col(rain_col) >= 1.0)\n",
    "                & (pl.col(f\"{rain_col}_normalised_diff\") > q99)\n",
    "                & (pl.col(f\"{rain_col}_normalised_diff\") <= q999),\n",
    "            )\n",
    "            .then(2)\n",
    "            .when(\n",
    "                (pl.col(rain_col) >= 1.0)\n",
    "                & (pl.col(f\"{rain_col}_normalised_diff\") > q95)\n",
    "            )\n",
    "            .then(3)\n",
    "            .otherwise(0)\n",
    "            .alias(f\"wet_flags_{gpcc_id_name}\")\n",
    "        )\n",
    "    )\n",
    "    all_data = all_data.join(\n",
    "        joined_gauges_gpcc_normalised_wet_flags[[\"time\", f\"wet_flags_{gpcc_id_name}\"]],\n",
    "        on=\"time\",\n",
    "        how=\"left\",\n",
    "    )\n",
    "    print(\n",
    "        joined_gauges_gpcc_normalised_wet_flags[\n",
    "            f\"wet_flags_{gpcc_id_name}\"\n",
    "        ].value_counts()\n",
    "    )"
   ],
   "outputs": [
    {
     "name": "stdout",
     "output_type": "stream",
     "text": [
      "shape: (4, 2)\n",
      "┌────────────────┬───────┐\n",
      "│ wet_flags_3215 ┆ count │\n",
      "│ ---            ┆ ---   │\n",
      "│ i32            ┆ u32   │\n",
      "╞════════════════╪═══════╡\n",
      "│ 2              ┆ 1     │\n",
      "│ 3              ┆ 1     │\n",
      "│ 1              ┆ 4     │\n",
      "│ 0              ┆ 1250  │\n",
      "└────────────────┴───────┘\n",
      "shape: (4, 2)\n",
      "┌───────────────┬───────┐\n",
      "│ wet_flags_310 ┆ count │\n",
      "│ ---           ┆ ---   │\n",
      "│ i32           ┆ u32   │\n",
      "╞═══════════════╪═══════╡\n",
      "│ 1             ┆ 1     │\n",
      "│ 3             ┆ 1     │\n",
      "│ 2             ┆ 1     │\n",
      "│ 0             ┆ 1757  │\n",
      "└───────────────┴───────┘\n",
      "shape: (3, 2)\n",
      "┌────────────────┬───────┐\n",
      "│ wet_flags_6303 ┆ count │\n",
      "│ ---            ┆ ---   │\n",
      "│ i32            ┆ u32   │\n",
      "╞════════════════╪═══════╡\n",
      "│ 2              ┆ 1     │\n",
      "│ 0              ┆ 1758  │\n",
      "│ 3              ┆ 1     │\n",
      "└────────────────┴───────┘\n"
     ]
    }
   ],
   "execution_count": 73
  },
  {
   "cell_type": "markdown",
   "id": "7d7e2425",
   "metadata": {},
   "source": "#### Step 3. Calculate num neighbours online"
  },
  {
   "cell_type": "code",
   "id": "cd0e475f",
   "metadata": {
    "ExecuteTime": {
     "end_time": "2025-04-15T13:47:19.161681Z",
     "start_time": "2025-04-15T13:47:19.152391Z"
    }
   },
   "source": [
    "## global determining the minimum number of non-null neighbours to count flags\n",
    "MIN_NUM_NEIGHBOURS = 2  # original method is 3"
   ],
   "outputs": [],
   "execution_count": 74
  },
  {
   "cell_type": "code",
   "id": "cd5efc5d",
   "metadata": {
    "ExecuteTime": {
     "end_time": "2025-04-15T13:47:19.282493Z",
     "start_time": "2025-04-15T13:47:19.278664Z"
    }
   },
   "source": [
    "num_neighbours = len(all_data.columns[2:])\n",
    "num_neighbours"
   ],
   "outputs": [
    {
     "data": {
      "text/plain": [
       "3"
      ]
     },
     "execution_count": 75,
     "metadata": {},
     "output_type": "execute_result"
    }
   ],
   "execution_count": 75
  },
  {
   "cell_type": "code",
   "id": "7f01e885",
   "metadata": {
    "ExecuteTime": {
     "end_time": "2025-04-15T13:47:19.470843Z",
     "start_time": "2025-04-15T13:47:19.461123Z"
    }
   },
   "source": [
    "all_data_num_neighbours = all_data.with_columns(\n",
    "    (\n",
    "        num_neighbours\n",
    "        - pl.sum_horizontal(pl.all().exclude(\"time\").is_null().cast(pl.Int16))\n",
    "    ).alias(\"num_neighbours_online\")\n",
    ")\n",
    "all_data_num_neighbours"
   ],
   "outputs": [
    {
     "data": {
      "text/plain": [
       "shape: (1_825, 6)\n",
       "┌──────────────┬─────────┬────────────────┬───────────────┬────────────────┬───────────────────────┐\n",
       "│ time         ┆ rain_mm ┆ wet_flags_3215 ┆ wet_flags_310 ┆ wet_flags_6303 ┆ num_neighbours_online │\n",
       "│ ---          ┆ ---     ┆ ---            ┆ ---           ┆ ---            ┆ ---                   │\n",
       "│ datetime[μs] ┆ f64     ┆ i32            ┆ i32           ┆ i32            ┆ i16                   │\n",
       "╞══════════════╪═════════╪════════════════╪═══════════════╪════════════════╪═══════════════════════╡\n",
       "│ 2006-01-01   ┆ 0.2     ┆ null           ┆ 0             ┆ 0              ┆ 2                     │\n",
       "│ 07:00:00     ┆         ┆                ┆               ┆                ┆                       │\n",
       "│ 2006-01-02   ┆ 0.0     ┆ null           ┆ 0             ┆ 0              ┆ 2                     │\n",
       "│ 07:00:00     ┆         ┆                ┆               ┆                ┆                       │\n",
       "│ 2006-01-03   ┆ 0.0     ┆ null           ┆ 0             ┆ 0              ┆ 2                     │\n",
       "│ 07:00:00     ┆         ┆                ┆               ┆                ┆                       │\n",
       "│ 2006-01-04   ┆ 0.0     ┆ null           ┆ 0             ┆ 0              ┆ 2                     │\n",
       "│ 07:00:00     ┆         ┆                ┆               ┆                ┆                       │\n",
       "│ 2006-01-05   ┆ 0.0     ┆ null           ┆ 0             ┆ 0              ┆ 2                     │\n",
       "│ 07:00:00     ┆         ┆                ┆               ┆                ┆                       │\n",
       "│ …            ┆ …       ┆ …              ┆ …             ┆ …              ┆ …                     │\n",
       "│ 2010-12-26   ┆ 0.2     ┆ 0              ┆ 0             ┆ 0              ┆ 3                     │\n",
       "│ 07:00:00     ┆         ┆                ┆               ┆                ┆                       │\n",
       "│ 2010-12-27   ┆ 0.0     ┆ 0              ┆ 0             ┆ 0              ┆ 3                     │\n",
       "│ 07:00:00     ┆         ┆                ┆               ┆                ┆                       │\n",
       "│ 2010-12-28   ┆ 0.0     ┆ 0              ┆ 0             ┆ 0              ┆ 3                     │\n",
       "│ 07:00:00     ┆         ┆                ┆               ┆                ┆                       │\n",
       "│ 2010-12-29   ┆ 0.0     ┆ 0              ┆ 0             ┆ 0              ┆ 3                     │\n",
       "│ 07:00:00     ┆         ┆                ┆               ┆                ┆                       │\n",
       "│ 2010-12-30   ┆ 0.0     ┆ 0              ┆ 0             ┆ 0              ┆ 3                     │\n",
       "│ 07:00:00     ┆         ┆                ┆               ┆                ┆                       │\n",
       "└──────────────┴─────────┴────────────────┴───────────────┴────────────────┴───────────────────────┘"
      ],
      "text/html": [
       "<div><style>\n",
       ".dataframe > thead > tr,\n",
       ".dataframe > tbody > tr {\n",
       "  text-align: right;\n",
       "  white-space: pre-wrap;\n",
       "}\n",
       "</style>\n",
       "<small>shape: (1_825, 6)</small><table border=\"1\" class=\"dataframe\"><thead><tr><th>time</th><th>rain_mm</th><th>wet_flags_3215</th><th>wet_flags_310</th><th>wet_flags_6303</th><th>num_neighbours_online</th></tr><tr><td>datetime[μs]</td><td>f64</td><td>i32</td><td>i32</td><td>i32</td><td>i16</td></tr></thead><tbody><tr><td>2006-01-01 07:00:00</td><td>0.2</td><td>null</td><td>0</td><td>0</td><td>2</td></tr><tr><td>2006-01-02 07:00:00</td><td>0.0</td><td>null</td><td>0</td><td>0</td><td>2</td></tr><tr><td>2006-01-03 07:00:00</td><td>0.0</td><td>null</td><td>0</td><td>0</td><td>2</td></tr><tr><td>2006-01-04 07:00:00</td><td>0.0</td><td>null</td><td>0</td><td>0</td><td>2</td></tr><tr><td>2006-01-05 07:00:00</td><td>0.0</td><td>null</td><td>0</td><td>0</td><td>2</td></tr><tr><td>&hellip;</td><td>&hellip;</td><td>&hellip;</td><td>&hellip;</td><td>&hellip;</td><td>&hellip;</td></tr><tr><td>2010-12-26 07:00:00</td><td>0.2</td><td>0</td><td>0</td><td>0</td><td>3</td></tr><tr><td>2010-12-27 07:00:00</td><td>0.0</td><td>0</td><td>0</td><td>0</td><td>3</td></tr><tr><td>2010-12-28 07:00:00</td><td>0.0</td><td>0</td><td>0</td><td>0</td><td>3</td></tr><tr><td>2010-12-29 07:00:00</td><td>0.0</td><td>0</td><td>0</td><td>0</td><td>3</td></tr><tr><td>2010-12-30 07:00:00</td><td>0.0</td><td>0</td><td>0</td><td>0</td><td>3</td></tr></tbody></table></div>"
      ]
     },
     "execution_count": 76,
     "metadata": {},
     "output_type": "execute_result"
    }
   ],
   "execution_count": 76
  },
  {
   "cell_type": "code",
   "id": "6d50ed7c",
   "metadata": {
    "ExecuteTime": {
     "end_time": "2025-04-15T13:47:20.365817Z",
     "start_time": "2025-04-15T13:47:19.621502Z"
    }
   },
   "source": [
    "all_data_num_neighbours[\"num_neighbours_online\"].plot.line()"
   ],
   "outputs": [
    {
     "data": {
      "text/html": [
       "\n",
       "<style>\n",
       "  #altair-viz-3488615d7c4f48c2bd23245f0172070e.vega-embed {\n",
       "    width: 100%;\n",
       "    display: flex;\n",
       "  }\n",
       "\n",
       "  #altair-viz-3488615d7c4f48c2bd23245f0172070e.vega-embed details,\n",
       "  #altair-viz-3488615d7c4f48c2bd23245f0172070e.vega-embed details summary {\n",
       "    position: relative;\n",
       "  }\n",
       "</style>\n",
       "<div id=\"altair-viz-3488615d7c4f48c2bd23245f0172070e\"></div>\n",
       "<script type=\"text/javascript\">\n",
       "  var VEGA_DEBUG = (typeof VEGA_DEBUG == \"undefined\") ? {} : VEGA_DEBUG;\n",
       "  (function(spec, embedOpt){\n",
       "    let outputDiv = document.currentScript.previousElementSibling;\n",
       "    if (outputDiv.id !== \"altair-viz-3488615d7c4f48c2bd23245f0172070e\") {\n",
       "      outputDiv = document.getElementById(\"altair-viz-3488615d7c4f48c2bd23245f0172070e\");\n",
       "    }\n",
       "\n",
       "    const paths = {\n",
       "      \"vega\": \"https://cdn.jsdelivr.net/npm/vega@5?noext\",\n",
       "      \"vega-lib\": \"https://cdn.jsdelivr.net/npm/vega-lib?noext\",\n",
       "      \"vega-lite\": \"https://cdn.jsdelivr.net/npm/vega-lite@5.20.1?noext\",\n",
       "      \"vega-embed\": \"https://cdn.jsdelivr.net/npm/vega-embed@6?noext\",\n",
       "    };\n",
       "\n",
       "    function maybeLoadScript(lib, version) {\n",
       "      var key = `${lib.replace(\"-\", \"\")}_version`;\n",
       "      return (VEGA_DEBUG[key] == version) ?\n",
       "        Promise.resolve(paths[lib]) :\n",
       "        new Promise(function(resolve, reject) {\n",
       "          var s = document.createElement('script');\n",
       "          document.getElementsByTagName(\"head\")[0].appendChild(s);\n",
       "          s.async = true;\n",
       "          s.onload = () => {\n",
       "            VEGA_DEBUG[key] = version;\n",
       "            return resolve(paths[lib]);\n",
       "          };\n",
       "          s.onerror = () => reject(`Error loading script: ${paths[lib]}`);\n",
       "          s.src = paths[lib];\n",
       "        });\n",
       "    }\n",
       "\n",
       "    function showError(err) {\n",
       "      outputDiv.innerHTML = `<div class=\"error\" style=\"color:red;\">${err}</div>`;\n",
       "      throw err;\n",
       "    }\n",
       "\n",
       "    function displayChart(vegaEmbed) {\n",
       "      vegaEmbed(outputDiv, spec, embedOpt)\n",
       "        .catch(err => showError(`Javascript Error: ${err.message}<br>This usually means there's a typo in your chart specification. See the javascript console for the full traceback.`));\n",
       "    }\n",
       "\n",
       "    if(typeof define === \"function\" && define.amd) {\n",
       "      requirejs.config({paths});\n",
       "      let deps = [\"vega-embed\"];\n",
       "      require(deps, displayChart, err => showError(`Error loading script: ${err.message}`));\n",
       "    } else {\n",
       "      maybeLoadScript(\"vega\", \"5\")\n",
       "        .then(() => maybeLoadScript(\"vega-lite\", \"5.20.1\"))\n",
       "        .then(() => maybeLoadScript(\"vega-embed\", \"6\"))\n",
       "        .catch(showError)\n",
       "        .then(() => displayChart(vegaEmbed));\n",
       "    }\n",
       "  })({\"config\": {\"view\": {\"continuousWidth\": 300, \"continuousHeight\": 300}}, \"data\": {\"name\": \"data-5d0e864c8762c9347706e797e7c15847\"}, \"mark\": {\"type\": \"line\", \"tooltip\": true}, \"encoding\": {\"x\": {\"field\": \"index\", \"type\": \"quantitative\"}, \"y\": {\"field\": \"num_neighbours_online\", \"type\": \"quantitative\"}}, \"params\": [{\"name\": \"param_1\", \"select\": {\"type\": \"interval\", \"encodings\": [\"x\", \"y\"]}, \"bind\": \"scales\"}], \"$schema\": \"https://vega.github.io/schema/vega-lite/v5.20.1.json\", \"datasets\": {\"data-5d0e864c8762c9347706e797e7c15847\": [{\"index\": 0, \"num_neighbours_online\": 2}, {\"index\": 1, \"num_neighbours_online\": 2}, {\"index\": 2, \"num_neighbours_online\": 2}, {\"index\": 3, \"num_neighbours_online\": 2}, {\"index\": 4, \"num_neighbours_online\": 2}, {\"index\": 5, \"num_neighbours_online\": 2}, {\"index\": 6, \"num_neighbours_online\": 2}, {\"index\": 7, \"num_neighbours_online\": 2}, {\"index\": 8, \"num_neighbours_online\": 2}, {\"index\": 9, \"num_neighbours_online\": 2}, {\"index\": 10, \"num_neighbours_online\": 2}, {\"index\": 11, \"num_neighbours_online\": 2}, {\"index\": 12, \"num_neighbours_online\": 2}, {\"index\": 13, \"num_neighbours_online\": 2}, {\"index\": 14, \"num_neighbours_online\": 2}, {\"index\": 15, \"num_neighbours_online\": 2}, {\"index\": 16, \"num_neighbours_online\": 2}, {\"index\": 17, \"num_neighbours_online\": 0}, {\"index\": 18, \"num_neighbours_online\": 2}, {\"index\": 19, \"num_neighbours_online\": 2}, {\"index\": 20, \"num_neighbours_online\": 2}, {\"index\": 21, \"num_neighbours_online\": 2}, {\"index\": 22, \"num_neighbours_online\": 0}, {\"index\": 23, \"num_neighbours_online\": 2}, {\"index\": 24, \"num_neighbours_online\": 2}, {\"index\": 25, \"num_neighbours_online\": 2}, {\"index\": 26, \"num_neighbours_online\": 2}, {\"index\": 27, \"num_neighbours_online\": 0}, {\"index\": 28, \"num_neighbours_online\": 0}, {\"index\": 29, \"num_neighbours_online\": 2}, {\"index\": 30, \"num_neighbours_online\": 2}, {\"index\": 31, \"num_neighbours_online\": 2}, {\"index\": 32, \"num_neighbours_online\": 2}, {\"index\": 33, \"num_neighbours_online\": 2}, {\"index\": 34, \"num_neighbours_online\": 2}, {\"index\": 35, \"num_neighbours_online\": 2}, {\"index\": 36, \"num_neighbours_online\": 2}, {\"index\": 37, \"num_neighbours_online\": 2}, {\"index\": 38, \"num_neighbours_online\": 0}, {\"index\": 39, \"num_neighbours_online\": 2}, {\"index\": 40, \"num_neighbours_online\": 2}, {\"index\": 41, \"num_neighbours_online\": 2}, {\"index\": 42, \"num_neighbours_online\": 2}, {\"index\": 43, \"num_neighbours_online\": 2}, {\"index\": 44, \"num_neighbours_online\": 2}, {\"index\": 45, \"num_neighbours_online\": 2}, {\"index\": 46, \"num_neighbours_online\": 2}, {\"index\": 47, \"num_neighbours_online\": 2}, {\"index\": 48, \"num_neighbours_online\": 2}, {\"index\": 49, \"num_neighbours_online\": 2}, {\"index\": 50, \"num_neighbours_online\": 2}, {\"index\": 51, \"num_neighbours_online\": 2}, {\"index\": 52, \"num_neighbours_online\": 2}, {\"index\": 53, \"num_neighbours_online\": 2}, {\"index\": 54, \"num_neighbours_online\": 2}, {\"index\": 55, \"num_neighbours_online\": 2}, {\"index\": 56, \"num_neighbours_online\": 2}, {\"index\": 57, \"num_neighbours_online\": 2}, {\"index\": 58, \"num_neighbours_online\": 2}, {\"index\": 59, \"num_neighbours_online\": 2}, {\"index\": 60, \"num_neighbours_online\": 2}, {\"index\": 61, \"num_neighbours_online\": 2}, {\"index\": 62, \"num_neighbours_online\": 2}, {\"index\": 63, \"num_neighbours_online\": 2}, {\"index\": 64, \"num_neighbours_online\": 2}, {\"index\": 65, \"num_neighbours_online\": 2}, {\"index\": 66, \"num_neighbours_online\": 2}, {\"index\": 67, \"num_neighbours_online\": 2}, {\"index\": 68, \"num_neighbours_online\": 2}, {\"index\": 69, \"num_neighbours_online\": 2}, {\"index\": 70, \"num_neighbours_online\": 2}, {\"index\": 71, \"num_neighbours_online\": 2}, {\"index\": 72, \"num_neighbours_online\": 2}, {\"index\": 73, \"num_neighbours_online\": 2}, {\"index\": 74, \"num_neighbours_online\": 2}, {\"index\": 75, \"num_neighbours_online\": 2}, {\"index\": 76, \"num_neighbours_online\": 2}, {\"index\": 77, \"num_neighbours_online\": 2}, {\"index\": 78, \"num_neighbours_online\": 2}, {\"index\": 79, \"num_neighbours_online\": 2}, {\"index\": 80, \"num_neighbours_online\": 2}, {\"index\": 81, \"num_neighbours_online\": 2}, {\"index\": 82, \"num_neighbours_online\": 2}, {\"index\": 83, \"num_neighbours_online\": 2}, {\"index\": 84, \"num_neighbours_online\": 2}, {\"index\": 85, \"num_neighbours_online\": 2}, {\"index\": 86, \"num_neighbours_online\": 2}, {\"index\": 87, \"num_neighbours_online\": 2}, {\"index\": 88, \"num_neighbours_online\": 2}, {\"index\": 89, \"num_neighbours_online\": 2}, {\"index\": 90, \"num_neighbours_online\": 2}, {\"index\": 91, \"num_neighbours_online\": 2}, {\"index\": 92, \"num_neighbours_online\": 2}, {\"index\": 93, \"num_neighbours_online\": 2}, {\"index\": 94, \"num_neighbours_online\": 2}, {\"index\": 95, \"num_neighbours_online\": 2}, {\"index\": 96, \"num_neighbours_online\": 2}, {\"index\": 97, \"num_neighbours_online\": 2}, {\"index\": 98, \"num_neighbours_online\": 2}, {\"index\": 99, \"num_neighbours_online\": 2}, {\"index\": 100, \"num_neighbours_online\": 2}, {\"index\": 101, \"num_neighbours_online\": 2}, {\"index\": 102, \"num_neighbours_online\": 2}, {\"index\": 103, \"num_neighbours_online\": 2}, {\"index\": 104, \"num_neighbours_online\": 2}, {\"index\": 105, \"num_neighbours_online\": 2}, {\"index\": 106, \"num_neighbours_online\": 2}, {\"index\": 107, \"num_neighbours_online\": 2}, {\"index\": 108, \"num_neighbours_online\": 2}, {\"index\": 109, \"num_neighbours_online\": 2}, {\"index\": 110, \"num_neighbours_online\": 2}, {\"index\": 111, \"num_neighbours_online\": 2}, {\"index\": 112, \"num_neighbours_online\": 2}, {\"index\": 113, \"num_neighbours_online\": 2}, {\"index\": 114, \"num_neighbours_online\": 2}, {\"index\": 115, \"num_neighbours_online\": 2}, {\"index\": 116, \"num_neighbours_online\": 2}, {\"index\": 117, \"num_neighbours_online\": 2}, {\"index\": 118, \"num_neighbours_online\": 2}, {\"index\": 119, \"num_neighbours_online\": 2}, {\"index\": 120, \"num_neighbours_online\": 2}, {\"index\": 121, \"num_neighbours_online\": 2}, {\"index\": 122, \"num_neighbours_online\": 2}, {\"index\": 123, \"num_neighbours_online\": 2}, {\"index\": 124, \"num_neighbours_online\": 2}, {\"index\": 125, \"num_neighbours_online\": 2}, {\"index\": 126, \"num_neighbours_online\": 2}, {\"index\": 127, \"num_neighbours_online\": 2}, {\"index\": 128, \"num_neighbours_online\": 2}, {\"index\": 129, \"num_neighbours_online\": 2}, {\"index\": 130, \"num_neighbours_online\": 2}, {\"index\": 131, \"num_neighbours_online\": 2}, {\"index\": 132, \"num_neighbours_online\": 2}, {\"index\": 133, \"num_neighbours_online\": 2}, {\"index\": 134, \"num_neighbours_online\": 2}, {\"index\": 135, \"num_neighbours_online\": 2}, {\"index\": 136, \"num_neighbours_online\": 2}, {\"index\": 137, \"num_neighbours_online\": 2}, {\"index\": 138, \"num_neighbours_online\": 2}, {\"index\": 139, \"num_neighbours_online\": 2}, {\"index\": 140, \"num_neighbours_online\": 2}, {\"index\": 141, \"num_neighbours_online\": 2}, {\"index\": 142, \"num_neighbours_online\": 2}, {\"index\": 143, \"num_neighbours_online\": 2}, {\"index\": 144, \"num_neighbours_online\": 2}, {\"index\": 145, \"num_neighbours_online\": 2}, {\"index\": 146, \"num_neighbours_online\": 2}, {\"index\": 147, \"num_neighbours_online\": 2}, {\"index\": 148, \"num_neighbours_online\": 2}, {\"index\": 149, \"num_neighbours_online\": 2}, {\"index\": 150, \"num_neighbours_online\": 0}, {\"index\": 151, \"num_neighbours_online\": 2}, {\"index\": 152, \"num_neighbours_online\": 2}, {\"index\": 153, \"num_neighbours_online\": 2}, {\"index\": 154, \"num_neighbours_online\": 2}, {\"index\": 155, \"num_neighbours_online\": 2}, {\"index\": 156, \"num_neighbours_online\": 2}, {\"index\": 157, \"num_neighbours_online\": 2}, {\"index\": 158, \"num_neighbours_online\": 2}, {\"index\": 159, \"num_neighbours_online\": 2}, {\"index\": 160, \"num_neighbours_online\": 2}, {\"index\": 161, \"num_neighbours_online\": 2}, {\"index\": 162, \"num_neighbours_online\": 2}, {\"index\": 163, \"num_neighbours_online\": 2}, {\"index\": 164, \"num_neighbours_online\": 2}, {\"index\": 165, \"num_neighbours_online\": 2}, {\"index\": 166, \"num_neighbours_online\": 2}, {\"index\": 167, \"num_neighbours_online\": 2}, {\"index\": 168, \"num_neighbours_online\": 2}, {\"index\": 169, \"num_neighbours_online\": 2}, {\"index\": 170, \"num_neighbours_online\": 2}, {\"index\": 171, \"num_neighbours_online\": 2}, {\"index\": 172, \"num_neighbours_online\": 2}, {\"index\": 173, \"num_neighbours_online\": 2}, {\"index\": 174, \"num_neighbours_online\": 2}, {\"index\": 175, \"num_neighbours_online\": 2}, {\"index\": 176, \"num_neighbours_online\": 2}, {\"index\": 177, \"num_neighbours_online\": 2}, {\"index\": 178, \"num_neighbours_online\": 2}, {\"index\": 179, \"num_neighbours_online\": 2}, {\"index\": 180, \"num_neighbours_online\": 2}, {\"index\": 181, \"num_neighbours_online\": 2}, {\"index\": 182, \"num_neighbours_online\": 2}, {\"index\": 183, \"num_neighbours_online\": 2}, {\"index\": 184, \"num_neighbours_online\": 2}, {\"index\": 185, \"num_neighbours_online\": 2}, {\"index\": 186, \"num_neighbours_online\": 2}, {\"index\": 187, \"num_neighbours_online\": 2}, {\"index\": 188, \"num_neighbours_online\": 2}, {\"index\": 189, \"num_neighbours_online\": 2}, {\"index\": 190, \"num_neighbours_online\": 2}, {\"index\": 191, \"num_neighbours_online\": 2}, {\"index\": 192, \"num_neighbours_online\": 2}, {\"index\": 193, \"num_neighbours_online\": 2}, {\"index\": 194, \"num_neighbours_online\": 2}, {\"index\": 195, \"num_neighbours_online\": 2}, {\"index\": 196, \"num_neighbours_online\": 2}, {\"index\": 197, \"num_neighbours_online\": 2}, {\"index\": 198, \"num_neighbours_online\": 2}, {\"index\": 199, \"num_neighbours_online\": 2}, {\"index\": 200, \"num_neighbours_online\": 0}, {\"index\": 201, \"num_neighbours_online\": 0}, {\"index\": 202, \"num_neighbours_online\": 2}, {\"index\": 203, \"num_neighbours_online\": 2}, {\"index\": 204, \"num_neighbours_online\": 2}, {\"index\": 205, \"num_neighbours_online\": 2}, {\"index\": 206, \"num_neighbours_online\": 2}, {\"index\": 207, \"num_neighbours_online\": 2}, {\"index\": 208, \"num_neighbours_online\": 2}, {\"index\": 209, \"num_neighbours_online\": 2}, {\"index\": 210, \"num_neighbours_online\": 2}, {\"index\": 211, \"num_neighbours_online\": 2}, {\"index\": 212, \"num_neighbours_online\": 2}, {\"index\": 213, \"num_neighbours_online\": 2}, {\"index\": 214, \"num_neighbours_online\": 2}, {\"index\": 215, \"num_neighbours_online\": 2}, {\"index\": 216, \"num_neighbours_online\": 2}, {\"index\": 217, \"num_neighbours_online\": 2}, {\"index\": 218, \"num_neighbours_online\": 2}, {\"index\": 219, \"num_neighbours_online\": 2}, {\"index\": 220, \"num_neighbours_online\": 2}, {\"index\": 221, \"num_neighbours_online\": 2}, {\"index\": 222, \"num_neighbours_online\": 2}, {\"index\": 223, \"num_neighbours_online\": 2}, {\"index\": 224, \"num_neighbours_online\": 2}, {\"index\": 225, \"num_neighbours_online\": 2}, {\"index\": 226, \"num_neighbours_online\": 2}, {\"index\": 227, \"num_neighbours_online\": 2}, {\"index\": 228, \"num_neighbours_online\": 2}, {\"index\": 229, \"num_neighbours_online\": 2}, {\"index\": 230, \"num_neighbours_online\": 2}, {\"index\": 231, \"num_neighbours_online\": 2}, {\"index\": 232, \"num_neighbours_online\": 2}, {\"index\": 233, \"num_neighbours_online\": 2}, {\"index\": 234, \"num_neighbours_online\": 2}, {\"index\": 235, \"num_neighbours_online\": 2}, {\"index\": 236, \"num_neighbours_online\": 2}, {\"index\": 237, \"num_neighbours_online\": 2}, {\"index\": 238, \"num_neighbours_online\": 2}, {\"index\": 239, \"num_neighbours_online\": 2}, {\"index\": 240, \"num_neighbours_online\": 2}, {\"index\": 241, \"num_neighbours_online\": 2}, {\"index\": 242, \"num_neighbours_online\": 2}, {\"index\": 243, \"num_neighbours_online\": 2}, {\"index\": 244, \"num_neighbours_online\": 2}, {\"index\": 245, \"num_neighbours_online\": 2}, {\"index\": 246, \"num_neighbours_online\": 2}, {\"index\": 247, \"num_neighbours_online\": 2}, {\"index\": 248, \"num_neighbours_online\": 2}, {\"index\": 249, \"num_neighbours_online\": 2}, {\"index\": 250, \"num_neighbours_online\": 2}, {\"index\": 251, \"num_neighbours_online\": 2}, {\"index\": 252, \"num_neighbours_online\": 2}, {\"index\": 253, \"num_neighbours_online\": 2}, {\"index\": 254, \"num_neighbours_online\": 2}, {\"index\": 255, \"num_neighbours_online\": 2}, {\"index\": 256, \"num_neighbours_online\": 2}, {\"index\": 257, \"num_neighbours_online\": 2}, {\"index\": 258, \"num_neighbours_online\": 2}, {\"index\": 259, \"num_neighbours_online\": 2}, {\"index\": 260, \"num_neighbours_online\": 2}, {\"index\": 261, \"num_neighbours_online\": 2}, {\"index\": 262, \"num_neighbours_online\": 2}, {\"index\": 263, \"num_neighbours_online\": 2}, {\"index\": 264, \"num_neighbours_online\": 2}, {\"index\": 265, \"num_neighbours_online\": 2}, {\"index\": 266, \"num_neighbours_online\": 2}, {\"index\": 267, \"num_neighbours_online\": 2}, {\"index\": 268, \"num_neighbours_online\": 2}, {\"index\": 269, \"num_neighbours_online\": 2}, {\"index\": 270, \"num_neighbours_online\": 2}, {\"index\": 271, \"num_neighbours_online\": 2}, {\"index\": 272, \"num_neighbours_online\": 2}, {\"index\": 273, \"num_neighbours_online\": 2}, {\"index\": 274, \"num_neighbours_online\": 2}, {\"index\": 275, \"num_neighbours_online\": 2}, {\"index\": 276, \"num_neighbours_online\": 2}, {\"index\": 277, \"num_neighbours_online\": 2}, {\"index\": 278, \"num_neighbours_online\": 2}, {\"index\": 279, \"num_neighbours_online\": 2}, {\"index\": 280, \"num_neighbours_online\": 2}, {\"index\": 281, \"num_neighbours_online\": 2}, {\"index\": 282, \"num_neighbours_online\": 2}, {\"index\": 283, \"num_neighbours_online\": 2}, {\"index\": 284, \"num_neighbours_online\": 2}, {\"index\": 285, \"num_neighbours_online\": 2}, {\"index\": 286, \"num_neighbours_online\": 2}, {\"index\": 287, \"num_neighbours_online\": 2}, {\"index\": 288, \"num_neighbours_online\": 2}, {\"index\": 289, \"num_neighbours_online\": 2}, {\"index\": 290, \"num_neighbours_online\": 2}, {\"index\": 291, \"num_neighbours_online\": 2}, {\"index\": 292, \"num_neighbours_online\": 2}, {\"index\": 293, \"num_neighbours_online\": 2}, {\"index\": 294, \"num_neighbours_online\": 0}, {\"index\": 295, \"num_neighbours_online\": 2}, {\"index\": 296, \"num_neighbours_online\": 2}, {\"index\": 297, \"num_neighbours_online\": 2}, {\"index\": 298, \"num_neighbours_online\": 2}, {\"index\": 299, \"num_neighbours_online\": 2}, {\"index\": 300, \"num_neighbours_online\": 2}, {\"index\": 301, \"num_neighbours_online\": 2}, {\"index\": 302, \"num_neighbours_online\": 2}, {\"index\": 303, \"num_neighbours_online\": 2}, {\"index\": 304, \"num_neighbours_online\": 2}, {\"index\": 305, \"num_neighbours_online\": 2}, {\"index\": 306, \"num_neighbours_online\": 2}, {\"index\": 307, \"num_neighbours_online\": 2}, {\"index\": 308, \"num_neighbours_online\": 2}, {\"index\": 309, \"num_neighbours_online\": 2}, {\"index\": 310, \"num_neighbours_online\": 2}, {\"index\": 311, \"num_neighbours_online\": 2}, {\"index\": 312, \"num_neighbours_online\": 2}, {\"index\": 313, \"num_neighbours_online\": 2}, {\"index\": 314, \"num_neighbours_online\": 0}, {\"index\": 315, \"num_neighbours_online\": 2}, {\"index\": 316, \"num_neighbours_online\": 0}, {\"index\": 317, \"num_neighbours_online\": 2}, {\"index\": 318, \"num_neighbours_online\": 2}, {\"index\": 319, \"num_neighbours_online\": 2}, {\"index\": 320, \"num_neighbours_online\": 2}, {\"index\": 321, \"num_neighbours_online\": 2}, {\"index\": 322, \"num_neighbours_online\": 2}, {\"index\": 323, \"num_neighbours_online\": 2}, {\"index\": 324, \"num_neighbours_online\": 2}, {\"index\": 325, \"num_neighbours_online\": 2}, {\"index\": 326, \"num_neighbours_online\": 2}, {\"index\": 327, \"num_neighbours_online\": 2}, {\"index\": 328, \"num_neighbours_online\": 2}, {\"index\": 329, \"num_neighbours_online\": 2}, {\"index\": 330, \"num_neighbours_online\": 2}, {\"index\": 331, \"num_neighbours_online\": 2}, {\"index\": 332, \"num_neighbours_online\": 2}, {\"index\": 333, \"num_neighbours_online\": 2}, {\"index\": 334, \"num_neighbours_online\": 2}, {\"index\": 335, \"num_neighbours_online\": 2}, {\"index\": 336, \"num_neighbours_online\": 2}, {\"index\": 337, \"num_neighbours_online\": 2}, {\"index\": 338, \"num_neighbours_online\": 2}, {\"index\": 339, \"num_neighbours_online\": 2}, {\"index\": 340, \"num_neighbours_online\": 2}, {\"index\": 341, \"num_neighbours_online\": 2}, {\"index\": 342, \"num_neighbours_online\": 2}, {\"index\": 343, \"num_neighbours_online\": 2}, {\"index\": 344, \"num_neighbours_online\": 2}, {\"index\": 345, \"num_neighbours_online\": 2}, {\"index\": 346, \"num_neighbours_online\": 0}, {\"index\": 347, \"num_neighbours_online\": 2}, {\"index\": 348, \"num_neighbours_online\": 2}, {\"index\": 349, \"num_neighbours_online\": 2}, {\"index\": 350, \"num_neighbours_online\": 2}, {\"index\": 351, \"num_neighbours_online\": 2}, {\"index\": 352, \"num_neighbours_online\": 2}, {\"index\": 353, \"num_neighbours_online\": 2}, {\"index\": 354, \"num_neighbours_online\": 2}, {\"index\": 355, \"num_neighbours_online\": 2}, {\"index\": 356, \"num_neighbours_online\": 2}, {\"index\": 357, \"num_neighbours_online\": 2}, {\"index\": 358, \"num_neighbours_online\": 2}, {\"index\": 359, \"num_neighbours_online\": 2}, {\"index\": 360, \"num_neighbours_online\": 2}, {\"index\": 361, \"num_neighbours_online\": 2}, {\"index\": 362, \"num_neighbours_online\": 2}, {\"index\": 363, \"num_neighbours_online\": 2}, {\"index\": 364, \"num_neighbours_online\": 2}, {\"index\": 365, \"num_neighbours_online\": 2}, {\"index\": 366, \"num_neighbours_online\": 2}, {\"index\": 367, \"num_neighbours_online\": 2}, {\"index\": 368, \"num_neighbours_online\": 2}, {\"index\": 369, \"num_neighbours_online\": 2}, {\"index\": 370, \"num_neighbours_online\": 2}, {\"index\": 371, \"num_neighbours_online\": 2}, {\"index\": 372, \"num_neighbours_online\": 2}, {\"index\": 373, \"num_neighbours_online\": 2}, {\"index\": 374, \"num_neighbours_online\": 2}, {\"index\": 375, \"num_neighbours_online\": 2}, {\"index\": 376, \"num_neighbours_online\": 2}, {\"index\": 377, \"num_neighbours_online\": 2}, {\"index\": 378, \"num_neighbours_online\": 2}, {\"index\": 379, \"num_neighbours_online\": 2}, {\"index\": 380, \"num_neighbours_online\": 2}, {\"index\": 381, \"num_neighbours_online\": 2}, {\"index\": 382, \"num_neighbours_online\": 2}, {\"index\": 383, \"num_neighbours_online\": 2}, {\"index\": 384, \"num_neighbours_online\": 2}, {\"index\": 385, \"num_neighbours_online\": 2}, {\"index\": 386, \"num_neighbours_online\": 2}, {\"index\": 387, \"num_neighbours_online\": 2}, {\"index\": 388, \"num_neighbours_online\": 2}, {\"index\": 389, \"num_neighbours_online\": 2}, {\"index\": 390, \"num_neighbours_online\": 2}, {\"index\": 391, \"num_neighbours_online\": 2}, {\"index\": 392, \"num_neighbours_online\": 2}, {\"index\": 393, \"num_neighbours_online\": 2}, {\"index\": 394, \"num_neighbours_online\": 2}, {\"index\": 395, \"num_neighbours_online\": 2}, {\"index\": 396, \"num_neighbours_online\": 2}, {\"index\": 397, \"num_neighbours_online\": 2}, {\"index\": 398, \"num_neighbours_online\": 2}, {\"index\": 399, \"num_neighbours_online\": 2}, {\"index\": 400, \"num_neighbours_online\": 2}, {\"index\": 401, \"num_neighbours_online\": 2}, {\"index\": 402, \"num_neighbours_online\": 2}, {\"index\": 403, \"num_neighbours_online\": 2}, {\"index\": 404, \"num_neighbours_online\": 2}, {\"index\": 405, \"num_neighbours_online\": 2}, {\"index\": 406, \"num_neighbours_online\": 2}, {\"index\": 407, \"num_neighbours_online\": 2}, {\"index\": 408, \"num_neighbours_online\": 2}, {\"index\": 409, \"num_neighbours_online\": 2}, {\"index\": 410, \"num_neighbours_online\": 2}, {\"index\": 411, \"num_neighbours_online\": 2}, {\"index\": 412, \"num_neighbours_online\": 2}, {\"index\": 413, \"num_neighbours_online\": 2}, {\"index\": 414, \"num_neighbours_online\": 2}, {\"index\": 415, \"num_neighbours_online\": 2}, {\"index\": 416, \"num_neighbours_online\": 2}, {\"index\": 417, \"num_neighbours_online\": 2}, {\"index\": 418, \"num_neighbours_online\": 2}, {\"index\": 419, \"num_neighbours_online\": 2}, {\"index\": 420, \"num_neighbours_online\": 2}, {\"index\": 421, \"num_neighbours_online\": 2}, {\"index\": 422, \"num_neighbours_online\": 2}, {\"index\": 423, \"num_neighbours_online\": 2}, {\"index\": 424, \"num_neighbours_online\": 2}, {\"index\": 425, \"num_neighbours_online\": 2}, {\"index\": 426, \"num_neighbours_online\": 2}, {\"index\": 427, \"num_neighbours_online\": 2}, {\"index\": 428, \"num_neighbours_online\": 2}, {\"index\": 429, \"num_neighbours_online\": 2}, {\"index\": 430, \"num_neighbours_online\": 2}, {\"index\": 431, \"num_neighbours_online\": 2}, {\"index\": 432, \"num_neighbours_online\": 2}, {\"index\": 433, \"num_neighbours_online\": 2}, {\"index\": 434, \"num_neighbours_online\": 2}, {\"index\": 435, \"num_neighbours_online\": 2}, {\"index\": 436, \"num_neighbours_online\": 2}, {\"index\": 437, \"num_neighbours_online\": 2}, {\"index\": 438, \"num_neighbours_online\": 2}, {\"index\": 439, \"num_neighbours_online\": 2}, {\"index\": 440, \"num_neighbours_online\": 2}, {\"index\": 441, \"num_neighbours_online\": 2}, {\"index\": 442, \"num_neighbours_online\": 2}, {\"index\": 443, \"num_neighbours_online\": 2}, {\"index\": 444, \"num_neighbours_online\": 2}, {\"index\": 445, \"num_neighbours_online\": 2}, {\"index\": 446, \"num_neighbours_online\": 2}, {\"index\": 447, \"num_neighbours_online\": 2}, {\"index\": 448, \"num_neighbours_online\": 2}, {\"index\": 449, \"num_neighbours_online\": 2}, {\"index\": 450, \"num_neighbours_online\": 2}, {\"index\": 451, \"num_neighbours_online\": 2}, {\"index\": 452, \"num_neighbours_online\": 2}, {\"index\": 453, \"num_neighbours_online\": 2}, {\"index\": 454, \"num_neighbours_online\": 2}, {\"index\": 455, \"num_neighbours_online\": 2}, {\"index\": 456, \"num_neighbours_online\": 2}, {\"index\": 457, \"num_neighbours_online\": 2}, {\"index\": 458, \"num_neighbours_online\": 2}, {\"index\": 459, \"num_neighbours_online\": 2}, {\"index\": 460, \"num_neighbours_online\": 2}, {\"index\": 461, \"num_neighbours_online\": 2}, {\"index\": 462, \"num_neighbours_online\": 2}, {\"index\": 463, \"num_neighbours_online\": 2}, {\"index\": 464, \"num_neighbours_online\": 2}, {\"index\": 465, \"num_neighbours_online\": 2}, {\"index\": 466, \"num_neighbours_online\": 2}, {\"index\": 467, \"num_neighbours_online\": 2}, {\"index\": 468, \"num_neighbours_online\": 2}, {\"index\": 469, \"num_neighbours_online\": 2}, {\"index\": 470, \"num_neighbours_online\": 2}, {\"index\": 471, \"num_neighbours_online\": 2}, {\"index\": 472, \"num_neighbours_online\": 2}, {\"index\": 473, \"num_neighbours_online\": 2}, {\"index\": 474, \"num_neighbours_online\": 2}, {\"index\": 475, \"num_neighbours_online\": 2}, {\"index\": 476, \"num_neighbours_online\": 2}, {\"index\": 477, \"num_neighbours_online\": 2}, {\"index\": 478, \"num_neighbours_online\": 2}, {\"index\": 479, \"num_neighbours_online\": 2}, {\"index\": 480, \"num_neighbours_online\": 2}, {\"index\": 481, \"num_neighbours_online\": 2}, {\"index\": 482, \"num_neighbours_online\": 2}, {\"index\": 483, \"num_neighbours_online\": 2}, {\"index\": 484, \"num_neighbours_online\": 2}, {\"index\": 485, \"num_neighbours_online\": 2}, {\"index\": 486, \"num_neighbours_online\": 2}, {\"index\": 487, \"num_neighbours_online\": 2}, {\"index\": 488, \"num_neighbours_online\": 2}, {\"index\": 489, \"num_neighbours_online\": 2}, {\"index\": 490, \"num_neighbours_online\": 2}, {\"index\": 491, \"num_neighbours_online\": 2}, {\"index\": 492, \"num_neighbours_online\": 2}, {\"index\": 493, \"num_neighbours_online\": 2}, {\"index\": 494, \"num_neighbours_online\": 2}, {\"index\": 495, \"num_neighbours_online\": 2}, {\"index\": 496, \"num_neighbours_online\": 2}, {\"index\": 497, \"num_neighbours_online\": 2}, {\"index\": 498, \"num_neighbours_online\": 2}, {\"index\": 499, \"num_neighbours_online\": 2}, {\"index\": 500, \"num_neighbours_online\": 2}, {\"index\": 501, \"num_neighbours_online\": 2}, {\"index\": 502, \"num_neighbours_online\": 2}, {\"index\": 503, \"num_neighbours_online\": 2}, {\"index\": 504, \"num_neighbours_online\": 2}, {\"index\": 505, \"num_neighbours_online\": 2}, {\"index\": 506, \"num_neighbours_online\": 2}, {\"index\": 507, \"num_neighbours_online\": 2}, {\"index\": 508, \"num_neighbours_online\": 2}, {\"index\": 509, \"num_neighbours_online\": 2}, {\"index\": 510, \"num_neighbours_online\": 2}, {\"index\": 511, \"num_neighbours_online\": 2}, {\"index\": 512, \"num_neighbours_online\": 2}, {\"index\": 513, \"num_neighbours_online\": 2}, {\"index\": 514, \"num_neighbours_online\": 2}, {\"index\": 515, \"num_neighbours_online\": 2}, {\"index\": 516, \"num_neighbours_online\": 3}, {\"index\": 517, \"num_neighbours_online\": 3}, {\"index\": 518, \"num_neighbours_online\": 3}, {\"index\": 519, \"num_neighbours_online\": 3}, {\"index\": 520, \"num_neighbours_online\": 3}, {\"index\": 521, \"num_neighbours_online\": 3}, {\"index\": 522, \"num_neighbours_online\": 3}, {\"index\": 523, \"num_neighbours_online\": 3}, {\"index\": 524, \"num_neighbours_online\": 0}, {\"index\": 525, \"num_neighbours_online\": 3}, {\"index\": 526, \"num_neighbours_online\": 3}, {\"index\": 527, \"num_neighbours_online\": 3}, {\"index\": 528, \"num_neighbours_online\": 3}, {\"index\": 529, \"num_neighbours_online\": 3}, {\"index\": 530, \"num_neighbours_online\": 3}, {\"index\": 531, \"num_neighbours_online\": 3}, {\"index\": 532, \"num_neighbours_online\": 3}, {\"index\": 533, \"num_neighbours_online\": 3}, {\"index\": 534, \"num_neighbours_online\": 3}, {\"index\": 535, \"num_neighbours_online\": 3}, {\"index\": 536, \"num_neighbours_online\": 3}, {\"index\": 537, \"num_neighbours_online\": 3}, {\"index\": 538, \"num_neighbours_online\": 3}, {\"index\": 539, \"num_neighbours_online\": 3}, {\"index\": 540, \"num_neighbours_online\": 0}, {\"index\": 541, \"num_neighbours_online\": 3}, {\"index\": 542, \"num_neighbours_online\": 3}, {\"index\": 543, \"num_neighbours_online\": 3}, {\"index\": 544, \"num_neighbours_online\": 3}, {\"index\": 545, \"num_neighbours_online\": 3}, {\"index\": 546, \"num_neighbours_online\": 3}, {\"index\": 547, \"num_neighbours_online\": 3}, {\"index\": 548, \"num_neighbours_online\": 3}, {\"index\": 549, \"num_neighbours_online\": 3}, {\"index\": 550, \"num_neighbours_online\": 3}, {\"index\": 551, \"num_neighbours_online\": 3}, {\"index\": 552, \"num_neighbours_online\": 3}, {\"index\": 553, \"num_neighbours_online\": 3}, {\"index\": 554, \"num_neighbours_online\": 3}, {\"index\": 555, \"num_neighbours_online\": 0}, {\"index\": 556, \"num_neighbours_online\": 3}, {\"index\": 557, \"num_neighbours_online\": 3}, {\"index\": 558, \"num_neighbours_online\": 3}, {\"index\": 559, \"num_neighbours_online\": 3}, {\"index\": 560, \"num_neighbours_online\": 3}, {\"index\": 561, \"num_neighbours_online\": 3}, {\"index\": 562, \"num_neighbours_online\": 3}, {\"index\": 563, \"num_neighbours_online\": 3}, {\"index\": 564, \"num_neighbours_online\": 3}, {\"index\": 565, \"num_neighbours_online\": 3}, {\"index\": 566, \"num_neighbours_online\": 3}, {\"index\": 567, \"num_neighbours_online\": 3}, {\"index\": 568, \"num_neighbours_online\": 3}, {\"index\": 569, \"num_neighbours_online\": 3}, {\"index\": 570, \"num_neighbours_online\": 3}, {\"index\": 571, \"num_neighbours_online\": 3}, {\"index\": 572, \"num_neighbours_online\": 3}, {\"index\": 573, \"num_neighbours_online\": 3}, {\"index\": 574, \"num_neighbours_online\": 3}, {\"index\": 575, \"num_neighbours_online\": 3}, {\"index\": 576, \"num_neighbours_online\": 3}, {\"index\": 577, \"num_neighbours_online\": 3}, {\"index\": 578, \"num_neighbours_online\": 3}, {\"index\": 579, \"num_neighbours_online\": 3}, {\"index\": 580, \"num_neighbours_online\": 3}, {\"index\": 581, \"num_neighbours_online\": 3}, {\"index\": 582, \"num_neighbours_online\": 3}, {\"index\": 583, \"num_neighbours_online\": 3}, {\"index\": 584, \"num_neighbours_online\": 3}, {\"index\": 585, \"num_neighbours_online\": 3}, {\"index\": 586, \"num_neighbours_online\": 3}, {\"index\": 587, \"num_neighbours_online\": 3}, {\"index\": 588, \"num_neighbours_online\": 3}, {\"index\": 589, \"num_neighbours_online\": 3}, {\"index\": 590, \"num_neighbours_online\": 3}, {\"index\": 591, \"num_neighbours_online\": 3}, {\"index\": 592, \"num_neighbours_online\": 3}, {\"index\": 593, \"num_neighbours_online\": 3}, {\"index\": 594, \"num_neighbours_online\": 3}, {\"index\": 595, \"num_neighbours_online\": 3}, {\"index\": 596, \"num_neighbours_online\": 3}, {\"index\": 597, \"num_neighbours_online\": 3}, {\"index\": 598, \"num_neighbours_online\": 3}, {\"index\": 599, \"num_neighbours_online\": 3}, {\"index\": 600, \"num_neighbours_online\": 3}, {\"index\": 601, \"num_neighbours_online\": 3}, {\"index\": 602, \"num_neighbours_online\": 3}, {\"index\": 603, \"num_neighbours_online\": 3}, {\"index\": 604, \"num_neighbours_online\": 3}, {\"index\": 605, \"num_neighbours_online\": 3}, {\"index\": 606, \"num_neighbours_online\": 3}, {\"index\": 607, \"num_neighbours_online\": 3}, {\"index\": 608, \"num_neighbours_online\": 3}, {\"index\": 609, \"num_neighbours_online\": 3}, {\"index\": 610, \"num_neighbours_online\": 3}, {\"index\": 611, \"num_neighbours_online\": 3}, {\"index\": 612, \"num_neighbours_online\": 3}, {\"index\": 613, \"num_neighbours_online\": 3}, {\"index\": 614, \"num_neighbours_online\": 3}, {\"index\": 615, \"num_neighbours_online\": 3}, {\"index\": 616, \"num_neighbours_online\": 3}, {\"index\": 617, \"num_neighbours_online\": 3}, {\"index\": 618, \"num_neighbours_online\": 3}, {\"index\": 619, \"num_neighbours_online\": 3}, {\"index\": 620, \"num_neighbours_online\": 3}, {\"index\": 621, \"num_neighbours_online\": 3}, {\"index\": 622, \"num_neighbours_online\": 3}, {\"index\": 623, \"num_neighbours_online\": 3}, {\"index\": 624, \"num_neighbours_online\": 3}, {\"index\": 625, \"num_neighbours_online\": 3}, {\"index\": 626, \"num_neighbours_online\": 3}, {\"index\": 627, \"num_neighbours_online\": 3}, {\"index\": 628, \"num_neighbours_online\": 3}, {\"index\": 629, \"num_neighbours_online\": 3}, {\"index\": 630, \"num_neighbours_online\": 3}, {\"index\": 631, \"num_neighbours_online\": 3}, {\"index\": 632, \"num_neighbours_online\": 3}, {\"index\": 633, \"num_neighbours_online\": 3}, {\"index\": 634, \"num_neighbours_online\": 3}, {\"index\": 635, \"num_neighbours_online\": 3}, {\"index\": 636, \"num_neighbours_online\": 3}, {\"index\": 637, \"num_neighbours_online\": 3}, {\"index\": 638, \"num_neighbours_online\": 3}, {\"index\": 639, \"num_neighbours_online\": 3}, {\"index\": 640, \"num_neighbours_online\": 3}, {\"index\": 641, \"num_neighbours_online\": 3}, {\"index\": 642, \"num_neighbours_online\": 3}, {\"index\": 643, \"num_neighbours_online\": 3}, {\"index\": 644, \"num_neighbours_online\": 3}, {\"index\": 645, \"num_neighbours_online\": 3}, {\"index\": 646, \"num_neighbours_online\": 3}, {\"index\": 647, \"num_neighbours_online\": 3}, {\"index\": 648, \"num_neighbours_online\": 3}, {\"index\": 649, \"num_neighbours_online\": 3}, {\"index\": 650, \"num_neighbours_online\": 3}, {\"index\": 651, \"num_neighbours_online\": 3}, {\"index\": 652, \"num_neighbours_online\": 3}, {\"index\": 653, \"num_neighbours_online\": 3}, {\"index\": 654, \"num_neighbours_online\": 3}, {\"index\": 655, \"num_neighbours_online\": 3}, {\"index\": 656, \"num_neighbours_online\": 3}, {\"index\": 657, \"num_neighbours_online\": 3}, {\"index\": 658, \"num_neighbours_online\": 3}, {\"index\": 659, \"num_neighbours_online\": 3}, {\"index\": 660, \"num_neighbours_online\": 3}, {\"index\": 661, \"num_neighbours_online\": 3}, {\"index\": 662, \"num_neighbours_online\": 3}, {\"index\": 663, \"num_neighbours_online\": 3}, {\"index\": 664, \"num_neighbours_online\": 3}, {\"index\": 665, \"num_neighbours_online\": 3}, {\"index\": 666, \"num_neighbours_online\": 3}, {\"index\": 667, \"num_neighbours_online\": 3}, {\"index\": 668, \"num_neighbours_online\": 3}, {\"index\": 669, \"num_neighbours_online\": 3}, {\"index\": 670, \"num_neighbours_online\": 3}, {\"index\": 671, \"num_neighbours_online\": 3}, {\"index\": 672, \"num_neighbours_online\": 3}, {\"index\": 673, \"num_neighbours_online\": 3}, {\"index\": 674, \"num_neighbours_online\": 3}, {\"index\": 675, \"num_neighbours_online\": 3}, {\"index\": 676, \"num_neighbours_online\": 3}, {\"index\": 677, \"num_neighbours_online\": 3}, {\"index\": 678, \"num_neighbours_online\": 3}, {\"index\": 679, \"num_neighbours_online\": 3}, {\"index\": 680, \"num_neighbours_online\": 3}, {\"index\": 681, \"num_neighbours_online\": 3}, {\"index\": 682, \"num_neighbours_online\": 3}, {\"index\": 683, \"num_neighbours_online\": 3}, {\"index\": 684, \"num_neighbours_online\": 3}, {\"index\": 685, \"num_neighbours_online\": 3}, {\"index\": 686, \"num_neighbours_online\": 3}, {\"index\": 687, \"num_neighbours_online\": 3}, {\"index\": 688, \"num_neighbours_online\": 3}, {\"index\": 689, \"num_neighbours_online\": 3}, {\"index\": 690, \"num_neighbours_online\": 3}, {\"index\": 691, \"num_neighbours_online\": 3}, {\"index\": 692, \"num_neighbours_online\": 3}, {\"index\": 693, \"num_neighbours_online\": 3}, {\"index\": 694, \"num_neighbours_online\": 3}, {\"index\": 695, \"num_neighbours_online\": 3}, {\"index\": 696, \"num_neighbours_online\": 3}, {\"index\": 697, \"num_neighbours_online\": 3}, {\"index\": 698, \"num_neighbours_online\": 3}, {\"index\": 699, \"num_neighbours_online\": 3}, {\"index\": 700, \"num_neighbours_online\": 3}, {\"index\": 701, \"num_neighbours_online\": 3}, {\"index\": 702, \"num_neighbours_online\": 3}, {\"index\": 703, \"num_neighbours_online\": 3}, {\"index\": 704, \"num_neighbours_online\": 3}, {\"index\": 705, \"num_neighbours_online\": 3}, {\"index\": 706, \"num_neighbours_online\": 3}, {\"index\": 707, \"num_neighbours_online\": 3}, {\"index\": 708, \"num_neighbours_online\": 3}, {\"index\": 709, \"num_neighbours_online\": 3}, {\"index\": 710, \"num_neighbours_online\": 3}, {\"index\": 711, \"num_neighbours_online\": 3}, {\"index\": 712, \"num_neighbours_online\": 3}, {\"index\": 713, \"num_neighbours_online\": 3}, {\"index\": 714, \"num_neighbours_online\": 3}, {\"index\": 715, \"num_neighbours_online\": 3}, {\"index\": 716, \"num_neighbours_online\": 3}, {\"index\": 717, \"num_neighbours_online\": 3}, {\"index\": 718, \"num_neighbours_online\": 3}, {\"index\": 719, \"num_neighbours_online\": 3}, {\"index\": 720, \"num_neighbours_online\": 3}, {\"index\": 721, \"num_neighbours_online\": 3}, {\"index\": 722, \"num_neighbours_online\": 3}, {\"index\": 723, \"num_neighbours_online\": 3}, {\"index\": 724, \"num_neighbours_online\": 3}, {\"index\": 725, \"num_neighbours_online\": 3}, {\"index\": 726, \"num_neighbours_online\": 3}, {\"index\": 727, \"num_neighbours_online\": 3}, {\"index\": 728, \"num_neighbours_online\": 3}, {\"index\": 729, \"num_neighbours_online\": 3}, {\"index\": 730, \"num_neighbours_online\": 3}, {\"index\": 731, \"num_neighbours_online\": 3}, {\"index\": 732, \"num_neighbours_online\": 3}, {\"index\": 733, \"num_neighbours_online\": 3}, {\"index\": 734, \"num_neighbours_online\": 3}, {\"index\": 735, \"num_neighbours_online\": 3}, {\"index\": 736, \"num_neighbours_online\": 3}, {\"index\": 737, \"num_neighbours_online\": 3}, {\"index\": 738, \"num_neighbours_online\": 3}, {\"index\": 739, \"num_neighbours_online\": 3}, {\"index\": 740, \"num_neighbours_online\": 3}, {\"index\": 741, \"num_neighbours_online\": 3}, {\"index\": 742, \"num_neighbours_online\": 3}, {\"index\": 743, \"num_neighbours_online\": 3}, {\"index\": 744, \"num_neighbours_online\": 3}, {\"index\": 745, \"num_neighbours_online\": 3}, {\"index\": 746, \"num_neighbours_online\": 3}, {\"index\": 747, \"num_neighbours_online\": 3}, {\"index\": 748, \"num_neighbours_online\": 3}, {\"index\": 749, \"num_neighbours_online\": 3}, {\"index\": 750, \"num_neighbours_online\": 3}, {\"index\": 751, \"num_neighbours_online\": 3}, {\"index\": 752, \"num_neighbours_online\": 3}, {\"index\": 753, \"num_neighbours_online\": 3}, {\"index\": 754, \"num_neighbours_online\": 3}, {\"index\": 755, \"num_neighbours_online\": 3}, {\"index\": 756, \"num_neighbours_online\": 3}, {\"index\": 757, \"num_neighbours_online\": 3}, {\"index\": 758, \"num_neighbours_online\": 3}, {\"index\": 759, \"num_neighbours_online\": 3}, {\"index\": 760, \"num_neighbours_online\": 3}, {\"index\": 761, \"num_neighbours_online\": 3}, {\"index\": 762, \"num_neighbours_online\": 3}, {\"index\": 763, \"num_neighbours_online\": 3}, {\"index\": 764, \"num_neighbours_online\": 3}, {\"index\": 765, \"num_neighbours_online\": 3}, {\"index\": 766, \"num_neighbours_online\": 3}, {\"index\": 767, \"num_neighbours_online\": 3}, {\"index\": 768, \"num_neighbours_online\": 3}, {\"index\": 769, \"num_neighbours_online\": 3}, {\"index\": 770, \"num_neighbours_online\": 3}, {\"index\": 771, \"num_neighbours_online\": 3}, {\"index\": 772, \"num_neighbours_online\": 3}, {\"index\": 773, \"num_neighbours_online\": 3}, {\"index\": 774, \"num_neighbours_online\": 3}, {\"index\": 775, \"num_neighbours_online\": 3}, {\"index\": 776, \"num_neighbours_online\": 3}, {\"index\": 777, \"num_neighbours_online\": 3}, {\"index\": 778, \"num_neighbours_online\": 3}, {\"index\": 779, \"num_neighbours_online\": 3}, {\"index\": 780, \"num_neighbours_online\": 3}, {\"index\": 781, \"num_neighbours_online\": 3}, {\"index\": 782, \"num_neighbours_online\": 3}, {\"index\": 783, \"num_neighbours_online\": 3}, {\"index\": 784, \"num_neighbours_online\": 3}, {\"index\": 785, \"num_neighbours_online\": 3}, {\"index\": 786, \"num_neighbours_online\": 3}, {\"index\": 787, \"num_neighbours_online\": 3}, {\"index\": 788, \"num_neighbours_online\": 3}, {\"index\": 789, \"num_neighbours_online\": 3}, {\"index\": 790, \"num_neighbours_online\": 3}, {\"index\": 791, \"num_neighbours_online\": 3}, {\"index\": 792, \"num_neighbours_online\": 3}, {\"index\": 793, \"num_neighbours_online\": 3}, {\"index\": 794, \"num_neighbours_online\": 3}, {\"index\": 795, \"num_neighbours_online\": 3}, {\"index\": 796, \"num_neighbours_online\": 3}, {\"index\": 797, \"num_neighbours_online\": 3}, {\"index\": 798, \"num_neighbours_online\": 3}, {\"index\": 799, \"num_neighbours_online\": 3}, {\"index\": 800, \"num_neighbours_online\": 3}, {\"index\": 801, \"num_neighbours_online\": 3}, {\"index\": 802, \"num_neighbours_online\": 3}, {\"index\": 803, \"num_neighbours_online\": 3}, {\"index\": 804, \"num_neighbours_online\": 3}, {\"index\": 805, \"num_neighbours_online\": 3}, {\"index\": 806, \"num_neighbours_online\": 3}, {\"index\": 807, \"num_neighbours_online\": 3}, {\"index\": 808, \"num_neighbours_online\": 3}, {\"index\": 809, \"num_neighbours_online\": 3}, {\"index\": 810, \"num_neighbours_online\": 3}, {\"index\": 811, \"num_neighbours_online\": 3}, {\"index\": 812, \"num_neighbours_online\": 3}, {\"index\": 813, \"num_neighbours_online\": 3}, {\"index\": 814, \"num_neighbours_online\": 3}, {\"index\": 815, \"num_neighbours_online\": 3}, {\"index\": 816, \"num_neighbours_online\": 3}, {\"index\": 817, \"num_neighbours_online\": 3}, {\"index\": 818, \"num_neighbours_online\": 3}, {\"index\": 819, \"num_neighbours_online\": 3}, {\"index\": 820, \"num_neighbours_online\": 3}, {\"index\": 821, \"num_neighbours_online\": 3}, {\"index\": 822, \"num_neighbours_online\": 3}, {\"index\": 823, \"num_neighbours_online\": 3}, {\"index\": 824, \"num_neighbours_online\": 3}, {\"index\": 825, \"num_neighbours_online\": 3}, {\"index\": 826, \"num_neighbours_online\": 3}, {\"index\": 827, \"num_neighbours_online\": 3}, {\"index\": 828, \"num_neighbours_online\": 3}, {\"index\": 829, \"num_neighbours_online\": 3}, {\"index\": 830, \"num_neighbours_online\": 3}, {\"index\": 831, \"num_neighbours_online\": 3}, {\"index\": 832, \"num_neighbours_online\": 3}, {\"index\": 833, \"num_neighbours_online\": 3}, {\"index\": 834, \"num_neighbours_online\": 3}, {\"index\": 835, \"num_neighbours_online\": 3}, {\"index\": 836, \"num_neighbours_online\": 3}, {\"index\": 837, \"num_neighbours_online\": 3}, {\"index\": 838, \"num_neighbours_online\": 3}, {\"index\": 839, \"num_neighbours_online\": 3}, {\"index\": 840, \"num_neighbours_online\": 3}, {\"index\": 841, \"num_neighbours_online\": 3}, {\"index\": 842, \"num_neighbours_online\": 3}, {\"index\": 843, \"num_neighbours_online\": 3}, {\"index\": 844, \"num_neighbours_online\": 3}, {\"index\": 845, \"num_neighbours_online\": 3}, {\"index\": 846, \"num_neighbours_online\": 3}, {\"index\": 847, \"num_neighbours_online\": 3}, {\"index\": 848, \"num_neighbours_online\": 3}, {\"index\": 849, \"num_neighbours_online\": 3}, {\"index\": 850, \"num_neighbours_online\": 3}, {\"index\": 851, \"num_neighbours_online\": 3}, {\"index\": 852, \"num_neighbours_online\": 3}, {\"index\": 853, \"num_neighbours_online\": 3}, {\"index\": 854, \"num_neighbours_online\": 3}, {\"index\": 855, \"num_neighbours_online\": 3}, {\"index\": 856, \"num_neighbours_online\": 3}, {\"index\": 857, \"num_neighbours_online\": 3}, {\"index\": 858, \"num_neighbours_online\": 3}, {\"index\": 859, \"num_neighbours_online\": 3}, {\"index\": 860, \"num_neighbours_online\": 3}, {\"index\": 861, \"num_neighbours_online\": 3}, {\"index\": 862, \"num_neighbours_online\": 3}, {\"index\": 863, \"num_neighbours_online\": 3}, {\"index\": 864, \"num_neighbours_online\": 3}, {\"index\": 865, \"num_neighbours_online\": 3}, {\"index\": 866, \"num_neighbours_online\": 3}, {\"index\": 867, \"num_neighbours_online\": 3}, {\"index\": 868, \"num_neighbours_online\": 3}, {\"index\": 869, \"num_neighbours_online\": 3}, {\"index\": 870, \"num_neighbours_online\": 3}, {\"index\": 871, \"num_neighbours_online\": 3}, {\"index\": 872, \"num_neighbours_online\": 3}, {\"index\": 873, \"num_neighbours_online\": 3}, {\"index\": 874, \"num_neighbours_online\": 3}, {\"index\": 875, \"num_neighbours_online\": 3}, {\"index\": 876, \"num_neighbours_online\": 3}, {\"index\": 877, \"num_neighbours_online\": 3}, {\"index\": 878, \"num_neighbours_online\": 3}, {\"index\": 879, \"num_neighbours_online\": 3}, {\"index\": 880, \"num_neighbours_online\": 3}, {\"index\": 881, \"num_neighbours_online\": 3}, {\"index\": 882, \"num_neighbours_online\": 3}, {\"index\": 883, \"num_neighbours_online\": 3}, {\"index\": 884, \"num_neighbours_online\": 3}, {\"index\": 885, \"num_neighbours_online\": 3}, {\"index\": 886, \"num_neighbours_online\": 3}, {\"index\": 887, \"num_neighbours_online\": 3}, {\"index\": 888, \"num_neighbours_online\": 3}, {\"index\": 889, \"num_neighbours_online\": 3}, {\"index\": 890, \"num_neighbours_online\": 3}, {\"index\": 891, \"num_neighbours_online\": 3}, {\"index\": 892, \"num_neighbours_online\": 3}, {\"index\": 893, \"num_neighbours_online\": 3}, {\"index\": 894, \"num_neighbours_online\": 3}, {\"index\": 895, \"num_neighbours_online\": 3}, {\"index\": 896, \"num_neighbours_online\": 3}, {\"index\": 897, \"num_neighbours_online\": 3}, {\"index\": 898, \"num_neighbours_online\": 3}, {\"index\": 899, \"num_neighbours_online\": 3}, {\"index\": 900, \"num_neighbours_online\": 3}, {\"index\": 901, \"num_neighbours_online\": 3}, {\"index\": 902, \"num_neighbours_online\": 3}, {\"index\": 903, \"num_neighbours_online\": 3}, {\"index\": 904, \"num_neighbours_online\": 3}, {\"index\": 905, \"num_neighbours_online\": 3}, {\"index\": 906, \"num_neighbours_online\": 3}, {\"index\": 907, \"num_neighbours_online\": 3}, {\"index\": 908, \"num_neighbours_online\": 3}, {\"index\": 909, \"num_neighbours_online\": 3}, {\"index\": 910, \"num_neighbours_online\": 3}, {\"index\": 911, \"num_neighbours_online\": 3}, {\"index\": 912, \"num_neighbours_online\": 3}, {\"index\": 913, \"num_neighbours_online\": 3}, {\"index\": 914, \"num_neighbours_online\": 3}, {\"index\": 915, \"num_neighbours_online\": 3}, {\"index\": 916, \"num_neighbours_online\": 0}, {\"index\": 917, \"num_neighbours_online\": 3}, {\"index\": 918, \"num_neighbours_online\": 3}, {\"index\": 919, \"num_neighbours_online\": 3}, {\"index\": 920, \"num_neighbours_online\": 3}, {\"index\": 921, \"num_neighbours_online\": 3}, {\"index\": 922, \"num_neighbours_online\": 3}, {\"index\": 923, \"num_neighbours_online\": 3}, {\"index\": 924, \"num_neighbours_online\": 3}, {\"index\": 925, \"num_neighbours_online\": 3}, {\"index\": 926, \"num_neighbours_online\": 3}, {\"index\": 927, \"num_neighbours_online\": 3}, {\"index\": 928, \"num_neighbours_online\": 3}, {\"index\": 929, \"num_neighbours_online\": 3}, {\"index\": 930, \"num_neighbours_online\": 3}, {\"index\": 931, \"num_neighbours_online\": 3}, {\"index\": 932, \"num_neighbours_online\": 3}, {\"index\": 933, \"num_neighbours_online\": 3}, {\"index\": 934, \"num_neighbours_online\": 3}, {\"index\": 935, \"num_neighbours_online\": 3}, {\"index\": 936, \"num_neighbours_online\": 3}, {\"index\": 937, \"num_neighbours_online\": 3}, {\"index\": 938, \"num_neighbours_online\": 3}, {\"index\": 939, \"num_neighbours_online\": 3}, {\"index\": 940, \"num_neighbours_online\": 3}, {\"index\": 941, \"num_neighbours_online\": 3}, {\"index\": 942, \"num_neighbours_online\": 3}, {\"index\": 943, \"num_neighbours_online\": 3}, {\"index\": 944, \"num_neighbours_online\": 3}, {\"index\": 945, \"num_neighbours_online\": 3}, {\"index\": 946, \"num_neighbours_online\": 3}, {\"index\": 947, \"num_neighbours_online\": 3}, {\"index\": 948, \"num_neighbours_online\": 3}, {\"index\": 949, \"num_neighbours_online\": 3}, {\"index\": 950, \"num_neighbours_online\": 3}, {\"index\": 951, \"num_neighbours_online\": 3}, {\"index\": 952, \"num_neighbours_online\": 3}, {\"index\": 953, \"num_neighbours_online\": 3}, {\"index\": 954, \"num_neighbours_online\": 3}, {\"index\": 955, \"num_neighbours_online\": 3}, {\"index\": 956, \"num_neighbours_online\": 3}, {\"index\": 957, \"num_neighbours_online\": 3}, {\"index\": 958, \"num_neighbours_online\": 3}, {\"index\": 959, \"num_neighbours_online\": 3}, {\"index\": 960, \"num_neighbours_online\": 3}, {\"index\": 961, \"num_neighbours_online\": 3}, {\"index\": 962, \"num_neighbours_online\": 3}, {\"index\": 963, \"num_neighbours_online\": 3}, {\"index\": 964, \"num_neighbours_online\": 3}, {\"index\": 965, \"num_neighbours_online\": 3}, {\"index\": 966, \"num_neighbours_online\": 3}, {\"index\": 967, \"num_neighbours_online\": 3}, {\"index\": 968, \"num_neighbours_online\": 3}, {\"index\": 969, \"num_neighbours_online\": 3}, {\"index\": 970, \"num_neighbours_online\": 3}, {\"index\": 971, \"num_neighbours_online\": 3}, {\"index\": 972, \"num_neighbours_online\": 3}, {\"index\": 973, \"num_neighbours_online\": 3}, {\"index\": 974, \"num_neighbours_online\": 3}, {\"index\": 975, \"num_neighbours_online\": 3}, {\"index\": 976, \"num_neighbours_online\": 3}, {\"index\": 977, \"num_neighbours_online\": 3}, {\"index\": 978, \"num_neighbours_online\": 3}, {\"index\": 979, \"num_neighbours_online\": 3}, {\"index\": 980, \"num_neighbours_online\": 3}, {\"index\": 981, \"num_neighbours_online\": 3}, {\"index\": 982, \"num_neighbours_online\": 3}, {\"index\": 983, \"num_neighbours_online\": 3}, {\"index\": 984, \"num_neighbours_online\": 3}, {\"index\": 985, \"num_neighbours_online\": 3}, {\"index\": 986, \"num_neighbours_online\": 3}, {\"index\": 987, \"num_neighbours_online\": 3}, {\"index\": 988, \"num_neighbours_online\": 3}, {\"index\": 989, \"num_neighbours_online\": 3}, {\"index\": 990, \"num_neighbours_online\": 3}, {\"index\": 991, \"num_neighbours_online\": 3}, {\"index\": 992, \"num_neighbours_online\": 3}, {\"index\": 993, \"num_neighbours_online\": 3}, {\"index\": 994, \"num_neighbours_online\": 3}, {\"index\": 995, \"num_neighbours_online\": 3}, {\"index\": 996, \"num_neighbours_online\": 3}, {\"index\": 997, \"num_neighbours_online\": 3}, {\"index\": 998, \"num_neighbours_online\": 3}, {\"index\": 999, \"num_neighbours_online\": 3}, {\"index\": 1000, \"num_neighbours_online\": 3}, {\"index\": 1001, \"num_neighbours_online\": 3}, {\"index\": 1002, \"num_neighbours_online\": 3}, {\"index\": 1003, \"num_neighbours_online\": 3}, {\"index\": 1004, \"num_neighbours_online\": 3}, {\"index\": 1005, \"num_neighbours_online\": 3}, {\"index\": 1006, \"num_neighbours_online\": 3}, {\"index\": 1007, \"num_neighbours_online\": 3}, {\"index\": 1008, \"num_neighbours_online\": 3}, {\"index\": 1009, \"num_neighbours_online\": 3}, {\"index\": 1010, \"num_neighbours_online\": 3}, {\"index\": 1011, \"num_neighbours_online\": 3}, {\"index\": 1012, \"num_neighbours_online\": 3}, {\"index\": 1013, \"num_neighbours_online\": 3}, {\"index\": 1014, \"num_neighbours_online\": 3}, {\"index\": 1015, \"num_neighbours_online\": 3}, {\"index\": 1016, \"num_neighbours_online\": 3}, {\"index\": 1017, \"num_neighbours_online\": 3}, {\"index\": 1018, \"num_neighbours_online\": 3}, {\"index\": 1019, \"num_neighbours_online\": 3}, {\"index\": 1020, \"num_neighbours_online\": 3}, {\"index\": 1021, \"num_neighbours_online\": 3}, {\"index\": 1022, \"num_neighbours_online\": 3}, {\"index\": 1023, \"num_neighbours_online\": 3}, {\"index\": 1024, \"num_neighbours_online\": 3}, {\"index\": 1025, \"num_neighbours_online\": 3}, {\"index\": 1026, \"num_neighbours_online\": 3}, {\"index\": 1027, \"num_neighbours_online\": 3}, {\"index\": 1028, \"num_neighbours_online\": 3}, {\"index\": 1029, \"num_neighbours_online\": 3}, {\"index\": 1030, \"num_neighbours_online\": 3}, {\"index\": 1031, \"num_neighbours_online\": 3}, {\"index\": 1032, \"num_neighbours_online\": 3}, {\"index\": 1033, \"num_neighbours_online\": 3}, {\"index\": 1034, \"num_neighbours_online\": 3}, {\"index\": 1035, \"num_neighbours_online\": 3}, {\"index\": 1036, \"num_neighbours_online\": 3}, {\"index\": 1037, \"num_neighbours_online\": 3}, {\"index\": 1038, \"num_neighbours_online\": 3}, {\"index\": 1039, \"num_neighbours_online\": 3}, {\"index\": 1040, \"num_neighbours_online\": 3}, {\"index\": 1041, \"num_neighbours_online\": 3}, {\"index\": 1042, \"num_neighbours_online\": 3}, {\"index\": 1043, \"num_neighbours_online\": 3}, {\"index\": 1044, \"num_neighbours_online\": 3}, {\"index\": 1045, \"num_neighbours_online\": 3}, {\"index\": 1046, \"num_neighbours_online\": 3}, {\"index\": 1047, \"num_neighbours_online\": 3}, {\"index\": 1048, \"num_neighbours_online\": 3}, {\"index\": 1049, \"num_neighbours_online\": 3}, {\"index\": 1050, \"num_neighbours_online\": 3}, {\"index\": 1051, \"num_neighbours_online\": 3}, {\"index\": 1052, \"num_neighbours_online\": 3}, {\"index\": 1053, \"num_neighbours_online\": 3}, {\"index\": 1054, \"num_neighbours_online\": 3}, {\"index\": 1055, \"num_neighbours_online\": 3}, {\"index\": 1056, \"num_neighbours_online\": 3}, {\"index\": 1057, \"num_neighbours_online\": 3}, {\"index\": 1058, \"num_neighbours_online\": 3}, {\"index\": 1059, \"num_neighbours_online\": 3}, {\"index\": 1060, \"num_neighbours_online\": 3}, {\"index\": 1061, \"num_neighbours_online\": 3}, {\"index\": 1062, \"num_neighbours_online\": 3}, {\"index\": 1063, \"num_neighbours_online\": 3}, {\"index\": 1064, \"num_neighbours_online\": 3}, {\"index\": 1065, \"num_neighbours_online\": 3}, {\"index\": 1066, \"num_neighbours_online\": 3}, {\"index\": 1067, \"num_neighbours_online\": 0}, {\"index\": 1068, \"num_neighbours_online\": 3}, {\"index\": 1069, \"num_neighbours_online\": 3}, {\"index\": 1070, \"num_neighbours_online\": 3}, {\"index\": 1071, \"num_neighbours_online\": 3}, {\"index\": 1072, \"num_neighbours_online\": 3}, {\"index\": 1073, \"num_neighbours_online\": 3}, {\"index\": 1074, \"num_neighbours_online\": 3}, {\"index\": 1075, \"num_neighbours_online\": 3}, {\"index\": 1076, \"num_neighbours_online\": 3}, {\"index\": 1077, \"num_neighbours_online\": 3}, {\"index\": 1078, \"num_neighbours_online\": 3}, {\"index\": 1079, \"num_neighbours_online\": 3}, {\"index\": 1080, \"num_neighbours_online\": 3}, {\"index\": 1081, \"num_neighbours_online\": 3}, {\"index\": 1082, \"num_neighbours_online\": 3}, {\"index\": 1083, \"num_neighbours_online\": 3}, {\"index\": 1084, \"num_neighbours_online\": 3}, {\"index\": 1085, \"num_neighbours_online\": 3}, {\"index\": 1086, \"num_neighbours_online\": 3}, {\"index\": 1087, \"num_neighbours_online\": 3}, {\"index\": 1088, \"num_neighbours_online\": 3}, {\"index\": 1089, \"num_neighbours_online\": 3}, {\"index\": 1090, \"num_neighbours_online\": 3}, {\"index\": 1091, \"num_neighbours_online\": 3}, {\"index\": 1092, \"num_neighbours_online\": 3}, {\"index\": 1093, \"num_neighbours_online\": 3}, {\"index\": 1094, \"num_neighbours_online\": 3}, {\"index\": 1095, \"num_neighbours_online\": 3}, {\"index\": 1096, \"num_neighbours_online\": 3}, {\"index\": 1097, \"num_neighbours_online\": 3}, {\"index\": 1098, \"num_neighbours_online\": 3}, {\"index\": 1099, \"num_neighbours_online\": 3}, {\"index\": 1100, \"num_neighbours_online\": 3}, {\"index\": 1101, \"num_neighbours_online\": 3}, {\"index\": 1102, \"num_neighbours_online\": 3}, {\"index\": 1103, \"num_neighbours_online\": 3}, {\"index\": 1104, \"num_neighbours_online\": 3}, {\"index\": 1105, \"num_neighbours_online\": 3}, {\"index\": 1106, \"num_neighbours_online\": 3}, {\"index\": 1107, \"num_neighbours_online\": 3}, {\"index\": 1108, \"num_neighbours_online\": 3}, {\"index\": 1109, \"num_neighbours_online\": 3}, {\"index\": 1110, \"num_neighbours_online\": 3}, {\"index\": 1111, \"num_neighbours_online\": 3}, {\"index\": 1112, \"num_neighbours_online\": 3}, {\"index\": 1113, \"num_neighbours_online\": 3}, {\"index\": 1114, \"num_neighbours_online\": 3}, {\"index\": 1115, \"num_neighbours_online\": 3}, {\"index\": 1116, \"num_neighbours_online\": 3}, {\"index\": 1117, \"num_neighbours_online\": 3}, {\"index\": 1118, \"num_neighbours_online\": 3}, {\"index\": 1119, \"num_neighbours_online\": 3}, {\"index\": 1120, \"num_neighbours_online\": 3}, {\"index\": 1121, \"num_neighbours_online\": 3}, {\"index\": 1122, \"num_neighbours_online\": 3}, {\"index\": 1123, \"num_neighbours_online\": 3}, {\"index\": 1124, \"num_neighbours_online\": 3}, {\"index\": 1125, \"num_neighbours_online\": 3}, {\"index\": 1126, \"num_neighbours_online\": 3}, {\"index\": 1127, \"num_neighbours_online\": 3}, {\"index\": 1128, \"num_neighbours_online\": 3}, {\"index\": 1129, \"num_neighbours_online\": 3}, {\"index\": 1130, \"num_neighbours_online\": 3}, {\"index\": 1131, \"num_neighbours_online\": 3}, {\"index\": 1132, \"num_neighbours_online\": 3}, {\"index\": 1133, \"num_neighbours_online\": 3}, {\"index\": 1134, \"num_neighbours_online\": 3}, {\"index\": 1135, \"num_neighbours_online\": 3}, {\"index\": 1136, \"num_neighbours_online\": 3}, {\"index\": 1137, \"num_neighbours_online\": 3}, {\"index\": 1138, \"num_neighbours_online\": 3}, {\"index\": 1139, \"num_neighbours_online\": 3}, {\"index\": 1140, \"num_neighbours_online\": 3}, {\"index\": 1141, \"num_neighbours_online\": 3}, {\"index\": 1142, \"num_neighbours_online\": 3}, {\"index\": 1143, \"num_neighbours_online\": 3}, {\"index\": 1144, \"num_neighbours_online\": 3}, {\"index\": 1145, \"num_neighbours_online\": 3}, {\"index\": 1146, \"num_neighbours_online\": 3}, {\"index\": 1147, \"num_neighbours_online\": 3}, {\"index\": 1148, \"num_neighbours_online\": 3}, {\"index\": 1149, \"num_neighbours_online\": 3}, {\"index\": 1150, \"num_neighbours_online\": 3}, {\"index\": 1151, \"num_neighbours_online\": 3}, {\"index\": 1152, \"num_neighbours_online\": 3}, {\"index\": 1153, \"num_neighbours_online\": 3}, {\"index\": 1154, \"num_neighbours_online\": 3}, {\"index\": 1155, \"num_neighbours_online\": 3}, {\"index\": 1156, \"num_neighbours_online\": 3}, {\"index\": 1157, \"num_neighbours_online\": 3}, {\"index\": 1158, \"num_neighbours_online\": 3}, {\"index\": 1159, \"num_neighbours_online\": 3}, {\"index\": 1160, \"num_neighbours_online\": 3}, {\"index\": 1161, \"num_neighbours_online\": 3}, {\"index\": 1162, \"num_neighbours_online\": 3}, {\"index\": 1163, \"num_neighbours_online\": 3}, {\"index\": 1164, \"num_neighbours_online\": 3}, {\"index\": 1165, \"num_neighbours_online\": 3}, {\"index\": 1166, \"num_neighbours_online\": 3}, {\"index\": 1167, \"num_neighbours_online\": 3}, {\"index\": 1168, \"num_neighbours_online\": 3}, {\"index\": 1169, \"num_neighbours_online\": 3}, {\"index\": 1170, \"num_neighbours_online\": 3}, {\"index\": 1171, \"num_neighbours_online\": 3}, {\"index\": 1172, \"num_neighbours_online\": 3}, {\"index\": 1173, \"num_neighbours_online\": 3}, {\"index\": 1174, \"num_neighbours_online\": 3}, {\"index\": 1175, \"num_neighbours_online\": 3}, {\"index\": 1176, \"num_neighbours_online\": 3}, {\"index\": 1177, \"num_neighbours_online\": 3}, {\"index\": 1178, \"num_neighbours_online\": 3}, {\"index\": 1179, \"num_neighbours_online\": 3}, {\"index\": 1180, \"num_neighbours_online\": 3}, {\"index\": 1181, \"num_neighbours_online\": 3}, {\"index\": 1182, \"num_neighbours_online\": 3}, {\"index\": 1183, \"num_neighbours_online\": 3}, {\"index\": 1184, \"num_neighbours_online\": 3}, {\"index\": 1185, \"num_neighbours_online\": 3}, {\"index\": 1186, \"num_neighbours_online\": 3}, {\"index\": 1187, \"num_neighbours_online\": 3}, {\"index\": 1188, \"num_neighbours_online\": 3}, {\"index\": 1189, \"num_neighbours_online\": 3}, {\"index\": 1190, \"num_neighbours_online\": 3}, {\"index\": 1191, \"num_neighbours_online\": 3}, {\"index\": 1192, \"num_neighbours_online\": 3}, {\"index\": 1193, \"num_neighbours_online\": 3}, {\"index\": 1194, \"num_neighbours_online\": 3}, {\"index\": 1195, \"num_neighbours_online\": 3}, {\"index\": 1196, \"num_neighbours_online\": 3}, {\"index\": 1197, \"num_neighbours_online\": 3}, {\"index\": 1198, \"num_neighbours_online\": 3}, {\"index\": 1199, \"num_neighbours_online\": 3}, {\"index\": 1200, \"num_neighbours_online\": 3}, {\"index\": 1201, \"num_neighbours_online\": 3}, {\"index\": 1202, \"num_neighbours_online\": 3}, {\"index\": 1203, \"num_neighbours_online\": 3}, {\"index\": 1204, \"num_neighbours_online\": 3}, {\"index\": 1205, \"num_neighbours_online\": 3}, {\"index\": 1206, \"num_neighbours_online\": 3}, {\"index\": 1207, \"num_neighbours_online\": 3}, {\"index\": 1208, \"num_neighbours_online\": 3}, {\"index\": 1209, \"num_neighbours_online\": 3}, {\"index\": 1210, \"num_neighbours_online\": 3}, {\"index\": 1211, \"num_neighbours_online\": 3}, {\"index\": 1212, \"num_neighbours_online\": 3}, {\"index\": 1213, \"num_neighbours_online\": 3}, {\"index\": 1214, \"num_neighbours_online\": 3}, {\"index\": 1215, \"num_neighbours_online\": 3}, {\"index\": 1216, \"num_neighbours_online\": 3}, {\"index\": 1217, \"num_neighbours_online\": 3}, {\"index\": 1218, \"num_neighbours_online\": 3}, {\"index\": 1219, \"num_neighbours_online\": 3}, {\"index\": 1220, \"num_neighbours_online\": 3}, {\"index\": 1221, \"num_neighbours_online\": 3}, {\"index\": 1222, \"num_neighbours_online\": 3}, {\"index\": 1223, \"num_neighbours_online\": 3}, {\"index\": 1224, \"num_neighbours_online\": 3}, {\"index\": 1225, \"num_neighbours_online\": 3}, {\"index\": 1226, \"num_neighbours_online\": 3}, {\"index\": 1227, \"num_neighbours_online\": 3}, {\"index\": 1228, \"num_neighbours_online\": 3}, {\"index\": 1229, \"num_neighbours_online\": 3}, {\"index\": 1230, \"num_neighbours_online\": 3}, {\"index\": 1231, \"num_neighbours_online\": 3}, {\"index\": 1232, \"num_neighbours_online\": 3}, {\"index\": 1233, \"num_neighbours_online\": 3}, {\"index\": 1234, \"num_neighbours_online\": 3}, {\"index\": 1235, \"num_neighbours_online\": 3}, {\"index\": 1236, \"num_neighbours_online\": 3}, {\"index\": 1237, \"num_neighbours_online\": 3}, {\"index\": 1238, \"num_neighbours_online\": 3}, {\"index\": 1239, \"num_neighbours_online\": 3}, {\"index\": 1240, \"num_neighbours_online\": 3}, {\"index\": 1241, \"num_neighbours_online\": 3}, {\"index\": 1242, \"num_neighbours_online\": 3}, {\"index\": 1243, \"num_neighbours_online\": 3}, {\"index\": 1244, \"num_neighbours_online\": 3}, {\"index\": 1245, \"num_neighbours_online\": 3}, {\"index\": 1246, \"num_neighbours_online\": 3}, {\"index\": 1247, \"num_neighbours_online\": 3}, {\"index\": 1248, \"num_neighbours_online\": 3}, {\"index\": 1249, \"num_neighbours_online\": 3}, {\"index\": 1250, \"num_neighbours_online\": 3}, {\"index\": 1251, \"num_neighbours_online\": 3}, {\"index\": 1252, \"num_neighbours_online\": 3}, {\"index\": 1253, \"num_neighbours_online\": 3}, {\"index\": 1254, \"num_neighbours_online\": 3}, {\"index\": 1255, \"num_neighbours_online\": 3}, {\"index\": 1256, \"num_neighbours_online\": 3}, {\"index\": 1257, \"num_neighbours_online\": 3}, {\"index\": 1258, \"num_neighbours_online\": 3}, {\"index\": 1259, \"num_neighbours_online\": 3}, {\"index\": 1260, \"num_neighbours_online\": 3}, {\"index\": 1261, \"num_neighbours_online\": 3}, {\"index\": 1262, \"num_neighbours_online\": 3}, {\"index\": 1263, \"num_neighbours_online\": 3}, {\"index\": 1264, \"num_neighbours_online\": 3}, {\"index\": 1265, \"num_neighbours_online\": 3}, {\"index\": 1266, \"num_neighbours_online\": 3}, {\"index\": 1267, \"num_neighbours_online\": 3}, {\"index\": 1268, \"num_neighbours_online\": 3}, {\"index\": 1269, \"num_neighbours_online\": 3}, {\"index\": 1270, \"num_neighbours_online\": 3}, {\"index\": 1271, \"num_neighbours_online\": 3}, {\"index\": 1272, \"num_neighbours_online\": 3}, {\"index\": 1273, \"num_neighbours_online\": 3}, {\"index\": 1274, \"num_neighbours_online\": 3}, {\"index\": 1275, \"num_neighbours_online\": 3}, {\"index\": 1276, \"num_neighbours_online\": 3}, {\"index\": 1277, \"num_neighbours_online\": 3}, {\"index\": 1278, \"num_neighbours_online\": 3}, {\"index\": 1279, \"num_neighbours_online\": 3}, {\"index\": 1280, \"num_neighbours_online\": 3}, {\"index\": 1281, \"num_neighbours_online\": 3}, {\"index\": 1282, \"num_neighbours_online\": 3}, {\"index\": 1283, \"num_neighbours_online\": 3}, {\"index\": 1284, \"num_neighbours_online\": 3}, {\"index\": 1285, \"num_neighbours_online\": 3}, {\"index\": 1286, \"num_neighbours_online\": 3}, {\"index\": 1287, \"num_neighbours_online\": 3}, {\"index\": 1288, \"num_neighbours_online\": 3}, {\"index\": 1289, \"num_neighbours_online\": 3}, {\"index\": 1290, \"num_neighbours_online\": 3}, {\"index\": 1291, \"num_neighbours_online\": 3}, {\"index\": 1292, \"num_neighbours_online\": 3}, {\"index\": 1293, \"num_neighbours_online\": 3}, {\"index\": 1294, \"num_neighbours_online\": 3}, {\"index\": 1295, \"num_neighbours_online\": 3}, {\"index\": 1296, \"num_neighbours_online\": 3}, {\"index\": 1297, \"num_neighbours_online\": 3}, {\"index\": 1298, \"num_neighbours_online\": 3}, {\"index\": 1299, \"num_neighbours_online\": 3}, {\"index\": 1300, \"num_neighbours_online\": 3}, {\"index\": 1301, \"num_neighbours_online\": 3}, {\"index\": 1302, \"num_neighbours_online\": 3}, {\"index\": 1303, \"num_neighbours_online\": 3}, {\"index\": 1304, \"num_neighbours_online\": 3}, {\"index\": 1305, \"num_neighbours_online\": 3}, {\"index\": 1306, \"num_neighbours_online\": 3}, {\"index\": 1307, \"num_neighbours_online\": 3}, {\"index\": 1308, \"num_neighbours_online\": 3}, {\"index\": 1309, \"num_neighbours_online\": 3}, {\"index\": 1310, \"num_neighbours_online\": 3}, {\"index\": 1311, \"num_neighbours_online\": 3}, {\"index\": 1312, \"num_neighbours_online\": 3}, {\"index\": 1313, \"num_neighbours_online\": 3}, {\"index\": 1314, \"num_neighbours_online\": 3}, {\"index\": 1315, \"num_neighbours_online\": 3}, {\"index\": 1316, \"num_neighbours_online\": 3}, {\"index\": 1317, \"num_neighbours_online\": 3}, {\"index\": 1318, \"num_neighbours_online\": 3}, {\"index\": 1319, \"num_neighbours_online\": 3}, {\"index\": 1320, \"num_neighbours_online\": 3}, {\"index\": 1321, \"num_neighbours_online\": 3}, {\"index\": 1322, \"num_neighbours_online\": 3}, {\"index\": 1323, \"num_neighbours_online\": 3}, {\"index\": 1324, \"num_neighbours_online\": 3}, {\"index\": 1325, \"num_neighbours_online\": 3}, {\"index\": 1326, \"num_neighbours_online\": 3}, {\"index\": 1327, \"num_neighbours_online\": 3}, {\"index\": 1328, \"num_neighbours_online\": 3}, {\"index\": 1329, \"num_neighbours_online\": 3}, {\"index\": 1330, \"num_neighbours_online\": 3}, {\"index\": 1331, \"num_neighbours_online\": 3}, {\"index\": 1332, \"num_neighbours_online\": 3}, {\"index\": 1333, \"num_neighbours_online\": 3}, {\"index\": 1334, \"num_neighbours_online\": 3}, {\"index\": 1335, \"num_neighbours_online\": 3}, {\"index\": 1336, \"num_neighbours_online\": 3}, {\"index\": 1337, \"num_neighbours_online\": 3}, {\"index\": 1338, \"num_neighbours_online\": 3}, {\"index\": 1339, \"num_neighbours_online\": 3}, {\"index\": 1340, \"num_neighbours_online\": 3}, {\"index\": 1341, \"num_neighbours_online\": 3}, {\"index\": 1342, \"num_neighbours_online\": 3}, {\"index\": 1343, \"num_neighbours_online\": 3}, {\"index\": 1344, \"num_neighbours_online\": 3}, {\"index\": 1345, \"num_neighbours_online\": 3}, {\"index\": 1346, \"num_neighbours_online\": 3}, {\"index\": 1347, \"num_neighbours_online\": 3}, {\"index\": 1348, \"num_neighbours_online\": 3}, {\"index\": 1349, \"num_neighbours_online\": 3}, {\"index\": 1350, \"num_neighbours_online\": 3}, {\"index\": 1351, \"num_neighbours_online\": 3}, {\"index\": 1352, \"num_neighbours_online\": 3}, {\"index\": 1353, \"num_neighbours_online\": 3}, {\"index\": 1354, \"num_neighbours_online\": 3}, {\"index\": 1355, \"num_neighbours_online\": 3}, {\"index\": 1356, \"num_neighbours_online\": 3}, {\"index\": 1357, \"num_neighbours_online\": 3}, {\"index\": 1358, \"num_neighbours_online\": 3}, {\"index\": 1359, \"num_neighbours_online\": 3}, {\"index\": 1360, \"num_neighbours_online\": 3}, {\"index\": 1361, \"num_neighbours_online\": 3}, {\"index\": 1362, \"num_neighbours_online\": 3}, {\"index\": 1363, \"num_neighbours_online\": 3}, {\"index\": 1364, \"num_neighbours_online\": 3}, {\"index\": 1365, \"num_neighbours_online\": 3}, {\"index\": 1366, \"num_neighbours_online\": 3}, {\"index\": 1367, \"num_neighbours_online\": 3}, {\"index\": 1368, \"num_neighbours_online\": 3}, {\"index\": 1369, \"num_neighbours_online\": 3}, {\"index\": 1370, \"num_neighbours_online\": 3}, {\"index\": 1371, \"num_neighbours_online\": 3}, {\"index\": 1372, \"num_neighbours_online\": 3}, {\"index\": 1373, \"num_neighbours_online\": 3}, {\"index\": 1374, \"num_neighbours_online\": 3}, {\"index\": 1375, \"num_neighbours_online\": 3}, {\"index\": 1376, \"num_neighbours_online\": 3}, {\"index\": 1377, \"num_neighbours_online\": 3}, {\"index\": 1378, \"num_neighbours_online\": 3}, {\"index\": 1379, \"num_neighbours_online\": 3}, {\"index\": 1380, \"num_neighbours_online\": 3}, {\"index\": 1381, \"num_neighbours_online\": 3}, {\"index\": 1382, \"num_neighbours_online\": 3}, {\"index\": 1383, \"num_neighbours_online\": 3}, {\"index\": 1384, \"num_neighbours_online\": 3}, {\"index\": 1385, \"num_neighbours_online\": 3}, {\"index\": 1386, \"num_neighbours_online\": 3}, {\"index\": 1387, \"num_neighbours_online\": 3}, {\"index\": 1388, \"num_neighbours_online\": 3}, {\"index\": 1389, \"num_neighbours_online\": 3}, {\"index\": 1390, \"num_neighbours_online\": 3}, {\"index\": 1391, \"num_neighbours_online\": 3}, {\"index\": 1392, \"num_neighbours_online\": 3}, {\"index\": 1393, \"num_neighbours_online\": 3}, {\"index\": 1394, \"num_neighbours_online\": 3}, {\"index\": 1395, \"num_neighbours_online\": 3}, {\"index\": 1396, \"num_neighbours_online\": 3}, {\"index\": 1397, \"num_neighbours_online\": 3}, {\"index\": 1398, \"num_neighbours_online\": 3}, {\"index\": 1399, \"num_neighbours_online\": 3}, {\"index\": 1400, \"num_neighbours_online\": 3}, {\"index\": 1401, \"num_neighbours_online\": 3}, {\"index\": 1402, \"num_neighbours_online\": 3}, {\"index\": 1403, \"num_neighbours_online\": 3}, {\"index\": 1404, \"num_neighbours_online\": 3}, {\"index\": 1405, \"num_neighbours_online\": 3}, {\"index\": 1406, \"num_neighbours_online\": 3}, {\"index\": 1407, \"num_neighbours_online\": 3}, {\"index\": 1408, \"num_neighbours_online\": 3}, {\"index\": 1409, \"num_neighbours_online\": 3}, {\"index\": 1410, \"num_neighbours_online\": 3}, {\"index\": 1411, \"num_neighbours_online\": 3}, {\"index\": 1412, \"num_neighbours_online\": 3}, {\"index\": 1413, \"num_neighbours_online\": 3}, {\"index\": 1414, \"num_neighbours_online\": 3}, {\"index\": 1415, \"num_neighbours_online\": 3}, {\"index\": 1416, \"num_neighbours_online\": 3}, {\"index\": 1417, \"num_neighbours_online\": 3}, {\"index\": 1418, \"num_neighbours_online\": 3}, {\"index\": 1419, \"num_neighbours_online\": 3}, {\"index\": 1420, \"num_neighbours_online\": 3}, {\"index\": 1421, \"num_neighbours_online\": 3}, {\"index\": 1422, \"num_neighbours_online\": 3}, {\"index\": 1423, \"num_neighbours_online\": 3}, {\"index\": 1424, \"num_neighbours_online\": 3}, {\"index\": 1425, \"num_neighbours_online\": 3}, {\"index\": 1426, \"num_neighbours_online\": 3}, {\"index\": 1427, \"num_neighbours_online\": 3}, {\"index\": 1428, \"num_neighbours_online\": 3}, {\"index\": 1429, \"num_neighbours_online\": 3}, {\"index\": 1430, \"num_neighbours_online\": 3}, {\"index\": 1431, \"num_neighbours_online\": 3}, {\"index\": 1432, \"num_neighbours_online\": 3}, {\"index\": 1433, \"num_neighbours_online\": 3}, {\"index\": 1434, \"num_neighbours_online\": 3}, {\"index\": 1435, \"num_neighbours_online\": 3}, {\"index\": 1436, \"num_neighbours_online\": 3}, {\"index\": 1437, \"num_neighbours_online\": 3}, {\"index\": 1438, \"num_neighbours_online\": 3}, {\"index\": 1439, \"num_neighbours_online\": 3}, {\"index\": 1440, \"num_neighbours_online\": 3}, {\"index\": 1441, \"num_neighbours_online\": 3}, {\"index\": 1442, \"num_neighbours_online\": 3}, {\"index\": 1443, \"num_neighbours_online\": 3}, {\"index\": 1444, \"num_neighbours_online\": 3}, {\"index\": 1445, \"num_neighbours_online\": 3}, {\"index\": 1446, \"num_neighbours_online\": 3}, {\"index\": 1447, \"num_neighbours_online\": 3}, {\"index\": 1448, \"num_neighbours_online\": 3}, {\"index\": 1449, \"num_neighbours_online\": 3}, {\"index\": 1450, \"num_neighbours_online\": 3}, {\"index\": 1451, \"num_neighbours_online\": 3}, {\"index\": 1452, \"num_neighbours_online\": 3}, {\"index\": 1453, \"num_neighbours_online\": 3}, {\"index\": 1454, \"num_neighbours_online\": 3}, {\"index\": 1455, \"num_neighbours_online\": 3}, {\"index\": 1456, \"num_neighbours_online\": 3}, {\"index\": 1457, \"num_neighbours_online\": 3}, {\"index\": 1458, \"num_neighbours_online\": 3}, {\"index\": 1459, \"num_neighbours_online\": 3}, {\"index\": 1460, \"num_neighbours_online\": 3}, {\"index\": 1461, \"num_neighbours_online\": 0}, {\"index\": 1462, \"num_neighbours_online\": 0}, {\"index\": 1463, \"num_neighbours_online\": 0}, {\"index\": 1464, \"num_neighbours_online\": 0}, {\"index\": 1465, \"num_neighbours_online\": 0}, {\"index\": 1466, \"num_neighbours_online\": 0}, {\"index\": 1467, \"num_neighbours_online\": 0}, {\"index\": 1468, \"num_neighbours_online\": 0}, {\"index\": 1469, \"num_neighbours_online\": 3}, {\"index\": 1470, \"num_neighbours_online\": 3}, {\"index\": 1471, \"num_neighbours_online\": 3}, {\"index\": 1472, \"num_neighbours_online\": 3}, {\"index\": 1473, \"num_neighbours_online\": 3}, {\"index\": 1474, \"num_neighbours_online\": 3}, {\"index\": 1475, \"num_neighbours_online\": 3}, {\"index\": 1476, \"num_neighbours_online\": 3}, {\"index\": 1477, \"num_neighbours_online\": 3}, {\"index\": 1478, \"num_neighbours_online\": 3}, {\"index\": 1479, \"num_neighbours_online\": 3}, {\"index\": 1480, \"num_neighbours_online\": 3}, {\"index\": 1481, \"num_neighbours_online\": 3}, {\"index\": 1482, \"num_neighbours_online\": 3}, {\"index\": 1483, \"num_neighbours_online\": 3}, {\"index\": 1484, \"num_neighbours_online\": 3}, {\"index\": 1485, \"num_neighbours_online\": 3}, {\"index\": 1486, \"num_neighbours_online\": 3}, {\"index\": 1487, \"num_neighbours_online\": 3}, {\"index\": 1488, \"num_neighbours_online\": 0}, {\"index\": 1489, \"num_neighbours_online\": 0}, {\"index\": 1490, \"num_neighbours_online\": 0}, {\"index\": 1491, \"num_neighbours_online\": 0}, {\"index\": 1492, \"num_neighbours_online\": 0}, {\"index\": 1493, \"num_neighbours_online\": 0}, {\"index\": 1494, \"num_neighbours_online\": 0}, {\"index\": 1495, \"num_neighbours_online\": 0}, {\"index\": 1496, \"num_neighbours_online\": 3}, {\"index\": 1497, \"num_neighbours_online\": 3}, {\"index\": 1498, \"num_neighbours_online\": 3}, {\"index\": 1499, \"num_neighbours_online\": 3}, {\"index\": 1500, \"num_neighbours_online\": 3}, {\"index\": 1501, \"num_neighbours_online\": 3}, {\"index\": 1502, \"num_neighbours_online\": 3}, {\"index\": 1503, \"num_neighbours_online\": 3}, {\"index\": 1504, \"num_neighbours_online\": 3}, {\"index\": 1505, \"num_neighbours_online\": 3}, {\"index\": 1506, \"num_neighbours_online\": 3}, {\"index\": 1507, \"num_neighbours_online\": 3}, {\"index\": 1508, \"num_neighbours_online\": 3}, {\"index\": 1509, \"num_neighbours_online\": 3}, {\"index\": 1510, \"num_neighbours_online\": 3}, {\"index\": 1511, \"num_neighbours_online\": 3}, {\"index\": 1512, \"num_neighbours_online\": 3}, {\"index\": 1513, \"num_neighbours_online\": 3}, {\"index\": 1514, \"num_neighbours_online\": 3}, {\"index\": 1515, \"num_neighbours_online\": 3}, {\"index\": 1516, \"num_neighbours_online\": 3}, {\"index\": 1517, \"num_neighbours_online\": 3}, {\"index\": 1518, \"num_neighbours_online\": 3}, {\"index\": 1519, \"num_neighbours_online\": 3}, {\"index\": 1520, \"num_neighbours_online\": 3}, {\"index\": 1521, \"num_neighbours_online\": 3}, {\"index\": 1522, \"num_neighbours_online\": 3}, {\"index\": 1523, \"num_neighbours_online\": 3}, {\"index\": 1524, \"num_neighbours_online\": 3}, {\"index\": 1525, \"num_neighbours_online\": 3}, {\"index\": 1526, \"num_neighbours_online\": 3}, {\"index\": 1527, \"num_neighbours_online\": 3}, {\"index\": 1528, \"num_neighbours_online\": 3}, {\"index\": 1529, \"num_neighbours_online\": 3}, {\"index\": 1530, \"num_neighbours_online\": 3}, {\"index\": 1531, \"num_neighbours_online\": 3}, {\"index\": 1532, \"num_neighbours_online\": 3}, {\"index\": 1533, \"num_neighbours_online\": 3}, {\"index\": 1534, \"num_neighbours_online\": 3}, {\"index\": 1535, \"num_neighbours_online\": 3}, {\"index\": 1536, \"num_neighbours_online\": 3}, {\"index\": 1537, \"num_neighbours_online\": 3}, {\"index\": 1538, \"num_neighbours_online\": 3}, {\"index\": 1539, \"num_neighbours_online\": 0}, {\"index\": 1540, \"num_neighbours_online\": 0}, {\"index\": 1541, \"num_neighbours_online\": 0}, {\"index\": 1542, \"num_neighbours_online\": 0}, {\"index\": 1543, \"num_neighbours_online\": 0}, {\"index\": 1544, \"num_neighbours_online\": 0}, {\"index\": 1545, \"num_neighbours_online\": 0}, {\"index\": 1546, \"num_neighbours_online\": 0}, {\"index\": 1547, \"num_neighbours_online\": 3}, {\"index\": 1548, \"num_neighbours_online\": 3}, {\"index\": 1549, \"num_neighbours_online\": 3}, {\"index\": 1550, \"num_neighbours_online\": 3}, {\"index\": 1551, \"num_neighbours_online\": 3}, {\"index\": 1552, \"num_neighbours_online\": 3}, {\"index\": 1553, \"num_neighbours_online\": 3}, {\"index\": 1554, \"num_neighbours_online\": 3}, {\"index\": 1555, \"num_neighbours_online\": 3}, {\"index\": 1556, \"num_neighbours_online\": 3}, {\"index\": 1557, \"num_neighbours_online\": 3}, {\"index\": 1558, \"num_neighbours_online\": 3}, {\"index\": 1559, \"num_neighbours_online\": 3}, {\"index\": 1560, \"num_neighbours_online\": 3}, {\"index\": 1561, \"num_neighbours_online\": 3}, {\"index\": 1562, \"num_neighbours_online\": 3}, {\"index\": 1563, \"num_neighbours_online\": 3}, {\"index\": 1564, \"num_neighbours_online\": 3}, {\"index\": 1565, \"num_neighbours_online\": 3}, {\"index\": 1566, \"num_neighbours_online\": 3}, {\"index\": 1567, \"num_neighbours_online\": 3}, {\"index\": 1568, \"num_neighbours_online\": 3}, {\"index\": 1569, \"num_neighbours_online\": 3}, {\"index\": 1570, \"num_neighbours_online\": 3}, {\"index\": 1571, \"num_neighbours_online\": 3}, {\"index\": 1572, \"num_neighbours_online\": 3}, {\"index\": 1573, \"num_neighbours_online\": 3}, {\"index\": 1574, \"num_neighbours_online\": 3}, {\"index\": 1575, \"num_neighbours_online\": 3}, {\"index\": 1576, \"num_neighbours_online\": 3}, {\"index\": 1577, \"num_neighbours_online\": 3}, {\"index\": 1578, \"num_neighbours_online\": 3}, {\"index\": 1579, \"num_neighbours_online\": 3}, {\"index\": 1580, \"num_neighbours_online\": 3}, {\"index\": 1581, \"num_neighbours_online\": 3}, {\"index\": 1582, \"num_neighbours_online\": 3}, {\"index\": 1583, \"num_neighbours_online\": 3}, {\"index\": 1584, \"num_neighbours_online\": 3}, {\"index\": 1585, \"num_neighbours_online\": 3}, {\"index\": 1586, \"num_neighbours_online\": 3}, {\"index\": 1587, \"num_neighbours_online\": 0}, {\"index\": 1588, \"num_neighbours_online\": 0}, {\"index\": 1589, \"num_neighbours_online\": 0}, {\"index\": 1590, \"num_neighbours_online\": 0}, {\"index\": 1591, \"num_neighbours_online\": 0}, {\"index\": 1592, \"num_neighbours_online\": 0}, {\"index\": 1593, \"num_neighbours_online\": 0}, {\"index\": 1594, \"num_neighbours_online\": 0}, {\"index\": 1595, \"num_neighbours_online\": 3}, {\"index\": 1596, \"num_neighbours_online\": 3}, {\"index\": 1597, \"num_neighbours_online\": 3}, {\"index\": 1598, \"num_neighbours_online\": 3}, {\"index\": 1599, \"num_neighbours_online\": 3}, {\"index\": 1600, \"num_neighbours_online\": 3}, {\"index\": 1601, \"num_neighbours_online\": 3}, {\"index\": 1602, \"num_neighbours_online\": 3}, {\"index\": 1603, \"num_neighbours_online\": 3}, {\"index\": 1604, \"num_neighbours_online\": 3}, {\"index\": 1605, \"num_neighbours_online\": 3}, {\"index\": 1606, \"num_neighbours_online\": 3}, {\"index\": 1607, \"num_neighbours_online\": 3}, {\"index\": 1608, \"num_neighbours_online\": 3}, {\"index\": 1609, \"num_neighbours_online\": 3}, {\"index\": 1610, \"num_neighbours_online\": 3}, {\"index\": 1611, \"num_neighbours_online\": 3}, {\"index\": 1612, \"num_neighbours_online\": 3}, {\"index\": 1613, \"num_neighbours_online\": 3}, {\"index\": 1614, \"num_neighbours_online\": 3}, {\"index\": 1615, \"num_neighbours_online\": 3}, {\"index\": 1616, \"num_neighbours_online\": 3}, {\"index\": 1617, \"num_neighbours_online\": 3}, {\"index\": 1618, \"num_neighbours_online\": 3}, {\"index\": 1619, \"num_neighbours_online\": 3}, {\"index\": 1620, \"num_neighbours_online\": 0}, {\"index\": 1621, \"num_neighbours_online\": 0}, {\"index\": 1622, \"num_neighbours_online\": 0}, {\"index\": 1623, \"num_neighbours_online\": 0}, {\"index\": 1624, \"num_neighbours_online\": 0}, {\"index\": 1625, \"num_neighbours_online\": 0}, {\"index\": 1626, \"num_neighbours_online\": 0}, {\"index\": 1627, \"num_neighbours_online\": 0}, {\"index\": 1628, \"num_neighbours_online\": 3}, {\"index\": 1629, \"num_neighbours_online\": 3}, {\"index\": 1630, \"num_neighbours_online\": 3}, {\"index\": 1631, \"num_neighbours_online\": 3}, {\"index\": 1632, \"num_neighbours_online\": 3}, {\"index\": 1633, \"num_neighbours_online\": 3}, {\"index\": 1634, \"num_neighbours_online\": 3}, {\"index\": 1635, \"num_neighbours_online\": 3}, {\"index\": 1636, \"num_neighbours_online\": 3}, {\"index\": 1637, \"num_neighbours_online\": 3}, {\"index\": 1638, \"num_neighbours_online\": 3}, {\"index\": 1639, \"num_neighbours_online\": 3}, {\"index\": 1640, \"num_neighbours_online\": 3}, {\"index\": 1641, \"num_neighbours_online\": 3}, {\"index\": 1642, \"num_neighbours_online\": 3}, {\"index\": 1643, \"num_neighbours_online\": 3}, {\"index\": 1644, \"num_neighbours_online\": 3}, {\"index\": 1645, \"num_neighbours_online\": 3}, {\"index\": 1646, \"num_neighbours_online\": 3}, {\"index\": 1647, \"num_neighbours_online\": 3}, {\"index\": 1648, \"num_neighbours_online\": 3}, {\"index\": 1649, \"num_neighbours_online\": 3}, {\"index\": 1650, \"num_neighbours_online\": 3}, {\"index\": 1651, \"num_neighbours_online\": 3}, {\"index\": 1652, \"num_neighbours_online\": 3}, {\"index\": 1653, \"num_neighbours_online\": 3}, {\"index\": 1654, \"num_neighbours_online\": 3}, {\"index\": 1655, \"num_neighbours_online\": 3}, {\"index\": 1656, \"num_neighbours_online\": 3}, {\"index\": 1657, \"num_neighbours_online\": 3}, {\"index\": 1658, \"num_neighbours_online\": 3}, {\"index\": 1659, \"num_neighbours_online\": 3}, {\"index\": 1660, \"num_neighbours_online\": 3}, {\"index\": 1661, \"num_neighbours_online\": 3}, {\"index\": 1662, \"num_neighbours_online\": 0}, {\"index\": 1663, \"num_neighbours_online\": 0}, {\"index\": 1664, \"num_neighbours_online\": 0}, {\"index\": 1665, \"num_neighbours_online\": 0}, {\"index\": 1666, \"num_neighbours_online\": 0}, {\"index\": 1667, \"num_neighbours_online\": 0}, {\"index\": 1668, \"num_neighbours_online\": 0}, {\"index\": 1669, \"num_neighbours_online\": 0}, {\"index\": 1670, \"num_neighbours_online\": 3}, {\"index\": 1671, \"num_neighbours_online\": 3}, {\"index\": 1672, \"num_neighbours_online\": 3}, {\"index\": 1673, \"num_neighbours_online\": 3}, {\"index\": 1674, \"num_neighbours_online\": 3}, {\"index\": 1675, \"num_neighbours_online\": 3}, {\"index\": 1676, \"num_neighbours_online\": 3}, {\"index\": 1677, \"num_neighbours_online\": 3}, {\"index\": 1678, \"num_neighbours_online\": 3}, {\"index\": 1679, \"num_neighbours_online\": 3}, {\"index\": 1680, \"num_neighbours_online\": 3}, {\"index\": 1681, \"num_neighbours_online\": 3}, {\"index\": 1682, \"num_neighbours_online\": 3}, {\"index\": 1683, \"num_neighbours_online\": 3}, {\"index\": 1684, \"num_neighbours_online\": 3}, {\"index\": 1685, \"num_neighbours_online\": 3}, {\"index\": 1686, \"num_neighbours_online\": 3}, {\"index\": 1687, \"num_neighbours_online\": 3}, {\"index\": 1688, \"num_neighbours_online\": 3}, {\"index\": 1689, \"num_neighbours_online\": 3}, {\"index\": 1690, \"num_neighbours_online\": 3}, {\"index\": 1691, \"num_neighbours_online\": 3}, {\"index\": 1692, \"num_neighbours_online\": 3}, {\"index\": 1693, \"num_neighbours_online\": 3}, {\"index\": 1694, \"num_neighbours_online\": 3}, {\"index\": 1695, \"num_neighbours_online\": 3}, {\"index\": 1696, \"num_neighbours_online\": 3}, {\"index\": 1697, \"num_neighbours_online\": 3}, {\"index\": 1698, \"num_neighbours_online\": 3}, {\"index\": 1699, \"num_neighbours_online\": 3}, {\"index\": 1700, \"num_neighbours_online\": 3}, {\"index\": 1701, \"num_neighbours_online\": 3}, {\"index\": 1702, \"num_neighbours_online\": 3}, {\"index\": 1703, \"num_neighbours_online\": 3}, {\"index\": 1704, \"num_neighbours_online\": 3}, {\"index\": 1705, \"num_neighbours_online\": 3}, {\"index\": 1706, \"num_neighbours_online\": 3}, {\"index\": 1707, \"num_neighbours_online\": 3}, {\"index\": 1708, \"num_neighbours_online\": 3}, {\"index\": 1709, \"num_neighbours_online\": 3}, {\"index\": 1710, \"num_neighbours_online\": 3}, {\"index\": 1711, \"num_neighbours_online\": 3}, {\"index\": 1712, \"num_neighbours_online\": 3}, {\"index\": 1713, \"num_neighbours_online\": 3}, {\"index\": 1714, \"num_neighbours_online\": 3}, {\"index\": 1715, \"num_neighbours_online\": 3}, {\"index\": 1716, \"num_neighbours_online\": 3}, {\"index\": 1717, \"num_neighbours_online\": 3}, {\"index\": 1718, \"num_neighbours_online\": 3}, {\"index\": 1719, \"num_neighbours_online\": 3}, {\"index\": 1720, \"num_neighbours_online\": 3}, {\"index\": 1721, \"num_neighbours_online\": 3}, {\"index\": 1722, \"num_neighbours_online\": 3}, {\"index\": 1723, \"num_neighbours_online\": 3}, {\"index\": 1724, \"num_neighbours_online\": 3}, {\"index\": 1725, \"num_neighbours_online\": 3}, {\"index\": 1726, \"num_neighbours_online\": 3}, {\"index\": 1727, \"num_neighbours_online\": 3}, {\"index\": 1728, \"num_neighbours_online\": 3}, {\"index\": 1729, \"num_neighbours_online\": 3}, {\"index\": 1730, \"num_neighbours_online\": 3}, {\"index\": 1731, \"num_neighbours_online\": 3}, {\"index\": 1732, \"num_neighbours_online\": 3}, {\"index\": 1733, \"num_neighbours_online\": 3}, {\"index\": 1734, \"num_neighbours_online\": 3}, {\"index\": 1735, \"num_neighbours_online\": 3}, {\"index\": 1736, \"num_neighbours_online\": 3}, {\"index\": 1737, \"num_neighbours_online\": 3}, {\"index\": 1738, \"num_neighbours_online\": 3}, {\"index\": 1739, \"num_neighbours_online\": 3}, {\"index\": 1740, \"num_neighbours_online\": 3}, {\"index\": 1741, \"num_neighbours_online\": 3}, {\"index\": 1742, \"num_neighbours_online\": 3}, {\"index\": 1743, \"num_neighbours_online\": 3}, {\"index\": 1744, \"num_neighbours_online\": 3}, {\"index\": 1745, \"num_neighbours_online\": 3}, {\"index\": 1746, \"num_neighbours_online\": 3}, {\"index\": 1747, \"num_neighbours_online\": 3}, {\"index\": 1748, \"num_neighbours_online\": 3}, {\"index\": 1749, \"num_neighbours_online\": 3}, {\"index\": 1750, \"num_neighbours_online\": 3}, {\"index\": 1751, \"num_neighbours_online\": 3}, {\"index\": 1752, \"num_neighbours_online\": 3}, {\"index\": 1753, \"num_neighbours_online\": 3}, {\"index\": 1754, \"num_neighbours_online\": 3}, {\"index\": 1755, \"num_neighbours_online\": 3}, {\"index\": 1756, \"num_neighbours_online\": 3}, {\"index\": 1757, \"num_neighbours_online\": 3}, {\"index\": 1758, \"num_neighbours_online\": 3}, {\"index\": 1759, \"num_neighbours_online\": 3}, {\"index\": 1760, \"num_neighbours_online\": 3}, {\"index\": 1761, \"num_neighbours_online\": 3}, {\"index\": 1762, \"num_neighbours_online\": 3}, {\"index\": 1763, \"num_neighbours_online\": 3}, {\"index\": 1764, \"num_neighbours_online\": 3}, {\"index\": 1765, \"num_neighbours_online\": 3}, {\"index\": 1766, \"num_neighbours_online\": 3}, {\"index\": 1767, \"num_neighbours_online\": 3}, {\"index\": 1768, \"num_neighbours_online\": 3}, {\"index\": 1769, \"num_neighbours_online\": 3}, {\"index\": 1770, \"num_neighbours_online\": 3}, {\"index\": 1771, \"num_neighbours_online\": 3}, {\"index\": 1772, \"num_neighbours_online\": 3}, {\"index\": 1773, \"num_neighbours_online\": 3}, {\"index\": 1774, \"num_neighbours_online\": 3}, {\"index\": 1775, \"num_neighbours_online\": 3}, {\"index\": 1776, \"num_neighbours_online\": 3}, {\"index\": 1777, \"num_neighbours_online\": 3}, {\"index\": 1778, \"num_neighbours_online\": 3}, {\"index\": 1779, \"num_neighbours_online\": 3}, {\"index\": 1780, \"num_neighbours_online\": 3}, {\"index\": 1781, \"num_neighbours_online\": 3}, {\"index\": 1782, \"num_neighbours_online\": 3}, {\"index\": 1783, \"num_neighbours_online\": 3}, {\"index\": 1784, \"num_neighbours_online\": 3}, {\"index\": 1785, \"num_neighbours_online\": 3}, {\"index\": 1786, \"num_neighbours_online\": 3}, {\"index\": 1787, \"num_neighbours_online\": 3}, {\"index\": 1788, \"num_neighbours_online\": 3}, {\"index\": 1789, \"num_neighbours_online\": 3}, {\"index\": 1790, \"num_neighbours_online\": 3}, {\"index\": 1791, \"num_neighbours_online\": 3}, {\"index\": 1792, \"num_neighbours_online\": 3}, {\"index\": 1793, \"num_neighbours_online\": 3}, {\"index\": 1794, \"num_neighbours_online\": 3}, {\"index\": 1795, \"num_neighbours_online\": 3}, {\"index\": 1796, \"num_neighbours_online\": 3}, {\"index\": 1797, \"num_neighbours_online\": 3}, {\"index\": 1798, \"num_neighbours_online\": 3}, {\"index\": 1799, \"num_neighbours_online\": 3}, {\"index\": 1800, \"num_neighbours_online\": 3}, {\"index\": 1801, \"num_neighbours_online\": 3}, {\"index\": 1802, \"num_neighbours_online\": 3}, {\"index\": 1803, \"num_neighbours_online\": 3}, {\"index\": 1804, \"num_neighbours_online\": 3}, {\"index\": 1805, \"num_neighbours_online\": 3}, {\"index\": 1806, \"num_neighbours_online\": 3}, {\"index\": 1807, \"num_neighbours_online\": 3}, {\"index\": 1808, \"num_neighbours_online\": 3}, {\"index\": 1809, \"num_neighbours_online\": 3}, {\"index\": 1810, \"num_neighbours_online\": 3}, {\"index\": 1811, \"num_neighbours_online\": 3}, {\"index\": 1812, \"num_neighbours_online\": 3}, {\"index\": 1813, \"num_neighbours_online\": 3}, {\"index\": 1814, \"num_neighbours_online\": 3}, {\"index\": 1815, \"num_neighbours_online\": 3}, {\"index\": 1816, \"num_neighbours_online\": 3}, {\"index\": 1817, \"num_neighbours_online\": 3}, {\"index\": 1818, \"num_neighbours_online\": 3}, {\"index\": 1819, \"num_neighbours_online\": 3}, {\"index\": 1820, \"num_neighbours_online\": 3}, {\"index\": 1821, \"num_neighbours_online\": 3}, {\"index\": 1822, \"num_neighbours_online\": 3}, {\"index\": 1823, \"num_neighbours_online\": 3}, {\"index\": 1824, \"num_neighbours_online\": 3}]}}, {\"mode\": \"vega-lite\"});\n",
       "</script>"
      ],
      "text/plain": [
       "alt.Chart(...)"
      ]
     },
     "execution_count": 77,
     "metadata": {},
     "output_type": "execute_result"
    }
   ],
   "execution_count": 77
  },
  {
   "cell_type": "markdown",
   "id": "8fe8eb40",
   "metadata": {},
   "source": [
    "#### Step 4. Majority voting flags for the target"
   ]
  },
  {
   "cell_type": "code",
   "id": "a66a8a55",
   "metadata": {
    "ExecuteTime": {
     "end_time": "2025-04-15T13:47:20.428679Z",
     "start_time": "2025-04-15T13:47:20.415296Z"
    }
   },
   "source": [
    "all_data_wet_flags = all_data_num_neighbours.with_columns(\n",
    "    pl.when(pl.col(\"num_neighbours_online\") < MIN_NUM_NEIGHBOURS)\n",
    "    .then(np.nan)\n",
    "    .otherwise(\n",
    "        pl.min_horizontal(pl.all().exclude(\"time\", rain_col, \"num_neighbours_online\"))\n",
    "    )\n",
    "    .alias(\"wet_flags\")\n",
    ")"
   ],
   "outputs": [],
   "execution_count": 78
  },
  {
   "cell_type": "code",
   "id": "198fa66f",
   "metadata": {
    "ExecuteTime": {
     "end_time": "2025-04-15T13:47:20.556340Z",
     "start_time": "2025-04-15T13:47:20.548780Z"
    }
   },
   "source": [
    "all_data_wet_flags[\"wet_flags\"].value_counts()"
   ],
   "outputs": [
    {
     "data": {
      "text/plain": [
       "shape: (4, 2)\n",
       "┌───────────┬───────┐\n",
       "│ wet_flags ┆ count │\n",
       "│ ---       ┆ ---   │\n",
       "│ f64       ┆ u32   │\n",
       "╞═══════════╪═══════╡\n",
       "│ 3.0       ┆ 1     │\n",
       "│ NaN       ┆ 65    │\n",
       "│ 0.0       ┆ 1758  │\n",
       "│ 2.0       ┆ 1     │\n",
       "└───────────┴───────┘"
      ],
      "text/html": [
       "<div><style>\n",
       ".dataframe > thead > tr,\n",
       ".dataframe > tbody > tr {\n",
       "  text-align: right;\n",
       "  white-space: pre-wrap;\n",
       "}\n",
       "</style>\n",
       "<small>shape: (4, 2)</small><table border=\"1\" class=\"dataframe\"><thead><tr><th>wet_flags</th><th>count</th></tr><tr><td>f64</td><td>u32</td></tr></thead><tbody><tr><td>3.0</td><td>1</td></tr><tr><td>NaN</td><td>65</td></tr><tr><td>0.0</td><td>1758</td></tr><tr><td>2.0</td><td>1</td></tr></tbody></table></div>"
      ]
     },
     "execution_count": 79,
     "metadata": {},
     "output_type": "execute_result"
    }
   ],
   "execution_count": 79
  },
  {
   "cell_type": "markdown",
   "id": "dbf6ee24",
   "metadata": {},
   "source": [
    "##### Extra note about method:\n",
    "We are checking for minimum 2 neighbours, but original method needs 3"
   ]
  },
  {
   "cell_type": "code",
   "id": "a4bef42d",
   "metadata": {
    "ExecuteTime": {
     "end_time": "2025-04-15T13:47:20.745082Z",
     "start_time": "2025-04-15T13:47:20.735534Z"
    }
   },
   "source": [
    "all_data_num_neighbours.filter(pl.col(\"wet_flags_310\") == 3)"
   ],
   "outputs": [
    {
     "data": {
      "text/plain": [
       "shape: (1, 6)\n",
       "┌──────────────┬─────────┬────────────────┬───────────────┬────────────────┬───────────────────────┐\n",
       "│ time         ┆ rain_mm ┆ wet_flags_3215 ┆ wet_flags_310 ┆ wet_flags_6303 ┆ num_neighbours_online │\n",
       "│ ---          ┆ ---     ┆ ---            ┆ ---           ┆ ---            ┆ ---                   │\n",
       "│ datetime[μs] ┆ f64     ┆ i32            ┆ i32           ┆ i32            ┆ i16                   │\n",
       "╞══════════════╪═════════╪════════════════╪═══════════════╪════════════════╪═══════════════════════╡\n",
       "│ 2006-12-24   ┆ 318.8   ┆ null           ┆ 3             ┆ 3              ┆ 2                     │\n",
       "│ 07:00:00     ┆         ┆                ┆               ┆                ┆                       │\n",
       "└──────────────┴─────────┴────────────────┴───────────────┴────────────────┴───────────────────────┘"
      ],
      "text/html": [
       "<div><style>\n",
       ".dataframe > thead > tr,\n",
       ".dataframe > tbody > tr {\n",
       "  text-align: right;\n",
       "  white-space: pre-wrap;\n",
       "}\n",
       "</style>\n",
       "<small>shape: (1, 6)</small><table border=\"1\" class=\"dataframe\"><thead><tr><th>time</th><th>rain_mm</th><th>wet_flags_3215</th><th>wet_flags_310</th><th>wet_flags_6303</th><th>num_neighbours_online</th></tr><tr><td>datetime[μs]</td><td>f64</td><td>i32</td><td>i32</td><td>i32</td><td>i16</td></tr></thead><tbody><tr><td>2006-12-24 07:00:00</td><td>318.8</td><td>null</td><td>3</td><td>3</td><td>2</td></tr></tbody></table></div>"
      ]
     },
     "execution_count": 80,
     "metadata": {},
     "output_type": "execute_result"
    }
   ],
   "execution_count": 80
  },
  {
   "cell_type": "code",
   "id": "a17a9484",
   "metadata": {
    "ExecuteTime": {
     "end_time": "2025-04-15T13:47:20.863651Z",
     "start_time": "2025-04-15T13:47:20.857493Z"
    }
   },
   "source": [],
   "outputs": [],
   "execution_count": null
  },
  {
   "cell_type": "markdown",
   "id": "fb4369f0-5c04-47d7-8f6d-9b6761b054e9",
   "metadata": {},
   "source": [
    "# QC17 - Hourly neighbours (wet) \n",
    "[Back to Index](#Table-of-contents)\n",
    "\n",
    "#### Differences from `intense-qc`: \n",
    "- Need to consider how the 7am-7pm can fit into RainfallQC"
   ]
  },
  {
   "cell_type": "markdown",
   "id": "f0e6024d",
   "metadata": {},
   "source": [
    "#### Step 1. Loop through each neighbour and compare to target"
   ]
  },
  {
   "cell_type": "code",
   "id": "4d39ac84",
   "metadata": {
    "ExecuteTime": {
     "end_time": "2025-04-15T15:27:19.792572Z",
     "start_time": "2025-04-15T15:27:19.175773Z"
    }
   },
   "source": [
    "all_data = target_gauge_daily.clone() ## currently daily instead of hourly because this works best with later flood-fill\n",
    "\n",
    "for n_id in all_neighbour_ids_paths.keys():\n",
    "    ## 1. Get neighbouring GDSR data nd resample into daily\n",
    "    print(n_id)\n",
    "    neighbouring_gdsr_gauge = get_neighbouring_gdsr_data(\n",
    "        neighbour_gdsr_id=n_id, time_multiplying_factor=MULTIPLYING_FACTORS[\"hourly\"]\n",
    "    )\n",
    "    ## make no data vals nans\n",
    "    station_metadata = read_metadata(data_path=all_neighbour_ids_paths[n_id])\n",
    "    neighbouring_gdsr_gauge = replace_no_data_with_nan(\n",
    "        neighbouring_gdsr_gauge, no_data_value=int(station_metadata[\"no_data_value\"])\n",
    "    )\n",
    "\n",
    "    joined_gauges_gdsr = target_gauge.join(\n",
    "        neighbouring_gdsr_gauge, on=\"time\", suffix=f\"_{n_id}\"\n",
    "    )\n",
    "    joined_gauges_gdsr = joined_gauges_gdsr.drop_nans()\n",
    "\n",
    "    ## resample into daily (also round to 1 decimal place) TODO: think about offset part\n",
    "    joined_gauges_gdsr = (\n",
    "        joined_gauges_gdsr.group_by_dynamic(\"time\", every=\"1d\", offset=\"7h\")\n",
    "        .agg(\n",
    "            [\n",
    "                pl.len().alias(\"n_hours\"),\n",
    "                pl.col(rain_col).mean().round(1).alias(rain_col),\n",
    "                pl.col(f\"{rain_col}_{n_id}\")\n",
    "                .mean()\n",
    "                .round(1)\n",
    "                .alias(f\"{rain_col}_GDSR_{n_id}\"),\n",
    "            ]\n",
    "        )\n",
    "        .filter(pl.col(\"n_hours\") == 24)\n",
    "        .drop(\"n_hours\")\n",
    "    )  # Ensure at least 24 data points\n",
    "\n",
    "    ## 2. get normalised diff\n",
    "    joined_gauges_gdsr_normalised_diff = joined_gauges_gdsr.with_columns(\n",
    "        # get normalised difference between target and neighbour\n",
    "        rain_mm_normalised_diff=normalise_data(pl.col(f\"{rain_col}\"))\n",
    "        - normalise_data(pl.col(f\"{rain_col}_GDSR_{n_id}\"))\n",
    "    )\n",
    "\n",
    "    ## 3. filter values\n",
    "    joined_gauges_gdsr_normalised_diff_filtered = (\n",
    "        joined_gauges_gdsr_normalised_diff.filter(\n",
    "            (pl.col(f\"{rain_col}\") >= WET_THRESHOLD)\n",
    "            & (pl.col(f\"{rain_col}\").is_finite())\n",
    "            & (pl.col(f\"{rain_col}_GDSR_{n_id}\").is_finite())\n",
    "            & (pl.col(f\"{rain_col}_normalised_diff\") > 0.0)\n",
    "        )\n",
    "    )\n",
    "\n",
    "    ## 4. Calcualte exponetial function of normalised diff\n",
    "    expon_params = scipy.stats.expon.fit(\n",
    "        joined_gauges_gdsr_normalised_diff_filtered[f\"{rain_col}_normalised_diff\"]\n",
    "    )\n",
    "    # 5. Calculate thresholds at key percentiles of fitted distribution\n",
    "    q95 = scipy.stats.expon.ppf(0.95, expon_params[0], expon_params[1])\n",
    "    q99 = scipy.stats.expon.ppf(0.99, expon_params[0], expon_params[1])\n",
    "    q999 = scipy.stats.expon.ppf(0.999, expon_params[0], expon_params[1])\n",
    "\n",
    "    ## 6. Assign flags\n",
    "    joined_gauges_gdsr_normalised_wet_flags = (\n",
    "        joined_gauges_gdsr_normalised_diff.with_columns(\n",
    "            pl.when(\n",
    "                (pl.col(rain_col) >= 1.0)\n",
    "                & (pl.col(f\"{rain_col}_normalised_diff\") <= q95)\n",
    "            )\n",
    "            .then(0)\n",
    "            .when(\n",
    "                (pl.col(rain_col) >= 1.0)\n",
    "                & (pl.col(f\"{rain_col}_normalised_diff\") > q95)\n",
    "                & (pl.col(f\"{rain_col}_normalised_diff\") <= q99),\n",
    "            )\n",
    "            .then(1)\n",
    "            .when(\n",
    "                (pl.col(rain_col) >= 1.0)\n",
    "                & (pl.col(f\"{rain_col}_normalised_diff\") > q99)\n",
    "                & (pl.col(f\"{rain_col}_normalised_diff\") <= q999),\n",
    "            )\n",
    "            .then(2)\n",
    "            .when(\n",
    "                (pl.col(rain_col) >= 1.0)\n",
    "                & (pl.col(f\"{rain_col}_normalised_diff\") > q95)\n",
    "            )\n",
    "            .then(3)\n",
    "            .otherwise(0)\n",
    "            .alias(f\"wet_flags_{n_id}\")\n",
    "        )\n",
    "    )\n",
    "    all_data = all_data.join(\n",
    "        joined_gauges_gdsr_normalised_wet_flags[[\"time\", f\"wet_flags_{n_id}\"]],\n",
    "        on=\"time\",\n",
    "        how=\"left\",\n",
    "    )\n",
    "\n",
    "    print(\"before turning back into hourly\", all_data[f\"wet_flags_{n_id}\"].value_counts())"
   ],
   "outputs": [
    {
     "name": "stdout",
     "output_type": "stream",
     "text": [
      "DE_04313\n",
      "before turning back into hourly shape: (3, 2)\n",
      "┌────────────────────┬───────┐\n",
      "│ wet_flags_DE_04313 ┆ count │\n",
      "│ ---                ┆ ---   │\n",
      "│ i32                ┆ u32   │\n",
      "╞════════════════════╪═══════╡\n",
      "│ 0                  ┆ 1751  │\n",
      "│ null               ┆ 71    │\n",
      "│ 3                  ┆ 3     │\n",
      "└────────────────────┴───────┘\n",
      "DE_03215\n",
      "before turning back into hourly shape: (5, 2)\n",
      "┌────────────────────┬───────┐\n",
      "│ wet_flags_DE_03215 ┆ count │\n",
      "│ ---                ┆ ---   │\n",
      "│ i32                ┆ u32   │\n",
      "╞════════════════════╪═══════╡\n",
      "│ 1                  ┆ 4     │\n",
      "│ null               ┆ 575   │\n",
      "│ 0                  ┆ 1244  │\n",
      "│ 2                  ┆ 1     │\n",
      "│ 3                  ┆ 1     │\n",
      "└────────────────────┴───────┘\n",
      "DE_02718\n",
      "before turning back into hourly shape: (3, 2)\n",
      "┌────────────────────┬───────┐\n",
      "│ wet_flags_DE_02718 ┆ count │\n",
      "│ ---                ┆ ---   │\n",
      "│ i32                ┆ u32   │\n",
      "╞════════════════════╪═══════╡\n",
      "│ 3                  ┆ 3     │\n",
      "│ null               ┆ 68    │\n",
      "│ 0                  ┆ 1754  │\n",
      "└────────────────────┴───────┘\n",
      "DE_01300\n",
      "before turning back into hourly shape: (4, 2)\n",
      "┌────────────────────┬───────┐\n",
      "│ wet_flags_DE_01300 ┆ count │\n",
      "│ ---                ┆ ---   │\n",
      "│ i32                ┆ u32   │\n",
      "╞════════════════════╪═══════╡\n",
      "│ 2                  ┆ 1     │\n",
      "│ 3                  ┆ 2     │\n",
      "│ 0                  ┆ 1752  │\n",
      "│ null               ┆ 70    │\n",
      "└────────────────────┴───────┘\n",
      "DE_00390\n",
      "before turning back into hourly shape: (3, 2)\n",
      "┌────────────────────┬───────┐\n",
      "│ wet_flags_DE_00390 ┆ count │\n",
      "│ ---                ┆ ---   │\n",
      "│ i32                ┆ u32   │\n",
      "╞════════════════════╪═══════╡\n",
      "│ null               ┆ 71    │\n",
      "│ 0                  ┆ 1751  │\n",
      "│ 3                  ┆ 3     │\n",
      "└────────────────────┴───────┘\n",
      "DE_00310\n",
      "before turning back into hourly shape: (4, 2)\n",
      "┌────────────────────┬───────┐\n",
      "│ wet_flags_DE_00310 ┆ count │\n",
      "│ ---                ┆ ---   │\n",
      "│ i32                ┆ u32   │\n",
      "╞════════════════════╪═══════╡\n",
      "│ null               ┆ 95    │\n",
      "│ 2                  ┆ 1     │\n",
      "│ 3                  ┆ 2     │\n",
      "│ 0                  ┆ 1727  │\n",
      "└────────────────────┴───────┘\n",
      "DE_04488\n",
      "before turning back into hourly shape: (4, 2)\n",
      "┌────────────────────┬───────┐\n",
      "│ wet_flags_DE_04488 ┆ count │\n",
      "│ ---                ┆ ---   │\n",
      "│ i32                ┆ u32   │\n",
      "╞════════════════════╪═══════╡\n",
      "│ 3                  ┆ 2     │\n",
      "│ 0                  ┆ 1548  │\n",
      "│ null               ┆ 274   │\n",
      "│ 2                  ┆ 1     │\n",
      "└────────────────────┴───────┘\n",
      "DE_06303\n",
      "before turning back into hourly shape: (4, 2)\n",
      "┌────────────────────┬───────┐\n",
      "│ wet_flags_DE_06303 ┆ count │\n",
      "│ ---                ┆ ---   │\n",
      "│ i32                ┆ u32   │\n",
      "╞════════════════════╪═══════╡\n",
      "│ 3                  ┆ 2     │\n",
      "│ 0                  ┆ 1751  │\n",
      "│ null               ┆ 71    │\n",
      "│ 2                  ┆ 1     │\n",
      "└────────────────────┴───────┘\n",
      "DE_06264\n",
      "before turning back into hourly shape: (3, 2)\n",
      "┌────────────────────┬───────┐\n",
      "│ wet_flags_DE_06264 ┆ count │\n",
      "│ ---                ┆ ---   │\n",
      "│ i32                ┆ u32   │\n",
      "╞════════════════════╪═══════╡\n",
      "│ 3                  ┆ 3     │\n",
      "│ 0                  ┆ 1749  │\n",
      "│ null               ┆ 73    │\n",
      "└────────────────────┴───────┘\n"
     ]
    }
   ],
   "execution_count": 222
  },
  {
   "cell_type": "markdown",
   "id": "0017e744",
   "metadata": {},
   "source": "#### Step 2. Calculate num neighbours online"
  },
  {
   "cell_type": "code",
   "id": "876e2b02",
   "metadata": {
    "ExecuteTime": {
     "end_time": "2025-04-15T15:27:26.046102Z",
     "start_time": "2025-04-15T15:27:26.033850Z"
    }
   },
   "source": [
    "## global determining the minimum number of non-null neighbours to count flags\n",
    "MIN_NUM_NEIGHBOURS = 2  # original method is 3"
   ],
   "outputs": [],
   "execution_count": 223
  },
  {
   "cell_type": "code",
   "id": "acc51a1f",
   "metadata": {
    "ExecuteTime": {
     "end_time": "2025-04-15T15:27:27.004137Z",
     "start_time": "2025-04-15T15:27:26.988064Z"
    }
   },
   "source": [
    "all_data.head()"
   ],
   "outputs": [
    {
     "data": {
      "text/plain": [
       "shape: (5, 11)\n",
       "┌────────────┬─────────┬───────────┬───────────┬───┬───────────┬───────────┬───────────┬───────────┐\n",
       "│ time       ┆ rain_mm ┆ wet_flags ┆ wet_flags ┆ … ┆ wet_flags ┆ wet_flags ┆ wet_flags ┆ wet_flags │\n",
       "│ ---        ┆ ---     ┆ _DE_04313 ┆ _DE_03215 ┆   ┆ _DE_00310 ┆ _DE_04488 ┆ _DE_06303 ┆ _DE_06264 │\n",
       "│ datetime[μ ┆ f64     ┆ ---       ┆ ---       ┆   ┆ ---       ┆ ---       ┆ ---       ┆ ---       │\n",
       "│ s]         ┆         ┆ i32       ┆ i32       ┆   ┆ i32       ┆ i32       ┆ i32       ┆ i32       │\n",
       "╞════════════╪═════════╪═══════════╪═══════════╪═══╪═══════════╪═══════════╪═══════════╪═══════════╡\n",
       "│ 2006-01-01 ┆ 0.2     ┆ 0         ┆ null      ┆ … ┆ 0         ┆ null      ┆ 0         ┆ 0         │\n",
       "│ 07:00:00   ┆         ┆           ┆           ┆   ┆           ┆           ┆           ┆           │\n",
       "│ 2006-01-02 ┆ 0.0     ┆ 0         ┆ null      ┆ … ┆ 0         ┆ null      ┆ 0         ┆ 0         │\n",
       "│ 07:00:00   ┆         ┆           ┆           ┆   ┆           ┆           ┆           ┆           │\n",
       "│ 2006-01-03 ┆ 0.0     ┆ 0         ┆ null      ┆ … ┆ 0         ┆ null      ┆ 0         ┆ 0         │\n",
       "│ 07:00:00   ┆         ┆           ┆           ┆   ┆           ┆           ┆           ┆           │\n",
       "│ 2006-01-04 ┆ 0.0     ┆ 0         ┆ null      ┆ … ┆ 0         ┆ null      ┆ 0         ┆ 0         │\n",
       "│ 07:00:00   ┆         ┆           ┆           ┆   ┆           ┆           ┆           ┆           │\n",
       "│ 2006-01-05 ┆ 0.0     ┆ 0         ┆ null      ┆ … ┆ 0         ┆ null      ┆ 0         ┆ 0         │\n",
       "│ 07:00:00   ┆         ┆           ┆           ┆   ┆           ┆           ┆           ┆           │\n",
       "└────────────┴─────────┴───────────┴───────────┴───┴───────────┴───────────┴───────────┴───────────┘"
      ],
      "text/html": [
       "<div><style>\n",
       ".dataframe > thead > tr,\n",
       ".dataframe > tbody > tr {\n",
       "  text-align: right;\n",
       "  white-space: pre-wrap;\n",
       "}\n",
       "</style>\n",
       "<small>shape: (5, 11)</small><table border=\"1\" class=\"dataframe\"><thead><tr><th>time</th><th>rain_mm</th><th>wet_flags_DE_04313</th><th>wet_flags_DE_03215</th><th>wet_flags_DE_02718</th><th>wet_flags_DE_01300</th><th>wet_flags_DE_00390</th><th>wet_flags_DE_00310</th><th>wet_flags_DE_04488</th><th>wet_flags_DE_06303</th><th>wet_flags_DE_06264</th></tr><tr><td>datetime[μs]</td><td>f64</td><td>i32</td><td>i32</td><td>i32</td><td>i32</td><td>i32</td><td>i32</td><td>i32</td><td>i32</td><td>i32</td></tr></thead><tbody><tr><td>2006-01-01 07:00:00</td><td>0.2</td><td>0</td><td>null</td><td>0</td><td>0</td><td>0</td><td>0</td><td>null</td><td>0</td><td>0</td></tr><tr><td>2006-01-02 07:00:00</td><td>0.0</td><td>0</td><td>null</td><td>0</td><td>0</td><td>0</td><td>0</td><td>null</td><td>0</td><td>0</td></tr><tr><td>2006-01-03 07:00:00</td><td>0.0</td><td>0</td><td>null</td><td>0</td><td>0</td><td>0</td><td>0</td><td>null</td><td>0</td><td>0</td></tr><tr><td>2006-01-04 07:00:00</td><td>0.0</td><td>0</td><td>null</td><td>0</td><td>0</td><td>0</td><td>0</td><td>null</td><td>0</td><td>0</td></tr><tr><td>2006-01-05 07:00:00</td><td>0.0</td><td>0</td><td>null</td><td>0</td><td>0</td><td>0</td><td>0</td><td>null</td><td>0</td><td>0</td></tr></tbody></table></div>"
      ]
     },
     "execution_count": 224,
     "metadata": {},
     "output_type": "execute_result"
    }
   ],
   "execution_count": 224
  },
  {
   "cell_type": "code",
   "id": "f522f18b",
   "metadata": {
    "ExecuteTime": {
     "end_time": "2025-04-15T15:27:28.746449Z",
     "start_time": "2025-04-15T15:27:28.732913Z"
    }
   },
   "source": [
    "num_neighbours = len(all_data.columns[2:])\n",
    "num_neighbours"
   ],
   "outputs": [
    {
     "data": {
      "text/plain": [
       "9"
      ]
     },
     "execution_count": 225,
     "metadata": {},
     "output_type": "execute_result"
    }
   ],
   "execution_count": 225
  },
  {
   "cell_type": "code",
   "id": "dc70cff8",
   "metadata": {
    "ExecuteTime": {
     "end_time": "2025-04-15T15:27:29.664672Z",
     "start_time": "2025-04-15T15:27:29.648431Z"
    }
   },
   "source": [
    "all_data_num_neighbours = all_data.with_columns(\n",
    "    (\n",
    "        num_neighbours\n",
    "        - pl.sum_horizontal(pl.all().exclude(\"time\").is_null().cast(pl.Int16))\n",
    "    ).alias(\"num_neighbours_online\")\n",
    ")\n",
    "all_data_num_neighbours"
   ],
   "outputs": [
    {
     "data": {
      "text/plain": [
       "shape: (1_825, 12)\n",
       "┌────────────┬─────────┬───────────┬───────────┬───┬───────────┬───────────┬───────────┬───────────┐\n",
       "│ time       ┆ rain_mm ┆ wet_flags ┆ wet_flags ┆ … ┆ wet_flags ┆ wet_flags ┆ wet_flags ┆ num_neigh │\n",
       "│ ---        ┆ ---     ┆ _DE_04313 ┆ _DE_03215 ┆   ┆ _DE_04488 ┆ _DE_06303 ┆ _DE_06264 ┆ bours_onl │\n",
       "│ datetime[μ ┆ f64     ┆ ---       ┆ ---       ┆   ┆ ---       ┆ ---       ┆ ---       ┆ ine       │\n",
       "│ s]         ┆         ┆ i32       ┆ i32       ┆   ┆ i32       ┆ i32       ┆ i32       ┆ ---       │\n",
       "│            ┆         ┆           ┆           ┆   ┆           ┆           ┆           ┆ i16       │\n",
       "╞════════════╪═════════╪═══════════╪═══════════╪═══╪═══════════╪═══════════╪═══════════╪═══════════╡\n",
       "│ 2006-01-01 ┆ 0.2     ┆ 0         ┆ null      ┆ … ┆ null      ┆ 0         ┆ 0         ┆ 7         │\n",
       "│ 07:00:00   ┆         ┆           ┆           ┆   ┆           ┆           ┆           ┆           │\n",
       "│ 2006-01-02 ┆ 0.0     ┆ 0         ┆ null      ┆ … ┆ null      ┆ 0         ┆ 0         ┆ 7         │\n",
       "│ 07:00:00   ┆         ┆           ┆           ┆   ┆           ┆           ┆           ┆           │\n",
       "│ 2006-01-03 ┆ 0.0     ┆ 0         ┆ null      ┆ … ┆ null      ┆ 0         ┆ 0         ┆ 7         │\n",
       "│ 07:00:00   ┆         ┆           ┆           ┆   ┆           ┆           ┆           ┆           │\n",
       "│ 2006-01-04 ┆ 0.0     ┆ 0         ┆ null      ┆ … ┆ null      ┆ 0         ┆ 0         ┆ 7         │\n",
       "│ 07:00:00   ┆         ┆           ┆           ┆   ┆           ┆           ┆           ┆           │\n",
       "│ 2006-01-05 ┆ 0.0     ┆ 0         ┆ null      ┆ … ┆ null      ┆ 0         ┆ 0         ┆ 7         │\n",
       "│ 07:00:00   ┆         ┆           ┆           ┆   ┆           ┆           ┆           ┆           │\n",
       "│ …          ┆ …       ┆ …         ┆ …         ┆ … ┆ …         ┆ …         ┆ …         ┆ …         │\n",
       "│ 2010-12-26 ┆ 0.2     ┆ 0         ┆ 0         ┆ … ┆ 0         ┆ 0         ┆ 0         ┆ 9         │\n",
       "│ 07:00:00   ┆         ┆           ┆           ┆   ┆           ┆           ┆           ┆           │\n",
       "│ 2010-12-27 ┆ 0.0     ┆ 0         ┆ 0         ┆ … ┆ 0         ┆ 0         ┆ 0         ┆ 9         │\n",
       "│ 07:00:00   ┆         ┆           ┆           ┆   ┆           ┆           ┆           ┆           │\n",
       "│ 2010-12-28 ┆ 0.0     ┆ 0         ┆ 0         ┆ … ┆ 0         ┆ 0         ┆ 0         ┆ 9         │\n",
       "│ 07:00:00   ┆         ┆           ┆           ┆   ┆           ┆           ┆           ┆           │\n",
       "│ 2010-12-29 ┆ 0.0     ┆ 0         ┆ 0         ┆ … ┆ 0         ┆ 0         ┆ 0         ┆ 9         │\n",
       "│ 07:00:00   ┆         ┆           ┆           ┆   ┆           ┆           ┆           ┆           │\n",
       "│ 2010-12-30 ┆ 0.0     ┆ 0         ┆ 0         ┆ … ┆ 0         ┆ 0         ┆ 0         ┆ 9         │\n",
       "│ 07:00:00   ┆         ┆           ┆           ┆   ┆           ┆           ┆           ┆           │\n",
       "└────────────┴─────────┴───────────┴───────────┴───┴───────────┴───────────┴───────────┴───────────┘"
      ],
      "text/html": [
       "<div><style>\n",
       ".dataframe > thead > tr,\n",
       ".dataframe > tbody > tr {\n",
       "  text-align: right;\n",
       "  white-space: pre-wrap;\n",
       "}\n",
       "</style>\n",
       "<small>shape: (1_825, 12)</small><table border=\"1\" class=\"dataframe\"><thead><tr><th>time</th><th>rain_mm</th><th>wet_flags_DE_04313</th><th>wet_flags_DE_03215</th><th>wet_flags_DE_02718</th><th>wet_flags_DE_01300</th><th>wet_flags_DE_00390</th><th>wet_flags_DE_00310</th><th>wet_flags_DE_04488</th><th>wet_flags_DE_06303</th><th>wet_flags_DE_06264</th><th>num_neighbours_online</th></tr><tr><td>datetime[μs]</td><td>f64</td><td>i32</td><td>i32</td><td>i32</td><td>i32</td><td>i32</td><td>i32</td><td>i32</td><td>i32</td><td>i32</td><td>i16</td></tr></thead><tbody><tr><td>2006-01-01 07:00:00</td><td>0.2</td><td>0</td><td>null</td><td>0</td><td>0</td><td>0</td><td>0</td><td>null</td><td>0</td><td>0</td><td>7</td></tr><tr><td>2006-01-02 07:00:00</td><td>0.0</td><td>0</td><td>null</td><td>0</td><td>0</td><td>0</td><td>0</td><td>null</td><td>0</td><td>0</td><td>7</td></tr><tr><td>2006-01-03 07:00:00</td><td>0.0</td><td>0</td><td>null</td><td>0</td><td>0</td><td>0</td><td>0</td><td>null</td><td>0</td><td>0</td><td>7</td></tr><tr><td>2006-01-04 07:00:00</td><td>0.0</td><td>0</td><td>null</td><td>0</td><td>0</td><td>0</td><td>0</td><td>null</td><td>0</td><td>0</td><td>7</td></tr><tr><td>2006-01-05 07:00:00</td><td>0.0</td><td>0</td><td>null</td><td>0</td><td>0</td><td>0</td><td>0</td><td>null</td><td>0</td><td>0</td><td>7</td></tr><tr><td>&hellip;</td><td>&hellip;</td><td>&hellip;</td><td>&hellip;</td><td>&hellip;</td><td>&hellip;</td><td>&hellip;</td><td>&hellip;</td><td>&hellip;</td><td>&hellip;</td><td>&hellip;</td><td>&hellip;</td></tr><tr><td>2010-12-26 07:00:00</td><td>0.2</td><td>0</td><td>0</td><td>0</td><td>0</td><td>0</td><td>0</td><td>0</td><td>0</td><td>0</td><td>9</td></tr><tr><td>2010-12-27 07:00:00</td><td>0.0</td><td>0</td><td>0</td><td>0</td><td>0</td><td>0</td><td>0</td><td>0</td><td>0</td><td>0</td><td>9</td></tr><tr><td>2010-12-28 07:00:00</td><td>0.0</td><td>0</td><td>0</td><td>0</td><td>0</td><td>0</td><td>0</td><td>0</td><td>0</td><td>0</td><td>9</td></tr><tr><td>2010-12-29 07:00:00</td><td>0.0</td><td>0</td><td>0</td><td>0</td><td>0</td><td>0</td><td>0</td><td>0</td><td>0</td><td>0</td><td>9</td></tr><tr><td>2010-12-30 07:00:00</td><td>0.0</td><td>0</td><td>0</td><td>0</td><td>0</td><td>0</td><td>0</td><td>0</td><td>0</td><td>0</td><td>9</td></tr></tbody></table></div>"
      ]
     },
     "execution_count": 226,
     "metadata": {},
     "output_type": "execute_result"
    }
   ],
   "execution_count": 226
  },
  {
   "cell_type": "code",
   "id": "5ab90ca0",
   "metadata": {
    "ExecuteTime": {
     "end_time": "2025-04-15T15:27:30.914297Z",
     "start_time": "2025-04-15T15:27:30.901792Z"
    }
   },
   "source": [
    "all_data_num_neighbours[\"num_neighbours_online\"].value_counts()"
   ],
   "outputs": [
    {
     "data": {
      "text/plain": [
       "shape: (8, 2)\n",
       "┌───────────────────────┬───────┐\n",
       "│ num_neighbours_online ┆ count │\n",
       "│ ---                   ┆ ---   │\n",
       "│ i16                   ┆ u32   │\n",
       "╞═══════════════════════╪═══════╡\n",
       "│ 6                     ┆ 9     │\n",
       "│ 4                     ┆ 1     │\n",
       "│ 9                     ┆ 1210  │\n",
       "│ 7                     ┆ 203   │\n",
       "│ 0                     ┆ 65    │\n",
       "│ 8                     ┆ 335   │\n",
       "│ 3                     ┆ 1     │\n",
       "│ 5                     ┆ 1     │\n",
       "└───────────────────────┴───────┘"
      ],
      "text/html": [
       "<div><style>\n",
       ".dataframe > thead > tr,\n",
       ".dataframe > tbody > tr {\n",
       "  text-align: right;\n",
       "  white-space: pre-wrap;\n",
       "}\n",
       "</style>\n",
       "<small>shape: (8, 2)</small><table border=\"1\" class=\"dataframe\"><thead><tr><th>num_neighbours_online</th><th>count</th></tr><tr><td>i16</td><td>u32</td></tr></thead><tbody><tr><td>6</td><td>9</td></tr><tr><td>4</td><td>1</td></tr><tr><td>9</td><td>1210</td></tr><tr><td>7</td><td>203</td></tr><tr><td>0</td><td>65</td></tr><tr><td>8</td><td>335</td></tr><tr><td>3</td><td>1</td></tr><tr><td>5</td><td>1</td></tr></tbody></table></div>"
      ]
     },
     "execution_count": 227,
     "metadata": {},
     "output_type": "execute_result"
    }
   ],
   "execution_count": 227
  },
  {
   "cell_type": "code",
   "id": "d8fd033a",
   "metadata": {
    "ExecuteTime": {
     "end_time": "2025-04-15T15:27:31.988712Z",
     "start_time": "2025-04-15T15:27:31.979868Z"
    }
   },
   "source": [
    "all_data.filter(pl.col(\"wet_flags_DE_00310\") == 2)[0]"
   ],
   "outputs": [
    {
     "data": {
      "text/plain": [
       "shape: (1, 11)\n",
       "┌────────────┬─────────┬───────────┬───────────┬───┬───────────┬───────────┬───────────┬───────────┐\n",
       "│ time       ┆ rain_mm ┆ wet_flags ┆ wet_flags ┆ … ┆ wet_flags ┆ wet_flags ┆ wet_flags ┆ wet_flags │\n",
       "│ ---        ┆ ---     ┆ _DE_04313 ┆ _DE_03215 ┆   ┆ _DE_00310 ┆ _DE_04488 ┆ _DE_06303 ┆ _DE_06264 │\n",
       "│ datetime[μ ┆ f64     ┆ ---       ┆ ---       ┆   ┆ ---       ┆ ---       ┆ ---       ┆ ---       │\n",
       "│ s]         ┆         ┆ i32       ┆ i32       ┆   ┆ i32       ┆ i32       ┆ i32       ┆ i32       │\n",
       "╞════════════╪═════════╪═══════════╪═══════════╪═══╪═══════════╪═══════════╪═══════════╪═══════════╡\n",
       "│ 2006-12-23 ┆ 112.5   ┆ 3         ┆ null      ┆ … ┆ 2         ┆ 2         ┆ 2         ┆ 3         │\n",
       "│ 07:00:00   ┆         ┆           ┆           ┆   ┆           ┆           ┆           ┆           │\n",
       "└────────────┴─────────┴───────────┴───────────┴───┴───────────┴───────────┴───────────┴───────────┘"
      ],
      "text/html": [
       "<div><style>\n",
       ".dataframe > thead > tr,\n",
       ".dataframe > tbody > tr {\n",
       "  text-align: right;\n",
       "  white-space: pre-wrap;\n",
       "}\n",
       "</style>\n",
       "<small>shape: (1, 11)</small><table border=\"1\" class=\"dataframe\"><thead><tr><th>time</th><th>rain_mm</th><th>wet_flags_DE_04313</th><th>wet_flags_DE_03215</th><th>wet_flags_DE_02718</th><th>wet_flags_DE_01300</th><th>wet_flags_DE_00390</th><th>wet_flags_DE_00310</th><th>wet_flags_DE_04488</th><th>wet_flags_DE_06303</th><th>wet_flags_DE_06264</th></tr><tr><td>datetime[μs]</td><td>f64</td><td>i32</td><td>i32</td><td>i32</td><td>i32</td><td>i32</td><td>i32</td><td>i32</td><td>i32</td><td>i32</td></tr></thead><tbody><tr><td>2006-12-23 07:00:00</td><td>112.5</td><td>3</td><td>null</td><td>3</td><td>2</td><td>3</td><td>2</td><td>2</td><td>2</td><td>3</td></tr></tbody></table></div>"
      ]
     },
     "execution_count": 228,
     "metadata": {},
     "output_type": "execute_result"
    }
   ],
   "execution_count": 228
  },
  {
   "cell_type": "markdown",
   "id": "2301910e",
   "metadata": {},
   "source": [
    "#### Step 3. Majority voting flags for the target"
   ]
  },
  {
   "cell_type": "code",
   "id": "d2dc1faf",
   "metadata": {
    "ExecuteTime": {
     "end_time": "2025-04-15T15:27:39.536894Z",
     "start_time": "2025-04-15T15:27:39.530668Z"
    }
   },
   "source": [
    "all_data_wet_flags = all_data_num_neighbours.with_columns(\n",
    "    pl.when(pl.col(\"num_neighbours_online\") < MIN_NUM_NEIGHBOURS)\n",
    "    .then(np.nan)\n",
    "    .otherwise(\n",
    "        pl.min_horizontal(pl.all().exclude(\"time\", rain_col, \"num_neighbours_online\"))\n",
    "    )\n",
    "    .alias(\"wet_flags\")\n",
    ")"
   ],
   "outputs": [],
   "execution_count": 229
  },
  {
   "cell_type": "code",
   "id": "862bc579",
   "metadata": {
    "ExecuteTime": {
     "end_time": "2025-04-15T15:27:41.971270Z",
     "start_time": "2025-04-15T15:27:41.965298Z"
    }
   },
   "source": [
    "all_data_wet_flags[\"wet_flags\"].value_counts()"
   ],
   "outputs": [
    {
     "data": {
      "text/plain": [
       "shape: (4, 2)\n",
       "┌───────────┬───────┐\n",
       "│ wet_flags ┆ count │\n",
       "│ ---       ┆ ---   │\n",
       "│ f64       ┆ u32   │\n",
       "╞═══════════╪═══════╡\n",
       "│ 2.0       ┆ 1     │\n",
       "│ 0.0       ┆ 1757  │\n",
       "│ NaN       ┆ 65    │\n",
       "│ 3.0       ┆ 2     │\n",
       "└───────────┴───────┘"
      ],
      "text/html": [
       "<div><style>\n",
       ".dataframe > thead > tr,\n",
       ".dataframe > tbody > tr {\n",
       "  text-align: right;\n",
       "  white-space: pre-wrap;\n",
       "}\n",
       "</style>\n",
       "<small>shape: (4, 2)</small><table border=\"1\" class=\"dataframe\"><thead><tr><th>wet_flags</th><th>count</th></tr><tr><td>f64</td><td>u32</td></tr></thead><tbody><tr><td>2.0</td><td>1</td></tr><tr><td>0.0</td><td>1757</td></tr><tr><td>NaN</td><td>65</td></tr><tr><td>3.0</td><td>2</td></tr></tbody></table></div>"
      ]
     },
     "execution_count": 230,
     "metadata": {},
     "output_type": "execute_result"
    }
   ],
   "execution_count": 230
  },
  {
   "metadata": {},
   "cell_type": "markdown",
   "source": "## Step 4. Join back to hourly data",
   "id": "c268ad6930fa3cab"
  },
  {
   "metadata": {
    "ExecuteTime": {
     "end_time": "2025-04-15T15:28:14.797873Z",
     "start_time": "2025-04-15T15:28:14.770477Z"
    }
   },
   "cell_type": "code",
   "source": "target_gauge_w_wet_flags = target_gauge.join(all_data_wet_flags[['time', 'wet_flags']], on=\"time\", how='left')",
   "id": "e7e1d1b666e272a3",
   "outputs": [],
   "execution_count": 235
  },
  {
   "metadata": {},
   "cell_type": "markdown",
   "source": "## Step 5. Forward flood-fill",
   "id": "f795623ae054e5da"
  },
  {
   "cell_type": "code",
   "id": "cfbf3988",
   "metadata": {
    "ExecuteTime": {
     "end_time": "2025-04-15T15:28:25.195314Z",
     "start_time": "2025-04-15T15:28:25.192588Z"
    }
   },
   "source": [
    "## Forward flood-fill data to convert the flags back to hourly\n",
    "target_gauge_w_wet_flags = target_gauge_w_wet_flags.with_columns(pl.col(\"wet_flags\").forward_fill(limit=23))"
   ],
   "outputs": [],
   "execution_count": 237
  },
  {
   "metadata": {
    "ExecuteTime": {
     "end_time": "2025-04-15T15:28:25.629034Z",
     "start_time": "2025-04-15T15:28:25.623815Z"
    }
   },
   "cell_type": "code",
   "source": "target_gauge_w_wet_flags['wet_flags'].value_counts()",
   "id": "6b0f28f4ff8c6c1b",
   "outputs": [
    {
     "data": {
      "text/plain": [
       "shape: (5, 2)\n",
       "┌───────────┬───────┐\n",
       "│ wet_flags ┆ count │\n",
       "│ ---       ┆ ---   │\n",
       "│ f64       ┆ u32   │\n",
       "╞═══════════╪═══════╡\n",
       "│ NaN       ┆ 1560  │\n",
       "│ 3.0       ┆ 48    │\n",
       "│ 2.0       ┆ 24    │\n",
       "│ null      ┆ 24    │\n",
       "│ 0.0       ┆ 42168 │\n",
       "└───────────┴───────┘"
      ],
      "text/html": [
       "<div><style>\n",
       ".dataframe > thead > tr,\n",
       ".dataframe > tbody > tr {\n",
       "  text-align: right;\n",
       "  white-space: pre-wrap;\n",
       "}\n",
       "</style>\n",
       "<small>shape: (5, 2)</small><table border=\"1\" class=\"dataframe\"><thead><tr><th>wet_flags</th><th>count</th></tr><tr><td>f64</td><td>u32</td></tr></thead><tbody><tr><td>NaN</td><td>1560</td></tr><tr><td>3.0</td><td>48</td></tr><tr><td>2.0</td><td>24</td></tr><tr><td>null</td><td>24</td></tr><tr><td>0.0</td><td>42168</td></tr></tbody></table></div>"
      ]
     },
     "execution_count": 238,
     "metadata": {},
     "output_type": "execute_result"
    }
   ],
   "execution_count": 238
  },
  {
   "cell_type": "markdown",
   "id": "75c95086-cd30-4232-a598-98c6ba4744d8",
   "metadata": {},
   "source": [
    "# QC18 - Daily neighbours (dry) \n",
    "[Back to Index](#Table-of-contents)\n",
    "\n",
    "#### Differences from `intense-qc`: \n",
    "- "
   ]
  },
  {
   "cell_type": "code",
   "id": "e9af69ec",
   "metadata": {
    "ExecuteTime": {
     "end_time": "2025-04-15T13:47:23.390777Z",
     "start_time": "2025-04-15T13:47:23.386610Z"
    }
   },
   "source": [
    "DRY_PERIOD_DAYS = 15"
   ],
   "outputs": [],
   "execution_count": 90
  },
  {
   "cell_type": "code",
   "id": "88ecedfe",
   "metadata": {
    "ExecuteTime": {
     "end_time": "2025-04-15T13:47:23.537987Z",
     "start_time": "2025-04-15T13:47:23.523387Z"
    }
   },
   "source": [
    "fraction_drydays = {}\n",
    "for d in range(1, 3 + 1):\n",
    "    fraction_drydays[str(d)] = np.trunc(\n",
    "        (1.0 - (float(d) / DRY_PERIOD_DAYS)) * 10**2\n",
    "    ) / (10**2)"
   ],
   "outputs": [],
   "execution_count": 91
  },
  {
   "cell_type": "markdown",
   "id": "fc02c484",
   "metadata": {},
   "source": [
    "#### Step 1. Loop through each neighbour and compare to target"
   ]
  },
  {
   "cell_type": "code",
   "id": "d71da2c1",
   "metadata": {
    "ExecuteTime": {
     "end_time": "2025-04-15T13:49:11.188791Z",
     "start_time": "2025-04-15T13:49:10.958404Z"
    }
   },
   "source": [
    "all_data = target_gauge_daily.clone()\n",
    "\n",
    "for gpcc_id_to_use, gpcc_path in existing_gpcc_daily_paths.items():\n",
    "    ## 0. Load GPCC data\n",
    "    gpcc_id_name = gpcc_id_to_use.split(\"DE_\")[1].lstrip(\"0\")\n",
    "    gpcc_col_name = f\"{rain_col}_GPCC_{gpcc_id_name}\"\n",
    "    if len(gpcc_path) == 0:\n",
    "        continue\n",
    "    f = zipfile.ZipFile(gpcc_path[0]).open(f\"tw_{gpcc_id_name}.dat\")\n",
    "    example_gpcc = pl.from_pandas(pd.read_csv(f, skiprows=1, header=None, sep=r\"\\s+\"))\n",
    "\n",
    "    ## 1. drop unnecessary columns\n",
    "    example_gpcc = example_gpcc.drop([str(i) for i in range(4, 16)])\n",
    "\n",
    "    ## 2. make datetime column (apparently it's 7am-7pm)\n",
    "    example_gpcc = example_gpcc.with_columns(\n",
    "        pl.datetime(pl.col(\"2\"), pl.col(\"1\"), pl.col(\"0\"), 7).alias(\"time\")\n",
    "    ).drop([\"0\", \"1\", \"2\"])\n",
    "\n",
    "    ## 3. rename and reorder\n",
    "    example_gpcc = example_gpcc.rename({\"3\": rain_col})\n",
    "    example_gpcc = example_gpcc.select([\"time\", rain_col])  ## Reorder (to look nice)\n",
    "\n",
    "    ## 4. join to target data\n",
    "    joined_gauges_gpcc = target_gauge_daily.join(\n",
    "        example_gpcc, on=\"time\", suffix=f\"_GPCC_{gpcc_id_name}\"\n",
    "    )\n",
    "    joined_gauges_gpcc = joined_gauges_gpcc.drop_nans()\n",
    "\n",
    "    ## 5. convert to dry spell\n",
    "    joined_gauges_gpcc_dry_spell = (\n",
    "        joined_gauges_gpcc.with_columns(\n",
    "            pl.col(rain_col)\n",
    "            .map_batches(\n",
    "                lambda row: convert_to_dry_spell(\n",
    "                    row, DRY_PERIOD_DAYS, col_name=rain_col\n",
    "                )\n",
    "            )\n",
    "            .alias(\"dry_spell_fraction\"),\n",
    "            pl.col(gpcc_col_name)\n",
    "            .map_batches(\n",
    "                lambda row: convert_to_dry_spell(\n",
    "                    row, DRY_PERIOD_DAYS, col_name=gpcc_col_name\n",
    "                )\n",
    "            )\n",
    "            .alias(f\"dry_spell_fraction_{gpcc_id}\"),\n",
    "        )\n",
    "    )\n",
    "\n",
    "    ## 7. Assign dry flags\n",
    "    joined_gauges_gpcc_dry_flags = (\n",
    "        joined_gauges_gpcc_dry_spell.with_columns(\n",
    "            pl.when(\n",
    "                (pl.col(\"dry_spell_fraction\") == 1.0)\n",
    "                & (pl.col(f\"dry_spell_fraction_{gpcc_id}\") == 1.0)\n",
    "            )\n",
    "            .then(0)\n",
    "            .when(\n",
    "                (pl.col(\"dry_spell_fraction\") == 1.0)\n",
    "                & (pl.col(f\"dry_spell_fraction_{gpcc_id}\") < 1.0)\n",
    "                & (pl.col(f\"dry_spell_fraction_{gpcc_id}\") >= fraction_drydays[\"1\"]),\n",
    "            )\n",
    "            .then(1)\n",
    "            .when(\n",
    "                (pl.col(\"dry_spell_fraction\") == 1.0)\n",
    "                & (pl.col(f\"dry_spell_fraction_{gpcc_id}\") < fraction_drydays[\"1\"])\n",
    "                & (pl.col(f\"dry_spell_fraction_{gpcc_id}\") >= fraction_drydays[\"2\"]),\n",
    "            )\n",
    "            .then(2)\n",
    "            .when(\n",
    "                (pl.col(\"dry_spell_fraction\") == 1.0)\n",
    "                & (pl.col(f\"dry_spell_fraction_{gpcc_id}\") < fraction_drydays[\"2\"])\n",
    "            )\n",
    "            .then(3)\n",
    "            .otherwise(0)\n",
    "            .alias(f\"dry_flags_{gpcc_id_to_use}\")\n",
    "        )\n",
    "    )\n",
    "\n",
    "    print(\n",
    "        gpcc_id_to_use,\n",
    "        joined_gauges_gpcc_dry_flags[\n",
    "            f\"dry_flags_{gpcc_id_to_use}\"\n",
    "        ].value_counts(),\n",
    "    )\n",
    "\n",
    "    ## 8. Join to all data\n",
    "    all_data = all_data.join(\n",
    "        joined_gauges_gpcc_dry_flags[\n",
    "            [\"time\", f\"dry_flags_{gpcc_id_to_use}\"]\n",
    "        ],\n",
    "        on=\"time\",\n",
    "        how=\"left\",\n",
    "    )"
   ],
   "outputs": [
    {
     "name": "stdout",
     "output_type": "stream",
     "text": [
      "DE_03215 shape: (4, 2)\n",
      "┌────────────────────┬───────┐\n",
      "│ dry_flags_DE_03215 ┆ count │\n",
      "│ ---                ┆ ---   │\n",
      "│ i32                ┆ u32   │\n",
      "╞════════════════════╪═══════╡\n",
      "│ 2                  ┆ 4     │\n",
      "│ 0                  ┆ 1125  │\n",
      "│ 1                  ┆ 1     │\n",
      "│ 3                  ┆ 126   │\n",
      "└────────────────────┴───────┘\n",
      "DE_00310 shape: (4, 2)\n",
      "┌────────────────────┬───────┐\n",
      "│ dry_flags_DE_00310 ┆ count │\n",
      "│ ---                ┆ ---   │\n",
      "│ i32                ┆ u32   │\n",
      "╞════════════════════╪═══════╡\n",
      "│ 2                  ┆ 4     │\n",
      "│ 0                  ┆ 1629  │\n",
      "│ 1                  ┆ 1     │\n",
      "│ 3                  ┆ 126   │\n",
      "└────────────────────┴───────┘\n",
      "DE_06303 shape: (3, 2)\n",
      "┌────────────────────┬───────┐\n",
      "│ dry_flags_DE_06303 ┆ count │\n",
      "│ ---                ┆ ---   │\n",
      "│ i32                ┆ u32   │\n",
      "╞════════════════════╪═══════╡\n",
      "│ 0                  ┆ 1629  │\n",
      "│ 3                  ┆ 130   │\n",
      "│ 2                  ┆ 1     │\n",
      "└────────────────────┴───────┘\n"
     ]
    }
   ],
   "execution_count": 108
  },
  {
   "cell_type": "code",
   "id": "a268b392",
   "metadata": {
    "ExecuteTime": {
     "end_time": "2025-04-15T13:47:23.963715Z",
     "start_time": "2025-04-15T13:47:23.961970Z"
    }
   },
   "source": "",
   "outputs": [],
   "execution_count": null
  },
  {
   "cell_type": "markdown",
   "id": "9de84401",
   "metadata": {},
   "source": "#### Step 2. Calculate num neighbours online"
  },
  {
   "cell_type": "code",
   "id": "4758c59e",
   "metadata": {
    "ExecuteTime": {
     "end_time": "2025-04-15T13:49:15.641802Z",
     "start_time": "2025-04-15T13:49:15.637669Z"
    }
   },
   "source": [
    "## global determining the minimum number of non-null neighbours to count flags\n",
    "MIN_NUM_NEIGHBOURS = 2  # original method is 3"
   ],
   "outputs": [],
   "execution_count": 109
  },
  {
   "cell_type": "code",
   "id": "dc9fec01",
   "metadata": {
    "ExecuteTime": {
     "end_time": "2025-04-15T13:49:16.519414Z",
     "start_time": "2025-04-15T13:49:16.508756Z"
    }
   },
   "source": [
    "all_data.head()"
   ],
   "outputs": [
    {
     "data": {
      "text/plain": [
       "shape: (5, 5)\n",
       "┌─────────────────────┬─────────┬────────────────────┬────────────────────┬────────────────────┐\n",
       "│ time                ┆ rain_mm ┆ dry_flags_DE_03215 ┆ dry_flags_DE_00310 ┆ dry_flags_DE_06303 │\n",
       "│ ---                 ┆ ---     ┆ ---                ┆ ---                ┆ ---                │\n",
       "│ datetime[μs]        ┆ f64     ┆ i32                ┆ i32                ┆ i32                │\n",
       "╞═════════════════════╪═════════╪════════════════════╪════════════════════╪════════════════════╡\n",
       "│ 2006-01-01 07:00:00 ┆ 0.2     ┆ null               ┆ 0                  ┆ 0                  │\n",
       "│ 2006-01-02 07:00:00 ┆ 0.0     ┆ null               ┆ 0                  ┆ 0                  │\n",
       "│ 2006-01-03 07:00:00 ┆ 0.0     ┆ null               ┆ 0                  ┆ 0                  │\n",
       "│ 2006-01-04 07:00:00 ┆ 0.0     ┆ null               ┆ 0                  ┆ 0                  │\n",
       "│ 2006-01-05 07:00:00 ┆ 0.0     ┆ null               ┆ 0                  ┆ 0                  │\n",
       "└─────────────────────┴─────────┴────────────────────┴────────────────────┴────────────────────┘"
      ],
      "text/html": [
       "<div><style>\n",
       ".dataframe > thead > tr,\n",
       ".dataframe > tbody > tr {\n",
       "  text-align: right;\n",
       "  white-space: pre-wrap;\n",
       "}\n",
       "</style>\n",
       "<small>shape: (5, 5)</small><table border=\"1\" class=\"dataframe\"><thead><tr><th>time</th><th>rain_mm</th><th>dry_flags_DE_03215</th><th>dry_flags_DE_00310</th><th>dry_flags_DE_06303</th></tr><tr><td>datetime[μs]</td><td>f64</td><td>i32</td><td>i32</td><td>i32</td></tr></thead><tbody><tr><td>2006-01-01 07:00:00</td><td>0.2</td><td>null</td><td>0</td><td>0</td></tr><tr><td>2006-01-02 07:00:00</td><td>0.0</td><td>null</td><td>0</td><td>0</td></tr><tr><td>2006-01-03 07:00:00</td><td>0.0</td><td>null</td><td>0</td><td>0</td></tr><tr><td>2006-01-04 07:00:00</td><td>0.0</td><td>null</td><td>0</td><td>0</td></tr><tr><td>2006-01-05 07:00:00</td><td>0.0</td><td>null</td><td>0</td><td>0</td></tr></tbody></table></div>"
      ]
     },
     "execution_count": 110,
     "metadata": {},
     "output_type": "execute_result"
    }
   ],
   "execution_count": 110
  },
  {
   "cell_type": "code",
   "id": "25aa59b9",
   "metadata": {
    "ExecuteTime": {
     "end_time": "2025-04-15T13:49:19.893064Z",
     "start_time": "2025-04-15T13:49:19.887600Z"
    }
   },
   "source": [
    "num_neighbours = len(all_data.columns[2:])\n",
    "num_neighbours"
   ],
   "outputs": [
    {
     "data": {
      "text/plain": [
       "3"
      ]
     },
     "execution_count": 111,
     "metadata": {},
     "output_type": "execute_result"
    }
   ],
   "execution_count": 111
  },
  {
   "cell_type": "code",
   "id": "211d9914",
   "metadata": {
    "ExecuteTime": {
     "end_time": "2025-04-15T13:49:22.383596Z",
     "start_time": "2025-04-15T13:49:22.373756Z"
    }
   },
   "source": [
    "all_data_num_neighbours = all_data.with_columns(\n",
    "    (\n",
    "        num_neighbours\n",
    "        - pl.sum_horizontal(pl.all().exclude(\"time\").is_null().cast(pl.Int16))\n",
    "    ).alias(\"num_neighbours_online\")\n",
    ")\n",
    "all_data_num_neighbours"
   ],
   "outputs": [
    {
     "data": {
      "text/plain": [
       "shape: (1_825, 6)\n",
       "┌─────────────────┬─────────┬─────────────────┬─────────────────┬─────────────────┬────────────────┐\n",
       "│ time            ┆ rain_mm ┆ dry_flags_DE_03 ┆ dry_flags_DE_00 ┆ dry_flags_DE_06 ┆ num_neighbours │\n",
       "│ ---             ┆ ---     ┆ 215             ┆ 310             ┆ 303             ┆ _online        │\n",
       "│ datetime[μs]    ┆ f64     ┆ ---             ┆ ---             ┆ ---             ┆ ---            │\n",
       "│                 ┆         ┆ i32             ┆ i32             ┆ i32             ┆ i16            │\n",
       "╞═════════════════╪═════════╪═════════════════╪═════════════════╪═════════════════╪════════════════╡\n",
       "│ 2006-01-01      ┆ 0.2     ┆ null            ┆ 0               ┆ 0               ┆ 2              │\n",
       "│ 07:00:00        ┆         ┆                 ┆                 ┆                 ┆                │\n",
       "│ 2006-01-02      ┆ 0.0     ┆ null            ┆ 0               ┆ 0               ┆ 2              │\n",
       "│ 07:00:00        ┆         ┆                 ┆                 ┆                 ┆                │\n",
       "│ 2006-01-03      ┆ 0.0     ┆ null            ┆ 0               ┆ 0               ┆ 2              │\n",
       "│ 07:00:00        ┆         ┆                 ┆                 ┆                 ┆                │\n",
       "│ 2006-01-04      ┆ 0.0     ┆ null            ┆ 0               ┆ 0               ┆ 2              │\n",
       "│ 07:00:00        ┆         ┆                 ┆                 ┆                 ┆                │\n",
       "│ 2006-01-05      ┆ 0.0     ┆ null            ┆ 0               ┆ 0               ┆ 2              │\n",
       "│ 07:00:00        ┆         ┆                 ┆                 ┆                 ┆                │\n",
       "│ …               ┆ …       ┆ …               ┆ …               ┆ …               ┆ …              │\n",
       "│ 2010-12-26      ┆ 0.2     ┆ 0               ┆ 0               ┆ 0               ┆ 3              │\n",
       "│ 07:00:00        ┆         ┆                 ┆                 ┆                 ┆                │\n",
       "│ 2010-12-27      ┆ 0.0     ┆ 0               ┆ 0               ┆ 0               ┆ 3              │\n",
       "│ 07:00:00        ┆         ┆                 ┆                 ┆                 ┆                │\n",
       "│ 2010-12-28      ┆ 0.0     ┆ 0               ┆ 0               ┆ 0               ┆ 3              │\n",
       "│ 07:00:00        ┆         ┆                 ┆                 ┆                 ┆                │\n",
       "│ 2010-12-29      ┆ 0.0     ┆ 0               ┆ 0               ┆ 0               ┆ 3              │\n",
       "│ 07:00:00        ┆         ┆                 ┆                 ┆                 ┆                │\n",
       "│ 2010-12-30      ┆ 0.0     ┆ 0               ┆ 0               ┆ 0               ┆ 3              │\n",
       "│ 07:00:00        ┆         ┆                 ┆                 ┆                 ┆                │\n",
       "└─────────────────┴─────────┴─────────────────┴─────────────────┴─────────────────┴────────────────┘"
      ],
      "text/html": [
       "<div><style>\n",
       ".dataframe > thead > tr,\n",
       ".dataframe > tbody > tr {\n",
       "  text-align: right;\n",
       "  white-space: pre-wrap;\n",
       "}\n",
       "</style>\n",
       "<small>shape: (1_825, 6)</small><table border=\"1\" class=\"dataframe\"><thead><tr><th>time</th><th>rain_mm</th><th>dry_flags_DE_03215</th><th>dry_flags_DE_00310</th><th>dry_flags_DE_06303</th><th>num_neighbours_online</th></tr><tr><td>datetime[μs]</td><td>f64</td><td>i32</td><td>i32</td><td>i32</td><td>i16</td></tr></thead><tbody><tr><td>2006-01-01 07:00:00</td><td>0.2</td><td>null</td><td>0</td><td>0</td><td>2</td></tr><tr><td>2006-01-02 07:00:00</td><td>0.0</td><td>null</td><td>0</td><td>0</td><td>2</td></tr><tr><td>2006-01-03 07:00:00</td><td>0.0</td><td>null</td><td>0</td><td>0</td><td>2</td></tr><tr><td>2006-01-04 07:00:00</td><td>0.0</td><td>null</td><td>0</td><td>0</td><td>2</td></tr><tr><td>2006-01-05 07:00:00</td><td>0.0</td><td>null</td><td>0</td><td>0</td><td>2</td></tr><tr><td>&hellip;</td><td>&hellip;</td><td>&hellip;</td><td>&hellip;</td><td>&hellip;</td><td>&hellip;</td></tr><tr><td>2010-12-26 07:00:00</td><td>0.2</td><td>0</td><td>0</td><td>0</td><td>3</td></tr><tr><td>2010-12-27 07:00:00</td><td>0.0</td><td>0</td><td>0</td><td>0</td><td>3</td></tr><tr><td>2010-12-28 07:00:00</td><td>0.0</td><td>0</td><td>0</td><td>0</td><td>3</td></tr><tr><td>2010-12-29 07:00:00</td><td>0.0</td><td>0</td><td>0</td><td>0</td><td>3</td></tr><tr><td>2010-12-30 07:00:00</td><td>0.0</td><td>0</td><td>0</td><td>0</td><td>3</td></tr></tbody></table></div>"
      ]
     },
     "execution_count": 112,
     "metadata": {},
     "output_type": "execute_result"
    }
   ],
   "execution_count": 112
  },
  {
   "cell_type": "code",
   "id": "61a97b60",
   "metadata": {
    "ExecuteTime": {
     "end_time": "2025-04-15T13:49:25.675308Z",
     "start_time": "2025-04-15T13:49:25.669488Z"
    }
   },
   "source": [
    "all_data_num_neighbours[\"num_neighbours_online\"].value_counts()"
   ],
   "outputs": [
    {
     "data": {
      "text/plain": [
       "shape: (3, 2)\n",
       "┌───────────────────────┬───────┐\n",
       "│ num_neighbours_online ┆ count │\n",
       "│ ---                   ┆ ---   │\n",
       "│ i16                   ┆ u32   │\n",
       "╞═══════════════════════╪═══════╡\n",
       "│ 2                     ┆ 504   │\n",
       "│ 3                     ┆ 1256  │\n",
       "│ 0                     ┆ 65    │\n",
       "└───────────────────────┴───────┘"
      ],
      "text/html": [
       "<div><style>\n",
       ".dataframe > thead > tr,\n",
       ".dataframe > tbody > tr {\n",
       "  text-align: right;\n",
       "  white-space: pre-wrap;\n",
       "}\n",
       "</style>\n",
       "<small>shape: (3, 2)</small><table border=\"1\" class=\"dataframe\"><thead><tr><th>num_neighbours_online</th><th>count</th></tr><tr><td>i16</td><td>u32</td></tr></thead><tbody><tr><td>2</td><td>504</td></tr><tr><td>3</td><td>1256</td></tr><tr><td>0</td><td>65</td></tr></tbody></table></div>"
      ]
     },
     "execution_count": 113,
     "metadata": {},
     "output_type": "execute_result"
    }
   ],
   "execution_count": 113
  },
  {
   "cell_type": "code",
   "id": "f7d3e7b8",
   "metadata": {
    "ExecuteTime": {
     "end_time": "2025-04-15T13:49:30.081422Z",
     "start_time": "2025-04-15T13:49:30.070431Z"
    }
   },
   "source": [
    "all_data.filter(pl.col(\"dry_flags_DE_03215\") == 1)"
   ],
   "outputs": [
    {
     "data": {
      "text/plain": [
       "shape: (1, 5)\n",
       "┌─────────────────────┬─────────┬────────────────────┬────────────────────┬────────────────────┐\n",
       "│ time                ┆ rain_mm ┆ dry_flags_DE_03215 ┆ dry_flags_DE_00310 ┆ dry_flags_DE_06303 │\n",
       "│ ---                 ┆ ---     ┆ ---                ┆ ---                ┆ ---                │\n",
       "│ datetime[μs]        ┆ f64     ┆ i32                ┆ i32                ┆ i32                │\n",
       "╞═════════════════════╪═════════╪════════════════════╪════════════════════╪════════════════════╡\n",
       "│ 2010-07-04 07:00:00 ┆ 0.0     ┆ 1                  ┆ 1                  ┆ 3                  │\n",
       "└─────────────────────┴─────────┴────────────────────┴────────────────────┴────────────────────┘"
      ],
      "text/html": [
       "<div><style>\n",
       ".dataframe > thead > tr,\n",
       ".dataframe > tbody > tr {\n",
       "  text-align: right;\n",
       "  white-space: pre-wrap;\n",
       "}\n",
       "</style>\n",
       "<small>shape: (1, 5)</small><table border=\"1\" class=\"dataframe\"><thead><tr><th>time</th><th>rain_mm</th><th>dry_flags_DE_03215</th><th>dry_flags_DE_00310</th><th>dry_flags_DE_06303</th></tr><tr><td>datetime[μs]</td><td>f64</td><td>i32</td><td>i32</td><td>i32</td></tr></thead><tbody><tr><td>2010-07-04 07:00:00</td><td>0.0</td><td>1</td><td>1</td><td>3</td></tr></tbody></table></div>"
      ]
     },
     "execution_count": 114,
     "metadata": {},
     "output_type": "execute_result"
    }
   ],
   "execution_count": 114
  },
  {
   "cell_type": "markdown",
   "id": "388aec5b",
   "metadata": {},
   "source": [
    "#### Step 3. Majority voting flags for the target"
   ]
  },
  {
   "cell_type": "code",
   "id": "29e61f18",
   "metadata": {
    "ExecuteTime": {
     "end_time": "2025-04-15T13:49:40.521974Z",
     "start_time": "2025-04-15T13:49:40.517025Z"
    }
   },
   "source": [
    "all_data_dry_flags = all_data_num_neighbours.with_columns(\n",
    "    pl.when(pl.col(\"num_neighbours_online\") < MIN_NUM_NEIGHBOURS)\n",
    "    .then(np.nan)\n",
    "    .otherwise(\n",
    "        pl.min_horizontal(pl.all().exclude(\"time\", rain_col, \"num_neighbours_online\"))\n",
    "    )\n",
    "    .alias(\"dry_flags\")\n",
    ")"
   ],
   "outputs": [],
   "execution_count": 115
  },
  {
   "cell_type": "code",
   "id": "88b871c9",
   "metadata": {
    "ExecuteTime": {
     "end_time": "2025-04-15T13:49:43.311858Z",
     "start_time": "2025-04-15T13:49:43.304397Z"
    }
   },
   "source": [
    "all_data_dry_flags[\"dry_flags\"].value_counts()"
   ],
   "outputs": [
    {
     "data": {
      "text/plain": [
       "shape: (5, 2)\n",
       "┌───────────┬───────┐\n",
       "│ dry_flags ┆ count │\n",
       "│ ---       ┆ ---   │\n",
       "│ f64       ┆ u32   │\n",
       "╞═══════════╪═══════╡\n",
       "│ NaN       ┆ 65    │\n",
       "│ 1.0       ┆ 1     │\n",
       "│ 2.0       ┆ 5     │\n",
       "│ 3.0       ┆ 125   │\n",
       "│ 0.0       ┆ 1629  │\n",
       "└───────────┴───────┘"
      ],
      "text/html": [
       "<div><style>\n",
       ".dataframe > thead > tr,\n",
       ".dataframe > tbody > tr {\n",
       "  text-align: right;\n",
       "  white-space: pre-wrap;\n",
       "}\n",
       "</style>\n",
       "<small>shape: (5, 2)</small><table border=\"1\" class=\"dataframe\"><thead><tr><th>dry_flags</th><th>count</th></tr><tr><td>f64</td><td>u32</td></tr></thead><tbody><tr><td>NaN</td><td>65</td></tr><tr><td>1.0</td><td>1</td></tr><tr><td>2.0</td><td>5</td></tr><tr><td>3.0</td><td>125</td></tr><tr><td>0.0</td><td>1629</td></tr></tbody></table></div>"
      ]
     },
     "execution_count": 116,
     "metadata": {},
     "output_type": "execute_result"
    }
   ],
   "execution_count": 116
  },
  {
   "cell_type": "code",
   "id": "a5afd4a8",
   "metadata": {
    "ExecuteTime": {
     "end_time": "2025-04-15T13:49:46.431009Z",
     "start_time": "2025-04-15T13:49:46.419998Z"
    }
   },
   "source": [
    "all_data_dry_flags.filter((pl.col(\"dry_flags\") > 0) & (pl.col(\"dry_flags\").is_finite()))"
   ],
   "outputs": [
    {
     "data": {
      "text/plain": [
       "shape: (131, 7)\n",
       "┌───────────────┬─────────┬───────────────┬──────────────┬──────────────┬──────────────┬───────────┐\n",
       "│ time          ┆ rain_mm ┆ dry_flags_DE_ ┆ dry_flags_DE ┆ dry_flags_DE ┆ num_neighbou ┆ dry_flags │\n",
       "│ ---           ┆ ---     ┆ 03215         ┆ _00310       ┆ _06303       ┆ rs_online    ┆ ---       │\n",
       "│ datetime[μs]  ┆ f64     ┆ ---           ┆ ---          ┆ ---          ┆ ---          ┆ f64       │\n",
       "│               ┆         ┆ i32           ┆ i32          ┆ i32          ┆ i16          ┆           │\n",
       "╞═══════════════╪═════════╪═══════════════╪══════════════╪══════════════╪══════════════╪═══════════╡\n",
       "│ 2007-10-16    ┆ 0.0     ┆ 2             ┆ 2            ┆ 3            ┆ 3            ┆ 2.0       │\n",
       "│ 07:00:00      ┆         ┆               ┆              ┆              ┆              ┆           │\n",
       "│ 2007-12-26    ┆ 0.0     ┆ 2             ┆ 2            ┆ 3            ┆ 3            ┆ 2.0       │\n",
       "│ 07:00:00      ┆         ┆               ┆              ┆              ┆              ┆           │\n",
       "│ 2007-12-27    ┆ 0.0     ┆ 3             ┆ 3            ┆ 3            ┆ 3            ┆ 3.0       │\n",
       "│ 07:00:00      ┆         ┆               ┆              ┆              ┆              ┆           │\n",
       "│ 2007-12-28    ┆ 0.0     ┆ 3             ┆ 2            ┆ 2            ┆ 3            ┆ 2.0       │\n",
       "│ 07:00:00      ┆         ┆               ┆              ┆              ┆              ┆           │\n",
       "│ 2008-05-13    ┆ 0.0     ┆ 2             ┆ 2            ┆ 3            ┆ 3            ┆ 2.0       │\n",
       "│ 07:00:00      ┆         ┆               ┆              ┆              ┆              ┆           │\n",
       "│ …             ┆ …       ┆ …             ┆ …            ┆ …            ┆ …            ┆ …         │\n",
       "│ 2010-10-26    ┆ 0.0     ┆ 3             ┆ 3            ┆ 3            ┆ 3            ┆ 3.0       │\n",
       "│ 07:00:00      ┆         ┆               ┆              ┆              ┆              ┆           │\n",
       "│ 2010-10-27    ┆ 0.0     ┆ 3             ┆ 3            ┆ 3            ┆ 3            ┆ 3.0       │\n",
       "│ 07:00:00      ┆         ┆               ┆              ┆              ┆              ┆           │\n",
       "│ 2010-10-28    ┆ 0.0     ┆ 3             ┆ 3            ┆ 3            ┆ 3            ┆ 3.0       │\n",
       "│ 07:00:00      ┆         ┆               ┆              ┆              ┆              ┆           │\n",
       "│ 2010-10-29    ┆ 0.0     ┆ 3             ┆ 3            ┆ 3            ┆ 3            ┆ 3.0       │\n",
       "│ 07:00:00      ┆         ┆               ┆              ┆              ┆              ┆           │\n",
       "│ 2010-10-30    ┆ 0.0     ┆ 3             ┆ 3            ┆ 3            ┆ 3            ┆ 3.0       │\n",
       "│ 07:00:00      ┆         ┆               ┆              ┆              ┆              ┆           │\n",
       "└───────────────┴─────────┴───────────────┴──────────────┴──────────────┴──────────────┴───────────┘"
      ],
      "text/html": [
       "<div><style>\n",
       ".dataframe > thead > tr,\n",
       ".dataframe > tbody > tr {\n",
       "  text-align: right;\n",
       "  white-space: pre-wrap;\n",
       "}\n",
       "</style>\n",
       "<small>shape: (131, 7)</small><table border=\"1\" class=\"dataframe\"><thead><tr><th>time</th><th>rain_mm</th><th>dry_flags_DE_03215</th><th>dry_flags_DE_00310</th><th>dry_flags_DE_06303</th><th>num_neighbours_online</th><th>dry_flags</th></tr><tr><td>datetime[μs]</td><td>f64</td><td>i32</td><td>i32</td><td>i32</td><td>i16</td><td>f64</td></tr></thead><tbody><tr><td>2007-10-16 07:00:00</td><td>0.0</td><td>2</td><td>2</td><td>3</td><td>3</td><td>2.0</td></tr><tr><td>2007-12-26 07:00:00</td><td>0.0</td><td>2</td><td>2</td><td>3</td><td>3</td><td>2.0</td></tr><tr><td>2007-12-27 07:00:00</td><td>0.0</td><td>3</td><td>3</td><td>3</td><td>3</td><td>3.0</td></tr><tr><td>2007-12-28 07:00:00</td><td>0.0</td><td>3</td><td>2</td><td>2</td><td>3</td><td>2.0</td></tr><tr><td>2008-05-13 07:00:00</td><td>0.0</td><td>2</td><td>2</td><td>3</td><td>3</td><td>2.0</td></tr><tr><td>&hellip;</td><td>&hellip;</td><td>&hellip;</td><td>&hellip;</td><td>&hellip;</td><td>&hellip;</td><td>&hellip;</td></tr><tr><td>2010-10-26 07:00:00</td><td>0.0</td><td>3</td><td>3</td><td>3</td><td>3</td><td>3.0</td></tr><tr><td>2010-10-27 07:00:00</td><td>0.0</td><td>3</td><td>3</td><td>3</td><td>3</td><td>3.0</td></tr><tr><td>2010-10-28 07:00:00</td><td>0.0</td><td>3</td><td>3</td><td>3</td><td>3</td><td>3.0</td></tr><tr><td>2010-10-29 07:00:00</td><td>0.0</td><td>3</td><td>3</td><td>3</td><td>3</td><td>3.0</td></tr><tr><td>2010-10-30 07:00:00</td><td>0.0</td><td>3</td><td>3</td><td>3</td><td>3</td><td>3.0</td></tr></tbody></table></div>"
      ]
     },
     "execution_count": 117,
     "metadata": {},
     "output_type": "execute_result"
    }
   ],
   "execution_count": 117
  },
  {
   "cell_type": "markdown",
   "id": "1835bae8",
   "metadata": {},
   "source": [
    "### Step 4. Back propogate flags so period previous to flag is also given the same flag\n",
    "Number of days of period set by DRY_PERIOD_DAYS"
   ]
  },
  {
   "cell_type": "code",
   "id": "3467989a",
   "metadata": {
    "ExecuteTime": {
     "end_time": "2025-04-15T13:49:51.909975Z",
     "start_time": "2025-04-15T13:49:51.903551Z"
    }
   },
   "source": [
    "def back_propagate_flags(df, flag_column, num_days):\n",
    "    \"\"\"\n",
    "    Back fill-in flags a number of days. This will prioritise higher flag values\n",
    "\n",
    "    Parameters\n",
    "    ----------\n",
    "    df : polars.DataFrame\n",
    "        Data with `flag_column` series\n",
    "    flag_column : str\n",
    "        column with flags\n",
    "    num_days: int\n",
    "        Number of days to back-propagate\n",
    "    Returns\n",
    "    -------\n",
    "    df\n",
    "\n",
    "    \"\"\"\n",
    "    df = df.clone()\n",
    "    # TODO: automatically extract flag values\n",
    "    flag_values = (flag for flag in df[flag_column].unique() if (np.isfinite(flag) & (flag > 0)))\n",
    "    for flag, df_filtered in [\n",
    "        (flag, df.filter(pl.col(flag_column) == flag)) for flag in flag_values\n",
    "    ]:\n",
    "        for time_to_use in df_filtered[\"time\"]:\n",
    "            assert isinstance(time_to_use, datetime.datetime), \"time_to_use must be datetime.datetime\"\n",
    "            start_time = time_to_use - datetime.timedelta(days=num_days)\n",
    "            df = df.with_columns(\n",
    "                pl.when((pl.col(\"time\") >= start_time) & (pl.col(\"time\") <= time_to_use))\n",
    "                .then(flag)\n",
    "                .otherwise(pl.col(flag_column))\n",
    "                .alias(flag_column)\n",
    "            )\n",
    "\n",
    "    return df"
   ],
   "outputs": [],
   "execution_count": 118
  },
  {
   "cell_type": "code",
   "id": "6c89fe06",
   "metadata": {
    "ExecuteTime": {
     "end_time": "2025-04-15T13:49:54.202768Z",
     "start_time": "2025-04-15T13:49:54.186101Z"
    }
   },
   "source": "all_data_dry_flags_back_prop = back_propagate_flags(all_data_dry_flags, flag_column=\"dry_flags\", num_days=(DRY_PERIOD_DAYS-1))",
   "outputs": [],
   "execution_count": 119
  },
  {
   "metadata": {
    "ExecuteTime": {
     "end_time": "2025-04-15T13:49:55.938267Z",
     "start_time": "2025-04-15T13:49:55.933603Z"
    }
   },
   "cell_type": "code",
   "source": [
    "## before:\n",
    "all_data_dry_flags[\"dry_flags\"].value_counts()\n"
   ],
   "id": "3dccd80a129ad3c3",
   "outputs": [
    {
     "data": {
      "text/plain": [
       "shape: (5, 2)\n",
       "┌───────────┬───────┐\n",
       "│ dry_flags ┆ count │\n",
       "│ ---       ┆ ---   │\n",
       "│ f64       ┆ u32   │\n",
       "╞═══════════╪═══════╡\n",
       "│ 2.0       ┆ 5     │\n",
       "│ 3.0       ┆ 125   │\n",
       "│ 0.0       ┆ 1629  │\n",
       "│ 1.0       ┆ 1     │\n",
       "│ NaN       ┆ 65    │\n",
       "└───────────┴───────┘"
      ],
      "text/html": [
       "<div><style>\n",
       ".dataframe > thead > tr,\n",
       ".dataframe > tbody > tr {\n",
       "  text-align: right;\n",
       "  white-space: pre-wrap;\n",
       "}\n",
       "</style>\n",
       "<small>shape: (5, 2)</small><table border=\"1\" class=\"dataframe\"><thead><tr><th>dry_flags</th><th>count</th></tr><tr><td>f64</td><td>u32</td></tr></thead><tbody><tr><td>2.0</td><td>5</td></tr><tr><td>3.0</td><td>125</td></tr><tr><td>0.0</td><td>1629</td></tr><tr><td>1.0</td><td>1</td></tr><tr><td>NaN</td><td>65</td></tr></tbody></table></div>"
      ]
     },
     "execution_count": 120,
     "metadata": {},
     "output_type": "execute_result"
    }
   ],
   "execution_count": 120
  },
  {
   "cell_type": "code",
   "id": "8534a73f",
   "metadata": {
    "ExecuteTime": {
     "end_time": "2025-04-15T13:49:57.912078Z",
     "start_time": "2025-04-15T13:49:57.907256Z"
    }
   },
   "source": [
    "## after\n",
    "all_data_dry_flags_back_prop[\"dry_flags\"].value_counts()"
   ],
   "outputs": [
    {
     "data": {
      "text/plain": [
       "shape: (5, 2)\n",
       "┌───────────┬───────┐\n",
       "│ dry_flags ┆ count │\n",
       "│ ---       ┆ ---   │\n",
       "│ f64       ┆ u32   │\n",
       "╞═══════════╪═══════╡\n",
       "│ 0.0       ┆ 1517  │\n",
       "│ 2.0       ┆ 33    │\n",
       "│ NaN       ┆ 65    │\n",
       "│ 1.0       ┆ 15    │\n",
       "│ 3.0       ┆ 195   │\n",
       "└───────────┴───────┘"
      ],
      "text/html": [
       "<div><style>\n",
       ".dataframe > thead > tr,\n",
       ".dataframe > tbody > tr {\n",
       "  text-align: right;\n",
       "  white-space: pre-wrap;\n",
       "}\n",
       "</style>\n",
       "<small>shape: (5, 2)</small><table border=\"1\" class=\"dataframe\"><thead><tr><th>dry_flags</th><th>count</th></tr><tr><td>f64</td><td>u32</td></tr></thead><tbody><tr><td>0.0</td><td>1517</td></tr><tr><td>2.0</td><td>33</td></tr><tr><td>NaN</td><td>65</td></tr><tr><td>1.0</td><td>15</td></tr><tr><td>3.0</td><td>195</td></tr></tbody></table></div>"
      ]
     },
     "execution_count": 121,
     "metadata": {},
     "output_type": "execute_result"
    }
   ],
   "execution_count": 121
  },
  {
   "cell_type": "code",
   "id": "393e75b9",
   "metadata": {
    "ExecuteTime": {
     "end_time": "2025-04-15T13:50:00.873877Z",
     "start_time": "2025-04-15T13:50:00.869260Z"
    }
   },
   "source": "all_data_dry_flags_back_prop[845:950]",
   "outputs": [
    {
     "data": {
      "text/plain": [
       "shape: (105, 7)\n",
       "┌───────────────┬─────────┬───────────────┬──────────────┬──────────────┬──────────────┬───────────┐\n",
       "│ time          ┆ rain_mm ┆ dry_flags_DE_ ┆ dry_flags_DE ┆ dry_flags_DE ┆ num_neighbou ┆ dry_flags │\n",
       "│ ---           ┆ ---     ┆ 03215         ┆ _00310       ┆ _06303       ┆ rs_online    ┆ ---       │\n",
       "│ datetime[μs]  ┆ f64     ┆ ---           ┆ ---          ┆ ---          ┆ ---          ┆ f64       │\n",
       "│               ┆         ┆ i32           ┆ i32          ┆ i32          ┆ i16          ┆           │\n",
       "╞═══════════════╪═════════╪═══════════════╪══════════════╪══════════════╪══════════════╪═══════════╡\n",
       "│ 2008-04-25    ┆ 0.0     ┆ 0             ┆ 0            ┆ 0            ┆ 3            ┆ 0.0       │\n",
       "│ 07:00:00      ┆         ┆               ┆              ┆              ┆              ┆           │\n",
       "│ 2008-04-26    ┆ 0.0     ┆ 0             ┆ 0            ┆ 0            ┆ 3            ┆ 0.0       │\n",
       "│ 07:00:00      ┆         ┆               ┆              ┆              ┆              ┆           │\n",
       "│ 2008-04-27    ┆ 0.0     ┆ 0             ┆ 0            ┆ 0            ┆ 3            ┆ 0.0       │\n",
       "│ 07:00:00      ┆         ┆               ┆              ┆              ┆              ┆           │\n",
       "│ 2008-04-28    ┆ 0.6     ┆ 0             ┆ 0            ┆ 0            ┆ 3            ┆ 0.0       │\n",
       "│ 07:00:00      ┆         ┆               ┆              ┆              ┆              ┆           │\n",
       "│ 2008-04-29    ┆ 0.0     ┆ 0             ┆ 0            ┆ 0            ┆ 3            ┆ 2.0       │\n",
       "│ 07:00:00      ┆         ┆               ┆              ┆              ┆              ┆           │\n",
       "│ …             ┆ …       ┆ …             ┆ …            ┆ …            ┆ …            ┆ …         │\n",
       "│ 2008-08-03    ┆ 0.7     ┆ 0             ┆ 0            ┆ 0            ┆ 3            ┆ 0.0       │\n",
       "│ 07:00:00      ┆         ┆               ┆              ┆              ┆              ┆           │\n",
       "│ 2008-08-04    ┆ 0.1     ┆ 0             ┆ 0            ┆ 0            ┆ 3            ┆ 0.0       │\n",
       "│ 07:00:00      ┆         ┆               ┆              ┆              ┆              ┆           │\n",
       "│ 2008-08-05    ┆ 0.0     ┆ 0             ┆ 0            ┆ 0            ┆ 3            ┆ 0.0       │\n",
       "│ 07:00:00      ┆         ┆               ┆              ┆              ┆              ┆           │\n",
       "│ 2008-08-06    ┆ 0.0     ┆ 0             ┆ 0            ┆ 0            ┆ 3            ┆ 0.0       │\n",
       "│ 07:00:00      ┆         ┆               ┆              ┆              ┆              ┆           │\n",
       "│ 2008-08-07    ┆ 0.2     ┆ 0             ┆ 0            ┆ 0            ┆ 3            ┆ 0.0       │\n",
       "│ 07:00:00      ┆         ┆               ┆              ┆              ┆              ┆           │\n",
       "└───────────────┴─────────┴───────────────┴──────────────┴──────────────┴──────────────┴───────────┘"
      ],
      "text/html": [
       "<div><style>\n",
       ".dataframe > thead > tr,\n",
       ".dataframe > tbody > tr {\n",
       "  text-align: right;\n",
       "  white-space: pre-wrap;\n",
       "}\n",
       "</style>\n",
       "<small>shape: (105, 7)</small><table border=\"1\" class=\"dataframe\"><thead><tr><th>time</th><th>rain_mm</th><th>dry_flags_DE_03215</th><th>dry_flags_DE_00310</th><th>dry_flags_DE_06303</th><th>num_neighbours_online</th><th>dry_flags</th></tr><tr><td>datetime[μs]</td><td>f64</td><td>i32</td><td>i32</td><td>i32</td><td>i16</td><td>f64</td></tr></thead><tbody><tr><td>2008-04-25 07:00:00</td><td>0.0</td><td>0</td><td>0</td><td>0</td><td>3</td><td>0.0</td></tr><tr><td>2008-04-26 07:00:00</td><td>0.0</td><td>0</td><td>0</td><td>0</td><td>3</td><td>0.0</td></tr><tr><td>2008-04-27 07:00:00</td><td>0.0</td><td>0</td><td>0</td><td>0</td><td>3</td><td>0.0</td></tr><tr><td>2008-04-28 07:00:00</td><td>0.6</td><td>0</td><td>0</td><td>0</td><td>3</td><td>0.0</td></tr><tr><td>2008-04-29 07:00:00</td><td>0.0</td><td>0</td><td>0</td><td>0</td><td>3</td><td>2.0</td></tr><tr><td>&hellip;</td><td>&hellip;</td><td>&hellip;</td><td>&hellip;</td><td>&hellip;</td><td>&hellip;</td><td>&hellip;</td></tr><tr><td>2008-08-03 07:00:00</td><td>0.7</td><td>0</td><td>0</td><td>0</td><td>3</td><td>0.0</td></tr><tr><td>2008-08-04 07:00:00</td><td>0.1</td><td>0</td><td>0</td><td>0</td><td>3</td><td>0.0</td></tr><tr><td>2008-08-05 07:00:00</td><td>0.0</td><td>0</td><td>0</td><td>0</td><td>3</td><td>0.0</td></tr><tr><td>2008-08-06 07:00:00</td><td>0.0</td><td>0</td><td>0</td><td>0</td><td>3</td><td>0.0</td></tr><tr><td>2008-08-07 07:00:00</td><td>0.2</td><td>0</td><td>0</td><td>0</td><td>3</td><td>0.0</td></tr></tbody></table></div>"
      ]
     },
     "execution_count": 122,
     "metadata": {},
     "output_type": "execute_result"
    }
   ],
   "execution_count": 122
  },
  {
   "metadata": {},
   "cell_type": "code",
   "outputs": [],
   "execution_count": null,
   "source": "",
   "id": "d78188b26f4663b6"
  },
  {
   "cell_type": "markdown",
   "id": "6d73b55d-70ca-4a7f-9ccb-eb7c8220b834",
   "metadata": {},
   "source": [
    "# QC19 - Hourly neighbours (dry) \n",
    "[Back to Index](#Table-of-contents)\n",
    "\n",
    "#### Differences from `intense-qc`: \n",
    "- NOTE: the order in which the data is back-propogated and forward flood-fill will matter\n",
    "- TODO: sort out whether you want to do back-propogation or forward flood fill first (original metho does back prop then flood fill)"
   ]
  },
  {
   "cell_type": "code",
   "id": "fd2d36f5-06a5-41cc-a586-28cbe36b2ec0",
   "metadata": {
    "ExecuteTime": {
     "end_time": "2025-04-15T15:29:32.221975Z",
     "start_time": "2025-04-15T15:29:31.626500Z"
    }
   },
   "source": [
    "all_data = target_gauge_daily.clone() ## currently daily instead of hourly because this works best with later flood-fill\n",
    "\n",
    "for n_id in all_neighbour_ids_paths.keys():\n",
    "    ## 0. Get neighbouring GDSR data\n",
    "    print(n_id)\n",
    "    gdsr_col_name = f\"{rain_col}_GDSR_{n_id}\"\n",
    "    neighbouring_gdsr_gauge = get_neighbouring_gdsr_data(\n",
    "        neighbour_gdsr_id=n_id, time_multiplying_factor=MULTIPLYING_FACTORS[\"hourly\"]\n",
    "    )\n",
    "    ## 1. make no data vals nans\n",
    "    station_metadata = read_metadata(data_path=all_neighbour_ids_paths[n_id])\n",
    "    neighbouring_gdsr_gauge = replace_no_data_with_nan(\n",
    "        neighbouring_gdsr_gauge, no_data_value=int(station_metadata[\"no_data_value\"])\n",
    "    )\n",
    "\n",
    "    joined_gauges_gdsr = target_gauge.join(\n",
    "        neighbouring_gdsr_gauge, on=\"time\", suffix=f\"_{n_id}\"\n",
    "    )\n",
    "    joined_gauges_gdsr = joined_gauges_gdsr.drop_nans()\n",
    "\n",
    "    ## 2. resample into daily (also round to 1 decimal place) TODO: think about offset part\n",
    "    joined_gauges_gdsr = (\n",
    "        joined_gauges_gdsr.group_by_dynamic(\"time\", every=\"1d\", offset=\"7h\")\n",
    "        .agg(\n",
    "            [\n",
    "                pl.len().alias(\"n_hours\"),\n",
    "                pl.col(rain_col).mean().round(1).alias(rain_col),\n",
    "                pl.col(f\"{rain_col}_{n_id}\")\n",
    "                .mean()\n",
    "                .round(1)\n",
    "                .alias(gdsr_col_name),\n",
    "            ]\n",
    "        )\n",
    "        .filter(pl.col(\"n_hours\") == 24)\n",
    "        .drop(\"n_hours\")\n",
    "    )  # Ensure at least 24 data points\n",
    "\n",
    "    ## 3. convert to dry spell\n",
    "    joined_gauges_gdsr_dry_spell = (\n",
    "        joined_gauges_gdsr.with_columns(\n",
    "            pl.col(rain_col)\n",
    "            .map_batches(\n",
    "                lambda row: convert_to_dry_spell(\n",
    "                    row, DRY_PERIOD_DAYS, col_name=rain_col\n",
    "                )\n",
    "            )\n",
    "            .alias(\"dry_spell_fraction\"),\n",
    "            pl.col(gdsr_col_name)\n",
    "            .map_batches(\n",
    "                lambda row: convert_to_dry_spell(\n",
    "                    row, DRY_PERIOD_DAYS, col_name=gdsr_col_name\n",
    "                )\n",
    "            )\n",
    "            .alias(f\"dry_spell_fraction_{n_id}\"),\n",
    "        )\n",
    "    )\n",
    "\n",
    "    ## 4. Assign dry flags\n",
    "    joined_gauges_gdsr_dry_flags = (\n",
    "        joined_gauges_gdsr_dry_spell.with_columns(\n",
    "            pl.when(\n",
    "                (pl.col(\"dry_spell_fraction\") == 1.0)\n",
    "                & (pl.col(f\"dry_spell_fraction_{n_id}\") == 1.0)\n",
    "            )\n",
    "            .then(0)\n",
    "            .when(\n",
    "                (pl.col(\"dry_spell_fraction\") == 1.0)\n",
    "                & (pl.col(f\"dry_spell_fraction_{n_id}\") < 1.0)\n",
    "                & (pl.col(f\"dry_spell_fraction_{n_id}\") >= fraction_drydays[\"1\"]),\n",
    "            )\n",
    "            .then(1)\n",
    "            .when(\n",
    "                (pl.col(\"dry_spell_fraction\") == 1.0)\n",
    "                & (pl.col(f\"dry_spell_fraction_{n_id}\") < fraction_drydays[\"1\"])\n",
    "                & (pl.col(f\"dry_spell_fraction_{n_id}\") >= fraction_drydays[\"2\"]),\n",
    "            )\n",
    "            .then(2)\n",
    "            .when(\n",
    "                (pl.col(\"dry_spell_fraction\") == 1.0)\n",
    "                & (pl.col(f\"dry_spell_fraction_{n_id}\") < fraction_drydays[\"2\"])\n",
    "            )\n",
    "            .then(3)\n",
    "            .otherwise(0)\n",
    "            .alias(f\"dry_flags_{n_id}\")\n",
    "        )\n",
    "    )\n",
    "\n",
    "    ## 5. Join to all data\n",
    "    all_data = all_data.join(\n",
    "        joined_gauges_gdsr_dry_flags[\n",
    "            [\"time\", f\"dry_flags_{n_id}\"]\n",
    "        ],\n",
    "        on=\"time\",\n",
    "        how=\"left\",\n",
    "    )\n",
    "\n",
    "    print(\"Hourly grouped into daily:\",\n",
    "        gpcc_id_to_use,\n",
    "        joined_gauges_gdsr_dry_flags[\n",
    "            f\"dry_flags_{n_id}\"\n",
    "        ].value_counts(),\n",
    "    )\n"
   ],
   "outputs": [
    {
     "name": "stdout",
     "output_type": "stream",
     "text": [
      "DE_04313\n",
      "Hourly grouped into daily: DE_06264 shape: (4, 2)\n",
      "┌────────────────────┬───────┐\n",
      "│ dry_flags_DE_04313 ┆ count │\n",
      "│ ---                ┆ ---   │\n",
      "│ i32                ┆ u32   │\n",
      "╞════════════════════╪═══════╡\n",
      "│ 2                  ┆ 23    │\n",
      "│ 3                  ┆ 103   │\n",
      "│ 1                  ┆ 2     │\n",
      "│ 0                  ┆ 1626  │\n",
      "└────────────────────┴───────┘\n",
      "DE_03215\n",
      "Hourly grouped into daily: DE_06264 shape: (4, 2)\n",
      "┌────────────────────┬───────┐\n",
      "│ dry_flags_DE_03215 ┆ count │\n",
      "│ ---                ┆ ---   │\n",
      "│ i32                ┆ u32   │\n",
      "╞════════════════════╪═══════╡\n",
      "│ 1                  ┆ 6     │\n",
      "│ 0                  ┆ 1126  │\n",
      "│ 2                  ┆ 7     │\n",
      "│ 3                  ┆ 111   │\n",
      "└────────────────────┴───────┘\n",
      "DE_02718\n",
      "Hourly grouped into daily: DE_06264 shape: (4, 2)\n",
      "┌────────────────────┬───────┐\n",
      "│ dry_flags_DE_02718 ┆ count │\n",
      "│ ---                ┆ ---   │\n",
      "│ i32                ┆ u32   │\n",
      "╞════════════════════╪═══════╡\n",
      "│ 2                  ┆ 12    │\n",
      "│ 3                  ┆ 110   │\n",
      "│ 1                  ┆ 2     │\n",
      "│ 0                  ┆ 1633  │\n",
      "└────────────────────┴───────┘\n",
      "DE_01300\n",
      "Hourly grouped into daily: DE_06264 shape: (4, 2)\n",
      "┌────────────────────┬───────┐\n",
      "│ dry_flags_DE_01300 ┆ count │\n",
      "│ ---                ┆ ---   │\n",
      "│ i32                ┆ u32   │\n",
      "╞════════════════════╪═══════╡\n",
      "│ 0                  ┆ 1628  │\n",
      "│ 2                  ┆ 11    │\n",
      "│ 1                  ┆ 6     │\n",
      "│ 3                  ┆ 110   │\n",
      "└────────────────────┴───────┘\n",
      "DE_00390\n",
      "Hourly grouped into daily: DE_06264 shape: (4, 2)\n",
      "┌────────────────────┬───────┐\n",
      "│ dry_flags_DE_00390 ┆ count │\n",
      "│ ---                ┆ ---   │\n",
      "│ i32                ┆ u32   │\n",
      "╞════════════════════╪═══════╡\n",
      "│ 1                  ┆ 2     │\n",
      "│ 2                  ┆ 10    │\n",
      "│ 3                  ┆ 111   │\n",
      "│ 0                  ┆ 1631  │\n",
      "└────────────────────┴───────┘\n",
      "DE_00310\n",
      "Hourly grouped into daily: DE_06264 shape: (4, 2)\n",
      "┌────────────────────┬───────┐\n",
      "│ dry_flags_DE_00310 ┆ count │\n",
      "│ ---                ┆ ---   │\n",
      "│ i32                ┆ u32   │\n",
      "╞════════════════════╪═══════╡\n",
      "│ 0                  ┆ 1606  │\n",
      "│ 1                  ┆ 3     │\n",
      "│ 3                  ┆ 118   │\n",
      "│ 2                  ┆ 3     │\n",
      "└────────────────────┴───────┘\n",
      "DE_04488\n",
      "Hourly grouped into daily: DE_06264 shape: (4, 2)\n",
      "┌────────────────────┬───────┐\n",
      "│ dry_flags_DE_04488 ┆ count │\n",
      "│ ---                ┆ ---   │\n",
      "│ i32                ┆ u32   │\n",
      "╞════════════════════╪═══════╡\n",
      "│ 2                  ┆ 19    │\n",
      "│ 3                  ┆ 103   │\n",
      "│ 1                  ┆ 4     │\n",
      "│ 0                  ┆ 1425  │\n",
      "└────────────────────┴───────┘\n",
      "DE_06303\n",
      "Hourly grouped into daily: DE_06264 shape: (4, 2)\n",
      "┌────────────────────┬───────┐\n",
      "│ dry_flags_DE_06303 ┆ count │\n",
      "│ ---                ┆ ---   │\n",
      "│ i32                ┆ u32   │\n",
      "╞════════════════════╪═══════╡\n",
      "│ 3                  ┆ 111   │\n",
      "│ 0                  ┆ 1630  │\n",
      "│ 1                  ┆ 3     │\n",
      "│ 2                  ┆ 10    │\n",
      "└────────────────────┴───────┘\n",
      "DE_06264\n",
      "Hourly grouped into daily: DE_06264 shape: (4, 2)\n",
      "┌────────────────────┬───────┐\n",
      "│ dry_flags_DE_06264 ┆ count │\n",
      "│ ---                ┆ ---   │\n",
      "│ i32                ┆ u32   │\n",
      "╞════════════════════╪═══════╡\n",
      "│ 0                  ┆ 1629  │\n",
      "│ 1                  ┆ 2     │\n",
      "│ 3                  ┆ 112   │\n",
      "│ 2                  ┆ 9     │\n",
      "└────────────────────┴───────┘\n"
     ]
    }
   ],
   "execution_count": 239
  },
  {
   "metadata": {},
   "cell_type": "markdown",
   "source": "#### Step 2. Calculate num neighbours online",
   "id": "a3d8eaf2854665c4"
  },
  {
   "metadata": {
    "ExecuteTime": {
     "end_time": "2025-04-15T15:29:49.758731Z",
     "start_time": "2025-04-15T15:29:49.756279Z"
    }
   },
   "cell_type": "code",
   "source": [
    "## global determining the minimum number of non-null neighbours to count flags\n",
    "MIN_NUM_NEIGHBOURS = 2  # original method is 3"
   ],
   "id": "2b6a991023cdaa82",
   "outputs": [],
   "execution_count": 240
  },
  {
   "metadata": {
    "ExecuteTime": {
     "end_time": "2025-04-15T15:29:50.282856Z",
     "start_time": "2025-04-15T15:29:50.278816Z"
    }
   },
   "cell_type": "code",
   "source": [
    "num_neighbours = len(all_data.columns[2:])\n",
    "num_neighbours"
   ],
   "id": "2db67778b2a91cc4",
   "outputs": [
    {
     "data": {
      "text/plain": [
       "9"
      ]
     },
     "execution_count": 241,
     "metadata": {},
     "output_type": "execute_result"
    }
   ],
   "execution_count": 241
  },
  {
   "metadata": {
    "ExecuteTime": {
     "end_time": "2025-04-15T15:29:51.244970Z",
     "start_time": "2025-04-15T15:29:51.227537Z"
    }
   },
   "cell_type": "code",
   "source": [
    "all_data_num_neighbours = all_data.with_columns(\n",
    "    (\n",
    "        num_neighbours\n",
    "        - pl.sum_horizontal(pl.all().exclude(\"time\").is_null().cast(pl.Int16))\n",
    "    ).alias(\"num_neighbours_online\")\n",
    ")\n",
    "all_data_num_neighbours"
   ],
   "id": "9cb13f87b7803b30",
   "outputs": [
    {
     "data": {
      "text/plain": [
       "shape: (1_825, 12)\n",
       "┌────────────┬─────────┬───────────┬───────────┬───┬───────────┬───────────┬───────────┬───────────┐\n",
       "│ time       ┆ rain_mm ┆ dry_flags ┆ dry_flags ┆ … ┆ dry_flags ┆ dry_flags ┆ dry_flags ┆ num_neigh │\n",
       "│ ---        ┆ ---     ┆ _DE_04313 ┆ _DE_03215 ┆   ┆ _DE_04488 ┆ _DE_06303 ┆ _DE_06264 ┆ bours_onl │\n",
       "│ datetime[μ ┆ f64     ┆ ---       ┆ ---       ┆   ┆ ---       ┆ ---       ┆ ---       ┆ ine       │\n",
       "│ s]         ┆         ┆ i32       ┆ i32       ┆   ┆ i32       ┆ i32       ┆ i32       ┆ ---       │\n",
       "│            ┆         ┆           ┆           ┆   ┆           ┆           ┆           ┆ i16       │\n",
       "╞════════════╪═════════╪═══════════╪═══════════╪═══╪═══════════╪═══════════╪═══════════╪═══════════╡\n",
       "│ 2006-01-01 ┆ 0.2     ┆ 0         ┆ null      ┆ … ┆ null      ┆ 0         ┆ 0         ┆ 7         │\n",
       "│ 07:00:00   ┆         ┆           ┆           ┆   ┆           ┆           ┆           ┆           │\n",
       "│ 2006-01-02 ┆ 0.0     ┆ 0         ┆ null      ┆ … ┆ null      ┆ 0         ┆ 0         ┆ 7         │\n",
       "│ 07:00:00   ┆         ┆           ┆           ┆   ┆           ┆           ┆           ┆           │\n",
       "│ 2006-01-03 ┆ 0.0     ┆ 0         ┆ null      ┆ … ┆ null      ┆ 0         ┆ 0         ┆ 7         │\n",
       "│ 07:00:00   ┆         ┆           ┆           ┆   ┆           ┆           ┆           ┆           │\n",
       "│ 2006-01-04 ┆ 0.0     ┆ 0         ┆ null      ┆ … ┆ null      ┆ 0         ┆ 0         ┆ 7         │\n",
       "│ 07:00:00   ┆         ┆           ┆           ┆   ┆           ┆           ┆           ┆           │\n",
       "│ 2006-01-05 ┆ 0.0     ┆ 0         ┆ null      ┆ … ┆ null      ┆ 0         ┆ 0         ┆ 7         │\n",
       "│ 07:00:00   ┆         ┆           ┆           ┆   ┆           ┆           ┆           ┆           │\n",
       "│ …          ┆ …       ┆ …         ┆ …         ┆ … ┆ …         ┆ …         ┆ …         ┆ …         │\n",
       "│ 2010-12-26 ┆ 0.2     ┆ 0         ┆ 0         ┆ … ┆ 0         ┆ 0         ┆ 0         ┆ 9         │\n",
       "│ 07:00:00   ┆         ┆           ┆           ┆   ┆           ┆           ┆           ┆           │\n",
       "│ 2010-12-27 ┆ 0.0     ┆ 0         ┆ 0         ┆ … ┆ 0         ┆ 0         ┆ 0         ┆ 9         │\n",
       "│ 07:00:00   ┆         ┆           ┆           ┆   ┆           ┆           ┆           ┆           │\n",
       "│ 2010-12-28 ┆ 0.0     ┆ 0         ┆ 0         ┆ … ┆ 0         ┆ 0         ┆ 0         ┆ 9         │\n",
       "│ 07:00:00   ┆         ┆           ┆           ┆   ┆           ┆           ┆           ┆           │\n",
       "│ 2010-12-29 ┆ 0.0     ┆ 0         ┆ 0         ┆ … ┆ 0         ┆ 0         ┆ 0         ┆ 9         │\n",
       "│ 07:00:00   ┆         ┆           ┆           ┆   ┆           ┆           ┆           ┆           │\n",
       "│ 2010-12-30 ┆ 0.0     ┆ 0         ┆ 0         ┆ … ┆ 0         ┆ 0         ┆ 0         ┆ 9         │\n",
       "│ 07:00:00   ┆         ┆           ┆           ┆   ┆           ┆           ┆           ┆           │\n",
       "└────────────┴─────────┴───────────┴───────────┴───┴───────────┴───────────┴───────────┴───────────┘"
      ],
      "text/html": [
       "<div><style>\n",
       ".dataframe > thead > tr,\n",
       ".dataframe > tbody > tr {\n",
       "  text-align: right;\n",
       "  white-space: pre-wrap;\n",
       "}\n",
       "</style>\n",
       "<small>shape: (1_825, 12)</small><table border=\"1\" class=\"dataframe\"><thead><tr><th>time</th><th>rain_mm</th><th>dry_flags_DE_04313</th><th>dry_flags_DE_03215</th><th>dry_flags_DE_02718</th><th>dry_flags_DE_01300</th><th>dry_flags_DE_00390</th><th>dry_flags_DE_00310</th><th>dry_flags_DE_04488</th><th>dry_flags_DE_06303</th><th>dry_flags_DE_06264</th><th>num_neighbours_online</th></tr><tr><td>datetime[μs]</td><td>f64</td><td>i32</td><td>i32</td><td>i32</td><td>i32</td><td>i32</td><td>i32</td><td>i32</td><td>i32</td><td>i32</td><td>i16</td></tr></thead><tbody><tr><td>2006-01-01 07:00:00</td><td>0.2</td><td>0</td><td>null</td><td>0</td><td>0</td><td>0</td><td>0</td><td>null</td><td>0</td><td>0</td><td>7</td></tr><tr><td>2006-01-02 07:00:00</td><td>0.0</td><td>0</td><td>null</td><td>0</td><td>0</td><td>0</td><td>0</td><td>null</td><td>0</td><td>0</td><td>7</td></tr><tr><td>2006-01-03 07:00:00</td><td>0.0</td><td>0</td><td>null</td><td>0</td><td>0</td><td>0</td><td>0</td><td>null</td><td>0</td><td>0</td><td>7</td></tr><tr><td>2006-01-04 07:00:00</td><td>0.0</td><td>0</td><td>null</td><td>0</td><td>0</td><td>0</td><td>0</td><td>null</td><td>0</td><td>0</td><td>7</td></tr><tr><td>2006-01-05 07:00:00</td><td>0.0</td><td>0</td><td>null</td><td>0</td><td>0</td><td>0</td><td>0</td><td>null</td><td>0</td><td>0</td><td>7</td></tr><tr><td>&hellip;</td><td>&hellip;</td><td>&hellip;</td><td>&hellip;</td><td>&hellip;</td><td>&hellip;</td><td>&hellip;</td><td>&hellip;</td><td>&hellip;</td><td>&hellip;</td><td>&hellip;</td><td>&hellip;</td></tr><tr><td>2010-12-26 07:00:00</td><td>0.2</td><td>0</td><td>0</td><td>0</td><td>0</td><td>0</td><td>0</td><td>0</td><td>0</td><td>0</td><td>9</td></tr><tr><td>2010-12-27 07:00:00</td><td>0.0</td><td>0</td><td>0</td><td>0</td><td>0</td><td>0</td><td>0</td><td>0</td><td>0</td><td>0</td><td>9</td></tr><tr><td>2010-12-28 07:00:00</td><td>0.0</td><td>0</td><td>0</td><td>0</td><td>0</td><td>0</td><td>0</td><td>0</td><td>0</td><td>0</td><td>9</td></tr><tr><td>2010-12-29 07:00:00</td><td>0.0</td><td>0</td><td>0</td><td>0</td><td>0</td><td>0</td><td>0</td><td>0</td><td>0</td><td>0</td><td>9</td></tr><tr><td>2010-12-30 07:00:00</td><td>0.0</td><td>0</td><td>0</td><td>0</td><td>0</td><td>0</td><td>0</td><td>0</td><td>0</td><td>0</td><td>9</td></tr></tbody></table></div>"
      ]
     },
     "execution_count": 242,
     "metadata": {},
     "output_type": "execute_result"
    }
   ],
   "execution_count": 242
  },
  {
   "metadata": {
    "ExecuteTime": {
     "end_time": "2025-04-15T15:29:54.199134Z",
     "start_time": "2025-04-15T15:29:54.192452Z"
    }
   },
   "cell_type": "code",
   "source": "all_data_num_neighbours[\"num_neighbours_online\"].value_counts()",
   "id": "8fa43af6183e1ea5",
   "outputs": [
    {
     "data": {
      "text/plain": [
       "shape: (8, 2)\n",
       "┌───────────────────────┬───────┐\n",
       "│ num_neighbours_online ┆ count │\n",
       "│ ---                   ┆ ---   │\n",
       "│ i16                   ┆ u32   │\n",
       "╞═══════════════════════╪═══════╡\n",
       "│ 7                     ┆ 203   │\n",
       "│ 6                     ┆ 9     │\n",
       "│ 9                     ┆ 1210  │\n",
       "│ 5                     ┆ 1     │\n",
       "│ 4                     ┆ 1     │\n",
       "│ 3                     ┆ 1     │\n",
       "│ 8                     ┆ 335   │\n",
       "│ 0                     ┆ 65    │\n",
       "└───────────────────────┴───────┘"
      ],
      "text/html": [
       "<div><style>\n",
       ".dataframe > thead > tr,\n",
       ".dataframe > tbody > tr {\n",
       "  text-align: right;\n",
       "  white-space: pre-wrap;\n",
       "}\n",
       "</style>\n",
       "<small>shape: (8, 2)</small><table border=\"1\" class=\"dataframe\"><thead><tr><th>num_neighbours_online</th><th>count</th></tr><tr><td>i16</td><td>u32</td></tr></thead><tbody><tr><td>7</td><td>203</td></tr><tr><td>6</td><td>9</td></tr><tr><td>9</td><td>1210</td></tr><tr><td>5</td><td>1</td></tr><tr><td>4</td><td>1</td></tr><tr><td>3</td><td>1</td></tr><tr><td>8</td><td>335</td></tr><tr><td>0</td><td>65</td></tr></tbody></table></div>"
      ]
     },
     "execution_count": 243,
     "metadata": {},
     "output_type": "execute_result"
    }
   ],
   "execution_count": 243
  },
  {
   "metadata": {
    "ExecuteTime": {
     "end_time": "2025-04-15T15:29:57.815583Z",
     "start_time": "2025-04-15T15:29:57.808665Z"
    }
   },
   "cell_type": "code",
   "source": "all_data.filter(pl.col(\"dry_flags_DE_03215\") == 1)",
   "id": "58da1f7c81de20c3",
   "outputs": [
    {
     "data": {
      "text/plain": [
       "shape: (6, 11)\n",
       "┌────────────┬─────────┬───────────┬───────────┬───┬───────────┬───────────┬───────────┬───────────┐\n",
       "│ time       ┆ rain_mm ┆ dry_flags ┆ dry_flags ┆ … ┆ dry_flags ┆ dry_flags ┆ dry_flags ┆ dry_flags │\n",
       "│ ---        ┆ ---     ┆ _DE_04313 ┆ _DE_03215 ┆   ┆ _DE_00310 ┆ _DE_04488 ┆ _DE_06303 ┆ _DE_06264 │\n",
       "│ datetime[μ ┆ f64     ┆ ---       ┆ ---       ┆   ┆ ---       ┆ ---       ┆ ---       ┆ ---       │\n",
       "│ s]         ┆         ┆ i32       ┆ i32       ┆   ┆ i32       ┆ i32       ┆ i32       ┆ i32       │\n",
       "╞════════════╪═════════╪═══════════╪═══════════╪═══╪═══════════╪═══════════╪═══════════╪═══════════╡\n",
       "│ 2007-10-16 ┆ 0.0     ┆ 1         ┆ 1         ┆ … ┆ 0         ┆ 0         ┆ 0         ┆ 0         │\n",
       "│ 07:00:00   ┆         ┆           ┆           ┆   ┆           ┆           ┆           ┆           │\n",
       "│ 2008-09-28 ┆ 0.0     ┆ 2         ┆ 1         ┆ … ┆ 1         ┆ 0         ┆ 2         ┆ 2         │\n",
       "│ 07:00:00   ┆         ┆           ┆           ┆   ┆           ┆           ┆           ┆           │\n",
       "│ 2008-09-29 ┆ 0.0     ┆ 2         ┆ 1         ┆ … ┆ 1         ┆ 2         ┆ 3         ┆ 2         │\n",
       "│ 07:00:00   ┆         ┆           ┆           ┆   ┆           ┆           ┆           ┆           │\n",
       "│ 2009-07-02 ┆ 0.0     ┆ 2         ┆ 1         ┆ … ┆ 3         ┆ 2         ┆ 2         ┆ 3         │\n",
       "│ 07:00:00   ┆         ┆           ┆           ┆   ┆           ┆           ┆           ┆           │\n",
       "│ 2009-07-03 ┆ 0.0     ┆ 2         ┆ 1         ┆ … ┆ 3         ┆ 2         ┆ 2         ┆ 3         │\n",
       "│ 07:00:00   ┆         ┆           ┆           ┆   ┆           ┆           ┆           ┆           │\n",
       "│ 2009-07-04 ┆ 0.0     ┆ 2         ┆ 1         ┆ … ┆ 3         ┆ 2         ┆ 2         ┆ 3         │\n",
       "│ 07:00:00   ┆         ┆           ┆           ┆   ┆           ┆           ┆           ┆           │\n",
       "└────────────┴─────────┴───────────┴───────────┴───┴───────────┴───────────┴───────────┴───────────┘"
      ],
      "text/html": [
       "<div><style>\n",
       ".dataframe > thead > tr,\n",
       ".dataframe > tbody > tr {\n",
       "  text-align: right;\n",
       "  white-space: pre-wrap;\n",
       "}\n",
       "</style>\n",
       "<small>shape: (6, 11)</small><table border=\"1\" class=\"dataframe\"><thead><tr><th>time</th><th>rain_mm</th><th>dry_flags_DE_04313</th><th>dry_flags_DE_03215</th><th>dry_flags_DE_02718</th><th>dry_flags_DE_01300</th><th>dry_flags_DE_00390</th><th>dry_flags_DE_00310</th><th>dry_flags_DE_04488</th><th>dry_flags_DE_06303</th><th>dry_flags_DE_06264</th></tr><tr><td>datetime[μs]</td><td>f64</td><td>i32</td><td>i32</td><td>i32</td><td>i32</td><td>i32</td><td>i32</td><td>i32</td><td>i32</td><td>i32</td></tr></thead><tbody><tr><td>2007-10-16 07:00:00</td><td>0.0</td><td>1</td><td>1</td><td>0</td><td>null</td><td>null</td><td>0</td><td>0</td><td>0</td><td>0</td></tr><tr><td>2008-09-28 07:00:00</td><td>0.0</td><td>2</td><td>1</td><td>3</td><td>1</td><td>1</td><td>1</td><td>0</td><td>2</td><td>2</td></tr><tr><td>2008-09-29 07:00:00</td><td>0.0</td><td>2</td><td>1</td><td>3</td><td>1</td><td>1</td><td>1</td><td>2</td><td>3</td><td>2</td></tr><tr><td>2009-07-02 07:00:00</td><td>0.0</td><td>2</td><td>1</td><td>3</td><td>3</td><td>3</td><td>3</td><td>2</td><td>2</td><td>3</td></tr><tr><td>2009-07-03 07:00:00</td><td>0.0</td><td>2</td><td>1</td><td>3</td><td>3</td><td>3</td><td>3</td><td>2</td><td>2</td><td>3</td></tr><tr><td>2009-07-04 07:00:00</td><td>0.0</td><td>2</td><td>1</td><td>3</td><td>3</td><td>3</td><td>3</td><td>2</td><td>2</td><td>3</td></tr></tbody></table></div>"
      ]
     },
     "execution_count": 244,
     "metadata": {},
     "output_type": "execute_result"
    }
   ],
   "execution_count": 244
  },
  {
   "metadata": {},
   "cell_type": "markdown",
   "source": "#### Step 3. Majority voting flags for the target",
   "id": "282f501f4193b27e"
  },
  {
   "metadata": {
    "ExecuteTime": {
     "end_time": "2025-04-15T15:30:06.803118Z",
     "start_time": "2025-04-15T15:30:06.784621Z"
    }
   },
   "cell_type": "code",
   "source": [
    "all_data_dry_flags = all_data_num_neighbours.with_columns(\n",
    "    pl.when(pl.col(\"num_neighbours_online\") < MIN_NUM_NEIGHBOURS)\n",
    "    .then(np.nan)\n",
    "    .otherwise(\n",
    "        pl.min_horizontal(pl.all().exclude(\"time\", rain_col, \"num_neighbours_online\"))\n",
    "    )\n",
    "    .alias(\"dry_flags\")\n",
    ")"
   ],
   "id": "3af7c3dd87623d21",
   "outputs": [],
   "execution_count": 245
  },
  {
   "metadata": {
    "ExecuteTime": {
     "end_time": "2025-04-15T15:30:07.447762Z",
     "start_time": "2025-04-15T15:30:07.441504Z"
    }
   },
   "cell_type": "code",
   "source": "all_data_dry_flags[\"dry_flags\"].value_counts()",
   "id": "763c12e2d6f5df63",
   "outputs": [
    {
     "data": {
      "text/plain": [
       "shape: (5, 2)\n",
       "┌───────────┬───────┐\n",
       "│ dry_flags ┆ count │\n",
       "│ ---       ┆ ---   │\n",
       "│ f64       ┆ u32   │\n",
       "╞═══════════╪═══════╡\n",
       "│ 0.0       ┆ 1637  │\n",
       "│ 2.0       ┆ 25    │\n",
       "│ NaN       ┆ 65    │\n",
       "│ 3.0       ┆ 92    │\n",
       "│ 1.0       ┆ 6     │\n",
       "└───────────┴───────┘"
      ],
      "text/html": [
       "<div><style>\n",
       ".dataframe > thead > tr,\n",
       ".dataframe > tbody > tr {\n",
       "  text-align: right;\n",
       "  white-space: pre-wrap;\n",
       "}\n",
       "</style>\n",
       "<small>shape: (5, 2)</small><table border=\"1\" class=\"dataframe\"><thead><tr><th>dry_flags</th><th>count</th></tr><tr><td>f64</td><td>u32</td></tr></thead><tbody><tr><td>0.0</td><td>1637</td></tr><tr><td>2.0</td><td>25</td></tr><tr><td>NaN</td><td>65</td></tr><tr><td>3.0</td><td>92</td></tr><tr><td>1.0</td><td>6</td></tr></tbody></table></div>"
      ]
     },
     "execution_count": 246,
     "metadata": {},
     "output_type": "execute_result"
    }
   ],
   "execution_count": 246
  },
  {
   "metadata": {
    "ExecuteTime": {
     "end_time": "2025-04-15T15:30:11.043547Z",
     "start_time": "2025-04-15T15:30:11.037378Z"
    }
   },
   "cell_type": "code",
   "source": "all_data_dry_flags.filter((pl.col(\"dry_flags\") > 0) & (pl.col(\"dry_flags\").is_finite()))",
   "id": "47c36a07a6de3d45",
   "outputs": [
    {
     "data": {
      "text/plain": [
       "shape: (123, 13)\n",
       "┌────────────┬─────────┬───────────┬───────────┬───┬───────────┬───────────┬───────────┬───────────┐\n",
       "│ time       ┆ rain_mm ┆ dry_flags ┆ dry_flags ┆ … ┆ dry_flags ┆ dry_flags ┆ num_neigh ┆ dry_flags │\n",
       "│ ---        ┆ ---     ┆ _DE_04313 ┆ _DE_03215 ┆   ┆ _DE_06303 ┆ _DE_06264 ┆ bours_onl ┆ ---       │\n",
       "│ datetime[μ ┆ f64     ┆ ---       ┆ ---       ┆   ┆ ---       ┆ ---       ┆ ine       ┆ f64       │\n",
       "│ s]         ┆         ┆ i32       ┆ i32       ┆   ┆ i32       ┆ i32       ┆ ---       ┆           │\n",
       "│            ┆         ┆           ┆           ┆   ┆           ┆           ┆ i16       ┆           │\n",
       "╞════════════╪═════════╪═══════════╪═══════════╪═══╪═══════════╪═══════════╪═══════════╪═══════════╡\n",
       "│ 2008-09-29 ┆ 0.0     ┆ 2         ┆ 1         ┆ … ┆ 3         ┆ 2         ┆ 9         ┆ 1.0       │\n",
       "│ 07:00:00   ┆         ┆           ┆           ┆   ┆           ┆           ┆           ┆           │\n",
       "│ 2008-09-30 ┆ 0.0     ┆ 3         ┆ 2         ┆ … ┆ 3         ┆ 3         ┆ 9         ┆ 2.0       │\n",
       "│ 07:00:00   ┆         ┆           ┆           ┆   ┆           ┆           ┆           ┆           │\n",
       "│ 2008-10-01 ┆ 0.0     ┆ 3         ┆ 3         ┆ … ┆ null      ┆ 3         ┆ 8         ┆ 3.0       │\n",
       "│ 07:00:00   ┆         ┆           ┆           ┆   ┆           ┆           ┆           ┆           │\n",
       "│ 2008-10-02 ┆ 0.0     ┆ 3         ┆ 3         ┆ … ┆ 3         ┆ null      ┆ 8         ┆ 3.0       │\n",
       "│ 07:00:00   ┆         ┆           ┆           ┆   ┆           ┆           ┆           ┆           │\n",
       "│ 2008-10-03 ┆ 0.0     ┆ 3         ┆ 3         ┆ … ┆ 3         ┆ 3         ┆ 9         ┆ 3.0       │\n",
       "│ 07:00:00   ┆         ┆           ┆           ┆   ┆           ┆           ┆           ┆           │\n",
       "│ …          ┆ …       ┆ …         ┆ …         ┆ … ┆ …         ┆ …         ┆ …         ┆ …         │\n",
       "│ 2010-10-26 ┆ 0.0     ┆ 3         ┆ 3         ┆ … ┆ 3         ┆ 3         ┆ 9         ┆ 3.0       │\n",
       "│ 07:00:00   ┆         ┆           ┆           ┆   ┆           ┆           ┆           ┆           │\n",
       "│ 2010-10-27 ┆ 0.0     ┆ 3         ┆ 3         ┆ … ┆ 3         ┆ 3         ┆ 9         ┆ 3.0       │\n",
       "│ 07:00:00   ┆         ┆           ┆           ┆   ┆           ┆           ┆           ┆           │\n",
       "│ 2010-10-28 ┆ 0.0     ┆ 3         ┆ 3         ┆ … ┆ 3         ┆ 3         ┆ 9         ┆ 3.0       │\n",
       "│ 07:00:00   ┆         ┆           ┆           ┆   ┆           ┆           ┆           ┆           │\n",
       "│ 2010-10-29 ┆ 0.0     ┆ 3         ┆ 3         ┆ … ┆ 3         ┆ 3         ┆ 9         ┆ 3.0       │\n",
       "│ 07:00:00   ┆         ┆           ┆           ┆   ┆           ┆           ┆           ┆           │\n",
       "│ 2010-10-30 ┆ 0.0     ┆ 3         ┆ 3         ┆ … ┆ 3         ┆ 3         ┆ 9         ┆ 3.0       │\n",
       "│ 07:00:00   ┆         ┆           ┆           ┆   ┆           ┆           ┆           ┆           │\n",
       "└────────────┴─────────┴───────────┴───────────┴───┴───────────┴───────────┴───────────┴───────────┘"
      ],
      "text/html": [
       "<div><style>\n",
       ".dataframe > thead > tr,\n",
       ".dataframe > tbody > tr {\n",
       "  text-align: right;\n",
       "  white-space: pre-wrap;\n",
       "}\n",
       "</style>\n",
       "<small>shape: (123, 13)</small><table border=\"1\" class=\"dataframe\"><thead><tr><th>time</th><th>rain_mm</th><th>dry_flags_DE_04313</th><th>dry_flags_DE_03215</th><th>dry_flags_DE_02718</th><th>dry_flags_DE_01300</th><th>dry_flags_DE_00390</th><th>dry_flags_DE_00310</th><th>dry_flags_DE_04488</th><th>dry_flags_DE_06303</th><th>dry_flags_DE_06264</th><th>num_neighbours_online</th><th>dry_flags</th></tr><tr><td>datetime[μs]</td><td>f64</td><td>i32</td><td>i32</td><td>i32</td><td>i32</td><td>i32</td><td>i32</td><td>i32</td><td>i32</td><td>i32</td><td>i16</td><td>f64</td></tr></thead><tbody><tr><td>2008-09-29 07:00:00</td><td>0.0</td><td>2</td><td>1</td><td>3</td><td>1</td><td>1</td><td>1</td><td>2</td><td>3</td><td>2</td><td>9</td><td>1.0</td></tr><tr><td>2008-09-30 07:00:00</td><td>0.0</td><td>3</td><td>2</td><td>3</td><td>2</td><td>2</td><td>2</td><td>3</td><td>3</td><td>3</td><td>9</td><td>2.0</td></tr><tr><td>2008-10-01 07:00:00</td><td>0.0</td><td>3</td><td>3</td><td>3</td><td>3</td><td>3</td><td>3</td><td>3</td><td>null</td><td>3</td><td>8</td><td>3.0</td></tr><tr><td>2008-10-02 07:00:00</td><td>0.0</td><td>3</td><td>3</td><td>3</td><td>3</td><td>3</td><td>3</td><td>3</td><td>3</td><td>null</td><td>8</td><td>3.0</td></tr><tr><td>2008-10-03 07:00:00</td><td>0.0</td><td>3</td><td>3</td><td>3</td><td>3</td><td>3</td><td>3</td><td>3</td><td>3</td><td>3</td><td>9</td><td>3.0</td></tr><tr><td>&hellip;</td><td>&hellip;</td><td>&hellip;</td><td>&hellip;</td><td>&hellip;</td><td>&hellip;</td><td>&hellip;</td><td>&hellip;</td><td>&hellip;</td><td>&hellip;</td><td>&hellip;</td><td>&hellip;</td><td>&hellip;</td></tr><tr><td>2010-10-26 07:00:00</td><td>0.0</td><td>3</td><td>3</td><td>3</td><td>3</td><td>3</td><td>3</td><td>3</td><td>3</td><td>3</td><td>9</td><td>3.0</td></tr><tr><td>2010-10-27 07:00:00</td><td>0.0</td><td>3</td><td>3</td><td>3</td><td>3</td><td>3</td><td>3</td><td>3</td><td>3</td><td>3</td><td>9</td><td>3.0</td></tr><tr><td>2010-10-28 07:00:00</td><td>0.0</td><td>3</td><td>3</td><td>3</td><td>3</td><td>3</td><td>3</td><td>3</td><td>3</td><td>3</td><td>9</td><td>3.0</td></tr><tr><td>2010-10-29 07:00:00</td><td>0.0</td><td>3</td><td>3</td><td>3</td><td>3</td><td>3</td><td>3</td><td>3</td><td>3</td><td>3</td><td>9</td><td>3.0</td></tr><tr><td>2010-10-30 07:00:00</td><td>0.0</td><td>3</td><td>3</td><td>3</td><td>3</td><td>3</td><td>3</td><td>3</td><td>3</td><td>3</td><td>9</td><td>3.0</td></tr></tbody></table></div>"
      ]
     },
     "execution_count": 247,
     "metadata": {},
     "output_type": "execute_result"
    }
   ],
   "execution_count": 247
  },
  {
   "metadata": {},
   "cell_type": "markdown",
   "source": [
    "### Step 4. Back propogate flags so period previous to flag is also given the same flag\n",
    "Number of days of period set by DRY_PERIOD_DAYS"
   ],
   "id": "fd1a74e1c53da56f"
  },
  {
   "metadata": {
    "ExecuteTime": {
     "end_time": "2025-04-15T15:30:23.736908Z",
     "start_time": "2025-04-15T15:30:23.730162Z"
    }
   },
   "cell_type": "code",
   "source": [
    "def back_propagate_flags(df, flag_column, num_days):\n",
    "    \"\"\"\n",
    "    Back fill-in flags a number of days. This will prioritise higher flag values\n",
    "\n",
    "    Parameters\n",
    "    ----------\n",
    "    df : polars.DataFrame\n",
    "        Data with `flag_column` series\n",
    "    flag_column : str\n",
    "        column with flags\n",
    "    num_days: int\n",
    "        Number of days to back-propagate\n",
    "    Returns\n",
    "    -------\n",
    "    df\n",
    "\n",
    "    \"\"\"\n",
    "    df = df.clone()\n",
    "    # TODO: automatically extract flag values\n",
    "    flag_values = (flag for flag in df[flag_column].unique() if (np.isfinite(flag) & (flag > 0)))\n",
    "    for flag, df_filtered in [\n",
    "        (flag, df.filter(pl.col(flag_column) == flag)) for flag in flag_values\n",
    "    ]:\n",
    "        for time_to_use in df_filtered[\"time\"]:\n",
    "            assert isinstance(time_to_use, datetime.datetime), \"time_to_use must be datetime.datetime\"\n",
    "            start_time = time_to_use - datetime.timedelta(days=num_days)\n",
    "            df = df.with_columns(\n",
    "                pl.when((pl.col(\"time\") >= start_time) & (pl.col(\"time\") <= time_to_use))\n",
    "                .then(flag)\n",
    "                .otherwise(pl.col(flag_column))\n",
    "                .alias(flag_column)\n",
    "            )\n",
    "\n",
    "    return df"
   ],
   "id": "5de3ab9d20918c75",
   "outputs": [],
   "execution_count": 248
  },
  {
   "metadata": {
    "ExecuteTime": {
     "end_time": "2025-04-15T15:30:29.198414Z",
     "start_time": "2025-04-15T15:30:29.186956Z"
    }
   },
   "cell_type": "code",
   "source": "all_data_dry_flags_back_prop = back_propagate_flags(all_data_dry_flags, flag_column=\"dry_flags\", num_days=(DRY_PERIOD_DAYS-1))",
   "id": "787e55242fb966fa",
   "outputs": [],
   "execution_count": 249
  },
  {
   "metadata": {
    "ExecuteTime": {
     "end_time": "2025-04-15T15:30:47.544999Z",
     "start_time": "2025-04-15T15:30:47.536317Z"
    }
   },
   "cell_type": "code",
   "source": [
    "## whilst still daily data:\n",
    "all_data_dry_flags[\"dry_flags\"].value_counts()\n"
   ],
   "id": "5981b5a7bd45f12c",
   "outputs": [
    {
     "data": {
      "text/plain": [
       "shape: (5, 2)\n",
       "┌───────────┬───────┐\n",
       "│ dry_flags ┆ count │\n",
       "│ ---       ┆ ---   │\n",
       "│ f64       ┆ u32   │\n",
       "╞═══════════╪═══════╡\n",
       "│ 3.0       ┆ 92    │\n",
       "│ 1.0       ┆ 6     │\n",
       "│ 2.0       ┆ 25    │\n",
       "│ 0.0       ┆ 1637  │\n",
       "│ NaN       ┆ 65    │\n",
       "└───────────┴───────┘"
      ],
      "text/html": [
       "<div><style>\n",
       ".dataframe > thead > tr,\n",
       ".dataframe > tbody > tr {\n",
       "  text-align: right;\n",
       "  white-space: pre-wrap;\n",
       "}\n",
       "</style>\n",
       "<small>shape: (5, 2)</small><table border=\"1\" class=\"dataframe\"><thead><tr><th>dry_flags</th><th>count</th></tr><tr><td>f64</td><td>u32</td></tr></thead><tbody><tr><td>3.0</td><td>92</td></tr><tr><td>1.0</td><td>6</td></tr><tr><td>2.0</td><td>25</td></tr><tr><td>0.0</td><td>1637</td></tr><tr><td>NaN</td><td>65</td></tr></tbody></table></div>"
      ]
     },
     "execution_count": 252,
     "metadata": {},
     "output_type": "execute_result"
    }
   ],
   "execution_count": 252
  },
  {
   "metadata": {
    "ExecuteTime": {
     "end_time": "2025-04-15T15:30:32.711217Z",
     "start_time": "2025-04-15T15:30:32.693749Z"
    }
   },
   "cell_type": "code",
   "source": [
    "## after\n",
    "all_data_dry_flags_back_prop[\"dry_flags\"].value_counts()"
   ],
   "id": "74d661f03394e84",
   "outputs": [
    {
     "data": {
      "text/plain": [
       "shape: (5, 2)\n",
       "┌───────────┬───────┐\n",
       "│ dry_flags ┆ count │\n",
       "│ ---       ┆ ---   │\n",
       "│ f64       ┆ u32   │\n",
       "╞═══════════╪═══════╡\n",
       "│ NaN       ┆ 65    │\n",
       "│ 2.0       ┆ 8     │\n",
       "│ 3.0       ┆ 170   │\n",
       "│ 1.0       ┆ 1     │\n",
       "│ 0.0       ┆ 1581  │\n",
       "└───────────┴───────┘"
      ],
      "text/html": [
       "<div><style>\n",
       ".dataframe > thead > tr,\n",
       ".dataframe > tbody > tr {\n",
       "  text-align: right;\n",
       "  white-space: pre-wrap;\n",
       "}\n",
       "</style>\n",
       "<small>shape: (5, 2)</small><table border=\"1\" class=\"dataframe\"><thead><tr><th>dry_flags</th><th>count</th></tr><tr><td>f64</td><td>u32</td></tr></thead><tbody><tr><td>NaN</td><td>65</td></tr><tr><td>2.0</td><td>8</td></tr><tr><td>3.0</td><td>170</td></tr><tr><td>1.0</td><td>1</td></tr><tr><td>0.0</td><td>1581</td></tr></tbody></table></div>"
      ]
     },
     "execution_count": 251,
     "metadata": {},
     "output_type": "execute_result"
    }
   ],
   "execution_count": 251
  },
  {
   "metadata": {
    "ExecuteTime": {
     "end_time": "2025-04-15T15:12:11.463838Z",
     "start_time": "2025-04-15T15:12:11.458768Z"
    }
   },
   "cell_type": "code",
   "source": "all_data_dry_flags_back_prop[845:950]",
   "id": "f298e719483b9e2a",
   "outputs": [
    {
     "data": {
      "text/plain": [
       "shape: (105, 13)\n",
       "┌────────────┬─────────┬───────────┬───────────┬───┬───────────┬───────────┬───────────┬───────────┐\n",
       "│ time       ┆ rain_mm ┆ dry_flags ┆ dry_flags ┆ … ┆ dry_flags ┆ dry_flags ┆ num_neigh ┆ dry_flags │\n",
       "│ ---        ┆ ---     ┆ _DE_04313 ┆ _DE_03215 ┆   ┆ _DE_06303 ┆ _DE_06264 ┆ bours_onl ┆ ---       │\n",
       "│ datetime[μ ┆ f64     ┆ ---       ┆ ---       ┆   ┆ ---       ┆ ---       ┆ ine       ┆ f64       │\n",
       "│ s]         ┆         ┆ i32       ┆ i32       ┆   ┆ i32       ┆ i32       ┆ ---       ┆           │\n",
       "│            ┆         ┆           ┆           ┆   ┆           ┆           ┆ i16       ┆           │\n",
       "╞════════════╪═════════╪═══════════╪═══════════╪═══╪═══════════╪═══════════╪═══════════╪═══════════╡\n",
       "│ 2006-02-05 ┆ 0.0     ┆ null      ┆ null      ┆ … ┆ null      ┆ null      ┆ 0         ┆ NaN       │\n",
       "│ 05:00:00   ┆         ┆           ┆           ┆   ┆           ┆           ┆           ┆           │\n",
       "│ 2006-02-05 ┆ 0.0     ┆ null      ┆ null      ┆ … ┆ null      ┆ null      ┆ 0         ┆ NaN       │\n",
       "│ 06:00:00   ┆         ┆           ┆           ┆   ┆           ┆           ┆           ┆           │\n",
       "│ 2006-02-05 ┆ 0.0     ┆ 0         ┆ null      ┆ … ┆ 0         ┆ 0         ┆ 7         ┆ 0.0       │\n",
       "│ 07:00:00   ┆         ┆           ┆           ┆   ┆           ┆           ┆           ┆           │\n",
       "│ 2006-02-05 ┆ 0.0     ┆ null      ┆ null      ┆ … ┆ null      ┆ null      ┆ 0         ┆ NaN       │\n",
       "│ 08:00:00   ┆         ┆           ┆           ┆   ┆           ┆           ┆           ┆           │\n",
       "│ 2006-02-05 ┆ 0.0     ┆ null      ┆ null      ┆ … ┆ null      ┆ null      ┆ 0         ┆ NaN       │\n",
       "│ 09:00:00   ┆         ┆           ┆           ┆   ┆           ┆           ┆           ┆           │\n",
       "│ …          ┆ …       ┆ …         ┆ …         ┆ … ┆ …         ┆ …         ┆ …         ┆ …         │\n",
       "│ 2006-02-09 ┆ 3.2     ┆ null      ┆ null      ┆ … ┆ null      ┆ null      ┆ 0         ┆ NaN       │\n",
       "│ 09:00:00   ┆         ┆           ┆           ┆   ┆           ┆           ┆           ┆           │\n",
       "│ 2006-02-09 ┆ 0.8     ┆ null      ┆ null      ┆ … ┆ null      ┆ null      ┆ 0         ┆ NaN       │\n",
       "│ 10:00:00   ┆         ┆           ┆           ┆   ┆           ┆           ┆           ┆           │\n",
       "│ 2006-02-09 ┆ 0.4     ┆ null      ┆ null      ┆ … ┆ null      ┆ null      ┆ 0         ┆ NaN       │\n",
       "│ 11:00:00   ┆         ┆           ┆           ┆   ┆           ┆           ┆           ┆           │\n",
       "│ 2006-02-09 ┆ 0.0     ┆ null      ┆ null      ┆ … ┆ null      ┆ null      ┆ 0         ┆ NaN       │\n",
       "│ 12:00:00   ┆         ┆           ┆           ┆   ┆           ┆           ┆           ┆           │\n",
       "│ 2006-02-09 ┆ 0.6     ┆ null      ┆ null      ┆ … ┆ null      ┆ null      ┆ 0         ┆ NaN       │\n",
       "│ 13:00:00   ┆         ┆           ┆           ┆   ┆           ┆           ┆           ┆           │\n",
       "└────────────┴─────────┴───────────┴───────────┴───┴───────────┴───────────┴───────────┴───────────┘"
      ],
      "text/html": [
       "<div><style>\n",
       ".dataframe > thead > tr,\n",
       ".dataframe > tbody > tr {\n",
       "  text-align: right;\n",
       "  white-space: pre-wrap;\n",
       "}\n",
       "</style>\n",
       "<small>shape: (105, 13)</small><table border=\"1\" class=\"dataframe\"><thead><tr><th>time</th><th>rain_mm</th><th>dry_flags_DE_04313</th><th>dry_flags_DE_03215</th><th>dry_flags_DE_02718</th><th>dry_flags_DE_01300</th><th>dry_flags_DE_00390</th><th>dry_flags_DE_00310</th><th>dry_flags_DE_04488</th><th>dry_flags_DE_06303</th><th>dry_flags_DE_06264</th><th>num_neighbours_online</th><th>dry_flags</th></tr><tr><td>datetime[μs]</td><td>f64</td><td>i32</td><td>i32</td><td>i32</td><td>i32</td><td>i32</td><td>i32</td><td>i32</td><td>i32</td><td>i32</td><td>i16</td><td>f64</td></tr></thead><tbody><tr><td>2006-02-05 05:00:00</td><td>0.0</td><td>null</td><td>null</td><td>null</td><td>null</td><td>null</td><td>null</td><td>null</td><td>null</td><td>null</td><td>0</td><td>NaN</td></tr><tr><td>2006-02-05 06:00:00</td><td>0.0</td><td>null</td><td>null</td><td>null</td><td>null</td><td>null</td><td>null</td><td>null</td><td>null</td><td>null</td><td>0</td><td>NaN</td></tr><tr><td>2006-02-05 07:00:00</td><td>0.0</td><td>0</td><td>null</td><td>0</td><td>0</td><td>0</td><td>0</td><td>null</td><td>0</td><td>0</td><td>7</td><td>0.0</td></tr><tr><td>2006-02-05 08:00:00</td><td>0.0</td><td>null</td><td>null</td><td>null</td><td>null</td><td>null</td><td>null</td><td>null</td><td>null</td><td>null</td><td>0</td><td>NaN</td></tr><tr><td>2006-02-05 09:00:00</td><td>0.0</td><td>null</td><td>null</td><td>null</td><td>null</td><td>null</td><td>null</td><td>null</td><td>null</td><td>null</td><td>0</td><td>NaN</td></tr><tr><td>&hellip;</td><td>&hellip;</td><td>&hellip;</td><td>&hellip;</td><td>&hellip;</td><td>&hellip;</td><td>&hellip;</td><td>&hellip;</td><td>&hellip;</td><td>&hellip;</td><td>&hellip;</td><td>&hellip;</td><td>&hellip;</td></tr><tr><td>2006-02-09 09:00:00</td><td>3.2</td><td>null</td><td>null</td><td>null</td><td>null</td><td>null</td><td>null</td><td>null</td><td>null</td><td>null</td><td>0</td><td>NaN</td></tr><tr><td>2006-02-09 10:00:00</td><td>0.8</td><td>null</td><td>null</td><td>null</td><td>null</td><td>null</td><td>null</td><td>null</td><td>null</td><td>null</td><td>0</td><td>NaN</td></tr><tr><td>2006-02-09 11:00:00</td><td>0.4</td><td>null</td><td>null</td><td>null</td><td>null</td><td>null</td><td>null</td><td>null</td><td>null</td><td>null</td><td>0</td><td>NaN</td></tr><tr><td>2006-02-09 12:00:00</td><td>0.0</td><td>null</td><td>null</td><td>null</td><td>null</td><td>null</td><td>null</td><td>null</td><td>null</td><td>null</td><td>0</td><td>NaN</td></tr><tr><td>2006-02-09 13:00:00</td><td>0.6</td><td>null</td><td>null</td><td>null</td><td>null</td><td>null</td><td>null</td><td>null</td><td>null</td><td>null</td><td>0</td><td>NaN</td></tr></tbody></table></div>"
      ]
     },
     "execution_count": 185,
     "metadata": {},
     "output_type": "execute_result"
    }
   ],
   "execution_count": 185
  },
  {
   "metadata": {},
   "cell_type": "markdown",
   "source": "## Step 5. Join back to hourly data",
   "id": "c55c4ef996401786"
  },
  {
   "metadata": {
    "ExecuteTime": {
     "end_time": "2025-04-15T15:33:12.820117Z",
     "start_time": "2025-04-15T15:33:12.809149Z"
    }
   },
   "cell_type": "code",
   "source": "target_gauge_w_dry_flags = target_gauge.join(all_data_dry_flags_back_prop[['time', 'dry_flags']], on=\"time\", how='left')",
   "id": "d75e0e2d7ecdda1f",
   "outputs": [],
   "execution_count": 253
  },
  {
   "metadata": {},
   "cell_type": "markdown",
   "source": "## Step 6. Forward flood-fill",
   "id": "b23a1a6e4e5a0ab0"
  },
  {
   "metadata": {
    "ExecuteTime": {
     "end_time": "2025-04-15T15:33:31.022211Z",
     "start_time": "2025-04-15T15:33:31.014394Z"
    }
   },
   "cell_type": "code",
   "source": [
    "## Forward flood-fill data to convert the flags back to hourly\n",
    "target_gauge_w_dry_flags = target_gauge_w_dry_flags.with_columns(pl.col(\"dry_flags\").forward_fill(limit=23))"
   ],
   "id": "94610e95f835e8ca",
   "outputs": [],
   "execution_count": 254
  },
  {
   "metadata": {
    "ExecuteTime": {
     "end_time": "2025-04-15T15:33:31.447307Z",
     "start_time": "2025-04-15T15:33:31.434255Z"
    }
   },
   "cell_type": "code",
   "source": "target_gauge_w_dry_flags['dry_flags'].value_counts()",
   "id": "ca19f693cb71e430",
   "outputs": [
    {
     "data": {
      "text/plain": [
       "shape: (6, 2)\n",
       "┌───────────┬───────┐\n",
       "│ dry_flags ┆ count │\n",
       "│ ---       ┆ ---   │\n",
       "│ f64       ┆ u32   │\n",
       "╞═══════════╪═══════╡\n",
       "│ 2.0       ┆ 192   │\n",
       "│ 1.0       ┆ 24    │\n",
       "│ null      ┆ 24    │\n",
       "│ 3.0       ┆ 4080  │\n",
       "│ 0.0       ┆ 37944 │\n",
       "│ NaN       ┆ 1560  │\n",
       "└───────────┴───────┘"
      ],
      "text/html": [
       "<div><style>\n",
       ".dataframe > thead > tr,\n",
       ".dataframe > tbody > tr {\n",
       "  text-align: right;\n",
       "  white-space: pre-wrap;\n",
       "}\n",
       "</style>\n",
       "<small>shape: (6, 2)</small><table border=\"1\" class=\"dataframe\"><thead><tr><th>dry_flags</th><th>count</th></tr><tr><td>f64</td><td>u32</td></tr></thead><tbody><tr><td>2.0</td><td>192</td></tr><tr><td>1.0</td><td>24</td></tr><tr><td>null</td><td>24</td></tr><tr><td>3.0</td><td>4080</td></tr><tr><td>0.0</td><td>37944</td></tr><tr><td>NaN</td><td>1560</td></tr></tbody></table></div>"
      ]
     },
     "execution_count": 255,
     "metadata": {},
     "output_type": "execute_result"
    }
   ],
   "execution_count": 255
  },
  {
   "metadata": {
    "ExecuteTime": {
     "end_time": "2025-04-15T15:34:06.940276Z",
     "start_time": "2025-04-15T15:34:06.926880Z"
    }
   },
   "cell_type": "code",
   "source": "target_gauge_w_dry_flags.filter((pl.col(\"dry_flags\") > 0) & (pl.col(\"dry_flags\").is_finite()))\n",
   "id": "7a3353eedfd968f5",
   "outputs": [
    {
     "data": {
      "text/plain": [
       "shape: (4_296, 3)\n",
       "┌─────────────────────┬─────────┬───────────┐\n",
       "│ time                ┆ rain_mm ┆ dry_flags │\n",
       "│ ---                 ┆ ---     ┆ ---       │\n",
       "│ datetime[μs]        ┆ f64     ┆ f64       │\n",
       "╞═════════════════════╪═════════╪═══════════╡\n",
       "│ 2008-09-15 07:00:00 ┆ 0.0     ┆ 1.0       │\n",
       "│ 2008-09-15 08:00:00 ┆ 0.0     ┆ 1.0       │\n",
       "│ 2008-09-15 09:00:00 ┆ 0.0     ┆ 1.0       │\n",
       "│ 2008-09-15 10:00:00 ┆ 0.0     ┆ 1.0       │\n",
       "│ 2008-09-15 11:00:00 ┆ 0.0     ┆ 1.0       │\n",
       "│ …                   ┆ …       ┆ …         │\n",
       "│ 2010-10-31 02:00:00 ┆ 0.0     ┆ 3.0       │\n",
       "│ 2010-10-31 03:00:00 ┆ 0.0     ┆ 3.0       │\n",
       "│ 2010-10-31 04:00:00 ┆ 0.0     ┆ 3.0       │\n",
       "│ 2010-10-31 05:00:00 ┆ 0.0     ┆ 3.0       │\n",
       "│ 2010-10-31 06:00:00 ┆ 0.0     ┆ 3.0       │\n",
       "└─────────────────────┴─────────┴───────────┘"
      ],
      "text/html": [
       "<div><style>\n",
       ".dataframe > thead > tr,\n",
       ".dataframe > tbody > tr {\n",
       "  text-align: right;\n",
       "  white-space: pre-wrap;\n",
       "}\n",
       "</style>\n",
       "<small>shape: (4_296, 3)</small><table border=\"1\" class=\"dataframe\"><thead><tr><th>time</th><th>rain_mm</th><th>dry_flags</th></tr><tr><td>datetime[μs]</td><td>f64</td><td>f64</td></tr></thead><tbody><tr><td>2008-09-15 07:00:00</td><td>0.0</td><td>1.0</td></tr><tr><td>2008-09-15 08:00:00</td><td>0.0</td><td>1.0</td></tr><tr><td>2008-09-15 09:00:00</td><td>0.0</td><td>1.0</td></tr><tr><td>2008-09-15 10:00:00</td><td>0.0</td><td>1.0</td></tr><tr><td>2008-09-15 11:00:00</td><td>0.0</td><td>1.0</td></tr><tr><td>&hellip;</td><td>&hellip;</td><td>&hellip;</td></tr><tr><td>2010-10-31 02:00:00</td><td>0.0</td><td>3.0</td></tr><tr><td>2010-10-31 03:00:00</td><td>0.0</td><td>3.0</td></tr><tr><td>2010-10-31 04:00:00</td><td>0.0</td><td>3.0</td></tr><tr><td>2010-10-31 05:00:00</td><td>0.0</td><td>3.0</td></tr><tr><td>2010-10-31 06:00:00</td><td>0.0</td><td>3.0</td></tr></tbody></table></div>"
      ]
     },
     "execution_count": 256,
     "metadata": {},
     "output_type": "execute_result"
    }
   ],
   "execution_count": 256
  },
  {
   "cell_type": "markdown",
   "id": "f26abff0-392f-4598-ba76-3d054608521b",
   "metadata": {},
   "source": [
    "# QC20 - Monthly neighbours\n",
    "[Back to Index](#Table-of-contents)\n",
    "\n",
    "#### Differences from `intense-qc`: \n",
    "-"
   ]
  },
  {
   "cell_type": "code",
   "id": "7914f5d9",
   "metadata": {
    "ExecuteTime": {
     "end_time": "2025-04-15T13:47:28.354868010Z",
     "start_time": "2025-04-15T08:47:02.476605Z"
    }
   },
   "source": [
    "# def check_m_neighbours(target, neighbours):\n",
    "#     df = target\n",
    "#     concat_list = [df]\n",
    "#     ticker = 0\n",
    "#     for n in neighbours:\n",
    "#         dfn, dff = compare_target_to_neighbour_monthly(df, n)\n",
    "#         concat_list.append(dfn)\n",
    "#         if ticker == 0:\n",
    "#             df_factor = dff.copy()\n",
    "#         ticker += 1\n",
    "\n",
    "#     df = pd.concat(concat_list, axis=1, join='outer')\n",
    "\n",
    "#     cols = [\"n\" + str(i + 1) for i in range(len(concat_list) - 1)]\n",
    "#     cols2 = [\"target\"]\n",
    "#     cols2.extend(cols)\n",
    "\n",
    "#     df.columns = cols2\n",
    "\n",
    "#     df[\"online\"] = len(concat_list) - df[cols].isnull().sum(axis=1) - 1\n",
    "#     conditions = [\n",
    "#         ((df[cols] == -3).T.sum() == df.online),\n",
    "#         ((df[cols] <= -2).T.sum() == df.online),\n",
    "#         ((df[cols] <= -1).T.sum() == df.online),\n",
    "#         ((df[cols] == 3).T.sum() == df.online),\n",
    "#         ((df[cols] >= 2).T.sum() == df.online),\n",
    "#         ((df[cols] >= 1).T.sum() == df.online)]\n",
    "\n",
    "#     choices = [-3, -2, -1, 3, 2, 1]\n",
    "\n",
    "#     df[\"flags\"] = np.select(conditions, choices, default=0)\n",
    "#     df.loc[np.isnan(df['target']), 'flags'] = np.nan\n",
    "\n",
    "#     # Add additional checks in relation to monthly neighbours climatology\n",
    "\n",
    "#     # Calculate neighbour monthly climatology (monthly min/max across all neighbours)\n",
    "#     tmp = []\n",
    "#     for n in neighbours:\n",
    "#         tmp.append(n)\n",
    "#     df_mc = pd.concat(tmp, axis=1, join='outer')\n",
    "#     cols3 = [\"n\" + str(i + 1) for i in range(len(tmp))]\n",
    "#     df_mc.columns = cols3\n",
    "#     df_mc.index = pd.to_datetime(df_mc.index, format='%Y-%m-%d')\n",
    "#     df_mc_max = df_mc.groupby(df_mc.index.month).max()\n",
    "#     df_mc_max['max'] = df_mc_max.max(axis=1)\n",
    "#     df_mc_min = df_mc.groupby(df_mc.index.month).min()\n",
    "#     df_mc_min['min'] = df_mc_min.min(axis=1)\n",
    "#     df_mc2 = pd.concat(\n",
    "#         [df_mc_min.drop(cols3, axis=1), df_mc_max.drop(cols3, axis=1)], axis=1,\n",
    "#         join='outer')\n",
    "#     df_mc2['month'] = df_mc2.index\n",
    "\n",
    "#     # Join monthly climatology to target series\n",
    "#     df['month'] = df.index.month\n",
    "#     df['date'] = df.index\n",
    "#     df2 = df.merge(df_mc2, left_on='month', right_on='month')\n",
    "#     df2.set_index('date', inplace=True)\n",
    "#     df2.sort_index(inplace=True)\n",
    "\n",
    "#     # Adjust flag where -3 or 3 and rainfall is outside neighbours min/max range\n",
    "#     df2.loc[(df2['flags'] == -3) & (df2['online'] >= 3) &\n",
    "#             ((df2['target'] < (0.75 * df2['min'])) | (df2['target'] > (1.25 * df2['max']))),\n",
    "#             'flags'] = -4\n",
    "#     df2.loc[(df2['flags'] == 3) & (df2['online'] >= 3) &\n",
    "#             ((df2['target'] < (0.75 * df2['min'])) | (df2['target'] > (1.25 * df2['max']))),\n",
    "#             'flags'] = 4\n",
    "\n",
    "#     # Flag where less than 3 neighbours but value > 2 * neighbour max or\n",
    "#     # < 0.5 * neighbour min\n",
    "#     df2.loc[(df2['online'] < 3) & (df2['target'] > (2.0 * df2['max'])),\n",
    "#             'flags'] = 5\n",
    "#     df2.loc[(df2['online'] < 3) & (df2['target'] < (0.5 * df2['min'])),\n",
    "#             'flags'] = -5\n",
    "\n",
    "#     # If less than 3 stations online than flag check as incomplete unless flag\n",
    "#     # has a value of -5/5 (i.e. outside climatology range)\n",
    "#     df2.loc[(df2.online < 3) & (np.absolute(df2['flags']) != 5), \"flags\"] = np.nan\n",
    "#     dfr = df2.flags\n",
    "\n",
    "#     return [dfr, df_factor]"
   ],
   "outputs": [],
   "execution_count": 108
  },
  {
   "cell_type": "code",
   "id": "8c302184-8c8f-4683-a03b-ce8660f5ed7b",
   "metadata": {
    "ExecuteTime": {
     "end_time": "2025-04-15T13:47:28.377371859Z",
     "start_time": "2025-04-15T08:47:02.609563Z"
    }
   },
   "source": [],
   "outputs": [],
   "execution_count": null
  },
  {
   "cell_type": "markdown",
   "id": "35a03907-142a-4c08-8ab3-ae0fe5f3f493",
   "metadata": {},
   "source": [
    "# QC21 - Timing offset \n",
    "[Back to Index](#Table-of-contents)\n",
    "\n",
    "#### Differences from `intense-qc`: \n",
    "- "
   ]
  },
  {
   "cell_type": "code",
   "id": "3c15a579-446c-43f1-9570-11ab92cfbe82",
   "metadata": {
    "ExecuteTime": {
     "end_time": "2025-04-15T13:47:28.379475801Z",
     "start_time": "2025-04-15T08:47:02.723505Z"
    }
   },
   "source": [
    "# # check for and remove any duplicates in neighbours list\n",
    "# neighbours = list(dict.fromkeys(neighbours))\n",
    "\n",
    "# # get gpcc\n",
    "# neighbour_dfs = []\n",
    "# for idx in neighbours:\n",
    "#     neighbour_start_year = self.daily_dates[self.daily_names.index(idx)][0].year\n",
    "#     neighbour_end_year = self.daily_dates[self.daily_names.index(idx)][1].year\n",
    "#     neighbour_dfs.append(utils.get_daily_gpcc(self.daily_path, neighbour_start_year, neighbour_end_year, idx))\n",
    "\n",
    "# # get matching stats for nearest gauge and offset\n",
    "# nearest = neighbour_dfs[0].rename(columns={\"GPCC\": \"ts2\"})\n",
    "# affinity_index_lag_minus1, r2_lag_minus1, _ = utils.calculate_affinity_index_and_pearson(daily_values_lag_minus1.to_frame(\"ts1\"), nearest)\n",
    "# affinity_index_lag0, r2_lag0, factor_lag0 = utils.calculate_affinity_index_and_pearson(daily_values.to_frame(\"ts1\"), nearest)\n",
    "# affinity_index_lag_plus1, r2_lag_plus1, _ = utils.calculate_affinity_index_and_pearson(daily_values_lag_plus1.to_frame(\"ts1\"), nearest)\n",
    "\n",
    "# affinity_indexes = [affinity_index_lag_minus1, affinity_index_lag0, affinity_index_lag_plus1]\n",
    "# r2_values = [r2_lag_minus1, r2_lag0, r2_lag_plus1]\n",
    "\n",
    "# if affinity_indexes.index(max(affinity_indexes)) == r2_values.index(max(r2_values)):\n",
    "#     offset_flag = affinity_indexes.index(max(affinity_indexes)) - 1\n",
    "# else:\n",
    "#     offset_flag = 0"
   ],
   "outputs": [],
   "execution_count": 109
  },
  {
   "cell_type": "code",
   "id": "77490dfe",
   "metadata": {
    "ExecuteTime": {
     "end_time": "2025-04-15T13:47:28.392271604Z",
     "start_time": "2025-04-15T08:47:02.818442Z"
    }
   },
   "source": [],
   "outputs": [],
   "execution_count": null
  },
  {
   "cell_type": "markdown",
   "id": "f372ec0e-7d3b-44c8-a052-806e66454834",
   "metadata": {},
   "source": [
    "# QC22 - Pre-QC Affinity  \n",
    "[Back to Index](#Table-of-contents)\n",
    "\n",
    "#### Differences from `intense-qc`: \n",
    "- "
   ]
  },
  {
   "cell_type": "code",
   "id": "a1294be1-19a5-42c4-8c89-5f5112326ccb",
   "metadata": {
    "ExecuteTime": {
     "end_time": "2025-04-15T13:47:28.418308535Z",
     "start_time": "2025-04-15T08:47:03.020504Z"
    }
   },
   "source": [],
   "outputs": [],
   "execution_count": null
  },
  {
   "cell_type": "markdown",
   "id": "b52dfb5b-44d6-481b-b3ac-8c562df044d4",
   "metadata": {},
   "source": [
    "# QC23 - Pre-QC Pearson\n",
    "[Back to Index](#Table-of-contents)\n",
    "\n",
    "#### Differences from `intense-qc`: \n",
    "- "
   ]
  },
  {
   "cell_type": "code",
   "id": "2abacf73-41a8-463b-97e4-c87f3ec7b63d",
   "metadata": {
    "ExecuteTime": {
     "end_time": "2025-04-15T13:47:28.418918055Z",
     "start_time": "2025-04-15T08:47:03.112612Z"
    }
   },
   "source": [],
   "outputs": [],
   "execution_count": null
  },
  {
   "cell_type": "markdown",
   "id": "7ad5d0b8-a686-435a-b35d-8685e97ec8fd",
   "metadata": {},
   "source": [
    "# QC24 - Daily factor  \n",
    "[Back to Index](#Table-of-contents)\n",
    "\n",
    "#### Differences from `intense-qc`: \n",
    "- "
   ]
  },
  {
   "cell_type": "code",
   "id": "8ce16043-48bc-411c-9b0a-be611f95d602",
   "metadata": {
    "ExecuteTime": {
     "end_time": "2025-04-15T13:47:28.419285282Z",
     "start_time": "2025-04-15T08:47:03.218412Z"
    }
   },
   "source": [
    "for n_id in all_neighbour_ids_paths.keys():\n",
    "    print(n_id)\n",
    "    one_neighbouring_gauge = get_neighbouring_gdsr_data(\n",
    "        neighbour_gauge_id=n_id, time_multiplying_factor=MULTIPLYING_FACTORS[\"hourly\"]\n",
    "    )\n",
    "    joined_gauges = target_gauge.join(\n",
    "        one_neighbouring_gauge, on=\"time\", suffix=f\"_{n_id}\"\n",
    "    )\n",
    "    joined_gauges = joined_gauges.drop_nans()\n",
    "\n",
    "    ## resample into daily (also round to 1 decimal place) TODO: remove offset part\n",
    "    joined_gauges = (\n",
    "        joined_gauges.group_by_dynamic(\"time\", every=\"1d\", offset=\"7h\")\n",
    "        .agg(\n",
    "            [\n",
    "                pl.len().alias(\"n_hours\"),\n",
    "                pl.col(rain_col).mean().round(1).alias(rain_col),\n",
    "                pl.col(f\"{rain_col}_{n_id}\")\n",
    "                .mean()\n",
    "                .round(1)\n",
    "                .alias(f\"{rain_col}_{n_id}\"),\n",
    "            ]\n",
    "        )\n",
    "        .filter(pl.col(\"n_hours\") == 24)\n",
    "        .drop(\"n_hours\")\n",
    "    )  # Ensure at least 24 data points\n",
    "\n",
    "    ## NOTE: is this necessary? Why not just read resolution of each data?\n",
    "    a = np.around(joined_gauges.filter(pl.col(rain_col) >= 0.1).min()[rain_col], 1)[0]\n",
    "    b = np.around(\n",
    "        joined_gauges.filter(pl.col(f\"{rain_col}_{n_id}\") >= 0.1).min()[\n",
    "            f\"{rain_col}_{n_id}\"\n",
    "        ],\n",
    "        1,\n",
    "    )[0]\n",
    "    p = max(a, b, 0.1)\n",
    "    print(a, b, p)\n",
    "\n",
    "    ## TODO: rename all variables\n",
    "    joined_gauges_duplicates = joined_gauges.with_columns(\n",
    "        pl.when((pl.col(rain_col) > p) & (pl.col(f\"{rain_col}_{n_id}\") > p))\n",
    "        .then(1)\n",
    "        .when(\n",
    "            (pl.col(rain_col) == p) & (pl.col(f\"{rain_col}_{n_id}\") == p),\n",
    "        )\n",
    "        .then(1)\n",
    "        .when(\n",
    "            (pl.col(rain_col) == p) & (pl.col(f\"{rain_col}_{n_id}\") > p),\n",
    "        )\n",
    "        .then(0)\n",
    "        .when((pl.col(rain_col) > p) & (pl.col(f\"{rain_col}_{n_id}\") == p))\n",
    "        .then(0)\n",
    "        .otherwise(np.nan)\n",
    "        .alias(\"duplicate\")\n",
    "    )\n",
    "\n",
    "    joined_gauges = joined_gauges.with_columns(\n",
    "        pl.when((pl.col(rain_col) > 0) & (pl.col(f\"{rain_col}_{n_id}\") > 0))\n",
    "        .then(pl.col(rain_col) / pl.col(f\"{rain_col}_{n_id}\"))\n",
    "        .otherwise(np.nan)\n",
    "        .alias(\"factor\")\n",
    "    )\n",
    "\n",
    "    match = (\n",
    "        joined_gauges_duplicates[\"duplicate\"]\n",
    "        .value_counts()\n",
    "        .filter(pl.col(\"duplicate\") == 1)[\"count\"]\n",
    "        .item()\n",
    "    )\n",
    "    diff = (\n",
    "        joined_gauges_duplicates[\"duplicate\"]\n",
    "        .value_counts()\n",
    "        .filter(pl.col(\"duplicate\") == 0)[\"count\"]\n",
    "        .item()\n",
    "    )\n",
    "    affinity = match / (match + diff)\n",
    "    p_corr = np.corrcoef(joined_gauges[rain_col], joined_gauges[f\"{rain_col}_{n_id}\"])[\n",
    "        0, 1\n",
    "    ]\n",
    "    f_mean = joined_gauges[\"factor\"].drop_nans().mean()\n",
    "    print(f\"diff: {diff}, match:{match}\")\n",
    "    print(f\"affinity: {affinity}, p_corr: {p_corr}, f_mean: {f_mean}\")\n",
    "\n",
    "    print(\"#\" * 15)"
   ],
   "outputs": [
    {
     "name": "stdout",
     "output_type": "stream",
     "text": [
      "DE_00310\n"
     ]
    },
    {
     "ename": "TypeError",
     "evalue": "get_neighbouring_gdsr_data() got an unexpected keyword argument 'neighbour_gauge_id'. Did you mean 'neighbour_gdsr_id'?",
     "output_type": "error",
     "traceback": [
      "\u001B[31m---------------------------------------------------------------------------\u001B[39m",
      "\u001B[31mTypeError\u001B[39m                                 Traceback (most recent call last)",
      "\u001B[36mCell\u001B[39m\u001B[36m \u001B[39m\u001B[32mIn[110]\u001B[39m\u001B[32m, line 3\u001B[39m\n\u001B[32m      1\u001B[39m \u001B[38;5;28;01mfor\u001B[39;00m n_id \u001B[38;5;129;01min\u001B[39;00m all_neighbour_ids_paths.keys():\n\u001B[32m      2\u001B[39m     \u001B[38;5;28mprint\u001B[39m(n_id)\n\u001B[32m----> \u001B[39m\u001B[32m3\u001B[39m     one_neighbouring_gauge = \u001B[43mget_neighbouring_gdsr_data\u001B[49m\u001B[43m(\u001B[49m\n\u001B[32m      4\u001B[39m \u001B[43m        \u001B[49m\u001B[43mneighbour_gauge_id\u001B[49m\u001B[43m=\u001B[49m\u001B[43mn_id\u001B[49m\u001B[43m,\u001B[49m\u001B[43m \u001B[49m\u001B[43mtime_multiplying_factor\u001B[49m\u001B[43m=\u001B[49m\u001B[43mMULTIPLYING_FACTORS\u001B[49m\u001B[43m[\u001B[49m\u001B[33;43m\"\u001B[39;49m\u001B[33;43mhourly\u001B[39;49m\u001B[33;43m\"\u001B[39;49m\u001B[43m]\u001B[49m\n\u001B[32m      5\u001B[39m \u001B[43m    \u001B[49m\u001B[43m)\u001B[49m\n\u001B[32m      6\u001B[39m     joined_gauges = target_gauge.join(\n\u001B[32m      7\u001B[39m         one_neighbouring_gauge, on=\u001B[33m\"\u001B[39m\u001B[33mtime\u001B[39m\u001B[33m\"\u001B[39m, suffix=\u001B[33mf\u001B[39m\u001B[33m\"\u001B[39m\u001B[33m_\u001B[39m\u001B[38;5;132;01m{\u001B[39;00mn_id\u001B[38;5;132;01m}\u001B[39;00m\u001B[33m\"\u001B[39m\n\u001B[32m      8\u001B[39m     )\n\u001B[32m      9\u001B[39m     joined_gauges = joined_gauges.drop_nans()\n",
      "\u001B[31mTypeError\u001B[39m: get_neighbouring_gdsr_data() got an unexpected keyword argument 'neighbour_gauge_id'. Did you mean 'neighbour_gdsr_id'?"
     ]
    }
   ],
   "execution_count": 110
  },
  {
   "cell_type": "markdown",
   "id": "f63fafe7-f52e-4dc7-beec-380828762245",
   "metadata": {},
   "source": [
    "# QC25 - Monthly factor\n",
    "[Back to Index](#Table-of-contents)\n",
    "\n",
    "#### Differences from `intense-qc`: \n",
    "- "
   ]
  },
  {
   "cell_type": "code",
   "execution_count": null,
   "id": "cea02d33-4923-41e0-8453-2ad9c13dae1f",
   "metadata": {
    "ExecuteTime": {
     "end_time": "2025-04-15T13:47:28.424949211Z",
     "start_time": "2025-04-10T16:23:58.492889Z"
    }
   },
   "outputs": [],
   "source": []
  }
 ],
 "metadata": {
  "kernelspec": {
   "display_name": "rainfallqc",
   "language": "python",
   "name": "python3"
  },
  "language_info": {
   "codemirror_mode": {
    "name": "ipython",
    "version": 3
   },
   "file_extension": ".py",
   "mimetype": "text/x-python",
   "name": "python",
   "nbconvert_exporter": "python",
   "pygments_lexer": "ipython3",
   "version": "3.13.1"
  }
 },
 "nbformat": 4,
 "nbformat_minor": 5
}
