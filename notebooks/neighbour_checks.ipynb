{
 "cells": [
  {
   "cell_type": "markdown",
   "id": "530f7296-c84f-4910-909d-b2c1f99fc035",
   "metadata": {},
   "source": [
    "# Neighbour checks for quality control flags\n",
    "Covers QC16-25\n",
    "\n",
    "## Table of contents\n",
    "[QC16 Daily neighbours (wet)](#QC16---Daily-neighbours-wet)  \n",
    "[QC17 Hourly neighbours (wet)](#QC17---Hourly-neighbours-wet)  \n",
    "[QC18 Daily neighbours (dry)](#QC18---Daily-neighbours-dry)  \n",
    "[QC19 Hourly neighbours (dry)](#QC19---Hourly-neighbours-dry)  \n",
    "[QC20 Monthly neighbours](#QC20---Monthly-neighbours)  \n",
    "[QC21 Timing offset](#QC21---Timing-offset)  \n",
    "[QC22 Pre-QC Affinity](#QC22---Pre-QC-Affinity)  \n",
    "[QC23 Pre-QC Pearson](#QC23---Pre-QC-Pearson)  \n",
    "[QC24 Daily factor](#QC24---Daily-factor)  \n",
    "[QC25 Monthly factor](#QC25---Monthly-factor)  \n",
    "\n",
    "See '3.3.4 Neighbouring gauge checks on large values' in Lewis et al. (2021)"
   ]
  },
  {
   "cell_type": "code",
   "execution_count": 47,
   "id": "4b1a0e6d",
   "metadata": {},
   "outputs": [],
   "source": [
    "import datetime\n",
    "import glob\n",
    "\n",
    "import polars as pl\n",
    "\n",
    "import geopy.distance\n",
    "import scipy.spatial"
   ]
  },
  {
   "cell_type": "code",
   "execution_count": 16,
   "id": "0436c1b7",
   "metadata": {},
   "outputs": [],
   "source": [
    "def read_metadata(data_path):\n",
    "    metadata = {}\n",
    "\n",
    "    with open(data_path, 'r') as f:\n",
    "        while True:\n",
    "            key, val = f.readline().strip().split(':', maxsplit=1)\n",
    "            key = key.lower().replace(' ', '_')\n",
    "            metadata[key.strip()] = val.strip()\n",
    "            if key == 'other':\n",
    "                break\n",
    "    return metadata"
   ]
  },
  {
   "cell_type": "code",
   "execution_count": null,
   "id": "0e28581e-cade-4dfc-9a83-ac76bdc65b9a",
   "metadata": {},
   "outputs": [],
   "source": []
  },
  {
   "cell_type": "code",
   "execution_count": 18,
   "id": "2e05d71b",
   "metadata": {},
   "outputs": [],
   "source": [
    "## Step 1. Make or read summary metadata of stations"
   ]
  },
  {
   "cell_type": "code",
   "execution_count": 19,
   "id": "56dd5d81",
   "metadata": {},
   "outputs": [
    {
     "data": {
      "text/plain": [
       "['../data/gauge_data/DE_06303.txt',\n",
       " '../data/gauge_data/DE_02718.txt',\n",
       " '../data/gauge_data/DE_04313.txt',\n",
       " '../data/gauge_data/DE_00390.txt',\n",
       " '../data/gauge_data/DE_02483.txt',\n",
       " '../data/gauge_data/DE_03215.txt',\n",
       " '../data/gauge_data/DE_00389.txt',\n",
       " '../data/gauge_data/DE_06264.txt',\n",
       " '../data/gauge_data/DE_01300.txt',\n",
       " '../data/gauge_data/DE_04488.txt',\n",
       " '../data/gauge_data/DE_00310.txt']"
      ]
     },
     "execution_count": 19,
     "metadata": {},
     "output_type": "execute_result"
    }
   ],
   "source": [
    "## Could work by checking if metadata already exists (or user can input)\n",
    "all_gauge_data = glob.glob(\"../data/gauge_data/*.txt\")\n",
    "all_gauge_data"
   ]
  },
  {
   "cell_type": "code",
   "execution_count": 22,
   "id": "9b217948",
   "metadata": {},
   "outputs": [],
   "source": [
    "all_station_metadata_list = []\n",
    "for ind, file in enumerate(all_gauge_data):\n",
    "    one_station_metadata = read_metadata(data_path=file)\n",
    "    all_station_metadata_list.append(one_station_metadata)\n"
   ]
  },
  {
   "cell_type": "code",
   "execution_count": 101,
   "id": "442c16fe",
   "metadata": {},
   "outputs": [
    {
     "data": {
      "text/html": [
       "<div><style>\n",
       ".dataframe > thead > tr,\n",
       ".dataframe > tbody > tr {\n",
       "  text-align: right;\n",
       "  white-space: pre-wrap;\n",
       "}\n",
       "</style>\n",
       "<small>shape: (5, 21)</small><table border=\"1\" class=\"dataframe\"><thead><tr><th>station_id</th><th>country</th><th>original_station_number</th><th>original_station_name</th><th>path_to_original_data</th><th>latitude</th><th>longitude</th><th>start_datetime</th><th>end_datetime</th><th>elevation</th><th>number_of_records</th><th>percent_missing_data</th><th>original_timestep</th><th>new_timestep</th><th>original_units</th><th>new_units</th><th>time_zone</th><th>daylight_saving_info</th><th>no_data_value</th><th>resolution</th><th>other</th></tr><tr><td>str</td><td>str</td><td>str</td><td>str</td><td>str</td><td>f64</td><td>f64</td><td>datetime[μs]</td><td>datetime[μs]</td><td>str</td><td>str</td><td>str</td><td>str</td><td>str</td><td>str</td><td>str</td><td>str</td><td>str</td><td>str</td><td>str</td><td>str</td></tr></thead><tbody><tr><td>&quot;DE_06303&quot;</td><td>&quot;Germany&quot;</td><td>&quot;06303&quot;</td><td>&quot;NA&quot;</td><td>&quot;B:/INTENSE data/Original data/…</td><td>51.2884</td><td>8.5907</td><td>2006-01-01 00:00:00</td><td>2010-12-31 23:00:00</td><td>&quot;588m&quot;</td><td>&quot;43824&quot;</td><td>&quot;0.00&quot;</td><td>&quot;1hr&quot;</td><td>&quot;1hr&quot;</td><td>&quot;mm&quot;</td><td>&quot;mm&quot;</td><td>&quot;CET&quot;</td><td>&quot;NA&quot;</td><td>&quot;-999&quot;</td><td>&quot;0.10&quot;</td><td>&quot;&quot;</td></tr><tr><td>&quot;DE_02718&quot;</td><td>&quot;Germany&quot;</td><td>&quot;02718&quot;</td><td>&quot;NA&quot;</td><td>&quot;B:/INTENSE data/Original data/…</td><td>51.288</td><td>8.7928</td><td>2006-01-01 00:00:00</td><td>2010-12-31 23:00:00</td><td>&quot;458m&quot;</td><td>&quot;43824&quot;</td><td>&quot;0.00&quot;</td><td>&quot;1hr&quot;</td><td>&quot;1hr&quot;</td><td>&quot;mm&quot;</td><td>&quot;mm&quot;</td><td>&quot;CET&quot;</td><td>&quot;NA&quot;</td><td>&quot;-999&quot;</td><td>&quot;0.10&quot;</td><td>&quot;&quot;</td></tr><tr><td>&quot;DE_04313&quot;</td><td>&quot;Germany&quot;</td><td>&quot;04313&quot;</td><td>&quot;NA&quot;</td><td>&quot;B:/INTENSE data/Original data/…</td><td>51.4966</td><td>8.4342</td><td>2006-01-01 00:00:00</td><td>2010-12-31 23:00:00</td><td>&quot;361m&quot;</td><td>&quot;43824&quot;</td><td>&quot;0.00&quot;</td><td>&quot;1hr&quot;</td><td>&quot;1hr&quot;</td><td>&quot;mm&quot;</td><td>&quot;mm&quot;</td><td>&quot;CET&quot;</td><td>&quot;NA&quot;</td><td>&quot;-999&quot;</td><td>&quot;0.10&quot;</td><td>&quot;&quot;</td></tr><tr><td>&quot;DE_00390&quot;</td><td>&quot;Germany&quot;</td><td>&quot;00390&quot;</td><td>&quot;NA&quot;</td><td>&quot;B:/INTENSE data/Original data/…</td><td>50.9837</td><td>8.3679</td><td>2006-01-01 00:00:00</td><td>2010-12-31 23:00:00</td><td>&quot;610m&quot;</td><td>&quot;43824&quot;</td><td>&quot;0.00&quot;</td><td>&quot;1hr&quot;</td><td>&quot;1hr&quot;</td><td>&quot;mm&quot;</td><td>&quot;mm&quot;</td><td>&quot;CET&quot;</td><td>&quot;NA&quot;</td><td>&quot;-999&quot;</td><td>&quot;0.10&quot;</td><td>&quot;&quot;</td></tr><tr><td>&quot;DE_02483&quot;</td><td>&quot;Germany&quot;</td><td>&quot;02483&quot;</td><td>&quot;NA&quot;</td><td>&quot;B:/INTENSE data/Original data/…</td><td>51.1803</td><td>8.4891</td><td>2006-01-01 00:00:00</td><td>2010-12-31 23:00:00</td><td>&quot;839m&quot;</td><td>&quot;43824&quot;</td><td>&quot;0.00&quot;</td><td>&quot;1hr&quot;</td><td>&quot;1hr&quot;</td><td>&quot;mm&quot;</td><td>&quot;mm&quot;</td><td>&quot;CET&quot;</td><td>&quot;NA&quot;</td><td>&quot;-999&quot;</td><td>&quot;0.10&quot;</td><td>&quot;&quot;</td></tr></tbody></table></div>"
      ],
      "text/plain": [
       "shape: (5, 21)\n",
       "┌────────────┬─────────┬────────────┬────────────┬───┬────────────┬────────────┬───────────┬───────┐\n",
       "│ station_id ┆ country ┆ original_s ┆ original_s ┆ … ┆ daylight_s ┆ no_data_va ┆ resolutio ┆ other │\n",
       "│ ---        ┆ ---     ┆ tation_num ┆ tation_nam ┆   ┆ aving_info ┆ lue        ┆ n         ┆ ---   │\n",
       "│ str        ┆ str     ┆ ber        ┆ e          ┆   ┆ ---        ┆ ---        ┆ ---       ┆ str   │\n",
       "│            ┆         ┆ ---        ┆ ---        ┆   ┆ str        ┆ str        ┆ str       ┆       │\n",
       "│            ┆         ┆ str        ┆ str        ┆   ┆            ┆            ┆           ┆       │\n",
       "╞════════════╪═════════╪════════════╪════════════╪═══╪════════════╪════════════╪═══════════╪═══════╡\n",
       "│ DE_06303   ┆ Germany ┆ 06303      ┆ NA         ┆ … ┆ NA         ┆ -999       ┆ 0.10      ┆       │\n",
       "│ DE_02718   ┆ Germany ┆ 02718      ┆ NA         ┆ … ┆ NA         ┆ -999       ┆ 0.10      ┆       │\n",
       "│ DE_04313   ┆ Germany ┆ 04313      ┆ NA         ┆ … ┆ NA         ┆ -999       ┆ 0.10      ┆       │\n",
       "│ DE_00390   ┆ Germany ┆ 00390      ┆ NA         ┆ … ┆ NA         ┆ -999       ┆ 0.10      ┆       │\n",
       "│ DE_02483   ┆ Germany ┆ 02483      ┆ NA         ┆ … ┆ NA         ┆ -999       ┆ 0.10      ┆       │\n",
       "└────────────┴─────────┴────────────┴────────────┴───┴────────────┴────────────┴───────────┴───────┘"
      ]
     },
     "execution_count": 101,
     "metadata": {},
     "output_type": "execute_result"
    }
   ],
   "source": [
    "all_station_metadata = pl.from_dicts(all_station_metadata_list)\n",
    "all_station_metadata = all_station_metadata.with_columns(\n",
    "    pl.col(\"latitude\").cast(pl.Float64),\n",
    "    pl.col(\"longitude\").cast(pl.Float64),\n",
    "    (pl.col(\"start_datetime\")+'00').str.strptime(pl.Datetime, \"%Y%m%d%H%M\"),\n",
    "    (pl.col(\"end_datetime\")+'00').str.strptime(pl.Datetime, \"%Y%m%d%H%M\"),\n",
    ")\n",
    "all_station_metadata.head()"
   ]
  },
  {
   "cell_type": "code",
   "execution_count": 102,
   "id": "34fc1c4d",
   "metadata": {},
   "outputs": [],
   "source": [
    "# ALTERNATIVE: do we want to avoid using geopy.distance and simply write a distance function?\n",
    "all_station_dist_mtx = scipy.spatial.distance.cdist(all_station_metadata[['latitude', 'longitude']].rows(),\n",
    "                                        all_station_metadata[['latitude', 'longitude']].rows(),\n",
    "                                        metric=lambda pnt1, pnt2: geopy.distance.geodesic(pnt1, pnt2).kilometers)"
   ]
  },
  {
   "cell_type": "code",
   "execution_count": 103,
   "id": "62b4910b",
   "metadata": {},
   "outputs": [
    {
     "name": "stdout",
     "output_type": "stream",
     "text": [
      "(11, 11)\n"
     ]
    },
    {
     "data": {
      "text/plain": [
       "array([[ 0.        , 14.09894683, 25.59691371, 37.3130221 , 13.96385857,\n",
       "        15.87407843, 32.40525435, 14.59959055, 30.54248194, 24.09764638,\n",
       "        25.0005783 ],\n",
       "       [14.09894683,  0.        , 34.08234805, 45.06119283, 24.36175299,\n",
       "        14.45974999, 39.51940345, 17.2247529 , 44.56675361, 37.63594424,\n",
       "        30.46503547],\n",
       "       [25.59691371, 34.08234805,  0.        , 57.24912491, 35.39722566,\n",
       "        41.38815216, 53.60203785, 17.56187361, 33.20205466, 33.63868242,\n",
       "        48.42088382],\n",
       "       [37.3130221 , 45.06119283, 57.24912491,  0.        , 23.46277837,\n",
       "        31.70877799,  5.66497103, 51.79901752, 33.51654307, 26.45625271,\n",
       "        15.01638048],\n",
       "       [13.96385857, 24.36175299, 35.39722566, 23.46277837,  0.        ,\n",
       "        15.71007358, 18.84434242, 28.34376957, 24.64263808, 15.92931114,\n",
       "        13.13459419],\n",
       "       [15.87407843, 14.45974999, 41.38815216, 31.70877799, 15.71007358,\n",
       "         0.        , 26.05191884, 27.74211572, 40.03766665, 31.55486415,\n",
       "        16.72414976],\n",
       "       [32.40525435, 39.51940345, 53.60203785,  5.66497103, 18.84434242,\n",
       "        26.05191884,  0.        , 46.98305903, 32.85525319, 24.87083282,\n",
       "         9.35141711],\n",
       "       [14.59959055, 17.2247529 , 17.56187361, 51.79901752, 28.34376957,\n",
       "        27.74211572, 46.98305903,  0.        , 38.72952356, 34.83775122,\n",
       "        39.51597024],\n",
       "       [30.54248194, 44.56675361, 33.20205466, 33.51654307, 24.64263808,\n",
       "        40.03766665, 32.85525319, 38.72952356,  0.        ,  8.98268868,\n",
       "        33.85495613],\n",
       "       [24.09764638, 37.63594424, 33.63868242, 26.45625271, 15.92931114,\n",
       "        31.55486415, 24.87083282, 34.83775122,  8.98268868,  0.        ,\n",
       "        24.97395614],\n",
       "       [25.0005783 , 30.46503547, 48.42088382, 15.01638048, 13.13459419,\n",
       "        16.72414976,  9.35141711, 39.51597024, 33.85495613, 24.97395614,\n",
       "         0.        ]])"
      ]
     },
     "execution_count": 103,
     "metadata": {},
     "output_type": "execute_result"
    }
   ],
   "source": [
    "print(all_station_dist_mtx.shape)\n",
    "all_station_dist_mtx"
   ]
  },
  {
   "cell_type": "code",
   "execution_count": null,
   "id": "0ceaafab",
   "metadata": {},
   "outputs": [],
   "source": [
    "def compute_overlap_days(start_1, end_1, start_2, end_2):\n",
    "    ## TODO: add cast to datetime functionality/checks\n",
    "    ## compute overlap\n",
    "    overlap_start = max(start_1, start_2)\n",
    "    overlap_end = min(end_1, end_2)\n",
    "\n",
    "    overlap_days = max(0, (overlap_end - overlap_start).days)\n",
    "\n",
    "    return overlap_days"
   ]
  },
  {
   "cell_type": "code",
   "execution_count": 111,
   "id": "4a34b286",
   "metadata": {},
   "outputs": [],
   "source": [
    "start_1, end_1 = all_station_metadata['start_datetime'][0], all_station_metadata['end_datetime'][0]\n",
    "start_2, end_2 = all_station_metadata['start_datetime'][1], all_station_metadata['end_datetime'][1]\n",
    "overlap_days = compute_overlap_days(start_1, end_1, start_2, end_2)"
   ]
  },
  {
   "cell_type": "code",
   "execution_count": 113,
   "id": "bd1c250b",
   "metadata": {},
   "outputs": [
    {
     "name": "stdout",
     "output_type": "stream",
     "text": [
      "1825\n"
     ]
    }
   ],
   "source": [
    "print(overlap_days)"
   ]
  },
  {
   "cell_type": "code",
   "execution_count": null,
   "id": "511c6402",
   "metadata": {},
   "outputs": [],
   "source": []
  },
  {
   "cell_type": "markdown",
   "id": "301fb685",
   "metadata": {},
   "source": [
    "# QC16 - Daily neighbours (wet)\n",
    "[Back to Index](#Table-of-contents)\n",
    "\n",
    "#### Differences from `intense-qc`: \n",
    "- "
   ]
  },
  {
   "cell_type": "code",
   "execution_count": null,
   "id": "b7bf1a6f",
   "metadata": {},
   "outputs": [],
   "source": []
  },
  {
   "cell_type": "markdown",
   "id": "fb4369f0-5c04-47d7-8f6d-9b6761b054e9",
   "metadata": {},
   "source": [
    "# QC17 - Hourly neighbours (wet) \n",
    "[Back to Index](#Table-of-contents)\n",
    "\n",
    "#### Differences from `intense-qc`: \n",
    "- "
   ]
  },
  {
   "cell_type": "code",
   "execution_count": null,
   "id": "a998641b-d00b-44a2-bba7-5d50b6bac9ab",
   "metadata": {},
   "outputs": [],
   "source": []
  },
  {
   "cell_type": "markdown",
   "id": "75c95086-cd30-4232-a598-98c6ba4744d8",
   "metadata": {},
   "source": [
    "# QC18 - Daily neighbours (dry) \n",
    "[Back to Index](#Table-of-contents)\n",
    "\n",
    "#### Differences from `intense-qc`: \n",
    "- "
   ]
  },
  {
   "cell_type": "code",
   "execution_count": null,
   "id": "2dcf6965-3206-473e-98fb-9d666b84e1fe",
   "metadata": {},
   "outputs": [],
   "source": []
  },
  {
   "cell_type": "markdown",
   "id": "6d73b55d-70ca-4a7f-9ccb-eb7c8220b834",
   "metadata": {},
   "source": [
    "# QC19 - Hourly neighbours (dry) \n",
    "[Back to Index](#Table-of-contents)\n",
    "\n",
    "#### Differences from `intense-qc`: \n",
    "- "
   ]
  },
  {
   "cell_type": "code",
   "execution_count": null,
   "id": "fd2d36f5-06a5-41cc-a586-28cbe36b2ec0",
   "metadata": {},
   "outputs": [],
   "source": []
  },
  {
   "cell_type": "markdown",
   "id": "f26abff0-392f-4598-ba76-3d054608521b",
   "metadata": {},
   "source": [
    "# QC20 - Monthly neighbours\n",
    "[Back to Index](#Table-of-contents)\n",
    "\n",
    "#### Differences from `intense-qc`: \n",
    "- "
   ]
  },
  {
   "cell_type": "code",
   "execution_count": null,
   "id": "8c302184-8c8f-4683-a03b-ce8660f5ed7b",
   "metadata": {},
   "outputs": [],
   "source": []
  },
  {
   "cell_type": "markdown",
   "id": "35a03907-142a-4c08-8ab3-ae0fe5f3f493",
   "metadata": {},
   "source": [
    "# QC21 - Timing offset \n",
    "[Back to Index](#Table-of-contents)\n",
    "\n",
    "#### Differences from `intense-qc`: \n",
    "- "
   ]
  },
  {
   "cell_type": "code",
   "execution_count": null,
   "id": "3c15a579-446c-43f1-9570-11ab92cfbe82",
   "metadata": {},
   "outputs": [],
   "source": []
  },
  {
   "cell_type": "markdown",
   "id": "f372ec0e-7d3b-44c8-a052-806e66454834",
   "metadata": {},
   "source": [
    "# QC22 - Pre-QC Affinity  \n",
    "[Back to Index](#Table-of-contents)\n",
    "\n",
    "#### Differences from `intense-qc`: \n",
    "- "
   ]
  },
  {
   "cell_type": "code",
   "execution_count": null,
   "id": "a1294be1-19a5-42c4-8c89-5f5112326ccb",
   "metadata": {},
   "outputs": [],
   "source": []
  },
  {
   "cell_type": "markdown",
   "id": "b52dfb5b-44d6-481b-b3ac-8c562df044d4",
   "metadata": {},
   "source": [
    "# QC23 - Pre-QC Pearson\n",
    "[Back to Index](#Table-of-contents)\n",
    "\n",
    "#### Differences from `intense-qc`: \n",
    "- "
   ]
  },
  {
   "cell_type": "code",
   "execution_count": null,
   "id": "2abacf73-41a8-463b-97e4-c87f3ec7b63d",
   "metadata": {},
   "outputs": [],
   "source": []
  },
  {
   "cell_type": "markdown",
   "id": "7ad5d0b8-a686-435a-b35d-8685e97ec8fd",
   "metadata": {},
   "source": [
    "# QC24 - Daily factor  \n",
    "[Back to Index](#Table-of-contents)\n",
    "\n",
    "#### Differences from `intense-qc`: \n",
    "- "
   ]
  },
  {
   "cell_type": "code",
   "execution_count": null,
   "id": "8ce16043-48bc-411c-9b0a-be611f95d602",
   "metadata": {},
   "outputs": [],
   "source": []
  },
  {
   "cell_type": "markdown",
   "id": "f63fafe7-f52e-4dc7-beec-380828762245",
   "metadata": {},
   "source": [
    "# QC25 - Monthly factor\n",
    "[Back to Index](#Table-of-contents)\n",
    "\n",
    "#### Differences from `intense-qc`: \n",
    "- "
   ]
  },
  {
   "cell_type": "code",
   "execution_count": null,
   "id": "cea02d33-4923-41e0-8453-2ad9c13dae1f",
   "metadata": {},
   "outputs": [],
   "source": []
  }
 ],
 "metadata": {
  "kernelspec": {
   "display_name": "rainfallqc",
   "language": "python",
   "name": "python3"
  },
  "language_info": {
   "codemirror_mode": {
    "name": "ipython",
    "version": 3
   },
   "file_extension": ".py",
   "mimetype": "text/x-python",
   "name": "python",
   "nbconvert_exporter": "python",
   "pygments_lexer": "ipython3",
   "version": "3.13.1"
  }
 },
 "nbformat": 4,
 "nbformat_minor": 5
}
