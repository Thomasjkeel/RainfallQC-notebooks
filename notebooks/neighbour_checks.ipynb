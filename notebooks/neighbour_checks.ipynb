{
 "cells": [
  {
   "cell_type": "markdown",
   "id": "530f7296-c84f-4910-909d-b2c1f99fc035",
   "metadata": {},
   "source": [
    "# Neighbour checks for quality control flags\n",
    "Covers QC16-25\n",
    "\n",
    "## Table of contents\n",
    "[Neighbourhood functions](#neighbourhood-functions)  \n",
    "[QC16 Daily neighbours (wet)](#QC16---Daily-neighbours-wet)  \n",
    "[QC17 Hourly neighbours (wet)](#QC17---Hourly-neighbours-wet)  \n",
    "[QC18 Daily neighbours (dry)](#QC18---Daily-neighbours-dry)  \n",
    "[QC19 Hourly neighbours (dry)](#QC19---Hourly-neighbours-dry)  \n",
    "[QC20 Monthly neighbours](#QC20---Monthly-neighbours)  \n",
    "[QC21 Timing offset](#QC21---Timing-offset)  \n",
    "[QC22 Pre-QC Affinity](#QC22---Pre-QC-Affinity)  \n",
    "[QC23 Pre-QC Pearson](#QC23---Pre-QC-Pearson)  \n",
    "[QC24 Daily factor](#QC24---Daily-factor)  \n",
    "[QC25 Monthly factor](#QC25---Monthly-factor)  \n",
    "\n",
    "See '3.3.4 Neighbouring gauge checks on large values' in Lewis et al. (2021)"
   ]
  },
  {
   "cell_type": "code",
   "execution_count": 2,
   "id": "4b1a0e6d",
   "metadata": {
    "ExecuteTime": {
     "end_time": "2025-04-10T16:23:46.508922Z",
     "start_time": "2025-04-10T16:23:43.687412Z"
    }
   },
   "outputs": [],
   "source": [
    "import datetime\n",
    "import glob\n",
    "\n",
    "import zipfile  ## used once for Intense format data\n",
    "import pandas as pd  ## used once for Intense format data\n",
    "\n",
    "import polars as pl\n",
    "import numpy as np\n",
    "\n",
    "import scipy.stats\n",
    "import geopy.distance"
   ]
  },
  {
   "cell_type": "code",
   "execution_count": 3,
   "id": "e01b6d93",
   "metadata": {
    "ExecuteTime": {
     "end_time": "2025-04-10T16:23:46.525170Z",
     "start_time": "2025-04-10T16:23:46.517098Z"
    }
   },
   "outputs": [],
   "source": [
    "TARGET_STATION_ID = \"DE_02483\"\n",
    "DISTANCE_THRESHOLD = 50  # 50 km\n",
    "OVERLAP_THRESHOLD = 365 * 3  # three years\n",
    "\n",
    "## Data reading globals\n",
    "GAUGE_DATA_PATH = \"../data/gauge_data\"\n",
    "DATA_ROWS_TO_SKIP = 20  ## First 20 rows are metadata TODO: what if not?\n",
    "UNIT_COL = \"new_units\"  ## There is an original_units col too TODO: think of way to do this for different data\n",
    "\n",
    "MULTIPLYING_FACTORS = {\"hourly\": 24, \"daily\": 1}  ## compared to daily reference"
   ]
  },
  {
   "cell_type": "code",
   "execution_count": 4,
   "id": "0436c1b7",
   "metadata": {
    "ExecuteTime": {
     "end_time": "2025-04-10T16:23:46.636590Z",
     "start_time": "2025-04-10T16:23:46.631843Z"
    }
   },
   "outputs": [],
   "source": [
    "def read_metadata(data_path):\n",
    "    metadata = {}\n",
    "\n",
    "    with open(data_path, \"r\") as f:\n",
    "        while True:\n",
    "            key, val = f.readline().strip().split(\":\", maxsplit=1)\n",
    "            key = key.lower().replace(\" \", \"_\")\n",
    "            metadata[key.strip()] = val.strip()\n",
    "            if key == \"other\":\n",
    "                break\n",
    "    return metadata"
   ]
  },
  {
   "cell_type": "code",
   "execution_count": 5,
   "id": "72451179",
   "metadata": {
    "ExecuteTime": {
     "end_time": "2025-04-10T16:23:46.699493Z",
     "start_time": "2025-04-10T16:23:46.693372Z"
    }
   },
   "outputs": [],
   "source": [
    "station_metadata = read_metadata(data_path=\"../data/gauge_data/DE_02483.txt\")\n",
    "station_metadata[\"start_datetime\"] = datetime.datetime.strptime(\n",
    "    station_metadata[\"start_datetime\"], \"%Y%m%d%H\"\n",
    ")\n",
    "station_metadata[\"end_datetime\"] = datetime.datetime.strptime(\n",
    "    station_metadata[\"end_datetime\"], \"%Y%m%d%H\"\n",
    ")"
   ]
  },
  {
   "cell_type": "code",
   "execution_count": 6,
   "id": "7cc198b6",
   "metadata": {
    "ExecuteTime": {
     "end_time": "2025-04-10T16:23:46.757108Z",
     "start_time": "2025-04-10T16:23:46.749248Z"
    }
   },
   "outputs": [],
   "source": [
    "def add_datetime_to_gauge_data(station_metadata, gauge_data, time_multiplying_factor):\n",
    "    \"\"\"\n",
    "    Add datetime column to gauge data using metadata from that gauge.\n",
    "    NOTE: Could maybe extend so can find metadata if not provided?\n",
    "    \"\"\"\n",
    "    startdate = station_metadata[\"start_datetime\"]\n",
    "    enddate = station_metadata[\"end_datetime\"]\n",
    "    assert isinstance(\n",
    "        startdate, datetime.datetime\n",
    "    ), \"Please convert start_ and end_datetime to datetime.datetime objects\"\n",
    "\n",
    "    date_interval = []\n",
    "    delta_days = (enddate + datetime.timedelta(days=1) - startdate).days\n",
    "    for i in range(delta_days * time_multiplying_factor):\n",
    "        date_interval.append(startdate + datetime.timedelta(hours=i))\n",
    "\n",
    "    ## add datetime column\n",
    "    assert len(gauge_data) == len(date_interval)\n",
    "    gauge_data = gauge_data.with_columns(\n",
    "        time=pl.Series(date_interval)\n",
    "    )  ## set time columns\n",
    "\n",
    "    return gauge_data"
   ]
  },
  {
   "cell_type": "code",
   "execution_count": 7,
   "id": "783e5eb9",
   "metadata": {
    "ExecuteTime": {
     "end_time": "2025-04-10T16:23:46.817332Z",
     "start_time": "2025-04-10T16:23:46.812009Z"
    }
   },
   "outputs": [],
   "source": [
    "rain_col = f\"rain_{station_metadata['original_units']}\""
   ]
  },
  {
   "cell_type": "code",
   "execution_count": 8,
   "id": "eba66818",
   "metadata": {
    "ExecuteTime": {
     "end_time": "2025-04-10T16:23:46.869539Z",
     "start_time": "2025-04-10T16:23:46.857281Z"
    }
   },
   "outputs": [],
   "source": [
    "## read in gauge data\n",
    "target_gauge = pl.read_csv(\n",
    "    \"../data/gauge_data/DE_02483.txt\",\n",
    "    skip_rows=20,\n",
    "    schema_overrides={rain_col: pl.Float64},\n",
    ")"
   ]
  },
  {
   "cell_type": "code",
   "execution_count": 9,
   "id": "1b4d06bc",
   "metadata": {
    "ExecuteTime": {
     "end_time": "2025-04-10T16:23:46.958973Z",
     "start_time": "2025-04-10T16:23:46.912615Z"
    }
   },
   "outputs": [],
   "source": [
    "target_gauge = add_datetime_to_gauge_data(\n",
    "    station_metadata,\n",
    "    target_gauge,\n",
    "    time_multiplying_factor=MULTIPLYING_FACTORS[\"hourly\"],\n",
    ")\n",
    "target_gauge = target_gauge.select([\"time\", rain_col])  ## Reorder (to look nice)"
   ]
  },
  {
   "cell_type": "code",
   "execution_count": 10,
   "id": "72f6f3db",
   "metadata": {
    "ExecuteTime": {
     "end_time": "2025-04-10T16:23:46.987985Z",
     "start_time": "2025-04-10T16:23:46.981307Z"
    }
   },
   "outputs": [],
   "source": [
    "## make no data vals nans\n",
    "target_gauge = target_gauge.with_columns(\n",
    "    pl.when(pl.col(rain_col) == int(station_metadata[\"no_data_value\"]))\n",
    "    .then(np.nan)\n",
    "    .otherwise(pl.col(rain_col))\n",
    "    .alias(rain_col)\n",
    ")"
   ]
  },
  {
   "cell_type": "code",
   "execution_count": 11,
   "id": "57da3cfd",
   "metadata": {
    "ExecuteTime": {
     "end_time": "2025-04-10T16:23:47.047255Z",
     "start_time": "2025-04-10T16:23:47.037866Z"
    }
   },
   "outputs": [
    {
     "data": {
      "text/html": [
       "<div><style>\n",
       ".dataframe > thead > tr,\n",
       ".dataframe > tbody > tr {\n",
       "  text-align: right;\n",
       "  white-space: pre-wrap;\n",
       "}\n",
       "</style>\n",
       "<small>shape: (5, 2)</small><table border=\"1\" class=\"dataframe\"><thead><tr><th>time</th><th>rain_mm</th></tr><tr><td>datetime[μs]</td><td>f64</td></tr></thead><tbody><tr><td>2006-01-01 00:00:00</td><td>0.9</td></tr><tr><td>2006-01-01 01:00:00</td><td>0.3</td></tr><tr><td>2006-01-01 02:00:00</td><td>0.3</td></tr><tr><td>2006-01-01 03:00:00</td><td>0.0</td></tr><tr><td>2006-01-01 04:00:00</td><td>0.0</td></tr></tbody></table></div>"
      ],
      "text/plain": [
       "shape: (5, 2)\n",
       "┌─────────────────────┬─────────┐\n",
       "│ time                ┆ rain_mm │\n",
       "│ ---                 ┆ ---     │\n",
       "│ datetime[μs]        ┆ f64     │\n",
       "╞═════════════════════╪═════════╡\n",
       "│ 2006-01-01 00:00:00 ┆ 0.9     │\n",
       "│ 2006-01-01 01:00:00 ┆ 0.3     │\n",
       "│ 2006-01-01 02:00:00 ┆ 0.3     │\n",
       "│ 2006-01-01 03:00:00 ┆ 0.0     │\n",
       "│ 2006-01-01 04:00:00 ┆ 0.0     │\n",
       "└─────────────────────┴─────────┘"
      ]
     },
     "execution_count": 11,
     "metadata": {},
     "output_type": "execute_result"
    }
   ],
   "source": [
    "target_gauge.head()"
   ]
  },
  {
   "cell_type": "markdown",
   "id": "65e34f32",
   "metadata": {},
   "source": [
    "# Neighbourhood functions\n",
    "TODO: convert to Classes"
   ]
  },
  {
   "cell_type": "markdown",
   "id": "2e05d71b",
   "metadata": {},
   "source": [
    "### Part 1. Make or read summary metadata of stations"
   ]
  },
  {
   "cell_type": "code",
   "execution_count": 12,
   "id": "56dd5d81",
   "metadata": {
    "ExecuteTime": {
     "end_time": "2025-04-10T16:23:47.134948Z",
     "start_time": "2025-04-10T16:23:47.131264Z"
    }
   },
   "outputs": [
    {
     "data": {
      "text/plain": [
       "['../data/gauge_data/DE_06303.txt',\n",
       " '../data/gauge_data/DE_02718.txt',\n",
       " '../data/gauge_data/DE_04313.txt',\n",
       " '../data/gauge_data/DE_00390.txt',\n",
       " '../data/gauge_data/DE_02483.txt',\n",
       " '../data/gauge_data/DE_03215.txt',\n",
       " '../data/gauge_data/DE_00389.txt',\n",
       " '../data/gauge_data/DE_06264.txt',\n",
       " '../data/gauge_data/DE_01300.txt',\n",
       " '../data/gauge_data/DE_04488.txt',\n",
       " '../data/gauge_data/DE_00310.txt']"
      ]
     },
     "execution_count": 12,
     "metadata": {},
     "output_type": "execute_result"
    }
   ],
   "source": [
    "## Could work by checking if metadata already exists (or user can input)\n",
    "all_gauge_data_paths = glob.glob(f\"{GAUGE_DATA_PATH}/*.txt\")\n",
    "all_gauge_data_paths"
   ]
  },
  {
   "cell_type": "code",
   "execution_count": 13,
   "id": "9b217948",
   "metadata": {
    "ExecuteTime": {
     "end_time": "2025-04-10T16:23:47.251720Z",
     "start_time": "2025-04-10T16:23:47.240816Z"
    }
   },
   "outputs": [],
   "source": [
    "all_station_metadata_list = []\n",
    "for ind, file in enumerate(all_gauge_data_paths):\n",
    "    one_station_metadata = read_metadata(data_path=file)\n",
    "    all_station_metadata_list.append(one_station_metadata)"
   ]
  },
  {
   "cell_type": "code",
   "execution_count": 14,
   "id": "442c16fe",
   "metadata": {
    "ExecuteTime": {
     "end_time": "2025-04-10T16:23:47.364694Z",
     "start_time": "2025-04-10T16:23:47.344793Z"
    }
   },
   "outputs": [
    {
     "data": {
      "text/html": [
       "<div><style>\n",
       ".dataframe > thead > tr,\n",
       ".dataframe > tbody > tr {\n",
       "  text-align: right;\n",
       "  white-space: pre-wrap;\n",
       "}\n",
       "</style>\n",
       "<small>shape: (5, 21)</small><table border=\"1\" class=\"dataframe\"><thead><tr><th>station_id</th><th>country</th><th>original_station_number</th><th>original_station_name</th><th>path_to_original_data</th><th>latitude</th><th>longitude</th><th>start_datetime</th><th>end_datetime</th><th>elevation</th><th>number_of_records</th><th>percent_missing_data</th><th>original_timestep</th><th>new_timestep</th><th>original_units</th><th>new_units</th><th>time_zone</th><th>daylight_saving_info</th><th>no_data_value</th><th>resolution</th><th>other</th></tr><tr><td>str</td><td>str</td><td>str</td><td>str</td><td>str</td><td>f64</td><td>f64</td><td>datetime[μs]</td><td>datetime[μs]</td><td>str</td><td>str</td><td>str</td><td>str</td><td>str</td><td>str</td><td>str</td><td>str</td><td>str</td><td>str</td><td>str</td><td>str</td></tr></thead><tbody><tr><td>&quot;DE_06303&quot;</td><td>&quot;Germany&quot;</td><td>&quot;06303&quot;</td><td>&quot;NA&quot;</td><td>&quot;B:/INTENSE data/Original data/…</td><td>51.2884</td><td>8.5907</td><td>2006-01-01 00:00:00</td><td>2010-12-31 23:00:00</td><td>&quot;588m&quot;</td><td>&quot;43824&quot;</td><td>&quot;0.00&quot;</td><td>&quot;1hr&quot;</td><td>&quot;1hr&quot;</td><td>&quot;mm&quot;</td><td>&quot;mm&quot;</td><td>&quot;CET&quot;</td><td>&quot;NA&quot;</td><td>&quot;-999&quot;</td><td>&quot;0.10&quot;</td><td>&quot;&quot;</td></tr><tr><td>&quot;DE_02718&quot;</td><td>&quot;Germany&quot;</td><td>&quot;02718&quot;</td><td>&quot;NA&quot;</td><td>&quot;B:/INTENSE data/Original data/…</td><td>51.288</td><td>8.7928</td><td>2006-01-01 00:00:00</td><td>2010-12-31 23:00:00</td><td>&quot;458m&quot;</td><td>&quot;43824&quot;</td><td>&quot;0.00&quot;</td><td>&quot;1hr&quot;</td><td>&quot;1hr&quot;</td><td>&quot;mm&quot;</td><td>&quot;mm&quot;</td><td>&quot;CET&quot;</td><td>&quot;NA&quot;</td><td>&quot;-999&quot;</td><td>&quot;0.10&quot;</td><td>&quot;&quot;</td></tr><tr><td>&quot;DE_04313&quot;</td><td>&quot;Germany&quot;</td><td>&quot;04313&quot;</td><td>&quot;NA&quot;</td><td>&quot;B:/INTENSE data/Original data/…</td><td>51.4966</td><td>8.4342</td><td>2006-01-01 00:00:00</td><td>2010-12-31 23:00:00</td><td>&quot;361m&quot;</td><td>&quot;43824&quot;</td><td>&quot;0.00&quot;</td><td>&quot;1hr&quot;</td><td>&quot;1hr&quot;</td><td>&quot;mm&quot;</td><td>&quot;mm&quot;</td><td>&quot;CET&quot;</td><td>&quot;NA&quot;</td><td>&quot;-999&quot;</td><td>&quot;0.10&quot;</td><td>&quot;&quot;</td></tr><tr><td>&quot;DE_00390&quot;</td><td>&quot;Germany&quot;</td><td>&quot;00390&quot;</td><td>&quot;NA&quot;</td><td>&quot;B:/INTENSE data/Original data/…</td><td>50.9837</td><td>8.3679</td><td>2006-01-01 00:00:00</td><td>2010-12-31 23:00:00</td><td>&quot;610m&quot;</td><td>&quot;43824&quot;</td><td>&quot;0.00&quot;</td><td>&quot;1hr&quot;</td><td>&quot;1hr&quot;</td><td>&quot;mm&quot;</td><td>&quot;mm&quot;</td><td>&quot;CET&quot;</td><td>&quot;NA&quot;</td><td>&quot;-999&quot;</td><td>&quot;0.10&quot;</td><td>&quot;&quot;</td></tr><tr><td>&quot;DE_02483&quot;</td><td>&quot;Germany&quot;</td><td>&quot;02483&quot;</td><td>&quot;NA&quot;</td><td>&quot;B:/INTENSE data/Original data/…</td><td>51.1803</td><td>8.4891</td><td>2006-01-01 00:00:00</td><td>2010-12-31 23:00:00</td><td>&quot;839m&quot;</td><td>&quot;43824&quot;</td><td>&quot;0.00&quot;</td><td>&quot;1hr&quot;</td><td>&quot;1hr&quot;</td><td>&quot;mm&quot;</td><td>&quot;mm&quot;</td><td>&quot;CET&quot;</td><td>&quot;NA&quot;</td><td>&quot;-999&quot;</td><td>&quot;0.10&quot;</td><td>&quot;&quot;</td></tr></tbody></table></div>"
      ],
      "text/plain": [
       "shape: (5, 21)\n",
       "┌────────────┬─────────┬────────────┬────────────┬───┬────────────┬────────────┬───────────┬───────┐\n",
       "│ station_id ┆ country ┆ original_s ┆ original_s ┆ … ┆ daylight_s ┆ no_data_va ┆ resolutio ┆ other │\n",
       "│ ---        ┆ ---     ┆ tation_num ┆ tation_nam ┆   ┆ aving_info ┆ lue        ┆ n         ┆ ---   │\n",
       "│ str        ┆ str     ┆ ber        ┆ e          ┆   ┆ ---        ┆ ---        ┆ ---       ┆ str   │\n",
       "│            ┆         ┆ ---        ┆ ---        ┆   ┆ str        ┆ str        ┆ str       ┆       │\n",
       "│            ┆         ┆ str        ┆ str        ┆   ┆            ┆            ┆           ┆       │\n",
       "╞════════════╪═════════╪════════════╪════════════╪═══╪════════════╪════════════╪═══════════╪═══════╡\n",
       "│ DE_06303   ┆ Germany ┆ 06303      ┆ NA         ┆ … ┆ NA         ┆ -999       ┆ 0.10      ┆       │\n",
       "│ DE_02718   ┆ Germany ┆ 02718      ┆ NA         ┆ … ┆ NA         ┆ -999       ┆ 0.10      ┆       │\n",
       "│ DE_04313   ┆ Germany ┆ 04313      ┆ NA         ┆ … ┆ NA         ┆ -999       ┆ 0.10      ┆       │\n",
       "│ DE_00390   ┆ Germany ┆ 00390      ┆ NA         ┆ … ┆ NA         ┆ -999       ┆ 0.10      ┆       │\n",
       "│ DE_02483   ┆ Germany ┆ 02483      ┆ NA         ┆ … ┆ NA         ┆ -999       ┆ 0.10      ┆       │\n",
       "└────────────┴─────────┴────────────┴────────────┴───┴────────────┴────────────┴───────────┴───────┘"
      ]
     },
     "execution_count": 14,
     "metadata": {},
     "output_type": "execute_result"
    }
   ],
   "source": [
    "all_station_metadata = pl.from_dicts(all_station_metadata_list)\n",
    "all_station_metadata = all_station_metadata.with_columns(\n",
    "    pl.col(\"latitude\").cast(pl.Float64),\n",
    "    pl.col(\"longitude\").cast(pl.Float64),\n",
    "    (pl.col(\"start_datetime\") + \"00\").str.strptime(pl.Datetime, \"%Y%m%d%H%M\"),\n",
    "    (pl.col(\"end_datetime\") + \"00\").str.strptime(pl.Datetime, \"%Y%m%d%H%M\"),\n",
    ")\n",
    "all_station_metadata.head()"
   ]
  },
  {
   "cell_type": "markdown",
   "id": "d12847bb",
   "metadata": {},
   "source": [
    "### Part 2. Compute distance from target station\n",
    "TODO: What if the location data is in a different projection i.e. EPSG: 27700?  \n",
    "TODO: Remove duplicates"
   ]
  },
  {
   "cell_type": "code",
   "execution_count": 15,
   "id": "567b1846",
   "metadata": {
    "ExecuteTime": {
     "end_time": "2025-04-10T16:23:47.483856Z",
     "start_time": "2025-04-10T16:23:47.474724Z"
    }
   },
   "outputs": [],
   "source": [
    "def compute_distance_from_target_id(metadata, target_id):\n",
    "    target_station = metadata.filter(pl.col(\"station_id\") == target_id)\n",
    "    target_latlon = (\n",
    "        target_station[\"latitude\"].item(),\n",
    "        target_station[\"longitude\"].item(),\n",
    "    )\n",
    "\n",
    "    neighbour_distances = {}\n",
    "    for other_station_id, other_lat, other_lon in metadata[\n",
    "        [\"station_id\", \"latitude\", \"longitude\"]\n",
    "    ].rows():\n",
    "\n",
    "        neighbour_distances[other_station_id] = geopy.distance.geodesic(\n",
    "            target_latlon, (other_lat, other_lon)\n",
    "        ).kilometers\n",
    "    return neighbour_distances"
   ]
  },
  {
   "cell_type": "code",
   "execution_count": 16,
   "id": "3d5e59fb",
   "metadata": {
    "ExecuteTime": {
     "end_time": "2025-04-10T16:23:47.640605Z",
     "start_time": "2025-04-10T16:23:47.616675Z"
    }
   },
   "outputs": [
    {
     "data": {
      "text/plain": [
       "{'DE_06303': 13.96385857171046,\n",
       " 'DE_02718': 24.361752991036987,\n",
       " 'DE_04313': 35.397225659812456,\n",
       " 'DE_00390': 23.462778369145934,\n",
       " 'DE_02483': 0.0,\n",
       " 'DE_03215': 15.710073576478786,\n",
       " 'DE_00389': 18.844342416100808,\n",
       " 'DE_06264': 28.343769567230837,\n",
       " 'DE_01300': 24.64263807685722,\n",
       " 'DE_04488': 15.929311137997068,\n",
       " 'DE_00310': 13.134594190689885}"
      ]
     },
     "execution_count": 16,
     "metadata": {},
     "output_type": "execute_result"
    }
   ],
   "source": [
    "neighbours_distances = compute_distance_from_target_id(\n",
    "    all_station_metadata, TARGET_STATION_ID\n",
    ")\n",
    "neighbours_distances"
   ]
  },
  {
   "cell_type": "code",
   "execution_count": 17,
   "id": "a05ce598",
   "metadata": {
    "ExecuteTime": {
     "end_time": "2025-04-10T16:23:47.675850Z",
     "start_time": "2025-04-10T16:23:47.671009Z"
    }
   },
   "outputs": [],
   "source": [
    "# ALTERNATIVE: do we want to avoid using geopy.distance and simply write a distance function?\n",
    "# # ALTERNATIVE: maybe precompute a matrix of distances?\n",
    "# all_station_dist_mtx = scipy.spatial.distance.cdist(all_station_metadata[['latitude', 'longitude']].rows(),\n",
    "#                                         all_station_metadata[['latitude', 'longitude']].rows(),\n",
    "#                                         metric=lambda pnt1, pnt2: geopy.distance.geodesic(pnt1, pnt2).kilometers)"
   ]
  },
  {
   "cell_type": "code",
   "execution_count": 18,
   "id": "15d4dc66",
   "metadata": {
    "ExecuteTime": {
     "end_time": "2025-04-10T16:23:47.805927Z",
     "start_time": "2025-04-10T16:23:47.787681Z"
    }
   },
   "outputs": [
    {
     "data": {
      "text/html": [
       "<div><style>\n",
       ".dataframe > thead > tr,\n",
       ".dataframe > tbody > tr {\n",
       "  text-align: right;\n",
       "  white-space: pre-wrap;\n",
       "}\n",
       "</style>\n",
       "<small>shape: (11, 2)</small><table border=\"1\" class=\"dataframe\"><thead><tr><th>station_id</th><th>distances</th></tr><tr><td>str</td><td>f64</td></tr></thead><tbody><tr><td>&quot;DE_06303&quot;</td><td>13.963859</td></tr><tr><td>&quot;DE_02718&quot;</td><td>24.361753</td></tr><tr><td>&quot;DE_04313&quot;</td><td>35.397226</td></tr><tr><td>&quot;DE_00390&quot;</td><td>23.462778</td></tr><tr><td>&quot;DE_02483&quot;</td><td>0.0</td></tr><tr><td>&hellip;</td><td>&hellip;</td></tr><tr><td>&quot;DE_00389&quot;</td><td>18.844342</td></tr><tr><td>&quot;DE_06264&quot;</td><td>28.34377</td></tr><tr><td>&quot;DE_01300&quot;</td><td>24.642638</td></tr><tr><td>&quot;DE_04488&quot;</td><td>15.929311</td></tr><tr><td>&quot;DE_00310&quot;</td><td>13.134594</td></tr></tbody></table></div>"
      ],
      "text/plain": [
       "shape: (11, 2)\n",
       "┌────────────┬───────────┐\n",
       "│ station_id ┆ distances │\n",
       "│ ---        ┆ ---       │\n",
       "│ str        ┆ f64       │\n",
       "╞════════════╪═══════════╡\n",
       "│ DE_06303   ┆ 13.963859 │\n",
       "│ DE_02718   ┆ 24.361753 │\n",
       "│ DE_04313   ┆ 35.397226 │\n",
       "│ DE_00390   ┆ 23.462778 │\n",
       "│ DE_02483   ┆ 0.0       │\n",
       "│ …          ┆ …         │\n",
       "│ DE_00389   ┆ 18.844342 │\n",
       "│ DE_06264   ┆ 28.34377  │\n",
       "│ DE_01300   ┆ 24.642638 │\n",
       "│ DE_04488   ┆ 15.929311 │\n",
       "│ DE_00310   ┆ 13.134594 │\n",
       "└────────────┴───────────┘"
      ]
     },
     "execution_count": 18,
     "metadata": {},
     "output_type": "execute_result"
    }
   ],
   "source": [
    "neighbours_distances_df = pl.DataFrame(\n",
    "    {\n",
    "        \"station_id\": neighbours_distances.keys(),\n",
    "        \"distances\": neighbours_distances.values(),\n",
    "    }\n",
    ")\n",
    "neighbours_distances_df"
   ]
  },
  {
   "cell_type": "code",
   "execution_count": 19,
   "id": "06a1e697",
   "metadata": {
    "ExecuteTime": {
     "end_time": "2025-04-10T16:23:47.951433Z",
     "start_time": "2025-04-10T16:23:47.943056Z"
    }
   },
   "outputs": [
    {
     "data": {
      "text/html": [
       "<div><style>\n",
       ".dataframe > thead > tr,\n",
       ".dataframe > tbody > tr {\n",
       "  text-align: right;\n",
       "  white-space: pre-wrap;\n",
       "}\n",
       "</style>\n",
       "<small>shape: (10, 2)</small><table border=\"1\" class=\"dataframe\"><thead><tr><th>station_id</th><th>distances</th></tr><tr><td>str</td><td>f64</td></tr></thead><tbody><tr><td>&quot;DE_00310&quot;</td><td>13.134594</td></tr><tr><td>&quot;DE_06303&quot;</td><td>13.963859</td></tr><tr><td>&quot;DE_03215&quot;</td><td>15.710074</td></tr><tr><td>&quot;DE_04488&quot;</td><td>15.929311</td></tr><tr><td>&quot;DE_00389&quot;</td><td>18.844342</td></tr><tr><td>&quot;DE_00390&quot;</td><td>23.462778</td></tr><tr><td>&quot;DE_02718&quot;</td><td>24.361753</td></tr><tr><td>&quot;DE_01300&quot;</td><td>24.642638</td></tr><tr><td>&quot;DE_06264&quot;</td><td>28.34377</td></tr><tr><td>&quot;DE_04313&quot;</td><td>35.397226</td></tr></tbody></table></div>"
      ],
      "text/plain": [
       "shape: (10, 2)\n",
       "┌────────────┬───────────┐\n",
       "│ station_id ┆ distances │\n",
       "│ ---        ┆ ---       │\n",
       "│ str        ┆ f64       │\n",
       "╞════════════╪═══════════╡\n",
       "│ DE_00310   ┆ 13.134594 │\n",
       "│ DE_06303   ┆ 13.963859 │\n",
       "│ DE_03215   ┆ 15.710074 │\n",
       "│ DE_04488   ┆ 15.929311 │\n",
       "│ DE_00389   ┆ 18.844342 │\n",
       "│ DE_00390   ┆ 23.462778 │\n",
       "│ DE_02718   ┆ 24.361753 │\n",
       "│ DE_01300   ┆ 24.642638 │\n",
       "│ DE_06264   ┆ 28.34377  │\n",
       "│ DE_04313   ┆ 35.397226 │\n",
       "└────────────┴───────────┘"
      ]
     },
     "execution_count": 19,
     "metadata": {},
     "output_type": "execute_result"
    }
   ],
   "source": [
    "## Subset based on 50 km\n",
    "close_neighbours = neighbours_distances_df.filter(\n",
    "    (pl.col(\"distances\") <= DISTANCE_THRESHOLD) & (pl.col(\"distances\") != 0)\n",
    ")\n",
    "\n",
    "## closest 10\n",
    "close_neighbours.sort(\"distances\")[:10]"
   ]
  },
  {
   "cell_type": "markdown",
   "id": "4635d967",
   "metadata": {},
   "source": [
    "### Part 3. Compute the temporal overlap"
   ]
  },
  {
   "cell_type": "code",
   "execution_count": 20,
   "id": "0ceaafab",
   "metadata": {
    "ExecuteTime": {
     "end_time": "2025-04-10T16:23:48.135809Z",
     "start_time": "2025-04-10T16:23:48.125351Z"
    }
   },
   "outputs": [],
   "source": [
    "def compute_overlap_days(start_1, end_1, start_2, end_2):\n",
    "    ## TODO: add cast to datetime functionality/checks\n",
    "    ## compute overlap\n",
    "    overlap_start = max(start_1, start_2)\n",
    "    overlap_end = min(end_1, end_2)\n",
    "\n",
    "    overlap_days = max(0, (overlap_end - overlap_start).days)\n",
    "\n",
    "    return overlap_days"
   ]
  },
  {
   "cell_type": "code",
   "execution_count": 21,
   "id": "c9996026",
   "metadata": {
    "ExecuteTime": {
     "end_time": "2025-04-10T16:23:48.267122Z",
     "start_time": "2025-04-10T16:23:48.260130Z"
    }
   },
   "outputs": [],
   "source": [
    "def compute_overlap_days_from_target_id(metadata, target_id):\n",
    "    target_station = metadata.filter(pl.col(\"station_id\") == target_id)\n",
    "    start_1, end_1 = (\n",
    "        target_station[\"start_datetime\"].item(),\n",
    "        target_station[\"end_datetime\"].item(),\n",
    "    )\n",
    "\n",
    "    neighbour_overlap_days = {}\n",
    "    for other_station_id, start_2, end_2 in metadata[\n",
    "        [\"station_id\", \"start_datetime\", \"end_datetime\"]\n",
    "    ].rows():\n",
    "        if target_id == other_station_id:\n",
    "            continue\n",
    "\n",
    "        neighbour_overlap_days[other_station_id] = compute_overlap_days(\n",
    "            start_1, end_1, start_2, end_2\n",
    "        )\n",
    "    return neighbour_overlap_days"
   ]
  },
  {
   "cell_type": "code",
   "execution_count": 22,
   "id": "8d7cb147",
   "metadata": {
    "ExecuteTime": {
     "end_time": "2025-04-10T16:23:48.455289Z",
     "start_time": "2025-04-10T16:23:48.441998Z"
    }
   },
   "outputs": [
    {
     "data": {
      "text/plain": [
       "{'DE_06303': 1825,\n",
       " 'DE_02718': 1825,\n",
       " 'DE_04313': 1825,\n",
       " 'DE_00390': 1825,\n",
       " 'DE_03215': 1309,\n",
       " 'DE_00389': 425,\n",
       " 'DE_06264': 1825,\n",
       " 'DE_01300': 1825,\n",
       " 'DE_04488': 1613,\n",
       " 'DE_00310': 1825}"
      ]
     },
     "execution_count": 22,
     "metadata": {},
     "output_type": "execute_result"
    }
   ],
   "source": [
    "neighbour_overlap_days = compute_overlap_days_from_target_id(\n",
    "    all_station_metadata, TARGET_STATION_ID\n",
    ")\n",
    "neighbour_overlap_days"
   ]
  },
  {
   "cell_type": "markdown",
   "id": "01ed8d5d",
   "metadata": {},
   "source": [
    "#### Subset based on 3 years"
   ]
  },
  {
   "cell_type": "code",
   "execution_count": 23,
   "id": "f13c19aa",
   "metadata": {
    "ExecuteTime": {
     "end_time": "2025-04-10T16:23:48.623514Z",
     "start_time": "2025-04-10T16:23:48.617575Z"
    }
   },
   "outputs": [
    {
     "data": {
      "text/html": [
       "<div><style>\n",
       ".dataframe > thead > tr,\n",
       ".dataframe > tbody > tr {\n",
       "  text-align: right;\n",
       "  white-space: pre-wrap;\n",
       "}\n",
       "</style>\n",
       "<small>shape: (10, 2)</small><table border=\"1\" class=\"dataframe\"><thead><tr><th>station_id</th><th>overlap_days</th></tr><tr><td>str</td><td>i64</td></tr></thead><tbody><tr><td>&quot;DE_06303&quot;</td><td>1825</td></tr><tr><td>&quot;DE_02718&quot;</td><td>1825</td></tr><tr><td>&quot;DE_04313&quot;</td><td>1825</td></tr><tr><td>&quot;DE_00390&quot;</td><td>1825</td></tr><tr><td>&quot;DE_03215&quot;</td><td>1309</td></tr><tr><td>&quot;DE_00389&quot;</td><td>425</td></tr><tr><td>&quot;DE_06264&quot;</td><td>1825</td></tr><tr><td>&quot;DE_01300&quot;</td><td>1825</td></tr><tr><td>&quot;DE_04488&quot;</td><td>1613</td></tr><tr><td>&quot;DE_00310&quot;</td><td>1825</td></tr></tbody></table></div>"
      ],
      "text/plain": [
       "shape: (10, 2)\n",
       "┌────────────┬──────────────┐\n",
       "│ station_id ┆ overlap_days │\n",
       "│ ---        ┆ ---          │\n",
       "│ str        ┆ i64          │\n",
       "╞════════════╪══════════════╡\n",
       "│ DE_06303   ┆ 1825         │\n",
       "│ DE_02718   ┆ 1825         │\n",
       "│ DE_04313   ┆ 1825         │\n",
       "│ DE_00390   ┆ 1825         │\n",
       "│ DE_03215   ┆ 1309         │\n",
       "│ DE_00389   ┆ 425          │\n",
       "│ DE_06264   ┆ 1825         │\n",
       "│ DE_01300   ┆ 1825         │\n",
       "│ DE_04488   ┆ 1613         │\n",
       "│ DE_00310   ┆ 1825         │\n",
       "└────────────┴──────────────┘"
      ]
     },
     "execution_count": 23,
     "metadata": {},
     "output_type": "execute_result"
    }
   ],
   "source": [
    "neighbour_overlap_days_df = pl.DataFrame(\n",
    "    {\n",
    "        \"station_id\": neighbour_overlap_days.keys(),\n",
    "        \"overlap_days\": neighbour_overlap_days.values(),\n",
    "    }\n",
    ")\n",
    "neighbour_overlap_days_df"
   ]
  },
  {
   "cell_type": "code",
   "execution_count": 24,
   "id": "e506ef05",
   "metadata": {
    "ExecuteTime": {
     "end_time": "2025-04-10T16:23:48.778577Z",
     "start_time": "2025-04-10T16:23:48.770117Z"
    }
   },
   "outputs": [
    {
     "data": {
      "text/html": [
       "<div><style>\n",
       ".dataframe > thead > tr,\n",
       ".dataframe > tbody > tr {\n",
       "  text-align: right;\n",
       "  white-space: pre-wrap;\n",
       "}\n",
       "</style>\n",
       "<small>shape: (9, 2)</small><table border=\"1\" class=\"dataframe\"><thead><tr><th>station_id</th><th>overlap_days</th></tr><tr><td>str</td><td>i64</td></tr></thead><tbody><tr><td>&quot;DE_06303&quot;</td><td>1825</td></tr><tr><td>&quot;DE_02718&quot;</td><td>1825</td></tr><tr><td>&quot;DE_04313&quot;</td><td>1825</td></tr><tr><td>&quot;DE_00390&quot;</td><td>1825</td></tr><tr><td>&quot;DE_03215&quot;</td><td>1309</td></tr><tr><td>&quot;DE_06264&quot;</td><td>1825</td></tr><tr><td>&quot;DE_01300&quot;</td><td>1825</td></tr><tr><td>&quot;DE_04488&quot;</td><td>1613</td></tr><tr><td>&quot;DE_00310&quot;</td><td>1825</td></tr></tbody></table></div>"
      ],
      "text/plain": [
       "shape: (9, 2)\n",
       "┌────────────┬──────────────┐\n",
       "│ station_id ┆ overlap_days │\n",
       "│ ---        ┆ ---          │\n",
       "│ str        ┆ i64          │\n",
       "╞════════════╪══════════════╡\n",
       "│ DE_06303   ┆ 1825         │\n",
       "│ DE_02718   ┆ 1825         │\n",
       "│ DE_04313   ┆ 1825         │\n",
       "│ DE_00390   ┆ 1825         │\n",
       "│ DE_03215   ┆ 1309         │\n",
       "│ DE_06264   ┆ 1825         │\n",
       "│ DE_01300   ┆ 1825         │\n",
       "│ DE_04488   ┆ 1613         │\n",
       "│ DE_00310   ┆ 1825         │\n",
       "└────────────┴──────────────┘"
      ]
     },
     "execution_count": 24,
     "metadata": {},
     "output_type": "execute_result"
    }
   ],
   "source": [
    "neighbour_overlap_days_df.filter(pl.col(\"overlap_days\") >= OVERLAP_THRESHOLD)"
   ]
  },
  {
   "cell_type": "markdown",
   "id": "9f159f4d",
   "metadata": {},
   "source": [
    "## Part 4. Bring together to get neighbours both close and overlapping"
   ]
  },
  {
   "cell_type": "code",
   "execution_count": 25,
   "id": "8d2d7eaf",
   "metadata": {
    "ExecuteTime": {
     "end_time": "2025-04-10T16:23:48.914481Z",
     "start_time": "2025-04-10T16:23:48.907197Z"
    }
   },
   "outputs": [],
   "source": [
    "num_closest_gauges = 10  ## based on IntenseQC"
   ]
  },
  {
   "cell_type": "code",
   "execution_count": 26,
   "id": "a0e7071a",
   "metadata": {
    "ExecuteTime": {
     "end_time": "2025-04-10T16:23:49.151108Z",
     "start_time": "2025-04-10T16:23:49.139863Z"
    }
   },
   "outputs": [],
   "source": [
    "## Subset based on 50 km\n",
    "close_neighbour_ids = neighbours_distances_df.filter(\n",
    "    (pl.col(\"distances\") <= DISTANCE_THRESHOLD) & (pl.col(\"distances\") != 0)\n",
    ")\n",
    "## closest 10 values\n",
    "closest_neighbour_ids = close_neighbour_ids.sort(\"distances\")[:num_closest_gauges][\n",
    "    \"station_id\"\n",
    "].to_list()\n",
    "\n",
    "## Subset based on 3 years\n",
    "overlapping_neighbour_ids = neighbour_overlap_days_df.filter(\n",
    "    pl.col(\"overlap_days\") >= OVERLAP_THRESHOLD\n",
    ")[\"station_id\"].to_list()"
   ]
  },
  {
   "cell_type": "code",
   "execution_count": 27,
   "id": "e1517bff",
   "metadata": {
    "ExecuteTime": {
     "end_time": "2025-04-10T16:23:49.253880Z",
     "start_time": "2025-04-10T16:23:49.238166Z"
    }
   },
   "outputs": [
    {
     "data": {
      "text/plain": [
       "{'DE_00310',\n",
       " 'DE_00390',\n",
       " 'DE_01300',\n",
       " 'DE_02718',\n",
       " 'DE_03215',\n",
       " 'DE_04313',\n",
       " 'DE_04488',\n",
       " 'DE_06264',\n",
       " 'DE_06303'}"
      ]
     },
     "execution_count": 27,
     "metadata": {},
     "output_type": "execute_result"
    }
   ],
   "source": [
    "all_neighbour_ids = set(overlapping_neighbour_ids).intersection(\n",
    "    set(closest_neighbour_ids)\n",
    ")\n",
    "all_neighbour_ids"
   ]
  },
  {
   "cell_type": "code",
   "execution_count": 28,
   "id": "9482e133",
   "metadata": {
    "ExecuteTime": {
     "end_time": "2025-04-10T16:23:49.357650Z",
     "start_time": "2025-04-10T16:23:49.347454Z"
    }
   },
   "outputs": [],
   "source": [
    "all_neighbour_ids_paths = {}\n",
    "for id in all_neighbour_ids:\n",
    "    ids_path = glob.glob(f\"{GAUGE_DATA_PATH}/*{id}.txt\")\n",
    "    assert len(ids_path) == 1, f\"There are {len(ids_path)} data files for {id}\"\n",
    "    all_neighbour_ids_paths[id] = ids_path[0]"
   ]
  },
  {
   "cell_type": "code",
   "execution_count": 29,
   "id": "07ddf6ac",
   "metadata": {
    "ExecuteTime": {
     "end_time": "2025-04-10T16:23:49.468845Z",
     "start_time": "2025-04-10T16:23:49.463662Z"
    }
   },
   "outputs": [
    {
     "data": {
      "text/plain": [
       "{'DE_06264': '../data/gauge_data/DE_06264.txt',\n",
       " 'DE_00310': '../data/gauge_data/DE_00310.txt',\n",
       " 'DE_04488': '../data/gauge_data/DE_04488.txt',\n",
       " 'DE_04313': '../data/gauge_data/DE_04313.txt',\n",
       " 'DE_03215': '../data/gauge_data/DE_03215.txt',\n",
       " 'DE_02718': '../data/gauge_data/DE_02718.txt',\n",
       " 'DE_00390': '../data/gauge_data/DE_00390.txt',\n",
       " 'DE_01300': '../data/gauge_data/DE_01300.txt',\n",
       " 'DE_06303': '../data/gauge_data/DE_06303.txt'}"
      ]
     },
     "execution_count": 29,
     "metadata": {},
     "output_type": "execute_result"
    }
   ],
   "source": [
    "all_neighbour_ids_paths"
   ]
  },
  {
   "cell_type": "markdown",
   "id": "7fbabd29",
   "metadata": {},
   "source": [
    "## Part 5. Get neighbouring GDSR gauge by ID (an example)"
   ]
  },
  {
   "cell_type": "code",
   "execution_count": 30,
   "id": "363a4e5c",
   "metadata": {
    "ExecuteTime": {
     "end_time": "2025-04-10T16:23:49.608598Z",
     "start_time": "2025-04-10T16:23:49.596029Z"
    }
   },
   "outputs": [],
   "source": [
    "def get_neighbour_gauge_data(neighbour_gauge_id, time_multiplying_factor):\n",
    "    data_path = all_neighbour_ids_paths[neighbour_gauge_id]\n",
    "    station_metadata = all_station_metadata.filter(\n",
    "        pl.col(\"station_id\") == neighbour_gauge_id\n",
    "    )\n",
    "    assert (\n",
    "        len(station_metadata) == 1\n",
    "    ), f\"There are {len(station_metadata)} metadata values for {neighbour_gauge_id}. Investigate because there should only be one\"\n",
    "    station_metadata = station_metadata.to_dicts()[0]  ## convert df to a dict\n",
    "\n",
    "    ## Read in gauge data\n",
    "    units = station_metadata[UNIT_COL]\n",
    "    rain_col = f\"rain_{units}\"\n",
    "    gauge_data = pl.read_csv(\n",
    "        data_path, skip_rows=DATA_ROWS_TO_SKIP, schema_overrides={rain_col: pl.Float64}\n",
    "    )\n",
    "\n",
    "    ## make datetime column\n",
    "    gauge_data_w_dates = add_datetime_to_gauge_data(\n",
    "        station_metadata, gauge_data, time_multiplying_factor=time_multiplying_factor\n",
    "    )\n",
    "    gauge_data_w_dates = gauge_data_w_dates.select(\n",
    "        [\"time\", rain_col]\n",
    "    )  ## Reorder (to look nice)\n",
    "\n",
    "    return gauge_data_w_dates"
   ]
  },
  {
   "cell_type": "code",
   "execution_count": 31,
   "id": "46235227",
   "metadata": {
    "ExecuteTime": {
     "end_time": "2025-04-10T16:23:49.776810Z",
     "start_time": "2025-04-10T16:23:49.694144Z"
    }
   },
   "outputs": [
    {
     "data": {
      "text/html": [
       "<div><style>\n",
       ".dataframe > thead > tr,\n",
       ".dataframe > tbody > tr {\n",
       "  text-align: right;\n",
       "  white-space: pre-wrap;\n",
       "}\n",
       "</style>\n",
       "<small>shape: (43_824, 2)</small><table border=\"1\" class=\"dataframe\"><thead><tr><th>time</th><th>rain_mm</th></tr><tr><td>datetime[μs]</td><td>f64</td></tr></thead><tbody><tr><td>2006-01-01 00:00:00</td><td>0.0</td></tr><tr><td>2006-01-01 01:00:00</td><td>0.1</td></tr><tr><td>2006-01-01 02:00:00</td><td>0.0</td></tr><tr><td>2006-01-01 03:00:00</td><td>0.0</td></tr><tr><td>2006-01-01 04:00:00</td><td>0.0</td></tr><tr><td>&hellip;</td><td>&hellip;</td></tr><tr><td>2010-12-31 19:00:00</td><td>0.0</td></tr><tr><td>2010-12-31 20:00:00</td><td>0.0</td></tr><tr><td>2010-12-31 21:00:00</td><td>0.0</td></tr><tr><td>2010-12-31 22:00:00</td><td>0.0</td></tr><tr><td>2010-12-31 23:00:00</td><td>0.0</td></tr></tbody></table></div>"
      ],
      "text/plain": [
       "shape: (43_824, 2)\n",
       "┌─────────────────────┬─────────┐\n",
       "│ time                ┆ rain_mm │\n",
       "│ ---                 ┆ ---     │\n",
       "│ datetime[μs]        ┆ f64     │\n",
       "╞═════════════════════╪═════════╡\n",
       "│ 2006-01-01 00:00:00 ┆ 0.0     │\n",
       "│ 2006-01-01 01:00:00 ┆ 0.1     │\n",
       "│ 2006-01-01 02:00:00 ┆ 0.0     │\n",
       "│ 2006-01-01 03:00:00 ┆ 0.0     │\n",
       "│ 2006-01-01 04:00:00 ┆ 0.0     │\n",
       "│ …                   ┆ …       │\n",
       "│ 2010-12-31 19:00:00 ┆ 0.0     │\n",
       "│ 2010-12-31 20:00:00 ┆ 0.0     │\n",
       "│ 2010-12-31 21:00:00 ┆ 0.0     │\n",
       "│ 2010-12-31 22:00:00 ┆ 0.0     │\n",
       "│ 2010-12-31 23:00:00 ┆ 0.0     │\n",
       "└─────────────────────┴─────────┘"
      ]
     },
     "execution_count": 31,
     "metadata": {},
     "output_type": "execute_result"
    }
   ],
   "source": [
    "get_neighbour_gauge_data(\n",
    "    neighbour_gauge_id=\"DE_06264\", time_multiplying_factor=MULTIPLYING_FACTORS[\"hourly\"]\n",
    ")"
   ]
  },
  {
   "cell_type": "code",
   "execution_count": null,
   "id": "872c94c4",
   "metadata": {
    "ExecuteTime": {
     "end_time": "2025-04-10T16:23:49.868754Z",
     "start_time": "2025-04-10T16:23:49.866218Z"
    }
   },
   "outputs": [],
   "source": []
  },
  {
   "cell_type": "markdown",
   "id": "4feafe1e",
   "metadata": {},
   "source": [
    "## Part 6. Get neighbouring GPCC gauge by ID (an example)\n",
    "\n",
    "#### Note:\n",
    "In the original methodology, GPCC is extracted on the fly\n",
    "\n",
    "Hence, this needs to be refactored"
   ]
  },
  {
   "cell_type": "code",
   "execution_count": 32,
   "id": "f595c46a",
   "metadata": {
    "ExecuteTime": {
     "end_time": "2025-04-10T16:23:49.930196Z",
     "start_time": "2025-04-10T16:23:49.924292Z"
    }
   },
   "outputs": [],
   "source": [
    "existing_gpcc_daily_paths = {}\n",
    "existing_gpcc_monthly_paths = {}\n",
    "for neighbour_id in all_neighbour_ids_paths.keys():\n",
    "    gpcc_id = neighbour_id.split(\"DE_\")[1].lstrip(\"0\")\n",
    "    existing_gpcc_daily_paths[neighbour_id] = glob.glob(\n",
    "        f\"../data/GPCC/tw_{gpcc_id}.zip\"\n",
    "    )\n",
    "    existing_gpcc_monthly_paths[neighbour_id] = glob.glob(\n",
    "        f\"../data/GPCC/mw_{gpcc_id}.zip\"\n",
    "    )"
   ]
  },
  {
   "cell_type": "code",
   "execution_count": 33,
   "id": "3877bc6f",
   "metadata": {
    "ExecuteTime": {
     "end_time": "2025-04-10T16:23:50.004768Z",
     "start_time": "2025-04-10T16:23:49.988173Z"
    }
   },
   "outputs": [
    {
     "data": {
      "text/plain": [
       "{'DE_06264': [],\n",
       " 'DE_00310': ['../data/GPCC/tw_310.zip'],\n",
       " 'DE_04488': [],\n",
       " 'DE_04313': [],\n",
       " 'DE_03215': ['../data/GPCC/tw_3215.zip'],\n",
       " 'DE_02718': [],\n",
       " 'DE_00390': [],\n",
       " 'DE_01300': [],\n",
       " 'DE_06303': ['../data/GPCC/tw_6303.zip']}"
      ]
     },
     "execution_count": 33,
     "metadata": {},
     "output_type": "execute_result"
    }
   ],
   "source": [
    "existing_gpcc_daily_paths"
   ]
  },
  {
   "cell_type": "code",
   "execution_count": null,
   "id": "a895cdd944d57232",
   "metadata": {
    "ExecuteTime": {
     "end_time": "2025-04-10T16:23:50.129055Z",
     "start_time": "2025-04-10T16:23:50.122017Z"
    }
   },
   "outputs": [],
   "source": []
  },
  {
   "cell_type": "code",
   "execution_count": 34,
   "id": "07bd099b",
   "metadata": {
    "ExecuteTime": {
     "end_time": "2025-04-10T16:23:50.374200Z",
     "start_time": "2025-04-10T16:23:50.222478Z"
    }
   },
   "outputs": [
    {
     "data": {
      "text/html": [
       "<div><style>\n",
       ".dataframe > thead > tr,\n",
       ".dataframe > tbody > tr {\n",
       "  text-align: right;\n",
       "  white-space: pre-wrap;\n",
       "}\n",
       "</style>\n",
       "<small>shape: (24_822, 2)</small><table border=\"1\" class=\"dataframe\"><thead><tr><th>time</th><th>rain_mm</th></tr><tr><td>datetime[μs]</td><td>f64</td></tr></thead><tbody><tr><td>1951-01-01 07:00:00</td><td>5.2</td></tr><tr><td>1951-01-02 07:00:00</td><td>10.3</td></tr><tr><td>1951-01-03 07:00:00</td><td>0.0</td></tr><tr><td>1951-01-04 07:00:00</td><td>3.7</td></tr><tr><td>1951-01-05 07:00:00</td><td>3.5</td></tr><tr><td>&hellip;</td><td>&hellip;</td></tr><tr><td>2018-12-27 07:00:00</td><td>0.0</td></tr><tr><td>2018-12-28 07:00:00</td><td>0.2</td></tr><tr><td>2018-12-29 07:00:00</td><td>6.9</td></tr><tr><td>2018-12-30 07:00:00</td><td>0.9</td></tr><tr><td>2018-12-31 07:00:00</td><td>1.4</td></tr></tbody></table></div>"
      ],
      "text/plain": [
       "shape: (24_822, 2)\n",
       "┌─────────────────────┬─────────┐\n",
       "│ time                ┆ rain_mm │\n",
       "│ ---                 ┆ ---     │\n",
       "│ datetime[μs]        ┆ f64     │\n",
       "╞═════════════════════╪═════════╡\n",
       "│ 1951-01-01 07:00:00 ┆ 5.2     │\n",
       "│ 1951-01-02 07:00:00 ┆ 10.3    │\n",
       "│ 1951-01-03 07:00:00 ┆ 0.0     │\n",
       "│ 1951-01-04 07:00:00 ┆ 3.7     │\n",
       "│ 1951-01-05 07:00:00 ┆ 3.5     │\n",
       "│ …                   ┆ …       │\n",
       "│ 2018-12-27 07:00:00 ┆ 0.0     │\n",
       "│ 2018-12-28 07:00:00 ┆ 0.2     │\n",
       "│ 2018-12-29 07:00:00 ┆ 6.9     │\n",
       "│ 2018-12-30 07:00:00 ┆ 0.9     │\n",
       "│ 2018-12-31 07:00:00 ┆ 1.4     │\n",
       "└─────────────────────┴─────────┘"
      ]
     },
     "execution_count": 34,
     "metadata": {},
     "output_type": "execute_result"
    }
   ],
   "source": [
    "gpcc_id_to_use = \"DE_00310\"\n",
    "gpcc_id_name = gpcc_id_to_use.split(\"DE_\")[-1].lstrip(\"0\")  # like 6303\n",
    "example_dat_path = existing_gpcc_daily_paths[gpcc_id_to_use][0]\n",
    "f = zipfile.ZipFile(example_dat_path).open(f\"tw_{gpcc_id_name}.dat\")\n",
    "example_gpcc = pl.from_pandas(pd.read_csv(f, skiprows=1, header=None, sep=r\"\\s+\"))\n",
    "\n",
    "## drop unnecessary columns\n",
    "example_gpcc = example_gpcc.drop([str(i) for i in range(4, 16)])\n",
    "\n",
    "## make datetime column (apparently it's 7am-7pm)\n",
    "example_gpcc = example_gpcc.with_columns(\n",
    "    pl.datetime(pl.col(\"2\"), pl.col(\"1\"), pl.col(\"0\"), 7).alias(\"time\")\n",
    ").drop([\"0\", \"1\", \"2\"])\n",
    "\n",
    "## rename and reorder\n",
    "example_gpcc = example_gpcc.rename({\"3\": rain_col})\n",
    "example_gpcc = example_gpcc.select([\"time\", rain_col])  ## Reorder (to look nice)\n",
    "\n",
    "example_gpcc"
   ]
  },
  {
   "cell_type": "code",
   "execution_count": 35,
   "id": "9b3c019f",
   "metadata": {
    "ExecuteTime": {
     "end_time": "2025-04-10T16:23:50.433441Z",
     "start_time": "2025-04-10T16:23:50.423482Z"
    }
   },
   "outputs": [
    {
     "data": {
      "text/html": [
       "<div><style>\n",
       ".dataframe > thead > tr,\n",
       ".dataframe > tbody > tr {\n",
       "  text-align: right;\n",
       "  white-space: pre-wrap;\n",
       "}\n",
       "</style>\n",
       "<small>shape: (1_825, 2)</small><table border=\"1\" class=\"dataframe\"><thead><tr><th>time</th><th>rain_mm</th></tr><tr><td>datetime[μs]</td><td>f64</td></tr></thead><tbody><tr><td>2006-01-01 07:00:00</td><td>0.2</td></tr><tr><td>2006-01-02 07:00:00</td><td>0.0</td></tr><tr><td>2006-01-03 07:00:00</td><td>0.0</td></tr><tr><td>2006-01-04 07:00:00</td><td>0.0</td></tr><tr><td>2006-01-05 07:00:00</td><td>0.0</td></tr><tr><td>&hellip;</td><td>&hellip;</td></tr><tr><td>2010-12-26 07:00:00</td><td>0.2</td></tr><tr><td>2010-12-27 07:00:00</td><td>0.0</td></tr><tr><td>2010-12-28 07:00:00</td><td>0.0</td></tr><tr><td>2010-12-29 07:00:00</td><td>0.0</td></tr><tr><td>2010-12-30 07:00:00</td><td>0.0</td></tr></tbody></table></div>"
      ],
      "text/plain": [
       "shape: (1_825, 2)\n",
       "┌─────────────────────┬─────────┐\n",
       "│ time                ┆ rain_mm │\n",
       "│ ---                 ┆ ---     │\n",
       "│ datetime[μs]        ┆ f64     │\n",
       "╞═════════════════════╪═════════╡\n",
       "│ 2006-01-01 07:00:00 ┆ 0.2     │\n",
       "│ 2006-01-02 07:00:00 ┆ 0.0     │\n",
       "│ 2006-01-03 07:00:00 ┆ 0.0     │\n",
       "│ 2006-01-04 07:00:00 ┆ 0.0     │\n",
       "│ 2006-01-05 07:00:00 ┆ 0.0     │\n",
       "│ …                   ┆ …       │\n",
       "│ 2010-12-26 07:00:00 ┆ 0.2     │\n",
       "│ 2010-12-27 07:00:00 ┆ 0.0     │\n",
       "│ 2010-12-28 07:00:00 ┆ 0.0     │\n",
       "│ 2010-12-29 07:00:00 ┆ 0.0     │\n",
       "│ 2010-12-30 07:00:00 ┆ 0.0     │\n",
       "└─────────────────────┴─────────┘"
      ]
     },
     "execution_count": 35,
     "metadata": {},
     "output_type": "execute_result"
    }
   ],
   "source": [
    "## resample into daily (also round to 1 decimal place) TODO: check offset='7h' part\n",
    "target_gauge_daily = (\n",
    "    target_gauge.group_by_dynamic(\"time\", every=\"1d\", offset=\"7h\")\n",
    "    .agg(\n",
    "        [\n",
    "            pl.len().alias(\"n_hours\"),\n",
    "            pl.col(rain_col).mean().round(1).alias(rain_col),\n",
    "        ]\n",
    "    )\n",
    "    .filter(pl.col(\"n_hours\") == 24)\n",
    "    .drop(\"n_hours\")\n",
    ")  # Ensure at least 24 data points\n",
    "target_gauge_daily"
   ]
  },
  {
   "cell_type": "code",
   "execution_count": 36,
   "id": "1d71e3f2",
   "metadata": {
    "ExecuteTime": {
     "end_time": "2025-04-10T16:23:50.546250Z",
     "start_time": "2025-04-10T16:23:50.535931Z"
    }
   },
   "outputs": [
    {
     "data": {
      "text/html": [
       "<div><style>\n",
       ".dataframe > thead > tr,\n",
       ".dataframe > tbody > tr {\n",
       "  text-align: right;\n",
       "  white-space: pre-wrap;\n",
       "}\n",
       "</style>\n",
       "<small>shape: (5, 3)</small><table border=\"1\" class=\"dataframe\"><thead><tr><th>time</th><th>rain_mm</th><th>rain_mm_GPCC_310</th></tr><tr><td>datetime[μs]</td><td>f64</td><td>f64</td></tr></thead><tbody><tr><td>2006-01-01 07:00:00</td><td>0.2</td><td>0.2</td></tr><tr><td>2006-01-02 07:00:00</td><td>0.0</td><td>0.0</td></tr><tr><td>2006-01-03 07:00:00</td><td>0.0</td><td>0.0</td></tr><tr><td>2006-01-04 07:00:00</td><td>0.0</td><td>0.0</td></tr><tr><td>2006-01-05 07:00:00</td><td>0.0</td><td>0.0</td></tr></tbody></table></div>"
      ],
      "text/plain": [
       "shape: (5, 3)\n",
       "┌─────────────────────┬─────────┬──────────────────┐\n",
       "│ time                ┆ rain_mm ┆ rain_mm_GPCC_310 │\n",
       "│ ---                 ┆ ---     ┆ ---              │\n",
       "│ datetime[μs]        ┆ f64     ┆ f64              │\n",
       "╞═════════════════════╪═════════╪══════════════════╡\n",
       "│ 2006-01-01 07:00:00 ┆ 0.2     ┆ 0.2              │\n",
       "│ 2006-01-02 07:00:00 ┆ 0.0     ┆ 0.0              │\n",
       "│ 2006-01-03 07:00:00 ┆ 0.0     ┆ 0.0              │\n",
       "│ 2006-01-04 07:00:00 ┆ 0.0     ┆ 0.0              │\n",
       "│ 2006-01-05 07:00:00 ┆ 0.0     ┆ 0.0              │\n",
       "└─────────────────────┴─────────┴──────────────────┘"
      ]
     },
     "execution_count": 36,
     "metadata": {},
     "output_type": "execute_result"
    }
   ],
   "source": [
    "joined_gauges_gpcc = target_gauge_daily.join(\n",
    "    example_gpcc, on=\"time\", suffix=f\"_GPCC_{gpcc_id_name}\"\n",
    ")\n",
    "joined_gauges_gpcc = joined_gauges_gpcc.drop_nans()\n",
    "joined_gauges_gpcc.head()"
   ]
  },
  {
   "cell_type": "markdown",
   "id": "7aa02e4b",
   "metadata": {},
   "source": [
    "## Step 7 Compute factor, affinity index and correlation "
   ]
  },
  {
   "cell_type": "code",
   "execution_count": 37,
   "id": "0bcde4ad",
   "metadata": {
    "ExecuteTime": {
     "end_time": "2025-04-10T16:23:50.766545Z",
     "start_time": "2025-04-10T16:23:50.759357Z"
    }
   },
   "outputs": [
    {
     "name": "stdout",
     "output_type": "stream",
     "text": [
      "0.1 0.1 0.1\n"
     ]
    }
   ],
   "source": [
    "a = np.around(joined_gauges_gpcc.filter(pl.col(rain_col) >= 0.1).min()[rain_col], 1)[0]\n",
    "b = np.around(\n",
    "    joined_gauges_gpcc.filter(pl.col(f\"{rain_col}_GPCC_{gpcc_id_name}\") >= 0.1).min()[\n",
    "        f\"{rain_col}_GPCC_{gpcc_id_name}\"\n",
    "    ],\n",
    "    1,\n",
    ")[0]\n",
    "p = max(a, b, 0.1)\n",
    "print(a, b, p)"
   ]
  },
  {
   "cell_type": "code",
   "execution_count": 38,
   "id": "ad3a15da",
   "metadata": {
    "ExecuteTime": {
     "end_time": "2025-04-10T16:23:51.012773Z",
     "start_time": "2025-04-10T16:23:50.999449Z"
    }
   },
   "outputs": [
    {
     "data": {
      "text/html": [
       "<div><style>\n",
       ".dataframe > thead > tr,\n",
       ".dataframe > tbody > tr {\n",
       "  text-align: right;\n",
       "  white-space: pre-wrap;\n",
       "}\n",
       "</style>\n",
       "<small>shape: (1_760, 4)</small><table border=\"1\" class=\"dataframe\"><thead><tr><th>time</th><th>rain_mm</th><th>rain_mm_GPCC_310</th><th>factor</th></tr><tr><td>datetime[μs]</td><td>f64</td><td>f64</td><td>f64</td></tr></thead><tbody><tr><td>2006-01-01 07:00:00</td><td>0.2</td><td>0.2</td><td>1.0</td></tr><tr><td>2006-01-02 07:00:00</td><td>0.0</td><td>0.0</td><td>NaN</td></tr><tr><td>2006-01-03 07:00:00</td><td>0.0</td><td>0.0</td><td>NaN</td></tr><tr><td>2006-01-04 07:00:00</td><td>0.0</td><td>0.0</td><td>NaN</td></tr><tr><td>2006-01-05 07:00:00</td><td>0.0</td><td>0.0</td><td>NaN</td></tr><tr><td>&hellip;</td><td>&hellip;</td><td>&hellip;</td><td>&hellip;</td></tr><tr><td>2010-12-26 07:00:00</td><td>0.2</td><td>2.9</td><td>0.068966</td></tr><tr><td>2010-12-27 07:00:00</td><td>0.0</td><td>0.2</td><td>NaN</td></tr><tr><td>2010-12-28 07:00:00</td><td>0.0</td><td>0.0</td><td>NaN</td></tr><tr><td>2010-12-29 07:00:00</td><td>0.0</td><td>0.0</td><td>NaN</td></tr><tr><td>2010-12-30 07:00:00</td><td>0.0</td><td>0.0</td><td>NaN</td></tr></tbody></table></div>"
      ],
      "text/plain": [
       "shape: (1_760, 4)\n",
       "┌─────────────────────┬─────────┬──────────────────┬──────────┐\n",
       "│ time                ┆ rain_mm ┆ rain_mm_GPCC_310 ┆ factor   │\n",
       "│ ---                 ┆ ---     ┆ ---              ┆ ---      │\n",
       "│ datetime[μs]        ┆ f64     ┆ f64              ┆ f64      │\n",
       "╞═════════════════════╪═════════╪══════════════════╪══════════╡\n",
       "│ 2006-01-01 07:00:00 ┆ 0.2     ┆ 0.2              ┆ 1.0      │\n",
       "│ 2006-01-02 07:00:00 ┆ 0.0     ┆ 0.0              ┆ NaN      │\n",
       "│ 2006-01-03 07:00:00 ┆ 0.0     ┆ 0.0              ┆ NaN      │\n",
       "│ 2006-01-04 07:00:00 ┆ 0.0     ┆ 0.0              ┆ NaN      │\n",
       "│ 2006-01-05 07:00:00 ┆ 0.0     ┆ 0.0              ┆ NaN      │\n",
       "│ …                   ┆ …       ┆ …                ┆ …        │\n",
       "│ 2010-12-26 07:00:00 ┆ 0.2     ┆ 2.9              ┆ 0.068966 │\n",
       "│ 2010-12-27 07:00:00 ┆ 0.0     ┆ 0.2              ┆ NaN      │\n",
       "│ 2010-12-28 07:00:00 ┆ 0.0     ┆ 0.0              ┆ NaN      │\n",
       "│ 2010-12-29 07:00:00 ┆ 0.0     ┆ 0.0              ┆ NaN      │\n",
       "│ 2010-12-30 07:00:00 ┆ 0.0     ┆ 0.0              ┆ NaN      │\n",
       "└─────────────────────┴─────────┴──────────────────┴──────────┘"
      ]
     },
     "execution_count": 38,
     "metadata": {},
     "output_type": "execute_result"
    }
   ],
   "source": [
    "joined_gauges_gpcc_duplicates = joined_gauges_gpcc.with_columns(\n",
    "    pl.when((pl.col(rain_col) > p) & (pl.col(f\"{rain_col}_GPCC_{gpcc_id_name}\") > p))\n",
    "    .then(1)\n",
    "    .when(\n",
    "        (pl.col(rain_col) == p) & (pl.col(f\"{rain_col}_GPCC_{gpcc_id_name}\") == p),\n",
    "    )\n",
    "    .then(1)\n",
    "    .when(\n",
    "        (pl.col(rain_col) == p) & (pl.col(f\"{rain_col}_GPCC_{gpcc_id_name}\") > p),\n",
    "    )\n",
    "    .then(0)\n",
    "    .when((pl.col(rain_col) > p) & (pl.col(f\"{rain_col}_GPCC_{gpcc_id_name}\") == p))\n",
    "    .then(0)\n",
    "    .otherwise(np.nan)\n",
    "    .alias(\"duplicate\")\n",
    ")\n",
    "\n",
    "joined_gauges_gpcc = joined_gauges_gpcc.with_columns(\n",
    "    pl.when((pl.col(rain_col) > 0) & (pl.col(f\"{rain_col}_GPCC_{gpcc_id_name}\") > 0))\n",
    "    .then(pl.col(rain_col) / pl.col(f\"{rain_col}_GPCC_{gpcc_id_name}\"))\n",
    "    .otherwise(np.nan)\n",
    "    .alias(\"factor\")\n",
    ")\n",
    "joined_gauges_gpcc"
   ]
  },
  {
   "cell_type": "code",
   "execution_count": 39,
   "id": "3b238361",
   "metadata": {
    "ExecuteTime": {
     "end_time": "2025-04-10T16:23:51.268468Z",
     "start_time": "2025-04-10T16:23:51.260469Z"
    }
   },
   "outputs": [
    {
     "name": "stdout",
     "output_type": "stream",
     "text": [
      "diff: 157, match:540\n",
      "affinity: 0.7747489239598279, p_corr: 0.011471497096547798, f_mean: 0.17114986225908063\n"
     ]
    }
   ],
   "source": [
    "match = (\n",
    "    joined_gauges_gpcc_duplicates[\"duplicate\"]\n",
    "    .value_counts()\n",
    "    .filter(pl.col(\"duplicate\") == 1)[\"count\"]\n",
    "    .item()\n",
    ")\n",
    "diff = (\n",
    "    joined_gauges_gpcc_duplicates[\"duplicate\"]\n",
    "    .value_counts()\n",
    "    .filter(pl.col(\"duplicate\") == 0)[\"count\"]\n",
    "    .item()\n",
    ")\n",
    "perc = match / (match + diff)\n",
    "p_corr = np.corrcoef(\n",
    "    joined_gauges_gpcc[rain_col], joined_gauges_gpcc[f\"{rain_col}_GPCC_{gpcc_id_name}\"]\n",
    ")[0, 1]\n",
    "f_mean = joined_gauges_gpcc[\"factor\"].drop_nans().mean()\n",
    "print(f\"diff: {diff}, match:{match}\")\n",
    "print(f\"affinity: {perc}, p_corr: {p_corr}, f_mean: {f_mean}\")"
   ]
  },
  {
   "cell_type": "markdown",
   "id": "e6a201cf",
   "metadata": {},
   "source": [
    "## Part 8 Compare target with neighbour (hourly and daily)\n",
    "- For hourly data, the data is first converted to daily to do comparison\n",
    "\n",
    "_Output:_ df with long list of neighbour columns and flags\n",
    "\n",
    "Works by computing differences from target and each of its neighbours then collates all those differences and associated difference flags into a single flag/column that describes how similar target is from neighbours\n"
   ]
  },
  {
   "cell_type": "code",
   "execution_count": 40,
   "id": "c2ced7cf",
   "metadata": {
    "ExecuteTime": {
     "end_time": "2025-04-10T16:23:51.373011Z",
     "start_time": "2025-04-10T16:23:51.361444Z"
    }
   },
   "outputs": [],
   "source": [
    "gpcc_id_to_use = \"DE_00310\"\n",
    "gpcc_id_name = gpcc_id_to_use.split(\"DE_\")[-1].lstrip(\"0\")  # like 6303"
   ]
  },
  {
   "cell_type": "code",
   "execution_count": 41,
   "id": "3fead6b3",
   "metadata": {
    "ExecuteTime": {
     "end_time": "2025-04-10T16:23:51.469398Z",
     "start_time": "2025-04-10T16:23:51.458204Z"
    }
   },
   "outputs": [
    {
     "data": {
      "text/html": [
       "<div><style>\n",
       ".dataframe > thead > tr,\n",
       ".dataframe > tbody > tr {\n",
       "  text-align: right;\n",
       "  white-space: pre-wrap;\n",
       "}\n",
       "</style>\n",
       "<small>shape: (5, 3)</small><table border=\"1\" class=\"dataframe\"><thead><tr><th>time</th><th>rain_mm</th><th>rain_mm_GPCC_310</th></tr><tr><td>datetime[μs]</td><td>f64</td><td>f64</td></tr></thead><tbody><tr><td>2006-01-01 07:00:00</td><td>0.2</td><td>0.2</td></tr><tr><td>2006-01-02 07:00:00</td><td>0.0</td><td>0.0</td></tr><tr><td>2006-01-03 07:00:00</td><td>0.0</td><td>0.0</td></tr><tr><td>2006-01-04 07:00:00</td><td>0.0</td><td>0.0</td></tr><tr><td>2006-01-05 07:00:00</td><td>0.0</td><td>0.0</td></tr></tbody></table></div>"
      ],
      "text/plain": [
       "shape: (5, 3)\n",
       "┌─────────────────────┬─────────┬──────────────────┐\n",
       "│ time                ┆ rain_mm ┆ rain_mm_GPCC_310 │\n",
       "│ ---                 ┆ ---     ┆ ---              │\n",
       "│ datetime[μs]        ┆ f64     ┆ f64              │\n",
       "╞═════════════════════╪═════════╪══════════════════╡\n",
       "│ 2006-01-01 07:00:00 ┆ 0.2     ┆ 0.2              │\n",
       "│ 2006-01-02 07:00:00 ┆ 0.0     ┆ 0.0              │\n",
       "│ 2006-01-03 07:00:00 ┆ 0.0     ┆ 0.0              │\n",
       "│ 2006-01-04 07:00:00 ┆ 0.0     ┆ 0.0              │\n",
       "│ 2006-01-05 07:00:00 ┆ 0.0     ┆ 0.0              │\n",
       "└─────────────────────┴─────────┴──────────────────┘"
      ]
     },
     "execution_count": 41,
     "metadata": {},
     "output_type": "execute_result"
    }
   ],
   "source": [
    "joined_gauges_gpcc = target_gauge_daily.join(\n",
    "    example_gpcc, on=\"time\", suffix=f\"_GPCC_{gpcc_id_name}\"\n",
    ")\n",
    "joined_gauges_gpcc = joined_gauges_gpcc.drop_nans()\n",
    "joined_gauges_gpcc.head()"
   ]
  },
  {
   "cell_type": "markdown",
   "id": "46ac9d9c",
   "metadata": {},
   "source": [
    "## Part 8.1 Wet neighbours\n",
    "- This is normalised difference\n",
    "TODO: Problem that there is not enough data which is wetter in the target than in the GPCC neighbour"
   ]
  },
  {
   "cell_type": "code",
   "execution_count": 42,
   "id": "0d887356",
   "metadata": {
    "ExecuteTime": {
     "end_time": "2025-04-10T16:23:51.571423Z",
     "start_time": "2025-04-10T16:23:51.567891Z"
    }
   },
   "outputs": [],
   "source": [
    "def normalise_data(data):\n",
    "    return (data - data.min()) / (data.max() - data.min())"
   ]
  },
  {
   "cell_type": "code",
   "execution_count": 43,
   "id": "8d4625ff",
   "metadata": {
    "ExecuteTime": {
     "end_time": "2025-04-10T16:23:51.674275Z",
     "start_time": "2025-04-10T16:23:51.667121Z"
    }
   },
   "outputs": [],
   "source": [
    "joined_gauges_gpcc_normalised_diff = joined_gauges_gpcc.with_columns(\n",
    "    # get normalised difference between target and neighbour\n",
    "    rain_mm_normalised_diff=normalise_data(pl.col(f\"{rain_col}\"))\n",
    "    - normalise_data(pl.col(f\"{rain_col}_GPCC_{gpcc_id_name}\"))\n",
    ")"
   ]
  },
  {
   "cell_type": "code",
   "execution_count": 44,
   "id": "bcf88685",
   "metadata": {
    "ExecuteTime": {
     "end_time": "2025-04-10T16:23:51.809396Z",
     "start_time": "2025-04-10T16:23:51.794102Z"
    }
   },
   "outputs": [],
   "source": [
    "WET_THRESHOLD = 0.3  # default in original methodology is 1\n",
    "joined_gauges_gpcc_normalised_diff_filtered = joined_gauges_gpcc_normalised_diff.filter(\n",
    "    (pl.col(f\"{rain_col}\") >= WET_THRESHOLD)\n",
    "    & (pl.col(f\"{rain_col}\").is_finite())\n",
    "    & (pl.col(f\"{rain_col}_GPCC_{gpcc_id_name}\").is_finite())\n",
    "    & (pl.col(f\"{rain_col}_normalised_diff\") > 0.0)\n",
    ")"
   ]
  },
  {
   "cell_type": "code",
   "execution_count": 45,
   "id": "0611abff",
   "metadata": {
    "ExecuteTime": {
     "end_time": "2025-04-10T16:23:51.954627Z",
     "start_time": "2025-04-10T16:23:51.938721Z"
    }
   },
   "outputs": [
    {
     "data": {
      "text/html": [
       "<div><style>\n",
       ".dataframe > thead > tr,\n",
       ".dataframe > tbody > tr {\n",
       "  text-align: right;\n",
       "  white-space: pre-wrap;\n",
       "}\n",
       "</style>\n",
       "<small>shape: (18, 4)</small><table border=\"1\" class=\"dataframe\"><thead><tr><th>time</th><th>rain_mm</th><th>rain_mm_GPCC_310</th><th>rain_mm_normalised_diff</th></tr><tr><td>datetime[μs]</td><td>f64</td><td>f64</td><td>f64</td></tr></thead><tbody><tr><td>2006-04-25 07:00:00</td><td>0.3</td><td>0.0</td><td>0.000941</td></tr><tr><td>2006-05-13 07:00:00</td><td>0.3</td><td>0.0</td><td>0.000941</td></tr><tr><td>2006-12-23 07:00:00</td><td>112.5</td><td>0.0</td><td>0.352886</td></tr><tr><td>2006-12-24 07:00:00</td><td>318.8</td><td>0.0</td><td>1.0</td></tr><tr><td>2007-03-16 07:00:00</td><td>3.1</td><td>0.0</td><td>0.009724</td></tr><tr><td>&hellip;</td><td>&hellip;</td><td>&hellip;</td><td>&hellip;</td></tr><tr><td>2009-11-06 07:00:00</td><td>9.8</td><td>0.9</td><td>0.015486</td></tr><tr><td>2009-11-18 07:00:00</td><td>1.2</td><td>0.0</td><td>0.003764</td></tr><tr><td>2009-11-19 07:00:00</td><td>0.8</td><td>0.0</td><td>0.002509</td></tr><tr><td>2010-08-09 07:00:00</td><td>1.3</td><td>0.0</td><td>0.004078</td></tr><tr><td>2010-08-13 07:00:00</td><td>0.8</td><td>0.0</td><td>0.002509</td></tr></tbody></table></div>"
      ],
      "text/plain": [
       "shape: (18, 4)\n",
       "┌─────────────────────┬─────────┬──────────────────┬─────────────────────────┐\n",
       "│ time                ┆ rain_mm ┆ rain_mm_GPCC_310 ┆ rain_mm_normalised_diff │\n",
       "│ ---                 ┆ ---     ┆ ---              ┆ ---                     │\n",
       "│ datetime[μs]        ┆ f64     ┆ f64              ┆ f64                     │\n",
       "╞═════════════════════╪═════════╪══════════════════╪═════════════════════════╡\n",
       "│ 2006-04-25 07:00:00 ┆ 0.3     ┆ 0.0              ┆ 0.000941                │\n",
       "│ 2006-05-13 07:00:00 ┆ 0.3     ┆ 0.0              ┆ 0.000941                │\n",
       "│ 2006-12-23 07:00:00 ┆ 112.5   ┆ 0.0              ┆ 0.352886                │\n",
       "│ 2006-12-24 07:00:00 ┆ 318.8   ┆ 0.0              ┆ 1.0                     │\n",
       "│ 2007-03-16 07:00:00 ┆ 3.1     ┆ 0.0              ┆ 0.009724                │\n",
       "│ …                   ┆ …       ┆ …                ┆ …                       │\n",
       "│ 2009-11-06 07:00:00 ┆ 9.8     ┆ 0.9              ┆ 0.015486                │\n",
       "│ 2009-11-18 07:00:00 ┆ 1.2     ┆ 0.0              ┆ 0.003764                │\n",
       "│ 2009-11-19 07:00:00 ┆ 0.8     ┆ 0.0              ┆ 0.002509                │\n",
       "│ 2010-08-09 07:00:00 ┆ 1.3     ┆ 0.0              ┆ 0.004078                │\n",
       "│ 2010-08-13 07:00:00 ┆ 0.8     ┆ 0.0              ┆ 0.002509                │\n",
       "└─────────────────────┴─────────┴──────────────────┴─────────────────────────┘"
      ]
     },
     "execution_count": 45,
     "metadata": {},
     "output_type": "execute_result"
    }
   ],
   "source": [
    "joined_gauges_gpcc_normalised_diff_filtered"
   ]
  },
  {
   "cell_type": "code",
   "execution_count": 46,
   "id": "757b30d3",
   "metadata": {
    "ExecuteTime": {
     "end_time": "2025-04-10T16:23:52.087182Z",
     "start_time": "2025-04-10T16:23:52.079038Z"
    }
   },
   "outputs": [
    {
     "name": "stdout",
     "output_type": "stream",
     "text": [
      "Original methodology needs there to be at least 30 values to fit exponential function\n"
     ]
    }
   ],
   "source": [
    "if not len(joined_gauges_gpcc_normalised_diff_filtered) >= 30:\n",
    "    print(\n",
    "        \"Original methodology needs there to be at least 30 values to fit exponential function\"\n",
    "    )"
   ]
  },
  {
   "cell_type": "code",
   "execution_count": 47,
   "id": "fae4decf",
   "metadata": {
    "ExecuteTime": {
     "end_time": "2025-04-10T16:23:52.123054Z",
     "start_time": "2025-04-10T16:23:52.119209Z"
    }
   },
   "outputs": [],
   "source": [
    "expon_params = scipy.stats.expon.fit(\n",
    "    joined_gauges_gpcc_normalised_diff_filtered[f\"{rain_col}_normalised_diff\"]\n",
    ")"
   ]
  },
  {
   "cell_type": "code",
   "execution_count": 48,
   "id": "e1e547b7",
   "metadata": {
    "ExecuteTime": {
     "end_time": "2025-04-10T16:23:52.239018Z",
     "start_time": "2025-04-10T16:23:52.228392Z"
    }
   },
   "outputs": [
    {
     "data": {
      "text/plain": [
       "(np.float64(0.3444910378117832),\n",
       " np.float64(0.5294660929815043),\n",
       " np.float64(0.7941055682411567))"
      ]
     },
     "execution_count": 48,
     "metadata": {},
     "output_type": "execute_result"
    }
   ],
   "source": [
    "# Calculate thresholds at key percentiles of fitted distribution\n",
    "q95 = scipy.stats.expon.ppf(0.95, expon_params[0], expon_params[1])\n",
    "q99 = scipy.stats.expon.ppf(0.99, expon_params[0], expon_params[1])\n",
    "q999 = scipy.stats.expon.ppf(0.999, expon_params[0], expon_params[1])\n",
    "\n",
    "q95, q99, q999"
   ]
  },
  {
   "cell_type": "code",
   "execution_count": 49,
   "id": "6ce769f6",
   "metadata": {
    "ExecuteTime": {
     "end_time": "2025-04-10T16:23:52.377571Z",
     "start_time": "2025-04-10T16:23:52.358422Z"
    }
   },
   "outputs": [],
   "source": [
    "## Assign flags\n",
    "joined_gauges_gpcc_normalised_wet_flags = (\n",
    "    joined_gauges_gpcc_normalised_diff.with_columns(\n",
    "        pl.when(\n",
    "            (pl.col(rain_col) >= 1.0) & (pl.col(f\"{rain_col}_normalised_diff\") <= q95)\n",
    "        )\n",
    "        .then(0)\n",
    "        .when(\n",
    "            (pl.col(rain_col) >= 1.0)\n",
    "            & (pl.col(f\"{rain_col}_normalised_diff\") > q95)\n",
    "            & (pl.col(f\"{rain_col}_normalised_diff\") <= q99),\n",
    "        )\n",
    "        .then(1)\n",
    "        .when(\n",
    "            (pl.col(rain_col) >= 1.0)\n",
    "            & (pl.col(f\"{rain_col}_normalised_diff\") > q99)\n",
    "            & (pl.col(f\"{rain_col}_normalised_diff\") <= q999),\n",
    "        )\n",
    "        .then(2)\n",
    "        .when((pl.col(rain_col) >= 1.0) & (pl.col(f\"{rain_col}_normalised_diff\") > q95))\n",
    "        .then(3)\n",
    "        .otherwise(0)\n",
    "        .alias(\"wet_flags\")\n",
    "    )\n",
    ")"
   ]
  },
  {
   "cell_type": "code",
   "execution_count": 50,
   "id": "12c34376",
   "metadata": {
    "ExecuteTime": {
     "end_time": "2025-04-10T16:23:52.463379Z",
     "start_time": "2025-04-10T16:23:52.445859Z"
    }
   },
   "outputs": [
    {
     "data": {
      "text/html": [
       "<div><style>\n",
       ".dataframe > thead > tr,\n",
       ".dataframe > tbody > tr {\n",
       "  text-align: right;\n",
       "  white-space: pre-wrap;\n",
       "}\n",
       "</style>\n",
       "<small>shape: (4, 2)</small><table border=\"1\" class=\"dataframe\"><thead><tr><th>wet_flags</th><th>count</th></tr><tr><td>i32</td><td>u32</td></tr></thead><tbody><tr><td>3</td><td>1</td></tr><tr><td>2</td><td>1</td></tr><tr><td>1</td><td>1</td></tr><tr><td>0</td><td>1757</td></tr></tbody></table></div>"
      ],
      "text/plain": [
       "shape: (4, 2)\n",
       "┌───────────┬───────┐\n",
       "│ wet_flags ┆ count │\n",
       "│ ---       ┆ ---   │\n",
       "│ i32       ┆ u32   │\n",
       "╞═══════════╪═══════╡\n",
       "│ 3         ┆ 1     │\n",
       "│ 2         ┆ 1     │\n",
       "│ 1         ┆ 1     │\n",
       "│ 0         ┆ 1757  │\n",
       "└───────────┴───────┘"
      ]
     },
     "execution_count": 50,
     "metadata": {},
     "output_type": "execute_result"
    }
   ],
   "source": [
    "joined_gauges_gpcc_normalised_wet_flags[\"wet_flags\"].value_counts()"
   ]
  },
  {
   "cell_type": "markdown",
   "id": "776dea03",
   "metadata": {},
   "source": [
    "## Part 8.2 Dry"
   ]
  },
  {
   "cell_type": "code",
   "execution_count": 51,
   "id": "9006e520",
   "metadata": {
    "ExecuteTime": {
     "end_time": "2025-04-10T16:23:52.602687Z",
     "start_time": "2025-04-10T16:23:52.598164Z"
    }
   },
   "outputs": [],
   "source": [
    "DRY_PERIOD_DAYS = 15\n",
    "gpcc_col_name = f\"{rain_col}_GPCC_{gpcc_id_name}\""
   ]
  },
  {
   "cell_type": "code",
   "execution_count": 52,
   "id": "b20a14dc",
   "metadata": {
    "ExecuteTime": {
     "end_time": "2025-04-10T16:23:52.714353Z",
     "start_time": "2025-04-10T16:23:52.706924Z"
    }
   },
   "outputs": [
    {
     "data": {
      "text/html": [
       "<div><style>\n",
       ".dataframe > thead > tr,\n",
       ".dataframe > tbody > tr {\n",
       "  text-align: right;\n",
       "  white-space: pre-wrap;\n",
       "}\n",
       "</style>\n",
       "<small>shape: (5, 4)</small><table border=\"1\" class=\"dataframe\"><thead><tr><th>time</th><th>rain_mm</th><th>rain_mm_GPCC_310</th><th>rain_mm_normalised_diff</th></tr><tr><td>datetime[μs]</td><td>f64</td><td>f64</td><td>f64</td></tr></thead><tbody><tr><td>2006-01-01 07:00:00</td><td>0.2</td><td>0.2</td><td>-0.002762</td></tr><tr><td>2006-01-02 07:00:00</td><td>0.0</td><td>0.0</td><td>0.0</td></tr><tr><td>2006-01-03 07:00:00</td><td>0.0</td><td>0.0</td><td>0.0</td></tr><tr><td>2006-01-04 07:00:00</td><td>0.0</td><td>0.0</td><td>0.0</td></tr><tr><td>2006-01-05 07:00:00</td><td>0.0</td><td>0.0</td><td>0.0</td></tr></tbody></table></div>"
      ],
      "text/plain": [
       "shape: (5, 4)\n",
       "┌─────────────────────┬─────────┬──────────────────┬─────────────────────────┐\n",
       "│ time                ┆ rain_mm ┆ rain_mm_GPCC_310 ┆ rain_mm_normalised_diff │\n",
       "│ ---                 ┆ ---     ┆ ---              ┆ ---                     │\n",
       "│ datetime[μs]        ┆ f64     ┆ f64              ┆ f64                     │\n",
       "╞═════════════════════╪═════════╪══════════════════╪═════════════════════════╡\n",
       "│ 2006-01-01 07:00:00 ┆ 0.2     ┆ 0.2              ┆ -0.002762               │\n",
       "│ 2006-01-02 07:00:00 ┆ 0.0     ┆ 0.0              ┆ 0.0                     │\n",
       "│ 2006-01-03 07:00:00 ┆ 0.0     ┆ 0.0              ┆ 0.0                     │\n",
       "│ 2006-01-04 07:00:00 ┆ 0.0     ┆ 0.0              ┆ 0.0                     │\n",
       "│ 2006-01-05 07:00:00 ┆ 0.0     ┆ 0.0              ┆ 0.0                     │\n",
       "└─────────────────────┴─────────┴──────────────────┴─────────────────────────┘"
      ]
     },
     "execution_count": 52,
     "metadata": {},
     "output_type": "execute_result"
    }
   ],
   "source": [
    "joined_gauges_gpcc_normalised_diff.head()"
   ]
  },
  {
   "cell_type": "code",
   "execution_count": 53,
   "id": "90156273",
   "metadata": {
    "ExecuteTime": {
     "end_time": "2025-04-10T16:23:52.810325Z",
     "start_time": "2025-04-10T16:23:52.796197Z"
    }
   },
   "outputs": [],
   "source": [
    "## TODO: This might use preexisting code, as this code is essentially looking for dry periods\n",
    "def convert_to_dry_spell(rain_daily, dry_period_days, col_name):\n",
    "    ## Convert to polars dataframe to use 'with_columns'\n",
    "    if not isinstance(rain_daily, pl.DataFrame):\n",
    "        rain_daily = rain_daily.to_frame()\n",
    "\n",
    "    ## make dry day column\n",
    "    rain_daily_dry_day = add_dry_day_col(rain_daily, col_name)\n",
    "    rain_daily_dry_day = rain_daily_dry_day.with_columns(\n",
    "        dry_spell_fraction=pl.col(\"dry_day\").rolling_sum(\n",
    "            window_size=dry_period_days, min_samples=dry_period_days\n",
    "        )\n",
    "        / dry_period_days\n",
    "    )\n",
    "    return rain_daily_dry_day[\"dry_spell_fraction\"]\n",
    "\n",
    "\n",
    "def add_dry_day_col(rain_daily, col_name):\n",
    "    rain_daily_dry_day = rain_daily.with_columns(\n",
    "        (pl.col(col_name) == 0).cast(pl.Int8()).alias(\"dry_day\")\n",
    "    )\n",
    "    return rain_daily_dry_day"
   ]
  },
  {
   "cell_type": "code",
   "execution_count": 54,
   "id": "cd44faf3",
   "metadata": {
    "ExecuteTime": {
     "end_time": "2025-04-10T16:23:53.052371Z",
     "start_time": "2025-04-10T16:23:53.040053Z"
    }
   },
   "outputs": [],
   "source": [
    "joined_gauges_gpcc_normalised_diff_dry_spell = (\n",
    "    joined_gauges_gpcc_normalised_diff.with_columns(\n",
    "        pl.col(rain_col)\n",
    "        .map_batches(\n",
    "            lambda row: convert_to_dry_spell(row, DRY_PERIOD_DAYS, col_name=rain_col)\n",
    "        )\n",
    "        .alias(\"dry_spell_fraction\"),\n",
    "        pl.col(gpcc_col_name)\n",
    "        .map_batches(\n",
    "            lambda row: convert_to_dry_spell(\n",
    "                row, DRY_PERIOD_DAYS, col_name=gpcc_col_name\n",
    "            )\n",
    "        )\n",
    "        .alias(f\"dry_spell_fraction_{gpcc_id}\"),\n",
    "    )\n",
    ")"
   ]
  },
  {
   "cell_type": "code",
   "execution_count": 55,
   "id": "7afd661d",
   "metadata": {
    "ExecuteTime": {
     "end_time": "2025-04-10T16:23:53.132372Z",
     "start_time": "2025-04-10T16:23:53.124651Z"
    }
   },
   "outputs": [
    {
     "data": {
      "text/html": [
       "<div><style>\n",
       ".dataframe > thead > tr,\n",
       ".dataframe > tbody > tr {\n",
       "  text-align: right;\n",
       "  white-space: pre-wrap;\n",
       "}\n",
       "</style>\n",
       "<small>shape: (5, 6)</small><table border=\"1\" class=\"dataframe\"><thead><tr><th>time</th><th>rain_mm</th><th>rain_mm_GPCC_310</th><th>rain_mm_normalised_diff</th><th>dry_spell_fraction</th><th>dry_spell_fraction_6303</th></tr><tr><td>datetime[μs]</td><td>f64</td><td>f64</td><td>f64</td><td>f64</td><td>f64</td></tr></thead><tbody><tr><td>2006-01-01 07:00:00</td><td>0.2</td><td>0.2</td><td>-0.002762</td><td>null</td><td>null</td></tr><tr><td>2006-01-02 07:00:00</td><td>0.0</td><td>0.0</td><td>0.0</td><td>null</td><td>null</td></tr><tr><td>2006-01-03 07:00:00</td><td>0.0</td><td>0.0</td><td>0.0</td><td>null</td><td>null</td></tr><tr><td>2006-01-04 07:00:00</td><td>0.0</td><td>0.0</td><td>0.0</td><td>null</td><td>null</td></tr><tr><td>2006-01-05 07:00:00</td><td>0.0</td><td>0.0</td><td>0.0</td><td>null</td><td>null</td></tr></tbody></table></div>"
      ],
      "text/plain": [
       "shape: (5, 6)\n",
       "┌─────────────────┬─────────┬─────────────────┬─────────────────┬─────────────────┬────────────────┐\n",
       "│ time            ┆ rain_mm ┆ rain_mm_GPCC_31 ┆ rain_mm_normali ┆ dry_spell_fract ┆ dry_spell_frac │\n",
       "│ ---             ┆ ---     ┆ 0               ┆ sed_diff        ┆ ion             ┆ tion_6303      │\n",
       "│ datetime[μs]    ┆ f64     ┆ ---             ┆ ---             ┆ ---             ┆ ---            │\n",
       "│                 ┆         ┆ f64             ┆ f64             ┆ f64             ┆ f64            │\n",
       "╞═════════════════╪═════════╪═════════════════╪═════════════════╪═════════════════╪════════════════╡\n",
       "│ 2006-01-01      ┆ 0.2     ┆ 0.2             ┆ -0.002762       ┆ null            ┆ null           │\n",
       "│ 07:00:00        ┆         ┆                 ┆                 ┆                 ┆                │\n",
       "│ 2006-01-02      ┆ 0.0     ┆ 0.0             ┆ 0.0             ┆ null            ┆ null           │\n",
       "│ 07:00:00        ┆         ┆                 ┆                 ┆                 ┆                │\n",
       "│ 2006-01-03      ┆ 0.0     ┆ 0.0             ┆ 0.0             ┆ null            ┆ null           │\n",
       "│ 07:00:00        ┆         ┆                 ┆                 ┆                 ┆                │\n",
       "│ 2006-01-04      ┆ 0.0     ┆ 0.0             ┆ 0.0             ┆ null            ┆ null           │\n",
       "│ 07:00:00        ┆         ┆                 ┆                 ┆                 ┆                │\n",
       "│ 2006-01-05      ┆ 0.0     ┆ 0.0             ┆ 0.0             ┆ null            ┆ null           │\n",
       "│ 07:00:00        ┆         ┆                 ┆                 ┆                 ┆                │\n",
       "└─────────────────┴─────────┴─────────────────┴─────────────────┴─────────────────┴────────────────┘"
      ]
     },
     "execution_count": 55,
     "metadata": {},
     "output_type": "execute_result"
    }
   ],
   "source": [
    "joined_gauges_gpcc_normalised_diff_dry_spell.head()"
   ]
  },
  {
   "cell_type": "code",
   "execution_count": 56,
   "id": "d1303aa3",
   "metadata": {
    "ExecuteTime": {
     "end_time": "2025-04-10T16:23:53.303843Z",
     "start_time": "2025-04-10T16:23:53.292246Z"
    }
   },
   "outputs": [
    {
     "data": {
      "text/plain": [
       "{'1': np.float64(0.93), '2': np.float64(0.86), '3': np.float64(0.8)}"
      ]
     },
     "execution_count": 56,
     "metadata": {},
     "output_type": "execute_result"
    }
   ],
   "source": [
    "## TODO: why have this part?\n",
    "## consider only whether dry 15-day periods are corrobated as dry by neighbours\n",
    "## dry flag works on the basis of fraction of dry days within 15-day\n",
    "## check based on whether 0, 1, 2 or >= 3 wet days are recorded at the neighbour when the target is dry over the 15-day period\n",
    "## truncating these fractions to 2 dp below and manipulating equalities to work with these fractions, but could work in days not fractions if change the convertToDrySpell function\n",
    "dry_period = DRY_PERIOD_DAYS\n",
    "fraction_drydays = {}\n",
    "for d in range(1, 3 + 1):\n",
    "    fraction_drydays[str(d)] = np.trunc((1.0 - (float(d) / dry_period)) * 10**2) / (\n",
    "        10**2\n",
    "    )\n",
    "\n",
    "fraction_drydays  # moving window, so 1 = all dry, 0 = all wet"
   ]
  },
  {
   "cell_type": "code",
   "execution_count": 57,
   "id": "8a851837",
   "metadata": {
    "ExecuteTime": {
     "end_time": "2025-04-10T16:23:53.513759Z",
     "start_time": "2025-04-10T16:23:53.507318Z"
    }
   },
   "outputs": [],
   "source": [
    "## Assign flags\n",
    "joined_gauges_gpcc_normalised_diff_dry_flags = (\n",
    "    joined_gauges_gpcc_normalised_diff_dry_spell.with_columns(\n",
    "        pl.when(\n",
    "            (pl.col(\"dry_spell_fraction\") == 1.0)\n",
    "            & (pl.col(f\"dry_spell_fraction_{gpcc_id}\") == 1.0)\n",
    "        )\n",
    "        .then(0)\n",
    "        .when(\n",
    "            (pl.col(\"dry_spell_fraction\") == 1.0)\n",
    "            & (pl.col(f\"dry_spell_fraction_{gpcc_id}\") < 1.0)\n",
    "            & (pl.col(f\"dry_spell_fraction_{gpcc_id}\") >= fraction_drydays[\"1\"]),\n",
    "        )\n",
    "        .then(1)\n",
    "        .when(\n",
    "            (pl.col(\"dry_spell_fraction\") == 1.0)\n",
    "            & (pl.col(f\"dry_spell_fraction_{gpcc_id}\") < fraction_drydays[\"1\"])\n",
    "            & (pl.col(f\"dry_spell_fraction_{gpcc_id}\") >= fraction_drydays[\"2\"]),\n",
    "        )\n",
    "        .then(2)\n",
    "        .when(\n",
    "            (pl.col(\"dry_spell_fraction\") == 1.0)\n",
    "            & (pl.col(f\"dry_spell_fraction_{gpcc_id}\") < fraction_drydays[\"2\"])\n",
    "        )\n",
    "        .then(3)\n",
    "        .otherwise(0)\n",
    "        .alias(\"dry_flags\")\n",
    "    )\n",
    ")"
   ]
  },
  {
   "cell_type": "code",
   "execution_count": 58,
   "id": "ab2a5d55",
   "metadata": {
    "ExecuteTime": {
     "end_time": "2025-04-10T16:23:53.626409Z",
     "start_time": "2025-04-10T16:23:53.618185Z"
    }
   },
   "outputs": [
    {
     "data": {
      "text/html": [
       "<div><style>\n",
       ".dataframe > thead > tr,\n",
       ".dataframe > tbody > tr {\n",
       "  text-align: right;\n",
       "  white-space: pre-wrap;\n",
       "}\n",
       "</style>\n",
       "<small>shape: (4, 2)</small><table border=\"1\" class=\"dataframe\"><thead><tr><th>dry_flags</th><th>count</th></tr><tr><td>i32</td><td>u32</td></tr></thead><tbody><tr><td>2</td><td>4</td></tr><tr><td>3</td><td>126</td></tr><tr><td>1</td><td>1</td></tr><tr><td>0</td><td>1629</td></tr></tbody></table></div>"
      ],
      "text/plain": [
       "shape: (4, 2)\n",
       "┌───────────┬───────┐\n",
       "│ dry_flags ┆ count │\n",
       "│ ---       ┆ ---   │\n",
       "│ i32       ┆ u32   │\n",
       "╞═══════════╪═══════╡\n",
       "│ 2         ┆ 4     │\n",
       "│ 3         ┆ 126   │\n",
       "│ 1         ┆ 1     │\n",
       "│ 0         ┆ 1629  │\n",
       "└───────────┴───────┘"
      ]
     },
     "execution_count": 58,
     "metadata": {},
     "output_type": "execute_result"
    }
   ],
   "source": [
    "joined_gauges_gpcc_normalised_diff_dry_flags[\"dry_flags\"].value_counts()"
   ]
  },
  {
   "cell_type": "code",
   "execution_count": null,
   "id": "8f34b348",
   "metadata": {
    "ExecuteTime": {
     "end_time": "2025-04-10T16:23:53.833257Z",
     "start_time": "2025-04-10T16:23:53.829698Z"
    }
   },
   "outputs": [],
   "source": []
  },
  {
   "cell_type": "markdown",
   "id": "b8a80cbc",
   "metadata": {},
   "source": [
    "## Part 9 Compare target with neighbour (monthly) \n",
    "- Works differently from hourly and daily\n",
    "- original methodology uses bfill which uses the next available value to fillNA"
   ]
  },
  {
   "cell_type": "code",
   "execution_count": 85,
   "id": "c5aa9908",
   "metadata": {},
   "outputs": [],
   "source": [
    "gpcc_id_to_use = \"DE_03215\"\n",
    "gpcc_id_name = gpcc_id_to_use.split(\"DE_\")[-1].lstrip(\"0\")  # like 6303"
   ]
  },
  {
   "cell_type": "code",
   "execution_count": 86,
   "id": "b4e3232b",
   "metadata": {
    "ExecuteTime": {
     "end_time": "2025-04-10T16:23:54.157085Z",
     "start_time": "2025-04-10T16:23:54.142989Z"
    }
   },
   "outputs": [
    {
     "data": {
      "text/html": [
       "<div><style>\n",
       ".dataframe > thead > tr,\n",
       ".dataframe > tbody > tr {\n",
       "  text-align: right;\n",
       "  white-space: pre-wrap;\n",
       "}\n",
       "</style>\n",
       "<small>shape: (5, 3)</small><table border=\"1\" class=\"dataframe\"><thead><tr><th>time</th><th>rain_mm</th><th>rain_mm_GPCC_3215</th></tr><tr><td>datetime[μs]</td><td>f64</td><td>f64</td></tr></thead><tbody><tr><td>2006-01-01 07:00:00</td><td>0.2</td><td>0.2</td></tr><tr><td>2006-01-02 07:00:00</td><td>0.0</td><td>0.0</td></tr><tr><td>2006-01-03 07:00:00</td><td>0.0</td><td>0.0</td></tr><tr><td>2006-01-04 07:00:00</td><td>0.0</td><td>0.0</td></tr><tr><td>2006-01-05 07:00:00</td><td>0.0</td><td>0.0</td></tr></tbody></table></div>"
      ],
      "text/plain": [
       "shape: (5, 3)\n",
       "┌─────────────────────┬─────────┬───────────────────┐\n",
       "│ time                ┆ rain_mm ┆ rain_mm_GPCC_3215 │\n",
       "│ ---                 ┆ ---     ┆ ---               │\n",
       "│ datetime[μs]        ┆ f64     ┆ f64               │\n",
       "╞═════════════════════╪═════════╪═══════════════════╡\n",
       "│ 2006-01-01 07:00:00 ┆ 0.2     ┆ 0.2               │\n",
       "│ 2006-01-02 07:00:00 ┆ 0.0     ┆ 0.0               │\n",
       "│ 2006-01-03 07:00:00 ┆ 0.0     ┆ 0.0               │\n",
       "│ 2006-01-04 07:00:00 ┆ 0.0     ┆ 0.0               │\n",
       "│ 2006-01-05 07:00:00 ┆ 0.0     ┆ 0.0               │\n",
       "└─────────────────────┴─────────┴───────────────────┘"
      ]
     },
     "execution_count": 86,
     "metadata": {},
     "output_type": "execute_result"
    }
   ],
   "source": [
    "## TODO: get gpcc monthly\n",
    "joined_gauges_gpcc = target_gauge_daily.join(\n",
    "    example_gpcc, on=\"time\", suffix=f\"_GPCC_{gpcc_id_name}\"\n",
    ")\n",
    "joined_gauges_gpcc = joined_gauges_gpcc.drop_nans()\n",
    "joined_gauges_gpcc.head()"
   ]
  },
  {
   "cell_type": "code",
   "execution_count": 87,
   "id": "6036038a655b9922",
   "metadata": {
    "ExecuteTime": {
     "end_time": "2025-04-10T16:31:19.252802Z",
     "start_time": "2025-04-10T16:31:19.244278Z"
    }
   },
   "outputs": [],
   "source": [
    "gpcc_col_name = f\"{rain_col}_GPCC_{gpcc_id_name}\""
   ]
  },
  {
   "cell_type": "code",
   "execution_count": 88,
   "id": "b774762d6bfcd2ee",
   "metadata": {
    "ExecuteTime": {
     "end_time": "2025-04-10T16:31:20.181335Z",
     "start_time": "2025-04-10T16:31:20.176347Z"
    }
   },
   "outputs": [],
   "source": [
    "## resample into monthly\n",
    "joined_gauges_gpcc_monthly = (\n",
    "    joined_gauges_gpcc.group_by_dynamic(\"time\", every=\"1mo\", offset=\"7h\")\n",
    "    .agg(\n",
    "        [\n",
    "            pl.col(rain_col).mean().round(1).alias(rain_col),\n",
    "            pl.col(gpcc_col_name).mean().round(1).alias(gpcc_col_name)\n",
    "        ]\n",
    "    )\n",
    ")  # TODO: Ensure at least 24*n_days_in_month data points\n"
   ]
  },
  {
   "cell_type": "code",
   "execution_count": 89,
   "id": "71e872dcd2ef88c0",
   "metadata": {
    "ExecuteTime": {
     "end_time": "2025-04-10T16:31:21.399133Z",
     "start_time": "2025-04-10T16:31:21.389503Z"
    }
   },
   "outputs": [
    {
     "data": {
      "text/html": [
       "<div><style>\n",
       ".dataframe > thead > tr,\n",
       ".dataframe > tbody > tr {\n",
       "  text-align: right;\n",
       "  white-space: pre-wrap;\n",
       "}\n",
       "</style>\n",
       "<small>shape: (5, 3)</small><table border=\"1\" class=\"dataframe\"><thead><tr><th>time</th><th>rain_mm</th><th>rain_mm_GPCC_3215</th></tr><tr><td>datetime[μs]</td><td>f64</td><td>f64</td></tr></thead><tbody><tr><td>2006-01-01 07:00:00</td><td>0.1</td><td>1.1</td></tr><tr><td>2006-02-01 07:00:00</td><td>0.3</td><td>3.0</td></tr><tr><td>2006-03-01 07:00:00</td><td>0.4</td><td>3.6</td></tr><tr><td>2006-04-01 07:00:00</td><td>0.3</td><td>2.3</td></tr><tr><td>2006-05-01 07:00:00</td><td>0.6</td><td>4.6</td></tr></tbody></table></div>"
      ],
      "text/plain": [
       "shape: (5, 3)\n",
       "┌─────────────────────┬─────────┬───────────────────┐\n",
       "│ time                ┆ rain_mm ┆ rain_mm_GPCC_3215 │\n",
       "│ ---                 ┆ ---     ┆ ---               │\n",
       "│ datetime[μs]        ┆ f64     ┆ f64               │\n",
       "╞═════════════════════╪═════════╪═══════════════════╡\n",
       "│ 2006-01-01 07:00:00 ┆ 0.1     ┆ 1.1               │\n",
       "│ 2006-02-01 07:00:00 ┆ 0.3     ┆ 3.0               │\n",
       "│ 2006-03-01 07:00:00 ┆ 0.4     ┆ 3.6               │\n",
       "│ 2006-04-01 07:00:00 ┆ 0.3     ┆ 2.3               │\n",
       "│ 2006-05-01 07:00:00 ┆ 0.6     ┆ 4.6               │\n",
       "└─────────────────────┴─────────┴───────────────────┘"
      ]
     },
     "execution_count": 89,
     "metadata": {},
     "output_type": "execute_result"
    }
   ],
   "source": [
    "joined_gauges_gpcc_monthly.head()"
   ]
  },
  {
   "cell_type": "code",
   "execution_count": 90,
   "id": "8ae9645b",
   "metadata": {
    "ExecuteTime": {
     "end_time": "2025-04-10T16:31:26.976921Z",
     "start_time": "2025-04-10T16:31:26.968642Z"
    }
   },
   "outputs": [],
   "source": [
    "joined_gauges_gpcc_monthly_perc_diff = joined_gauges_gpcc_monthly.with_columns(\n",
    "    perc_diff=((pl.col(rain_col) - pl.col(gpcc_col_name)) * 100.) / pl.col(gpcc_col_name),\n",
    "    factor_diff=pl.col(rain_col) / pl.col(gpcc_col_name)\n",
    ")\n"
   ]
  },
  {
   "cell_type": "code",
   "execution_count": 91,
   "id": "d699dc2b2219fdb1",
   "metadata": {
    "ExecuteTime": {
     "end_time": "2025-04-10T16:31:30.184582Z",
     "start_time": "2025-04-10T16:31:30.178294Z"
    }
   },
   "outputs": [],
   "source": [
    "joined_gauges_gpcc_monthly_flags = joined_gauges_gpcc_monthly_perc_diff.with_columns(\n",
    "    pl.when(pl.col(\"perc_diff\") <= -100.0).then(-3)\n",
    "    .when((pl.col(\"perc_diff\") <= -50.0) & (pl.col(\"perc_diff\") > -100.0)).then(-2)\n",
    "    .when((pl.col(\"perc_diff\") <= -25.0) & (pl.col(\"perc_diff\") > -50.0)).then(-1)\n",
    "    .when((pl.col(\"perc_diff\") < 25.0) & (pl.col(\"perc_diff\") > -25.0)).then(0)\n",
    "    .when((pl.col(\"perc_diff\") >= 25.0) & (pl.col(\"perc_diff\") < 50.0)).then(1)\n",
    "    .when((pl.col(\"perc_diff\") >= 50.0) & (pl.col(\"perc_diff\") < 100.0)).then(2)\n",
    "    .when(pl.col(\"perc_diff\") >= 100.0).then(3)\n",
    "    .otherwise(None)\n",
    "    .alias(\"precip_flags\"),\n",
    "    pl.when((pl.col(\"factor_diff\") < 11) & (pl.col(\"factor_diff\") > 9)).then(1)\n",
    "    .when((pl.col(\"factor_diff\") < 26) & (pl.col(\"factor_diff\") > 24)).then(2)\n",
    "    .when((pl.col(\"factor_diff\") < 3) & (pl.col(\"factor_diff\") > 2)).then(3)\n",
    "    .when((pl.col(\"factor_diff\") > 1/11) & (pl.col(\"factor_diff\") < 1/9)).then(4)\n",
    "    .when((pl.col(\"factor_diff\") > 1/26) & (pl.col(\"factor_diff\") < 1/24)).then(5)\n",
    "    .when((pl.col(\"factor_diff\") > 1/3) & (pl.col(\"factor_diff\") < 1/2)).then(6)\n",
    "    .otherwise(0)\n",
    "    .alias(\"factor_flags\")\n",
    ")"
   ]
  },
  {
   "cell_type": "code",
   "execution_count": 92,
   "id": "71377f39",
   "metadata": {},
   "outputs": [
    {
     "data": {
      "text/html": [
       "<div><style>\n",
       ".dataframe > thead > tr,\n",
       ".dataframe > tbody > tr {\n",
       "  text-align: right;\n",
       "  white-space: pre-wrap;\n",
       "}\n",
       "</style>\n",
       "<small>shape: (3, 2)</small><table border=\"1\" class=\"dataframe\"><thead><tr><th>precip_flags</th><th>count</th></tr><tr><td>i32</td><td>u32</td></tr></thead><tbody><tr><td>3</td><td>2</td></tr><tr><td>-3</td><td>6</td></tr><tr><td>-2</td><td>52</td></tr></tbody></table></div>"
      ],
      "text/plain": [
       "shape: (3, 2)\n",
       "┌──────────────┬───────┐\n",
       "│ precip_flags ┆ count │\n",
       "│ ---          ┆ ---   │\n",
       "│ i32          ┆ u32   │\n",
       "╞══════════════╪═══════╡\n",
       "│ 3            ┆ 2     │\n",
       "│ -3           ┆ 6     │\n",
       "│ -2           ┆ 52    │\n",
       "└──────────────┴───────┘"
      ]
     },
     "execution_count": 92,
     "metadata": {},
     "output_type": "execute_result"
    }
   ],
   "source": [
    "joined_gauges_gpcc_monthly_flags['precip_flags'].value_counts()"
   ]
  },
  {
   "cell_type": "code",
   "execution_count": 93,
   "id": "6dc4a7ab",
   "metadata": {},
   "outputs": [
    {
     "data": {
      "text/html": [
       "<div><style>\n",
       ".dataframe > thead > tr,\n",
       ".dataframe > tbody > tr {\n",
       "  text-align: right;\n",
       "  white-space: pre-wrap;\n",
       "}\n",
       "</style>\n",
       "<small>shape: (2, 2)</small><table border=\"1\" class=\"dataframe\"><thead><tr><th>factor_flags</th><th>count</th></tr><tr><td>i32</td><td>u32</td></tr></thead><tbody><tr><td>4</td><td>5</td></tr><tr><td>0</td><td>55</td></tr></tbody></table></div>"
      ],
      "text/plain": [
       "shape: (2, 2)\n",
       "┌──────────────┬───────┐\n",
       "│ factor_flags ┆ count │\n",
       "│ ---          ┆ ---   │\n",
       "│ i32          ┆ u32   │\n",
       "╞══════════════╪═══════╡\n",
       "│ 4            ┆ 5     │\n",
       "│ 0            ┆ 55    │\n",
       "└──────────────┴───────┘"
      ]
     },
     "execution_count": 93,
     "metadata": {},
     "output_type": "execute_result"
    }
   ],
   "source": [
    "joined_gauges_gpcc_monthly_flags['factor_flags'].value_counts()"
   ]
  },
  {
   "cell_type": "code",
   "execution_count": null,
   "id": "2f93cb56",
   "metadata": {},
   "outputs": [
    {
     "data": {
      "text/html": [
       "<div><style>\n",
       ".dataframe > thead > tr,\n",
       ".dataframe > tbody > tr {\n",
       "  text-align: right;\n",
       "  white-space: pre-wrap;\n",
       "}\n",
       "</style>\n",
       "<small>shape: (60, 7)</small><table border=\"1\" class=\"dataframe\"><thead><tr><th>time</th><th>rain_mm</th><th>rain_mm_GPCC_3215</th><th>perc_diff</th><th>factor_diff</th><th>precip_flags</th><th>factor_flags</th></tr><tr><td>datetime[μs]</td><td>f64</td><td>f64</td><td>f64</td><td>f64</td><td>i32</td><td>f64</td></tr></thead><tbody><tr><td>2006-01-01 07:00:00</td><td>0.1</td><td>1.1</td><td>-90.909091</td><td>0.090909</td><td>-2</td><td>0.0</td></tr><tr><td>2006-02-01 07:00:00</td><td>0.3</td><td>3.0</td><td>-90.0</td><td>0.1</td><td>-2</td><td>4.0</td></tr><tr><td>2006-03-01 07:00:00</td><td>0.4</td><td>3.6</td><td>-88.888889</td><td>0.111111</td><td>-2</td><td>0.0</td></tr><tr><td>2006-04-01 07:00:00</td><td>0.3</td><td>2.3</td><td>-86.956522</td><td>0.130435</td><td>-2</td><td>0.0</td></tr><tr><td>2006-05-01 07:00:00</td><td>0.6</td><td>4.6</td><td>-86.956522</td><td>0.130435</td><td>-2</td><td>0.0</td></tr><tr><td>&hellip;</td><td>&hellip;</td><td>&hellip;</td><td>&hellip;</td><td>&hellip;</td><td>&hellip;</td><td>&hellip;</td></tr><tr><td>2010-08-01 07:00:00</td><td>0.6</td><td>7.5</td><td>-92.0</td><td>0.08</td><td>-2</td><td>0.0</td></tr><tr><td>2010-09-01 07:00:00</td><td>0.0</td><td>2.8</td><td>-100.0</td><td>0.0</td><td>-3</td><td>0.0</td></tr><tr><td>2010-10-01 07:00:00</td><td>0.1</td><td>1.4</td><td>-92.857143</td><td>0.071429</td><td>-2</td><td>0.0</td></tr><tr><td>2010-11-01 07:00:00</td><td>0.3</td><td>4.7</td><td>-93.617021</td><td>0.06383</td><td>-2</td><td>0.0</td></tr><tr><td>2010-12-01 07:00:00</td><td>0.2</td><td>3.4</td><td>-94.117647</td><td>0.058824</td><td>-2</td><td>0.0</td></tr></tbody></table></div>"
      ],
      "text/plain": [
       "shape: (60, 7)\n",
       "┌───────────────┬─────────┬───────────────┬────────────┬─────────────┬──────────────┬──────────────┐\n",
       "│ time          ┆ rain_mm ┆ rain_mm_GPCC_ ┆ perc_diff  ┆ factor_diff ┆ precip_flags ┆ factor_flags │\n",
       "│ ---           ┆ ---     ┆ 3215          ┆ ---        ┆ ---         ┆ ---          ┆ ---          │\n",
       "│ datetime[μs]  ┆ f64     ┆ ---           ┆ f64        ┆ f64         ┆ i32          ┆ f64          │\n",
       "│               ┆         ┆ f64           ┆            ┆             ┆              ┆              │\n",
       "╞═══════════════╪═════════╪═══════════════╪════════════╪═════════════╪══════════════╪══════════════╡\n",
       "│ 2006-01-01    ┆ 0.1     ┆ 1.1           ┆ -90.909091 ┆ 0.090909    ┆ -2           ┆ 0.0          │\n",
       "│ 07:00:00      ┆         ┆               ┆            ┆             ┆              ┆              │\n",
       "│ 2006-02-01    ┆ 0.3     ┆ 3.0           ┆ -90.0      ┆ 0.1         ┆ -2           ┆ 4.0          │\n",
       "│ 07:00:00      ┆         ┆               ┆            ┆             ┆              ┆              │\n",
       "│ 2006-03-01    ┆ 0.4     ┆ 3.6           ┆ -88.888889 ┆ 0.111111    ┆ -2           ┆ 0.0          │\n",
       "│ 07:00:00      ┆         ┆               ┆            ┆             ┆              ┆              │\n",
       "│ 2006-04-01    ┆ 0.3     ┆ 2.3           ┆ -86.956522 ┆ 0.130435    ┆ -2           ┆ 0.0          │\n",
       "│ 07:00:00      ┆         ┆               ┆            ┆             ┆              ┆              │\n",
       "│ 2006-05-01    ┆ 0.6     ┆ 4.6           ┆ -86.956522 ┆ 0.130435    ┆ -2           ┆ 0.0          │\n",
       "│ 07:00:00      ┆         ┆               ┆            ┆             ┆              ┆              │\n",
       "│ …             ┆ …       ┆ …             ┆ …          ┆ …           ┆ …            ┆ …            │\n",
       "│ 2010-08-01    ┆ 0.6     ┆ 7.5           ┆ -92.0      ┆ 0.08        ┆ -2           ┆ 0.0          │\n",
       "│ 07:00:00      ┆         ┆               ┆            ┆             ┆              ┆              │\n",
       "│ 2010-09-01    ┆ 0.0     ┆ 2.8           ┆ -100.0     ┆ 0.0         ┆ -3           ┆ 0.0          │\n",
       "│ 07:00:00      ┆         ┆               ┆            ┆             ┆              ┆              │\n",
       "│ 2010-10-01    ┆ 0.1     ┆ 1.4           ┆ -92.857143 ┆ 0.071429    ┆ -2           ┆ 0.0          │\n",
       "│ 07:00:00      ┆         ┆               ┆            ┆             ┆              ┆              │\n",
       "│ 2010-11-01    ┆ 0.3     ┆ 4.7           ┆ -93.617021 ┆ 0.06383     ┆ -2           ┆ 0.0          │\n",
       "│ 07:00:00      ┆         ┆               ┆            ┆             ┆              ┆              │\n",
       "│ 2010-12-01    ┆ 0.2     ┆ 3.4           ┆ -94.117647 ┆ 0.058824    ┆ -2           ┆ 0.0          │\n",
       "│ 07:00:00      ┆         ┆               ┆            ┆             ┆              ┆              │\n",
       "└───────────────┴─────────┴───────────────┴────────────┴─────────────┴──────────────┴──────────────┘"
      ]
     },
     "execution_count": 98,
     "metadata": {},
     "output_type": "execute_result"
    }
   ],
   "source": [
    "## Set up NaN\n",
    "joined_gauges_gpcc_monthly_flags = joined_gauges_gpcc_monthly_flags.with_columns(\n",
    "    pl.when(pl.col(rain_col).is_nan()).then(np.nan).otherwise(pl.col(\"factor_flags\")).alias(\"factor_flags\"),\n",
    "    pl.when(pl.col(rain_col).is_nan()).then(np.nan).otherwise(pl.col(\"precip_flags\")).alias(\"precip_flags\")\n",
    ")"
   ]
  },
  {
   "cell_type": "code",
   "execution_count": null,
   "id": "60febab3",
   "metadata": {
    "ExecuteTime": {
     "end_time": "2025-04-10T16:23:55.999757Z",
     "start_time": "2025-04-10T16:23:55.992431Z"
    }
   },
   "outputs": [],
   "source": []
  },
  {
   "cell_type": "markdown",
   "id": "301fb685",
   "metadata": {},
   "source": [
    "# QC16 - Daily neighbours (wet)\n",
    "[Back to Index](#Table-of-contents)\n",
    "\n",
    "#### Differences from `intense-qc`: \n",
    "- Many, although mainly this implementation opens the neighbour wet and dry functions to parameter tweaking"
   ]
  },
  {
   "cell_type": "code",
   "execution_count": 67,
   "id": "05ca0ce2",
   "metadata": {
    "ExecuteTime": {
     "end_time": "2025-04-10T16:23:56.091848Z",
     "start_time": "2025-04-10T16:23:56.089375Z"
    }
   },
   "outputs": [],
   "source": [
    "## resample data into daily (NOTE: OG method makes sure this is 7am-7pm)"
   ]
  },
  {
   "cell_type": "code",
   "execution_count": 99,
   "id": "daa4cc73",
   "metadata": {
    "ExecuteTime": {
     "end_time": "2025-04-10T16:23:56.187885Z",
     "start_time": "2025-04-10T16:23:56.166083Z"
    }
   },
   "outputs": [
    {
     "data": {
      "text/html": [
       "<div><style>\n",
       ".dataframe > thead > tr,\n",
       ".dataframe > tbody > tr {\n",
       "  text-align: right;\n",
       "  white-space: pre-wrap;\n",
       "}\n",
       "</style>\n",
       "<small>shape: (43_824, 2)</small><table border=\"1\" class=\"dataframe\"><thead><tr><th>time</th><th>rain_mm</th></tr><tr><td>datetime[μs]</td><td>f64</td></tr></thead><tbody><tr><td>2006-01-01 00:00:00</td><td>0.9</td></tr><tr><td>2006-01-01 01:00:00</td><td>0.3</td></tr><tr><td>2006-01-01 02:00:00</td><td>0.3</td></tr><tr><td>2006-01-01 03:00:00</td><td>0.0</td></tr><tr><td>2006-01-01 04:00:00</td><td>0.0</td></tr><tr><td>&hellip;</td><td>&hellip;</td></tr><tr><td>2010-12-31 19:00:00</td><td>0.0</td></tr><tr><td>2010-12-31 20:00:00</td><td>0.0</td></tr><tr><td>2010-12-31 21:00:00</td><td>0.0</td></tr><tr><td>2010-12-31 22:00:00</td><td>0.0</td></tr><tr><td>2010-12-31 23:00:00</td><td>0.0</td></tr></tbody></table></div>"
      ],
      "text/plain": [
       "shape: (43_824, 2)\n",
       "┌─────────────────────┬─────────┐\n",
       "│ time                ┆ rain_mm │\n",
       "│ ---                 ┆ ---     │\n",
       "│ datetime[μs]        ┆ f64     │\n",
       "╞═════════════════════╪═════════╡\n",
       "│ 2006-01-01 00:00:00 ┆ 0.9     │\n",
       "│ 2006-01-01 01:00:00 ┆ 0.3     │\n",
       "│ 2006-01-01 02:00:00 ┆ 0.3     │\n",
       "│ 2006-01-01 03:00:00 ┆ 0.0     │\n",
       "│ 2006-01-01 04:00:00 ┆ 0.0     │\n",
       "│ …                   ┆ …       │\n",
       "│ 2010-12-31 19:00:00 ┆ 0.0     │\n",
       "│ 2010-12-31 20:00:00 ┆ 0.0     │\n",
       "│ 2010-12-31 21:00:00 ┆ 0.0     │\n",
       "│ 2010-12-31 22:00:00 ┆ 0.0     │\n",
       "│ 2010-12-31 23:00:00 ┆ 0.0     │\n",
       "└─────────────────────┴─────────┘"
      ]
     },
     "execution_count": 99,
     "metadata": {},
     "output_type": "execute_result"
    }
   ],
   "source": [
    "target_gauge"
   ]
  },
  {
   "cell_type": "code",
   "execution_count": null,
   "id": "5651a9ea",
   "metadata": {
    "ExecuteTime": {
     "end_time": "2025-04-10T16:23:56.326790Z",
     "start_time": "2025-04-10T16:23:56.315173Z"
    }
   },
   "outputs": [],
   "source": []
  },
  {
   "cell_type": "code",
   "execution_count": null,
   "id": "e6010346",
   "metadata": {
    "ExecuteTime": {
     "end_time": "2025-04-10T16:23:56.463369Z",
     "start_time": "2025-04-10T16:23:56.460351Z"
    }
   },
   "outputs": [],
   "source": []
  },
  {
   "cell_type": "code",
   "execution_count": null,
   "id": "7f01e885",
   "metadata": {
    "ExecuteTime": {
     "end_time": "2025-04-10T16:23:56.533196Z",
     "start_time": "2025-04-10T16:23:56.530777Z"
    }
   },
   "outputs": [],
   "source": []
  },
  {
   "cell_type": "markdown",
   "id": "fb4369f0-5c04-47d7-8f6d-9b6761b054e9",
   "metadata": {},
   "source": [
    "# QC17 - Hourly neighbours (wet) \n",
    "[Back to Index](#Table-of-contents)\n",
    "\n",
    "#### Differences from `intense-qc`: \n",
    "- "
   ]
  },
  {
   "cell_type": "code",
   "execution_count": 69,
   "id": "4f7483e9",
   "metadata": {
    "ExecuteTime": {
     "end_time": "2025-04-10T16:23:56.630802Z",
     "start_time": "2025-04-10T16:23:56.625769Z"
    }
   },
   "outputs": [],
   "source": [
    "example_id = \"DE_06264\""
   ]
  },
  {
   "cell_type": "code",
   "execution_count": 70,
   "id": "3b7da073",
   "metadata": {
    "ExecuteTime": {
     "end_time": "2025-04-10T16:23:56.803897Z",
     "start_time": "2025-04-10T16:23:56.692412Z"
    }
   },
   "outputs": [],
   "source": [
    "neighbouring_gauge = get_neighbour_gauge_data(\n",
    "    neighbour_gauge_id=example_id, time_multiplying_factor=MULTIPLYING_FACTORS[\"hourly\"]\n",
    ")"
   ]
  },
  {
   "cell_type": "code",
   "execution_count": 71,
   "id": "1be7dab4",
   "metadata": {
    "ExecuteTime": {
     "end_time": "2025-04-10T16:23:56.896587Z",
     "start_time": "2025-04-10T16:23:56.888385Z"
    }
   },
   "outputs": [
    {
     "data": {
      "text/html": [
       "<div><style>\n",
       ".dataframe > thead > tr,\n",
       ".dataframe > tbody > tr {\n",
       "  text-align: right;\n",
       "  white-space: pre-wrap;\n",
       "}\n",
       "</style>\n",
       "<small>shape: (43_824, 2)</small><table border=\"1\" class=\"dataframe\"><thead><tr><th>time</th><th>rain_mm</th></tr><tr><td>datetime[μs]</td><td>f64</td></tr></thead><tbody><tr><td>2006-01-01 00:00:00</td><td>0.0</td></tr><tr><td>2006-01-01 01:00:00</td><td>0.1</td></tr><tr><td>2006-01-01 02:00:00</td><td>0.0</td></tr><tr><td>2006-01-01 03:00:00</td><td>0.0</td></tr><tr><td>2006-01-01 04:00:00</td><td>0.0</td></tr><tr><td>&hellip;</td><td>&hellip;</td></tr><tr><td>2010-12-31 19:00:00</td><td>0.0</td></tr><tr><td>2010-12-31 20:00:00</td><td>0.0</td></tr><tr><td>2010-12-31 21:00:00</td><td>0.0</td></tr><tr><td>2010-12-31 22:00:00</td><td>0.0</td></tr><tr><td>2010-12-31 23:00:00</td><td>0.0</td></tr></tbody></table></div>"
      ],
      "text/plain": [
       "shape: (43_824, 2)\n",
       "┌─────────────────────┬─────────┐\n",
       "│ time                ┆ rain_mm │\n",
       "│ ---                 ┆ ---     │\n",
       "│ datetime[μs]        ┆ f64     │\n",
       "╞═════════════════════╪═════════╡\n",
       "│ 2006-01-01 00:00:00 ┆ 0.0     │\n",
       "│ 2006-01-01 01:00:00 ┆ 0.1     │\n",
       "│ 2006-01-01 02:00:00 ┆ 0.0     │\n",
       "│ 2006-01-01 03:00:00 ┆ 0.0     │\n",
       "│ 2006-01-01 04:00:00 ┆ 0.0     │\n",
       "│ …                   ┆ …       │\n",
       "│ 2010-12-31 19:00:00 ┆ 0.0     │\n",
       "│ 2010-12-31 20:00:00 ┆ 0.0     │\n",
       "│ 2010-12-31 21:00:00 ┆ 0.0     │\n",
       "│ 2010-12-31 22:00:00 ┆ 0.0     │\n",
       "│ 2010-12-31 23:00:00 ┆ 0.0     │\n",
       "└─────────────────────┴─────────┘"
      ]
     },
     "execution_count": 71,
     "metadata": {},
     "output_type": "execute_result"
    }
   ],
   "source": [
    "neighbouring_gauge"
   ]
  },
  {
   "cell_type": "code",
   "execution_count": 72,
   "id": "4d39ac84",
   "metadata": {
    "ExecuteTime": {
     "end_time": "2025-04-10T16:23:57.530096Z",
     "start_time": "2025-04-10T16:23:56.957717Z"
    }
   },
   "outputs": [
    {
     "name": "stdout",
     "output_type": "stream",
     "text": [
      "DE_06264\n",
      "0.1 0.1 0.1\n",
      "diff: 174, match:379\n",
      "affinity: 0.6853526220614828, p_corr: 0.0024745444582926564, f_mean: 2.8794833506858817\n",
      "###############\n",
      "DE_00310\n",
      "0.1 0.1 0.1\n",
      "diff: 124, match:455\n",
      "affinity: 0.7858376511226253, p_corr: 0.0049573140334253285, f_mean: 2.342682780210973\n",
      "###############\n",
      "DE_04488\n",
      "0.1 0.1 0.1\n",
      "diff: 98, match:439\n",
      "affinity: 0.8175046554934823, p_corr: 0.0034253919799619027, f_mean: 2.1391302097447347\n",
      "###############\n",
      "DE_04313\n",
      "0.1 0.1 0.1\n",
      "diff: 176, match:381\n",
      "affinity: 0.6840215439856373, p_corr: -0.000119383941115046, f_mean: 3.0275432253569745\n",
      "###############\n",
      "DE_03215\n",
      "0.1 0.1 0.1\n",
      "diff: 99, match:268\n",
      "affinity: 0.7302452316076294, p_corr: 0.04958692601219624, f_mean: 2.738944066476523\n",
      "###############\n",
      "DE_02718\n",
      "0.1 0.1 0.1\n",
      "diff: 178, match:366\n",
      "affinity: 0.6727941176470589, p_corr: 0.0036709243371909495, f_mean: 3.095154871710614\n",
      "###############\n",
      "DE_00390\n",
      "0.1 0.1 0.1\n",
      "diff: 136, match:431\n",
      "affinity: 0.7601410934744268, p_corr: 0.0027833636591166303, f_mean: 2.3027668638280483\n",
      "###############\n",
      "DE_01300\n",
      "0.1 0.1 0.1\n",
      "diff: 94, match:508\n",
      "affinity: 0.8438538205980066, p_corr: 0.001977647232117446, f_mean: 2.1665778878233484\n",
      "###############\n",
      "DE_06303\n",
      "0.1 0.1 0.1\n",
      "diff: 140, match:487\n",
      "affinity: 0.7767145135566188, p_corr: 0.0043153947815425114, f_mean: 2.3629003432627496\n",
      "###############\n"
     ]
    }
   ],
   "source": [
    "for n_id in all_neighbour_ids_paths.keys():\n",
    "    print(n_id)\n",
    "    one_neighbouring_gauge = get_neighbour_gauge_data(\n",
    "        neighbour_gauge_id=n_id, time_multiplying_factor=MULTIPLYING_FACTORS[\"hourly\"]\n",
    "    )\n",
    "    joined_gauges = target_gauge.join(\n",
    "        one_neighbouring_gauge, on=\"time\", suffix=f\"_{n_id}\"\n",
    "    )\n",
    "    joined_gauges = joined_gauges.drop_nans()\n",
    "\n",
    "    ## resample into daily (also round to 1 decimal place) TODO: remove offset part\n",
    "    joined_gauges = (\n",
    "        joined_gauges.group_by_dynamic(\"time\", every=\"1d\", offset=\"7h\")\n",
    "        .agg(\n",
    "            [\n",
    "                pl.len().alias(\"n_hours\"),\n",
    "                pl.col(rain_col).mean().round(1).alias(rain_col),\n",
    "                pl.col(f\"{rain_col}_{n_id}\")\n",
    "                .mean()\n",
    "                .round(1)\n",
    "                .alias(f\"{rain_col}_{n_id}\"),\n",
    "            ]\n",
    "        )\n",
    "        .filter(pl.col(\"n_hours\") == 24)\n",
    "        .drop(\"n_hours\")\n",
    "    )  # Ensure at least 24 data points\n",
    "\n",
    "    ## NOTE: is this necessary? Why not just read resolution of each data?\n",
    "    a = np.around(joined_gauges.filter(pl.col(rain_col) >= 0.1).min()[rain_col], 1)[0]\n",
    "    b = np.around(\n",
    "        joined_gauges.filter(pl.col(f\"{rain_col}_{n_id}\") >= 0.1).min()[\n",
    "            f\"{rain_col}_{n_id}\"\n",
    "        ],\n",
    "        1,\n",
    "    )[0]\n",
    "    p = max(a, b, 0.1)\n",
    "    print(a, b, p)\n",
    "\n",
    "    ## TODO: rename all variables\n",
    "    joined_gauges_duplicates = joined_gauges.with_columns(\n",
    "        pl.when((pl.col(rain_col) > p) & (pl.col(f\"{rain_col}_{n_id}\") > p))\n",
    "        .then(1)\n",
    "        .when(\n",
    "            (pl.col(rain_col) == p) & (pl.col(f\"{rain_col}_{n_id}\") == p),\n",
    "        )\n",
    "        .then(1)\n",
    "        .when(\n",
    "            (pl.col(rain_col) == p) & (pl.col(f\"{rain_col}_{n_id}\") > p),\n",
    "        )\n",
    "        .then(0)\n",
    "        .when((pl.col(rain_col) > p) & (pl.col(f\"{rain_col}_{n_id}\") == p))\n",
    "        .then(0)\n",
    "        .otherwise(np.nan)\n",
    "        .alias(\"duplicate\")\n",
    "    )\n",
    "\n",
    "    joined_gauges = joined_gauges.with_columns(\n",
    "        pl.when((pl.col(rain_col) > 0) & (pl.col(f\"{rain_col}_{n_id}\") > 0))\n",
    "        .then(pl.col(rain_col) / pl.col(f\"{rain_col}_{n_id}\"))\n",
    "        .otherwise(np.nan)\n",
    "        .alias(\"factor\")\n",
    "    )\n",
    "\n",
    "    match = (\n",
    "        joined_gauges_duplicates[\"duplicate\"]\n",
    "        .value_counts()\n",
    "        .filter(pl.col(\"duplicate\") == 1)[\"count\"]\n",
    "        .item()\n",
    "    )\n",
    "    diff = (\n",
    "        joined_gauges_duplicates[\"duplicate\"]\n",
    "        .value_counts()\n",
    "        .filter(pl.col(\"duplicate\") == 0)[\"count\"]\n",
    "        .item()\n",
    "    )\n",
    "    affinity = match / (match + diff)\n",
    "    p_corr = np.corrcoef(joined_gauges[rain_col], joined_gauges[f\"{rain_col}_{n_id}\"])[\n",
    "        0, 1\n",
    "    ]\n",
    "    f_mean = joined_gauges[\"factor\"].drop_nans().mean()\n",
    "    print(f\"diff: {diff}, match:{match}\")\n",
    "    print(f\"affinity: {affinity}, p_corr: {p_corr}, f_mean: {f_mean}\")\n",
    "\n",
    "    print(\"#\" * 15)"
   ]
  },
  {
   "cell_type": "code",
   "execution_count": null,
   "id": "da55b800",
   "metadata": {
    "ExecuteTime": {
     "end_time": "2025-04-10T16:23:57.573407Z",
     "start_time": "2025-04-10T16:23:57.571656Z"
    }
   },
   "outputs": [],
   "source": []
  },
  {
   "cell_type": "markdown",
   "id": "75c95086-cd30-4232-a598-98c6ba4744d8",
   "metadata": {},
   "source": [
    "# QC18 - Daily neighbours (dry) \n",
    "[Back to Index](#Table-of-contents)\n",
    "\n",
    "#### Differences from `intense-qc`: \n",
    "- "
   ]
  },
  {
   "cell_type": "code",
   "execution_count": null,
   "id": "6748457c",
   "metadata": {
    "ExecuteTime": {
     "end_time": "2025-04-10T16:23:57.595009Z",
     "start_time": "2025-04-10T16:23:57.591625Z"
    }
   },
   "outputs": [],
   "source": []
  },
  {
   "cell_type": "code",
   "execution_count": null,
   "id": "2dcf6965-3206-473e-98fb-9d666b84e1fe",
   "metadata": {
    "ExecuteTime": {
     "end_time": "2025-04-10T16:23:57.762841Z",
     "start_time": "2025-04-10T16:23:57.760596Z"
    }
   },
   "outputs": [],
   "source": []
  },
  {
   "cell_type": "markdown",
   "id": "6d73b55d-70ca-4a7f-9ccb-eb7c8220b834",
   "metadata": {},
   "source": [
    "# QC19 - Hourly neighbours (dry) \n",
    "[Back to Index](#Table-of-contents)\n",
    "\n",
    "#### Differences from `intense-qc`: \n",
    "- "
   ]
  },
  {
   "cell_type": "code",
   "execution_count": null,
   "id": "fd2d36f5-06a5-41cc-a586-28cbe36b2ec0",
   "metadata": {
    "ExecuteTime": {
     "end_time": "2025-04-10T16:23:57.851111Z",
     "start_time": "2025-04-10T16:23:57.847746Z"
    }
   },
   "outputs": [],
   "source": []
  },
  {
   "cell_type": "markdown",
   "id": "f26abff0-392f-4598-ba76-3d054608521b",
   "metadata": {},
   "source": [
    "# QC20 - Monthly neighbours\n",
    "[Back to Index](#Table-of-contents)\n",
    "\n",
    "#### Differences from `intense-qc`: \n",
    "- "
   ]
  },
  {
   "cell_type": "code",
   "execution_count": null,
   "id": "3fc31d8a",
   "metadata": {},
   "outputs": [],
   "source": []
  },
  {
   "cell_type": "code",
   "execution_count": null,
   "id": "7914f5d9",
   "metadata": {},
   "outputs": [],
   "source": [
    "# def check_m_neighbours(target, neighbours):\n",
    "#     df = target\n",
    "#     concat_list = [df]\n",
    "#     ticker = 0\n",
    "#     for n in neighbours:\n",
    "#         dfn, dff = compare_target_to_neighbour_monthly(df, n)\n",
    "#         concat_list.append(dfn)\n",
    "#         if ticker == 0:\n",
    "#             df_factor = dff.copy()\n",
    "#         ticker += 1\n",
    "\n",
    "#     df = pd.concat(concat_list, axis=1, join='outer')\n",
    "\n",
    "#     cols = [\"n\" + str(i + 1) for i in range(len(concat_list) - 1)]\n",
    "#     cols2 = [\"target\"]\n",
    "#     cols2.extend(cols)\n",
    "\n",
    "#     df.columns = cols2\n",
    "\n",
    "#     df[\"online\"] = len(concat_list) - df[cols].isnull().sum(axis=1) - 1\n",
    "#     conditions = [\n",
    "#         ((df[cols] == -3).T.sum() == df.online),\n",
    "#         ((df[cols] <= -2).T.sum() == df.online),\n",
    "#         ((df[cols] <= -1).T.sum() == df.online),\n",
    "#         ((df[cols] == 3).T.sum() == df.online),\n",
    "#         ((df[cols] >= 2).T.sum() == df.online),\n",
    "#         ((df[cols] >= 1).T.sum() == df.online)]\n",
    "\n",
    "#     choices = [-3, -2, -1, 3, 2, 1]\n",
    "\n",
    "#     df[\"flags\"] = np.select(conditions, choices, default=0)\n",
    "#     df.loc[np.isnan(df['target']), 'flags'] = np.nan\n",
    "\n",
    "#     # Add additional checks in relation to monthly neighbours climatology\n",
    "\n",
    "#     # Calculate neighbour monthly climatology (monthly min/max across all neighbours)\n",
    "#     tmp = []\n",
    "#     for n in neighbours:\n",
    "#         tmp.append(n)\n",
    "#     df_mc = pd.concat(tmp, axis=1, join='outer')\n",
    "#     cols3 = [\"n\" + str(i + 1) for i in range(len(tmp))]\n",
    "#     df_mc.columns = cols3\n",
    "#     df_mc.index = pd.to_datetime(df_mc.index, format='%Y-%m-%d')\n",
    "#     df_mc_max = df_mc.groupby(df_mc.index.month).max()\n",
    "#     df_mc_max['max'] = df_mc_max.max(axis=1)\n",
    "#     df_mc_min = df_mc.groupby(df_mc.index.month).min()\n",
    "#     df_mc_min['min'] = df_mc_min.min(axis=1)\n",
    "#     df_mc2 = pd.concat(\n",
    "#         [df_mc_min.drop(cols3, axis=1), df_mc_max.drop(cols3, axis=1)], axis=1,\n",
    "#         join='outer')\n",
    "#     df_mc2['month'] = df_mc2.index\n",
    "\n",
    "#     # Join monthly climatology to target series\n",
    "#     df['month'] = df.index.month\n",
    "#     df['date'] = df.index\n",
    "#     df2 = df.merge(df_mc2, left_on='month', right_on='month')\n",
    "#     df2.set_index('date', inplace=True)\n",
    "#     df2.sort_index(inplace=True)\n",
    "\n",
    "#     # Adjust flag where -3 or 3 and rainfall is outside neighbours min/max range\n",
    "#     df2.loc[(df2['flags'] == -3) & (df2['online'] >= 3) &\n",
    "#             ((df2['target'] < (0.75 * df2['min'])) | (df2['target'] > (1.25 * df2['max']))),\n",
    "#             'flags'] = -4\n",
    "#     df2.loc[(df2['flags'] == 3) & (df2['online'] >= 3) &\n",
    "#             ((df2['target'] < (0.75 * df2['min'])) | (df2['target'] > (1.25 * df2['max']))),\n",
    "#             'flags'] = 4\n",
    "\n",
    "#     # Flag where less than 3 neighbours but value > 2 * neighbour max or\n",
    "#     # < 0.5 * neighbour min\n",
    "#     df2.loc[(df2['online'] < 3) & (df2['target'] > (2.0 * df2['max'])),\n",
    "#             'flags'] = 5\n",
    "#     df2.loc[(df2['online'] < 3) & (df2['target'] < (0.5 * df2['min'])),\n",
    "#             'flags'] = -5\n",
    "\n",
    "#     # If less than 3 stations online than flag check as incomplete unless flag\n",
    "#     # has a value of -5/5 (i.e. outside climatology range)\n",
    "#     df2.loc[(df2.online < 3) & (np.absolute(df2['flags']) != 5), \"flags\"] = np.nan\n",
    "#     dfr = df2.flags\n",
    "\n",
    "#     return [dfr, df_factor]"
   ]
  },
  {
   "cell_type": "code",
   "execution_count": null,
   "id": "8c302184-8c8f-4683-a03b-ce8660f5ed7b",
   "metadata": {
    "ExecuteTime": {
     "end_time": "2025-04-10T16:23:57.943836Z",
     "start_time": "2025-04-10T16:23:57.942374Z"
    }
   },
   "outputs": [],
   "source": []
  },
  {
   "cell_type": "markdown",
   "id": "35a03907-142a-4c08-8ab3-ae0fe5f3f493",
   "metadata": {},
   "source": [
    "# QC21 - Timing offset \n",
    "[Back to Index](#Table-of-contents)\n",
    "\n",
    "#### Differences from `intense-qc`: \n",
    "- "
   ]
  },
  {
   "cell_type": "code",
   "execution_count": 73,
   "id": "3c15a579-446c-43f1-9570-11ab92cfbe82",
   "metadata": {
    "ExecuteTime": {
     "end_time": "2025-04-10T16:23:58.054109Z",
     "start_time": "2025-04-10T16:23:58.046581Z"
    }
   },
   "outputs": [],
   "source": [
    "# # check for and remove any duplicates in neighbours list\n",
    "# neighbours = list(dict.fromkeys(neighbours))\n",
    "\n",
    "# # get gpcc\n",
    "# neighbour_dfs = []\n",
    "# for idx in neighbours:\n",
    "#     neighbour_start_year = self.daily_dates[self.daily_names.index(idx)][0].year\n",
    "#     neighbour_end_year = self.daily_dates[self.daily_names.index(idx)][1].year\n",
    "#     neighbour_dfs.append(utils.get_daily_gpcc(self.daily_path, neighbour_start_year, neighbour_end_year, idx))\n",
    "\n",
    "# # get matching stats for nearest gauge and offset\n",
    "# nearest = neighbour_dfs[0].rename(columns={\"GPCC\": \"ts2\"})\n",
    "# affinity_index_lag_minus1, r2_lag_minus1, _ = utils.calculate_affinity_index_and_pearson(daily_values_lag_minus1.to_frame(\"ts1\"), nearest)\n",
    "# affinity_index_lag0, r2_lag0, factor_lag0 = utils.calculate_affinity_index_and_pearson(daily_values.to_frame(\"ts1\"), nearest)\n",
    "# affinity_index_lag_plus1, r2_lag_plus1, _ = utils.calculate_affinity_index_and_pearson(daily_values_lag_plus1.to_frame(\"ts1\"), nearest)\n",
    "\n",
    "# affinity_indexes = [affinity_index_lag_minus1, affinity_index_lag0, affinity_index_lag_plus1]\n",
    "# r2_values = [r2_lag_minus1, r2_lag0, r2_lag_plus1]\n",
    "\n",
    "# if affinity_indexes.index(max(affinity_indexes)) == r2_values.index(max(r2_values)):\n",
    "#     offset_flag = affinity_indexes.index(max(affinity_indexes)) - 1\n",
    "# else:\n",
    "#     offset_flag = 0"
   ]
  },
  {
   "cell_type": "code",
   "execution_count": null,
   "id": "77490dfe",
   "metadata": {
    "ExecuteTime": {
     "end_time": "2025-04-10T16:23:58.136999Z",
     "start_time": "2025-04-10T16:23:58.133668Z"
    }
   },
   "outputs": [],
   "source": []
  },
  {
   "cell_type": "markdown",
   "id": "f372ec0e-7d3b-44c8-a052-806e66454834",
   "metadata": {},
   "source": [
    "# QC22 - Pre-QC Affinity  \n",
    "[Back to Index](#Table-of-contents)\n",
    "\n",
    "#### Differences from `intense-qc`: \n",
    "- "
   ]
  },
  {
   "cell_type": "code",
   "execution_count": null,
   "id": "a1294be1-19a5-42c4-8c89-5f5112326ccb",
   "metadata": {
    "ExecuteTime": {
     "end_time": "2025-04-10T16:23:58.184209Z",
     "start_time": "2025-04-10T16:23:58.179847Z"
    }
   },
   "outputs": [],
   "source": []
  },
  {
   "cell_type": "markdown",
   "id": "b52dfb5b-44d6-481b-b3ac-8c562df044d4",
   "metadata": {},
   "source": [
    "# QC23 - Pre-QC Pearson\n",
    "[Back to Index](#Table-of-contents)\n",
    "\n",
    "#### Differences from `intense-qc`: \n",
    "- "
   ]
  },
  {
   "cell_type": "code",
   "execution_count": null,
   "id": "2abacf73-41a8-463b-97e4-c87f3ec7b63d",
   "metadata": {
    "ExecuteTime": {
     "end_time": "2025-04-10T16:23:58.267507Z",
     "start_time": "2025-04-10T16:23:58.260416Z"
    }
   },
   "outputs": [],
   "source": []
  },
  {
   "cell_type": "markdown",
   "id": "7ad5d0b8-a686-435a-b35d-8685e97ec8fd",
   "metadata": {},
   "source": [
    "# QC24 - Daily factor  \n",
    "[Back to Index](#Table-of-contents)\n",
    "\n",
    "#### Differences from `intense-qc`: \n",
    "- "
   ]
  },
  {
   "cell_type": "code",
   "execution_count": null,
   "id": "8ce16043-48bc-411c-9b0a-be611f95d602",
   "metadata": {
    "ExecuteTime": {
     "end_time": "2025-04-10T16:23:58.378472Z",
     "start_time": "2025-04-10T16:23:58.372911Z"
    }
   },
   "outputs": [],
   "source": []
  },
  {
   "cell_type": "markdown",
   "id": "f63fafe7-f52e-4dc7-beec-380828762245",
   "metadata": {},
   "source": [
    "# QC25 - Monthly factor\n",
    "[Back to Index](#Table-of-contents)\n",
    "\n",
    "#### Differences from `intense-qc`: \n",
    "- "
   ]
  },
  {
   "cell_type": "code",
   "execution_count": null,
   "id": "cea02d33-4923-41e0-8453-2ad9c13dae1f",
   "metadata": {
    "ExecuteTime": {
     "end_time": "2025-04-10T16:23:58.496291Z",
     "start_time": "2025-04-10T16:23:58.492889Z"
    }
   },
   "outputs": [],
   "source": []
  }
 ],
 "metadata": {
  "kernelspec": {
   "display_name": "rainfallqc",
   "language": "python",
   "name": "python3"
  },
  "language_info": {
   "codemirror_mode": {
    "name": "ipython",
    "version": 3
   },
   "file_extension": ".py",
   "mimetype": "text/x-python",
   "name": "python",
   "nbconvert_exporter": "python",
   "pygments_lexer": "ipython3",
   "version": "3.13.1"
  }
 },
 "nbformat": 4,
 "nbformat_minor": 5
}
