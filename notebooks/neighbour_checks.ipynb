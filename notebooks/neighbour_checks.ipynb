{
 "cells": [
  {
   "cell_type": "markdown",
   "id": "530f7296-c84f-4910-909d-b2c1f99fc035",
   "metadata": {},
   "source": [
    "# Neighbour checks for quality control flags\n",
    "Covers QC16-25\n",
    "\n",
    "## Table of contents\n",
    "[Neighbourhood functions](#neighbourhood-functions)  \n",
    "[QC16 Daily neighbours (wet)](#QC16---Daily-neighbours-wet)  \n",
    "[QC17 Hourly neighbours (wet)](#QC17---Hourly-neighbours-wet)  \n",
    "[QC18 Daily neighbours (dry)](#QC18---Daily-neighbours-dry)  \n",
    "[QC19 Hourly neighbours (dry)](#QC19---Hourly-neighbours-dry)  \n",
    "[QC20 Monthly neighbours](#QC20---Monthly-neighbours)  \n",
    "[QC21 Timing offset](#QC21---Timing-offset)  \n",
    "[QC22 Pre-QC Affinity](#QC22---Pre-QC-Affinity)  \n",
    "[QC23 Pre-QC Pearson](#QC23---Pre-QC-Pearson)  \n",
    "[QC24 Daily factor](#QC24---Daily-factor)  \n",
    "[QC25 Monthly factor](#QC25---Monthly-factor)  \n",
    "\n",
    "See '3.3.4 Neighbouring gauge checks on large values' in Lewis et al. (2021)"
   ]
  },
  {
   "cell_type": "code",
   "id": "4b1a0e6d",
   "metadata": {
    "ExecuteTime": {
     "end_time": "2025-04-17T12:09:41.705764Z",
     "start_time": "2025-04-17T12:09:41.697934Z"
    }
   },
   "source": [
    "import calendar\n",
    "import datetime\n",
    "import glob\n",
    "\n",
    "import zipfile  ## used once for Intense format data\n",
    "import pandas as pd  ## used once for Intense format data\n",
    "\n",
    "import polars as pl\n",
    "import numpy as np\n",
    "\n",
    "import scipy.stats\n",
    "import geopy.distance"
   ],
   "outputs": [],
   "execution_count": 320
  },
  {
   "cell_type": "code",
   "id": "e01b6d93",
   "metadata": {
    "ExecuteTime": {
     "end_time": "2025-04-17T12:09:42.396726Z",
     "start_time": "2025-04-17T12:09:42.390224Z"
    }
   },
   "source": [
    "TARGET_STATION_ID = \"DE_02483\"\n",
    "DISTANCE_THRESHOLD = 50  # 50 km\n",
    "OVERLAP_THRESHOLD = 365 * 3  # three years\n",
    "\n",
    "## Data reading globals\n",
    "GAUGE_DATA_PATH = \"../data/gauge_data\"\n",
    "DATA_ROWS_TO_SKIP = 20  ## First 20 rows are metadata TODO: what if not?\n",
    "UNIT_COL = \"new_units\"  ## There is an original_units col too TODO: think of way to do this for different data\n",
    "\n",
    "MULTIPLYING_FACTORS = {\"hourly\": 24, \"daily\": 1}  ## compared to daily reference"
   ],
   "outputs": [],
   "execution_count": 321
  },
  {
   "cell_type": "code",
   "id": "0436c1b7",
   "metadata": {
    "ExecuteTime": {
     "end_time": "2025-04-17T12:09:43.208269Z",
     "start_time": "2025-04-17T12:09:43.203607Z"
    }
   },
   "source": [
    "def read_metadata(data_path):\n",
    "    metadata = {}\n",
    "\n",
    "    with open(data_path, \"r\") as f:\n",
    "        while True:\n",
    "            key, val = f.readline().strip().split(\":\", maxsplit=1)\n",
    "            key = key.lower().replace(\" \", \"_\")\n",
    "            metadata[key.strip()] = val.strip()\n",
    "            if key == \"other\":\n",
    "                break\n",
    "    return metadata"
   ],
   "outputs": [],
   "execution_count": 322
  },
  {
   "cell_type": "code",
   "id": "72451179",
   "metadata": {
    "ExecuteTime": {
     "end_time": "2025-04-17T12:09:43.971612Z",
     "start_time": "2025-04-17T12:09:43.964518Z"
    }
   },
   "source": [
    "station_metadata = read_metadata(\n",
    "    data_path=f\"../data/gauge_data/{TARGET_STATION_ID}.txt\"\n",
    ")\n",
    "station_metadata[\"start_datetime\"] = datetime.datetime.strptime(\n",
    "    station_metadata[\"start_datetime\"], \"%Y%m%d%H\"\n",
    ")\n",
    "station_metadata[\"end_datetime\"] = datetime.datetime.strptime(\n",
    "    station_metadata[\"end_datetime\"], \"%Y%m%d%H\"\n",
    ")"
   ],
   "outputs": [],
   "execution_count": 323
  },
  {
   "cell_type": "code",
   "id": "7cc198b6",
   "metadata": {
    "ExecuteTime": {
     "end_time": "2025-04-17T12:09:44.765681Z",
     "start_time": "2025-04-17T12:09:44.760204Z"
    }
   },
   "source": [
    "def add_datetime_to_gauge_data(station_metadata, gauge_data, time_multiplying_factor):\n",
    "    \"\"\"\n",
    "    Add datetime column to gauge data using metadata from that gauge.\n",
    "    NOTE: Could maybe extend so can find metadata if not provided?\n",
    "    \"\"\"\n",
    "    startdate = station_metadata[\"start_datetime\"]\n",
    "    enddate = station_metadata[\"end_datetime\"]\n",
    "    assert isinstance(\n",
    "        startdate, datetime.datetime\n",
    "    ), \"Please convert start_ and end_datetime to datetime.datetime objects\"\n",
    "\n",
    "    date_interval = []\n",
    "    delta_days = (enddate + datetime.timedelta(days=1) - startdate).days\n",
    "    for i in range(delta_days * time_multiplying_factor):\n",
    "        date_interval.append(startdate + datetime.timedelta(hours=i))\n",
    "\n",
    "    ## add datetime column\n",
    "    assert len(gauge_data) == len(date_interval)\n",
    "    gauge_data = gauge_data.with_columns(\n",
    "        time=pl.Series(date_interval)\n",
    "    )  ## set time columns\n",
    "\n",
    "    return gauge_data"
   ],
   "outputs": [],
   "execution_count": 324
  },
  {
   "cell_type": "code",
   "id": "783e5eb9",
   "metadata": {
    "ExecuteTime": {
     "end_time": "2025-04-17T12:09:45.311320Z",
     "start_time": "2025-04-17T12:09:45.307257Z"
    }
   },
   "source": [
    "rain_col = f\"rain_{station_metadata['original_units']}\""
   ],
   "outputs": [],
   "execution_count": 325
  },
  {
   "cell_type": "code",
   "id": "eba66818",
   "metadata": {
    "ExecuteTime": {
     "end_time": "2025-04-17T12:09:45.696698Z",
     "start_time": "2025-04-17T12:09:45.669548Z"
    }
   },
   "source": [
    "## read in gauge data\n",
    "target_gauge = pl.read_csv(\n",
    "    f\"../data/gauge_data/{TARGET_STATION_ID}.txt\",\n",
    "    skip_rows=20,\n",
    "    schema_overrides={rain_col: pl.Float64},\n",
    ")"
   ],
   "outputs": [],
   "execution_count": 326
  },
  {
   "cell_type": "code",
   "id": "1b4d06bc",
   "metadata": {
    "ExecuteTime": {
     "end_time": "2025-04-17T12:09:46.092074Z",
     "start_time": "2025-04-17T12:09:46.008322Z"
    }
   },
   "source": [
    "target_gauge = add_datetime_to_gauge_data(\n",
    "    station_metadata,\n",
    "    target_gauge,\n",
    "    time_multiplying_factor=MULTIPLYING_FACTORS[\"hourly\"],\n",
    ")\n",
    "target_gauge = target_gauge.select([\"time\", rain_col])  ## Reorder (to look nice)"
   ],
   "outputs": [],
   "execution_count": 327
  },
  {
   "cell_type": "code",
   "id": "7cbef85c",
   "metadata": {
    "ExecuteTime": {
     "end_time": "2025-04-17T12:09:46.301836Z",
     "start_time": "2025-04-17T12:09:46.288025Z"
    }
   },
   "source": [
    "def replace_no_data_with_nan(data, no_data_value):\n",
    "    return data.with_columns(\n",
    "        pl.when(pl.col(rain_col) == no_data_value)\n",
    "        .then(np.nan)\n",
    "        .otherwise(pl.col(rain_col))\n",
    "        .alias(rain_col)\n",
    "    )"
   ],
   "outputs": [],
   "execution_count": 328
  },
  {
   "cell_type": "code",
   "id": "72f6f3db",
   "metadata": {
    "ExecuteTime": {
     "end_time": "2025-04-17T12:09:46.516088Z",
     "start_time": "2025-04-17T12:09:46.509752Z"
    }
   },
   "source": [
    "## make no data vals nans\n",
    "target_gauge = replace_no_data_with_nan(\n",
    "    target_gauge, no_data_value=int(station_metadata[\"no_data_value\"])\n",
    ")"
   ],
   "outputs": [],
   "execution_count": 329
  },
  {
   "cell_type": "code",
   "id": "57da3cfd",
   "metadata": {
    "ExecuteTime": {
     "end_time": "2025-04-17T12:09:46.758738Z",
     "start_time": "2025-04-17T12:09:46.751387Z"
    }
   },
   "source": [
    "target_gauge.head()"
   ],
   "outputs": [
    {
     "data": {
      "text/plain": [
       "shape: (5, 2)\n",
       "┌─────────────────────┬─────────┐\n",
       "│ time                ┆ rain_mm │\n",
       "│ ---                 ┆ ---     │\n",
       "│ datetime[μs]        ┆ f64     │\n",
       "╞═════════════════════╪═════════╡\n",
       "│ 2006-01-01 00:00:00 ┆ 0.9     │\n",
       "│ 2006-01-01 01:00:00 ┆ 0.3     │\n",
       "│ 2006-01-01 02:00:00 ┆ 0.3     │\n",
       "│ 2006-01-01 03:00:00 ┆ 0.0     │\n",
       "│ 2006-01-01 04:00:00 ┆ 0.0     │\n",
       "└─────────────────────┴─────────┘"
      ],
      "text/html": [
       "<div><style>\n",
       ".dataframe > thead > tr,\n",
       ".dataframe > tbody > tr {\n",
       "  text-align: right;\n",
       "  white-space: pre-wrap;\n",
       "}\n",
       "</style>\n",
       "<small>shape: (5, 2)</small><table border=\"1\" class=\"dataframe\"><thead><tr><th>time</th><th>rain_mm</th></tr><tr><td>datetime[μs]</td><td>f64</td></tr></thead><tbody><tr><td>2006-01-01 00:00:00</td><td>0.9</td></tr><tr><td>2006-01-01 01:00:00</td><td>0.3</td></tr><tr><td>2006-01-01 02:00:00</td><td>0.3</td></tr><tr><td>2006-01-01 03:00:00</td><td>0.0</td></tr><tr><td>2006-01-01 04:00:00</td><td>0.0</td></tr></tbody></table></div>"
      ]
     },
     "execution_count": 330,
     "metadata": {},
     "output_type": "execute_result"
    }
   ],
   "execution_count": 330
  },
  {
   "cell_type": "markdown",
   "id": "65e34f32",
   "metadata": {},
   "source": [
    "# Neighbourhood functions\n",
    "TODO: convert to Classes"
   ]
  },
  {
   "cell_type": "markdown",
   "id": "2e05d71b",
   "metadata": {},
   "source": [
    "### Part 1. Make or read summary metadata of stations"
   ]
  },
  {
   "cell_type": "code",
   "id": "56dd5d81",
   "metadata": {
    "ExecuteTime": {
     "end_time": "2025-04-17T12:09:47.456891Z",
     "start_time": "2025-04-17T12:09:47.448138Z"
    }
   },
   "source": [
    "## Could work by checking if metadata already exists (or user can input)\n",
    "all_gauge_data_paths = glob.glob(f\"{GAUGE_DATA_PATH}/*.txt\")\n",
    "all_gauge_data_paths"
   ],
   "outputs": [
    {
     "data": {
      "text/plain": [
       "['../data/gauge_data/DE_02718.txt',\n",
       " '../data/gauge_data/DE_00389.txt',\n",
       " '../data/gauge_data/DE_01300.txt',\n",
       " '../data/gauge_data/DE_00390.txt',\n",
       " '../data/gauge_data/DE_06264.txt',\n",
       " '../data/gauge_data/DE_02483.txt',\n",
       " '../data/gauge_data/DE_04488.txt',\n",
       " '../data/gauge_data/DE_03215.txt',\n",
       " '../data/gauge_data/DE_04313.txt',\n",
       " '../data/gauge_data/DE_00310.txt',\n",
       " '../data/gauge_data/DE_06303.txt']"
      ]
     },
     "execution_count": 331,
     "metadata": {},
     "output_type": "execute_result"
    }
   ],
   "execution_count": 331
  },
  {
   "cell_type": "code",
   "id": "9b217948",
   "metadata": {
    "ExecuteTime": {
     "end_time": "2025-04-17T12:09:47.780144Z",
     "start_time": "2025-04-17T12:09:47.773001Z"
    }
   },
   "source": [
    "all_station_metadata_list = []\n",
    "for ind, file in enumerate(all_gauge_data_paths):\n",
    "    one_station_metadata = read_metadata(data_path=file)\n",
    "    all_station_metadata_list.append(one_station_metadata)"
   ],
   "outputs": [],
   "execution_count": 332
  },
  {
   "cell_type": "code",
   "id": "442c16fe",
   "metadata": {
    "ExecuteTime": {
     "end_time": "2025-04-17T12:09:48.125786Z",
     "start_time": "2025-04-17T12:09:48.098340Z"
    }
   },
   "source": [
    "all_station_metadata = pl.from_dicts(all_station_metadata_list)\n",
    "all_station_metadata = all_station_metadata.with_columns(\n",
    "    pl.col(\"latitude\").cast(pl.Float64),\n",
    "    pl.col(\"longitude\").cast(pl.Float64),\n",
    "    (pl.col(\"start_datetime\") + \"00\").str.strptime(pl.Datetime, \"%Y%m%d%H%M\"),\n",
    "    (pl.col(\"end_datetime\") + \"00\").str.strptime(pl.Datetime, \"%Y%m%d%H%M\"),\n",
    ")\n",
    "all_station_metadata.head()"
   ],
   "outputs": [
    {
     "data": {
      "text/plain": [
       "shape: (5, 21)\n",
       "┌────────────┬─────────┬────────────┬────────────┬───┬────────────┬────────────┬───────────┬───────┐\n",
       "│ station_id ┆ country ┆ original_s ┆ original_s ┆ … ┆ daylight_s ┆ no_data_va ┆ resolutio ┆ other │\n",
       "│ ---        ┆ ---     ┆ tation_num ┆ tation_nam ┆   ┆ aving_info ┆ lue        ┆ n         ┆ ---   │\n",
       "│ str        ┆ str     ┆ ber        ┆ e          ┆   ┆ ---        ┆ ---        ┆ ---       ┆ str   │\n",
       "│            ┆         ┆ ---        ┆ ---        ┆   ┆ str        ┆ str        ┆ str       ┆       │\n",
       "│            ┆         ┆ str        ┆ str        ┆   ┆            ┆            ┆           ┆       │\n",
       "╞════════════╪═════════╪════════════╪════════════╪═══╪════════════╪════════════╪═══════════╪═══════╡\n",
       "│ DE_02718   ┆ Germany ┆ 02718      ┆ NA         ┆ … ┆ NA         ┆ -999       ┆ 0.10      ┆       │\n",
       "│ DE_00389   ┆ Germany ┆ 00389      ┆ NA         ┆ … ┆ NA         ┆ -999       ┆ 0.10      ┆       │\n",
       "│ DE_01300   ┆ Germany ┆ 01300      ┆ NA         ┆ … ┆ NA         ┆ -999       ┆ 0.10      ┆       │\n",
       "│ DE_00390   ┆ Germany ┆ 00390      ┆ NA         ┆ … ┆ NA         ┆ -999       ┆ 0.10      ┆       │\n",
       "│ DE_06264   ┆ Germany ┆ 06264      ┆ NA         ┆ … ┆ NA         ┆ -999       ┆ 0.10      ┆       │\n",
       "└────────────┴─────────┴────────────┴────────────┴───┴────────────┴────────────┴───────────┴───────┘"
      ],
      "text/html": [
       "<div><style>\n",
       ".dataframe > thead > tr,\n",
       ".dataframe > tbody > tr {\n",
       "  text-align: right;\n",
       "  white-space: pre-wrap;\n",
       "}\n",
       "</style>\n",
       "<small>shape: (5, 21)</small><table border=\"1\" class=\"dataframe\"><thead><tr><th>station_id</th><th>country</th><th>original_station_number</th><th>original_station_name</th><th>path_to_original_data</th><th>latitude</th><th>longitude</th><th>start_datetime</th><th>end_datetime</th><th>elevation</th><th>number_of_records</th><th>percent_missing_data</th><th>original_timestep</th><th>new_timestep</th><th>original_units</th><th>new_units</th><th>time_zone</th><th>daylight_saving_info</th><th>no_data_value</th><th>resolution</th><th>other</th></tr><tr><td>str</td><td>str</td><td>str</td><td>str</td><td>str</td><td>f64</td><td>f64</td><td>datetime[μs]</td><td>datetime[μs]</td><td>str</td><td>str</td><td>str</td><td>str</td><td>str</td><td>str</td><td>str</td><td>str</td><td>str</td><td>str</td><td>str</td><td>str</td></tr></thead><tbody><tr><td>&quot;DE_02718&quot;</td><td>&quot;Germany&quot;</td><td>&quot;02718&quot;</td><td>&quot;NA&quot;</td><td>&quot;B:/INTENSE data/Original data/…</td><td>51.288</td><td>8.7928</td><td>2006-01-01 00:00:00</td><td>2010-12-31 23:00:00</td><td>&quot;458m&quot;</td><td>&quot;43824&quot;</td><td>&quot;0.00&quot;</td><td>&quot;1hr&quot;</td><td>&quot;1hr&quot;</td><td>&quot;mm&quot;</td><td>&quot;mm&quot;</td><td>&quot;CET&quot;</td><td>&quot;NA&quot;</td><td>&quot;-999&quot;</td><td>&quot;0.10&quot;</td><td>&quot;&quot;</td></tr><tr><td>&quot;DE_00389&quot;</td><td>&quot;Germany&quot;</td><td>&quot;00389&quot;</td><td>&quot;NA&quot;</td><td>&quot;B:/INTENSE data/Original data/…</td><td>51.0148</td><td>8.4318</td><td>2009-11-01 00:00:00</td><td>2010-12-31 23:00:00</td><td>&quot;436m&quot;</td><td>&quot;10224&quot;</td><td>&quot;0.00&quot;</td><td>&quot;1hr&quot;</td><td>&quot;1hr&quot;</td><td>&quot;mm&quot;</td><td>&quot;mm&quot;</td><td>&quot;CET&quot;</td><td>&quot;NA&quot;</td><td>&quot;-999&quot;</td><td>&quot;0.10&quot;</td><td>&quot;&quot;</td></tr><tr><td>&quot;DE_01300&quot;</td><td>&quot;Germany&quot;</td><td>&quot;01300&quot;</td><td>&quot;NA&quot;</td><td>&quot;B:/INTENSE data/Original data/…</td><td>51.254</td><td>8.1565</td><td>2006-01-01 00:00:00</td><td>2010-12-31 23:00:00</td><td>&quot;351m&quot;</td><td>&quot;43824&quot;</td><td>&quot;0.00&quot;</td><td>&quot;1hr&quot;</td><td>&quot;1hr&quot;</td><td>&quot;mm&quot;</td><td>&quot;mm&quot;</td><td>&quot;CET&quot;</td><td>&quot;NA&quot;</td><td>&quot;-999&quot;</td><td>&quot;0.10&quot;</td><td>&quot;&quot;</td></tr><tr><td>&quot;DE_00390&quot;</td><td>&quot;Germany&quot;</td><td>&quot;00390&quot;</td><td>&quot;NA&quot;</td><td>&quot;B:/INTENSE data/Original data/…</td><td>50.9837</td><td>8.3679</td><td>2006-01-01 00:00:00</td><td>2010-12-31 23:00:00</td><td>&quot;610m&quot;</td><td>&quot;43824&quot;</td><td>&quot;0.00&quot;</td><td>&quot;1hr&quot;</td><td>&quot;1hr&quot;</td><td>&quot;mm&quot;</td><td>&quot;mm&quot;</td><td>&quot;CET&quot;</td><td>&quot;NA&quot;</td><td>&quot;-999&quot;</td><td>&quot;0.10&quot;</td><td>&quot;&quot;</td></tr><tr><td>&quot;DE_06264&quot;</td><td>&quot;Germany&quot;</td><td>&quot;06264&quot;</td><td>&quot;NA&quot;</td><td>&quot;B:/INTENSE data/Original data/…</td><td>51.4143</td><td>8.6498</td><td>2006-01-01 00:00:00</td><td>2010-12-31 23:00:00</td><td>&quot;457m&quot;</td><td>&quot;43824&quot;</td><td>&quot;0.00&quot;</td><td>&quot;1hr&quot;</td><td>&quot;1hr&quot;</td><td>&quot;mm&quot;</td><td>&quot;mm&quot;</td><td>&quot;CET&quot;</td><td>&quot;NA&quot;</td><td>&quot;-999&quot;</td><td>&quot;0.10&quot;</td><td>&quot;&quot;</td></tr></tbody></table></div>"
      ]
     },
     "execution_count": 333,
     "metadata": {},
     "output_type": "execute_result"
    }
   ],
   "execution_count": 333
  },
  {
   "cell_type": "markdown",
   "id": "d12847bb",
   "metadata": {},
   "source": [
    "### Part 2. Compute distance from target station\n",
    "TODO: What if the location data is in a different projection i.e. EPSG: 27700?  \n",
    "TODO: Remove duplicates"
   ]
  },
  {
   "cell_type": "code",
   "id": "567b1846",
   "metadata": {
    "ExecuteTime": {
     "end_time": "2025-04-17T12:09:48.511867Z",
     "start_time": "2025-04-17T12:09:48.507297Z"
    }
   },
   "source": [
    "def compute_distance_from_target_id(metadata, target_id):\n",
    "    target_station = metadata.filter(pl.col(\"station_id\") == target_id)\n",
    "    target_latlon = (\n",
    "        target_station[\"latitude\"].item(),\n",
    "        target_station[\"longitude\"].item(),\n",
    "    )\n",
    "\n",
    "    neighbour_distances = {}\n",
    "    for other_station_id, other_lat, other_lon in metadata[\n",
    "        [\"station_id\", \"latitude\", \"longitude\"]\n",
    "    ].rows():\n",
    "\n",
    "        neighbour_distances[other_station_id] = geopy.distance.geodesic(\n",
    "            target_latlon, (other_lat, other_lon)\n",
    "        ).kilometers\n",
    "    return neighbour_distances"
   ],
   "outputs": [],
   "execution_count": 334
  },
  {
   "cell_type": "code",
   "id": "3d5e59fb",
   "metadata": {
    "ExecuteTime": {
     "end_time": "2025-04-17T12:09:49.099279Z",
     "start_time": "2025-04-17T12:09:49.090924Z"
    }
   },
   "source": [
    "neighbours_distances = compute_distance_from_target_id(\n",
    "    all_station_metadata, TARGET_STATION_ID\n",
    ")\n",
    "neighbours_distances"
   ],
   "outputs": [
    {
     "data": {
      "text/plain": [
       "{'DE_02718': 24.361752991036987,\n",
       " 'DE_00389': 18.844342416100808,\n",
       " 'DE_01300': 24.64263807685722,\n",
       " 'DE_00390': 23.462778369145934,\n",
       " 'DE_06264': 28.343769567230837,\n",
       " 'DE_02483': 0.0,\n",
       " 'DE_04488': 15.929311137997068,\n",
       " 'DE_03215': 15.710073576478786,\n",
       " 'DE_04313': 35.397225659812456,\n",
       " 'DE_00310': 13.134594190689885,\n",
       " 'DE_06303': 13.96385857171046}"
      ]
     },
     "execution_count": 335,
     "metadata": {},
     "output_type": "execute_result"
    }
   ],
   "execution_count": 335
  },
  {
   "cell_type": "code",
   "id": "a05ce598",
   "metadata": {
    "ExecuteTime": {
     "end_time": "2025-04-17T12:09:49.369896Z",
     "start_time": "2025-04-17T12:09:49.358329Z"
    }
   },
   "source": [
    "# ALTERNATIVE: do we want to avoid using geopy.distance and simply write a distance function?\n",
    "# # ALTERNATIVE: maybe precompute a matrix of distances?\n",
    "# all_station_dist_mtx = scipy.spatial.distance.cdist(all_station_metadata[['latitude', 'longitude']].rows(),\n",
    "#                                         all_station_metadata[['latitude', 'longitude']].rows(),\n",
    "#                                         metric=lambda pnt1, pnt2: geopy.distance.geodesic(pnt1, pnt2).kilometers)"
   ],
   "outputs": [],
   "execution_count": 336
  },
  {
   "cell_type": "code",
   "id": "15d4dc66",
   "metadata": {
    "ExecuteTime": {
     "end_time": "2025-04-17T12:09:49.704504Z",
     "start_time": "2025-04-17T12:09:49.694642Z"
    }
   },
   "source": [
    "neighbours_distances_df = pl.DataFrame(\n",
    "    {\n",
    "        \"station_id\": neighbours_distances.keys(),\n",
    "        \"distances\": neighbours_distances.values(),\n",
    "    }\n",
    ")\n",
    "neighbours_distances_df"
   ],
   "outputs": [
    {
     "data": {
      "text/plain": [
       "shape: (11, 2)\n",
       "┌────────────┬───────────┐\n",
       "│ station_id ┆ distances │\n",
       "│ ---        ┆ ---       │\n",
       "│ str        ┆ f64       │\n",
       "╞════════════╪═══════════╡\n",
       "│ DE_02718   ┆ 24.361753 │\n",
       "│ DE_00389   ┆ 18.844342 │\n",
       "│ DE_01300   ┆ 24.642638 │\n",
       "│ DE_00390   ┆ 23.462778 │\n",
       "│ DE_06264   ┆ 28.34377  │\n",
       "│ …          ┆ …         │\n",
       "│ DE_04488   ┆ 15.929311 │\n",
       "│ DE_03215   ┆ 15.710074 │\n",
       "│ DE_04313   ┆ 35.397226 │\n",
       "│ DE_00310   ┆ 13.134594 │\n",
       "│ DE_06303   ┆ 13.963859 │\n",
       "└────────────┴───────────┘"
      ],
      "text/html": [
       "<div><style>\n",
       ".dataframe > thead > tr,\n",
       ".dataframe > tbody > tr {\n",
       "  text-align: right;\n",
       "  white-space: pre-wrap;\n",
       "}\n",
       "</style>\n",
       "<small>shape: (11, 2)</small><table border=\"1\" class=\"dataframe\"><thead><tr><th>station_id</th><th>distances</th></tr><tr><td>str</td><td>f64</td></tr></thead><tbody><tr><td>&quot;DE_02718&quot;</td><td>24.361753</td></tr><tr><td>&quot;DE_00389&quot;</td><td>18.844342</td></tr><tr><td>&quot;DE_01300&quot;</td><td>24.642638</td></tr><tr><td>&quot;DE_00390&quot;</td><td>23.462778</td></tr><tr><td>&quot;DE_06264&quot;</td><td>28.34377</td></tr><tr><td>&hellip;</td><td>&hellip;</td></tr><tr><td>&quot;DE_04488&quot;</td><td>15.929311</td></tr><tr><td>&quot;DE_03215&quot;</td><td>15.710074</td></tr><tr><td>&quot;DE_04313&quot;</td><td>35.397226</td></tr><tr><td>&quot;DE_00310&quot;</td><td>13.134594</td></tr><tr><td>&quot;DE_06303&quot;</td><td>13.963859</td></tr></tbody></table></div>"
      ]
     },
     "execution_count": 337,
     "metadata": {},
     "output_type": "execute_result"
    }
   ],
   "execution_count": 337
  },
  {
   "cell_type": "code",
   "id": "06a1e697",
   "metadata": {
    "ExecuteTime": {
     "end_time": "2025-04-17T12:09:50.025569Z",
     "start_time": "2025-04-17T12:09:50.013681Z"
    }
   },
   "source": [
    "## Subset based on 50 km\n",
    "close_neighbours = neighbours_distances_df.filter(\n",
    "    (pl.col(\"distances\") <= DISTANCE_THRESHOLD) & (pl.col(\"distances\") != 0)\n",
    ")\n",
    "\n",
    "## closest 10\n",
    "close_neighbours.sort(\"distances\")[:10]"
   ],
   "outputs": [
    {
     "data": {
      "text/plain": [
       "shape: (10, 2)\n",
       "┌────────────┬───────────┐\n",
       "│ station_id ┆ distances │\n",
       "│ ---        ┆ ---       │\n",
       "│ str        ┆ f64       │\n",
       "╞════════════╪═══════════╡\n",
       "│ DE_00310   ┆ 13.134594 │\n",
       "│ DE_06303   ┆ 13.963859 │\n",
       "│ DE_03215   ┆ 15.710074 │\n",
       "│ DE_04488   ┆ 15.929311 │\n",
       "│ DE_00389   ┆ 18.844342 │\n",
       "│ DE_00390   ┆ 23.462778 │\n",
       "│ DE_02718   ┆ 24.361753 │\n",
       "│ DE_01300   ┆ 24.642638 │\n",
       "│ DE_06264   ┆ 28.34377  │\n",
       "│ DE_04313   ┆ 35.397226 │\n",
       "└────────────┴───────────┘"
      ],
      "text/html": [
       "<div><style>\n",
       ".dataframe > thead > tr,\n",
       ".dataframe > tbody > tr {\n",
       "  text-align: right;\n",
       "  white-space: pre-wrap;\n",
       "}\n",
       "</style>\n",
       "<small>shape: (10, 2)</small><table border=\"1\" class=\"dataframe\"><thead><tr><th>station_id</th><th>distances</th></tr><tr><td>str</td><td>f64</td></tr></thead><tbody><tr><td>&quot;DE_00310&quot;</td><td>13.134594</td></tr><tr><td>&quot;DE_06303&quot;</td><td>13.963859</td></tr><tr><td>&quot;DE_03215&quot;</td><td>15.710074</td></tr><tr><td>&quot;DE_04488&quot;</td><td>15.929311</td></tr><tr><td>&quot;DE_00389&quot;</td><td>18.844342</td></tr><tr><td>&quot;DE_00390&quot;</td><td>23.462778</td></tr><tr><td>&quot;DE_02718&quot;</td><td>24.361753</td></tr><tr><td>&quot;DE_01300&quot;</td><td>24.642638</td></tr><tr><td>&quot;DE_06264&quot;</td><td>28.34377</td></tr><tr><td>&quot;DE_04313&quot;</td><td>35.397226</td></tr></tbody></table></div>"
      ]
     },
     "execution_count": 338,
     "metadata": {},
     "output_type": "execute_result"
    }
   ],
   "execution_count": 338
  },
  {
   "cell_type": "markdown",
   "id": "4635d967",
   "metadata": {},
   "source": [
    "### Part 3. Compute the temporal overlap"
   ]
  },
  {
   "cell_type": "code",
   "id": "0ceaafab",
   "metadata": {
    "ExecuteTime": {
     "end_time": "2025-04-17T12:09:50.349330Z",
     "start_time": "2025-04-17T12:09:50.339208Z"
    }
   },
   "source": [
    "def compute_overlap_days(start_1, end_1, start_2, end_2):\n",
    "    ## TODO: add cast to datetime functionality/checks\n",
    "    ## compute overlap\n",
    "    overlap_start = max(start_1, start_2)\n",
    "    overlap_end = min(end_1, end_2)\n",
    "\n",
    "    overlap_days = max(0, (overlap_end - overlap_start).days)\n",
    "\n",
    "    return overlap_days"
   ],
   "outputs": [],
   "execution_count": 339
  },
  {
   "cell_type": "code",
   "id": "c9996026",
   "metadata": {
    "ExecuteTime": {
     "end_time": "2025-04-17T12:09:50.626328Z",
     "start_time": "2025-04-17T12:09:50.622183Z"
    }
   },
   "source": [
    "def compute_overlap_days_from_target_id(metadata, target_id):\n",
    "    target_station = metadata.filter(pl.col(\"station_id\") == target_id)\n",
    "    start_1, end_1 = (\n",
    "        target_station[\"start_datetime\"].item(),\n",
    "        target_station[\"end_datetime\"].item(),\n",
    "    )\n",
    "\n",
    "    neighbour_overlap_days = {}\n",
    "    for other_station_id, start_2, end_2 in metadata[\n",
    "        [\"station_id\", \"start_datetime\", \"end_datetime\"]\n",
    "    ].rows():\n",
    "        if target_id == other_station_id:\n",
    "            continue\n",
    "\n",
    "        neighbour_overlap_days[other_station_id] = compute_overlap_days(\n",
    "            start_1, end_1, start_2, end_2\n",
    "        )\n",
    "    return neighbour_overlap_days"
   ],
   "outputs": [],
   "execution_count": 340
  },
  {
   "cell_type": "code",
   "id": "8d7cb147",
   "metadata": {
    "ExecuteTime": {
     "end_time": "2025-04-17T12:09:50.889664Z",
     "start_time": "2025-04-17T12:09:50.872566Z"
    }
   },
   "source": [
    "neighbour_overlap_days = compute_overlap_days_from_target_id(\n",
    "    all_station_metadata, TARGET_STATION_ID\n",
    ")\n",
    "neighbour_overlap_days"
   ],
   "outputs": [
    {
     "data": {
      "text/plain": [
       "{'DE_02718': 1825,\n",
       " 'DE_00389': 425,\n",
       " 'DE_01300': 1825,\n",
       " 'DE_00390': 1825,\n",
       " 'DE_06264': 1825,\n",
       " 'DE_04488': 1613,\n",
       " 'DE_03215': 1309,\n",
       " 'DE_04313': 1825,\n",
       " 'DE_00310': 1825,\n",
       " 'DE_06303': 1825}"
      ]
     },
     "execution_count": 341,
     "metadata": {},
     "output_type": "execute_result"
    }
   ],
   "execution_count": 341
  },
  {
   "cell_type": "markdown",
   "id": "01ed8d5d",
   "metadata": {},
   "source": [
    "#### Subset based on 3 years"
   ]
  },
  {
   "cell_type": "code",
   "id": "f13c19aa",
   "metadata": {
    "ExecuteTime": {
     "end_time": "2025-04-17T12:09:51.263419Z",
     "start_time": "2025-04-17T12:09:51.256877Z"
    }
   },
   "source": [
    "neighbour_overlap_days_df = pl.DataFrame(\n",
    "    {\n",
    "        \"station_id\": neighbour_overlap_days.keys(),\n",
    "        \"overlap_days\": neighbour_overlap_days.values(),\n",
    "    }\n",
    ")\n",
    "neighbour_overlap_days_df"
   ],
   "outputs": [
    {
     "data": {
      "text/plain": [
       "shape: (10, 2)\n",
       "┌────────────┬──────────────┐\n",
       "│ station_id ┆ overlap_days │\n",
       "│ ---        ┆ ---          │\n",
       "│ str        ┆ i64          │\n",
       "╞════════════╪══════════════╡\n",
       "│ DE_02718   ┆ 1825         │\n",
       "│ DE_00389   ┆ 425          │\n",
       "│ DE_01300   ┆ 1825         │\n",
       "│ DE_00390   ┆ 1825         │\n",
       "│ DE_06264   ┆ 1825         │\n",
       "│ DE_04488   ┆ 1613         │\n",
       "│ DE_03215   ┆ 1309         │\n",
       "│ DE_04313   ┆ 1825         │\n",
       "│ DE_00310   ┆ 1825         │\n",
       "│ DE_06303   ┆ 1825         │\n",
       "└────────────┴──────────────┘"
      ],
      "text/html": [
       "<div><style>\n",
       ".dataframe > thead > tr,\n",
       ".dataframe > tbody > tr {\n",
       "  text-align: right;\n",
       "  white-space: pre-wrap;\n",
       "}\n",
       "</style>\n",
       "<small>shape: (10, 2)</small><table border=\"1\" class=\"dataframe\"><thead><tr><th>station_id</th><th>overlap_days</th></tr><tr><td>str</td><td>i64</td></tr></thead><tbody><tr><td>&quot;DE_02718&quot;</td><td>1825</td></tr><tr><td>&quot;DE_00389&quot;</td><td>425</td></tr><tr><td>&quot;DE_01300&quot;</td><td>1825</td></tr><tr><td>&quot;DE_00390&quot;</td><td>1825</td></tr><tr><td>&quot;DE_06264&quot;</td><td>1825</td></tr><tr><td>&quot;DE_04488&quot;</td><td>1613</td></tr><tr><td>&quot;DE_03215&quot;</td><td>1309</td></tr><tr><td>&quot;DE_04313&quot;</td><td>1825</td></tr><tr><td>&quot;DE_00310&quot;</td><td>1825</td></tr><tr><td>&quot;DE_06303&quot;</td><td>1825</td></tr></tbody></table></div>"
      ]
     },
     "execution_count": 342,
     "metadata": {},
     "output_type": "execute_result"
    }
   ],
   "execution_count": 342
  },
  {
   "cell_type": "code",
   "id": "e506ef05",
   "metadata": {
    "ExecuteTime": {
     "end_time": "2025-04-17T12:09:51.759Z",
     "start_time": "2025-04-17T12:09:51.746299Z"
    }
   },
   "source": [
    "neighbour_overlap_days_df.filter(pl.col(\"overlap_days\") >= OVERLAP_THRESHOLD)"
   ],
   "outputs": [
    {
     "data": {
      "text/plain": [
       "shape: (9, 2)\n",
       "┌────────────┬──────────────┐\n",
       "│ station_id ┆ overlap_days │\n",
       "│ ---        ┆ ---          │\n",
       "│ str        ┆ i64          │\n",
       "╞════════════╪══════════════╡\n",
       "│ DE_02718   ┆ 1825         │\n",
       "│ DE_01300   ┆ 1825         │\n",
       "│ DE_00390   ┆ 1825         │\n",
       "│ DE_06264   ┆ 1825         │\n",
       "│ DE_04488   ┆ 1613         │\n",
       "│ DE_03215   ┆ 1309         │\n",
       "│ DE_04313   ┆ 1825         │\n",
       "│ DE_00310   ┆ 1825         │\n",
       "│ DE_06303   ┆ 1825         │\n",
       "└────────────┴──────────────┘"
      ],
      "text/html": [
       "<div><style>\n",
       ".dataframe > thead > tr,\n",
       ".dataframe > tbody > tr {\n",
       "  text-align: right;\n",
       "  white-space: pre-wrap;\n",
       "}\n",
       "</style>\n",
       "<small>shape: (9, 2)</small><table border=\"1\" class=\"dataframe\"><thead><tr><th>station_id</th><th>overlap_days</th></tr><tr><td>str</td><td>i64</td></tr></thead><tbody><tr><td>&quot;DE_02718&quot;</td><td>1825</td></tr><tr><td>&quot;DE_01300&quot;</td><td>1825</td></tr><tr><td>&quot;DE_00390&quot;</td><td>1825</td></tr><tr><td>&quot;DE_06264&quot;</td><td>1825</td></tr><tr><td>&quot;DE_04488&quot;</td><td>1613</td></tr><tr><td>&quot;DE_03215&quot;</td><td>1309</td></tr><tr><td>&quot;DE_04313&quot;</td><td>1825</td></tr><tr><td>&quot;DE_00310&quot;</td><td>1825</td></tr><tr><td>&quot;DE_06303&quot;</td><td>1825</td></tr></tbody></table></div>"
      ]
     },
     "execution_count": 343,
     "metadata": {},
     "output_type": "execute_result"
    }
   ],
   "execution_count": 343
  },
  {
   "cell_type": "markdown",
   "id": "9f159f4d",
   "metadata": {},
   "source": [
    "## Part 4. Bring together to get neighbours both close and overlapping"
   ]
  },
  {
   "cell_type": "code",
   "id": "8d2d7eaf",
   "metadata": {
    "ExecuteTime": {
     "end_time": "2025-04-17T12:09:52.127247Z",
     "start_time": "2025-04-17T12:09:52.117637Z"
    }
   },
   "source": [
    "num_closest_gauges = 10  ## based on IntenseQC"
   ],
   "outputs": [],
   "execution_count": 344
  },
  {
   "cell_type": "code",
   "id": "a0e7071a",
   "metadata": {
    "ExecuteTime": {
     "end_time": "2025-04-17T12:09:52.419481Z",
     "start_time": "2025-04-17T12:09:52.392268Z"
    }
   },
   "source": [
    "## Subset based on 50 km\n",
    "close_neighbour_ids = neighbours_distances_df.filter(\n",
    "    (pl.col(\"distances\") <= DISTANCE_THRESHOLD) & (pl.col(\"distances\") != 0)\n",
    ")\n",
    "## closest 10 values\n",
    "closest_neighbour_ids = close_neighbour_ids.sort(\"distances\")[:num_closest_gauges][\n",
    "    \"station_id\"\n",
    "].to_list()\n",
    "\n",
    "## Subset based on 3 years\n",
    "overlapping_neighbour_ids = neighbour_overlap_days_df.filter(\n",
    "    pl.col(\"overlap_days\") >= OVERLAP_THRESHOLD\n",
    ")[\"station_id\"].to_list()"
   ],
   "outputs": [],
   "execution_count": 345
  },
  {
   "cell_type": "code",
   "id": "e1517bff",
   "metadata": {
    "ExecuteTime": {
     "end_time": "2025-04-17T12:09:52.978499Z",
     "start_time": "2025-04-17T12:09:52.963384Z"
    }
   },
   "source": [
    "all_neighbour_ids = set(overlapping_neighbour_ids).intersection(\n",
    "    set(closest_neighbour_ids)\n",
    ")\n",
    "all_neighbour_ids"
   ],
   "outputs": [
    {
     "data": {
      "text/plain": [
       "{'DE_00310',\n",
       " 'DE_00390',\n",
       " 'DE_01300',\n",
       " 'DE_02718',\n",
       " 'DE_03215',\n",
       " 'DE_04313',\n",
       " 'DE_04488',\n",
       " 'DE_06264',\n",
       " 'DE_06303'}"
      ]
     },
     "execution_count": 346,
     "metadata": {},
     "output_type": "execute_result"
    }
   ],
   "execution_count": 346
  },
  {
   "cell_type": "code",
   "id": "9482e133",
   "metadata": {
    "ExecuteTime": {
     "end_time": "2025-04-17T12:10:30.595508Z",
     "start_time": "2025-04-17T12:10:30.581995Z"
    }
   },
   "source": [
    "all_neighbour_ids_paths = {}\n",
    "for n_id in all_neighbour_ids:\n",
    "    ids_path = glob.glob(f\"{GAUGE_DATA_PATH}/*{n_id}.txt\")\n",
    "    assert len(ids_path) == 1, f\"There are {len(ids_path)} data files for {n_id}\"\n",
    "    all_neighbour_ids_paths[n_id] = ids_path[0]"
   ],
   "outputs": [],
   "execution_count": 355
  },
  {
   "cell_type": "code",
   "id": "07ddf6ac",
   "metadata": {
    "ExecuteTime": {
     "end_time": "2025-04-17T12:10:33.137720Z",
     "start_time": "2025-04-17T12:10:33.133245Z"
    }
   },
   "source": [
    "all_neighbour_ids_paths"
   ],
   "outputs": [
    {
     "data": {
      "text/plain": [
       "{'DE_03215': '../data/gauge_data/DE_03215.txt',\n",
       " 'DE_02718': '../data/gauge_data/DE_02718.txt',\n",
       " 'DE_04488': '../data/gauge_data/DE_04488.txt',\n",
       " 'DE_06264': '../data/gauge_data/DE_06264.txt',\n",
       " 'DE_00390': '../data/gauge_data/DE_00390.txt',\n",
       " 'DE_01300': '../data/gauge_data/DE_01300.txt',\n",
       " 'DE_04313': '../data/gauge_data/DE_04313.txt',\n",
       " 'DE_06303': '../data/gauge_data/DE_06303.txt',\n",
       " 'DE_00310': '../data/gauge_data/DE_00310.txt'}"
      ]
     },
     "execution_count": 356,
     "metadata": {},
     "output_type": "execute_result"
    }
   ],
   "execution_count": 356
  },
  {
   "cell_type": "markdown",
   "id": "7fbabd29",
   "metadata": {},
   "source": [
    "## Part 5. Get neighbouring GDSR gauge by ID (an example)"
   ]
  },
  {
   "cell_type": "code",
   "id": "363a4e5c",
   "metadata": {
    "ExecuteTime": {
     "end_time": "2025-04-17T12:10:34.518620Z",
     "start_time": "2025-04-17T12:10:34.505374Z"
    }
   },
   "source": [
    "def get_neighbouring_gdsr_data(neighbour_gdsr_id, time_multiplying_factor):\n",
    "    data_path = all_neighbour_ids_paths[neighbour_gdsr_id]\n",
    "    stn_metadata = all_station_metadata.filter(\n",
    "        pl.col(\"station_id\") == neighbour_gdsr_id\n",
    "    )\n",
    "    assert (\n",
    "        len(stn_metadata) == 1\n",
    "    ), f\"There are {len(stn_metadata)} metadata values for {neighbour_gdsr_id}. Investigate because there should only be one\"\n",
    "    stn_metadata = stn_metadata.to_dicts()[0]  ## convert df to a dict\n",
    "\n",
    "    ## Read in gauge data\n",
    "    units = stn_metadata[UNIT_COL]\n",
    "    rain_col_name = f\"rain_{units}\"\n",
    "    gdsr_data = pl.read_csv(\n",
    "        data_path, skip_rows=DATA_ROWS_TO_SKIP, schema_overrides={rain_col_name: pl.Float64}\n",
    "    )\n",
    "\n",
    "    ## make datetime column\n",
    "    gdsr_data_w_dates = add_datetime_to_gauge_data(\n",
    "        stn_metadata, gdsr_data, time_multiplying_factor=time_multiplying_factor\n",
    "    )\n",
    "    gdsr_data_w_dates = gdsr_data_w_dates.select(\n",
    "        [\"time\", rain_col_name]\n",
    "    )  ## Reorder (to look nice)\n",
    "\n",
    "    return gdsr_data_w_dates"
   ],
   "outputs": [],
   "execution_count": 357
  },
  {
   "cell_type": "code",
   "id": "46235227",
   "metadata": {
    "ExecuteTime": {
     "end_time": "2025-04-17T12:10:35.270234Z",
     "start_time": "2025-04-17T12:10:35.184620Z"
    }
   },
   "source": [
    "get_neighbouring_gdsr_data(\n",
    "    neighbour_gdsr_id=\"DE_06264\", time_multiplying_factor=MULTIPLYING_FACTORS[\"hourly\"]\n",
    ")"
   ],
   "outputs": [
    {
     "data": {
      "text/plain": [
       "shape: (43_824, 2)\n",
       "┌─────────────────────┬─────────┐\n",
       "│ time                ┆ rain_mm │\n",
       "│ ---                 ┆ ---     │\n",
       "│ datetime[μs]        ┆ f64     │\n",
       "╞═════════════════════╪═════════╡\n",
       "│ 2006-01-01 00:00:00 ┆ 0.0     │\n",
       "│ 2006-01-01 01:00:00 ┆ 0.1     │\n",
       "│ 2006-01-01 02:00:00 ┆ 0.0     │\n",
       "│ 2006-01-01 03:00:00 ┆ 0.0     │\n",
       "│ 2006-01-01 04:00:00 ┆ 0.0     │\n",
       "│ …                   ┆ …       │\n",
       "│ 2010-12-31 19:00:00 ┆ 0.0     │\n",
       "│ 2010-12-31 20:00:00 ┆ 0.0     │\n",
       "│ 2010-12-31 21:00:00 ┆ 0.0     │\n",
       "│ 2010-12-31 22:00:00 ┆ 0.0     │\n",
       "│ 2010-12-31 23:00:00 ┆ 0.0     │\n",
       "└─────────────────────┴─────────┘"
      ],
      "text/html": [
       "<div><style>\n",
       ".dataframe > thead > tr,\n",
       ".dataframe > tbody > tr {\n",
       "  text-align: right;\n",
       "  white-space: pre-wrap;\n",
       "}\n",
       "</style>\n",
       "<small>shape: (43_824, 2)</small><table border=\"1\" class=\"dataframe\"><thead><tr><th>time</th><th>rain_mm</th></tr><tr><td>datetime[μs]</td><td>f64</td></tr></thead><tbody><tr><td>2006-01-01 00:00:00</td><td>0.0</td></tr><tr><td>2006-01-01 01:00:00</td><td>0.1</td></tr><tr><td>2006-01-01 02:00:00</td><td>0.0</td></tr><tr><td>2006-01-01 03:00:00</td><td>0.0</td></tr><tr><td>2006-01-01 04:00:00</td><td>0.0</td></tr><tr><td>&hellip;</td><td>&hellip;</td></tr><tr><td>2010-12-31 19:00:00</td><td>0.0</td></tr><tr><td>2010-12-31 20:00:00</td><td>0.0</td></tr><tr><td>2010-12-31 21:00:00</td><td>0.0</td></tr><tr><td>2010-12-31 22:00:00</td><td>0.0</td></tr><tr><td>2010-12-31 23:00:00</td><td>0.0</td></tr></tbody></table></div>"
      ]
     },
     "execution_count": 358,
     "metadata": {},
     "output_type": "execute_result"
    }
   ],
   "execution_count": 358
  },
  {
   "cell_type": "code",
   "id": "872c94c4",
   "metadata": {
    "ExecuteTime": {
     "end_time": "2025-04-17T12:09:54.251844Z",
     "start_time": "2025-04-17T12:09:54.248944Z"
    }
   },
   "source": [],
   "outputs": [],
   "execution_count": null
  },
  {
   "cell_type": "markdown",
   "id": "4feafe1e",
   "metadata": {},
   "source": [
    "## Part 6. Get neighbouring GPCC gauge by ID (an example)\n",
    "\n",
    "#### Note:\n",
    "In the original methodology, GPCC is extracted on the fly\n",
    "\n",
    "Hence, this needs to be refactored"
   ]
  },
  {
   "cell_type": "code",
   "id": "fc05caa4",
   "metadata": {
    "ExecuteTime": {
     "end_time": "2025-04-17T12:10:48.713134Z",
     "start_time": "2025-04-17T12:10:48.709575Z"
    }
   },
   "source": [
    "# TODO: check whether GPCC name is same ID as GDSR i.e. gauge_data ID"
   ],
   "outputs": [],
   "execution_count": 359
  },
  {
   "metadata": {
    "ExecuteTime": {
     "end_time": "2025-04-17T12:10:48.985Z",
     "start_time": "2025-04-17T12:10:48.947830Z"
    }
   },
   "cell_type": "code",
   "source": [
    "existing_gpcc_daily_paths = {}\n",
    "existing_gpcc_monthly_paths = {}\n",
    "for neighbour_id in all_neighbour_ids_paths.keys():\n",
    "    gpcc_id = neighbour_id.split(\"DE_\")[1].lstrip(\"0\")\n",
    "    existing_gpcc_daily_paths[neighbour_id] = glob.glob(\n",
    "        f\"../data/GPCC/tw_{gpcc_id}.zip\"\n",
    "    )\n",
    "    existing_gpcc_monthly_paths[neighbour_id] = glob.glob(\n",
    "        f\"../data/GPCC/mw_{gpcc_id}.zip\"\n",
    "    )"
   ],
   "id": "f595c46a",
   "outputs": [],
   "execution_count": 360
  },
  {
   "metadata": {
    "ExecuteTime": {
     "end_time": "2025-04-17T12:10:49.655666Z",
     "start_time": "2025-04-17T12:10:49.321933Z"
    }
   },
   "cell_type": "code",
   "source": [
    "gpcc_id_to_use = \"DE_00310\"\n",
    "gpcc_id = gpcc_id_to_use.split(\"DE_\")[-1].lstrip(\"0\")  # like 6303\n",
    "example_dat_path = existing_gpcc_daily_paths[gpcc_id_to_use][0]\n",
    "f = zipfile.ZipFile(example_dat_path).open(f\"tw_{gpcc_id}.dat\")\n",
    "example_gpcc = pl.from_pandas(pd.read_csv(f, skiprows=1, header=None, sep=r\"\\s+\"))\n",
    "\n",
    "## drop unnecessary columns\n",
    "example_gpcc = example_gpcc.drop([str(i) for i in range(4, 16)])\n",
    "\n",
    "## make datetime column (apparently it's 7am-7pm)\n",
    "example_gpcc = example_gpcc.with_columns(\n",
    "    pl.datetime(pl.col(\"2\"), pl.col(\"1\"), pl.col(\"0\"), 7).alias(\"time\")\n",
    ").drop([\"0\", \"1\", \"2\"])\n",
    "\n",
    "## rename and reorder\n",
    "example_gpcc = example_gpcc.rename({\"3\": rain_col})\n",
    "example_gpcc = example_gpcc.select([\"time\", rain_col])  ## Reorder (to look nice)\n",
    "\n",
    "example_gpcc"
   ],
   "id": "07bd099b",
   "outputs": [
    {
     "data": {
      "text/plain": [
       "shape: (24_822, 2)\n",
       "┌─────────────────────┬─────────┐\n",
       "│ time                ┆ rain_mm │\n",
       "│ ---                 ┆ ---     │\n",
       "│ datetime[μs]        ┆ f64     │\n",
       "╞═════════════════════╪═════════╡\n",
       "│ 1951-01-01 07:00:00 ┆ 5.2     │\n",
       "│ 1951-01-02 07:00:00 ┆ 10.3    │\n",
       "│ 1951-01-03 07:00:00 ┆ 0.0     │\n",
       "│ 1951-01-04 07:00:00 ┆ 3.7     │\n",
       "│ 1951-01-05 07:00:00 ┆ 3.5     │\n",
       "│ …                   ┆ …       │\n",
       "│ 2018-12-27 07:00:00 ┆ 0.0     │\n",
       "│ 2018-12-28 07:00:00 ┆ 0.2     │\n",
       "│ 2018-12-29 07:00:00 ┆ 6.9     │\n",
       "│ 2018-12-30 07:00:00 ┆ 0.9     │\n",
       "│ 2018-12-31 07:00:00 ┆ 1.4     │\n",
       "└─────────────────────┴─────────┘"
      ],
      "text/html": [
       "<div><style>\n",
       ".dataframe > thead > tr,\n",
       ".dataframe > tbody > tr {\n",
       "  text-align: right;\n",
       "  white-space: pre-wrap;\n",
       "}\n",
       "</style>\n",
       "<small>shape: (24_822, 2)</small><table border=\"1\" class=\"dataframe\"><thead><tr><th>time</th><th>rain_mm</th></tr><tr><td>datetime[μs]</td><td>f64</td></tr></thead><tbody><tr><td>1951-01-01 07:00:00</td><td>5.2</td></tr><tr><td>1951-01-02 07:00:00</td><td>10.3</td></tr><tr><td>1951-01-03 07:00:00</td><td>0.0</td></tr><tr><td>1951-01-04 07:00:00</td><td>3.7</td></tr><tr><td>1951-01-05 07:00:00</td><td>3.5</td></tr><tr><td>&hellip;</td><td>&hellip;</td></tr><tr><td>2018-12-27 07:00:00</td><td>0.0</td></tr><tr><td>2018-12-28 07:00:00</td><td>0.2</td></tr><tr><td>2018-12-29 07:00:00</td><td>6.9</td></tr><tr><td>2018-12-30 07:00:00</td><td>0.9</td></tr><tr><td>2018-12-31 07:00:00</td><td>1.4</td></tr></tbody></table></div>"
      ]
     },
     "execution_count": 361,
     "metadata": {},
     "output_type": "execute_result"
    }
   ],
   "execution_count": 361
  },
  {
   "cell_type": "code",
   "id": "9b3c019f",
   "metadata": {
    "ExecuteTime": {
     "end_time": "2025-04-17T12:10:49.894736Z",
     "start_time": "2025-04-17T12:10:49.862935Z"
    }
   },
   "source": [
    "## resample into daily (also round to 1 decimal place) TODO: check offset='7h' part\n",
    "target_gauge_daily = (\n",
    "    target_gauge.group_by_dynamic(\"time\", every=\"1d\", offset=\"7h\")\n",
    "    .agg(\n",
    "        [\n",
    "            pl.len().alias(\"n_hours\"),\n",
    "            pl.col(rain_col).mean().round(1).alias(rain_col),\n",
    "        ]\n",
    "    )\n",
    "    .filter(pl.col(\"n_hours\") == 24)\n",
    "    .drop(\"n_hours\")\n",
    ")  # Ensure at least 24 data points\n",
    "target_gauge_daily"
   ],
   "outputs": [
    {
     "data": {
      "text/plain": [
       "shape: (1_825, 2)\n",
       "┌─────────────────────┬─────────┐\n",
       "│ time                ┆ rain_mm │\n",
       "│ ---                 ┆ ---     │\n",
       "│ datetime[μs]        ┆ f64     │\n",
       "╞═════════════════════╪═════════╡\n",
       "│ 2006-01-01 07:00:00 ┆ 0.2     │\n",
       "│ 2006-01-02 07:00:00 ┆ 0.0     │\n",
       "│ 2006-01-03 07:00:00 ┆ 0.0     │\n",
       "│ 2006-01-04 07:00:00 ┆ 0.0     │\n",
       "│ 2006-01-05 07:00:00 ┆ 0.0     │\n",
       "│ …                   ┆ …       │\n",
       "│ 2010-12-26 07:00:00 ┆ 0.2     │\n",
       "│ 2010-12-27 07:00:00 ┆ 0.0     │\n",
       "│ 2010-12-28 07:00:00 ┆ 0.0     │\n",
       "│ 2010-12-29 07:00:00 ┆ 0.0     │\n",
       "│ 2010-12-30 07:00:00 ┆ 0.0     │\n",
       "└─────────────────────┴─────────┘"
      ],
      "text/html": [
       "<div><style>\n",
       ".dataframe > thead > tr,\n",
       ".dataframe > tbody > tr {\n",
       "  text-align: right;\n",
       "  white-space: pre-wrap;\n",
       "}\n",
       "</style>\n",
       "<small>shape: (1_825, 2)</small><table border=\"1\" class=\"dataframe\"><thead><tr><th>time</th><th>rain_mm</th></tr><tr><td>datetime[μs]</td><td>f64</td></tr></thead><tbody><tr><td>2006-01-01 07:00:00</td><td>0.2</td></tr><tr><td>2006-01-02 07:00:00</td><td>0.0</td></tr><tr><td>2006-01-03 07:00:00</td><td>0.0</td></tr><tr><td>2006-01-04 07:00:00</td><td>0.0</td></tr><tr><td>2006-01-05 07:00:00</td><td>0.0</td></tr><tr><td>&hellip;</td><td>&hellip;</td></tr><tr><td>2010-12-26 07:00:00</td><td>0.2</td></tr><tr><td>2010-12-27 07:00:00</td><td>0.0</td></tr><tr><td>2010-12-28 07:00:00</td><td>0.0</td></tr><tr><td>2010-12-29 07:00:00</td><td>0.0</td></tr><tr><td>2010-12-30 07:00:00</td><td>0.0</td></tr></tbody></table></div>"
      ]
     },
     "execution_count": 362,
     "metadata": {},
     "output_type": "execute_result"
    }
   ],
   "execution_count": 362
  },
  {
   "cell_type": "code",
   "id": "1d71e3f2",
   "metadata": {
    "ExecuteTime": {
     "end_time": "2025-04-17T12:10:50.243631Z",
     "start_time": "2025-04-17T12:10:50.205447Z"
    }
   },
   "source": [
    "joined_gauges_gpcc = target_gauge_daily.join(\n",
    "    example_gpcc, on=\"time\", suffix=f\"_GPCC_{gpcc_id}\"\n",
    ")\n",
    "joined_gauges_gpcc = joined_gauges_gpcc.drop_nans()\n",
    "joined_gauges_gpcc.head()"
   ],
   "outputs": [
    {
     "data": {
      "text/plain": [
       "shape: (5, 3)\n",
       "┌─────────────────────┬─────────┬──────────────────┐\n",
       "│ time                ┆ rain_mm ┆ rain_mm_GPCC_310 │\n",
       "│ ---                 ┆ ---     ┆ ---              │\n",
       "│ datetime[μs]        ┆ f64     ┆ f64              │\n",
       "╞═════════════════════╪═════════╪══════════════════╡\n",
       "│ 2006-01-01 07:00:00 ┆ 0.2     ┆ 0.2              │\n",
       "│ 2006-01-02 07:00:00 ┆ 0.0     ┆ 0.0              │\n",
       "│ 2006-01-03 07:00:00 ┆ 0.0     ┆ 0.0              │\n",
       "│ 2006-01-04 07:00:00 ┆ 0.0     ┆ 0.0              │\n",
       "│ 2006-01-05 07:00:00 ┆ 0.0     ┆ 0.0              │\n",
       "└─────────────────────┴─────────┴──────────────────┘"
      ],
      "text/html": [
       "<div><style>\n",
       ".dataframe > thead > tr,\n",
       ".dataframe > tbody > tr {\n",
       "  text-align: right;\n",
       "  white-space: pre-wrap;\n",
       "}\n",
       "</style>\n",
       "<small>shape: (5, 3)</small><table border=\"1\" class=\"dataframe\"><thead><tr><th>time</th><th>rain_mm</th><th>rain_mm_GPCC_310</th></tr><tr><td>datetime[μs]</td><td>f64</td><td>f64</td></tr></thead><tbody><tr><td>2006-01-01 07:00:00</td><td>0.2</td><td>0.2</td></tr><tr><td>2006-01-02 07:00:00</td><td>0.0</td><td>0.0</td></tr><tr><td>2006-01-03 07:00:00</td><td>0.0</td><td>0.0</td></tr><tr><td>2006-01-04 07:00:00</td><td>0.0</td><td>0.0</td></tr><tr><td>2006-01-05 07:00:00</td><td>0.0</td><td>0.0</td></tr></tbody></table></div>"
      ]
     },
     "execution_count": 363,
     "metadata": {},
     "output_type": "execute_result"
    }
   ],
   "execution_count": 363
  },
  {
   "cell_type": "markdown",
   "id": "7aa02e4b",
   "metadata": {},
   "source": "## Step 7 Compute factor, affinity index and correlation"
  },
  {
   "cell_type": "code",
   "id": "0bcde4ad",
   "metadata": {
    "ExecuteTime": {
     "end_time": "2025-04-17T12:10:50.513619Z",
     "start_time": "2025-04-17T12:10:50.503288Z"
    }
   },
   "source": [
    "## get gauge non-0 minima\n",
    "def get_target_neighbour_non_zero_minima(\n",
    "    data, target_col, other_col, default_minima=0.1\n",
    "):\n",
    "    target_col_min = np.around(\n",
    "        data.filter(pl.col(target_col) >= default_minima).min()[target_col], 1\n",
    "    )[0]\n",
    "    other_col_min = np.around(\n",
    "        data.filter(pl.col(other_col) >= default_minima).min()[other_col],\n",
    "        1,\n",
    "    )[0]\n",
    "    non_zero_minima = max(target_col_min, other_col_min, default_minima)\n",
    "    return non_zero_minima\n",
    "\n",
    "\n",
    "## get gauge non-0 minima\n",
    "non_zero_minima = get_target_neighbour_non_zero_minima(\n",
    "    joined_gauges_gpcc, target_col=rain_col, other_col=f\"{rain_col}_GPCC_{gpcc_id}\"\n",
    ")"
   ],
   "outputs": [],
   "execution_count": 364
  },
  {
   "cell_type": "code",
   "id": "ad3a15da",
   "metadata": {
    "ExecuteTime": {
     "end_time": "2025-04-17T12:10:50.812948Z",
     "start_time": "2025-04-17T12:10:50.807242Z"
    }
   },
   "source": [
    "def get_target_and_neighbour_not_minima_column(\n",
    "    data, data_minima, target_col, other_col\n",
    "):\n",
    "    \"\"\"\n",
    "\n",
    "    Parameters\n",
    "    ----------\n",
    "    data : pl.DataFrame\n",
    "    data_minima : float or int\n",
    "\n",
    "    Returns\n",
    "    -------\n",
    "\n",
    "    \"\"\"\n",
    "    return data.with_columns(\n",
    "        pl.when((pl.col(target_col) > data_minima) & (pl.col(other_col) > data_minima))\n",
    "        .then(1)\n",
    "        .when(\n",
    "            (pl.col(target_col) == data_minima) & (pl.col(other_col) == data_minima),\n",
    "        )\n",
    "        .then(1)\n",
    "        .when(\n",
    "            (pl.col(target_col) == data_minima) & (pl.col(other_col) > data_minima),\n",
    "        )\n",
    "        .then(0)\n",
    "        .when((pl.col(target_col) > data_minima) & (pl.col(other_col) == data_minima))\n",
    "        .then(0)\n",
    "        .otherwise(np.nan)\n",
    "        .alias(\"gauges_not_minima\")\n",
    "    )"
   ],
   "outputs": [],
   "execution_count": 365
  },
  {
   "metadata": {
    "ExecuteTime": {
     "end_time": "2025-04-17T12:10:51.659372Z",
     "start_time": "2025-04-17T12:10:51.640674Z"
    }
   },
   "cell_type": "code",
   "source": [
    "joined_gauges_gpcc_minima = get_target_and_neighbour_not_minima_column(\n",
    "    joined_gauges_gpcc,\n",
    "    data_minima=non_zero_minima,\n",
    "    target_col=rain_col,\n",
    "    other_col=f\"{rain_col}_GPCC_{gpcc_id}\",\n",
    ")\n",
    "joined_gauges_gpcc_minima"
   ],
   "id": "66afd92b23e02ffe",
   "outputs": [
    {
     "data": {
      "text/plain": [
       "shape: (1_760, 4)\n",
       "┌─────────────────────┬─────────┬──────────────────┬───────────────────┐\n",
       "│ time                ┆ rain_mm ┆ rain_mm_GPCC_310 ┆ gauges_not_minima │\n",
       "│ ---                 ┆ ---     ┆ ---              ┆ ---               │\n",
       "│ datetime[μs]        ┆ f64     ┆ f64              ┆ f64               │\n",
       "╞═════════════════════╪═════════╪══════════════════╪═══════════════════╡\n",
       "│ 2006-01-01 07:00:00 ┆ 0.2     ┆ 0.2              ┆ 1.0               │\n",
       "│ 2006-01-02 07:00:00 ┆ 0.0     ┆ 0.0              ┆ NaN               │\n",
       "│ 2006-01-03 07:00:00 ┆ 0.0     ┆ 0.0              ┆ NaN               │\n",
       "│ 2006-01-04 07:00:00 ┆ 0.0     ┆ 0.0              ┆ NaN               │\n",
       "│ 2006-01-05 07:00:00 ┆ 0.0     ┆ 0.0              ┆ NaN               │\n",
       "│ …                   ┆ …       ┆ …                ┆ …                 │\n",
       "│ 2010-12-26 07:00:00 ┆ 0.2     ┆ 2.9              ┆ 1.0               │\n",
       "│ 2010-12-27 07:00:00 ┆ 0.0     ┆ 0.2              ┆ NaN               │\n",
       "│ 2010-12-28 07:00:00 ┆ 0.0     ┆ 0.0              ┆ NaN               │\n",
       "│ 2010-12-29 07:00:00 ┆ 0.0     ┆ 0.0              ┆ NaN               │\n",
       "│ 2010-12-30 07:00:00 ┆ 0.0     ┆ 0.0              ┆ NaN               │\n",
       "└─────────────────────┴─────────┴──────────────────┴───────────────────┘"
      ],
      "text/html": [
       "<div><style>\n",
       ".dataframe > thead > tr,\n",
       ".dataframe > tbody > tr {\n",
       "  text-align: right;\n",
       "  white-space: pre-wrap;\n",
       "}\n",
       "</style>\n",
       "<small>shape: (1_760, 4)</small><table border=\"1\" class=\"dataframe\"><thead><tr><th>time</th><th>rain_mm</th><th>rain_mm_GPCC_310</th><th>gauges_not_minima</th></tr><tr><td>datetime[μs]</td><td>f64</td><td>f64</td><td>f64</td></tr></thead><tbody><tr><td>2006-01-01 07:00:00</td><td>0.2</td><td>0.2</td><td>1.0</td></tr><tr><td>2006-01-02 07:00:00</td><td>0.0</td><td>0.0</td><td>NaN</td></tr><tr><td>2006-01-03 07:00:00</td><td>0.0</td><td>0.0</td><td>NaN</td></tr><tr><td>2006-01-04 07:00:00</td><td>0.0</td><td>0.0</td><td>NaN</td></tr><tr><td>2006-01-05 07:00:00</td><td>0.0</td><td>0.0</td><td>NaN</td></tr><tr><td>&hellip;</td><td>&hellip;</td><td>&hellip;</td><td>&hellip;</td></tr><tr><td>2010-12-26 07:00:00</td><td>0.2</td><td>2.9</td><td>1.0</td></tr><tr><td>2010-12-27 07:00:00</td><td>0.0</td><td>0.2</td><td>NaN</td></tr><tr><td>2010-12-28 07:00:00</td><td>0.0</td><td>0.0</td><td>NaN</td></tr><tr><td>2010-12-29 07:00:00</td><td>0.0</td><td>0.0</td><td>NaN</td></tr><tr><td>2010-12-30 07:00:00</td><td>0.0</td><td>0.0</td><td>NaN</td></tr></tbody></table></div>"
      ]
     },
     "execution_count": 366,
     "metadata": {},
     "output_type": "execute_result"
    }
   ],
   "execution_count": 366
  },
  {
   "metadata": {
    "ExecuteTime": {
     "end_time": "2025-04-17T12:10:51.989084Z",
     "start_time": "2025-04-17T12:10:51.977056Z"
    }
   },
   "cell_type": "code",
   "source": [
    "def compute_factor_diff_target_and_neighbour(data, target_col, other_col):\n",
    "    return data.with_columns(\n",
    "        pl.when((pl.col(target_col) > 0) & (pl.col(other_col) > 0))\n",
    "        .then(pl.col(target_col) / pl.col(other_col))\n",
    "        .otherwise(np.nan)\n",
    "        .alias(\"factor_diff\")\n",
    "    )"
   ],
   "id": "84938b10751d7f96",
   "outputs": [],
   "execution_count": 367
  },
  {
   "metadata": {
    "ExecuteTime": {
     "end_time": "2025-04-17T12:10:52.147877Z",
     "start_time": "2025-04-17T12:10:52.130934Z"
    }
   },
   "cell_type": "code",
   "source": [
    "joined_gauges_gpcc_factor = compute_factor_diff_target_and_neighbour(joined_gauges_gpcc, target_col=rain_col, other_col=f\"{rain_col}_GPCC_{gpcc_id}\")\n",
    "joined_gauges_gpcc_factor"
   ],
   "id": "69d84f4a9b15b2e4",
   "outputs": [
    {
     "data": {
      "text/plain": [
       "shape: (1_760, 4)\n",
       "┌─────────────────────┬─────────┬──────────────────┬──────────┐\n",
       "│ time                ┆ rain_mm ┆ rain_mm_GPCC_310 ┆ factor   │\n",
       "│ ---                 ┆ ---     ┆ ---              ┆ ---      │\n",
       "│ datetime[μs]        ┆ f64     ┆ f64              ┆ f64      │\n",
       "╞═════════════════════╪═════════╪══════════════════╪══════════╡\n",
       "│ 2006-01-01 07:00:00 ┆ 0.2     ┆ 0.2              ┆ 1.0      │\n",
       "│ 2006-01-02 07:00:00 ┆ 0.0     ┆ 0.0              ┆ NaN      │\n",
       "│ 2006-01-03 07:00:00 ┆ 0.0     ┆ 0.0              ┆ NaN      │\n",
       "│ 2006-01-04 07:00:00 ┆ 0.0     ┆ 0.0              ┆ NaN      │\n",
       "│ 2006-01-05 07:00:00 ┆ 0.0     ┆ 0.0              ┆ NaN      │\n",
       "│ …                   ┆ …       ┆ …                ┆ …        │\n",
       "│ 2010-12-26 07:00:00 ┆ 0.2     ┆ 2.9              ┆ 0.068966 │\n",
       "│ 2010-12-27 07:00:00 ┆ 0.0     ┆ 0.2              ┆ NaN      │\n",
       "│ 2010-12-28 07:00:00 ┆ 0.0     ┆ 0.0              ┆ NaN      │\n",
       "│ 2010-12-29 07:00:00 ┆ 0.0     ┆ 0.0              ┆ NaN      │\n",
       "│ 2010-12-30 07:00:00 ┆ 0.0     ┆ 0.0              ┆ NaN      │\n",
       "└─────────────────────┴─────────┴──────────────────┴──────────┘"
      ],
      "text/html": [
       "<div><style>\n",
       ".dataframe > thead > tr,\n",
       ".dataframe > tbody > tr {\n",
       "  text-align: right;\n",
       "  white-space: pre-wrap;\n",
       "}\n",
       "</style>\n",
       "<small>shape: (1_760, 4)</small><table border=\"1\" class=\"dataframe\"><thead><tr><th>time</th><th>rain_mm</th><th>rain_mm_GPCC_310</th><th>factor</th></tr><tr><td>datetime[μs]</td><td>f64</td><td>f64</td><td>f64</td></tr></thead><tbody><tr><td>2006-01-01 07:00:00</td><td>0.2</td><td>0.2</td><td>1.0</td></tr><tr><td>2006-01-02 07:00:00</td><td>0.0</td><td>0.0</td><td>NaN</td></tr><tr><td>2006-01-03 07:00:00</td><td>0.0</td><td>0.0</td><td>NaN</td></tr><tr><td>2006-01-04 07:00:00</td><td>0.0</td><td>0.0</td><td>NaN</td></tr><tr><td>2006-01-05 07:00:00</td><td>0.0</td><td>0.0</td><td>NaN</td></tr><tr><td>&hellip;</td><td>&hellip;</td><td>&hellip;</td><td>&hellip;</td></tr><tr><td>2010-12-26 07:00:00</td><td>0.2</td><td>2.9</td><td>0.068966</td></tr><tr><td>2010-12-27 07:00:00</td><td>0.0</td><td>0.2</td><td>NaN</td></tr><tr><td>2010-12-28 07:00:00</td><td>0.0</td><td>0.0</td><td>NaN</td></tr><tr><td>2010-12-29 07:00:00</td><td>0.0</td><td>0.0</td><td>NaN</td></tr><tr><td>2010-12-30 07:00:00</td><td>0.0</td><td>0.0</td><td>NaN</td></tr></tbody></table></div>"
      ]
     },
     "execution_count": 368,
     "metadata": {},
     "output_type": "execute_result"
    }
   ],
   "execution_count": 368
  },
  {
   "cell_type": "code",
   "id": "3b238361",
   "metadata": {
    "ExecuteTime": {
     "end_time": "2025-04-17T12:10:52.411177Z",
     "start_time": "2025-04-17T12:10:52.399692Z"
    }
   },
   "source": [
    "def calc_affinity_index(data, return_match_and_diff=False):\n",
    "    match = (\n",
    "        data[\"gauges_not_minima\"]\n",
    "        .value_counts()\n",
    "        .filter(pl.col(\"gauges_not_minima\") == 1)[\"count\"]\n",
    "        .item()\n",
    "    )\n",
    "    diff = (\n",
    "        data[\"gauges_not_minima\"]\n",
    "        .value_counts()\n",
    "        .filter(pl.col(\"gauges_not_minima\") == 0)[\"count\"]\n",
    "        .item()\n",
    "    )\n",
    "    affinity = match / (match + diff)\n",
    "    if return_match_and_diff:\n",
    "        return match, diff, affinity\n",
    "    return affinity\n",
    "\n",
    "\n",
    "def calc_gauge_correlation(data, rain_col, other_col):\n",
    "    return np.ma.corrcoef(\n",
    "        np.ma.masked_invalid(data[rain_col]), np.ma.masked_invalid(data[other_col])\n",
    "    )[0, 1]"
   ],
   "outputs": [],
   "execution_count": 369
  },
  {
   "metadata": {
    "ExecuteTime": {
     "end_time": "2025-04-17T12:10:52.630704Z",
     "start_time": "2025-04-17T12:10:52.619663Z"
    }
   },
   "cell_type": "code",
   "source": [
    "match, diff, affinity = calc_affinity_index(\n",
    "    joined_gauges_gpcc_minima, return_match_and_diff=True\n",
    ")\n",
    "print(f\"different rows: {diff}, matching rows: {match}, affinity :{affinity}\")"
   ],
   "id": "c4a13ab0c9e51af6",
   "outputs": [
    {
     "name": "stdout",
     "output_type": "stream",
     "text": [
      "different rows: 157, matching rows: 540, affinity :0.7747489239598279\n"
     ]
    }
   ],
   "execution_count": 370
  },
  {
   "metadata": {
    "ExecuteTime": {
     "end_time": "2025-04-17T12:11:38.015155Z",
     "start_time": "2025-04-17T12:11:38.005355Z"
    }
   },
   "cell_type": "code",
   "source": [
    "gauge_corr = calc_gauge_correlation(\n",
    "    joined_gauges_gpcc, rain_col=rain_col, other_col=f\"{rain_col}_GPCC_{gpcc_id}\"\n",
    ")\n",
    "factor_mean = joined_gauges_gpcc_factor[\"factor_diff\"].drop_nans().mean()\n",
    "print(f\"diff: {diff}, match:{match}\")\n",
    "print(\n",
    "    f\"gauge affinity: {affinity}, gauge correlation: {gauge_corr}, mean factor diff: {factor_mean}\"\n",
    ")"
   ],
   "id": "3337bb3e535fa5d4",
   "outputs": [
    {
     "name": "stdout",
     "output_type": "stream",
     "text": [
      "diff: 157, match:540\n",
      "gauge affinity: 0.7747489239598279, gauge correlation: 0.0114714970965478, mean factor diff: 0.17114986225908063\n"
     ]
    }
   ],
   "execution_count": 372
  },
  {
   "cell_type": "markdown",
   "id": "e6a201cf",
   "metadata": {},
   "source": [
    "## Part 8 Compare target with neighbour (hourly and daily)\n",
    "- For hourly data, the data is first converted to daily to do comparison\n",
    "\n",
    "_Output:_ df with long list of neighbour columns and flags\n",
    "\n",
    "Works by computing differences from target and each of its neighbours then collates all those differences and associated difference flags into a single flag/column that describes how similar target is from neighbours\n"
   ]
  },
  {
   "cell_type": "code",
   "id": "c2ced7cf",
   "metadata": {
    "ExecuteTime": {
     "end_time": "2025-04-17T12:11:40.463917Z",
     "start_time": "2025-04-17T12:11:40.457342Z"
    }
   },
   "source": [
    "gpcc_id_to_use = \"DE_00310\"\n",
    "gpcc_id = gpcc_id_to_use.split(\"DE_\")[-1].lstrip(\"0\")  # like 6303"
   ],
   "outputs": [],
   "execution_count": 373
  },
  {
   "cell_type": "code",
   "id": "3fead6b3",
   "metadata": {
    "ExecuteTime": {
     "end_time": "2025-04-17T12:11:41.047986Z",
     "start_time": "2025-04-17T12:11:41.037091Z"
    }
   },
   "source": [
    "joined_gauges_gpcc = target_gauge_daily.join(\n",
    "    example_gpcc, on=\"time\", suffix=f\"_GPCC_{gpcc_id}\"\n",
    ")\n",
    "joined_gauges_gpcc = joined_gauges_gpcc.drop_nans()\n",
    "joined_gauges_gpcc.head()"
   ],
   "outputs": [
    {
     "data": {
      "text/plain": [
       "shape: (5, 3)\n",
       "┌─────────────────────┬─────────┬──────────────────┐\n",
       "│ time                ┆ rain_mm ┆ rain_mm_GPCC_310 │\n",
       "│ ---                 ┆ ---     ┆ ---              │\n",
       "│ datetime[μs]        ┆ f64     ┆ f64              │\n",
       "╞═════════════════════╪═════════╪══════════════════╡\n",
       "│ 2006-01-01 07:00:00 ┆ 0.2     ┆ 0.2              │\n",
       "│ 2006-01-02 07:00:00 ┆ 0.0     ┆ 0.0              │\n",
       "│ 2006-01-03 07:00:00 ┆ 0.0     ┆ 0.0              │\n",
       "│ 2006-01-04 07:00:00 ┆ 0.0     ┆ 0.0              │\n",
       "│ 2006-01-05 07:00:00 ┆ 0.0     ┆ 0.0              │\n",
       "└─────────────────────┴─────────┴──────────────────┘"
      ],
      "text/html": [
       "<div><style>\n",
       ".dataframe > thead > tr,\n",
       ".dataframe > tbody > tr {\n",
       "  text-align: right;\n",
       "  white-space: pre-wrap;\n",
       "}\n",
       "</style>\n",
       "<small>shape: (5, 3)</small><table border=\"1\" class=\"dataframe\"><thead><tr><th>time</th><th>rain_mm</th><th>rain_mm_GPCC_310</th></tr><tr><td>datetime[μs]</td><td>f64</td><td>f64</td></tr></thead><tbody><tr><td>2006-01-01 07:00:00</td><td>0.2</td><td>0.2</td></tr><tr><td>2006-01-02 07:00:00</td><td>0.0</td><td>0.0</td></tr><tr><td>2006-01-03 07:00:00</td><td>0.0</td><td>0.0</td></tr><tr><td>2006-01-04 07:00:00</td><td>0.0</td><td>0.0</td></tr><tr><td>2006-01-05 07:00:00</td><td>0.0</td><td>0.0</td></tr></tbody></table></div>"
      ]
     },
     "execution_count": 374,
     "metadata": {},
     "output_type": "execute_result"
    }
   ],
   "execution_count": 374
  },
  {
   "cell_type": "markdown",
   "id": "46ac9d9c",
   "metadata": {},
   "source": [
    "## Part 8.1 Wet neighbours\n",
    "- This is normalised difference\n",
    "TODO: Problem that there is not enough data which is wetter in the target than in the GPCC neighbour"
   ]
  },
  {
   "cell_type": "code",
   "id": "0d887356",
   "metadata": {
    "ExecuteTime": {
     "end_time": "2025-04-17T12:11:41.899860Z",
     "start_time": "2025-04-17T12:11:41.888884Z"
    }
   },
   "source": [
    "def normalise_data(data):\n",
    "    return (data - data.min()) / (data.max() - data.min())"
   ],
   "outputs": [],
   "execution_count": 375
  },
  {
   "cell_type": "code",
   "id": "8d4625ff",
   "metadata": {
    "ExecuteTime": {
     "end_time": "2025-04-17T12:11:42.347069Z",
     "start_time": "2025-04-17T12:11:42.331300Z"
    }
   },
   "source": [
    "joined_gauges_gpcc_normalised_diff = joined_gauges_gpcc.with_columns(\n",
    "    # get normalised difference between target and neighbour\n",
    "    rain_mm_normalised_diff=normalise_data(pl.col(f\"{rain_col}\"))\n",
    "    - normalise_data(pl.col(f\"{rain_col}_GPCC_{gpcc_id}\"))\n",
    ")"
   ],
   "outputs": [],
   "execution_count": 376
  },
  {
   "cell_type": "code",
   "id": "bcf88685",
   "metadata": {
    "ExecuteTime": {
     "end_time": "2025-04-17T12:11:42.719348Z",
     "start_time": "2025-04-17T12:11:42.704946Z"
    }
   },
   "source": [
    "WET_THRESHOLD = 0.3  # default in original methodology is 1\n",
    "joined_gauges_gpcc_normalised_diff_filtered = joined_gauges_gpcc_normalised_diff.filter(\n",
    "    (pl.col(f\"{rain_col}\") >= WET_THRESHOLD)\n",
    "    & (pl.col(f\"{rain_col}\").is_finite())\n",
    "    & (pl.col(f\"{rain_col}_GPCC_{gpcc_id}\").is_finite())\n",
    "    & (pl.col(f\"{rain_col}_normalised_diff\") > 0.0)\n",
    ")"
   ],
   "outputs": [],
   "execution_count": 377
  },
  {
   "cell_type": "code",
   "id": "0611abff",
   "metadata": {
    "ExecuteTime": {
     "end_time": "2025-04-17T12:11:43.182882Z",
     "start_time": "2025-04-17T12:11:43.170690Z"
    }
   },
   "source": [
    "joined_gauges_gpcc_normalised_diff_filtered"
   ],
   "outputs": [
    {
     "data": {
      "text/plain": [
       "shape: (18, 4)\n",
       "┌─────────────────────┬─────────┬──────────────────┬─────────────────────────┐\n",
       "│ time                ┆ rain_mm ┆ rain_mm_GPCC_310 ┆ rain_mm_normalised_diff │\n",
       "│ ---                 ┆ ---     ┆ ---              ┆ ---                     │\n",
       "│ datetime[μs]        ┆ f64     ┆ f64              ┆ f64                     │\n",
       "╞═════════════════════╪═════════╪══════════════════╪═════════════════════════╡\n",
       "│ 2006-04-25 07:00:00 ┆ 0.3     ┆ 0.0              ┆ 0.000941                │\n",
       "│ 2006-05-13 07:00:00 ┆ 0.3     ┆ 0.0              ┆ 0.000941                │\n",
       "│ 2006-12-23 07:00:00 ┆ 112.5   ┆ 0.0              ┆ 0.352886                │\n",
       "│ 2006-12-24 07:00:00 ┆ 318.8   ┆ 0.0              ┆ 1.0                     │\n",
       "│ 2007-03-16 07:00:00 ┆ 3.1     ┆ 0.0              ┆ 0.009724                │\n",
       "│ …                   ┆ …       ┆ …                ┆ …                       │\n",
       "│ 2009-11-06 07:00:00 ┆ 9.8     ┆ 0.9              ┆ 0.015486                │\n",
       "│ 2009-11-18 07:00:00 ┆ 1.2     ┆ 0.0              ┆ 0.003764                │\n",
       "│ 2009-11-19 07:00:00 ┆ 0.8     ┆ 0.0              ┆ 0.002509                │\n",
       "│ 2010-08-09 07:00:00 ┆ 1.3     ┆ 0.0              ┆ 0.004078                │\n",
       "│ 2010-08-13 07:00:00 ┆ 0.8     ┆ 0.0              ┆ 0.002509                │\n",
       "└─────────────────────┴─────────┴──────────────────┴─────────────────────────┘"
      ],
      "text/html": [
       "<div><style>\n",
       ".dataframe > thead > tr,\n",
       ".dataframe > tbody > tr {\n",
       "  text-align: right;\n",
       "  white-space: pre-wrap;\n",
       "}\n",
       "</style>\n",
       "<small>shape: (18, 4)</small><table border=\"1\" class=\"dataframe\"><thead><tr><th>time</th><th>rain_mm</th><th>rain_mm_GPCC_310</th><th>rain_mm_normalised_diff</th></tr><tr><td>datetime[μs]</td><td>f64</td><td>f64</td><td>f64</td></tr></thead><tbody><tr><td>2006-04-25 07:00:00</td><td>0.3</td><td>0.0</td><td>0.000941</td></tr><tr><td>2006-05-13 07:00:00</td><td>0.3</td><td>0.0</td><td>0.000941</td></tr><tr><td>2006-12-23 07:00:00</td><td>112.5</td><td>0.0</td><td>0.352886</td></tr><tr><td>2006-12-24 07:00:00</td><td>318.8</td><td>0.0</td><td>1.0</td></tr><tr><td>2007-03-16 07:00:00</td><td>3.1</td><td>0.0</td><td>0.009724</td></tr><tr><td>&hellip;</td><td>&hellip;</td><td>&hellip;</td><td>&hellip;</td></tr><tr><td>2009-11-06 07:00:00</td><td>9.8</td><td>0.9</td><td>0.015486</td></tr><tr><td>2009-11-18 07:00:00</td><td>1.2</td><td>0.0</td><td>0.003764</td></tr><tr><td>2009-11-19 07:00:00</td><td>0.8</td><td>0.0</td><td>0.002509</td></tr><tr><td>2010-08-09 07:00:00</td><td>1.3</td><td>0.0</td><td>0.004078</td></tr><tr><td>2010-08-13 07:00:00</td><td>0.8</td><td>0.0</td><td>0.002509</td></tr></tbody></table></div>"
      ]
     },
     "execution_count": 378,
     "metadata": {},
     "output_type": "execute_result"
    }
   ],
   "execution_count": 378
  },
  {
   "cell_type": "code",
   "id": "757b30d3",
   "metadata": {
    "ExecuteTime": {
     "end_time": "2025-04-17T12:11:43.651544Z",
     "start_time": "2025-04-17T12:11:43.647019Z"
    }
   },
   "source": [
    "if not len(joined_gauges_gpcc_normalised_diff_filtered) >= 30:\n",
    "    print(\n",
    "        \"Original methodology needs there to be at least 30 values to fit exponential function\"\n",
    "    )"
   ],
   "outputs": [
    {
     "name": "stdout",
     "output_type": "stream",
     "text": [
      "Original methodology needs there to be at least 30 values to fit exponential function\n"
     ]
    }
   ],
   "execution_count": 379
  },
  {
   "cell_type": "code",
   "id": "fae4decf",
   "metadata": {
    "ExecuteTime": {
     "end_time": "2025-04-17T12:11:44.074063Z",
     "start_time": "2025-04-17T12:11:44.042068Z"
    }
   },
   "source": [
    "expon_params = scipy.stats.expon.fit(\n",
    "    joined_gauges_gpcc_normalised_diff_filtered[f\"{rain_col}_normalised_diff\"]\n",
    ")"
   ],
   "outputs": [],
   "execution_count": 380
  },
  {
   "cell_type": "code",
   "id": "e1e547b7",
   "metadata": {
    "ExecuteTime": {
     "end_time": "2025-04-17T12:11:44.692371Z",
     "start_time": "2025-04-17T12:11:44.644875Z"
    }
   },
   "source": [
    "# Calculate thresholds at key percentiles of fitted distribution\n",
    "q95 = scipy.stats.expon.ppf(0.95, expon_params[0], expon_params[1])\n",
    "q99 = scipy.stats.expon.ppf(0.99, expon_params[0], expon_params[1])\n",
    "q999 = scipy.stats.expon.ppf(0.999, expon_params[0], expon_params[1])\n",
    "\n",
    "q95, q99, q999"
   ],
   "outputs": [
    {
     "data": {
      "text/plain": [
       "(np.float64(0.3444910378117832),\n",
       " np.float64(0.5294660929815043),\n",
       " np.float64(0.7941055682411567))"
      ]
     },
     "execution_count": 381,
     "metadata": {},
     "output_type": "execute_result"
    }
   ],
   "execution_count": 381
  },
  {
   "cell_type": "code",
   "id": "6ce769f6",
   "metadata": {
    "ExecuteTime": {
     "end_time": "2025-04-17T12:11:44.919574Z",
     "start_time": "2025-04-17T12:11:44.905557Z"
    }
   },
   "source": [
    "## Assign flags\n",
    "joined_gauges_gpcc_normalised_wet_flags = (\n",
    "    joined_gauges_gpcc_normalised_diff.with_columns(\n",
    "        pl.when(\n",
    "            (pl.col(rain_col) >= 1.0) & (pl.col(f\"{rain_col}_normalised_diff\") <= q95)\n",
    "        )\n",
    "        .then(0)\n",
    "        .when(\n",
    "            (pl.col(rain_col) >= 1.0)\n",
    "            & (pl.col(f\"{rain_col}_normalised_diff\") > q95)\n",
    "            & (pl.col(f\"{rain_col}_normalised_diff\") <= q99),\n",
    "        )\n",
    "        .then(1)\n",
    "        .when(\n",
    "            (pl.col(rain_col) >= 1.0)\n",
    "            & (pl.col(f\"{rain_col}_normalised_diff\") > q99)\n",
    "            & (pl.col(f\"{rain_col}_normalised_diff\") <= q999),\n",
    "        )\n",
    "        .then(2)\n",
    "        .when((pl.col(rain_col) >= 1.0) & (pl.col(f\"{rain_col}_normalised_diff\") > q95))\n",
    "        .then(3)\n",
    "        .otherwise(0)\n",
    "        .alias(\"wet_flags\")\n",
    "    )\n",
    ")"
   ],
   "outputs": [],
   "execution_count": 382
  },
  {
   "cell_type": "code",
   "id": "12c34376",
   "metadata": {
    "ExecuteTime": {
     "end_time": "2025-04-17T12:11:45.123050Z",
     "start_time": "2025-04-17T12:11:45.083280Z"
    }
   },
   "source": [
    "joined_gauges_gpcc_normalised_wet_flags[\"wet_flags\"].value_counts()"
   ],
   "outputs": [
    {
     "data": {
      "text/plain": [
       "shape: (4, 2)\n",
       "┌───────────┬───────┐\n",
       "│ wet_flags ┆ count │\n",
       "│ ---       ┆ ---   │\n",
       "│ i32       ┆ u32   │\n",
       "╞═══════════╪═══════╡\n",
       "│ 2         ┆ 1     │\n",
       "│ 1         ┆ 1     │\n",
       "│ 3         ┆ 1     │\n",
       "│ 0         ┆ 1757  │\n",
       "└───────────┴───────┘"
      ],
      "text/html": [
       "<div><style>\n",
       ".dataframe > thead > tr,\n",
       ".dataframe > tbody > tr {\n",
       "  text-align: right;\n",
       "  white-space: pre-wrap;\n",
       "}\n",
       "</style>\n",
       "<small>shape: (4, 2)</small><table border=\"1\" class=\"dataframe\"><thead><tr><th>wet_flags</th><th>count</th></tr><tr><td>i32</td><td>u32</td></tr></thead><tbody><tr><td>2</td><td>1</td></tr><tr><td>1</td><td>1</td></tr><tr><td>3</td><td>1</td></tr><tr><td>0</td><td>1757</td></tr></tbody></table></div>"
      ]
     },
     "execution_count": 383,
     "metadata": {},
     "output_type": "execute_result"
    }
   ],
   "execution_count": 383
  },
  {
   "cell_type": "markdown",
   "id": "776dea03",
   "metadata": {},
   "source": "## Part 8.2 Dry neighbours"
  },
  {
   "cell_type": "code",
   "id": "9006e520",
   "metadata": {
    "ExecuteTime": {
     "end_time": "2025-04-17T12:11:45.517015Z",
     "start_time": "2025-04-17T12:11:45.508891Z"
    }
   },
   "source": [
    "DRY_PERIOD_DAYS = 15\n",
    "gpcc_col_name = f\"{rain_col}_GPCC_{gpcc_id}\""
   ],
   "outputs": [],
   "execution_count": 384
  },
  {
   "cell_type": "code",
   "id": "b20a14dc",
   "metadata": {
    "ExecuteTime": {
     "end_time": "2025-04-17T12:11:46.072527Z",
     "start_time": "2025-04-17T12:11:46.063464Z"
    }
   },
   "source": [
    "joined_gauges_gpcc.head()"
   ],
   "outputs": [
    {
     "data": {
      "text/plain": [
       "shape: (5, 3)\n",
       "┌─────────────────────┬─────────┬──────────────────┐\n",
       "│ time                ┆ rain_mm ┆ rain_mm_GPCC_310 │\n",
       "│ ---                 ┆ ---     ┆ ---              │\n",
       "│ datetime[μs]        ┆ f64     ┆ f64              │\n",
       "╞═════════════════════╪═════════╪══════════════════╡\n",
       "│ 2006-01-01 07:00:00 ┆ 0.2     ┆ 0.2              │\n",
       "│ 2006-01-02 07:00:00 ┆ 0.0     ┆ 0.0              │\n",
       "│ 2006-01-03 07:00:00 ┆ 0.0     ┆ 0.0              │\n",
       "│ 2006-01-04 07:00:00 ┆ 0.0     ┆ 0.0              │\n",
       "│ 2006-01-05 07:00:00 ┆ 0.0     ┆ 0.0              │\n",
       "└─────────────────────┴─────────┴──────────────────┘"
      ],
      "text/html": [
       "<div><style>\n",
       ".dataframe > thead > tr,\n",
       ".dataframe > tbody > tr {\n",
       "  text-align: right;\n",
       "  white-space: pre-wrap;\n",
       "}\n",
       "</style>\n",
       "<small>shape: (5, 3)</small><table border=\"1\" class=\"dataframe\"><thead><tr><th>time</th><th>rain_mm</th><th>rain_mm_GPCC_310</th></tr><tr><td>datetime[μs]</td><td>f64</td><td>f64</td></tr></thead><tbody><tr><td>2006-01-01 07:00:00</td><td>0.2</td><td>0.2</td></tr><tr><td>2006-01-02 07:00:00</td><td>0.0</td><td>0.0</td></tr><tr><td>2006-01-03 07:00:00</td><td>0.0</td><td>0.0</td></tr><tr><td>2006-01-04 07:00:00</td><td>0.0</td><td>0.0</td></tr><tr><td>2006-01-05 07:00:00</td><td>0.0</td><td>0.0</td></tr></tbody></table></div>"
      ]
     },
     "execution_count": 385,
     "metadata": {},
     "output_type": "execute_result"
    }
   ],
   "execution_count": 385
  },
  {
   "metadata": {
    "ExecuteTime": {
     "end_time": "2025-04-17T12:11:46.653362Z",
     "start_time": "2025-04-17T12:11:46.643268Z"
    }
   },
   "cell_type": "code",
   "source": [
    "## TODO: This might use preexisting code, as this code is essentially looking for dry periods\n",
    "def convert_to_dry_spell(rain_daily, dry_period_days, col_name):\n",
    "    ## Convert to polars dataframe to use 'with_columns'\n",
    "    if not isinstance(rain_daily, pl.DataFrame):\n",
    "        rain_daily = rain_daily.to_frame()\n",
    "\n",
    "    ## make dry day column\n",
    "    rain_daily_dry_day = add_dry_day_col(rain_daily, col_name)\n",
    "    rain_daily_dry_day = rain_daily_dry_day.with_columns(\n",
    "        dry_spell_fraction=pl.col(\"dry_day\").rolling_sum(\n",
    "            window_size=dry_period_days, min_samples=dry_period_days\n",
    "        )\n",
    "        / dry_period_days\n",
    "    )\n",
    "    return rain_daily_dry_day[\"dry_spell_fraction\"]\n",
    "\n",
    "\n",
    "def add_dry_day_col(rain_daily, col_name):\n",
    "    rain_daily_dry_day = rain_daily.with_columns(\n",
    "        (pl.col(col_name) == 0).cast(pl.Int8()).alias(\"dry_day\")\n",
    "    )\n",
    "    return rain_daily_dry_day"
   ],
   "id": "90156273",
   "outputs": [],
   "execution_count": 386
  },
  {
   "metadata": {
    "ExecuteTime": {
     "end_time": "2025-04-17T12:11:47.413208Z",
     "start_time": "2025-04-17T12:11:47.385428Z"
    }
   },
   "cell_type": "code",
   "source": [
    "joined_gauges_gpcc_dry_spell = joined_gauges_gpcc.with_columns(\n",
    "    pl.col(rain_col)\n",
    "    .map_batches(\n",
    "        lambda row: convert_to_dry_spell(row, DRY_PERIOD_DAYS, col_name=rain_col)\n",
    "    )\n",
    "    .alias(\"dry_spell_fraction\"),\n",
    "    pl.col(gpcc_col_name)\n",
    "    .map_batches(\n",
    "        lambda row: convert_to_dry_spell(row, DRY_PERIOD_DAYS, col_name=gpcc_col_name)\n",
    "    )\n",
    "    .alias(f\"dry_spell_fraction_{gpcc_id}\"),\n",
    ")"
   ],
   "id": "cd44faf3",
   "outputs": [],
   "execution_count": 387
  },
  {
   "cell_type": "code",
   "id": "7afd661d",
   "metadata": {
    "ExecuteTime": {
     "end_time": "2025-04-17T12:11:48.078704Z",
     "start_time": "2025-04-17T12:11:48.064092Z"
    }
   },
   "source": [
    "joined_gauges_gpcc_dry_spell.head()"
   ],
   "outputs": [
    {
     "data": {
      "text/plain": [
       "shape: (5, 5)\n",
       "┌─────────────────────┬─────────┬──────────────────┬────────────────────┬────────────────────────┐\n",
       "│ time                ┆ rain_mm ┆ rain_mm_GPCC_310 ┆ dry_spell_fraction ┆ dry_spell_fraction_310 │\n",
       "│ ---                 ┆ ---     ┆ ---              ┆ ---                ┆ ---                    │\n",
       "│ datetime[μs]        ┆ f64     ┆ f64              ┆ f64                ┆ f64                    │\n",
       "╞═════════════════════╪═════════╪══════════════════╪════════════════════╪════════════════════════╡\n",
       "│ 2006-01-01 07:00:00 ┆ 0.2     ┆ 0.2              ┆ null               ┆ null                   │\n",
       "│ 2006-01-02 07:00:00 ┆ 0.0     ┆ 0.0              ┆ null               ┆ null                   │\n",
       "│ 2006-01-03 07:00:00 ┆ 0.0     ┆ 0.0              ┆ null               ┆ null                   │\n",
       "│ 2006-01-04 07:00:00 ┆ 0.0     ┆ 0.0              ┆ null               ┆ null                   │\n",
       "│ 2006-01-05 07:00:00 ┆ 0.0     ┆ 0.0              ┆ null               ┆ null                   │\n",
       "└─────────────────────┴─────────┴──────────────────┴────────────────────┴────────────────────────┘"
      ],
      "text/html": [
       "<div><style>\n",
       ".dataframe > thead > tr,\n",
       ".dataframe > tbody > tr {\n",
       "  text-align: right;\n",
       "  white-space: pre-wrap;\n",
       "}\n",
       "</style>\n",
       "<small>shape: (5, 5)</small><table border=\"1\" class=\"dataframe\"><thead><tr><th>time</th><th>rain_mm</th><th>rain_mm_GPCC_310</th><th>dry_spell_fraction</th><th>dry_spell_fraction_310</th></tr><tr><td>datetime[μs]</td><td>f64</td><td>f64</td><td>f64</td><td>f64</td></tr></thead><tbody><tr><td>2006-01-01 07:00:00</td><td>0.2</td><td>0.2</td><td>null</td><td>null</td></tr><tr><td>2006-01-02 07:00:00</td><td>0.0</td><td>0.0</td><td>null</td><td>null</td></tr><tr><td>2006-01-03 07:00:00</td><td>0.0</td><td>0.0</td><td>null</td><td>null</td></tr><tr><td>2006-01-04 07:00:00</td><td>0.0</td><td>0.0</td><td>null</td><td>null</td></tr><tr><td>2006-01-05 07:00:00</td><td>0.0</td><td>0.0</td><td>null</td><td>null</td></tr></tbody></table></div>"
      ]
     },
     "execution_count": 388,
     "metadata": {},
     "output_type": "execute_result"
    }
   ],
   "execution_count": 388
  },
  {
   "cell_type": "code",
   "id": "d1303aa3",
   "metadata": {
    "ExecuteTime": {
     "end_time": "2025-04-17T12:11:48.871595Z",
     "start_time": "2025-04-17T12:11:48.861699Z"
    }
   },
   "source": [
    "## TODO: why have this part?\n",
    "## consider only whether dry 15-day periods are corrobated as dry by neighbours\n",
    "## dry flag works on the basis of fraction of dry days within 15-day\n",
    "## check based on whether 0, 1, 2 or >= 3 wet days are recorded at the neighbour when the target is dry over the 15-day period\n",
    "## truncating these fractions to 2 dp below and manipulating equalities to work with these fractions, but could work in days not fractions if change the convertToDrySpell function\n",
    "dry_period = DRY_PERIOD_DAYS\n",
    "fraction_drydays = {}\n",
    "for d in range(1, 3 + 1):\n",
    "    fraction_drydays[str(d)] = np.trunc((1.0 - (float(d) / dry_period)) * 10**2) / (\n",
    "        10**2\n",
    "    )\n",
    "\n",
    "fraction_drydays  # moving window, so 1 = all dry, 0 = all wet"
   ],
   "outputs": [
    {
     "data": {
      "text/plain": [
       "{'1': np.float64(0.93), '2': np.float64(0.86), '3': np.float64(0.8)}"
      ]
     },
     "execution_count": 389,
     "metadata": {},
     "output_type": "execute_result"
    }
   ],
   "execution_count": 389
  },
  {
   "cell_type": "code",
   "id": "8a851837",
   "metadata": {
    "ExecuteTime": {
     "end_time": "2025-04-17T12:11:49.790936Z",
     "start_time": "2025-04-17T12:11:49.768360Z"
    }
   },
   "source": [
    "## Assign flags\n",
    "joined_gauges_gpcc_dry_flags = joined_gauges_gpcc_dry_spell.with_columns(\n",
    "    pl.when(\n",
    "        (pl.col(\"dry_spell_fraction\") == 1.0)\n",
    "        & (pl.col(f\"dry_spell_fraction_{gpcc_id}\") == 1.0)\n",
    "    )\n",
    "    .then(0)\n",
    "    .when(\n",
    "        (pl.col(\"dry_spell_fraction\") == 1.0)\n",
    "        & (pl.col(f\"dry_spell_fraction_{gpcc_id}\") < 1.0)\n",
    "        & (pl.col(f\"dry_spell_fraction_{gpcc_id}\") >= fraction_drydays[\"1\"]),\n",
    "    )\n",
    "    .then(1)\n",
    "    .when(\n",
    "        (pl.col(\"dry_spell_fraction\") == 1.0)\n",
    "        & (pl.col(f\"dry_spell_fraction_{gpcc_id}\") < fraction_drydays[\"1\"])\n",
    "        & (pl.col(f\"dry_spell_fraction_{gpcc_id}\") >= fraction_drydays[\"2\"]),\n",
    "    )\n",
    "    .then(2)\n",
    "    .when(\n",
    "        (pl.col(\"dry_spell_fraction\") == 1.0)\n",
    "        & (pl.col(f\"dry_spell_fraction_{gpcc_id}\") < fraction_drydays[\"2\"])\n",
    "    )\n",
    "    .then(3)\n",
    "    .otherwise(0)\n",
    "    .alias(\"dry_flags\")\n",
    ")"
   ],
   "outputs": [],
   "execution_count": 390
  },
  {
   "cell_type": "code",
   "id": "8f34b348",
   "metadata": {
    "ExecuteTime": {
     "end_time": "2025-04-17T12:11:50.654712Z",
     "start_time": "2025-04-17T12:11:50.646554Z"
    }
   },
   "source": [
    "joined_gauges_gpcc_dry_flags[\"dry_flags\"].value_counts()"
   ],
   "outputs": [
    {
     "data": {
      "text/plain": [
       "shape: (4, 2)\n",
       "┌───────────┬───────┐\n",
       "│ dry_flags ┆ count │\n",
       "│ ---       ┆ ---   │\n",
       "│ i32       ┆ u32   │\n",
       "╞═══════════╪═══════╡\n",
       "│ 1         ┆ 1     │\n",
       "│ 3         ┆ 126   │\n",
       "│ 0         ┆ 1629  │\n",
       "│ 2         ┆ 4     │\n",
       "└───────────┴───────┘"
      ],
      "text/html": [
       "<div><style>\n",
       ".dataframe > thead > tr,\n",
       ".dataframe > tbody > tr {\n",
       "  text-align: right;\n",
       "  white-space: pre-wrap;\n",
       "}\n",
       "</style>\n",
       "<small>shape: (4, 2)</small><table border=\"1\" class=\"dataframe\"><thead><tr><th>dry_flags</th><th>count</th></tr><tr><td>i32</td><td>u32</td></tr></thead><tbody><tr><td>1</td><td>1</td></tr><tr><td>3</td><td>126</td></tr><tr><td>0</td><td>1629</td></tr><tr><td>2</td><td>4</td></tr></tbody></table></div>"
      ]
     },
     "execution_count": 391,
     "metadata": {},
     "output_type": "execute_result"
    }
   ],
   "execution_count": 391
  },
  {
   "cell_type": "markdown",
   "id": "b8a80cbc",
   "metadata": {},
   "source": [
    "## Part 9 Compare target with neighbour (monthly) \n",
    "- Works differently from hourly and daily\n",
    "- original methodology uses bfill which uses the next available value to fillNA"
   ]
  },
  {
   "cell_type": "code",
   "id": "c5aa9908",
   "metadata": {
    "ExecuteTime": {
     "end_time": "2025-04-17T12:11:52.460698Z",
     "start_time": "2025-04-17T12:11:52.448956Z"
    }
   },
   "source": [
    "gpcc_id_to_use = \"DE_03215\"\n",
    "gpcc_id = gpcc_id_to_use.split(\"DE_\")[-1].lstrip(\"0\")  # like 6303"
   ],
   "outputs": [],
   "execution_count": 392
  },
  {
   "cell_type": "code",
   "id": "b4e3232b",
   "metadata": {
    "ExecuteTime": {
     "end_time": "2025-04-17T12:11:53.165701Z",
     "start_time": "2025-04-17T12:11:53.155216Z"
    }
   },
   "source": [
    "## TODO: get gpcc monthly\n",
    "joined_gauges_gpcc = target_gauge_daily.join(\n",
    "    example_gpcc, on=\"time\", suffix=f\"_GPCC_{gpcc_id}\"\n",
    ")\n",
    "joined_gauges_gpcc = joined_gauges_gpcc.drop_nans()\n",
    "joined_gauges_gpcc.head()"
   ],
   "outputs": [
    {
     "data": {
      "text/plain": [
       "shape: (5, 3)\n",
       "┌─────────────────────┬─────────┬───────────────────┐\n",
       "│ time                ┆ rain_mm ┆ rain_mm_GPCC_3215 │\n",
       "│ ---                 ┆ ---     ┆ ---               │\n",
       "│ datetime[μs]        ┆ f64     ┆ f64               │\n",
       "╞═════════════════════╪═════════╪═══════════════════╡\n",
       "│ 2006-01-01 07:00:00 ┆ 0.2     ┆ 0.2               │\n",
       "│ 2006-01-02 07:00:00 ┆ 0.0     ┆ 0.0               │\n",
       "│ 2006-01-03 07:00:00 ┆ 0.0     ┆ 0.0               │\n",
       "│ 2006-01-04 07:00:00 ┆ 0.0     ┆ 0.0               │\n",
       "│ 2006-01-05 07:00:00 ┆ 0.0     ┆ 0.0               │\n",
       "└─────────────────────┴─────────┴───────────────────┘"
      ],
      "text/html": [
       "<div><style>\n",
       ".dataframe > thead > tr,\n",
       ".dataframe > tbody > tr {\n",
       "  text-align: right;\n",
       "  white-space: pre-wrap;\n",
       "}\n",
       "</style>\n",
       "<small>shape: (5, 3)</small><table border=\"1\" class=\"dataframe\"><thead><tr><th>time</th><th>rain_mm</th><th>rain_mm_GPCC_3215</th></tr><tr><td>datetime[μs]</td><td>f64</td><td>f64</td></tr></thead><tbody><tr><td>2006-01-01 07:00:00</td><td>0.2</td><td>0.2</td></tr><tr><td>2006-01-02 07:00:00</td><td>0.0</td><td>0.0</td></tr><tr><td>2006-01-03 07:00:00</td><td>0.0</td><td>0.0</td></tr><tr><td>2006-01-04 07:00:00</td><td>0.0</td><td>0.0</td></tr><tr><td>2006-01-05 07:00:00</td><td>0.0</td><td>0.0</td></tr></tbody></table></div>"
      ]
     },
     "execution_count": 393,
     "metadata": {},
     "output_type": "execute_result"
    }
   ],
   "execution_count": 393
  },
  {
   "cell_type": "code",
   "id": "6036038a655b9922",
   "metadata": {
    "ExecuteTime": {
     "end_time": "2025-04-17T12:11:54.039801Z",
     "start_time": "2025-04-17T12:11:54.033678Z"
    }
   },
   "source": [
    "gpcc_col_name = f\"{rain_col}_GPCC_{gpcc_id}\""
   ],
   "outputs": [],
   "execution_count": 394
  },
  {
   "cell_type": "code",
   "id": "b774762d6bfcd2ee",
   "metadata": {
    "ExecuteTime": {
     "end_time": "2025-04-17T12:11:54.604652Z",
     "start_time": "2025-04-17T12:11:54.587088Z"
    }
   },
   "source": [
    "## resample into monthly\n",
    "joined_gauges_gpcc_monthly = joined_gauges_gpcc.group_by_dynamic(\n",
    "    \"time\", every=\"1mo\", offset=\"7h\"\n",
    ").agg(\n",
    "    [\n",
    "        pl.col(rain_col).mean().round(1).alias(rain_col),\n",
    "        pl.col(gpcc_col_name).mean().round(1).alias(gpcc_col_name),\n",
    "    ]\n",
    ")  # TODO: Ensure at least 24*n_days_in_month data points"
   ],
   "outputs": [],
   "execution_count": 395
  },
  {
   "cell_type": "code",
   "id": "71e872dcd2ef88c0",
   "metadata": {
    "ExecuteTime": {
     "end_time": "2025-04-17T12:11:55.193383Z",
     "start_time": "2025-04-17T12:11:55.185961Z"
    }
   },
   "source": [
    "joined_gauges_gpcc_monthly.head()"
   ],
   "outputs": [
    {
     "data": {
      "text/plain": [
       "shape: (5, 3)\n",
       "┌─────────────────────┬─────────┬───────────────────┐\n",
       "│ time                ┆ rain_mm ┆ rain_mm_GPCC_3215 │\n",
       "│ ---                 ┆ ---     ┆ ---               │\n",
       "│ datetime[μs]        ┆ f64     ┆ f64               │\n",
       "╞═════════════════════╪═════════╪═══════════════════╡\n",
       "│ 2006-01-01 07:00:00 ┆ 0.1     ┆ 1.1               │\n",
       "│ 2006-02-01 07:00:00 ┆ 0.3     ┆ 3.0               │\n",
       "│ 2006-03-01 07:00:00 ┆ 0.4     ┆ 3.6               │\n",
       "│ 2006-04-01 07:00:00 ┆ 0.3     ┆ 2.3               │\n",
       "│ 2006-05-01 07:00:00 ┆ 0.6     ┆ 4.6               │\n",
       "└─────────────────────┴─────────┴───────────────────┘"
      ],
      "text/html": [
       "<div><style>\n",
       ".dataframe > thead > tr,\n",
       ".dataframe > tbody > tr {\n",
       "  text-align: right;\n",
       "  white-space: pre-wrap;\n",
       "}\n",
       "</style>\n",
       "<small>shape: (5, 3)</small><table border=\"1\" class=\"dataframe\"><thead><tr><th>time</th><th>rain_mm</th><th>rain_mm_GPCC_3215</th></tr><tr><td>datetime[μs]</td><td>f64</td><td>f64</td></tr></thead><tbody><tr><td>2006-01-01 07:00:00</td><td>0.1</td><td>1.1</td></tr><tr><td>2006-02-01 07:00:00</td><td>0.3</td><td>3.0</td></tr><tr><td>2006-03-01 07:00:00</td><td>0.4</td><td>3.6</td></tr><tr><td>2006-04-01 07:00:00</td><td>0.3</td><td>2.3</td></tr><tr><td>2006-05-01 07:00:00</td><td>0.6</td><td>4.6</td></tr></tbody></table></div>"
      ]
     },
     "execution_count": 396,
     "metadata": {},
     "output_type": "execute_result"
    }
   ],
   "execution_count": 396
  },
  {
   "cell_type": "code",
   "id": "8ae9645b",
   "metadata": {
    "ExecuteTime": {
     "end_time": "2025-04-17T12:11:55.945298Z",
     "start_time": "2025-04-17T12:11:55.928184Z"
    }
   },
   "source": [
    "joined_gauges_gpcc_monthly_perc_diff = joined_gauges_gpcc_monthly.with_columns(\n",
    "    perc_diff=((pl.col(rain_col) - pl.col(gpcc_col_name)) * 100.0)\n",
    "    / pl.col(gpcc_col_name),\n",
    "    factor_diff=pl.col(rain_col) / pl.col(gpcc_col_name),\n",
    ")"
   ],
   "outputs": [],
   "execution_count": 397
  },
  {
   "cell_type": "code",
   "id": "d699dc2b2219fdb1",
   "metadata": {
    "ExecuteTime": {
     "end_time": "2025-04-17T12:11:56.645726Z",
     "start_time": "2025-04-17T12:11:56.625461Z"
    }
   },
   "source": [
    "joined_gauges_gpcc_monthly_flags = joined_gauges_gpcc_monthly_perc_diff.with_columns(\n",
    "    pl.when(pl.col(\"perc_diff\") <= -100.0)\n",
    "    .then(-3)\n",
    "    .when((pl.col(\"perc_diff\") <= -50.0) & (pl.col(\"perc_diff\") > -100.0))\n",
    "    .then(-2)\n",
    "    .when((pl.col(\"perc_diff\") <= -25.0) & (pl.col(\"perc_diff\") > -50.0))\n",
    "    .then(-1)\n",
    "    .when((pl.col(\"perc_diff\") < 25.0) & (pl.col(\"perc_diff\") > -25.0))\n",
    "    .then(0)\n",
    "    .when((pl.col(\"perc_diff\") >= 25.0) & (pl.col(\"perc_diff\") < 50.0))\n",
    "    .then(1)\n",
    "    .when((pl.col(\"perc_diff\") >= 50.0) & (pl.col(\"perc_diff\") < 100.0))\n",
    "    .then(2)\n",
    "    .when(pl.col(\"perc_diff\") >= 100.0)\n",
    "    .then(3)\n",
    "    .otherwise(None)\n",
    "    .alias(\"precip_flags\"),\n",
    "    pl.when((pl.col(\"factor_diff\") < 11) & (pl.col(\"factor_diff\") > 9))\n",
    "    .then(1)\n",
    "    .when((pl.col(\"factor_diff\") < 26) & (pl.col(\"factor_diff\") > 24))\n",
    "    .then(2)\n",
    "    .when((pl.col(\"factor_diff\") < 3) & (pl.col(\"factor_diff\") > 2))\n",
    "    .then(3)\n",
    "    .when((pl.col(\"factor_diff\") > 1 / 11) & (pl.col(\"factor_diff\") < 1 / 9))\n",
    "    .then(4)\n",
    "    .when((pl.col(\"factor_diff\") > 1 / 26) & (pl.col(\"factor_diff\") < 1 / 24))\n",
    "    .then(5)\n",
    "    .when((pl.col(\"factor_diff\") > 1 / 3) & (pl.col(\"factor_diff\") < 1 / 2))\n",
    "    .then(6)\n",
    "    .otherwise(0)\n",
    "    .alias(\"factor_flags\"),\n",
    ")"
   ],
   "outputs": [],
   "execution_count": 398
  },
  {
   "cell_type": "code",
   "id": "71377f39",
   "metadata": {
    "ExecuteTime": {
     "end_time": "2025-04-17T12:11:57.356808Z",
     "start_time": "2025-04-17T12:11:57.337156Z"
    }
   },
   "source": [
    "joined_gauges_gpcc_monthly_flags[\"precip_flags\"].value_counts()"
   ],
   "outputs": [
    {
     "data": {
      "text/plain": [
       "shape: (3, 2)\n",
       "┌──────────────┬───────┐\n",
       "│ precip_flags ┆ count │\n",
       "│ ---          ┆ ---   │\n",
       "│ i32          ┆ u32   │\n",
       "╞══════════════╪═══════╡\n",
       "│ -3           ┆ 6     │\n",
       "│ 3            ┆ 2     │\n",
       "│ -2           ┆ 52    │\n",
       "└──────────────┴───────┘"
      ],
      "text/html": [
       "<div><style>\n",
       ".dataframe > thead > tr,\n",
       ".dataframe > tbody > tr {\n",
       "  text-align: right;\n",
       "  white-space: pre-wrap;\n",
       "}\n",
       "</style>\n",
       "<small>shape: (3, 2)</small><table border=\"1\" class=\"dataframe\"><thead><tr><th>precip_flags</th><th>count</th></tr><tr><td>i32</td><td>u32</td></tr></thead><tbody><tr><td>-3</td><td>6</td></tr><tr><td>3</td><td>2</td></tr><tr><td>-2</td><td>52</td></tr></tbody></table></div>"
      ]
     },
     "execution_count": 399,
     "metadata": {},
     "output_type": "execute_result"
    }
   ],
   "execution_count": 399
  },
  {
   "cell_type": "code",
   "id": "6dc4a7ab",
   "metadata": {
    "ExecuteTime": {
     "end_time": "2025-04-17T12:11:58.117613Z",
     "start_time": "2025-04-17T12:11:58.110623Z"
    }
   },
   "source": [
    "joined_gauges_gpcc_monthly_flags[\"factor_flags\"].value_counts()"
   ],
   "outputs": [
    {
     "data": {
      "text/plain": [
       "shape: (2, 2)\n",
       "┌──────────────┬───────┐\n",
       "│ factor_flags ┆ count │\n",
       "│ ---          ┆ ---   │\n",
       "│ i32          ┆ u32   │\n",
       "╞══════════════╪═══════╡\n",
       "│ 0            ┆ 55    │\n",
       "│ 4            ┆ 5     │\n",
       "└──────────────┴───────┘"
      ],
      "text/html": [
       "<div><style>\n",
       ".dataframe > thead > tr,\n",
       ".dataframe > tbody > tr {\n",
       "  text-align: right;\n",
       "  white-space: pre-wrap;\n",
       "}\n",
       "</style>\n",
       "<small>shape: (2, 2)</small><table border=\"1\" class=\"dataframe\"><thead><tr><th>factor_flags</th><th>count</th></tr><tr><td>i32</td><td>u32</td></tr></thead><tbody><tr><td>0</td><td>55</td></tr><tr><td>4</td><td>5</td></tr></tbody></table></div>"
      ]
     },
     "execution_count": 400,
     "metadata": {},
     "output_type": "execute_result"
    }
   ],
   "execution_count": 400
  },
  {
   "cell_type": "code",
   "id": "2f93cb56",
   "metadata": {
    "ExecuteTime": {
     "end_time": "2025-04-17T12:11:58.788520Z",
     "start_time": "2025-04-17T12:11:58.781877Z"
    }
   },
   "source": [
    "## Set up NaN\n",
    "joined_gauges_gpcc_monthly_flags = joined_gauges_gpcc_monthly_flags.with_columns(\n",
    "    pl.when(pl.col(rain_col).is_nan())\n",
    "    .then(np.nan)\n",
    "    .otherwise(pl.col(\"factor_flags\"))\n",
    "    .alias(\"factor_flags\"),\n",
    "    pl.when(pl.col(rain_col).is_nan())\n",
    "    .then(np.nan)\n",
    "    .otherwise(pl.col(\"precip_flags\"))\n",
    "    .alias(\"precip_flags\"),\n",
    ")"
   ],
   "outputs": [],
   "execution_count": 401
  },
  {
   "cell_type": "code",
   "id": "60febab3",
   "metadata": {
    "ExecuteTime": {
     "end_time": "2025-04-17T12:11:59.606051Z",
     "start_time": "2025-04-17T12:11:59.603958Z"
    }
   },
   "source": [],
   "outputs": [],
   "execution_count": null
  },
  {
   "cell_type": "markdown",
   "id": "301fb685",
   "metadata": {},
   "source": [
    "# QC16 - Daily neighbours (wet)\n",
    "[Back to Index](#Table-of-contents)\n",
    "\n",
    "#### Differences from `intense-qc`: \n",
    "- Many, although mainly this implementation opens the neighbour wet and dry functions to parameter tweaking"
   ]
  },
  {
   "cell_type": "markdown",
   "id": "bf3657b6",
   "metadata": {},
   "source": [
    "#### Step 1. resample to daily resolution"
   ]
  },
  {
   "cell_type": "code",
   "id": "05ca0ce2",
   "metadata": {
    "ExecuteTime": {
     "end_time": "2025-04-17T09:05:25.350982Z",
     "start_time": "2025-04-17T09:05:25.331842Z"
    }
   },
   "source": [
    "## resample into daily (also round to 1 decimal place) TODO: check offset='7h' part\n",
    "target_gauge_daily = (\n",
    "    target_gauge.group_by_dynamic(\"time\", every=\"1d\", offset=\"7h\", closed=\"right\")\n",
    "    .agg(\n",
    "        [\n",
    "            pl.len().alias(\"n_hours\"),\n",
    "            pl.col(rain_col).mean().round(1).alias(rain_col),\n",
    "        ]\n",
    "    )\n",
    "    .filter(pl.col(\"n_hours\") == 24)\n",
    "    .drop(\"n_hours\")\n",
    ")  # Ensure at least 24 data points"
   ],
   "outputs": [],
   "execution_count": 74
  },
  {
   "cell_type": "code",
   "id": "daa4cc73",
   "metadata": {
    "ExecuteTime": {
     "end_time": "2025-04-17T09:05:25.547722Z",
     "start_time": "2025-04-17T09:05:25.539659Z"
    }
   },
   "source": [
    "target_gauge_daily.head()"
   ],
   "outputs": [
    {
     "data": {
      "text/plain": [
       "shape: (5, 2)\n",
       "┌─────────────────────┬─────────┐\n",
       "│ time                ┆ rain_mm │\n",
       "│ ---                 ┆ ---     │\n",
       "│ datetime[μs]        ┆ f64     │\n",
       "╞═════════════════════╪═════════╡\n",
       "│ 2006-01-01 07:00:00 ┆ 0.2     │\n",
       "│ 2006-01-02 07:00:00 ┆ 0.0     │\n",
       "│ 2006-01-03 07:00:00 ┆ 0.0     │\n",
       "│ 2006-01-04 07:00:00 ┆ 0.0     │\n",
       "│ 2006-01-05 07:00:00 ┆ 0.0     │\n",
       "└─────────────────────┴─────────┘"
      ],
      "text/html": [
       "<div><style>\n",
       ".dataframe > thead > tr,\n",
       ".dataframe > tbody > tr {\n",
       "  text-align: right;\n",
       "  white-space: pre-wrap;\n",
       "}\n",
       "</style>\n",
       "<small>shape: (5, 2)</small><table border=\"1\" class=\"dataframe\"><thead><tr><th>time</th><th>rain_mm</th></tr><tr><td>datetime[μs]</td><td>f64</td></tr></thead><tbody><tr><td>2006-01-01 07:00:00</td><td>0.2</td></tr><tr><td>2006-01-02 07:00:00</td><td>0.0</td></tr><tr><td>2006-01-03 07:00:00</td><td>0.0</td></tr><tr><td>2006-01-04 07:00:00</td><td>0.0</td></tr><tr><td>2006-01-05 07:00:00</td><td>0.0</td></tr></tbody></table></div>"
      ]
     },
     "execution_count": 75,
     "metadata": {},
     "output_type": "execute_result"
    }
   ],
   "execution_count": 75
  },
  {
   "cell_type": "markdown",
   "id": "84d7fbc8",
   "metadata": {},
   "source": [
    "#### Step 2. Join each GPCC data & compare to target"
   ]
  },
  {
   "cell_type": "code",
   "id": "6fec54e7",
   "metadata": {
    "ExecuteTime": {
     "end_time": "2025-04-17T09:05:25.736423Z",
     "start_time": "2025-04-17T09:05:25.727242Z"
    }
   },
   "source": [
    "existing_gpcc_daily_paths"
   ],
   "outputs": [
    {
     "data": {
      "text/plain": [
       "{'DE_03215': ['../data/GPCC/tw_3215.zip'],\n",
       " 'DE_02718': [],\n",
       " 'DE_04488': [],\n",
       " 'DE_06264': [],\n",
       " 'DE_00390': [],\n",
       " 'DE_01300': [],\n",
       " 'DE_04313': [],\n",
       " 'DE_06303': ['../data/GPCC/tw_6303.zip'],\n",
       " 'DE_00310': ['../data/GPCC/tw_310.zip']}"
      ]
     },
     "execution_count": 76,
     "metadata": {},
     "output_type": "execute_result"
    }
   ],
   "execution_count": 76
  },
  {
   "cell_type": "code",
   "id": "f3c9219f",
   "metadata": {
    "ExecuteTime": {
     "end_time": "2025-04-17T09:05:26.262055Z",
     "start_time": "2025-04-17T09:05:25.937887Z"
    }
   },
   "source": [
    "all_data = target_gauge_daily.clone()\n",
    "\n",
    "for gpcc_id_to_use, gpcc_path in existing_gpcc_daily_paths.items():\n",
    "    ## 0. Load GPCC data\n",
    "    gpcc_id_name = gpcc_id_to_use.split(\"DE_\")[1].lstrip(\"0\")\n",
    "    gpcc_col_name = f\"{rain_col}_GPCC_{gpcc_id_name}\"\n",
    "    if len(gpcc_path) == 0:\n",
    "        continue\n",
    "    f = zipfile.ZipFile(gpcc_path[0]).open(f\"tw_{gpcc_id_name}.dat\")\n",
    "    example_gpcc = pl.from_pandas(pd.read_csv(f, skiprows=1, header=None, sep=r\"\\s+\"))\n",
    "\n",
    "    ## 1. drop unnecessary columns\n",
    "    example_gpcc = example_gpcc.drop([str(i) for i in range(4, 16)])\n",
    "\n",
    "    ## 2. make datetime column (apparently it's 7am-7pm)\n",
    "    example_gpcc = example_gpcc.with_columns(\n",
    "        pl.datetime(pl.col(\"2\"), pl.col(\"1\"), pl.col(\"0\"), 7).alias(\"time\")\n",
    "    ).drop([\"0\", \"1\", \"2\"])\n",
    "\n",
    "    ## 3. rename and reorder\n",
    "    example_gpcc = example_gpcc.rename({\"3\": rain_col})\n",
    "    example_gpcc = example_gpcc.select([\"time\", rain_col])  ## Reorder (to look nice)\n",
    "\n",
    "    ## 4. join to target data\n",
    "    joined_gauges_gpcc = target_gauge_daily.join(\n",
    "        example_gpcc, on=\"time\", suffix=f\"_GPCC_{gpcc_id_name}\"\n",
    "    )\n",
    "    joined_gauges_gpcc = joined_gauges_gpcc.drop_nans()\n",
    "\n",
    "    ## 5. get normalised diff\n",
    "    joined_gauges_gpcc_normalised_diff = joined_gauges_gpcc.with_columns(\n",
    "        # get normalised difference between target and neighbour\n",
    "        rain_mm_normalised_diff=normalise_data(pl.col(f\"{rain_col}\"))\n",
    "        - normalise_data(pl.col(f\"{rain_col}_GPCC_{gpcc_id_name}\"))\n",
    "    )\n",
    "\n",
    "    ## 6. filter values\n",
    "    joined_gauges_gpcc_normalised_diff_filtered = (\n",
    "        joined_gauges_gpcc_normalised_diff.filter(\n",
    "            (pl.col(f\"{rain_col}\") >= WET_THRESHOLD)\n",
    "            & (pl.col(f\"{rain_col}\").is_finite())\n",
    "            & (pl.col(f\"{rain_col}_GPCC_{gpcc_id_name}\").is_finite())\n",
    "            & (pl.col(f\"{rain_col}_normalised_diff\") > 0.0)\n",
    "        )\n",
    "    )\n",
    "\n",
    "    ## 7. Calculate exponential function of normalised diff\n",
    "    expon_params = scipy.stats.expon.fit(\n",
    "        joined_gauges_gpcc_normalised_diff_filtered[f\"{rain_col}_normalised_diff\"]\n",
    "    )\n",
    "    # 8. Calculate thresholds at key percentiles of fitted distribution\n",
    "    q95 = scipy.stats.expon.ppf(0.95, expon_params[0], expon_params[1])\n",
    "    q99 = scipy.stats.expon.ppf(0.99, expon_params[0], expon_params[1])\n",
    "    q999 = scipy.stats.expon.ppf(0.999, expon_params[0], expon_params[1])\n",
    "\n",
    "    ## 9. Assign flags\n",
    "    joined_gauges_gpcc_normalised_wet_flags = (\n",
    "        joined_gauges_gpcc_normalised_diff.with_columns(\n",
    "            pl.when(\n",
    "                (pl.col(rain_col) >= 1.0)\n",
    "                & (pl.col(f\"{rain_col}_normalised_diff\") <= q95)\n",
    "            )\n",
    "            .then(0)\n",
    "            .when(\n",
    "                (pl.col(rain_col) >= 1.0)\n",
    "                & (pl.col(f\"{rain_col}_normalised_diff\") > q95)\n",
    "                & (pl.col(f\"{rain_col}_normalised_diff\") <= q99),\n",
    "            )\n",
    "            .then(1)\n",
    "            .when(\n",
    "                (pl.col(rain_col) >= 1.0)\n",
    "                & (pl.col(f\"{rain_col}_normalised_diff\") > q99)\n",
    "                & (pl.col(f\"{rain_col}_normalised_diff\") <= q999),\n",
    "            )\n",
    "            .then(2)\n",
    "            .when(\n",
    "                (pl.col(rain_col) >= 1.0)\n",
    "                & (pl.col(f\"{rain_col}_normalised_diff\") > q95)\n",
    "            )\n",
    "            .then(3)\n",
    "            .otherwise(0)\n",
    "            .alias(f\"wet_flags_{gpcc_id_name}\")\n",
    "        )\n",
    "    )\n",
    "\n",
    "    ## 10. Join to all data\n",
    "    all_data = all_data.join(\n",
    "        joined_gauges_gpcc_normalised_wet_flags[[\"time\", f\"wet_flags_{gpcc_id_name}\"]],\n",
    "        on=\"time\",\n",
    "        how=\"left\",\n",
    "    )\n",
    "    print(\n",
    "        joined_gauges_gpcc_normalised_wet_flags[\n",
    "            f\"wet_flags_{gpcc_id_name}\"\n",
    "        ].value_counts()\n",
    "    )"
   ],
   "outputs": [
    {
     "name": "stdout",
     "output_type": "stream",
     "text": [
      "shape: (4, 2)\n",
      "┌────────────────┬───────┐\n",
      "│ wet_flags_3215 ┆ count │\n",
      "│ ---            ┆ ---   │\n",
      "│ i32            ┆ u32   │\n",
      "╞════════════════╪═══════╡\n",
      "│ 2              ┆ 1     │\n",
      "│ 1              ┆ 4     │\n",
      "│ 0              ┆ 1250  │\n",
      "│ 3              ┆ 1     │\n",
      "└────────────────┴───────┘\n",
      "shape: (4, 2)\n",
      "┌────────────────┬───────┐\n",
      "│ wet_flags_6303 ┆ count │\n",
      "│ ---            ┆ ---   │\n",
      "│ i32            ┆ u32   │\n",
      "╞════════════════╪═══════╡\n",
      "│ 2              ┆ 1     │\n",
      "│ 3              ┆ 1     │\n",
      "│ 1              ┆ 1     │\n",
      "│ 0              ┆ 1756  │\n",
      "└────────────────┴───────┘\n",
      "shape: (4, 2)\n",
      "┌───────────────┬───────┐\n",
      "│ wet_flags_310 ┆ count │\n",
      "│ ---           ┆ ---   │\n",
      "│ i32           ┆ u32   │\n",
      "╞═══════════════╪═══════╡\n",
      "│ 3             ┆ 1     │\n",
      "│ 1             ┆ 1     │\n",
      "│ 2             ┆ 1     │\n",
      "│ 0             ┆ 1756  │\n",
      "└───────────────┴───────┘\n"
     ]
    }
   ],
   "execution_count": 77
  },
  {
   "cell_type": "markdown",
   "id": "7d7e2425",
   "metadata": {},
   "source": "#### Step 3. Calculate num neighbours online"
  },
  {
   "cell_type": "code",
   "id": "cd0e475f",
   "metadata": {
    "ExecuteTime": {
     "end_time": "2025-04-17T09:05:26.421417Z",
     "start_time": "2025-04-17T09:05:26.415462Z"
    }
   },
   "source": [
    "## global determining the minimum number of non-null neighbours to count flags\n",
    "MIN_NUM_NEIGHBOURS = 2  # original method is 3"
   ],
   "outputs": [],
   "execution_count": 78
  },
  {
   "cell_type": "code",
   "id": "cd5efc5d",
   "metadata": {
    "ExecuteTime": {
     "end_time": "2025-04-17T09:05:26.500789Z",
     "start_time": "2025-04-17T09:05:26.493118Z"
    }
   },
   "source": [
    "num_neighbours = len(all_data.columns[2:])\n",
    "num_neighbours"
   ],
   "outputs": [
    {
     "data": {
      "text/plain": [
       "3"
      ]
     },
     "execution_count": 79,
     "metadata": {},
     "output_type": "execute_result"
    }
   ],
   "execution_count": 79
  },
  {
   "cell_type": "code",
   "id": "7f01e885",
   "metadata": {
    "ExecuteTime": {
     "end_time": "2025-04-17T09:05:26.674142Z",
     "start_time": "2025-04-17T09:05:26.652263Z"
    }
   },
   "source": [
    "all_data_num_neighbours = all_data.with_columns(\n",
    "    (\n",
    "        num_neighbours\n",
    "        - pl.sum_horizontal(pl.all().exclude(\"time\").is_null().cast(pl.Int16))\n",
    "    ).alias(\"num_neighbours_online\")\n",
    ")\n",
    "all_data_num_neighbours"
   ],
   "outputs": [
    {
     "data": {
      "text/plain": [
       "shape: (1_825, 6)\n",
       "┌──────────────┬─────────┬────────────────┬────────────────┬───────────────┬───────────────────────┐\n",
       "│ time         ┆ rain_mm ┆ wet_flags_3215 ┆ wet_flags_6303 ┆ wet_flags_310 ┆ num_neighbours_online │\n",
       "│ ---          ┆ ---     ┆ ---            ┆ ---            ┆ ---           ┆ ---                   │\n",
       "│ datetime[μs] ┆ f64     ┆ i32            ┆ i32            ┆ i32           ┆ i16                   │\n",
       "╞══════════════╪═════════╪════════════════╪════════════════╪═══════════════╪═══════════════════════╡\n",
       "│ 2006-01-01   ┆ 0.2     ┆ null           ┆ 0              ┆ 0             ┆ 2                     │\n",
       "│ 07:00:00     ┆         ┆                ┆                ┆               ┆                       │\n",
       "│ 2006-01-02   ┆ 0.0     ┆ null           ┆ 0              ┆ 0             ┆ 2                     │\n",
       "│ 07:00:00     ┆         ┆                ┆                ┆               ┆                       │\n",
       "│ 2006-01-03   ┆ 0.0     ┆ null           ┆ 0              ┆ 0             ┆ 2                     │\n",
       "│ 07:00:00     ┆         ┆                ┆                ┆               ┆                       │\n",
       "│ 2006-01-04   ┆ 0.0     ┆ null           ┆ 0              ┆ 0             ┆ 2                     │\n",
       "│ 07:00:00     ┆         ┆                ┆                ┆               ┆                       │\n",
       "│ 2006-01-05   ┆ 0.0     ┆ null           ┆ 0              ┆ 0             ┆ 2                     │\n",
       "│ 07:00:00     ┆         ┆                ┆                ┆               ┆                       │\n",
       "│ …            ┆ …       ┆ …              ┆ …              ┆ …             ┆ …                     │\n",
       "│ 2010-12-26   ┆ 0.2     ┆ 0              ┆ 0              ┆ 0             ┆ 3                     │\n",
       "│ 07:00:00     ┆         ┆                ┆                ┆               ┆                       │\n",
       "│ 2010-12-27   ┆ 0.0     ┆ 0              ┆ 0              ┆ 0             ┆ 3                     │\n",
       "│ 07:00:00     ┆         ┆                ┆                ┆               ┆                       │\n",
       "│ 2010-12-28   ┆ 0.0     ┆ 0              ┆ 0              ┆ 0             ┆ 3                     │\n",
       "│ 07:00:00     ┆         ┆                ┆                ┆               ┆                       │\n",
       "│ 2010-12-29   ┆ 0.0     ┆ 0              ┆ 0              ┆ 0             ┆ 3                     │\n",
       "│ 07:00:00     ┆         ┆                ┆                ┆               ┆                       │\n",
       "│ 2010-12-30   ┆ 0.0     ┆ 0              ┆ 0              ┆ 0             ┆ 3                     │\n",
       "│ 07:00:00     ┆         ┆                ┆                ┆               ┆                       │\n",
       "└──────────────┴─────────┴────────────────┴────────────────┴───────────────┴───────────────────────┘"
      ],
      "text/html": [
       "<div><style>\n",
       ".dataframe > thead > tr,\n",
       ".dataframe > tbody > tr {\n",
       "  text-align: right;\n",
       "  white-space: pre-wrap;\n",
       "}\n",
       "</style>\n",
       "<small>shape: (1_825, 6)</small><table border=\"1\" class=\"dataframe\"><thead><tr><th>time</th><th>rain_mm</th><th>wet_flags_3215</th><th>wet_flags_6303</th><th>wet_flags_310</th><th>num_neighbours_online</th></tr><tr><td>datetime[μs]</td><td>f64</td><td>i32</td><td>i32</td><td>i32</td><td>i16</td></tr></thead><tbody><tr><td>2006-01-01 07:00:00</td><td>0.2</td><td>null</td><td>0</td><td>0</td><td>2</td></tr><tr><td>2006-01-02 07:00:00</td><td>0.0</td><td>null</td><td>0</td><td>0</td><td>2</td></tr><tr><td>2006-01-03 07:00:00</td><td>0.0</td><td>null</td><td>0</td><td>0</td><td>2</td></tr><tr><td>2006-01-04 07:00:00</td><td>0.0</td><td>null</td><td>0</td><td>0</td><td>2</td></tr><tr><td>2006-01-05 07:00:00</td><td>0.0</td><td>null</td><td>0</td><td>0</td><td>2</td></tr><tr><td>&hellip;</td><td>&hellip;</td><td>&hellip;</td><td>&hellip;</td><td>&hellip;</td><td>&hellip;</td></tr><tr><td>2010-12-26 07:00:00</td><td>0.2</td><td>0</td><td>0</td><td>0</td><td>3</td></tr><tr><td>2010-12-27 07:00:00</td><td>0.0</td><td>0</td><td>0</td><td>0</td><td>3</td></tr><tr><td>2010-12-28 07:00:00</td><td>0.0</td><td>0</td><td>0</td><td>0</td><td>3</td></tr><tr><td>2010-12-29 07:00:00</td><td>0.0</td><td>0</td><td>0</td><td>0</td><td>3</td></tr><tr><td>2010-12-30 07:00:00</td><td>0.0</td><td>0</td><td>0</td><td>0</td><td>3</td></tr></tbody></table></div>"
      ]
     },
     "execution_count": 80,
     "metadata": {},
     "output_type": "execute_result"
    }
   ],
   "execution_count": 80
  },
  {
   "cell_type": "code",
   "id": "6d50ed7c",
   "metadata": {
    "ExecuteTime": {
     "end_time": "2025-04-17T09:05:27.666956Z",
     "start_time": "2025-04-17T09:05:26.773910Z"
    }
   },
   "source": [
    "all_data_num_neighbours[\"num_neighbours_online\"].plot.line()"
   ],
   "outputs": [
    {
     "data": {
      "text/html": [
       "\n",
       "<style>\n",
       "  #altair-viz-4f200d80ecd842e59361ddd005ce64a9.vega-embed {\n",
       "    width: 100%;\n",
       "    display: flex;\n",
       "  }\n",
       "\n",
       "  #altair-viz-4f200d80ecd842e59361ddd005ce64a9.vega-embed details,\n",
       "  #altair-viz-4f200d80ecd842e59361ddd005ce64a9.vega-embed details summary {\n",
       "    position: relative;\n",
       "  }\n",
       "</style>\n",
       "<div id=\"altair-viz-4f200d80ecd842e59361ddd005ce64a9\"></div>\n",
       "<script type=\"text/javascript\">\n",
       "  var VEGA_DEBUG = (typeof VEGA_DEBUG == \"undefined\") ? {} : VEGA_DEBUG;\n",
       "  (function(spec, embedOpt){\n",
       "    let outputDiv = document.currentScript.previousElementSibling;\n",
       "    if (outputDiv.id !== \"altair-viz-4f200d80ecd842e59361ddd005ce64a9\") {\n",
       "      outputDiv = document.getElementById(\"altair-viz-4f200d80ecd842e59361ddd005ce64a9\");\n",
       "    }\n",
       "\n",
       "    const paths = {\n",
       "      \"vega\": \"https://cdn.jsdelivr.net/npm/vega@5?noext\",\n",
       "      \"vega-lib\": \"https://cdn.jsdelivr.net/npm/vega-lib?noext\",\n",
       "      \"vega-lite\": \"https://cdn.jsdelivr.net/npm/vega-lite@5.20.1?noext\",\n",
       "      \"vega-embed\": \"https://cdn.jsdelivr.net/npm/vega-embed@6?noext\",\n",
       "    };\n",
       "\n",
       "    function maybeLoadScript(lib, version) {\n",
       "      var key = `${lib.replace(\"-\", \"\")}_version`;\n",
       "      return (VEGA_DEBUG[key] == version) ?\n",
       "        Promise.resolve(paths[lib]) :\n",
       "        new Promise(function(resolve, reject) {\n",
       "          var s = document.createElement('script');\n",
       "          document.getElementsByTagName(\"head\")[0].appendChild(s);\n",
       "          s.async = true;\n",
       "          s.onload = () => {\n",
       "            VEGA_DEBUG[key] = version;\n",
       "            return resolve(paths[lib]);\n",
       "          };\n",
       "          s.onerror = () => reject(`Error loading script: ${paths[lib]}`);\n",
       "          s.src = paths[lib];\n",
       "        });\n",
       "    }\n",
       "\n",
       "    function showError(err) {\n",
       "      outputDiv.innerHTML = `<div class=\"error\" style=\"color:red;\">${err}</div>`;\n",
       "      throw err;\n",
       "    }\n",
       "\n",
       "    function displayChart(vegaEmbed) {\n",
       "      vegaEmbed(outputDiv, spec, embedOpt)\n",
       "        .catch(err => showError(`Javascript Error: ${err.message}<br>This usually means there's a typo in your chart specification. See the javascript console for the full traceback.`));\n",
       "    }\n",
       "\n",
       "    if(typeof define === \"function\" && define.amd) {\n",
       "      requirejs.config({paths});\n",
       "      let deps = [\"vega-embed\"];\n",
       "      require(deps, displayChart, err => showError(`Error loading script: ${err.message}`));\n",
       "    } else {\n",
       "      maybeLoadScript(\"vega\", \"5\")\n",
       "        .then(() => maybeLoadScript(\"vega-lite\", \"5.20.1\"))\n",
       "        .then(() => maybeLoadScript(\"vega-embed\", \"6\"))\n",
       "        .catch(showError)\n",
       "        .then(() => displayChart(vegaEmbed));\n",
       "    }\n",
       "  })({\"config\": {\"view\": {\"continuousWidth\": 300, \"continuousHeight\": 300}}, \"data\": {\"name\": \"data-f94ef14d746a3513ced8ac3fbb7549fa\"}, \"mark\": {\"type\": \"line\", \"tooltip\": true}, \"encoding\": {\"x\": {\"field\": \"index\", \"type\": \"quantitative\"}, \"y\": {\"field\": \"num_neighbours_online\", \"type\": \"quantitative\"}}, \"params\": [{\"name\": \"param_1\", \"select\": {\"type\": \"interval\", \"encodings\": [\"x\", \"y\"]}, \"bind\": \"scales\"}], \"$schema\": \"https://vega.github.io/schema/vega-lite/v5.20.1.json\", \"datasets\": {\"data-f94ef14d746a3513ced8ac3fbb7549fa\": [{\"index\": 0, \"num_neighbours_online\": 2}, {\"index\": 1, \"num_neighbours_online\": 2}, {\"index\": 2, \"num_neighbours_online\": 2}, {\"index\": 3, \"num_neighbours_online\": 2}, {\"index\": 4, \"num_neighbours_online\": 2}, {\"index\": 5, \"num_neighbours_online\": 2}, {\"index\": 6, \"num_neighbours_online\": 2}, {\"index\": 7, \"num_neighbours_online\": 2}, {\"index\": 8, \"num_neighbours_online\": 2}, {\"index\": 9, \"num_neighbours_online\": 2}, {\"index\": 10, \"num_neighbours_online\": 2}, {\"index\": 11, \"num_neighbours_online\": 2}, {\"index\": 12, \"num_neighbours_online\": 2}, {\"index\": 13, \"num_neighbours_online\": 2}, {\"index\": 14, \"num_neighbours_online\": 2}, {\"index\": 15, \"num_neighbours_online\": 2}, {\"index\": 16, \"num_neighbours_online\": 2}, {\"index\": 17, \"num_neighbours_online\": 0}, {\"index\": 18, \"num_neighbours_online\": 2}, {\"index\": 19, \"num_neighbours_online\": 2}, {\"index\": 20, \"num_neighbours_online\": 2}, {\"index\": 21, \"num_neighbours_online\": 0}, {\"index\": 22, \"num_neighbours_online\": 0}, {\"index\": 23, \"num_neighbours_online\": 2}, {\"index\": 24, \"num_neighbours_online\": 2}, {\"index\": 25, \"num_neighbours_online\": 2}, {\"index\": 26, \"num_neighbours_online\": 2}, {\"index\": 27, \"num_neighbours_online\": 0}, {\"index\": 28, \"num_neighbours_online\": 0}, {\"index\": 29, \"num_neighbours_online\": 2}, {\"index\": 30, \"num_neighbours_online\": 2}, {\"index\": 31, \"num_neighbours_online\": 2}, {\"index\": 32, \"num_neighbours_online\": 2}, {\"index\": 33, \"num_neighbours_online\": 2}, {\"index\": 34, \"num_neighbours_online\": 2}, {\"index\": 35, \"num_neighbours_online\": 2}, {\"index\": 36, \"num_neighbours_online\": 2}, {\"index\": 37, \"num_neighbours_online\": 2}, {\"index\": 38, \"num_neighbours_online\": 0}, {\"index\": 39, \"num_neighbours_online\": 2}, {\"index\": 40, \"num_neighbours_online\": 2}, {\"index\": 41, \"num_neighbours_online\": 2}, {\"index\": 42, \"num_neighbours_online\": 2}, {\"index\": 43, \"num_neighbours_online\": 2}, {\"index\": 44, \"num_neighbours_online\": 2}, {\"index\": 45, \"num_neighbours_online\": 2}, {\"index\": 46, \"num_neighbours_online\": 2}, {\"index\": 47, \"num_neighbours_online\": 2}, {\"index\": 48, \"num_neighbours_online\": 2}, {\"index\": 49, \"num_neighbours_online\": 2}, {\"index\": 50, \"num_neighbours_online\": 2}, {\"index\": 51, \"num_neighbours_online\": 2}, {\"index\": 52, \"num_neighbours_online\": 2}, {\"index\": 53, \"num_neighbours_online\": 2}, {\"index\": 54, \"num_neighbours_online\": 2}, {\"index\": 55, \"num_neighbours_online\": 2}, {\"index\": 56, \"num_neighbours_online\": 2}, {\"index\": 57, \"num_neighbours_online\": 2}, {\"index\": 58, \"num_neighbours_online\": 2}, {\"index\": 59, \"num_neighbours_online\": 2}, {\"index\": 60, \"num_neighbours_online\": 2}, {\"index\": 61, \"num_neighbours_online\": 2}, {\"index\": 62, \"num_neighbours_online\": 2}, {\"index\": 63, \"num_neighbours_online\": 2}, {\"index\": 64, \"num_neighbours_online\": 2}, {\"index\": 65, \"num_neighbours_online\": 2}, {\"index\": 66, \"num_neighbours_online\": 2}, {\"index\": 67, \"num_neighbours_online\": 2}, {\"index\": 68, \"num_neighbours_online\": 2}, {\"index\": 69, \"num_neighbours_online\": 2}, {\"index\": 70, \"num_neighbours_online\": 2}, {\"index\": 71, \"num_neighbours_online\": 2}, {\"index\": 72, \"num_neighbours_online\": 2}, {\"index\": 73, \"num_neighbours_online\": 2}, {\"index\": 74, \"num_neighbours_online\": 2}, {\"index\": 75, \"num_neighbours_online\": 2}, {\"index\": 76, \"num_neighbours_online\": 2}, {\"index\": 77, \"num_neighbours_online\": 2}, {\"index\": 78, \"num_neighbours_online\": 2}, {\"index\": 79, \"num_neighbours_online\": 2}, {\"index\": 80, \"num_neighbours_online\": 2}, {\"index\": 81, \"num_neighbours_online\": 2}, {\"index\": 82, \"num_neighbours_online\": 2}, {\"index\": 83, \"num_neighbours_online\": 2}, {\"index\": 84, \"num_neighbours_online\": 2}, {\"index\": 85, \"num_neighbours_online\": 2}, {\"index\": 86, \"num_neighbours_online\": 2}, {\"index\": 87, \"num_neighbours_online\": 2}, {\"index\": 88, \"num_neighbours_online\": 2}, {\"index\": 89, \"num_neighbours_online\": 2}, {\"index\": 90, \"num_neighbours_online\": 2}, {\"index\": 91, \"num_neighbours_online\": 2}, {\"index\": 92, \"num_neighbours_online\": 2}, {\"index\": 93, \"num_neighbours_online\": 2}, {\"index\": 94, \"num_neighbours_online\": 2}, {\"index\": 95, \"num_neighbours_online\": 2}, {\"index\": 96, \"num_neighbours_online\": 2}, {\"index\": 97, \"num_neighbours_online\": 2}, {\"index\": 98, \"num_neighbours_online\": 2}, {\"index\": 99, \"num_neighbours_online\": 2}, {\"index\": 100, \"num_neighbours_online\": 2}, {\"index\": 101, \"num_neighbours_online\": 2}, {\"index\": 102, \"num_neighbours_online\": 2}, {\"index\": 103, \"num_neighbours_online\": 2}, {\"index\": 104, \"num_neighbours_online\": 2}, {\"index\": 105, \"num_neighbours_online\": 2}, {\"index\": 106, \"num_neighbours_online\": 2}, {\"index\": 107, \"num_neighbours_online\": 2}, {\"index\": 108, \"num_neighbours_online\": 2}, {\"index\": 109, \"num_neighbours_online\": 2}, {\"index\": 110, \"num_neighbours_online\": 2}, {\"index\": 111, \"num_neighbours_online\": 2}, {\"index\": 112, \"num_neighbours_online\": 2}, {\"index\": 113, \"num_neighbours_online\": 2}, {\"index\": 114, \"num_neighbours_online\": 2}, {\"index\": 115, \"num_neighbours_online\": 2}, {\"index\": 116, \"num_neighbours_online\": 2}, {\"index\": 117, \"num_neighbours_online\": 2}, {\"index\": 118, \"num_neighbours_online\": 2}, {\"index\": 119, \"num_neighbours_online\": 2}, {\"index\": 120, \"num_neighbours_online\": 2}, {\"index\": 121, \"num_neighbours_online\": 2}, {\"index\": 122, \"num_neighbours_online\": 2}, {\"index\": 123, \"num_neighbours_online\": 2}, {\"index\": 124, \"num_neighbours_online\": 2}, {\"index\": 125, \"num_neighbours_online\": 2}, {\"index\": 126, \"num_neighbours_online\": 2}, {\"index\": 127, \"num_neighbours_online\": 2}, {\"index\": 128, \"num_neighbours_online\": 2}, {\"index\": 129, \"num_neighbours_online\": 2}, {\"index\": 130, \"num_neighbours_online\": 2}, {\"index\": 131, \"num_neighbours_online\": 2}, {\"index\": 132, \"num_neighbours_online\": 2}, {\"index\": 133, \"num_neighbours_online\": 2}, {\"index\": 134, \"num_neighbours_online\": 2}, {\"index\": 135, \"num_neighbours_online\": 2}, {\"index\": 136, \"num_neighbours_online\": 2}, {\"index\": 137, \"num_neighbours_online\": 2}, {\"index\": 138, \"num_neighbours_online\": 2}, {\"index\": 139, \"num_neighbours_online\": 2}, {\"index\": 140, \"num_neighbours_online\": 2}, {\"index\": 141, \"num_neighbours_online\": 2}, {\"index\": 142, \"num_neighbours_online\": 2}, {\"index\": 143, \"num_neighbours_online\": 2}, {\"index\": 144, \"num_neighbours_online\": 2}, {\"index\": 145, \"num_neighbours_online\": 2}, {\"index\": 146, \"num_neighbours_online\": 2}, {\"index\": 147, \"num_neighbours_online\": 2}, {\"index\": 148, \"num_neighbours_online\": 2}, {\"index\": 149, \"num_neighbours_online\": 2}, {\"index\": 150, \"num_neighbours_online\": 0}, {\"index\": 151, \"num_neighbours_online\": 2}, {\"index\": 152, \"num_neighbours_online\": 2}, {\"index\": 153, \"num_neighbours_online\": 2}, {\"index\": 154, \"num_neighbours_online\": 2}, {\"index\": 155, \"num_neighbours_online\": 2}, {\"index\": 156, \"num_neighbours_online\": 2}, {\"index\": 157, \"num_neighbours_online\": 2}, {\"index\": 158, \"num_neighbours_online\": 2}, {\"index\": 159, \"num_neighbours_online\": 2}, {\"index\": 160, \"num_neighbours_online\": 2}, {\"index\": 161, \"num_neighbours_online\": 2}, {\"index\": 162, \"num_neighbours_online\": 2}, {\"index\": 163, \"num_neighbours_online\": 2}, {\"index\": 164, \"num_neighbours_online\": 2}, {\"index\": 165, \"num_neighbours_online\": 2}, {\"index\": 166, \"num_neighbours_online\": 2}, {\"index\": 167, \"num_neighbours_online\": 2}, {\"index\": 168, \"num_neighbours_online\": 2}, {\"index\": 169, \"num_neighbours_online\": 2}, {\"index\": 170, \"num_neighbours_online\": 2}, {\"index\": 171, \"num_neighbours_online\": 2}, {\"index\": 172, \"num_neighbours_online\": 2}, {\"index\": 173, \"num_neighbours_online\": 2}, {\"index\": 174, \"num_neighbours_online\": 2}, {\"index\": 175, \"num_neighbours_online\": 2}, {\"index\": 176, \"num_neighbours_online\": 2}, {\"index\": 177, \"num_neighbours_online\": 2}, {\"index\": 178, \"num_neighbours_online\": 2}, {\"index\": 179, \"num_neighbours_online\": 2}, {\"index\": 180, \"num_neighbours_online\": 2}, {\"index\": 181, \"num_neighbours_online\": 2}, {\"index\": 182, \"num_neighbours_online\": 2}, {\"index\": 183, \"num_neighbours_online\": 2}, {\"index\": 184, \"num_neighbours_online\": 2}, {\"index\": 185, \"num_neighbours_online\": 2}, {\"index\": 186, \"num_neighbours_online\": 2}, {\"index\": 187, \"num_neighbours_online\": 2}, {\"index\": 188, \"num_neighbours_online\": 2}, {\"index\": 189, \"num_neighbours_online\": 2}, {\"index\": 190, \"num_neighbours_online\": 2}, {\"index\": 191, \"num_neighbours_online\": 2}, {\"index\": 192, \"num_neighbours_online\": 2}, {\"index\": 193, \"num_neighbours_online\": 2}, {\"index\": 194, \"num_neighbours_online\": 2}, {\"index\": 195, \"num_neighbours_online\": 2}, {\"index\": 196, \"num_neighbours_online\": 2}, {\"index\": 197, \"num_neighbours_online\": 2}, {\"index\": 198, \"num_neighbours_online\": 2}, {\"index\": 199, \"num_neighbours_online\": 2}, {\"index\": 200, \"num_neighbours_online\": 0}, {\"index\": 201, \"num_neighbours_online\": 0}, {\"index\": 202, \"num_neighbours_online\": 2}, {\"index\": 203, \"num_neighbours_online\": 2}, {\"index\": 204, \"num_neighbours_online\": 2}, {\"index\": 205, \"num_neighbours_online\": 2}, {\"index\": 206, \"num_neighbours_online\": 2}, {\"index\": 207, \"num_neighbours_online\": 2}, {\"index\": 208, \"num_neighbours_online\": 2}, {\"index\": 209, \"num_neighbours_online\": 2}, {\"index\": 210, \"num_neighbours_online\": 2}, {\"index\": 211, \"num_neighbours_online\": 2}, {\"index\": 212, \"num_neighbours_online\": 2}, {\"index\": 213, \"num_neighbours_online\": 2}, {\"index\": 214, \"num_neighbours_online\": 2}, {\"index\": 215, \"num_neighbours_online\": 2}, {\"index\": 216, \"num_neighbours_online\": 2}, {\"index\": 217, \"num_neighbours_online\": 2}, {\"index\": 218, \"num_neighbours_online\": 2}, {\"index\": 219, \"num_neighbours_online\": 2}, {\"index\": 220, \"num_neighbours_online\": 2}, {\"index\": 221, \"num_neighbours_online\": 2}, {\"index\": 222, \"num_neighbours_online\": 2}, {\"index\": 223, \"num_neighbours_online\": 2}, {\"index\": 224, \"num_neighbours_online\": 2}, {\"index\": 225, \"num_neighbours_online\": 2}, {\"index\": 226, \"num_neighbours_online\": 2}, {\"index\": 227, \"num_neighbours_online\": 2}, {\"index\": 228, \"num_neighbours_online\": 2}, {\"index\": 229, \"num_neighbours_online\": 2}, {\"index\": 230, \"num_neighbours_online\": 2}, {\"index\": 231, \"num_neighbours_online\": 2}, {\"index\": 232, \"num_neighbours_online\": 2}, {\"index\": 233, \"num_neighbours_online\": 2}, {\"index\": 234, \"num_neighbours_online\": 2}, {\"index\": 235, \"num_neighbours_online\": 2}, {\"index\": 236, \"num_neighbours_online\": 2}, {\"index\": 237, \"num_neighbours_online\": 2}, {\"index\": 238, \"num_neighbours_online\": 2}, {\"index\": 239, \"num_neighbours_online\": 2}, {\"index\": 240, \"num_neighbours_online\": 2}, {\"index\": 241, \"num_neighbours_online\": 2}, {\"index\": 242, \"num_neighbours_online\": 2}, {\"index\": 243, \"num_neighbours_online\": 2}, {\"index\": 244, \"num_neighbours_online\": 2}, {\"index\": 245, \"num_neighbours_online\": 2}, {\"index\": 246, \"num_neighbours_online\": 2}, {\"index\": 247, \"num_neighbours_online\": 2}, {\"index\": 248, \"num_neighbours_online\": 2}, {\"index\": 249, \"num_neighbours_online\": 2}, {\"index\": 250, \"num_neighbours_online\": 2}, {\"index\": 251, \"num_neighbours_online\": 2}, {\"index\": 252, \"num_neighbours_online\": 2}, {\"index\": 253, \"num_neighbours_online\": 2}, {\"index\": 254, \"num_neighbours_online\": 2}, {\"index\": 255, \"num_neighbours_online\": 2}, {\"index\": 256, \"num_neighbours_online\": 2}, {\"index\": 257, \"num_neighbours_online\": 2}, {\"index\": 258, \"num_neighbours_online\": 2}, {\"index\": 259, \"num_neighbours_online\": 2}, {\"index\": 260, \"num_neighbours_online\": 2}, {\"index\": 261, \"num_neighbours_online\": 2}, {\"index\": 262, \"num_neighbours_online\": 2}, {\"index\": 263, \"num_neighbours_online\": 2}, {\"index\": 264, \"num_neighbours_online\": 2}, {\"index\": 265, \"num_neighbours_online\": 2}, {\"index\": 266, \"num_neighbours_online\": 2}, {\"index\": 267, \"num_neighbours_online\": 2}, {\"index\": 268, \"num_neighbours_online\": 2}, {\"index\": 269, \"num_neighbours_online\": 2}, {\"index\": 270, \"num_neighbours_online\": 2}, {\"index\": 271, \"num_neighbours_online\": 2}, {\"index\": 272, \"num_neighbours_online\": 2}, {\"index\": 273, \"num_neighbours_online\": 2}, {\"index\": 274, \"num_neighbours_online\": 2}, {\"index\": 275, \"num_neighbours_online\": 2}, {\"index\": 276, \"num_neighbours_online\": 2}, {\"index\": 277, \"num_neighbours_online\": 2}, {\"index\": 278, \"num_neighbours_online\": 2}, {\"index\": 279, \"num_neighbours_online\": 2}, {\"index\": 280, \"num_neighbours_online\": 2}, {\"index\": 281, \"num_neighbours_online\": 2}, {\"index\": 282, \"num_neighbours_online\": 2}, {\"index\": 283, \"num_neighbours_online\": 2}, {\"index\": 284, \"num_neighbours_online\": 2}, {\"index\": 285, \"num_neighbours_online\": 2}, {\"index\": 286, \"num_neighbours_online\": 2}, {\"index\": 287, \"num_neighbours_online\": 2}, {\"index\": 288, \"num_neighbours_online\": 2}, {\"index\": 289, \"num_neighbours_online\": 2}, {\"index\": 290, \"num_neighbours_online\": 2}, {\"index\": 291, \"num_neighbours_online\": 2}, {\"index\": 292, \"num_neighbours_online\": 2}, {\"index\": 293, \"num_neighbours_online\": 2}, {\"index\": 294, \"num_neighbours_online\": 0}, {\"index\": 295, \"num_neighbours_online\": 2}, {\"index\": 296, \"num_neighbours_online\": 2}, {\"index\": 297, \"num_neighbours_online\": 2}, {\"index\": 298, \"num_neighbours_online\": 2}, {\"index\": 299, \"num_neighbours_online\": 2}, {\"index\": 300, \"num_neighbours_online\": 2}, {\"index\": 301, \"num_neighbours_online\": 2}, {\"index\": 302, \"num_neighbours_online\": 2}, {\"index\": 303, \"num_neighbours_online\": 2}, {\"index\": 304, \"num_neighbours_online\": 2}, {\"index\": 305, \"num_neighbours_online\": 2}, {\"index\": 306, \"num_neighbours_online\": 2}, {\"index\": 307, \"num_neighbours_online\": 2}, {\"index\": 308, \"num_neighbours_online\": 2}, {\"index\": 309, \"num_neighbours_online\": 2}, {\"index\": 310, \"num_neighbours_online\": 2}, {\"index\": 311, \"num_neighbours_online\": 2}, {\"index\": 312, \"num_neighbours_online\": 2}, {\"index\": 313, \"num_neighbours_online\": 2}, {\"index\": 314, \"num_neighbours_online\": 0}, {\"index\": 315, \"num_neighbours_online\": 2}, {\"index\": 316, \"num_neighbours_online\": 0}, {\"index\": 317, \"num_neighbours_online\": 2}, {\"index\": 318, \"num_neighbours_online\": 2}, {\"index\": 319, \"num_neighbours_online\": 2}, {\"index\": 320, \"num_neighbours_online\": 2}, {\"index\": 321, \"num_neighbours_online\": 2}, {\"index\": 322, \"num_neighbours_online\": 2}, {\"index\": 323, \"num_neighbours_online\": 2}, {\"index\": 324, \"num_neighbours_online\": 2}, {\"index\": 325, \"num_neighbours_online\": 2}, {\"index\": 326, \"num_neighbours_online\": 2}, {\"index\": 327, \"num_neighbours_online\": 2}, {\"index\": 328, \"num_neighbours_online\": 2}, {\"index\": 329, \"num_neighbours_online\": 2}, {\"index\": 330, \"num_neighbours_online\": 2}, {\"index\": 331, \"num_neighbours_online\": 2}, {\"index\": 332, \"num_neighbours_online\": 2}, {\"index\": 333, \"num_neighbours_online\": 2}, {\"index\": 334, \"num_neighbours_online\": 2}, {\"index\": 335, \"num_neighbours_online\": 2}, {\"index\": 336, \"num_neighbours_online\": 2}, {\"index\": 337, \"num_neighbours_online\": 2}, {\"index\": 338, \"num_neighbours_online\": 2}, {\"index\": 339, \"num_neighbours_online\": 2}, {\"index\": 340, \"num_neighbours_online\": 2}, {\"index\": 341, \"num_neighbours_online\": 2}, {\"index\": 342, \"num_neighbours_online\": 2}, {\"index\": 343, \"num_neighbours_online\": 2}, {\"index\": 344, \"num_neighbours_online\": 2}, {\"index\": 345, \"num_neighbours_online\": 2}, {\"index\": 346, \"num_neighbours_online\": 0}, {\"index\": 347, \"num_neighbours_online\": 2}, {\"index\": 348, \"num_neighbours_online\": 2}, {\"index\": 349, \"num_neighbours_online\": 2}, {\"index\": 350, \"num_neighbours_online\": 2}, {\"index\": 351, \"num_neighbours_online\": 2}, {\"index\": 352, \"num_neighbours_online\": 2}, {\"index\": 353, \"num_neighbours_online\": 2}, {\"index\": 354, \"num_neighbours_online\": 2}, {\"index\": 355, \"num_neighbours_online\": 2}, {\"index\": 356, \"num_neighbours_online\": 2}, {\"index\": 357, \"num_neighbours_online\": 2}, {\"index\": 358, \"num_neighbours_online\": 2}, {\"index\": 359, \"num_neighbours_online\": 2}, {\"index\": 360, \"num_neighbours_online\": 2}, {\"index\": 361, \"num_neighbours_online\": 2}, {\"index\": 362, \"num_neighbours_online\": 2}, {\"index\": 363, \"num_neighbours_online\": 2}, {\"index\": 364, \"num_neighbours_online\": 2}, {\"index\": 365, \"num_neighbours_online\": 2}, {\"index\": 366, \"num_neighbours_online\": 2}, {\"index\": 367, \"num_neighbours_online\": 2}, {\"index\": 368, \"num_neighbours_online\": 2}, {\"index\": 369, \"num_neighbours_online\": 2}, {\"index\": 370, \"num_neighbours_online\": 2}, {\"index\": 371, \"num_neighbours_online\": 2}, {\"index\": 372, \"num_neighbours_online\": 2}, {\"index\": 373, \"num_neighbours_online\": 2}, {\"index\": 374, \"num_neighbours_online\": 2}, {\"index\": 375, \"num_neighbours_online\": 2}, {\"index\": 376, \"num_neighbours_online\": 2}, {\"index\": 377, \"num_neighbours_online\": 2}, {\"index\": 378, \"num_neighbours_online\": 2}, {\"index\": 379, \"num_neighbours_online\": 2}, {\"index\": 380, \"num_neighbours_online\": 2}, {\"index\": 381, \"num_neighbours_online\": 2}, {\"index\": 382, \"num_neighbours_online\": 2}, {\"index\": 383, \"num_neighbours_online\": 2}, {\"index\": 384, \"num_neighbours_online\": 2}, {\"index\": 385, \"num_neighbours_online\": 2}, {\"index\": 386, \"num_neighbours_online\": 2}, {\"index\": 387, \"num_neighbours_online\": 2}, {\"index\": 388, \"num_neighbours_online\": 2}, {\"index\": 389, \"num_neighbours_online\": 2}, {\"index\": 390, \"num_neighbours_online\": 2}, {\"index\": 391, \"num_neighbours_online\": 2}, {\"index\": 392, \"num_neighbours_online\": 2}, {\"index\": 393, \"num_neighbours_online\": 2}, {\"index\": 394, \"num_neighbours_online\": 2}, {\"index\": 395, \"num_neighbours_online\": 2}, {\"index\": 396, \"num_neighbours_online\": 2}, {\"index\": 397, \"num_neighbours_online\": 2}, {\"index\": 398, \"num_neighbours_online\": 2}, {\"index\": 399, \"num_neighbours_online\": 2}, {\"index\": 400, \"num_neighbours_online\": 2}, {\"index\": 401, \"num_neighbours_online\": 2}, {\"index\": 402, \"num_neighbours_online\": 2}, {\"index\": 403, \"num_neighbours_online\": 2}, {\"index\": 404, \"num_neighbours_online\": 2}, {\"index\": 405, \"num_neighbours_online\": 2}, {\"index\": 406, \"num_neighbours_online\": 2}, {\"index\": 407, \"num_neighbours_online\": 2}, {\"index\": 408, \"num_neighbours_online\": 2}, {\"index\": 409, \"num_neighbours_online\": 2}, {\"index\": 410, \"num_neighbours_online\": 2}, {\"index\": 411, \"num_neighbours_online\": 2}, {\"index\": 412, \"num_neighbours_online\": 2}, {\"index\": 413, \"num_neighbours_online\": 2}, {\"index\": 414, \"num_neighbours_online\": 2}, {\"index\": 415, \"num_neighbours_online\": 2}, {\"index\": 416, \"num_neighbours_online\": 2}, {\"index\": 417, \"num_neighbours_online\": 2}, {\"index\": 418, \"num_neighbours_online\": 2}, {\"index\": 419, \"num_neighbours_online\": 2}, {\"index\": 420, \"num_neighbours_online\": 2}, {\"index\": 421, \"num_neighbours_online\": 2}, {\"index\": 422, \"num_neighbours_online\": 2}, {\"index\": 423, \"num_neighbours_online\": 2}, {\"index\": 424, \"num_neighbours_online\": 2}, {\"index\": 425, \"num_neighbours_online\": 2}, {\"index\": 426, \"num_neighbours_online\": 2}, {\"index\": 427, \"num_neighbours_online\": 2}, {\"index\": 428, \"num_neighbours_online\": 2}, {\"index\": 429, \"num_neighbours_online\": 2}, {\"index\": 430, \"num_neighbours_online\": 2}, {\"index\": 431, \"num_neighbours_online\": 2}, {\"index\": 432, \"num_neighbours_online\": 2}, {\"index\": 433, \"num_neighbours_online\": 2}, {\"index\": 434, \"num_neighbours_online\": 2}, {\"index\": 435, \"num_neighbours_online\": 2}, {\"index\": 436, \"num_neighbours_online\": 2}, {\"index\": 437, \"num_neighbours_online\": 2}, {\"index\": 438, \"num_neighbours_online\": 2}, {\"index\": 439, \"num_neighbours_online\": 2}, {\"index\": 440, \"num_neighbours_online\": 2}, {\"index\": 441, \"num_neighbours_online\": 2}, {\"index\": 442, \"num_neighbours_online\": 2}, {\"index\": 443, \"num_neighbours_online\": 2}, {\"index\": 444, \"num_neighbours_online\": 2}, {\"index\": 445, \"num_neighbours_online\": 2}, {\"index\": 446, \"num_neighbours_online\": 2}, {\"index\": 447, \"num_neighbours_online\": 2}, {\"index\": 448, \"num_neighbours_online\": 2}, {\"index\": 449, \"num_neighbours_online\": 2}, {\"index\": 450, \"num_neighbours_online\": 2}, {\"index\": 451, \"num_neighbours_online\": 2}, {\"index\": 452, \"num_neighbours_online\": 2}, {\"index\": 453, \"num_neighbours_online\": 2}, {\"index\": 454, \"num_neighbours_online\": 2}, {\"index\": 455, \"num_neighbours_online\": 2}, {\"index\": 456, \"num_neighbours_online\": 2}, {\"index\": 457, \"num_neighbours_online\": 2}, {\"index\": 458, \"num_neighbours_online\": 2}, {\"index\": 459, \"num_neighbours_online\": 2}, {\"index\": 460, \"num_neighbours_online\": 2}, {\"index\": 461, \"num_neighbours_online\": 2}, {\"index\": 462, \"num_neighbours_online\": 2}, {\"index\": 463, \"num_neighbours_online\": 2}, {\"index\": 464, \"num_neighbours_online\": 2}, {\"index\": 465, \"num_neighbours_online\": 2}, {\"index\": 466, \"num_neighbours_online\": 2}, {\"index\": 467, \"num_neighbours_online\": 2}, {\"index\": 468, \"num_neighbours_online\": 2}, {\"index\": 469, \"num_neighbours_online\": 2}, {\"index\": 470, \"num_neighbours_online\": 2}, {\"index\": 471, \"num_neighbours_online\": 2}, {\"index\": 472, \"num_neighbours_online\": 2}, {\"index\": 473, \"num_neighbours_online\": 2}, {\"index\": 474, \"num_neighbours_online\": 2}, {\"index\": 475, \"num_neighbours_online\": 2}, {\"index\": 476, \"num_neighbours_online\": 2}, {\"index\": 477, \"num_neighbours_online\": 2}, {\"index\": 478, \"num_neighbours_online\": 2}, {\"index\": 479, \"num_neighbours_online\": 2}, {\"index\": 480, \"num_neighbours_online\": 2}, {\"index\": 481, \"num_neighbours_online\": 2}, {\"index\": 482, \"num_neighbours_online\": 2}, {\"index\": 483, \"num_neighbours_online\": 2}, {\"index\": 484, \"num_neighbours_online\": 2}, {\"index\": 485, \"num_neighbours_online\": 2}, {\"index\": 486, \"num_neighbours_online\": 2}, {\"index\": 487, \"num_neighbours_online\": 2}, {\"index\": 488, \"num_neighbours_online\": 2}, {\"index\": 489, \"num_neighbours_online\": 2}, {\"index\": 490, \"num_neighbours_online\": 2}, {\"index\": 491, \"num_neighbours_online\": 2}, {\"index\": 492, \"num_neighbours_online\": 2}, {\"index\": 493, \"num_neighbours_online\": 2}, {\"index\": 494, \"num_neighbours_online\": 2}, {\"index\": 495, \"num_neighbours_online\": 2}, {\"index\": 496, \"num_neighbours_online\": 2}, {\"index\": 497, \"num_neighbours_online\": 2}, {\"index\": 498, \"num_neighbours_online\": 2}, {\"index\": 499, \"num_neighbours_online\": 2}, {\"index\": 500, \"num_neighbours_online\": 2}, {\"index\": 501, \"num_neighbours_online\": 2}, {\"index\": 502, \"num_neighbours_online\": 2}, {\"index\": 503, \"num_neighbours_online\": 2}, {\"index\": 504, \"num_neighbours_online\": 2}, {\"index\": 505, \"num_neighbours_online\": 2}, {\"index\": 506, \"num_neighbours_online\": 2}, {\"index\": 507, \"num_neighbours_online\": 2}, {\"index\": 508, \"num_neighbours_online\": 2}, {\"index\": 509, \"num_neighbours_online\": 2}, {\"index\": 510, \"num_neighbours_online\": 2}, {\"index\": 511, \"num_neighbours_online\": 2}, {\"index\": 512, \"num_neighbours_online\": 2}, {\"index\": 513, \"num_neighbours_online\": 2}, {\"index\": 514, \"num_neighbours_online\": 2}, {\"index\": 515, \"num_neighbours_online\": 2}, {\"index\": 516, \"num_neighbours_online\": 3}, {\"index\": 517, \"num_neighbours_online\": 3}, {\"index\": 518, \"num_neighbours_online\": 3}, {\"index\": 519, \"num_neighbours_online\": 3}, {\"index\": 520, \"num_neighbours_online\": 3}, {\"index\": 521, \"num_neighbours_online\": 3}, {\"index\": 522, \"num_neighbours_online\": 3}, {\"index\": 523, \"num_neighbours_online\": 3}, {\"index\": 524, \"num_neighbours_online\": 0}, {\"index\": 525, \"num_neighbours_online\": 3}, {\"index\": 526, \"num_neighbours_online\": 3}, {\"index\": 527, \"num_neighbours_online\": 3}, {\"index\": 528, \"num_neighbours_online\": 3}, {\"index\": 529, \"num_neighbours_online\": 3}, {\"index\": 530, \"num_neighbours_online\": 3}, {\"index\": 531, \"num_neighbours_online\": 3}, {\"index\": 532, \"num_neighbours_online\": 3}, {\"index\": 533, \"num_neighbours_online\": 3}, {\"index\": 534, \"num_neighbours_online\": 3}, {\"index\": 535, \"num_neighbours_online\": 3}, {\"index\": 536, \"num_neighbours_online\": 3}, {\"index\": 537, \"num_neighbours_online\": 3}, {\"index\": 538, \"num_neighbours_online\": 3}, {\"index\": 539, \"num_neighbours_online\": 3}, {\"index\": 540, \"num_neighbours_online\": 0}, {\"index\": 541, \"num_neighbours_online\": 3}, {\"index\": 542, \"num_neighbours_online\": 3}, {\"index\": 543, \"num_neighbours_online\": 3}, {\"index\": 544, \"num_neighbours_online\": 3}, {\"index\": 545, \"num_neighbours_online\": 3}, {\"index\": 546, \"num_neighbours_online\": 3}, {\"index\": 547, \"num_neighbours_online\": 3}, {\"index\": 548, \"num_neighbours_online\": 3}, {\"index\": 549, \"num_neighbours_online\": 3}, {\"index\": 550, \"num_neighbours_online\": 3}, {\"index\": 551, \"num_neighbours_online\": 3}, {\"index\": 552, \"num_neighbours_online\": 3}, {\"index\": 553, \"num_neighbours_online\": 3}, {\"index\": 554, \"num_neighbours_online\": 3}, {\"index\": 555, \"num_neighbours_online\": 0}, {\"index\": 556, \"num_neighbours_online\": 3}, {\"index\": 557, \"num_neighbours_online\": 3}, {\"index\": 558, \"num_neighbours_online\": 3}, {\"index\": 559, \"num_neighbours_online\": 3}, {\"index\": 560, \"num_neighbours_online\": 3}, {\"index\": 561, \"num_neighbours_online\": 3}, {\"index\": 562, \"num_neighbours_online\": 3}, {\"index\": 563, \"num_neighbours_online\": 3}, {\"index\": 564, \"num_neighbours_online\": 3}, {\"index\": 565, \"num_neighbours_online\": 3}, {\"index\": 566, \"num_neighbours_online\": 3}, {\"index\": 567, \"num_neighbours_online\": 3}, {\"index\": 568, \"num_neighbours_online\": 3}, {\"index\": 569, \"num_neighbours_online\": 3}, {\"index\": 570, \"num_neighbours_online\": 3}, {\"index\": 571, \"num_neighbours_online\": 3}, {\"index\": 572, \"num_neighbours_online\": 3}, {\"index\": 573, \"num_neighbours_online\": 3}, {\"index\": 574, \"num_neighbours_online\": 3}, {\"index\": 575, \"num_neighbours_online\": 3}, {\"index\": 576, \"num_neighbours_online\": 3}, {\"index\": 577, \"num_neighbours_online\": 3}, {\"index\": 578, \"num_neighbours_online\": 3}, {\"index\": 579, \"num_neighbours_online\": 3}, {\"index\": 580, \"num_neighbours_online\": 3}, {\"index\": 581, \"num_neighbours_online\": 3}, {\"index\": 582, \"num_neighbours_online\": 3}, {\"index\": 583, \"num_neighbours_online\": 3}, {\"index\": 584, \"num_neighbours_online\": 3}, {\"index\": 585, \"num_neighbours_online\": 3}, {\"index\": 586, \"num_neighbours_online\": 3}, {\"index\": 587, \"num_neighbours_online\": 3}, {\"index\": 588, \"num_neighbours_online\": 3}, {\"index\": 589, \"num_neighbours_online\": 3}, {\"index\": 590, \"num_neighbours_online\": 3}, {\"index\": 591, \"num_neighbours_online\": 3}, {\"index\": 592, \"num_neighbours_online\": 3}, {\"index\": 593, \"num_neighbours_online\": 3}, {\"index\": 594, \"num_neighbours_online\": 3}, {\"index\": 595, \"num_neighbours_online\": 3}, {\"index\": 596, \"num_neighbours_online\": 3}, {\"index\": 597, \"num_neighbours_online\": 3}, {\"index\": 598, \"num_neighbours_online\": 3}, {\"index\": 599, \"num_neighbours_online\": 3}, {\"index\": 600, \"num_neighbours_online\": 3}, {\"index\": 601, \"num_neighbours_online\": 3}, {\"index\": 602, \"num_neighbours_online\": 3}, {\"index\": 603, \"num_neighbours_online\": 3}, {\"index\": 604, \"num_neighbours_online\": 3}, {\"index\": 605, \"num_neighbours_online\": 3}, {\"index\": 606, \"num_neighbours_online\": 3}, {\"index\": 607, \"num_neighbours_online\": 3}, {\"index\": 608, \"num_neighbours_online\": 3}, {\"index\": 609, \"num_neighbours_online\": 3}, {\"index\": 610, \"num_neighbours_online\": 3}, {\"index\": 611, \"num_neighbours_online\": 3}, {\"index\": 612, \"num_neighbours_online\": 3}, {\"index\": 613, \"num_neighbours_online\": 3}, {\"index\": 614, \"num_neighbours_online\": 3}, {\"index\": 615, \"num_neighbours_online\": 3}, {\"index\": 616, \"num_neighbours_online\": 3}, {\"index\": 617, \"num_neighbours_online\": 3}, {\"index\": 618, \"num_neighbours_online\": 3}, {\"index\": 619, \"num_neighbours_online\": 3}, {\"index\": 620, \"num_neighbours_online\": 3}, {\"index\": 621, \"num_neighbours_online\": 3}, {\"index\": 622, \"num_neighbours_online\": 3}, {\"index\": 623, \"num_neighbours_online\": 3}, {\"index\": 624, \"num_neighbours_online\": 3}, {\"index\": 625, \"num_neighbours_online\": 3}, {\"index\": 626, \"num_neighbours_online\": 3}, {\"index\": 627, \"num_neighbours_online\": 3}, {\"index\": 628, \"num_neighbours_online\": 3}, {\"index\": 629, \"num_neighbours_online\": 3}, {\"index\": 630, \"num_neighbours_online\": 3}, {\"index\": 631, \"num_neighbours_online\": 3}, {\"index\": 632, \"num_neighbours_online\": 3}, {\"index\": 633, \"num_neighbours_online\": 3}, {\"index\": 634, \"num_neighbours_online\": 3}, {\"index\": 635, \"num_neighbours_online\": 3}, {\"index\": 636, \"num_neighbours_online\": 3}, {\"index\": 637, \"num_neighbours_online\": 3}, {\"index\": 638, \"num_neighbours_online\": 3}, {\"index\": 639, \"num_neighbours_online\": 3}, {\"index\": 640, \"num_neighbours_online\": 3}, {\"index\": 641, \"num_neighbours_online\": 3}, {\"index\": 642, \"num_neighbours_online\": 3}, {\"index\": 643, \"num_neighbours_online\": 3}, {\"index\": 644, \"num_neighbours_online\": 3}, {\"index\": 645, \"num_neighbours_online\": 3}, {\"index\": 646, \"num_neighbours_online\": 3}, {\"index\": 647, \"num_neighbours_online\": 3}, {\"index\": 648, \"num_neighbours_online\": 3}, {\"index\": 649, \"num_neighbours_online\": 3}, {\"index\": 650, \"num_neighbours_online\": 3}, {\"index\": 651, \"num_neighbours_online\": 3}, {\"index\": 652, \"num_neighbours_online\": 3}, {\"index\": 653, \"num_neighbours_online\": 3}, {\"index\": 654, \"num_neighbours_online\": 3}, {\"index\": 655, \"num_neighbours_online\": 3}, {\"index\": 656, \"num_neighbours_online\": 3}, {\"index\": 657, \"num_neighbours_online\": 3}, {\"index\": 658, \"num_neighbours_online\": 3}, {\"index\": 659, \"num_neighbours_online\": 3}, {\"index\": 660, \"num_neighbours_online\": 3}, {\"index\": 661, \"num_neighbours_online\": 3}, {\"index\": 662, \"num_neighbours_online\": 3}, {\"index\": 663, \"num_neighbours_online\": 3}, {\"index\": 664, \"num_neighbours_online\": 3}, {\"index\": 665, \"num_neighbours_online\": 3}, {\"index\": 666, \"num_neighbours_online\": 3}, {\"index\": 667, \"num_neighbours_online\": 3}, {\"index\": 668, \"num_neighbours_online\": 3}, {\"index\": 669, \"num_neighbours_online\": 3}, {\"index\": 670, \"num_neighbours_online\": 3}, {\"index\": 671, \"num_neighbours_online\": 3}, {\"index\": 672, \"num_neighbours_online\": 3}, {\"index\": 673, \"num_neighbours_online\": 3}, {\"index\": 674, \"num_neighbours_online\": 3}, {\"index\": 675, \"num_neighbours_online\": 3}, {\"index\": 676, \"num_neighbours_online\": 3}, {\"index\": 677, \"num_neighbours_online\": 3}, {\"index\": 678, \"num_neighbours_online\": 3}, {\"index\": 679, \"num_neighbours_online\": 3}, {\"index\": 680, \"num_neighbours_online\": 3}, {\"index\": 681, \"num_neighbours_online\": 3}, {\"index\": 682, \"num_neighbours_online\": 3}, {\"index\": 683, \"num_neighbours_online\": 3}, {\"index\": 684, \"num_neighbours_online\": 3}, {\"index\": 685, \"num_neighbours_online\": 3}, {\"index\": 686, \"num_neighbours_online\": 3}, {\"index\": 687, \"num_neighbours_online\": 3}, {\"index\": 688, \"num_neighbours_online\": 3}, {\"index\": 689, \"num_neighbours_online\": 3}, {\"index\": 690, \"num_neighbours_online\": 3}, {\"index\": 691, \"num_neighbours_online\": 3}, {\"index\": 692, \"num_neighbours_online\": 3}, {\"index\": 693, \"num_neighbours_online\": 3}, {\"index\": 694, \"num_neighbours_online\": 3}, {\"index\": 695, \"num_neighbours_online\": 3}, {\"index\": 696, \"num_neighbours_online\": 3}, {\"index\": 697, \"num_neighbours_online\": 3}, {\"index\": 698, \"num_neighbours_online\": 3}, {\"index\": 699, \"num_neighbours_online\": 3}, {\"index\": 700, \"num_neighbours_online\": 3}, {\"index\": 701, \"num_neighbours_online\": 3}, {\"index\": 702, \"num_neighbours_online\": 3}, {\"index\": 703, \"num_neighbours_online\": 3}, {\"index\": 704, \"num_neighbours_online\": 3}, {\"index\": 705, \"num_neighbours_online\": 3}, {\"index\": 706, \"num_neighbours_online\": 3}, {\"index\": 707, \"num_neighbours_online\": 3}, {\"index\": 708, \"num_neighbours_online\": 3}, {\"index\": 709, \"num_neighbours_online\": 3}, {\"index\": 710, \"num_neighbours_online\": 3}, {\"index\": 711, \"num_neighbours_online\": 3}, {\"index\": 712, \"num_neighbours_online\": 3}, {\"index\": 713, \"num_neighbours_online\": 3}, {\"index\": 714, \"num_neighbours_online\": 3}, {\"index\": 715, \"num_neighbours_online\": 3}, {\"index\": 716, \"num_neighbours_online\": 3}, {\"index\": 717, \"num_neighbours_online\": 3}, {\"index\": 718, \"num_neighbours_online\": 3}, {\"index\": 719, \"num_neighbours_online\": 3}, {\"index\": 720, \"num_neighbours_online\": 3}, {\"index\": 721, \"num_neighbours_online\": 3}, {\"index\": 722, \"num_neighbours_online\": 3}, {\"index\": 723, \"num_neighbours_online\": 3}, {\"index\": 724, \"num_neighbours_online\": 3}, {\"index\": 725, \"num_neighbours_online\": 3}, {\"index\": 726, \"num_neighbours_online\": 3}, {\"index\": 727, \"num_neighbours_online\": 3}, {\"index\": 728, \"num_neighbours_online\": 3}, {\"index\": 729, \"num_neighbours_online\": 3}, {\"index\": 730, \"num_neighbours_online\": 3}, {\"index\": 731, \"num_neighbours_online\": 3}, {\"index\": 732, \"num_neighbours_online\": 3}, {\"index\": 733, \"num_neighbours_online\": 3}, {\"index\": 734, \"num_neighbours_online\": 3}, {\"index\": 735, \"num_neighbours_online\": 3}, {\"index\": 736, \"num_neighbours_online\": 3}, {\"index\": 737, \"num_neighbours_online\": 3}, {\"index\": 738, \"num_neighbours_online\": 3}, {\"index\": 739, \"num_neighbours_online\": 3}, {\"index\": 740, \"num_neighbours_online\": 3}, {\"index\": 741, \"num_neighbours_online\": 3}, {\"index\": 742, \"num_neighbours_online\": 3}, {\"index\": 743, \"num_neighbours_online\": 3}, {\"index\": 744, \"num_neighbours_online\": 3}, {\"index\": 745, \"num_neighbours_online\": 3}, {\"index\": 746, \"num_neighbours_online\": 3}, {\"index\": 747, \"num_neighbours_online\": 3}, {\"index\": 748, \"num_neighbours_online\": 3}, {\"index\": 749, \"num_neighbours_online\": 3}, {\"index\": 750, \"num_neighbours_online\": 3}, {\"index\": 751, \"num_neighbours_online\": 3}, {\"index\": 752, \"num_neighbours_online\": 3}, {\"index\": 753, \"num_neighbours_online\": 3}, {\"index\": 754, \"num_neighbours_online\": 3}, {\"index\": 755, \"num_neighbours_online\": 3}, {\"index\": 756, \"num_neighbours_online\": 3}, {\"index\": 757, \"num_neighbours_online\": 3}, {\"index\": 758, \"num_neighbours_online\": 3}, {\"index\": 759, \"num_neighbours_online\": 3}, {\"index\": 760, \"num_neighbours_online\": 3}, {\"index\": 761, \"num_neighbours_online\": 3}, {\"index\": 762, \"num_neighbours_online\": 3}, {\"index\": 763, \"num_neighbours_online\": 3}, {\"index\": 764, \"num_neighbours_online\": 3}, {\"index\": 765, \"num_neighbours_online\": 3}, {\"index\": 766, \"num_neighbours_online\": 3}, {\"index\": 767, \"num_neighbours_online\": 3}, {\"index\": 768, \"num_neighbours_online\": 3}, {\"index\": 769, \"num_neighbours_online\": 3}, {\"index\": 770, \"num_neighbours_online\": 3}, {\"index\": 771, \"num_neighbours_online\": 3}, {\"index\": 772, \"num_neighbours_online\": 3}, {\"index\": 773, \"num_neighbours_online\": 3}, {\"index\": 774, \"num_neighbours_online\": 3}, {\"index\": 775, \"num_neighbours_online\": 3}, {\"index\": 776, \"num_neighbours_online\": 3}, {\"index\": 777, \"num_neighbours_online\": 3}, {\"index\": 778, \"num_neighbours_online\": 3}, {\"index\": 779, \"num_neighbours_online\": 3}, {\"index\": 780, \"num_neighbours_online\": 3}, {\"index\": 781, \"num_neighbours_online\": 3}, {\"index\": 782, \"num_neighbours_online\": 3}, {\"index\": 783, \"num_neighbours_online\": 3}, {\"index\": 784, \"num_neighbours_online\": 3}, {\"index\": 785, \"num_neighbours_online\": 3}, {\"index\": 786, \"num_neighbours_online\": 3}, {\"index\": 787, \"num_neighbours_online\": 3}, {\"index\": 788, \"num_neighbours_online\": 3}, {\"index\": 789, \"num_neighbours_online\": 3}, {\"index\": 790, \"num_neighbours_online\": 3}, {\"index\": 791, \"num_neighbours_online\": 3}, {\"index\": 792, \"num_neighbours_online\": 3}, {\"index\": 793, \"num_neighbours_online\": 3}, {\"index\": 794, \"num_neighbours_online\": 3}, {\"index\": 795, \"num_neighbours_online\": 3}, {\"index\": 796, \"num_neighbours_online\": 3}, {\"index\": 797, \"num_neighbours_online\": 3}, {\"index\": 798, \"num_neighbours_online\": 3}, {\"index\": 799, \"num_neighbours_online\": 3}, {\"index\": 800, \"num_neighbours_online\": 3}, {\"index\": 801, \"num_neighbours_online\": 3}, {\"index\": 802, \"num_neighbours_online\": 3}, {\"index\": 803, \"num_neighbours_online\": 3}, {\"index\": 804, \"num_neighbours_online\": 3}, {\"index\": 805, \"num_neighbours_online\": 3}, {\"index\": 806, \"num_neighbours_online\": 3}, {\"index\": 807, \"num_neighbours_online\": 3}, {\"index\": 808, \"num_neighbours_online\": 3}, {\"index\": 809, \"num_neighbours_online\": 3}, {\"index\": 810, \"num_neighbours_online\": 3}, {\"index\": 811, \"num_neighbours_online\": 3}, {\"index\": 812, \"num_neighbours_online\": 3}, {\"index\": 813, \"num_neighbours_online\": 3}, {\"index\": 814, \"num_neighbours_online\": 3}, {\"index\": 815, \"num_neighbours_online\": 3}, {\"index\": 816, \"num_neighbours_online\": 3}, {\"index\": 817, \"num_neighbours_online\": 3}, {\"index\": 818, \"num_neighbours_online\": 3}, {\"index\": 819, \"num_neighbours_online\": 3}, {\"index\": 820, \"num_neighbours_online\": 3}, {\"index\": 821, \"num_neighbours_online\": 3}, {\"index\": 822, \"num_neighbours_online\": 3}, {\"index\": 823, \"num_neighbours_online\": 3}, {\"index\": 824, \"num_neighbours_online\": 3}, {\"index\": 825, \"num_neighbours_online\": 3}, {\"index\": 826, \"num_neighbours_online\": 3}, {\"index\": 827, \"num_neighbours_online\": 3}, {\"index\": 828, \"num_neighbours_online\": 3}, {\"index\": 829, \"num_neighbours_online\": 3}, {\"index\": 830, \"num_neighbours_online\": 3}, {\"index\": 831, \"num_neighbours_online\": 3}, {\"index\": 832, \"num_neighbours_online\": 3}, {\"index\": 833, \"num_neighbours_online\": 3}, {\"index\": 834, \"num_neighbours_online\": 3}, {\"index\": 835, \"num_neighbours_online\": 3}, {\"index\": 836, \"num_neighbours_online\": 3}, {\"index\": 837, \"num_neighbours_online\": 3}, {\"index\": 838, \"num_neighbours_online\": 3}, {\"index\": 839, \"num_neighbours_online\": 3}, {\"index\": 840, \"num_neighbours_online\": 3}, {\"index\": 841, \"num_neighbours_online\": 3}, {\"index\": 842, \"num_neighbours_online\": 3}, {\"index\": 843, \"num_neighbours_online\": 3}, {\"index\": 844, \"num_neighbours_online\": 3}, {\"index\": 845, \"num_neighbours_online\": 3}, {\"index\": 846, \"num_neighbours_online\": 3}, {\"index\": 847, \"num_neighbours_online\": 3}, {\"index\": 848, \"num_neighbours_online\": 3}, {\"index\": 849, \"num_neighbours_online\": 3}, {\"index\": 850, \"num_neighbours_online\": 3}, {\"index\": 851, \"num_neighbours_online\": 3}, {\"index\": 852, \"num_neighbours_online\": 3}, {\"index\": 853, \"num_neighbours_online\": 3}, {\"index\": 854, \"num_neighbours_online\": 3}, {\"index\": 855, \"num_neighbours_online\": 3}, {\"index\": 856, \"num_neighbours_online\": 3}, {\"index\": 857, \"num_neighbours_online\": 3}, {\"index\": 858, \"num_neighbours_online\": 3}, {\"index\": 859, \"num_neighbours_online\": 3}, {\"index\": 860, \"num_neighbours_online\": 3}, {\"index\": 861, \"num_neighbours_online\": 3}, {\"index\": 862, \"num_neighbours_online\": 3}, {\"index\": 863, \"num_neighbours_online\": 3}, {\"index\": 864, \"num_neighbours_online\": 3}, {\"index\": 865, \"num_neighbours_online\": 3}, {\"index\": 866, \"num_neighbours_online\": 3}, {\"index\": 867, \"num_neighbours_online\": 3}, {\"index\": 868, \"num_neighbours_online\": 3}, {\"index\": 869, \"num_neighbours_online\": 3}, {\"index\": 870, \"num_neighbours_online\": 3}, {\"index\": 871, \"num_neighbours_online\": 3}, {\"index\": 872, \"num_neighbours_online\": 3}, {\"index\": 873, \"num_neighbours_online\": 3}, {\"index\": 874, \"num_neighbours_online\": 3}, {\"index\": 875, \"num_neighbours_online\": 3}, {\"index\": 876, \"num_neighbours_online\": 3}, {\"index\": 877, \"num_neighbours_online\": 3}, {\"index\": 878, \"num_neighbours_online\": 3}, {\"index\": 879, \"num_neighbours_online\": 3}, {\"index\": 880, \"num_neighbours_online\": 3}, {\"index\": 881, \"num_neighbours_online\": 3}, {\"index\": 882, \"num_neighbours_online\": 3}, {\"index\": 883, \"num_neighbours_online\": 3}, {\"index\": 884, \"num_neighbours_online\": 3}, {\"index\": 885, \"num_neighbours_online\": 3}, {\"index\": 886, \"num_neighbours_online\": 3}, {\"index\": 887, \"num_neighbours_online\": 3}, {\"index\": 888, \"num_neighbours_online\": 3}, {\"index\": 889, \"num_neighbours_online\": 3}, {\"index\": 890, \"num_neighbours_online\": 3}, {\"index\": 891, \"num_neighbours_online\": 3}, {\"index\": 892, \"num_neighbours_online\": 3}, {\"index\": 893, \"num_neighbours_online\": 3}, {\"index\": 894, \"num_neighbours_online\": 3}, {\"index\": 895, \"num_neighbours_online\": 3}, {\"index\": 896, \"num_neighbours_online\": 3}, {\"index\": 897, \"num_neighbours_online\": 3}, {\"index\": 898, \"num_neighbours_online\": 3}, {\"index\": 899, \"num_neighbours_online\": 3}, {\"index\": 900, \"num_neighbours_online\": 3}, {\"index\": 901, \"num_neighbours_online\": 3}, {\"index\": 902, \"num_neighbours_online\": 3}, {\"index\": 903, \"num_neighbours_online\": 3}, {\"index\": 904, \"num_neighbours_online\": 3}, {\"index\": 905, \"num_neighbours_online\": 3}, {\"index\": 906, \"num_neighbours_online\": 3}, {\"index\": 907, \"num_neighbours_online\": 3}, {\"index\": 908, \"num_neighbours_online\": 3}, {\"index\": 909, \"num_neighbours_online\": 3}, {\"index\": 910, \"num_neighbours_online\": 3}, {\"index\": 911, \"num_neighbours_online\": 3}, {\"index\": 912, \"num_neighbours_online\": 3}, {\"index\": 913, \"num_neighbours_online\": 3}, {\"index\": 914, \"num_neighbours_online\": 3}, {\"index\": 915, \"num_neighbours_online\": 3}, {\"index\": 916, \"num_neighbours_online\": 0}, {\"index\": 917, \"num_neighbours_online\": 3}, {\"index\": 918, \"num_neighbours_online\": 3}, {\"index\": 919, \"num_neighbours_online\": 3}, {\"index\": 920, \"num_neighbours_online\": 3}, {\"index\": 921, \"num_neighbours_online\": 3}, {\"index\": 922, \"num_neighbours_online\": 3}, {\"index\": 923, \"num_neighbours_online\": 3}, {\"index\": 924, \"num_neighbours_online\": 3}, {\"index\": 925, \"num_neighbours_online\": 3}, {\"index\": 926, \"num_neighbours_online\": 3}, {\"index\": 927, \"num_neighbours_online\": 3}, {\"index\": 928, \"num_neighbours_online\": 3}, {\"index\": 929, \"num_neighbours_online\": 3}, {\"index\": 930, \"num_neighbours_online\": 3}, {\"index\": 931, \"num_neighbours_online\": 3}, {\"index\": 932, \"num_neighbours_online\": 3}, {\"index\": 933, \"num_neighbours_online\": 3}, {\"index\": 934, \"num_neighbours_online\": 3}, {\"index\": 935, \"num_neighbours_online\": 3}, {\"index\": 936, \"num_neighbours_online\": 3}, {\"index\": 937, \"num_neighbours_online\": 3}, {\"index\": 938, \"num_neighbours_online\": 3}, {\"index\": 939, \"num_neighbours_online\": 3}, {\"index\": 940, \"num_neighbours_online\": 3}, {\"index\": 941, \"num_neighbours_online\": 3}, {\"index\": 942, \"num_neighbours_online\": 3}, {\"index\": 943, \"num_neighbours_online\": 3}, {\"index\": 944, \"num_neighbours_online\": 3}, {\"index\": 945, \"num_neighbours_online\": 3}, {\"index\": 946, \"num_neighbours_online\": 3}, {\"index\": 947, \"num_neighbours_online\": 3}, {\"index\": 948, \"num_neighbours_online\": 3}, {\"index\": 949, \"num_neighbours_online\": 3}, {\"index\": 950, \"num_neighbours_online\": 3}, {\"index\": 951, \"num_neighbours_online\": 3}, {\"index\": 952, \"num_neighbours_online\": 3}, {\"index\": 953, \"num_neighbours_online\": 3}, {\"index\": 954, \"num_neighbours_online\": 3}, {\"index\": 955, \"num_neighbours_online\": 3}, {\"index\": 956, \"num_neighbours_online\": 3}, {\"index\": 957, \"num_neighbours_online\": 3}, {\"index\": 958, \"num_neighbours_online\": 3}, {\"index\": 959, \"num_neighbours_online\": 3}, {\"index\": 960, \"num_neighbours_online\": 3}, {\"index\": 961, \"num_neighbours_online\": 3}, {\"index\": 962, \"num_neighbours_online\": 3}, {\"index\": 963, \"num_neighbours_online\": 3}, {\"index\": 964, \"num_neighbours_online\": 3}, {\"index\": 965, \"num_neighbours_online\": 3}, {\"index\": 966, \"num_neighbours_online\": 3}, {\"index\": 967, \"num_neighbours_online\": 3}, {\"index\": 968, \"num_neighbours_online\": 3}, {\"index\": 969, \"num_neighbours_online\": 3}, {\"index\": 970, \"num_neighbours_online\": 3}, {\"index\": 971, \"num_neighbours_online\": 3}, {\"index\": 972, \"num_neighbours_online\": 3}, {\"index\": 973, \"num_neighbours_online\": 3}, {\"index\": 974, \"num_neighbours_online\": 3}, {\"index\": 975, \"num_neighbours_online\": 3}, {\"index\": 976, \"num_neighbours_online\": 3}, {\"index\": 977, \"num_neighbours_online\": 3}, {\"index\": 978, \"num_neighbours_online\": 3}, {\"index\": 979, \"num_neighbours_online\": 3}, {\"index\": 980, \"num_neighbours_online\": 3}, {\"index\": 981, \"num_neighbours_online\": 3}, {\"index\": 982, \"num_neighbours_online\": 3}, {\"index\": 983, \"num_neighbours_online\": 3}, {\"index\": 984, \"num_neighbours_online\": 3}, {\"index\": 985, \"num_neighbours_online\": 3}, {\"index\": 986, \"num_neighbours_online\": 3}, {\"index\": 987, \"num_neighbours_online\": 3}, {\"index\": 988, \"num_neighbours_online\": 3}, {\"index\": 989, \"num_neighbours_online\": 3}, {\"index\": 990, \"num_neighbours_online\": 3}, {\"index\": 991, \"num_neighbours_online\": 3}, {\"index\": 992, \"num_neighbours_online\": 3}, {\"index\": 993, \"num_neighbours_online\": 3}, {\"index\": 994, \"num_neighbours_online\": 3}, {\"index\": 995, \"num_neighbours_online\": 3}, {\"index\": 996, \"num_neighbours_online\": 3}, {\"index\": 997, \"num_neighbours_online\": 3}, {\"index\": 998, \"num_neighbours_online\": 3}, {\"index\": 999, \"num_neighbours_online\": 3}, {\"index\": 1000, \"num_neighbours_online\": 3}, {\"index\": 1001, \"num_neighbours_online\": 3}, {\"index\": 1002, \"num_neighbours_online\": 3}, {\"index\": 1003, \"num_neighbours_online\": 3}, {\"index\": 1004, \"num_neighbours_online\": 3}, {\"index\": 1005, \"num_neighbours_online\": 3}, {\"index\": 1006, \"num_neighbours_online\": 3}, {\"index\": 1007, \"num_neighbours_online\": 3}, {\"index\": 1008, \"num_neighbours_online\": 3}, {\"index\": 1009, \"num_neighbours_online\": 3}, {\"index\": 1010, \"num_neighbours_online\": 3}, {\"index\": 1011, \"num_neighbours_online\": 3}, {\"index\": 1012, \"num_neighbours_online\": 3}, {\"index\": 1013, \"num_neighbours_online\": 3}, {\"index\": 1014, \"num_neighbours_online\": 3}, {\"index\": 1015, \"num_neighbours_online\": 3}, {\"index\": 1016, \"num_neighbours_online\": 3}, {\"index\": 1017, \"num_neighbours_online\": 3}, {\"index\": 1018, \"num_neighbours_online\": 3}, {\"index\": 1019, \"num_neighbours_online\": 3}, {\"index\": 1020, \"num_neighbours_online\": 3}, {\"index\": 1021, \"num_neighbours_online\": 3}, {\"index\": 1022, \"num_neighbours_online\": 3}, {\"index\": 1023, \"num_neighbours_online\": 3}, {\"index\": 1024, \"num_neighbours_online\": 3}, {\"index\": 1025, \"num_neighbours_online\": 3}, {\"index\": 1026, \"num_neighbours_online\": 3}, {\"index\": 1027, \"num_neighbours_online\": 3}, {\"index\": 1028, \"num_neighbours_online\": 3}, {\"index\": 1029, \"num_neighbours_online\": 3}, {\"index\": 1030, \"num_neighbours_online\": 3}, {\"index\": 1031, \"num_neighbours_online\": 3}, {\"index\": 1032, \"num_neighbours_online\": 3}, {\"index\": 1033, \"num_neighbours_online\": 3}, {\"index\": 1034, \"num_neighbours_online\": 3}, {\"index\": 1035, \"num_neighbours_online\": 3}, {\"index\": 1036, \"num_neighbours_online\": 3}, {\"index\": 1037, \"num_neighbours_online\": 3}, {\"index\": 1038, \"num_neighbours_online\": 3}, {\"index\": 1039, \"num_neighbours_online\": 3}, {\"index\": 1040, \"num_neighbours_online\": 3}, {\"index\": 1041, \"num_neighbours_online\": 3}, {\"index\": 1042, \"num_neighbours_online\": 3}, {\"index\": 1043, \"num_neighbours_online\": 3}, {\"index\": 1044, \"num_neighbours_online\": 3}, {\"index\": 1045, \"num_neighbours_online\": 3}, {\"index\": 1046, \"num_neighbours_online\": 3}, {\"index\": 1047, \"num_neighbours_online\": 3}, {\"index\": 1048, \"num_neighbours_online\": 3}, {\"index\": 1049, \"num_neighbours_online\": 3}, {\"index\": 1050, \"num_neighbours_online\": 3}, {\"index\": 1051, \"num_neighbours_online\": 3}, {\"index\": 1052, \"num_neighbours_online\": 3}, {\"index\": 1053, \"num_neighbours_online\": 3}, {\"index\": 1054, \"num_neighbours_online\": 3}, {\"index\": 1055, \"num_neighbours_online\": 3}, {\"index\": 1056, \"num_neighbours_online\": 3}, {\"index\": 1057, \"num_neighbours_online\": 3}, {\"index\": 1058, \"num_neighbours_online\": 3}, {\"index\": 1059, \"num_neighbours_online\": 3}, {\"index\": 1060, \"num_neighbours_online\": 3}, {\"index\": 1061, \"num_neighbours_online\": 3}, {\"index\": 1062, \"num_neighbours_online\": 3}, {\"index\": 1063, \"num_neighbours_online\": 3}, {\"index\": 1064, \"num_neighbours_online\": 3}, {\"index\": 1065, \"num_neighbours_online\": 3}, {\"index\": 1066, \"num_neighbours_online\": 3}, {\"index\": 1067, \"num_neighbours_online\": 0}, {\"index\": 1068, \"num_neighbours_online\": 3}, {\"index\": 1069, \"num_neighbours_online\": 3}, {\"index\": 1070, \"num_neighbours_online\": 3}, {\"index\": 1071, \"num_neighbours_online\": 3}, {\"index\": 1072, \"num_neighbours_online\": 3}, {\"index\": 1073, \"num_neighbours_online\": 3}, {\"index\": 1074, \"num_neighbours_online\": 3}, {\"index\": 1075, \"num_neighbours_online\": 3}, {\"index\": 1076, \"num_neighbours_online\": 3}, {\"index\": 1077, \"num_neighbours_online\": 3}, {\"index\": 1078, \"num_neighbours_online\": 3}, {\"index\": 1079, \"num_neighbours_online\": 3}, {\"index\": 1080, \"num_neighbours_online\": 3}, {\"index\": 1081, \"num_neighbours_online\": 3}, {\"index\": 1082, \"num_neighbours_online\": 3}, {\"index\": 1083, \"num_neighbours_online\": 3}, {\"index\": 1084, \"num_neighbours_online\": 3}, {\"index\": 1085, \"num_neighbours_online\": 3}, {\"index\": 1086, \"num_neighbours_online\": 3}, {\"index\": 1087, \"num_neighbours_online\": 3}, {\"index\": 1088, \"num_neighbours_online\": 3}, {\"index\": 1089, \"num_neighbours_online\": 3}, {\"index\": 1090, \"num_neighbours_online\": 3}, {\"index\": 1091, \"num_neighbours_online\": 3}, {\"index\": 1092, \"num_neighbours_online\": 3}, {\"index\": 1093, \"num_neighbours_online\": 3}, {\"index\": 1094, \"num_neighbours_online\": 3}, {\"index\": 1095, \"num_neighbours_online\": 3}, {\"index\": 1096, \"num_neighbours_online\": 3}, {\"index\": 1097, \"num_neighbours_online\": 3}, {\"index\": 1098, \"num_neighbours_online\": 3}, {\"index\": 1099, \"num_neighbours_online\": 3}, {\"index\": 1100, \"num_neighbours_online\": 3}, {\"index\": 1101, \"num_neighbours_online\": 3}, {\"index\": 1102, \"num_neighbours_online\": 3}, {\"index\": 1103, \"num_neighbours_online\": 3}, {\"index\": 1104, \"num_neighbours_online\": 3}, {\"index\": 1105, \"num_neighbours_online\": 3}, {\"index\": 1106, \"num_neighbours_online\": 3}, {\"index\": 1107, \"num_neighbours_online\": 3}, {\"index\": 1108, \"num_neighbours_online\": 3}, {\"index\": 1109, \"num_neighbours_online\": 3}, {\"index\": 1110, \"num_neighbours_online\": 3}, {\"index\": 1111, \"num_neighbours_online\": 3}, {\"index\": 1112, \"num_neighbours_online\": 3}, {\"index\": 1113, \"num_neighbours_online\": 3}, {\"index\": 1114, \"num_neighbours_online\": 3}, {\"index\": 1115, \"num_neighbours_online\": 3}, {\"index\": 1116, \"num_neighbours_online\": 3}, {\"index\": 1117, \"num_neighbours_online\": 3}, {\"index\": 1118, \"num_neighbours_online\": 3}, {\"index\": 1119, \"num_neighbours_online\": 3}, {\"index\": 1120, \"num_neighbours_online\": 3}, {\"index\": 1121, \"num_neighbours_online\": 3}, {\"index\": 1122, \"num_neighbours_online\": 3}, {\"index\": 1123, \"num_neighbours_online\": 3}, {\"index\": 1124, \"num_neighbours_online\": 3}, {\"index\": 1125, \"num_neighbours_online\": 3}, {\"index\": 1126, \"num_neighbours_online\": 3}, {\"index\": 1127, \"num_neighbours_online\": 3}, {\"index\": 1128, \"num_neighbours_online\": 3}, {\"index\": 1129, \"num_neighbours_online\": 3}, {\"index\": 1130, \"num_neighbours_online\": 3}, {\"index\": 1131, \"num_neighbours_online\": 3}, {\"index\": 1132, \"num_neighbours_online\": 3}, {\"index\": 1133, \"num_neighbours_online\": 3}, {\"index\": 1134, \"num_neighbours_online\": 3}, {\"index\": 1135, \"num_neighbours_online\": 3}, {\"index\": 1136, \"num_neighbours_online\": 3}, {\"index\": 1137, \"num_neighbours_online\": 3}, {\"index\": 1138, \"num_neighbours_online\": 3}, {\"index\": 1139, \"num_neighbours_online\": 3}, {\"index\": 1140, \"num_neighbours_online\": 3}, {\"index\": 1141, \"num_neighbours_online\": 3}, {\"index\": 1142, \"num_neighbours_online\": 3}, {\"index\": 1143, \"num_neighbours_online\": 3}, {\"index\": 1144, \"num_neighbours_online\": 3}, {\"index\": 1145, \"num_neighbours_online\": 3}, {\"index\": 1146, \"num_neighbours_online\": 3}, {\"index\": 1147, \"num_neighbours_online\": 3}, {\"index\": 1148, \"num_neighbours_online\": 3}, {\"index\": 1149, \"num_neighbours_online\": 3}, {\"index\": 1150, \"num_neighbours_online\": 3}, {\"index\": 1151, \"num_neighbours_online\": 3}, {\"index\": 1152, \"num_neighbours_online\": 3}, {\"index\": 1153, \"num_neighbours_online\": 3}, {\"index\": 1154, \"num_neighbours_online\": 3}, {\"index\": 1155, \"num_neighbours_online\": 3}, {\"index\": 1156, \"num_neighbours_online\": 3}, {\"index\": 1157, \"num_neighbours_online\": 3}, {\"index\": 1158, \"num_neighbours_online\": 3}, {\"index\": 1159, \"num_neighbours_online\": 3}, {\"index\": 1160, \"num_neighbours_online\": 3}, {\"index\": 1161, \"num_neighbours_online\": 3}, {\"index\": 1162, \"num_neighbours_online\": 3}, {\"index\": 1163, \"num_neighbours_online\": 3}, {\"index\": 1164, \"num_neighbours_online\": 3}, {\"index\": 1165, \"num_neighbours_online\": 3}, {\"index\": 1166, \"num_neighbours_online\": 3}, {\"index\": 1167, \"num_neighbours_online\": 3}, {\"index\": 1168, \"num_neighbours_online\": 3}, {\"index\": 1169, \"num_neighbours_online\": 3}, {\"index\": 1170, \"num_neighbours_online\": 3}, {\"index\": 1171, \"num_neighbours_online\": 3}, {\"index\": 1172, \"num_neighbours_online\": 3}, {\"index\": 1173, \"num_neighbours_online\": 3}, {\"index\": 1174, \"num_neighbours_online\": 3}, {\"index\": 1175, \"num_neighbours_online\": 3}, {\"index\": 1176, \"num_neighbours_online\": 3}, {\"index\": 1177, \"num_neighbours_online\": 3}, {\"index\": 1178, \"num_neighbours_online\": 3}, {\"index\": 1179, \"num_neighbours_online\": 3}, {\"index\": 1180, \"num_neighbours_online\": 3}, {\"index\": 1181, \"num_neighbours_online\": 3}, {\"index\": 1182, \"num_neighbours_online\": 3}, {\"index\": 1183, \"num_neighbours_online\": 3}, {\"index\": 1184, \"num_neighbours_online\": 3}, {\"index\": 1185, \"num_neighbours_online\": 3}, {\"index\": 1186, \"num_neighbours_online\": 3}, {\"index\": 1187, \"num_neighbours_online\": 3}, {\"index\": 1188, \"num_neighbours_online\": 3}, {\"index\": 1189, \"num_neighbours_online\": 3}, {\"index\": 1190, \"num_neighbours_online\": 3}, {\"index\": 1191, \"num_neighbours_online\": 3}, {\"index\": 1192, \"num_neighbours_online\": 3}, {\"index\": 1193, \"num_neighbours_online\": 3}, {\"index\": 1194, \"num_neighbours_online\": 3}, {\"index\": 1195, \"num_neighbours_online\": 3}, {\"index\": 1196, \"num_neighbours_online\": 3}, {\"index\": 1197, \"num_neighbours_online\": 3}, {\"index\": 1198, \"num_neighbours_online\": 3}, {\"index\": 1199, \"num_neighbours_online\": 3}, {\"index\": 1200, \"num_neighbours_online\": 3}, {\"index\": 1201, \"num_neighbours_online\": 3}, {\"index\": 1202, \"num_neighbours_online\": 3}, {\"index\": 1203, \"num_neighbours_online\": 3}, {\"index\": 1204, \"num_neighbours_online\": 3}, {\"index\": 1205, \"num_neighbours_online\": 3}, {\"index\": 1206, \"num_neighbours_online\": 3}, {\"index\": 1207, \"num_neighbours_online\": 3}, {\"index\": 1208, \"num_neighbours_online\": 3}, {\"index\": 1209, \"num_neighbours_online\": 3}, {\"index\": 1210, \"num_neighbours_online\": 3}, {\"index\": 1211, \"num_neighbours_online\": 3}, {\"index\": 1212, \"num_neighbours_online\": 3}, {\"index\": 1213, \"num_neighbours_online\": 3}, {\"index\": 1214, \"num_neighbours_online\": 3}, {\"index\": 1215, \"num_neighbours_online\": 3}, {\"index\": 1216, \"num_neighbours_online\": 3}, {\"index\": 1217, \"num_neighbours_online\": 3}, {\"index\": 1218, \"num_neighbours_online\": 3}, {\"index\": 1219, \"num_neighbours_online\": 3}, {\"index\": 1220, \"num_neighbours_online\": 3}, {\"index\": 1221, \"num_neighbours_online\": 3}, {\"index\": 1222, \"num_neighbours_online\": 3}, {\"index\": 1223, \"num_neighbours_online\": 3}, {\"index\": 1224, \"num_neighbours_online\": 3}, {\"index\": 1225, \"num_neighbours_online\": 3}, {\"index\": 1226, \"num_neighbours_online\": 3}, {\"index\": 1227, \"num_neighbours_online\": 3}, {\"index\": 1228, \"num_neighbours_online\": 3}, {\"index\": 1229, \"num_neighbours_online\": 3}, {\"index\": 1230, \"num_neighbours_online\": 3}, {\"index\": 1231, \"num_neighbours_online\": 3}, {\"index\": 1232, \"num_neighbours_online\": 3}, {\"index\": 1233, \"num_neighbours_online\": 3}, {\"index\": 1234, \"num_neighbours_online\": 3}, {\"index\": 1235, \"num_neighbours_online\": 3}, {\"index\": 1236, \"num_neighbours_online\": 3}, {\"index\": 1237, \"num_neighbours_online\": 3}, {\"index\": 1238, \"num_neighbours_online\": 3}, {\"index\": 1239, \"num_neighbours_online\": 3}, {\"index\": 1240, \"num_neighbours_online\": 3}, {\"index\": 1241, \"num_neighbours_online\": 3}, {\"index\": 1242, \"num_neighbours_online\": 3}, {\"index\": 1243, \"num_neighbours_online\": 3}, {\"index\": 1244, \"num_neighbours_online\": 3}, {\"index\": 1245, \"num_neighbours_online\": 3}, {\"index\": 1246, \"num_neighbours_online\": 3}, {\"index\": 1247, \"num_neighbours_online\": 3}, {\"index\": 1248, \"num_neighbours_online\": 3}, {\"index\": 1249, \"num_neighbours_online\": 3}, {\"index\": 1250, \"num_neighbours_online\": 3}, {\"index\": 1251, \"num_neighbours_online\": 3}, {\"index\": 1252, \"num_neighbours_online\": 3}, {\"index\": 1253, \"num_neighbours_online\": 3}, {\"index\": 1254, \"num_neighbours_online\": 3}, {\"index\": 1255, \"num_neighbours_online\": 3}, {\"index\": 1256, \"num_neighbours_online\": 3}, {\"index\": 1257, \"num_neighbours_online\": 3}, {\"index\": 1258, \"num_neighbours_online\": 3}, {\"index\": 1259, \"num_neighbours_online\": 3}, {\"index\": 1260, \"num_neighbours_online\": 3}, {\"index\": 1261, \"num_neighbours_online\": 3}, {\"index\": 1262, \"num_neighbours_online\": 3}, {\"index\": 1263, \"num_neighbours_online\": 3}, {\"index\": 1264, \"num_neighbours_online\": 3}, {\"index\": 1265, \"num_neighbours_online\": 3}, {\"index\": 1266, \"num_neighbours_online\": 3}, {\"index\": 1267, \"num_neighbours_online\": 3}, {\"index\": 1268, \"num_neighbours_online\": 3}, {\"index\": 1269, \"num_neighbours_online\": 3}, {\"index\": 1270, \"num_neighbours_online\": 3}, {\"index\": 1271, \"num_neighbours_online\": 3}, {\"index\": 1272, \"num_neighbours_online\": 3}, {\"index\": 1273, \"num_neighbours_online\": 3}, {\"index\": 1274, \"num_neighbours_online\": 3}, {\"index\": 1275, \"num_neighbours_online\": 3}, {\"index\": 1276, \"num_neighbours_online\": 3}, {\"index\": 1277, \"num_neighbours_online\": 3}, {\"index\": 1278, \"num_neighbours_online\": 3}, {\"index\": 1279, \"num_neighbours_online\": 3}, {\"index\": 1280, \"num_neighbours_online\": 3}, {\"index\": 1281, \"num_neighbours_online\": 3}, {\"index\": 1282, \"num_neighbours_online\": 3}, {\"index\": 1283, \"num_neighbours_online\": 3}, {\"index\": 1284, \"num_neighbours_online\": 3}, {\"index\": 1285, \"num_neighbours_online\": 3}, {\"index\": 1286, \"num_neighbours_online\": 3}, {\"index\": 1287, \"num_neighbours_online\": 3}, {\"index\": 1288, \"num_neighbours_online\": 3}, {\"index\": 1289, \"num_neighbours_online\": 3}, {\"index\": 1290, \"num_neighbours_online\": 3}, {\"index\": 1291, \"num_neighbours_online\": 3}, {\"index\": 1292, \"num_neighbours_online\": 3}, {\"index\": 1293, \"num_neighbours_online\": 3}, {\"index\": 1294, \"num_neighbours_online\": 3}, {\"index\": 1295, \"num_neighbours_online\": 3}, {\"index\": 1296, \"num_neighbours_online\": 3}, {\"index\": 1297, \"num_neighbours_online\": 3}, {\"index\": 1298, \"num_neighbours_online\": 3}, {\"index\": 1299, \"num_neighbours_online\": 3}, {\"index\": 1300, \"num_neighbours_online\": 3}, {\"index\": 1301, \"num_neighbours_online\": 3}, {\"index\": 1302, \"num_neighbours_online\": 3}, {\"index\": 1303, \"num_neighbours_online\": 3}, {\"index\": 1304, \"num_neighbours_online\": 3}, {\"index\": 1305, \"num_neighbours_online\": 3}, {\"index\": 1306, \"num_neighbours_online\": 3}, {\"index\": 1307, \"num_neighbours_online\": 3}, {\"index\": 1308, \"num_neighbours_online\": 3}, {\"index\": 1309, \"num_neighbours_online\": 3}, {\"index\": 1310, \"num_neighbours_online\": 3}, {\"index\": 1311, \"num_neighbours_online\": 3}, {\"index\": 1312, \"num_neighbours_online\": 3}, {\"index\": 1313, \"num_neighbours_online\": 3}, {\"index\": 1314, \"num_neighbours_online\": 3}, {\"index\": 1315, \"num_neighbours_online\": 3}, {\"index\": 1316, \"num_neighbours_online\": 3}, {\"index\": 1317, \"num_neighbours_online\": 3}, {\"index\": 1318, \"num_neighbours_online\": 3}, {\"index\": 1319, \"num_neighbours_online\": 3}, {\"index\": 1320, \"num_neighbours_online\": 3}, {\"index\": 1321, \"num_neighbours_online\": 3}, {\"index\": 1322, \"num_neighbours_online\": 3}, {\"index\": 1323, \"num_neighbours_online\": 3}, {\"index\": 1324, \"num_neighbours_online\": 3}, {\"index\": 1325, \"num_neighbours_online\": 3}, {\"index\": 1326, \"num_neighbours_online\": 3}, {\"index\": 1327, \"num_neighbours_online\": 3}, {\"index\": 1328, \"num_neighbours_online\": 3}, {\"index\": 1329, \"num_neighbours_online\": 3}, {\"index\": 1330, \"num_neighbours_online\": 3}, {\"index\": 1331, \"num_neighbours_online\": 3}, {\"index\": 1332, \"num_neighbours_online\": 3}, {\"index\": 1333, \"num_neighbours_online\": 3}, {\"index\": 1334, \"num_neighbours_online\": 3}, {\"index\": 1335, \"num_neighbours_online\": 3}, {\"index\": 1336, \"num_neighbours_online\": 3}, {\"index\": 1337, \"num_neighbours_online\": 3}, {\"index\": 1338, \"num_neighbours_online\": 3}, {\"index\": 1339, \"num_neighbours_online\": 3}, {\"index\": 1340, \"num_neighbours_online\": 3}, {\"index\": 1341, \"num_neighbours_online\": 3}, {\"index\": 1342, \"num_neighbours_online\": 3}, {\"index\": 1343, \"num_neighbours_online\": 3}, {\"index\": 1344, \"num_neighbours_online\": 3}, {\"index\": 1345, \"num_neighbours_online\": 3}, {\"index\": 1346, \"num_neighbours_online\": 3}, {\"index\": 1347, \"num_neighbours_online\": 3}, {\"index\": 1348, \"num_neighbours_online\": 3}, {\"index\": 1349, \"num_neighbours_online\": 3}, {\"index\": 1350, \"num_neighbours_online\": 3}, {\"index\": 1351, \"num_neighbours_online\": 3}, {\"index\": 1352, \"num_neighbours_online\": 3}, {\"index\": 1353, \"num_neighbours_online\": 3}, {\"index\": 1354, \"num_neighbours_online\": 3}, {\"index\": 1355, \"num_neighbours_online\": 3}, {\"index\": 1356, \"num_neighbours_online\": 3}, {\"index\": 1357, \"num_neighbours_online\": 3}, {\"index\": 1358, \"num_neighbours_online\": 3}, {\"index\": 1359, \"num_neighbours_online\": 3}, {\"index\": 1360, \"num_neighbours_online\": 3}, {\"index\": 1361, \"num_neighbours_online\": 3}, {\"index\": 1362, \"num_neighbours_online\": 3}, {\"index\": 1363, \"num_neighbours_online\": 3}, {\"index\": 1364, \"num_neighbours_online\": 3}, {\"index\": 1365, \"num_neighbours_online\": 3}, {\"index\": 1366, \"num_neighbours_online\": 3}, {\"index\": 1367, \"num_neighbours_online\": 3}, {\"index\": 1368, \"num_neighbours_online\": 3}, {\"index\": 1369, \"num_neighbours_online\": 3}, {\"index\": 1370, \"num_neighbours_online\": 3}, {\"index\": 1371, \"num_neighbours_online\": 3}, {\"index\": 1372, \"num_neighbours_online\": 3}, {\"index\": 1373, \"num_neighbours_online\": 3}, {\"index\": 1374, \"num_neighbours_online\": 3}, {\"index\": 1375, \"num_neighbours_online\": 3}, {\"index\": 1376, \"num_neighbours_online\": 3}, {\"index\": 1377, \"num_neighbours_online\": 3}, {\"index\": 1378, \"num_neighbours_online\": 3}, {\"index\": 1379, \"num_neighbours_online\": 3}, {\"index\": 1380, \"num_neighbours_online\": 3}, {\"index\": 1381, \"num_neighbours_online\": 3}, {\"index\": 1382, \"num_neighbours_online\": 3}, {\"index\": 1383, \"num_neighbours_online\": 3}, {\"index\": 1384, \"num_neighbours_online\": 3}, {\"index\": 1385, \"num_neighbours_online\": 3}, {\"index\": 1386, \"num_neighbours_online\": 3}, {\"index\": 1387, \"num_neighbours_online\": 3}, {\"index\": 1388, \"num_neighbours_online\": 3}, {\"index\": 1389, \"num_neighbours_online\": 3}, {\"index\": 1390, \"num_neighbours_online\": 3}, {\"index\": 1391, \"num_neighbours_online\": 3}, {\"index\": 1392, \"num_neighbours_online\": 3}, {\"index\": 1393, \"num_neighbours_online\": 3}, {\"index\": 1394, \"num_neighbours_online\": 3}, {\"index\": 1395, \"num_neighbours_online\": 3}, {\"index\": 1396, \"num_neighbours_online\": 3}, {\"index\": 1397, \"num_neighbours_online\": 3}, {\"index\": 1398, \"num_neighbours_online\": 3}, {\"index\": 1399, \"num_neighbours_online\": 3}, {\"index\": 1400, \"num_neighbours_online\": 3}, {\"index\": 1401, \"num_neighbours_online\": 3}, {\"index\": 1402, \"num_neighbours_online\": 3}, {\"index\": 1403, \"num_neighbours_online\": 3}, {\"index\": 1404, \"num_neighbours_online\": 3}, {\"index\": 1405, \"num_neighbours_online\": 3}, {\"index\": 1406, \"num_neighbours_online\": 3}, {\"index\": 1407, \"num_neighbours_online\": 3}, {\"index\": 1408, \"num_neighbours_online\": 3}, {\"index\": 1409, \"num_neighbours_online\": 3}, {\"index\": 1410, \"num_neighbours_online\": 3}, {\"index\": 1411, \"num_neighbours_online\": 3}, {\"index\": 1412, \"num_neighbours_online\": 3}, {\"index\": 1413, \"num_neighbours_online\": 3}, {\"index\": 1414, \"num_neighbours_online\": 3}, {\"index\": 1415, \"num_neighbours_online\": 3}, {\"index\": 1416, \"num_neighbours_online\": 3}, {\"index\": 1417, \"num_neighbours_online\": 3}, {\"index\": 1418, \"num_neighbours_online\": 3}, {\"index\": 1419, \"num_neighbours_online\": 3}, {\"index\": 1420, \"num_neighbours_online\": 3}, {\"index\": 1421, \"num_neighbours_online\": 3}, {\"index\": 1422, \"num_neighbours_online\": 3}, {\"index\": 1423, \"num_neighbours_online\": 3}, {\"index\": 1424, \"num_neighbours_online\": 3}, {\"index\": 1425, \"num_neighbours_online\": 3}, {\"index\": 1426, \"num_neighbours_online\": 3}, {\"index\": 1427, \"num_neighbours_online\": 3}, {\"index\": 1428, \"num_neighbours_online\": 3}, {\"index\": 1429, \"num_neighbours_online\": 3}, {\"index\": 1430, \"num_neighbours_online\": 3}, {\"index\": 1431, \"num_neighbours_online\": 3}, {\"index\": 1432, \"num_neighbours_online\": 3}, {\"index\": 1433, \"num_neighbours_online\": 3}, {\"index\": 1434, \"num_neighbours_online\": 3}, {\"index\": 1435, \"num_neighbours_online\": 3}, {\"index\": 1436, \"num_neighbours_online\": 3}, {\"index\": 1437, \"num_neighbours_online\": 3}, {\"index\": 1438, \"num_neighbours_online\": 3}, {\"index\": 1439, \"num_neighbours_online\": 3}, {\"index\": 1440, \"num_neighbours_online\": 3}, {\"index\": 1441, \"num_neighbours_online\": 3}, {\"index\": 1442, \"num_neighbours_online\": 3}, {\"index\": 1443, \"num_neighbours_online\": 3}, {\"index\": 1444, \"num_neighbours_online\": 3}, {\"index\": 1445, \"num_neighbours_online\": 3}, {\"index\": 1446, \"num_neighbours_online\": 3}, {\"index\": 1447, \"num_neighbours_online\": 3}, {\"index\": 1448, \"num_neighbours_online\": 3}, {\"index\": 1449, \"num_neighbours_online\": 3}, {\"index\": 1450, \"num_neighbours_online\": 3}, {\"index\": 1451, \"num_neighbours_online\": 3}, {\"index\": 1452, \"num_neighbours_online\": 3}, {\"index\": 1453, \"num_neighbours_online\": 3}, {\"index\": 1454, \"num_neighbours_online\": 3}, {\"index\": 1455, \"num_neighbours_online\": 3}, {\"index\": 1456, \"num_neighbours_online\": 3}, {\"index\": 1457, \"num_neighbours_online\": 3}, {\"index\": 1458, \"num_neighbours_online\": 3}, {\"index\": 1459, \"num_neighbours_online\": 3}, {\"index\": 1460, \"num_neighbours_online\": 3}, {\"index\": 1461, \"num_neighbours_online\": 0}, {\"index\": 1462, \"num_neighbours_online\": 0}, {\"index\": 1463, \"num_neighbours_online\": 0}, {\"index\": 1464, \"num_neighbours_online\": 0}, {\"index\": 1465, \"num_neighbours_online\": 0}, {\"index\": 1466, \"num_neighbours_online\": 0}, {\"index\": 1467, \"num_neighbours_online\": 0}, {\"index\": 1468, \"num_neighbours_online\": 0}, {\"index\": 1469, \"num_neighbours_online\": 3}, {\"index\": 1470, \"num_neighbours_online\": 3}, {\"index\": 1471, \"num_neighbours_online\": 3}, {\"index\": 1472, \"num_neighbours_online\": 3}, {\"index\": 1473, \"num_neighbours_online\": 3}, {\"index\": 1474, \"num_neighbours_online\": 3}, {\"index\": 1475, \"num_neighbours_online\": 3}, {\"index\": 1476, \"num_neighbours_online\": 3}, {\"index\": 1477, \"num_neighbours_online\": 3}, {\"index\": 1478, \"num_neighbours_online\": 3}, {\"index\": 1479, \"num_neighbours_online\": 3}, {\"index\": 1480, \"num_neighbours_online\": 3}, {\"index\": 1481, \"num_neighbours_online\": 3}, {\"index\": 1482, \"num_neighbours_online\": 3}, {\"index\": 1483, \"num_neighbours_online\": 3}, {\"index\": 1484, \"num_neighbours_online\": 3}, {\"index\": 1485, \"num_neighbours_online\": 3}, {\"index\": 1486, \"num_neighbours_online\": 3}, {\"index\": 1487, \"num_neighbours_online\": 3}, {\"index\": 1488, \"num_neighbours_online\": 0}, {\"index\": 1489, \"num_neighbours_online\": 0}, {\"index\": 1490, \"num_neighbours_online\": 0}, {\"index\": 1491, \"num_neighbours_online\": 0}, {\"index\": 1492, \"num_neighbours_online\": 0}, {\"index\": 1493, \"num_neighbours_online\": 0}, {\"index\": 1494, \"num_neighbours_online\": 0}, {\"index\": 1495, \"num_neighbours_online\": 0}, {\"index\": 1496, \"num_neighbours_online\": 3}, {\"index\": 1497, \"num_neighbours_online\": 3}, {\"index\": 1498, \"num_neighbours_online\": 3}, {\"index\": 1499, \"num_neighbours_online\": 3}, {\"index\": 1500, \"num_neighbours_online\": 3}, {\"index\": 1501, \"num_neighbours_online\": 3}, {\"index\": 1502, \"num_neighbours_online\": 3}, {\"index\": 1503, \"num_neighbours_online\": 3}, {\"index\": 1504, \"num_neighbours_online\": 3}, {\"index\": 1505, \"num_neighbours_online\": 3}, {\"index\": 1506, \"num_neighbours_online\": 3}, {\"index\": 1507, \"num_neighbours_online\": 3}, {\"index\": 1508, \"num_neighbours_online\": 3}, {\"index\": 1509, \"num_neighbours_online\": 3}, {\"index\": 1510, \"num_neighbours_online\": 3}, {\"index\": 1511, \"num_neighbours_online\": 3}, {\"index\": 1512, \"num_neighbours_online\": 3}, {\"index\": 1513, \"num_neighbours_online\": 3}, {\"index\": 1514, \"num_neighbours_online\": 3}, {\"index\": 1515, \"num_neighbours_online\": 3}, {\"index\": 1516, \"num_neighbours_online\": 3}, {\"index\": 1517, \"num_neighbours_online\": 3}, {\"index\": 1518, \"num_neighbours_online\": 3}, {\"index\": 1519, \"num_neighbours_online\": 3}, {\"index\": 1520, \"num_neighbours_online\": 3}, {\"index\": 1521, \"num_neighbours_online\": 3}, {\"index\": 1522, \"num_neighbours_online\": 3}, {\"index\": 1523, \"num_neighbours_online\": 3}, {\"index\": 1524, \"num_neighbours_online\": 3}, {\"index\": 1525, \"num_neighbours_online\": 3}, {\"index\": 1526, \"num_neighbours_online\": 3}, {\"index\": 1527, \"num_neighbours_online\": 3}, {\"index\": 1528, \"num_neighbours_online\": 3}, {\"index\": 1529, \"num_neighbours_online\": 3}, {\"index\": 1530, \"num_neighbours_online\": 3}, {\"index\": 1531, \"num_neighbours_online\": 3}, {\"index\": 1532, \"num_neighbours_online\": 3}, {\"index\": 1533, \"num_neighbours_online\": 3}, {\"index\": 1534, \"num_neighbours_online\": 3}, {\"index\": 1535, \"num_neighbours_online\": 3}, {\"index\": 1536, \"num_neighbours_online\": 3}, {\"index\": 1537, \"num_neighbours_online\": 3}, {\"index\": 1538, \"num_neighbours_online\": 3}, {\"index\": 1539, \"num_neighbours_online\": 0}, {\"index\": 1540, \"num_neighbours_online\": 0}, {\"index\": 1541, \"num_neighbours_online\": 0}, {\"index\": 1542, \"num_neighbours_online\": 0}, {\"index\": 1543, \"num_neighbours_online\": 0}, {\"index\": 1544, \"num_neighbours_online\": 0}, {\"index\": 1545, \"num_neighbours_online\": 0}, {\"index\": 1546, \"num_neighbours_online\": 0}, {\"index\": 1547, \"num_neighbours_online\": 3}, {\"index\": 1548, \"num_neighbours_online\": 3}, {\"index\": 1549, \"num_neighbours_online\": 3}, {\"index\": 1550, \"num_neighbours_online\": 3}, {\"index\": 1551, \"num_neighbours_online\": 3}, {\"index\": 1552, \"num_neighbours_online\": 3}, {\"index\": 1553, \"num_neighbours_online\": 3}, {\"index\": 1554, \"num_neighbours_online\": 3}, {\"index\": 1555, \"num_neighbours_online\": 3}, {\"index\": 1556, \"num_neighbours_online\": 3}, {\"index\": 1557, \"num_neighbours_online\": 3}, {\"index\": 1558, \"num_neighbours_online\": 3}, {\"index\": 1559, \"num_neighbours_online\": 3}, {\"index\": 1560, \"num_neighbours_online\": 3}, {\"index\": 1561, \"num_neighbours_online\": 3}, {\"index\": 1562, \"num_neighbours_online\": 3}, {\"index\": 1563, \"num_neighbours_online\": 3}, {\"index\": 1564, \"num_neighbours_online\": 3}, {\"index\": 1565, \"num_neighbours_online\": 3}, {\"index\": 1566, \"num_neighbours_online\": 3}, {\"index\": 1567, \"num_neighbours_online\": 3}, {\"index\": 1568, \"num_neighbours_online\": 3}, {\"index\": 1569, \"num_neighbours_online\": 3}, {\"index\": 1570, \"num_neighbours_online\": 3}, {\"index\": 1571, \"num_neighbours_online\": 3}, {\"index\": 1572, \"num_neighbours_online\": 3}, {\"index\": 1573, \"num_neighbours_online\": 3}, {\"index\": 1574, \"num_neighbours_online\": 3}, {\"index\": 1575, \"num_neighbours_online\": 3}, {\"index\": 1576, \"num_neighbours_online\": 3}, {\"index\": 1577, \"num_neighbours_online\": 3}, {\"index\": 1578, \"num_neighbours_online\": 3}, {\"index\": 1579, \"num_neighbours_online\": 3}, {\"index\": 1580, \"num_neighbours_online\": 3}, {\"index\": 1581, \"num_neighbours_online\": 3}, {\"index\": 1582, \"num_neighbours_online\": 3}, {\"index\": 1583, \"num_neighbours_online\": 3}, {\"index\": 1584, \"num_neighbours_online\": 3}, {\"index\": 1585, \"num_neighbours_online\": 3}, {\"index\": 1586, \"num_neighbours_online\": 3}, {\"index\": 1587, \"num_neighbours_online\": 0}, {\"index\": 1588, \"num_neighbours_online\": 0}, {\"index\": 1589, \"num_neighbours_online\": 0}, {\"index\": 1590, \"num_neighbours_online\": 0}, {\"index\": 1591, \"num_neighbours_online\": 0}, {\"index\": 1592, \"num_neighbours_online\": 0}, {\"index\": 1593, \"num_neighbours_online\": 0}, {\"index\": 1594, \"num_neighbours_online\": 0}, {\"index\": 1595, \"num_neighbours_online\": 3}, {\"index\": 1596, \"num_neighbours_online\": 3}, {\"index\": 1597, \"num_neighbours_online\": 3}, {\"index\": 1598, \"num_neighbours_online\": 3}, {\"index\": 1599, \"num_neighbours_online\": 3}, {\"index\": 1600, \"num_neighbours_online\": 3}, {\"index\": 1601, \"num_neighbours_online\": 3}, {\"index\": 1602, \"num_neighbours_online\": 3}, {\"index\": 1603, \"num_neighbours_online\": 3}, {\"index\": 1604, \"num_neighbours_online\": 3}, {\"index\": 1605, \"num_neighbours_online\": 3}, {\"index\": 1606, \"num_neighbours_online\": 3}, {\"index\": 1607, \"num_neighbours_online\": 3}, {\"index\": 1608, \"num_neighbours_online\": 3}, {\"index\": 1609, \"num_neighbours_online\": 3}, {\"index\": 1610, \"num_neighbours_online\": 3}, {\"index\": 1611, \"num_neighbours_online\": 3}, {\"index\": 1612, \"num_neighbours_online\": 3}, {\"index\": 1613, \"num_neighbours_online\": 3}, {\"index\": 1614, \"num_neighbours_online\": 3}, {\"index\": 1615, \"num_neighbours_online\": 3}, {\"index\": 1616, \"num_neighbours_online\": 3}, {\"index\": 1617, \"num_neighbours_online\": 3}, {\"index\": 1618, \"num_neighbours_online\": 3}, {\"index\": 1619, \"num_neighbours_online\": 3}, {\"index\": 1620, \"num_neighbours_online\": 0}, {\"index\": 1621, \"num_neighbours_online\": 0}, {\"index\": 1622, \"num_neighbours_online\": 0}, {\"index\": 1623, \"num_neighbours_online\": 0}, {\"index\": 1624, \"num_neighbours_online\": 0}, {\"index\": 1625, \"num_neighbours_online\": 0}, {\"index\": 1626, \"num_neighbours_online\": 0}, {\"index\": 1627, \"num_neighbours_online\": 0}, {\"index\": 1628, \"num_neighbours_online\": 3}, {\"index\": 1629, \"num_neighbours_online\": 3}, {\"index\": 1630, \"num_neighbours_online\": 3}, {\"index\": 1631, \"num_neighbours_online\": 3}, {\"index\": 1632, \"num_neighbours_online\": 3}, {\"index\": 1633, \"num_neighbours_online\": 3}, {\"index\": 1634, \"num_neighbours_online\": 3}, {\"index\": 1635, \"num_neighbours_online\": 3}, {\"index\": 1636, \"num_neighbours_online\": 3}, {\"index\": 1637, \"num_neighbours_online\": 3}, {\"index\": 1638, \"num_neighbours_online\": 3}, {\"index\": 1639, \"num_neighbours_online\": 3}, {\"index\": 1640, \"num_neighbours_online\": 3}, {\"index\": 1641, \"num_neighbours_online\": 3}, {\"index\": 1642, \"num_neighbours_online\": 3}, {\"index\": 1643, \"num_neighbours_online\": 3}, {\"index\": 1644, \"num_neighbours_online\": 3}, {\"index\": 1645, \"num_neighbours_online\": 3}, {\"index\": 1646, \"num_neighbours_online\": 3}, {\"index\": 1647, \"num_neighbours_online\": 3}, {\"index\": 1648, \"num_neighbours_online\": 3}, {\"index\": 1649, \"num_neighbours_online\": 3}, {\"index\": 1650, \"num_neighbours_online\": 3}, {\"index\": 1651, \"num_neighbours_online\": 3}, {\"index\": 1652, \"num_neighbours_online\": 3}, {\"index\": 1653, \"num_neighbours_online\": 3}, {\"index\": 1654, \"num_neighbours_online\": 3}, {\"index\": 1655, \"num_neighbours_online\": 3}, {\"index\": 1656, \"num_neighbours_online\": 3}, {\"index\": 1657, \"num_neighbours_online\": 3}, {\"index\": 1658, \"num_neighbours_online\": 3}, {\"index\": 1659, \"num_neighbours_online\": 3}, {\"index\": 1660, \"num_neighbours_online\": 3}, {\"index\": 1661, \"num_neighbours_online\": 3}, {\"index\": 1662, \"num_neighbours_online\": 0}, {\"index\": 1663, \"num_neighbours_online\": 0}, {\"index\": 1664, \"num_neighbours_online\": 0}, {\"index\": 1665, \"num_neighbours_online\": 0}, {\"index\": 1666, \"num_neighbours_online\": 0}, {\"index\": 1667, \"num_neighbours_online\": 0}, {\"index\": 1668, \"num_neighbours_online\": 0}, {\"index\": 1669, \"num_neighbours_online\": 0}, {\"index\": 1670, \"num_neighbours_online\": 3}, {\"index\": 1671, \"num_neighbours_online\": 3}, {\"index\": 1672, \"num_neighbours_online\": 3}, {\"index\": 1673, \"num_neighbours_online\": 3}, {\"index\": 1674, \"num_neighbours_online\": 3}, {\"index\": 1675, \"num_neighbours_online\": 3}, {\"index\": 1676, \"num_neighbours_online\": 3}, {\"index\": 1677, \"num_neighbours_online\": 3}, {\"index\": 1678, \"num_neighbours_online\": 3}, {\"index\": 1679, \"num_neighbours_online\": 3}, {\"index\": 1680, \"num_neighbours_online\": 3}, {\"index\": 1681, \"num_neighbours_online\": 3}, {\"index\": 1682, \"num_neighbours_online\": 3}, {\"index\": 1683, \"num_neighbours_online\": 3}, {\"index\": 1684, \"num_neighbours_online\": 3}, {\"index\": 1685, \"num_neighbours_online\": 3}, {\"index\": 1686, \"num_neighbours_online\": 3}, {\"index\": 1687, \"num_neighbours_online\": 3}, {\"index\": 1688, \"num_neighbours_online\": 3}, {\"index\": 1689, \"num_neighbours_online\": 3}, {\"index\": 1690, \"num_neighbours_online\": 3}, {\"index\": 1691, \"num_neighbours_online\": 3}, {\"index\": 1692, \"num_neighbours_online\": 3}, {\"index\": 1693, \"num_neighbours_online\": 3}, {\"index\": 1694, \"num_neighbours_online\": 3}, {\"index\": 1695, \"num_neighbours_online\": 3}, {\"index\": 1696, \"num_neighbours_online\": 3}, {\"index\": 1697, \"num_neighbours_online\": 3}, {\"index\": 1698, \"num_neighbours_online\": 3}, {\"index\": 1699, \"num_neighbours_online\": 3}, {\"index\": 1700, \"num_neighbours_online\": 3}, {\"index\": 1701, \"num_neighbours_online\": 3}, {\"index\": 1702, \"num_neighbours_online\": 3}, {\"index\": 1703, \"num_neighbours_online\": 3}, {\"index\": 1704, \"num_neighbours_online\": 3}, {\"index\": 1705, \"num_neighbours_online\": 3}, {\"index\": 1706, \"num_neighbours_online\": 3}, {\"index\": 1707, \"num_neighbours_online\": 3}, {\"index\": 1708, \"num_neighbours_online\": 3}, {\"index\": 1709, \"num_neighbours_online\": 3}, {\"index\": 1710, \"num_neighbours_online\": 3}, {\"index\": 1711, \"num_neighbours_online\": 3}, {\"index\": 1712, \"num_neighbours_online\": 3}, {\"index\": 1713, \"num_neighbours_online\": 3}, {\"index\": 1714, \"num_neighbours_online\": 3}, {\"index\": 1715, \"num_neighbours_online\": 3}, {\"index\": 1716, \"num_neighbours_online\": 3}, {\"index\": 1717, \"num_neighbours_online\": 3}, {\"index\": 1718, \"num_neighbours_online\": 3}, {\"index\": 1719, \"num_neighbours_online\": 3}, {\"index\": 1720, \"num_neighbours_online\": 3}, {\"index\": 1721, \"num_neighbours_online\": 3}, {\"index\": 1722, \"num_neighbours_online\": 3}, {\"index\": 1723, \"num_neighbours_online\": 3}, {\"index\": 1724, \"num_neighbours_online\": 3}, {\"index\": 1725, \"num_neighbours_online\": 3}, {\"index\": 1726, \"num_neighbours_online\": 3}, {\"index\": 1727, \"num_neighbours_online\": 3}, {\"index\": 1728, \"num_neighbours_online\": 3}, {\"index\": 1729, \"num_neighbours_online\": 3}, {\"index\": 1730, \"num_neighbours_online\": 3}, {\"index\": 1731, \"num_neighbours_online\": 3}, {\"index\": 1732, \"num_neighbours_online\": 3}, {\"index\": 1733, \"num_neighbours_online\": 3}, {\"index\": 1734, \"num_neighbours_online\": 3}, {\"index\": 1735, \"num_neighbours_online\": 3}, {\"index\": 1736, \"num_neighbours_online\": 3}, {\"index\": 1737, \"num_neighbours_online\": 3}, {\"index\": 1738, \"num_neighbours_online\": 3}, {\"index\": 1739, \"num_neighbours_online\": 3}, {\"index\": 1740, \"num_neighbours_online\": 3}, {\"index\": 1741, \"num_neighbours_online\": 3}, {\"index\": 1742, \"num_neighbours_online\": 3}, {\"index\": 1743, \"num_neighbours_online\": 3}, {\"index\": 1744, \"num_neighbours_online\": 3}, {\"index\": 1745, \"num_neighbours_online\": 3}, {\"index\": 1746, \"num_neighbours_online\": 3}, {\"index\": 1747, \"num_neighbours_online\": 3}, {\"index\": 1748, \"num_neighbours_online\": 3}, {\"index\": 1749, \"num_neighbours_online\": 3}, {\"index\": 1750, \"num_neighbours_online\": 3}, {\"index\": 1751, \"num_neighbours_online\": 3}, {\"index\": 1752, \"num_neighbours_online\": 3}, {\"index\": 1753, \"num_neighbours_online\": 3}, {\"index\": 1754, \"num_neighbours_online\": 3}, {\"index\": 1755, \"num_neighbours_online\": 3}, {\"index\": 1756, \"num_neighbours_online\": 3}, {\"index\": 1757, \"num_neighbours_online\": 3}, {\"index\": 1758, \"num_neighbours_online\": 3}, {\"index\": 1759, \"num_neighbours_online\": 3}, {\"index\": 1760, \"num_neighbours_online\": 3}, {\"index\": 1761, \"num_neighbours_online\": 3}, {\"index\": 1762, \"num_neighbours_online\": 3}, {\"index\": 1763, \"num_neighbours_online\": 3}, {\"index\": 1764, \"num_neighbours_online\": 3}, {\"index\": 1765, \"num_neighbours_online\": 3}, {\"index\": 1766, \"num_neighbours_online\": 3}, {\"index\": 1767, \"num_neighbours_online\": 3}, {\"index\": 1768, \"num_neighbours_online\": 3}, {\"index\": 1769, \"num_neighbours_online\": 3}, {\"index\": 1770, \"num_neighbours_online\": 3}, {\"index\": 1771, \"num_neighbours_online\": 3}, {\"index\": 1772, \"num_neighbours_online\": 3}, {\"index\": 1773, \"num_neighbours_online\": 3}, {\"index\": 1774, \"num_neighbours_online\": 3}, {\"index\": 1775, \"num_neighbours_online\": 3}, {\"index\": 1776, \"num_neighbours_online\": 3}, {\"index\": 1777, \"num_neighbours_online\": 3}, {\"index\": 1778, \"num_neighbours_online\": 3}, {\"index\": 1779, \"num_neighbours_online\": 3}, {\"index\": 1780, \"num_neighbours_online\": 3}, {\"index\": 1781, \"num_neighbours_online\": 3}, {\"index\": 1782, \"num_neighbours_online\": 3}, {\"index\": 1783, \"num_neighbours_online\": 3}, {\"index\": 1784, \"num_neighbours_online\": 3}, {\"index\": 1785, \"num_neighbours_online\": 3}, {\"index\": 1786, \"num_neighbours_online\": 3}, {\"index\": 1787, \"num_neighbours_online\": 3}, {\"index\": 1788, \"num_neighbours_online\": 3}, {\"index\": 1789, \"num_neighbours_online\": 3}, {\"index\": 1790, \"num_neighbours_online\": 3}, {\"index\": 1791, \"num_neighbours_online\": 3}, {\"index\": 1792, \"num_neighbours_online\": 3}, {\"index\": 1793, \"num_neighbours_online\": 3}, {\"index\": 1794, \"num_neighbours_online\": 3}, {\"index\": 1795, \"num_neighbours_online\": 3}, {\"index\": 1796, \"num_neighbours_online\": 3}, {\"index\": 1797, \"num_neighbours_online\": 3}, {\"index\": 1798, \"num_neighbours_online\": 3}, {\"index\": 1799, \"num_neighbours_online\": 3}, {\"index\": 1800, \"num_neighbours_online\": 3}, {\"index\": 1801, \"num_neighbours_online\": 3}, {\"index\": 1802, \"num_neighbours_online\": 3}, {\"index\": 1803, \"num_neighbours_online\": 3}, {\"index\": 1804, \"num_neighbours_online\": 3}, {\"index\": 1805, \"num_neighbours_online\": 3}, {\"index\": 1806, \"num_neighbours_online\": 3}, {\"index\": 1807, \"num_neighbours_online\": 3}, {\"index\": 1808, \"num_neighbours_online\": 3}, {\"index\": 1809, \"num_neighbours_online\": 3}, {\"index\": 1810, \"num_neighbours_online\": 3}, {\"index\": 1811, \"num_neighbours_online\": 3}, {\"index\": 1812, \"num_neighbours_online\": 3}, {\"index\": 1813, \"num_neighbours_online\": 3}, {\"index\": 1814, \"num_neighbours_online\": 3}, {\"index\": 1815, \"num_neighbours_online\": 3}, {\"index\": 1816, \"num_neighbours_online\": 3}, {\"index\": 1817, \"num_neighbours_online\": 3}, {\"index\": 1818, \"num_neighbours_online\": 3}, {\"index\": 1819, \"num_neighbours_online\": 3}, {\"index\": 1820, \"num_neighbours_online\": 3}, {\"index\": 1821, \"num_neighbours_online\": 3}, {\"index\": 1822, \"num_neighbours_online\": 3}, {\"index\": 1823, \"num_neighbours_online\": 3}, {\"index\": 1824, \"num_neighbours_online\": 3}]}}, {\"mode\": \"vega-lite\"});\n",
       "</script>"
      ],
      "text/plain": [
       "alt.Chart(...)"
      ]
     },
     "execution_count": 81,
     "metadata": {},
     "output_type": "execute_result"
    }
   ],
   "execution_count": 81
  },
  {
   "cell_type": "markdown",
   "id": "8fe8eb40",
   "metadata": {},
   "source": [
    "#### Step 4. Majority voting flags for the target"
   ]
  },
  {
   "cell_type": "code",
   "id": "a66a8a55",
   "metadata": {
    "ExecuteTime": {
     "end_time": "2025-04-17T09:05:27.738946Z",
     "start_time": "2025-04-17T09:05:27.730560Z"
    }
   },
   "source": [
    "all_data_wet_flags = all_data_num_neighbours.with_columns(\n",
    "    pl.when(pl.col(\"num_neighbours_online\") < MIN_NUM_NEIGHBOURS)\n",
    "    .then(np.nan)\n",
    "    .otherwise(\n",
    "        pl.min_horizontal(pl.all().exclude(\"time\", rain_col, \"num_neighbours_online\"))\n",
    "    )\n",
    "    .alias(\"wet_flags\")\n",
    ")"
   ],
   "outputs": [],
   "execution_count": 82
  },
  {
   "cell_type": "code",
   "id": "198fa66f",
   "metadata": {
    "ExecuteTime": {
     "end_time": "2025-04-17T09:05:27.871089Z",
     "start_time": "2025-04-17T09:05:27.867252Z"
    }
   },
   "source": [
    "all_data_wet_flags[\"wet_flags\"].value_counts()"
   ],
   "outputs": [
    {
     "data": {
      "text/plain": [
       "shape: (5, 2)\n",
       "┌───────────┬───────┐\n",
       "│ wet_flags ┆ count │\n",
       "│ ---       ┆ ---   │\n",
       "│ f64       ┆ u32   │\n",
       "╞═══════════╪═══════╡\n",
       "│ 1.0       ┆ 1     │\n",
       "│ 2.0       ┆ 1     │\n",
       "│ 3.0       ┆ 1     │\n",
       "│ NaN       ┆ 66    │\n",
       "│ 0.0       ┆ 1756  │\n",
       "└───────────┴───────┘"
      ],
      "text/html": [
       "<div><style>\n",
       ".dataframe > thead > tr,\n",
       ".dataframe > tbody > tr {\n",
       "  text-align: right;\n",
       "  white-space: pre-wrap;\n",
       "}\n",
       "</style>\n",
       "<small>shape: (5, 2)</small><table border=\"1\" class=\"dataframe\"><thead><tr><th>wet_flags</th><th>count</th></tr><tr><td>f64</td><td>u32</td></tr></thead><tbody><tr><td>1.0</td><td>1</td></tr><tr><td>2.0</td><td>1</td></tr><tr><td>3.0</td><td>1</td></tr><tr><td>NaN</td><td>66</td></tr><tr><td>0.0</td><td>1756</td></tr></tbody></table></div>"
      ]
     },
     "execution_count": 83,
     "metadata": {},
     "output_type": "execute_result"
    }
   ],
   "execution_count": 83
  },
  {
   "cell_type": "markdown",
   "id": "dbf6ee24",
   "metadata": {},
   "source": [
    "##### Extra note about method:\n",
    "We are checking for minimum 2 neighbours, but original method needs 3"
   ]
  },
  {
   "cell_type": "code",
   "id": "a4bef42d",
   "metadata": {
    "ExecuteTime": {
     "end_time": "2025-04-17T09:05:28.032870Z",
     "start_time": "2025-04-17T09:05:28.023359Z"
    }
   },
   "source": [
    "all_data_num_neighbours.filter(pl.col(\"wet_flags_310\") == 3)"
   ],
   "outputs": [
    {
     "data": {
      "text/plain": [
       "shape: (1, 6)\n",
       "┌──────────────┬─────────┬────────────────┬────────────────┬───────────────┬───────────────────────┐\n",
       "│ time         ┆ rain_mm ┆ wet_flags_3215 ┆ wet_flags_6303 ┆ wet_flags_310 ┆ num_neighbours_online │\n",
       "│ ---          ┆ ---     ┆ ---            ┆ ---            ┆ ---           ┆ ---                   │\n",
       "│ datetime[μs] ┆ f64     ┆ i32            ┆ i32            ┆ i32           ┆ i16                   │\n",
       "╞══════════════╪═════════╪════════════════╪════════════════╪═══════════════╪═══════════════════════╡\n",
       "│ 2006-12-24   ┆ 300.0   ┆ null           ┆ 3              ┆ 3             ┆ 2                     │\n",
       "│ 07:00:00     ┆         ┆                ┆                ┆               ┆                       │\n",
       "└──────────────┴─────────┴────────────────┴────────────────┴───────────────┴───────────────────────┘"
      ],
      "text/html": [
       "<div><style>\n",
       ".dataframe > thead > tr,\n",
       ".dataframe > tbody > tr {\n",
       "  text-align: right;\n",
       "  white-space: pre-wrap;\n",
       "}\n",
       "</style>\n",
       "<small>shape: (1, 6)</small><table border=\"1\" class=\"dataframe\"><thead><tr><th>time</th><th>rain_mm</th><th>wet_flags_3215</th><th>wet_flags_6303</th><th>wet_flags_310</th><th>num_neighbours_online</th></tr><tr><td>datetime[μs]</td><td>f64</td><td>i32</td><td>i32</td><td>i32</td><td>i16</td></tr></thead><tbody><tr><td>2006-12-24 07:00:00</td><td>300.0</td><td>null</td><td>3</td><td>3</td><td>2</td></tr></tbody></table></div>"
      ]
     },
     "execution_count": 84,
     "metadata": {},
     "output_type": "execute_result"
    }
   ],
   "execution_count": 84
  },
  {
   "cell_type": "code",
   "id": "a17a9484",
   "metadata": {
    "ExecuteTime": {
     "end_time": "2025-04-17T09:05:28.230024Z",
     "start_time": "2025-04-17T09:05:28.221851Z"
    }
   },
   "source": [],
   "outputs": [],
   "execution_count": null
  },
  {
   "cell_type": "markdown",
   "id": "fb4369f0-5c04-47d7-8f6d-9b6761b054e9",
   "metadata": {},
   "source": [
    "# QC17 - Hourly neighbours (wet) \n",
    "[Back to Index](#Table-of-contents)\n",
    "\n",
    "#### Differences from `intense-qc`: \n",
    "- Need to consider how the 7am-7pm can fit into RainfallQC"
   ]
  },
  {
   "metadata": {},
   "cell_type": "markdown",
   "source": "#### Step 0. resample to daily resolution",
   "id": "5cc23049fc958dd2"
  },
  {
   "metadata": {
    "ExecuteTime": {
     "end_time": "2025-04-17T09:05:28.557576Z",
     "start_time": "2025-04-17T09:05:28.548044Z"
    }
   },
   "cell_type": "code",
   "source": [
    "## resample into daily (also round to 1 decimal place) TODO: check offset='7h' part\n",
    "target_gauge_daily = (\n",
    "    target_gauge.group_by_dynamic(\"time\", every=\"1d\", offset=\"7h\", closed=\"right\")\n",
    "    .agg(\n",
    "        [\n",
    "            pl.len().alias(\"n_hours\"),\n",
    "            pl.col(rain_col).mean().round(1).alias(rain_col),\n",
    "        ]\n",
    "    )\n",
    "    .filter(pl.col(\"n_hours\") == 24)\n",
    "    .drop(\"n_hours\")\n",
    ")  # Ensure at least 24 data points"
   ],
   "id": "ea75b9766f569904",
   "outputs": [],
   "execution_count": 85
  },
  {
   "metadata": {
    "ExecuteTime": {
     "end_time": "2025-04-17T09:05:28.710061Z",
     "start_time": "2025-04-17T09:05:28.698231Z"
    }
   },
   "cell_type": "code",
   "source": [
    "target_gauge_daily.head()"
   ],
   "id": "1de0e815a8224824",
   "outputs": [
    {
     "data": {
      "text/plain": [
       "shape: (5, 2)\n",
       "┌─────────────────────┬─────────┐\n",
       "│ time                ┆ rain_mm │\n",
       "│ ---                 ┆ ---     │\n",
       "│ datetime[μs]        ┆ f64     │\n",
       "╞═════════════════════╪═════════╡\n",
       "│ 2006-01-01 07:00:00 ┆ 0.2     │\n",
       "│ 2006-01-02 07:00:00 ┆ 0.0     │\n",
       "│ 2006-01-03 07:00:00 ┆ 0.0     │\n",
       "│ 2006-01-04 07:00:00 ┆ 0.0     │\n",
       "│ 2006-01-05 07:00:00 ┆ 0.0     │\n",
       "└─────────────────────┴─────────┘"
      ],
      "text/html": [
       "<div><style>\n",
       ".dataframe > thead > tr,\n",
       ".dataframe > tbody > tr {\n",
       "  text-align: right;\n",
       "  white-space: pre-wrap;\n",
       "}\n",
       "</style>\n",
       "<small>shape: (5, 2)</small><table border=\"1\" class=\"dataframe\"><thead><tr><th>time</th><th>rain_mm</th></tr><tr><td>datetime[μs]</td><td>f64</td></tr></thead><tbody><tr><td>2006-01-01 07:00:00</td><td>0.2</td></tr><tr><td>2006-01-02 07:00:00</td><td>0.0</td></tr><tr><td>2006-01-03 07:00:00</td><td>0.0</td></tr><tr><td>2006-01-04 07:00:00</td><td>0.0</td></tr><tr><td>2006-01-05 07:00:00</td><td>0.0</td></tr></tbody></table></div>"
      ]
     },
     "execution_count": 86,
     "metadata": {},
     "output_type": "execute_result"
    }
   ],
   "execution_count": 86
  },
  {
   "cell_type": "markdown",
   "id": "f0e6024d",
   "metadata": {},
   "source": [
    "#### Step 1. Loop through each neighbour and compare to target"
   ]
  },
  {
   "cell_type": "code",
   "id": "4d39ac84",
   "metadata": {
    "ExecuteTime": {
     "end_time": "2025-04-17T09:05:29.918967Z",
     "start_time": "2025-04-17T09:05:28.990454Z"
    }
   },
   "source": [
    "all_data = (\n",
    "    target_gauge_daily.clone()\n",
    ")  ## currently daily instead of hourly because this works best with later flood-fill\n",
    "\n",
    "for n_id in all_neighbour_ids_paths.keys():\n",
    "    ## 1. Get neighbouring GDSR data nd resample into daily\n",
    "    print(n_id)\n",
    "    neighbouring_gdsr_gauge = get_neighbouring_gdsr_data(\n",
    "        neighbour_gdsr_id=n_id, time_multiplying_factor=MULTIPLYING_FACTORS[\"hourly\"]\n",
    "    )\n",
    "    ## make no data vals nans\n",
    "    station_metadata = read_metadata(data_path=all_neighbour_ids_paths[n_id])\n",
    "    neighbouring_gdsr_gauge = replace_no_data_with_nan(\n",
    "        neighbouring_gdsr_gauge, no_data_value=int(station_metadata[\"no_data_value\"])\n",
    "    )\n",
    "\n",
    "    joined_gauges_gdsr = target_gauge.join(\n",
    "        neighbouring_gdsr_gauge, on=\"time\", suffix=f\"_{n_id}\"\n",
    "    )\n",
    "    joined_gauges_gdsr = joined_gauges_gdsr.drop_nans()\n",
    "\n",
    "    ## resample into daily (also round to 1 decimal place) TODO: think about offset part\n",
    "    joined_gauges_gdsr = (\n",
    "        joined_gauges_gdsr.group_by_dynamic(\"time\", every=\"1d\", offset=\"7h\")\n",
    "        .agg(\n",
    "            [\n",
    "                pl.len().alias(\"n_hours\"),\n",
    "                pl.col(rain_col).mean().round(1).alias(rain_col),\n",
    "                pl.col(f\"{rain_col}_{n_id}\")\n",
    "                .mean()\n",
    "                .round(1)\n",
    "                .alias(f\"{rain_col}_GDSR_{n_id}\"),\n",
    "            ]\n",
    "        )\n",
    "        .filter(pl.col(\"n_hours\") == 24)\n",
    "        .drop(\"n_hours\")\n",
    "    )  # Ensure at least 24 data points\n",
    "\n",
    "    ## 2. get normalised diff\n",
    "    joined_gauges_gdsr_normalised_diff = joined_gauges_gdsr.with_columns(\n",
    "        # get normalised difference between target and neighbour\n",
    "        rain_mm_normalised_diff=normalise_data(pl.col(f\"{rain_col}\"))\n",
    "        - normalise_data(pl.col(f\"{rain_col}_GDSR_{n_id}\"))\n",
    "    )\n",
    "\n",
    "    ## 3. filter values\n",
    "    joined_gauges_gdsr_normalised_diff_filtered = (\n",
    "        joined_gauges_gdsr_normalised_diff.filter(\n",
    "            (pl.col(f\"{rain_col}\") >= WET_THRESHOLD)\n",
    "            & (pl.col(f\"{rain_col}\").is_finite())\n",
    "            & (pl.col(f\"{rain_col}_GDSR_{n_id}\").is_finite())\n",
    "            & (pl.col(f\"{rain_col}_normalised_diff\") > 0.0)\n",
    "        )\n",
    "    )\n",
    "\n",
    "    ## 4. Calcualte exponetial function of normalised diff\n",
    "    expon_params = scipy.stats.expon.fit(\n",
    "        joined_gauges_gdsr_normalised_diff_filtered[f\"{rain_col}_normalised_diff\"]\n",
    "    )\n",
    "    # 5. Calculate thresholds at key percentiles of fitted distribution\n",
    "    q95 = scipy.stats.expon.ppf(0.95, expon_params[0], expon_params[1])\n",
    "    q99 = scipy.stats.expon.ppf(0.99, expon_params[0], expon_params[1])\n",
    "    q999 = scipy.stats.expon.ppf(0.999, expon_params[0], expon_params[1])\n",
    "\n",
    "    ## 6. Assign flags\n",
    "    joined_gauges_gdsr_normalised_wet_flags = (\n",
    "        joined_gauges_gdsr_normalised_diff.with_columns(\n",
    "            pl.when(\n",
    "                (pl.col(rain_col) >= 1.0)\n",
    "                & (pl.col(f\"{rain_col}_normalised_diff\") <= q95)\n",
    "            )\n",
    "            .then(0)\n",
    "            .when(\n",
    "                (pl.col(rain_col) >= 1.0)\n",
    "                & (pl.col(f\"{rain_col}_normalised_diff\") > q95)\n",
    "                & (pl.col(f\"{rain_col}_normalised_diff\") <= q99),\n",
    "            )\n",
    "            .then(1)\n",
    "            .when(\n",
    "                (pl.col(rain_col) >= 1.0)\n",
    "                & (pl.col(f\"{rain_col}_normalised_diff\") > q99)\n",
    "                & (pl.col(f\"{rain_col}_normalised_diff\") <= q999),\n",
    "            )\n",
    "            .then(2)\n",
    "            .when(\n",
    "                (pl.col(rain_col) >= 1.0)\n",
    "                & (pl.col(f\"{rain_col}_normalised_diff\") > q95)\n",
    "            )\n",
    "            .then(3)\n",
    "            .otherwise(0)\n",
    "            .alias(f\"wet_flags_{n_id}\")\n",
    "        )\n",
    "    )\n",
    "    all_data = all_data.join(\n",
    "        joined_gauges_gdsr_normalised_wet_flags[[\"time\", f\"wet_flags_{n_id}\"]],\n",
    "        on=\"time\",\n",
    "        how=\"left\",\n",
    "    )\n",
    "\n",
    "    print(\n",
    "        \"before turning back into hourly\", all_data[f\"wet_flags_{n_id}\"].value_counts()\n",
    "    )"
   ],
   "outputs": [
    {
     "name": "stdout",
     "output_type": "stream",
     "text": [
      "DE_03215\n",
      "before turning back into hourly shape: (5, 2)\n",
      "┌────────────────────┬───────┐\n",
      "│ wet_flags_DE_03215 ┆ count │\n",
      "│ ---                ┆ ---   │\n",
      "│ i32                ┆ u32   │\n",
      "╞════════════════════╪═══════╡\n",
      "│ 2                  ┆ 1     │\n",
      "│ 1                  ┆ 4     │\n",
      "│ 0                  ┆ 1244  │\n",
      "│ null               ┆ 575   │\n",
      "│ 3                  ┆ 1     │\n",
      "└────────────────────┴───────┘\n",
      "DE_02718\n",
      "before turning back into hourly shape: (3, 2)\n",
      "┌────────────────────┬───────┐\n",
      "│ wet_flags_DE_02718 ┆ count │\n",
      "│ ---                ┆ ---   │\n",
      "│ i32                ┆ u32   │\n",
      "╞════════════════════╪═══════╡\n",
      "│ 3                  ┆ 3     │\n",
      "│ null               ┆ 68    │\n",
      "│ 0                  ┆ 1754  │\n",
      "└────────────────────┴───────┘\n",
      "DE_04488\n",
      "before turning back into hourly shape: (4, 2)\n",
      "┌────────────────────┬───────┐\n",
      "│ wet_flags_DE_04488 ┆ count │\n",
      "│ ---                ┆ ---   │\n",
      "│ i32                ┆ u32   │\n",
      "╞════════════════════╪═══════╡\n",
      "│ 2                  ┆ 1     │\n",
      "│ null               ┆ 274   │\n",
      "│ 3                  ┆ 2     │\n",
      "│ 0                  ┆ 1548  │\n",
      "└────────────────────┴───────┘\n",
      "DE_06264\n",
      "before turning back into hourly shape: (3, 2)\n",
      "┌────────────────────┬───────┐\n",
      "│ wet_flags_DE_06264 ┆ count │\n",
      "│ ---                ┆ ---   │\n",
      "│ i32                ┆ u32   │\n",
      "╞════════════════════╪═══════╡\n",
      "│ 0                  ┆ 1749  │\n",
      "│ null               ┆ 73    │\n",
      "│ 3                  ┆ 3     │\n",
      "└────────────────────┴───────┘\n",
      "DE_00390\n",
      "before turning back into hourly shape: (3, 2)\n",
      "┌────────────────────┬───────┐\n",
      "│ wet_flags_DE_00390 ┆ count │\n",
      "│ ---                ┆ ---   │\n",
      "│ i32                ┆ u32   │\n",
      "╞════════════════════╪═══════╡\n",
      "│ 3                  ┆ 3     │\n",
      "│ 0                  ┆ 1751  │\n",
      "│ null               ┆ 71    │\n",
      "└────────────────────┴───────┘\n",
      "DE_01300\n",
      "before turning back into hourly shape: (4, 2)\n",
      "┌────────────────────┬───────┐\n",
      "│ wet_flags_DE_01300 ┆ count │\n",
      "│ ---                ┆ ---   │\n",
      "│ i32                ┆ u32   │\n",
      "╞════════════════════╪═══════╡\n",
      "│ 0                  ┆ 1752  │\n",
      "│ 2                  ┆ 1     │\n",
      "│ null               ┆ 70    │\n",
      "│ 3                  ┆ 2     │\n",
      "└────────────────────┴───────┘\n",
      "DE_04313\n",
      "before turning back into hourly shape: (3, 2)\n",
      "┌────────────────────┬───────┐\n",
      "│ wet_flags_DE_04313 ┆ count │\n",
      "│ ---                ┆ ---   │\n",
      "│ i32                ┆ u32   │\n",
      "╞════════════════════╪═══════╡\n",
      "│ 3                  ┆ 3     │\n",
      "│ null               ┆ 71    │\n",
      "│ 0                  ┆ 1751  │\n",
      "└────────────────────┴───────┘\n",
      "DE_06303\n",
      "before turning back into hourly shape: (4, 2)\n",
      "┌────────────────────┬───────┐\n",
      "│ wet_flags_DE_06303 ┆ count │\n",
      "│ ---                ┆ ---   │\n",
      "│ i32                ┆ u32   │\n",
      "╞════════════════════╪═══════╡\n",
      "│ null               ┆ 71    │\n",
      "│ 2                  ┆ 1     │\n",
      "│ 0                  ┆ 1751  │\n",
      "│ 3                  ┆ 2     │\n",
      "└────────────────────┴───────┘\n",
      "DE_00310\n",
      "before turning back into hourly shape: (4, 2)\n",
      "┌────────────────────┬───────┐\n",
      "│ wet_flags_DE_00310 ┆ count │\n",
      "│ ---                ┆ ---   │\n",
      "│ i32                ┆ u32   │\n",
      "╞════════════════════╪═══════╡\n",
      "│ null               ┆ 95    │\n",
      "│ 2                  ┆ 1     │\n",
      "│ 3                  ┆ 2     │\n",
      "│ 0                  ┆ 1727  │\n",
      "└────────────────────┴───────┘\n"
     ]
    }
   ],
   "execution_count": 87
  },
  {
   "cell_type": "markdown",
   "id": "0017e744",
   "metadata": {},
   "source": "#### Step 2. Calculate num neighbours online"
  },
  {
   "cell_type": "code",
   "id": "876e2b02",
   "metadata": {
    "ExecuteTime": {
     "end_time": "2025-04-17T09:05:29.979834Z",
     "start_time": "2025-04-17T09:05:29.972768Z"
    }
   },
   "source": [
    "## global determining the minimum number of non-null neighbours to count flags\n",
    "MIN_NUM_NEIGHBOURS = 2  # original method is 3"
   ],
   "outputs": [],
   "execution_count": 88
  },
  {
   "cell_type": "code",
   "id": "acc51a1f",
   "metadata": {
    "ExecuteTime": {
     "end_time": "2025-04-17T09:05:30.112701Z",
     "start_time": "2025-04-17T09:05:30.102675Z"
    }
   },
   "source": [
    "all_data.head()"
   ],
   "outputs": [
    {
     "data": {
      "text/plain": [
       "shape: (5, 11)\n",
       "┌────────────┬─────────┬───────────┬───────────┬───┬───────────┬───────────┬───────────┬───────────┐\n",
       "│ time       ┆ rain_mm ┆ wet_flags ┆ wet_flags ┆ … ┆ wet_flags ┆ wet_flags ┆ wet_flags ┆ wet_flags │\n",
       "│ ---        ┆ ---     ┆ _DE_03215 ┆ _DE_02718 ┆   ┆ _DE_01300 ┆ _DE_04313 ┆ _DE_06303 ┆ _DE_00310 │\n",
       "│ datetime[μ ┆ f64     ┆ ---       ┆ ---       ┆   ┆ ---       ┆ ---       ┆ ---       ┆ ---       │\n",
       "│ s]         ┆         ┆ i32       ┆ i32       ┆   ┆ i32       ┆ i32       ┆ i32       ┆ i32       │\n",
       "╞════════════╪═════════╪═══════════╪═══════════╪═══╪═══════════╪═══════════╪═══════════╪═══════════╡\n",
       "│ 2006-01-01 ┆ 0.2     ┆ null      ┆ 0         ┆ … ┆ 0         ┆ 0         ┆ 0         ┆ 0         │\n",
       "│ 07:00:00   ┆         ┆           ┆           ┆   ┆           ┆           ┆           ┆           │\n",
       "│ 2006-01-02 ┆ 0.0     ┆ null      ┆ 0         ┆ … ┆ 0         ┆ 0         ┆ 0         ┆ 0         │\n",
       "│ 07:00:00   ┆         ┆           ┆           ┆   ┆           ┆           ┆           ┆           │\n",
       "│ 2006-01-03 ┆ 0.0     ┆ null      ┆ 0         ┆ … ┆ 0         ┆ 0         ┆ 0         ┆ 0         │\n",
       "│ 07:00:00   ┆         ┆           ┆           ┆   ┆           ┆           ┆           ┆           │\n",
       "│ 2006-01-04 ┆ 0.0     ┆ null      ┆ 0         ┆ … ┆ 0         ┆ 0         ┆ 0         ┆ 0         │\n",
       "│ 07:00:00   ┆         ┆           ┆           ┆   ┆           ┆           ┆           ┆           │\n",
       "│ 2006-01-05 ┆ 0.0     ┆ null      ┆ 0         ┆ … ┆ 0         ┆ 0         ┆ 0         ┆ 0         │\n",
       "│ 07:00:00   ┆         ┆           ┆           ┆   ┆           ┆           ┆           ┆           │\n",
       "└────────────┴─────────┴───────────┴───────────┴───┴───────────┴───────────┴───────────┴───────────┘"
      ],
      "text/html": [
       "<div><style>\n",
       ".dataframe > thead > tr,\n",
       ".dataframe > tbody > tr {\n",
       "  text-align: right;\n",
       "  white-space: pre-wrap;\n",
       "}\n",
       "</style>\n",
       "<small>shape: (5, 11)</small><table border=\"1\" class=\"dataframe\"><thead><tr><th>time</th><th>rain_mm</th><th>wet_flags_DE_03215</th><th>wet_flags_DE_02718</th><th>wet_flags_DE_04488</th><th>wet_flags_DE_06264</th><th>wet_flags_DE_00390</th><th>wet_flags_DE_01300</th><th>wet_flags_DE_04313</th><th>wet_flags_DE_06303</th><th>wet_flags_DE_00310</th></tr><tr><td>datetime[μs]</td><td>f64</td><td>i32</td><td>i32</td><td>i32</td><td>i32</td><td>i32</td><td>i32</td><td>i32</td><td>i32</td><td>i32</td></tr></thead><tbody><tr><td>2006-01-01 07:00:00</td><td>0.2</td><td>null</td><td>0</td><td>null</td><td>0</td><td>0</td><td>0</td><td>0</td><td>0</td><td>0</td></tr><tr><td>2006-01-02 07:00:00</td><td>0.0</td><td>null</td><td>0</td><td>null</td><td>0</td><td>0</td><td>0</td><td>0</td><td>0</td><td>0</td></tr><tr><td>2006-01-03 07:00:00</td><td>0.0</td><td>null</td><td>0</td><td>null</td><td>0</td><td>0</td><td>0</td><td>0</td><td>0</td><td>0</td></tr><tr><td>2006-01-04 07:00:00</td><td>0.0</td><td>null</td><td>0</td><td>null</td><td>0</td><td>0</td><td>0</td><td>0</td><td>0</td><td>0</td></tr><tr><td>2006-01-05 07:00:00</td><td>0.0</td><td>null</td><td>0</td><td>null</td><td>0</td><td>0</td><td>0</td><td>0</td><td>0</td><td>0</td></tr></tbody></table></div>"
      ]
     },
     "execution_count": 89,
     "metadata": {},
     "output_type": "execute_result"
    }
   ],
   "execution_count": 89
  },
  {
   "cell_type": "code",
   "id": "f522f18b",
   "metadata": {
    "ExecuteTime": {
     "end_time": "2025-04-17T09:05:30.269889Z",
     "start_time": "2025-04-17T09:05:30.256516Z"
    }
   },
   "source": [
    "num_neighbours = len(all_data.columns[2:])\n",
    "num_neighbours"
   ],
   "outputs": [
    {
     "data": {
      "text/plain": [
       "9"
      ]
     },
     "execution_count": 90,
     "metadata": {},
     "output_type": "execute_result"
    }
   ],
   "execution_count": 90
  },
  {
   "cell_type": "code",
   "id": "dc70cff8",
   "metadata": {
    "ExecuteTime": {
     "end_time": "2025-04-17T09:05:30.480727Z",
     "start_time": "2025-04-17T09:05:30.469354Z"
    }
   },
   "source": [
    "all_data_num_neighbours = all_data.with_columns(\n",
    "    (\n",
    "        num_neighbours\n",
    "        - pl.sum_horizontal(pl.all().exclude(\"time\").is_null().cast(pl.Int16))\n",
    "    ).alias(\"num_neighbours_online\")\n",
    ")\n",
    "all_data_num_neighbours"
   ],
   "outputs": [
    {
     "data": {
      "text/plain": [
       "shape: (1_825, 12)\n",
       "┌────────────┬─────────┬───────────┬───────────┬───┬───────────┬───────────┬───────────┬───────────┐\n",
       "│ time       ┆ rain_mm ┆ wet_flags ┆ wet_flags ┆ … ┆ wet_flags ┆ wet_flags ┆ wet_flags ┆ num_neigh │\n",
       "│ ---        ┆ ---     ┆ _DE_03215 ┆ _DE_02718 ┆   ┆ _DE_04313 ┆ _DE_06303 ┆ _DE_00310 ┆ bours_onl │\n",
       "│ datetime[μ ┆ f64     ┆ ---       ┆ ---       ┆   ┆ ---       ┆ ---       ┆ ---       ┆ ine       │\n",
       "│ s]         ┆         ┆ i32       ┆ i32       ┆   ┆ i32       ┆ i32       ┆ i32       ┆ ---       │\n",
       "│            ┆         ┆           ┆           ┆   ┆           ┆           ┆           ┆ i16       │\n",
       "╞════════════╪═════════╪═══════════╪═══════════╪═══╪═══════════╪═══════════╪═══════════╪═══════════╡\n",
       "│ 2006-01-01 ┆ 0.2     ┆ null      ┆ 0         ┆ … ┆ 0         ┆ 0         ┆ 0         ┆ 7         │\n",
       "│ 07:00:00   ┆         ┆           ┆           ┆   ┆           ┆           ┆           ┆           │\n",
       "│ 2006-01-02 ┆ 0.0     ┆ null      ┆ 0         ┆ … ┆ 0         ┆ 0         ┆ 0         ┆ 7         │\n",
       "│ 07:00:00   ┆         ┆           ┆           ┆   ┆           ┆           ┆           ┆           │\n",
       "│ 2006-01-03 ┆ 0.0     ┆ null      ┆ 0         ┆ … ┆ 0         ┆ 0         ┆ 0         ┆ 7         │\n",
       "│ 07:00:00   ┆         ┆           ┆           ┆   ┆           ┆           ┆           ┆           │\n",
       "│ 2006-01-04 ┆ 0.0     ┆ null      ┆ 0         ┆ … ┆ 0         ┆ 0         ┆ 0         ┆ 7         │\n",
       "│ 07:00:00   ┆         ┆           ┆           ┆   ┆           ┆           ┆           ┆           │\n",
       "│ 2006-01-05 ┆ 0.0     ┆ null      ┆ 0         ┆ … ┆ 0         ┆ 0         ┆ 0         ┆ 7         │\n",
       "│ 07:00:00   ┆         ┆           ┆           ┆   ┆           ┆           ┆           ┆           │\n",
       "│ …          ┆ …       ┆ …         ┆ …         ┆ … ┆ …         ┆ …         ┆ …         ┆ …         │\n",
       "│ 2010-12-26 ┆ 0.2     ┆ 0         ┆ 0         ┆ … ┆ 0         ┆ 0         ┆ 0         ┆ 9         │\n",
       "│ 07:00:00   ┆         ┆           ┆           ┆   ┆           ┆           ┆           ┆           │\n",
       "│ 2010-12-27 ┆ 0.0     ┆ 0         ┆ 0         ┆ … ┆ 0         ┆ 0         ┆ 0         ┆ 9         │\n",
       "│ 07:00:00   ┆         ┆           ┆           ┆   ┆           ┆           ┆           ┆           │\n",
       "│ 2010-12-28 ┆ 0.0     ┆ 0         ┆ 0         ┆ … ┆ 0         ┆ 0         ┆ 0         ┆ 9         │\n",
       "│ 07:00:00   ┆         ┆           ┆           ┆   ┆           ┆           ┆           ┆           │\n",
       "│ 2010-12-29 ┆ 0.0     ┆ 0         ┆ 0         ┆ … ┆ 0         ┆ 0         ┆ 0         ┆ 9         │\n",
       "│ 07:00:00   ┆         ┆           ┆           ┆   ┆           ┆           ┆           ┆           │\n",
       "│ 2010-12-30 ┆ 0.0     ┆ 0         ┆ 0         ┆ … ┆ 0         ┆ 0         ┆ 0         ┆ 9         │\n",
       "│ 07:00:00   ┆         ┆           ┆           ┆   ┆           ┆           ┆           ┆           │\n",
       "└────────────┴─────────┴───────────┴───────────┴───┴───────────┴───────────┴───────────┴───────────┘"
      ],
      "text/html": [
       "<div><style>\n",
       ".dataframe > thead > tr,\n",
       ".dataframe > tbody > tr {\n",
       "  text-align: right;\n",
       "  white-space: pre-wrap;\n",
       "}\n",
       "</style>\n",
       "<small>shape: (1_825, 12)</small><table border=\"1\" class=\"dataframe\"><thead><tr><th>time</th><th>rain_mm</th><th>wet_flags_DE_03215</th><th>wet_flags_DE_02718</th><th>wet_flags_DE_04488</th><th>wet_flags_DE_06264</th><th>wet_flags_DE_00390</th><th>wet_flags_DE_01300</th><th>wet_flags_DE_04313</th><th>wet_flags_DE_06303</th><th>wet_flags_DE_00310</th><th>num_neighbours_online</th></tr><tr><td>datetime[μs]</td><td>f64</td><td>i32</td><td>i32</td><td>i32</td><td>i32</td><td>i32</td><td>i32</td><td>i32</td><td>i32</td><td>i32</td><td>i16</td></tr></thead><tbody><tr><td>2006-01-01 07:00:00</td><td>0.2</td><td>null</td><td>0</td><td>null</td><td>0</td><td>0</td><td>0</td><td>0</td><td>0</td><td>0</td><td>7</td></tr><tr><td>2006-01-02 07:00:00</td><td>0.0</td><td>null</td><td>0</td><td>null</td><td>0</td><td>0</td><td>0</td><td>0</td><td>0</td><td>0</td><td>7</td></tr><tr><td>2006-01-03 07:00:00</td><td>0.0</td><td>null</td><td>0</td><td>null</td><td>0</td><td>0</td><td>0</td><td>0</td><td>0</td><td>0</td><td>7</td></tr><tr><td>2006-01-04 07:00:00</td><td>0.0</td><td>null</td><td>0</td><td>null</td><td>0</td><td>0</td><td>0</td><td>0</td><td>0</td><td>0</td><td>7</td></tr><tr><td>2006-01-05 07:00:00</td><td>0.0</td><td>null</td><td>0</td><td>null</td><td>0</td><td>0</td><td>0</td><td>0</td><td>0</td><td>0</td><td>7</td></tr><tr><td>&hellip;</td><td>&hellip;</td><td>&hellip;</td><td>&hellip;</td><td>&hellip;</td><td>&hellip;</td><td>&hellip;</td><td>&hellip;</td><td>&hellip;</td><td>&hellip;</td><td>&hellip;</td><td>&hellip;</td></tr><tr><td>2010-12-26 07:00:00</td><td>0.2</td><td>0</td><td>0</td><td>0</td><td>0</td><td>0</td><td>0</td><td>0</td><td>0</td><td>0</td><td>9</td></tr><tr><td>2010-12-27 07:00:00</td><td>0.0</td><td>0</td><td>0</td><td>0</td><td>0</td><td>0</td><td>0</td><td>0</td><td>0</td><td>0</td><td>9</td></tr><tr><td>2010-12-28 07:00:00</td><td>0.0</td><td>0</td><td>0</td><td>0</td><td>0</td><td>0</td><td>0</td><td>0</td><td>0</td><td>0</td><td>9</td></tr><tr><td>2010-12-29 07:00:00</td><td>0.0</td><td>0</td><td>0</td><td>0</td><td>0</td><td>0</td><td>0</td><td>0</td><td>0</td><td>0</td><td>9</td></tr><tr><td>2010-12-30 07:00:00</td><td>0.0</td><td>0</td><td>0</td><td>0</td><td>0</td><td>0</td><td>0</td><td>0</td><td>0</td><td>0</td><td>9</td></tr></tbody></table></div>"
      ]
     },
     "execution_count": 91,
     "metadata": {},
     "output_type": "execute_result"
    }
   ],
   "execution_count": 91
  },
  {
   "cell_type": "code",
   "id": "5ab90ca0",
   "metadata": {
    "ExecuteTime": {
     "end_time": "2025-04-17T09:05:30.777293Z",
     "start_time": "2025-04-17T09:05:30.770344Z"
    }
   },
   "source": [
    "all_data_num_neighbours[\"num_neighbours_online\"].value_counts()"
   ],
   "outputs": [
    {
     "data": {
      "text/plain": [
       "shape: (8, 2)\n",
       "┌───────────────────────┬───────┐\n",
       "│ num_neighbours_online ┆ count │\n",
       "│ ---                   ┆ ---   │\n",
       "│ i16                   ┆ u32   │\n",
       "╞═══════════════════════╪═══════╡\n",
       "│ 0                     ┆ 65    │\n",
       "│ 4                     ┆ 1     │\n",
       "│ 3                     ┆ 1     │\n",
       "│ 9                     ┆ 1210  │\n",
       "│ 6                     ┆ 9     │\n",
       "│ 7                     ┆ 203   │\n",
       "│ 5                     ┆ 1     │\n",
       "│ 8                     ┆ 335   │\n",
       "└───────────────────────┴───────┘"
      ],
      "text/html": [
       "<div><style>\n",
       ".dataframe > thead > tr,\n",
       ".dataframe > tbody > tr {\n",
       "  text-align: right;\n",
       "  white-space: pre-wrap;\n",
       "}\n",
       "</style>\n",
       "<small>shape: (8, 2)</small><table border=\"1\" class=\"dataframe\"><thead><tr><th>num_neighbours_online</th><th>count</th></tr><tr><td>i16</td><td>u32</td></tr></thead><tbody><tr><td>0</td><td>65</td></tr><tr><td>4</td><td>1</td></tr><tr><td>3</td><td>1</td></tr><tr><td>9</td><td>1210</td></tr><tr><td>6</td><td>9</td></tr><tr><td>7</td><td>203</td></tr><tr><td>5</td><td>1</td></tr><tr><td>8</td><td>335</td></tr></tbody></table></div>"
      ]
     },
     "execution_count": 92,
     "metadata": {},
     "output_type": "execute_result"
    }
   ],
   "execution_count": 92
  },
  {
   "cell_type": "code",
   "id": "d8fd033a",
   "metadata": {
    "ExecuteTime": {
     "end_time": "2025-04-17T09:05:30.987124Z",
     "start_time": "2025-04-17T09:05:30.976006Z"
    }
   },
   "source": [
    "all_data.filter(pl.col(\"wet_flags_DE_00310\") == 2)[0]"
   ],
   "outputs": [
    {
     "data": {
      "text/plain": [
       "shape: (1, 11)\n",
       "┌────────────┬─────────┬───────────┬───────────┬───┬───────────┬───────────┬───────────┬───────────┐\n",
       "│ time       ┆ rain_mm ┆ wet_flags ┆ wet_flags ┆ … ┆ wet_flags ┆ wet_flags ┆ wet_flags ┆ wet_flags │\n",
       "│ ---        ┆ ---     ┆ _DE_03215 ┆ _DE_02718 ┆   ┆ _DE_01300 ┆ _DE_04313 ┆ _DE_06303 ┆ _DE_00310 │\n",
       "│ datetime[μ ┆ f64     ┆ ---       ┆ ---       ┆   ┆ ---       ┆ ---       ┆ ---       ┆ ---       │\n",
       "│ s]         ┆         ┆ i32       ┆ i32       ┆   ┆ i32       ┆ i32       ┆ i32       ┆ i32       │\n",
       "╞════════════╪═════════╪═══════════╪═══════════╪═══╪═══════════╪═══════════╪═══════════╪═══════════╡\n",
       "│ 2006-12-23 ┆ 131.3   ┆ null      ┆ 3         ┆ … ┆ 2         ┆ 3         ┆ 2         ┆ 2         │\n",
       "│ 07:00:00   ┆         ┆           ┆           ┆   ┆           ┆           ┆           ┆           │\n",
       "└────────────┴─────────┴───────────┴───────────┴───┴───────────┴───────────┴───────────┴───────────┘"
      ],
      "text/html": [
       "<div><style>\n",
       ".dataframe > thead > tr,\n",
       ".dataframe > tbody > tr {\n",
       "  text-align: right;\n",
       "  white-space: pre-wrap;\n",
       "}\n",
       "</style>\n",
       "<small>shape: (1, 11)</small><table border=\"1\" class=\"dataframe\"><thead><tr><th>time</th><th>rain_mm</th><th>wet_flags_DE_03215</th><th>wet_flags_DE_02718</th><th>wet_flags_DE_04488</th><th>wet_flags_DE_06264</th><th>wet_flags_DE_00390</th><th>wet_flags_DE_01300</th><th>wet_flags_DE_04313</th><th>wet_flags_DE_06303</th><th>wet_flags_DE_00310</th></tr><tr><td>datetime[μs]</td><td>f64</td><td>i32</td><td>i32</td><td>i32</td><td>i32</td><td>i32</td><td>i32</td><td>i32</td><td>i32</td><td>i32</td></tr></thead><tbody><tr><td>2006-12-23 07:00:00</td><td>131.3</td><td>null</td><td>3</td><td>2</td><td>3</td><td>3</td><td>2</td><td>3</td><td>2</td><td>2</td></tr></tbody></table></div>"
      ]
     },
     "execution_count": 93,
     "metadata": {},
     "output_type": "execute_result"
    }
   ],
   "execution_count": 93
  },
  {
   "cell_type": "markdown",
   "id": "2301910e",
   "metadata": {},
   "source": [
    "#### Step 3. Majority voting flags for the target"
   ]
  },
  {
   "cell_type": "code",
   "id": "d2dc1faf",
   "metadata": {
    "ExecuteTime": {
     "end_time": "2025-04-17T09:05:31.319076Z",
     "start_time": "2025-04-17T09:05:31.302826Z"
    }
   },
   "source": [
    "all_data_wet_flags = all_data_num_neighbours.with_columns(\n",
    "    pl.when(pl.col(\"num_neighbours_online\") < MIN_NUM_NEIGHBOURS)\n",
    "    .then(np.nan)\n",
    "    .otherwise(\n",
    "        pl.min_horizontal(pl.all().exclude(\"time\", rain_col, \"num_neighbours_online\"))\n",
    "    )\n",
    "    .alias(\"wet_flags\")\n",
    ")"
   ],
   "outputs": [],
   "execution_count": 94
  },
  {
   "cell_type": "code",
   "id": "862bc579",
   "metadata": {
    "ExecuteTime": {
     "end_time": "2025-04-17T09:05:31.893961Z",
     "start_time": "2025-04-17T09:05:31.880579Z"
    }
   },
   "source": [
    "all_data_wet_flags[\"wet_flags\"].value_counts()"
   ],
   "outputs": [
    {
     "data": {
      "text/plain": [
       "shape: (4, 2)\n",
       "┌───────────┬───────┐\n",
       "│ wet_flags ┆ count │\n",
       "│ ---       ┆ ---   │\n",
       "│ f64       ┆ u32   │\n",
       "╞═══════════╪═══════╡\n",
       "│ 2.0       ┆ 1     │\n",
       "│ NaN       ┆ 65    │\n",
       "│ 3.0       ┆ 2     │\n",
       "│ 0.0       ┆ 1757  │\n",
       "└───────────┴───────┘"
      ],
      "text/html": [
       "<div><style>\n",
       ".dataframe > thead > tr,\n",
       ".dataframe > tbody > tr {\n",
       "  text-align: right;\n",
       "  white-space: pre-wrap;\n",
       "}\n",
       "</style>\n",
       "<small>shape: (4, 2)</small><table border=\"1\" class=\"dataframe\"><thead><tr><th>wet_flags</th><th>count</th></tr><tr><td>f64</td><td>u32</td></tr></thead><tbody><tr><td>2.0</td><td>1</td></tr><tr><td>NaN</td><td>65</td></tr><tr><td>3.0</td><td>2</td></tr><tr><td>0.0</td><td>1757</td></tr></tbody></table></div>"
      ]
     },
     "execution_count": 95,
     "metadata": {},
     "output_type": "execute_result"
    }
   ],
   "execution_count": 95
  },
  {
   "metadata": {},
   "cell_type": "markdown",
   "source": "## Step 4. Join back to hourly data",
   "id": "c268ad6930fa3cab"
  },
  {
   "metadata": {
    "ExecuteTime": {
     "end_time": "2025-04-17T09:05:32.248719Z",
     "start_time": "2025-04-17T09:05:32.233262Z"
    }
   },
   "cell_type": "code",
   "source": [
    "target_gauge_w_wet_flags = target_gauge.join(\n",
    "    all_data_wet_flags[[\"time\", \"wet_flags\"]], on=\"time\", how=\"left\"\n",
    ")"
   ],
   "id": "e7e1d1b666e272a3",
   "outputs": [],
   "execution_count": 96
  },
  {
   "metadata": {},
   "cell_type": "markdown",
   "source": "## Step 5. Forward flood-fill",
   "id": "f795623ae054e5da"
  },
  {
   "cell_type": "code",
   "id": "cfbf3988",
   "metadata": {
    "ExecuteTime": {
     "end_time": "2025-04-17T09:05:32.609798Z",
     "start_time": "2025-04-17T09:05:32.595147Z"
    }
   },
   "source": [
    "## Forward flood-fill data to convert the flags back to hourly\n",
    "target_gauge_w_wet_flags = target_gauge_w_wet_flags.with_columns(\n",
    "    pl.col(\"wet_flags\").forward_fill(limit=23)\n",
    ")"
   ],
   "outputs": [],
   "execution_count": 97
  },
  {
   "metadata": {
    "ExecuteTime": {
     "end_time": "2025-04-17T09:05:32.996781Z",
     "start_time": "2025-04-17T09:05:32.982908Z"
    }
   },
   "cell_type": "code",
   "source": [
    "target_gauge_w_wet_flags[\"wet_flags\"].value_counts()"
   ],
   "id": "6b0f28f4ff8c6c1b",
   "outputs": [
    {
     "data": {
      "text/plain": [
       "shape: (5, 2)\n",
       "┌───────────┬───────┐\n",
       "│ wet_flags ┆ count │\n",
       "│ ---       ┆ ---   │\n",
       "│ f64       ┆ u32   │\n",
       "╞═══════════╪═══════╡\n",
       "│ 2.0       ┆ 24    │\n",
       "│ 3.0       ┆ 48    │\n",
       "│ NaN       ┆ 1560  │\n",
       "│ 0.0       ┆ 42168 │\n",
       "│ null      ┆ 24    │\n",
       "└───────────┴───────┘"
      ],
      "text/html": [
       "<div><style>\n",
       ".dataframe > thead > tr,\n",
       ".dataframe > tbody > tr {\n",
       "  text-align: right;\n",
       "  white-space: pre-wrap;\n",
       "}\n",
       "</style>\n",
       "<small>shape: (5, 2)</small><table border=\"1\" class=\"dataframe\"><thead><tr><th>wet_flags</th><th>count</th></tr><tr><td>f64</td><td>u32</td></tr></thead><tbody><tr><td>2.0</td><td>24</td></tr><tr><td>3.0</td><td>48</td></tr><tr><td>NaN</td><td>1560</td></tr><tr><td>0.0</td><td>42168</td></tr><tr><td>null</td><td>24</td></tr></tbody></table></div>"
      ]
     },
     "execution_count": 98,
     "metadata": {},
     "output_type": "execute_result"
    }
   ],
   "execution_count": 98
  },
  {
   "cell_type": "markdown",
   "id": "75c95086-cd30-4232-a598-98c6ba4744d8",
   "metadata": {},
   "source": [
    "# QC18 - Daily neighbours (dry) \n",
    "[Back to Index](#Table-of-contents)\n",
    "\n",
    "#### Differences from `intense-qc`: \n",
    "- "
   ]
  },
  {
   "cell_type": "code",
   "id": "e9af69ec",
   "metadata": {
    "ExecuteTime": {
     "end_time": "2025-04-17T09:05:33.255558Z",
     "start_time": "2025-04-17T09:05:33.250909Z"
    }
   },
   "source": [
    "DRY_PERIOD_DAYS = 15"
   ],
   "outputs": [],
   "execution_count": 99
  },
  {
   "cell_type": "code",
   "id": "88ecedfe",
   "metadata": {
    "ExecuteTime": {
     "end_time": "2025-04-17T09:05:33.326854Z",
     "start_time": "2025-04-17T09:05:33.318047Z"
    }
   },
   "source": [
    "fraction_drydays = {}\n",
    "for d in range(1, 3 + 1):\n",
    "    fraction_drydays[str(d)] = np.trunc(\n",
    "        (1.0 - (float(d) / DRY_PERIOD_DAYS)) * 10**2\n",
    "    ) / (10**2)"
   ],
   "outputs": [],
   "execution_count": 100
  },
  {
   "cell_type": "markdown",
   "id": "fc02c484",
   "metadata": {},
   "source": [
    "#### Step 1. Loop through each neighbour and compare to target"
   ]
  },
  {
   "cell_type": "code",
   "id": "d71da2c1",
   "metadata": {
    "ExecuteTime": {
     "end_time": "2025-04-17T09:05:33.983147Z",
     "start_time": "2025-04-17T09:05:33.549647Z"
    }
   },
   "source": [
    "all_data = target_gauge_daily.clone()\n",
    "\n",
    "for gpcc_id_to_use, gpcc_path in existing_gpcc_daily_paths.items():\n",
    "    ## 0. Load GPCC data\n",
    "    gpcc_id_name = gpcc_id_to_use.split(\"DE_\")[1].lstrip(\"0\")\n",
    "    gpcc_col_name = f\"{rain_col}_GPCC_{gpcc_id_name}\"\n",
    "    if len(gpcc_path) == 0:\n",
    "        continue\n",
    "    f = zipfile.ZipFile(gpcc_path[0]).open(f\"tw_{gpcc_id_name}.dat\")\n",
    "    example_gpcc = pl.from_pandas(pd.read_csv(f, skiprows=1, header=None, sep=r\"\\s+\"))\n",
    "\n",
    "    ## 1. drop unnecessary columns\n",
    "    example_gpcc = example_gpcc.drop([str(i) for i in range(4, 16)])\n",
    "\n",
    "    ## 2. make datetime column (apparently it's 7am-7pm)\n",
    "    example_gpcc = example_gpcc.with_columns(\n",
    "        pl.datetime(pl.col(\"2\"), pl.col(\"1\"), pl.col(\"0\"), 7).alias(\"time\")\n",
    "    ).drop([\"0\", \"1\", \"2\"])\n",
    "\n",
    "    ## 3. rename and reorder\n",
    "    example_gpcc = example_gpcc.rename({\"3\": rain_col})\n",
    "    example_gpcc = example_gpcc.select([\"time\", rain_col])  ## Reorder (to look nice)\n",
    "\n",
    "    ## 4. join to target data\n",
    "    joined_gauges_gpcc = target_gauge_daily.join(\n",
    "        example_gpcc, on=\"time\", suffix=f\"_GPCC_{gpcc_id_name}\"\n",
    "    )\n",
    "    joined_gauges_gpcc = joined_gauges_gpcc.drop_nans()\n",
    "\n",
    "    ## 5. convert to dry spell\n",
    "    joined_gauges_gpcc_dry_spell = joined_gauges_gpcc.with_columns(\n",
    "        pl.col(rain_col)\n",
    "        .map_batches(\n",
    "            lambda row: convert_to_dry_spell(row, DRY_PERIOD_DAYS, col_name=rain_col)\n",
    "        )\n",
    "        .alias(\"dry_spell_fraction\"),\n",
    "        pl.col(gpcc_col_name)\n",
    "        .map_batches(\n",
    "            lambda row: convert_to_dry_spell(\n",
    "                row, DRY_PERIOD_DAYS, col_name=gpcc_col_name\n",
    "            )\n",
    "        )\n",
    "        .alias(f\"dry_spell_fraction_{gpcc_id}\"),\n",
    "    )\n",
    "\n",
    "    ## 7. Assign dry flags\n",
    "    joined_gauges_gpcc_dry_flags = joined_gauges_gpcc_dry_spell.with_columns(\n",
    "        pl.when(\n",
    "            (pl.col(\"dry_spell_fraction\") == 1.0)\n",
    "            & (pl.col(f\"dry_spell_fraction_{gpcc_id}\") == 1.0)\n",
    "        )\n",
    "        .then(0)\n",
    "        .when(\n",
    "            (pl.col(\"dry_spell_fraction\") == 1.0)\n",
    "            & (pl.col(f\"dry_spell_fraction_{gpcc_id}\") < 1.0)\n",
    "            & (pl.col(f\"dry_spell_fraction_{gpcc_id}\") >= fraction_drydays[\"1\"]),\n",
    "        )\n",
    "        .then(1)\n",
    "        .when(\n",
    "            (pl.col(\"dry_spell_fraction\") == 1.0)\n",
    "            & (pl.col(f\"dry_spell_fraction_{gpcc_id}\") < fraction_drydays[\"1\"])\n",
    "            & (pl.col(f\"dry_spell_fraction_{gpcc_id}\") >= fraction_drydays[\"2\"]),\n",
    "        )\n",
    "        .then(2)\n",
    "        .when(\n",
    "            (pl.col(\"dry_spell_fraction\") == 1.0)\n",
    "            & (pl.col(f\"dry_spell_fraction_{gpcc_id}\") < fraction_drydays[\"2\"])\n",
    "        )\n",
    "        .then(3)\n",
    "        .otherwise(0)\n",
    "        .alias(f\"dry_flags_{gpcc_id_to_use}\")\n",
    "    )\n",
    "\n",
    "    print(\n",
    "        gpcc_id_to_use,\n",
    "        joined_gauges_gpcc_dry_flags[f\"dry_flags_{gpcc_id_to_use}\"].value_counts(),\n",
    "    )\n",
    "\n",
    "    ## 8. Join to all data\n",
    "    all_data = all_data.join(\n",
    "        joined_gauges_gpcc_dry_flags[[\"time\", f\"dry_flags_{gpcc_id_to_use}\"]],\n",
    "        on=\"time\",\n",
    "        how=\"left\",\n",
    "    )"
   ],
   "outputs": [
    {
     "name": "stdout",
     "output_type": "stream",
     "text": [
      "DE_03215 shape: (4, 2)\n",
      "┌────────────────────┬───────┐\n",
      "│ dry_flags_DE_03215 ┆ count │\n",
      "│ ---                ┆ ---   │\n",
      "│ i32                ┆ u32   │\n",
      "╞════════════════════╪═══════╡\n",
      "│ 0                  ┆ 1125  │\n",
      "│ 3                  ┆ 126   │\n",
      "│ 1                  ┆ 1     │\n",
      "│ 2                  ┆ 4     │\n",
      "└────────────────────┴───────┘\n",
      "DE_06303 shape: (3, 2)\n",
      "┌────────────────────┬───────┐\n",
      "│ dry_flags_DE_06303 ┆ count │\n",
      "│ ---                ┆ ---   │\n",
      "│ i32                ┆ u32   │\n",
      "╞════════════════════╪═══════╡\n",
      "│ 0                  ┆ 1628  │\n",
      "│ 2                  ┆ 1     │\n",
      "│ 3                  ┆ 130   │\n",
      "└────────────────────┴───────┘\n",
      "DE_00310 shape: (4, 2)\n",
      "┌────────────────────┬───────┐\n",
      "│ dry_flags_DE_00310 ┆ count │\n",
      "│ ---                ┆ ---   │\n",
      "│ i32                ┆ u32   │\n",
      "╞════════════════════╪═══════╡\n",
      "│ 0                  ┆ 1628  │\n",
      "│ 1                  ┆ 1     │\n",
      "│ 2                  ┆ 4     │\n",
      "│ 3                  ┆ 126   │\n",
      "└────────────────────┴───────┘\n"
     ]
    }
   ],
   "execution_count": 101
  },
  {
   "cell_type": "code",
   "id": "a268b392",
   "metadata": {
    "ExecuteTime": {
     "end_time": "2025-04-17T09:05:34.145969Z",
     "start_time": "2025-04-17T09:05:34.142875Z"
    }
   },
   "source": "",
   "outputs": [],
   "execution_count": null
  },
  {
   "cell_type": "markdown",
   "id": "9de84401",
   "metadata": {},
   "source": "#### Step 2. Calculate num neighbours online"
  },
  {
   "cell_type": "code",
   "id": "4758c59e",
   "metadata": {
    "ExecuteTime": {
     "end_time": "2025-04-17T09:05:34.247773Z",
     "start_time": "2025-04-17T09:05:34.238795Z"
    }
   },
   "source": [
    "## global determining the minimum number of non-null neighbours to count flags\n",
    "MIN_NUM_NEIGHBOURS = 2  # original method is 3"
   ],
   "outputs": [],
   "execution_count": 102
  },
  {
   "cell_type": "code",
   "id": "dc9fec01",
   "metadata": {
    "ExecuteTime": {
     "end_time": "2025-04-17T09:05:34.382546Z",
     "start_time": "2025-04-17T09:05:34.369238Z"
    }
   },
   "source": [
    "all_data.head()"
   ],
   "outputs": [
    {
     "data": {
      "text/plain": [
       "shape: (5, 5)\n",
       "┌─────────────────────┬─────────┬────────────────────┬────────────────────┬────────────────────┐\n",
       "│ time                ┆ rain_mm ┆ dry_flags_DE_03215 ┆ dry_flags_DE_06303 ┆ dry_flags_DE_00310 │\n",
       "│ ---                 ┆ ---     ┆ ---                ┆ ---                ┆ ---                │\n",
       "│ datetime[μs]        ┆ f64     ┆ i32                ┆ i32                ┆ i32                │\n",
       "╞═════════════════════╪═════════╪════════════════════╪════════════════════╪════════════════════╡\n",
       "│ 2006-01-01 07:00:00 ┆ 0.2     ┆ null               ┆ 0                  ┆ 0                  │\n",
       "│ 2006-01-02 07:00:00 ┆ 0.0     ┆ null               ┆ 0                  ┆ 0                  │\n",
       "│ 2006-01-03 07:00:00 ┆ 0.0     ┆ null               ┆ 0                  ┆ 0                  │\n",
       "│ 2006-01-04 07:00:00 ┆ 0.0     ┆ null               ┆ 0                  ┆ 0                  │\n",
       "│ 2006-01-05 07:00:00 ┆ 0.0     ┆ null               ┆ 0                  ┆ 0                  │\n",
       "└─────────────────────┴─────────┴────────────────────┴────────────────────┴────────────────────┘"
      ],
      "text/html": [
       "<div><style>\n",
       ".dataframe > thead > tr,\n",
       ".dataframe > tbody > tr {\n",
       "  text-align: right;\n",
       "  white-space: pre-wrap;\n",
       "}\n",
       "</style>\n",
       "<small>shape: (5, 5)</small><table border=\"1\" class=\"dataframe\"><thead><tr><th>time</th><th>rain_mm</th><th>dry_flags_DE_03215</th><th>dry_flags_DE_06303</th><th>dry_flags_DE_00310</th></tr><tr><td>datetime[μs]</td><td>f64</td><td>i32</td><td>i32</td><td>i32</td></tr></thead><tbody><tr><td>2006-01-01 07:00:00</td><td>0.2</td><td>null</td><td>0</td><td>0</td></tr><tr><td>2006-01-02 07:00:00</td><td>0.0</td><td>null</td><td>0</td><td>0</td></tr><tr><td>2006-01-03 07:00:00</td><td>0.0</td><td>null</td><td>0</td><td>0</td></tr><tr><td>2006-01-04 07:00:00</td><td>0.0</td><td>null</td><td>0</td><td>0</td></tr><tr><td>2006-01-05 07:00:00</td><td>0.0</td><td>null</td><td>0</td><td>0</td></tr></tbody></table></div>"
      ]
     },
     "execution_count": 103,
     "metadata": {},
     "output_type": "execute_result"
    }
   ],
   "execution_count": 103
  },
  {
   "cell_type": "code",
   "id": "25aa59b9",
   "metadata": {
    "ExecuteTime": {
     "end_time": "2025-04-17T09:05:34.539872Z",
     "start_time": "2025-04-17T09:05:34.530673Z"
    }
   },
   "source": [
    "num_neighbours = len(all_data.columns[2:])\n",
    "num_neighbours"
   ],
   "outputs": [
    {
     "data": {
      "text/plain": [
       "3"
      ]
     },
     "execution_count": 104,
     "metadata": {},
     "output_type": "execute_result"
    }
   ],
   "execution_count": 104
  },
  {
   "cell_type": "code",
   "id": "211d9914",
   "metadata": {
    "ExecuteTime": {
     "end_time": "2025-04-17T09:05:34.905817Z",
     "start_time": "2025-04-17T09:05:34.889567Z"
    }
   },
   "source": [
    "all_data_num_neighbours = all_data.with_columns(\n",
    "    (\n",
    "        num_neighbours\n",
    "        - pl.sum_horizontal(pl.all().exclude(\"time\").is_null().cast(pl.Int16))\n",
    "    ).alias(\"num_neighbours_online\")\n",
    ")\n",
    "all_data_num_neighbours"
   ],
   "outputs": [
    {
     "data": {
      "text/plain": [
       "shape: (1_825, 6)\n",
       "┌─────────────────┬─────────┬─────────────────┬─────────────────┬─────────────────┬────────────────┐\n",
       "│ time            ┆ rain_mm ┆ dry_flags_DE_03 ┆ dry_flags_DE_06 ┆ dry_flags_DE_00 ┆ num_neighbours │\n",
       "│ ---             ┆ ---     ┆ 215             ┆ 303             ┆ 310             ┆ _online        │\n",
       "│ datetime[μs]    ┆ f64     ┆ ---             ┆ ---             ┆ ---             ┆ ---            │\n",
       "│                 ┆         ┆ i32             ┆ i32             ┆ i32             ┆ i16            │\n",
       "╞═════════════════╪═════════╪═════════════════╪═════════════════╪═════════════════╪════════════════╡\n",
       "│ 2006-01-01      ┆ 0.2     ┆ null            ┆ 0               ┆ 0               ┆ 2              │\n",
       "│ 07:00:00        ┆         ┆                 ┆                 ┆                 ┆                │\n",
       "│ 2006-01-02      ┆ 0.0     ┆ null            ┆ 0               ┆ 0               ┆ 2              │\n",
       "│ 07:00:00        ┆         ┆                 ┆                 ┆                 ┆                │\n",
       "│ 2006-01-03      ┆ 0.0     ┆ null            ┆ 0               ┆ 0               ┆ 2              │\n",
       "│ 07:00:00        ┆         ┆                 ┆                 ┆                 ┆                │\n",
       "│ 2006-01-04      ┆ 0.0     ┆ null            ┆ 0               ┆ 0               ┆ 2              │\n",
       "│ 07:00:00        ┆         ┆                 ┆                 ┆                 ┆                │\n",
       "│ 2006-01-05      ┆ 0.0     ┆ null            ┆ 0               ┆ 0               ┆ 2              │\n",
       "│ 07:00:00        ┆         ┆                 ┆                 ┆                 ┆                │\n",
       "│ …               ┆ …       ┆ …               ┆ …               ┆ …               ┆ …              │\n",
       "│ 2010-12-26      ┆ 0.2     ┆ 0               ┆ 0               ┆ 0               ┆ 3              │\n",
       "│ 07:00:00        ┆         ┆                 ┆                 ┆                 ┆                │\n",
       "│ 2010-12-27      ┆ 0.0     ┆ 0               ┆ 0               ┆ 0               ┆ 3              │\n",
       "│ 07:00:00        ┆         ┆                 ┆                 ┆                 ┆                │\n",
       "│ 2010-12-28      ┆ 0.0     ┆ 0               ┆ 0               ┆ 0               ┆ 3              │\n",
       "│ 07:00:00        ┆         ┆                 ┆                 ┆                 ┆                │\n",
       "│ 2010-12-29      ┆ 0.0     ┆ 0               ┆ 0               ┆ 0               ┆ 3              │\n",
       "│ 07:00:00        ┆         ┆                 ┆                 ┆                 ┆                │\n",
       "│ 2010-12-30      ┆ 0.0     ┆ 0               ┆ 0               ┆ 0               ┆ 3              │\n",
       "│ 07:00:00        ┆         ┆                 ┆                 ┆                 ┆                │\n",
       "└─────────────────┴─────────┴─────────────────┴─────────────────┴─────────────────┴────────────────┘"
      ],
      "text/html": [
       "<div><style>\n",
       ".dataframe > thead > tr,\n",
       ".dataframe > tbody > tr {\n",
       "  text-align: right;\n",
       "  white-space: pre-wrap;\n",
       "}\n",
       "</style>\n",
       "<small>shape: (1_825, 6)</small><table border=\"1\" class=\"dataframe\"><thead><tr><th>time</th><th>rain_mm</th><th>dry_flags_DE_03215</th><th>dry_flags_DE_06303</th><th>dry_flags_DE_00310</th><th>num_neighbours_online</th></tr><tr><td>datetime[μs]</td><td>f64</td><td>i32</td><td>i32</td><td>i32</td><td>i16</td></tr></thead><tbody><tr><td>2006-01-01 07:00:00</td><td>0.2</td><td>null</td><td>0</td><td>0</td><td>2</td></tr><tr><td>2006-01-02 07:00:00</td><td>0.0</td><td>null</td><td>0</td><td>0</td><td>2</td></tr><tr><td>2006-01-03 07:00:00</td><td>0.0</td><td>null</td><td>0</td><td>0</td><td>2</td></tr><tr><td>2006-01-04 07:00:00</td><td>0.0</td><td>null</td><td>0</td><td>0</td><td>2</td></tr><tr><td>2006-01-05 07:00:00</td><td>0.0</td><td>null</td><td>0</td><td>0</td><td>2</td></tr><tr><td>&hellip;</td><td>&hellip;</td><td>&hellip;</td><td>&hellip;</td><td>&hellip;</td><td>&hellip;</td></tr><tr><td>2010-12-26 07:00:00</td><td>0.2</td><td>0</td><td>0</td><td>0</td><td>3</td></tr><tr><td>2010-12-27 07:00:00</td><td>0.0</td><td>0</td><td>0</td><td>0</td><td>3</td></tr><tr><td>2010-12-28 07:00:00</td><td>0.0</td><td>0</td><td>0</td><td>0</td><td>3</td></tr><tr><td>2010-12-29 07:00:00</td><td>0.0</td><td>0</td><td>0</td><td>0</td><td>3</td></tr><tr><td>2010-12-30 07:00:00</td><td>0.0</td><td>0</td><td>0</td><td>0</td><td>3</td></tr></tbody></table></div>"
      ]
     },
     "execution_count": 105,
     "metadata": {},
     "output_type": "execute_result"
    }
   ],
   "execution_count": 105
  },
  {
   "cell_type": "code",
   "id": "61a97b60",
   "metadata": {
    "ExecuteTime": {
     "end_time": "2025-04-17T09:05:35.261231Z",
     "start_time": "2025-04-17T09:05:35.251867Z"
    }
   },
   "source": [
    "all_data_num_neighbours[\"num_neighbours_online\"].value_counts()"
   ],
   "outputs": [
    {
     "data": {
      "text/plain": [
       "shape: (3, 2)\n",
       "┌───────────────────────┬───────┐\n",
       "│ num_neighbours_online ┆ count │\n",
       "│ ---                   ┆ ---   │\n",
       "│ i16                   ┆ u32   │\n",
       "╞═══════════════════════╪═══════╡\n",
       "│ 0                     ┆ 66    │\n",
       "│ 3                     ┆ 1256  │\n",
       "│ 2                     ┆ 503   │\n",
       "└───────────────────────┴───────┘"
      ],
      "text/html": [
       "<div><style>\n",
       ".dataframe > thead > tr,\n",
       ".dataframe > tbody > tr {\n",
       "  text-align: right;\n",
       "  white-space: pre-wrap;\n",
       "}\n",
       "</style>\n",
       "<small>shape: (3, 2)</small><table border=\"1\" class=\"dataframe\"><thead><tr><th>num_neighbours_online</th><th>count</th></tr><tr><td>i16</td><td>u32</td></tr></thead><tbody><tr><td>0</td><td>66</td></tr><tr><td>3</td><td>1256</td></tr><tr><td>2</td><td>503</td></tr></tbody></table></div>"
      ]
     },
     "execution_count": 106,
     "metadata": {},
     "output_type": "execute_result"
    }
   ],
   "execution_count": 106
  },
  {
   "cell_type": "code",
   "id": "f7d3e7b8",
   "metadata": {
    "ExecuteTime": {
     "end_time": "2025-04-17T09:05:35.590922Z",
     "start_time": "2025-04-17T09:05:35.579989Z"
    }
   },
   "source": [
    "all_data.filter(pl.col(\"dry_flags_DE_03215\") == 1)"
   ],
   "outputs": [
    {
     "data": {
      "text/plain": [
       "shape: (1, 5)\n",
       "┌─────────────────────┬─────────┬────────────────────┬────────────────────┬────────────────────┐\n",
       "│ time                ┆ rain_mm ┆ dry_flags_DE_03215 ┆ dry_flags_DE_06303 ┆ dry_flags_DE_00310 │\n",
       "│ ---                 ┆ ---     ┆ ---                ┆ ---                ┆ ---                │\n",
       "│ datetime[μs]        ┆ f64     ┆ i32                ┆ i32                ┆ i32                │\n",
       "╞═════════════════════╪═════════╪════════════════════╪════════════════════╪════════════════════╡\n",
       "│ 2010-07-04 07:00:00 ┆ 0.0     ┆ 1                  ┆ 3                  ┆ 1                  │\n",
       "└─────────────────────┴─────────┴────────────────────┴────────────────────┴────────────────────┘"
      ],
      "text/html": [
       "<div><style>\n",
       ".dataframe > thead > tr,\n",
       ".dataframe > tbody > tr {\n",
       "  text-align: right;\n",
       "  white-space: pre-wrap;\n",
       "}\n",
       "</style>\n",
       "<small>shape: (1, 5)</small><table border=\"1\" class=\"dataframe\"><thead><tr><th>time</th><th>rain_mm</th><th>dry_flags_DE_03215</th><th>dry_flags_DE_06303</th><th>dry_flags_DE_00310</th></tr><tr><td>datetime[μs]</td><td>f64</td><td>i32</td><td>i32</td><td>i32</td></tr></thead><tbody><tr><td>2010-07-04 07:00:00</td><td>0.0</td><td>1</td><td>3</td><td>1</td></tr></tbody></table></div>"
      ]
     },
     "execution_count": 107,
     "metadata": {},
     "output_type": "execute_result"
    }
   ],
   "execution_count": 107
  },
  {
   "cell_type": "markdown",
   "id": "388aec5b",
   "metadata": {},
   "source": [
    "#### Step 3. Majority voting flags for the target"
   ]
  },
  {
   "cell_type": "code",
   "id": "29e61f18",
   "metadata": {
    "ExecuteTime": {
     "end_time": "2025-04-17T09:05:36.123728Z",
     "start_time": "2025-04-17T09:05:36.111625Z"
    }
   },
   "source": [
    "all_data_dry_flags = all_data_num_neighbours.with_columns(\n",
    "    pl.when(pl.col(\"num_neighbours_online\") < MIN_NUM_NEIGHBOURS)\n",
    "    .then(np.nan)\n",
    "    .otherwise(\n",
    "        pl.min_horizontal(pl.all().exclude(\"time\", rain_col, \"num_neighbours_online\"))\n",
    "    )\n",
    "    .alias(\"dry_flags\")\n",
    ")"
   ],
   "outputs": [],
   "execution_count": 108
  },
  {
   "cell_type": "code",
   "id": "88b871c9",
   "metadata": {
    "ExecuteTime": {
     "end_time": "2025-04-17T09:05:36.442877Z",
     "start_time": "2025-04-17T09:05:36.434960Z"
    }
   },
   "source": [
    "all_data_dry_flags[\"dry_flags\"].value_counts()"
   ],
   "outputs": [
    {
     "data": {
      "text/plain": [
       "shape: (5, 2)\n",
       "┌───────────┬───────┐\n",
       "│ dry_flags ┆ count │\n",
       "│ ---       ┆ ---   │\n",
       "│ f64       ┆ u32   │\n",
       "╞═══════════╪═══════╡\n",
       "│ 1.0       ┆ 1     │\n",
       "│ NaN       ┆ 66    │\n",
       "│ 0.0       ┆ 1628  │\n",
       "│ 3.0       ┆ 125   │\n",
       "│ 2.0       ┆ 5     │\n",
       "└───────────┴───────┘"
      ],
      "text/html": [
       "<div><style>\n",
       ".dataframe > thead > tr,\n",
       ".dataframe > tbody > tr {\n",
       "  text-align: right;\n",
       "  white-space: pre-wrap;\n",
       "}\n",
       "</style>\n",
       "<small>shape: (5, 2)</small><table border=\"1\" class=\"dataframe\"><thead><tr><th>dry_flags</th><th>count</th></tr><tr><td>f64</td><td>u32</td></tr></thead><tbody><tr><td>1.0</td><td>1</td></tr><tr><td>NaN</td><td>66</td></tr><tr><td>0.0</td><td>1628</td></tr><tr><td>3.0</td><td>125</td></tr><tr><td>2.0</td><td>5</td></tr></tbody></table></div>"
      ]
     },
     "execution_count": 109,
     "metadata": {},
     "output_type": "execute_result"
    }
   ],
   "execution_count": 109
  },
  {
   "cell_type": "code",
   "id": "a5afd4a8",
   "metadata": {
    "ExecuteTime": {
     "end_time": "2025-04-17T09:05:36.766730Z",
     "start_time": "2025-04-17T09:05:36.755488Z"
    }
   },
   "source": [
    "all_data_dry_flags.filter((pl.col(\"dry_flags\") > 0) & (pl.col(\"dry_flags\").is_finite()))"
   ],
   "outputs": [
    {
     "data": {
      "text/plain": [
       "shape: (131, 7)\n",
       "┌───────────────┬─────────┬───────────────┬──────────────┬──────────────┬──────────────┬───────────┐\n",
       "│ time          ┆ rain_mm ┆ dry_flags_DE_ ┆ dry_flags_DE ┆ dry_flags_DE ┆ num_neighbou ┆ dry_flags │\n",
       "│ ---           ┆ ---     ┆ 03215         ┆ _06303       ┆ _00310       ┆ rs_online    ┆ ---       │\n",
       "│ datetime[μs]  ┆ f64     ┆ ---           ┆ ---          ┆ ---          ┆ ---          ┆ f64       │\n",
       "│               ┆         ┆ i32           ┆ i32          ┆ i32          ┆ i16          ┆           │\n",
       "╞═══════════════╪═════════╪═══════════════╪══════════════╪══════════════╪══════════════╪═══════════╡\n",
       "│ 2007-10-16    ┆ 0.0     ┆ 2             ┆ 3            ┆ 2            ┆ 3            ┆ 2.0       │\n",
       "│ 07:00:00      ┆         ┆               ┆              ┆              ┆              ┆           │\n",
       "│ 2007-12-26    ┆ 0.0     ┆ 2             ┆ 3            ┆ 2            ┆ 3            ┆ 2.0       │\n",
       "│ 07:00:00      ┆         ┆               ┆              ┆              ┆              ┆           │\n",
       "│ 2007-12-27    ┆ 0.0     ┆ 3             ┆ 3            ┆ 3            ┆ 3            ┆ 3.0       │\n",
       "│ 07:00:00      ┆         ┆               ┆              ┆              ┆              ┆           │\n",
       "│ 2007-12-28    ┆ 0.0     ┆ 3             ┆ 2            ┆ 2            ┆ 3            ┆ 2.0       │\n",
       "│ 07:00:00      ┆         ┆               ┆              ┆              ┆              ┆           │\n",
       "│ 2008-05-13    ┆ 0.0     ┆ 2             ┆ 3            ┆ 2            ┆ 3            ┆ 2.0       │\n",
       "│ 07:00:00      ┆         ┆               ┆              ┆              ┆              ┆           │\n",
       "│ …             ┆ …       ┆ …             ┆ …            ┆ …            ┆ …            ┆ …         │\n",
       "│ 2010-10-26    ┆ 0.0     ┆ 3             ┆ 3            ┆ 3            ┆ 3            ┆ 3.0       │\n",
       "│ 07:00:00      ┆         ┆               ┆              ┆              ┆              ┆           │\n",
       "│ 2010-10-27    ┆ 0.0     ┆ 3             ┆ 3            ┆ 3            ┆ 3            ┆ 3.0       │\n",
       "│ 07:00:00      ┆         ┆               ┆              ┆              ┆              ┆           │\n",
       "│ 2010-10-28    ┆ 0.0     ┆ 3             ┆ 3            ┆ 3            ┆ 3            ┆ 3.0       │\n",
       "│ 07:00:00      ┆         ┆               ┆              ┆              ┆              ┆           │\n",
       "│ 2010-10-29    ┆ 0.0     ┆ 3             ┆ 3            ┆ 3            ┆ 3            ┆ 3.0       │\n",
       "│ 07:00:00      ┆         ┆               ┆              ┆              ┆              ┆           │\n",
       "│ 2010-10-30    ┆ 0.0     ┆ 3             ┆ 3            ┆ 3            ┆ 3            ┆ 3.0       │\n",
       "│ 07:00:00      ┆         ┆               ┆              ┆              ┆              ┆           │\n",
       "└───────────────┴─────────┴───────────────┴──────────────┴──────────────┴──────────────┴───────────┘"
      ],
      "text/html": [
       "<div><style>\n",
       ".dataframe > thead > tr,\n",
       ".dataframe > tbody > tr {\n",
       "  text-align: right;\n",
       "  white-space: pre-wrap;\n",
       "}\n",
       "</style>\n",
       "<small>shape: (131, 7)</small><table border=\"1\" class=\"dataframe\"><thead><tr><th>time</th><th>rain_mm</th><th>dry_flags_DE_03215</th><th>dry_flags_DE_06303</th><th>dry_flags_DE_00310</th><th>num_neighbours_online</th><th>dry_flags</th></tr><tr><td>datetime[μs]</td><td>f64</td><td>i32</td><td>i32</td><td>i32</td><td>i16</td><td>f64</td></tr></thead><tbody><tr><td>2007-10-16 07:00:00</td><td>0.0</td><td>2</td><td>3</td><td>2</td><td>3</td><td>2.0</td></tr><tr><td>2007-12-26 07:00:00</td><td>0.0</td><td>2</td><td>3</td><td>2</td><td>3</td><td>2.0</td></tr><tr><td>2007-12-27 07:00:00</td><td>0.0</td><td>3</td><td>3</td><td>3</td><td>3</td><td>3.0</td></tr><tr><td>2007-12-28 07:00:00</td><td>0.0</td><td>3</td><td>2</td><td>2</td><td>3</td><td>2.0</td></tr><tr><td>2008-05-13 07:00:00</td><td>0.0</td><td>2</td><td>3</td><td>2</td><td>3</td><td>2.0</td></tr><tr><td>&hellip;</td><td>&hellip;</td><td>&hellip;</td><td>&hellip;</td><td>&hellip;</td><td>&hellip;</td><td>&hellip;</td></tr><tr><td>2010-10-26 07:00:00</td><td>0.0</td><td>3</td><td>3</td><td>3</td><td>3</td><td>3.0</td></tr><tr><td>2010-10-27 07:00:00</td><td>0.0</td><td>3</td><td>3</td><td>3</td><td>3</td><td>3.0</td></tr><tr><td>2010-10-28 07:00:00</td><td>0.0</td><td>3</td><td>3</td><td>3</td><td>3</td><td>3.0</td></tr><tr><td>2010-10-29 07:00:00</td><td>0.0</td><td>3</td><td>3</td><td>3</td><td>3</td><td>3.0</td></tr><tr><td>2010-10-30 07:00:00</td><td>0.0</td><td>3</td><td>3</td><td>3</td><td>3</td><td>3.0</td></tr></tbody></table></div>"
      ]
     },
     "execution_count": 110,
     "metadata": {},
     "output_type": "execute_result"
    }
   ],
   "execution_count": 110
  },
  {
   "cell_type": "markdown",
   "id": "1835bae8",
   "metadata": {},
   "source": [
    "### Step 4. Back propogate flags so period previous to flag is also given the same flag\n",
    "Number of days of period set by DRY_PERIOD_DAYS"
   ]
  },
  {
   "cell_type": "code",
   "id": "3467989a",
   "metadata": {
    "ExecuteTime": {
     "end_time": "2025-04-17T09:05:37.039502Z",
     "start_time": "2025-04-17T09:05:37.032261Z"
    }
   },
   "source": [
    "def back_propagate_flags(df, flag_column, num_days):\n",
    "    \"\"\"\n",
    "    Back fill-in flags a number of days. This will prioritise higher flag values\n",
    "\n",
    "    Parameters\n",
    "    ----------\n",
    "    df : polars.DataFrame\n",
    "        Data with `flag_column` series\n",
    "    flag_column : str\n",
    "        column with flags\n",
    "    num_days: int\n",
    "        Number of days to back-propagate\n",
    "    Returns\n",
    "    -------\n",
    "    df\n",
    "\n",
    "    \"\"\"\n",
    "    df = df.clone()\n",
    "    # TODO: automatically extract flag values\n",
    "    flag_values = (\n",
    "        flag for flag in df[flag_column].unique() if (np.isfinite(flag) & (flag > 0))\n",
    "    )\n",
    "    for flag, df_filtered in [\n",
    "        (flag, df.filter(pl.col(flag_column) == flag)) for flag in flag_values\n",
    "    ]:\n",
    "        for time_to_use in df_filtered[\"time\"]:\n",
    "            assert isinstance(\n",
    "                time_to_use, datetime.datetime\n",
    "            ), \"time_to_use must be datetime.datetime\"\n",
    "            start_time = time_to_use - datetime.timedelta(days=num_days)\n",
    "            df = df.with_columns(\n",
    "                pl.when(\n",
    "                    (pl.col(\"time\") >= start_time) & (pl.col(\"time\") <= time_to_use)\n",
    "                )\n",
    "                .then(flag)\n",
    "                .otherwise(pl.col(flag_column))\n",
    "                .alias(flag_column)\n",
    "            )\n",
    "\n",
    "    return df"
   ],
   "outputs": [],
   "execution_count": 111
  },
  {
   "cell_type": "code",
   "id": "6c89fe06",
   "metadata": {
    "ExecuteTime": {
     "end_time": "2025-04-17T09:05:37.302079Z",
     "start_time": "2025-04-17T09:05:37.270787Z"
    }
   },
   "source": [
    "all_data_dry_flags_back_prop = back_propagate_flags(\n",
    "    all_data_dry_flags, flag_column=\"dry_flags\", num_days=(DRY_PERIOD_DAYS - 1)\n",
    ")"
   ],
   "outputs": [],
   "execution_count": 112
  },
  {
   "metadata": {
    "ExecuteTime": {
     "end_time": "2025-04-17T09:05:37.492332Z",
     "start_time": "2025-04-17T09:05:37.484019Z"
    }
   },
   "cell_type": "code",
   "source": [
    "## before:\n",
    "all_data_dry_flags[\"dry_flags\"].value_counts()"
   ],
   "id": "3dccd80a129ad3c3",
   "outputs": [
    {
     "data": {
      "text/plain": [
       "shape: (5, 2)\n",
       "┌───────────┬───────┐\n",
       "│ dry_flags ┆ count │\n",
       "│ ---       ┆ ---   │\n",
       "│ f64       ┆ u32   │\n",
       "╞═══════════╪═══════╡\n",
       "│ 2.0       ┆ 5     │\n",
       "│ 3.0       ┆ 125   │\n",
       "│ NaN       ┆ 66    │\n",
       "│ 1.0       ┆ 1     │\n",
       "│ 0.0       ┆ 1628  │\n",
       "└───────────┴───────┘"
      ],
      "text/html": [
       "<div><style>\n",
       ".dataframe > thead > tr,\n",
       ".dataframe > tbody > tr {\n",
       "  text-align: right;\n",
       "  white-space: pre-wrap;\n",
       "}\n",
       "</style>\n",
       "<small>shape: (5, 2)</small><table border=\"1\" class=\"dataframe\"><thead><tr><th>dry_flags</th><th>count</th></tr><tr><td>f64</td><td>u32</td></tr></thead><tbody><tr><td>2.0</td><td>5</td></tr><tr><td>3.0</td><td>125</td></tr><tr><td>NaN</td><td>66</td></tr><tr><td>1.0</td><td>1</td></tr><tr><td>0.0</td><td>1628</td></tr></tbody></table></div>"
      ]
     },
     "execution_count": 113,
     "metadata": {},
     "output_type": "execute_result"
    }
   ],
   "execution_count": 113
  },
  {
   "cell_type": "code",
   "id": "8534a73f",
   "metadata": {
    "ExecuteTime": {
     "end_time": "2025-04-17T09:05:37.698290Z",
     "start_time": "2025-04-17T09:05:37.687129Z"
    }
   },
   "source": [
    "## after\n",
    "all_data_dry_flags_back_prop[\"dry_flags\"].value_counts()"
   ],
   "outputs": [
    {
     "data": {
      "text/plain": [
       "shape: (5, 2)\n",
       "┌───────────┬───────┐\n",
       "│ dry_flags ┆ count │\n",
       "│ ---       ┆ ---   │\n",
       "│ f64       ┆ u32   │\n",
       "╞═══════════╪═══════╡\n",
       "│ 0.0       ┆ 1516  │\n",
       "│ 2.0       ┆ 33    │\n",
       "│ NaN       ┆ 66    │\n",
       "│ 3.0       ┆ 195   │\n",
       "│ 1.0       ┆ 15    │\n",
       "└───────────┴───────┘"
      ],
      "text/html": [
       "<div><style>\n",
       ".dataframe > thead > tr,\n",
       ".dataframe > tbody > tr {\n",
       "  text-align: right;\n",
       "  white-space: pre-wrap;\n",
       "}\n",
       "</style>\n",
       "<small>shape: (5, 2)</small><table border=\"1\" class=\"dataframe\"><thead><tr><th>dry_flags</th><th>count</th></tr><tr><td>f64</td><td>u32</td></tr></thead><tbody><tr><td>0.0</td><td>1516</td></tr><tr><td>2.0</td><td>33</td></tr><tr><td>NaN</td><td>66</td></tr><tr><td>3.0</td><td>195</td></tr><tr><td>1.0</td><td>15</td></tr></tbody></table></div>"
      ]
     },
     "execution_count": 114,
     "metadata": {},
     "output_type": "execute_result"
    }
   ],
   "execution_count": 114
  },
  {
   "cell_type": "code",
   "id": "393e75b9",
   "metadata": {
    "ExecuteTime": {
     "end_time": "2025-04-17T09:05:38.005035Z",
     "start_time": "2025-04-17T09:05:37.996861Z"
    }
   },
   "source": [
    "all_data_dry_flags_back_prop[845:950]"
   ],
   "outputs": [
    {
     "data": {
      "text/plain": [
       "shape: (105, 7)\n",
       "┌───────────────┬─────────┬───────────────┬──────────────┬──────────────┬──────────────┬───────────┐\n",
       "│ time          ┆ rain_mm ┆ dry_flags_DE_ ┆ dry_flags_DE ┆ dry_flags_DE ┆ num_neighbou ┆ dry_flags │\n",
       "│ ---           ┆ ---     ┆ 03215         ┆ _06303       ┆ _00310       ┆ rs_online    ┆ ---       │\n",
       "│ datetime[μs]  ┆ f64     ┆ ---           ┆ ---          ┆ ---          ┆ ---          ┆ f64       │\n",
       "│               ┆         ┆ i32           ┆ i32          ┆ i32          ┆ i16          ┆           │\n",
       "╞═══════════════╪═════════╪═══════════════╪══════════════╪══════════════╪══════════════╪═══════════╡\n",
       "│ 2008-04-25    ┆ 0.0     ┆ 0             ┆ 0            ┆ 0            ┆ 3            ┆ 0.0       │\n",
       "│ 07:00:00      ┆         ┆               ┆              ┆              ┆              ┆           │\n",
       "│ 2008-04-26    ┆ 0.0     ┆ 0             ┆ 0            ┆ 0            ┆ 3            ┆ 0.0       │\n",
       "│ 07:00:00      ┆         ┆               ┆              ┆              ┆              ┆           │\n",
       "│ 2008-04-27    ┆ 0.0     ┆ 0             ┆ 0            ┆ 0            ┆ 3            ┆ 0.0       │\n",
       "│ 07:00:00      ┆         ┆               ┆              ┆              ┆              ┆           │\n",
       "│ 2008-04-28    ┆ 0.6     ┆ 0             ┆ 0            ┆ 0            ┆ 3            ┆ 0.0       │\n",
       "│ 07:00:00      ┆         ┆               ┆              ┆              ┆              ┆           │\n",
       "│ 2008-04-29    ┆ 0.0     ┆ 0             ┆ 0            ┆ 0            ┆ 3            ┆ 2.0       │\n",
       "│ 07:00:00      ┆         ┆               ┆              ┆              ┆              ┆           │\n",
       "│ …             ┆ …       ┆ …             ┆ …            ┆ …            ┆ …            ┆ …         │\n",
       "│ 2008-08-03    ┆ 0.7     ┆ 0             ┆ 0            ┆ 0            ┆ 3            ┆ 0.0       │\n",
       "│ 07:00:00      ┆         ┆               ┆              ┆              ┆              ┆           │\n",
       "│ 2008-08-04    ┆ 0.1     ┆ 0             ┆ 0            ┆ 0            ┆ 3            ┆ 0.0       │\n",
       "│ 07:00:00      ┆         ┆               ┆              ┆              ┆              ┆           │\n",
       "│ 2008-08-05    ┆ 0.0     ┆ 0             ┆ 0            ┆ 0            ┆ 3            ┆ 0.0       │\n",
       "│ 07:00:00      ┆         ┆               ┆              ┆              ┆              ┆           │\n",
       "│ 2008-08-06    ┆ 0.0     ┆ 0             ┆ 0            ┆ 0            ┆ 3            ┆ 0.0       │\n",
       "│ 07:00:00      ┆         ┆               ┆              ┆              ┆              ┆           │\n",
       "│ 2008-08-07    ┆ 0.2     ┆ 0             ┆ 0            ┆ 0            ┆ 3            ┆ 0.0       │\n",
       "│ 07:00:00      ┆         ┆               ┆              ┆              ┆              ┆           │\n",
       "└───────────────┴─────────┴───────────────┴──────────────┴──────────────┴──────────────┴───────────┘"
      ],
      "text/html": [
       "<div><style>\n",
       ".dataframe > thead > tr,\n",
       ".dataframe > tbody > tr {\n",
       "  text-align: right;\n",
       "  white-space: pre-wrap;\n",
       "}\n",
       "</style>\n",
       "<small>shape: (105, 7)</small><table border=\"1\" class=\"dataframe\"><thead><tr><th>time</th><th>rain_mm</th><th>dry_flags_DE_03215</th><th>dry_flags_DE_06303</th><th>dry_flags_DE_00310</th><th>num_neighbours_online</th><th>dry_flags</th></tr><tr><td>datetime[μs]</td><td>f64</td><td>i32</td><td>i32</td><td>i32</td><td>i16</td><td>f64</td></tr></thead><tbody><tr><td>2008-04-25 07:00:00</td><td>0.0</td><td>0</td><td>0</td><td>0</td><td>3</td><td>0.0</td></tr><tr><td>2008-04-26 07:00:00</td><td>0.0</td><td>0</td><td>0</td><td>0</td><td>3</td><td>0.0</td></tr><tr><td>2008-04-27 07:00:00</td><td>0.0</td><td>0</td><td>0</td><td>0</td><td>3</td><td>0.0</td></tr><tr><td>2008-04-28 07:00:00</td><td>0.6</td><td>0</td><td>0</td><td>0</td><td>3</td><td>0.0</td></tr><tr><td>2008-04-29 07:00:00</td><td>0.0</td><td>0</td><td>0</td><td>0</td><td>3</td><td>2.0</td></tr><tr><td>&hellip;</td><td>&hellip;</td><td>&hellip;</td><td>&hellip;</td><td>&hellip;</td><td>&hellip;</td><td>&hellip;</td></tr><tr><td>2008-08-03 07:00:00</td><td>0.7</td><td>0</td><td>0</td><td>0</td><td>3</td><td>0.0</td></tr><tr><td>2008-08-04 07:00:00</td><td>0.1</td><td>0</td><td>0</td><td>0</td><td>3</td><td>0.0</td></tr><tr><td>2008-08-05 07:00:00</td><td>0.0</td><td>0</td><td>0</td><td>0</td><td>3</td><td>0.0</td></tr><tr><td>2008-08-06 07:00:00</td><td>0.0</td><td>0</td><td>0</td><td>0</td><td>3</td><td>0.0</td></tr><tr><td>2008-08-07 07:00:00</td><td>0.2</td><td>0</td><td>0</td><td>0</td><td>3</td><td>0.0</td></tr></tbody></table></div>"
      ]
     },
     "execution_count": 115,
     "metadata": {},
     "output_type": "execute_result"
    }
   ],
   "execution_count": 115
  },
  {
   "metadata": {
    "ExecuteTime": {
     "end_time": "2025-04-17T09:05:38.391795Z",
     "start_time": "2025-04-17T09:05:38.387953Z"
    }
   },
   "cell_type": "code",
   "source": "",
   "id": "d78188b26f4663b6",
   "outputs": [],
   "execution_count": null
  },
  {
   "cell_type": "markdown",
   "id": "6d73b55d-70ca-4a7f-9ccb-eb7c8220b834",
   "metadata": {},
   "source": [
    "# QC19 - Hourly neighbours (dry) \n",
    "[Back to Index](#Table-of-contents)\n",
    "\n",
    "#### Differences from `intense-qc`: \n",
    "- NOTE: the order in which the data is back-propogated and forward flood-fill will matter\n",
    "- TODO: sort out whether you want to do back-propogation or forward flood fill first (original metho does back prop then flood fill)"
   ]
  },
  {
   "metadata": {},
   "cell_type": "markdown",
   "source": "#### Step 0. resample to daily resolution",
   "id": "f1e733dca5bc8c4d"
  },
  {
   "metadata": {
    "ExecuteTime": {
     "end_time": "2025-04-17T09:05:38.757503Z",
     "start_time": "2025-04-17T09:05:38.749223Z"
    }
   },
   "cell_type": "code",
   "source": [
    "## resample into daily (also round to 1 decimal place) TODO: check offset='7h' part\n",
    "target_gauge_daily = (\n",
    "    target_gauge.group_by_dynamic(\"time\", every=\"1d\", offset=\"7h\", closed=\"right\")\n",
    "    .agg(\n",
    "        [\n",
    "            pl.len().alias(\"n_hours\"),\n",
    "            pl.col(rain_col).mean().round(1).alias(rain_col),\n",
    "        ]\n",
    "    )\n",
    "    .filter(pl.col(\"n_hours\") == 24)\n",
    "    .drop(\"n_hours\")\n",
    ")  # Ensure at least 24 data points"
   ],
   "id": "11928414c4b05d28",
   "outputs": [],
   "execution_count": 116
  },
  {
   "metadata": {
    "ExecuteTime": {
     "end_time": "2025-04-17T09:05:39.040735Z",
     "start_time": "2025-04-17T09:05:39.031425Z"
    }
   },
   "cell_type": "code",
   "source": [
    "target_gauge_daily.head()"
   ],
   "id": "83aee03a49c14125",
   "outputs": [
    {
     "data": {
      "text/plain": [
       "shape: (5, 2)\n",
       "┌─────────────────────┬─────────┐\n",
       "│ time                ┆ rain_mm │\n",
       "│ ---                 ┆ ---     │\n",
       "│ datetime[μs]        ┆ f64     │\n",
       "╞═════════════════════╪═════════╡\n",
       "│ 2006-01-01 07:00:00 ┆ 0.2     │\n",
       "│ 2006-01-02 07:00:00 ┆ 0.0     │\n",
       "│ 2006-01-03 07:00:00 ┆ 0.0     │\n",
       "│ 2006-01-04 07:00:00 ┆ 0.0     │\n",
       "│ 2006-01-05 07:00:00 ┆ 0.0     │\n",
       "└─────────────────────┴─────────┘"
      ],
      "text/html": [
       "<div><style>\n",
       ".dataframe > thead > tr,\n",
       ".dataframe > tbody > tr {\n",
       "  text-align: right;\n",
       "  white-space: pre-wrap;\n",
       "}\n",
       "</style>\n",
       "<small>shape: (5, 2)</small><table border=\"1\" class=\"dataframe\"><thead><tr><th>time</th><th>rain_mm</th></tr><tr><td>datetime[μs]</td><td>f64</td></tr></thead><tbody><tr><td>2006-01-01 07:00:00</td><td>0.2</td></tr><tr><td>2006-01-02 07:00:00</td><td>0.0</td></tr><tr><td>2006-01-03 07:00:00</td><td>0.0</td></tr><tr><td>2006-01-04 07:00:00</td><td>0.0</td></tr><tr><td>2006-01-05 07:00:00</td><td>0.0</td></tr></tbody></table></div>"
      ]
     },
     "execution_count": 117,
     "metadata": {},
     "output_type": "execute_result"
    }
   ],
   "execution_count": 117
  },
  {
   "metadata": {},
   "cell_type": "markdown",
   "source": "## Step 1. Loop through each neighbour",
   "id": "a0858081be7a694e"
  },
  {
   "cell_type": "code",
   "id": "fd2d36f5-06a5-41cc-a586-28cbe36b2ec0",
   "metadata": {
    "ExecuteTime": {
     "end_time": "2025-04-17T09:05:40.050651Z",
     "start_time": "2025-04-17T09:05:39.216129Z"
    }
   },
   "source": [
    "all_data = (\n",
    "    target_gauge_daily.clone()\n",
    ")  ## currently daily instead of hourly because this works best with later flood-fill\n",
    "\n",
    "for n_id in all_neighbour_ids_paths.keys():\n",
    "    ## 0. Get neighbouring GDSR data\n",
    "    print(n_id)\n",
    "    gdsr_col_name = f\"{rain_col}_GDSR_{n_id}\"\n",
    "    neighbouring_gdsr_gauge = get_neighbouring_gdsr_data(\n",
    "        neighbour_gdsr_id=n_id, time_multiplying_factor=MULTIPLYING_FACTORS[\"hourly\"]\n",
    "    )\n",
    "    ## 1. make no data vals nans\n",
    "    station_metadata = read_metadata(data_path=all_neighbour_ids_paths[n_id])\n",
    "    neighbouring_gdsr_gauge = replace_no_data_with_nan(\n",
    "        neighbouring_gdsr_gauge, no_data_value=int(station_metadata[\"no_data_value\"])\n",
    "    )\n",
    "\n",
    "    joined_gauges_gdsr = target_gauge.join(\n",
    "        neighbouring_gdsr_gauge, on=\"time\", suffix=f\"_{n_id}\"\n",
    "    )\n",
    "    joined_gauges_gdsr = joined_gauges_gdsr.drop_nans()\n",
    "\n",
    "    ## 2. resample into daily (also round to 1 decimal place) TODO: think about offset part\n",
    "    joined_gauges_gdsr = (\n",
    "        joined_gauges_gdsr.group_by_dynamic(\"time\", every=\"1d\", offset=\"7h\")\n",
    "        .agg(\n",
    "            [\n",
    "                pl.len().alias(\"n_hours\"),\n",
    "                pl.col(rain_col).mean().round(1).alias(rain_col),\n",
    "                pl.col(f\"{rain_col}_{n_id}\").mean().round(1).alias(gdsr_col_name),\n",
    "            ]\n",
    "        )\n",
    "        .filter(pl.col(\"n_hours\") == 24)\n",
    "        .drop(\"n_hours\")\n",
    "    )  # Ensure at least 24 data points\n",
    "\n",
    "    ## 3. convert to dry spell\n",
    "    joined_gauges_gdsr_dry_spell = joined_gauges_gdsr.with_columns(\n",
    "        pl.col(rain_col)\n",
    "        .map_batches(\n",
    "            lambda row: convert_to_dry_spell(row, DRY_PERIOD_DAYS, col_name=rain_col)\n",
    "        )\n",
    "        .alias(\"dry_spell_fraction\"),\n",
    "        pl.col(gdsr_col_name)\n",
    "        .map_batches(\n",
    "            lambda row: convert_to_dry_spell(\n",
    "                row, DRY_PERIOD_DAYS, col_name=gdsr_col_name\n",
    "            )\n",
    "        )\n",
    "        .alias(f\"dry_spell_fraction_{n_id}\"),\n",
    "    )\n",
    "\n",
    "    ## 4. Assign dry flags\n",
    "    joined_gauges_gdsr_dry_flags = joined_gauges_gdsr_dry_spell.with_columns(\n",
    "        pl.when(\n",
    "            (pl.col(\"dry_spell_fraction\") == 1.0)\n",
    "            & (pl.col(f\"dry_spell_fraction_{n_id}\") == 1.0)\n",
    "        )\n",
    "        .then(0)\n",
    "        .when(\n",
    "            (pl.col(\"dry_spell_fraction\") == 1.0)\n",
    "            & (pl.col(f\"dry_spell_fraction_{n_id}\") < 1.0)\n",
    "            & (pl.col(f\"dry_spell_fraction_{n_id}\") >= fraction_drydays[\"1\"]),\n",
    "        )\n",
    "        .then(1)\n",
    "        .when(\n",
    "            (pl.col(\"dry_spell_fraction\") == 1.0)\n",
    "            & (pl.col(f\"dry_spell_fraction_{n_id}\") < fraction_drydays[\"1\"])\n",
    "            & (pl.col(f\"dry_spell_fraction_{n_id}\") >= fraction_drydays[\"2\"]),\n",
    "        )\n",
    "        .then(2)\n",
    "        .when(\n",
    "            (pl.col(\"dry_spell_fraction\") == 1.0)\n",
    "            & (pl.col(f\"dry_spell_fraction_{n_id}\") < fraction_drydays[\"2\"])\n",
    "        )\n",
    "        .then(3)\n",
    "        .otherwise(0)\n",
    "        .alias(f\"dry_flags_{n_id}\")\n",
    "    )\n",
    "\n",
    "    ## 5. Join to all data\n",
    "    all_data = all_data.join(\n",
    "        joined_gauges_gdsr_dry_flags[[\"time\", f\"dry_flags_{n_id}\"]],\n",
    "        on=\"time\",\n",
    "        how=\"left\",\n",
    "    )\n",
    "\n",
    "    print(\n",
    "        \"Hourly grouped into daily:\",\n",
    "        gpcc_id_to_use,\n",
    "        joined_gauges_gdsr_dry_flags[f\"dry_flags_{n_id}\"].value_counts(),\n",
    "    )"
   ],
   "outputs": [
    {
     "name": "stdout",
     "output_type": "stream",
     "text": [
      "DE_03215\n",
      "Hourly grouped into daily: DE_00310 shape: (4, 2)\n",
      "┌────────────────────┬───────┐\n",
      "│ dry_flags_DE_03215 ┆ count │\n",
      "│ ---                ┆ ---   │\n",
      "│ i32                ┆ u32   │\n",
      "╞════════════════════╪═══════╡\n",
      "│ 0                  ┆ 1126  │\n",
      "│ 1                  ┆ 6     │\n",
      "│ 2                  ┆ 7     │\n",
      "│ 3                  ┆ 111   │\n",
      "└────────────────────┴───────┘\n",
      "DE_02718\n",
      "Hourly grouped into daily: DE_00310 shape: (4, 2)\n",
      "┌────────────────────┬───────┐\n",
      "│ dry_flags_DE_02718 ┆ count │\n",
      "│ ---                ┆ ---   │\n",
      "│ i32                ┆ u32   │\n",
      "╞════════════════════╪═══════╡\n",
      "│ 1                  ┆ 2     │\n",
      "│ 3                  ┆ 110   │\n",
      "│ 0                  ┆ 1633  │\n",
      "│ 2                  ┆ 12    │\n",
      "└────────────────────┴───────┘\n",
      "DE_04488\n",
      "Hourly grouped into daily: DE_00310 shape: (4, 2)\n",
      "┌────────────────────┬───────┐\n",
      "│ dry_flags_DE_04488 ┆ count │\n",
      "│ ---                ┆ ---   │\n",
      "│ i32                ┆ u32   │\n",
      "╞════════════════════╪═══════╡\n",
      "│ 3                  ┆ 103   │\n",
      "│ 2                  ┆ 19    │\n",
      "│ 1                  ┆ 4     │\n",
      "│ 0                  ┆ 1425  │\n",
      "└────────────────────┴───────┘\n",
      "DE_06264\n",
      "Hourly grouped into daily: DE_00310 shape: (4, 2)\n",
      "┌────────────────────┬───────┐\n",
      "│ dry_flags_DE_06264 ┆ count │\n",
      "│ ---                ┆ ---   │\n",
      "│ i32                ┆ u32   │\n",
      "╞════════════════════╪═══════╡\n",
      "│ 3                  ┆ 112   │\n",
      "│ 2                  ┆ 9     │\n",
      "│ 0                  ┆ 1629  │\n",
      "│ 1                  ┆ 2     │\n",
      "└────────────────────┴───────┘\n",
      "DE_00390\n",
      "Hourly grouped into daily: DE_00310 shape: (4, 2)\n",
      "┌────────────────────┬───────┐\n",
      "│ dry_flags_DE_00390 ┆ count │\n",
      "│ ---                ┆ ---   │\n",
      "│ i32                ┆ u32   │\n",
      "╞════════════════════╪═══════╡\n",
      "│ 1                  ┆ 2     │\n",
      "│ 2                  ┆ 10    │\n",
      "│ 0                  ┆ 1631  │\n",
      "│ 3                  ┆ 111   │\n",
      "└────────────────────┴───────┘\n",
      "DE_01300\n",
      "Hourly grouped into daily: DE_00310 shape: (4, 2)\n",
      "┌────────────────────┬───────┐\n",
      "│ dry_flags_DE_01300 ┆ count │\n",
      "│ ---                ┆ ---   │\n",
      "│ i32                ┆ u32   │\n",
      "╞════════════════════╪═══════╡\n",
      "│ 1                  ┆ 6     │\n",
      "│ 3                  ┆ 110   │\n",
      "│ 0                  ┆ 1628  │\n",
      "│ 2                  ┆ 11    │\n",
      "└────────────────────┴───────┘\n",
      "DE_04313\n",
      "Hourly grouped into daily: DE_00310 shape: (4, 2)\n",
      "┌────────────────────┬───────┐\n",
      "│ dry_flags_DE_04313 ┆ count │\n",
      "│ ---                ┆ ---   │\n",
      "│ i32                ┆ u32   │\n",
      "╞════════════════════╪═══════╡\n",
      "│ 2                  ┆ 23    │\n",
      "│ 0                  ┆ 1626  │\n",
      "│ 3                  ┆ 103   │\n",
      "│ 1                  ┆ 2     │\n",
      "└────────────────────┴───────┘\n",
      "DE_06303\n",
      "Hourly grouped into daily: DE_00310 shape: (4, 2)\n",
      "┌────────────────────┬───────┐\n",
      "│ dry_flags_DE_06303 ┆ count │\n",
      "│ ---                ┆ ---   │\n",
      "│ i32                ┆ u32   │\n",
      "╞════════════════════╪═══════╡\n",
      "│ 0                  ┆ 1630  │\n",
      "│ 3                  ┆ 111   │\n",
      "│ 2                  ┆ 10    │\n",
      "│ 1                  ┆ 3     │\n",
      "└────────────────────┴───────┘\n",
      "DE_00310\n",
      "Hourly grouped into daily: DE_00310 shape: (4, 2)\n",
      "┌────────────────────┬───────┐\n",
      "│ dry_flags_DE_00310 ┆ count │\n",
      "│ ---                ┆ ---   │\n",
      "│ i32                ┆ u32   │\n",
      "╞════════════════════╪═══════╡\n",
      "│ 1                  ┆ 3     │\n",
      "│ 2                  ┆ 3     │\n",
      "│ 0                  ┆ 1606  │\n",
      "│ 3                  ┆ 118   │\n",
      "└────────────────────┴───────┘\n"
     ]
    }
   ],
   "execution_count": 118
  },
  {
   "metadata": {},
   "cell_type": "markdown",
   "source": "## Step 2. Calculate num neighbours online",
   "id": "a3d8eaf2854665c4"
  },
  {
   "metadata": {
    "ExecuteTime": {
     "end_time": "2025-04-17T09:05:40.157314Z",
     "start_time": "2025-04-17T09:05:40.141592Z"
    }
   },
   "cell_type": "code",
   "source": [
    "## global determining the minimum number of non-null neighbours to count flags\n",
    "MIN_NUM_NEIGHBOURS = 2  # original method is 3"
   ],
   "id": "2b6a991023cdaa82",
   "outputs": [],
   "execution_count": 119
  },
  {
   "metadata": {
    "ExecuteTime": {
     "end_time": "2025-04-17T09:05:40.366034Z",
     "start_time": "2025-04-17T09:05:40.356099Z"
    }
   },
   "cell_type": "code",
   "source": [
    "num_neighbours = len(all_data.columns[2:])\n",
    "num_neighbours"
   ],
   "id": "2db67778b2a91cc4",
   "outputs": [
    {
     "data": {
      "text/plain": [
       "9"
      ]
     },
     "execution_count": 120,
     "metadata": {},
     "output_type": "execute_result"
    }
   ],
   "execution_count": 120
  },
  {
   "metadata": {
    "ExecuteTime": {
     "end_time": "2025-04-17T09:05:40.530672Z",
     "start_time": "2025-04-17T09:05:40.517052Z"
    }
   },
   "cell_type": "code",
   "source": [
    "all_data_num_neighbours = all_data.with_columns(\n",
    "    (\n",
    "        num_neighbours\n",
    "        - pl.sum_horizontal(pl.all().exclude(\"time\").is_null().cast(pl.Int16))\n",
    "    ).alias(\"num_neighbours_online\")\n",
    ")\n",
    "all_data_num_neighbours"
   ],
   "id": "9cb13f87b7803b30",
   "outputs": [
    {
     "data": {
      "text/plain": [
       "shape: (1_825, 12)\n",
       "┌────────────┬─────────┬───────────┬───────────┬───┬───────────┬───────────┬───────────┬───────────┐\n",
       "│ time       ┆ rain_mm ┆ dry_flags ┆ dry_flags ┆ … ┆ dry_flags ┆ dry_flags ┆ dry_flags ┆ num_neigh │\n",
       "│ ---        ┆ ---     ┆ _DE_03215 ┆ _DE_02718 ┆   ┆ _DE_04313 ┆ _DE_06303 ┆ _DE_00310 ┆ bours_onl │\n",
       "│ datetime[μ ┆ f64     ┆ ---       ┆ ---       ┆   ┆ ---       ┆ ---       ┆ ---       ┆ ine       │\n",
       "│ s]         ┆         ┆ i32       ┆ i32       ┆   ┆ i32       ┆ i32       ┆ i32       ┆ ---       │\n",
       "│            ┆         ┆           ┆           ┆   ┆           ┆           ┆           ┆ i16       │\n",
       "╞════════════╪═════════╪═══════════╪═══════════╪═══╪═══════════╪═══════════╪═══════════╪═══════════╡\n",
       "│ 2006-01-01 ┆ 0.2     ┆ null      ┆ 0         ┆ … ┆ 0         ┆ 0         ┆ 0         ┆ 7         │\n",
       "│ 07:00:00   ┆         ┆           ┆           ┆   ┆           ┆           ┆           ┆           │\n",
       "│ 2006-01-02 ┆ 0.0     ┆ null      ┆ 0         ┆ … ┆ 0         ┆ 0         ┆ 0         ┆ 7         │\n",
       "│ 07:00:00   ┆         ┆           ┆           ┆   ┆           ┆           ┆           ┆           │\n",
       "│ 2006-01-03 ┆ 0.0     ┆ null      ┆ 0         ┆ … ┆ 0         ┆ 0         ┆ 0         ┆ 7         │\n",
       "│ 07:00:00   ┆         ┆           ┆           ┆   ┆           ┆           ┆           ┆           │\n",
       "│ 2006-01-04 ┆ 0.0     ┆ null      ┆ 0         ┆ … ┆ 0         ┆ 0         ┆ 0         ┆ 7         │\n",
       "│ 07:00:00   ┆         ┆           ┆           ┆   ┆           ┆           ┆           ┆           │\n",
       "│ 2006-01-05 ┆ 0.0     ┆ null      ┆ 0         ┆ … ┆ 0         ┆ 0         ┆ 0         ┆ 7         │\n",
       "│ 07:00:00   ┆         ┆           ┆           ┆   ┆           ┆           ┆           ┆           │\n",
       "│ …          ┆ …       ┆ …         ┆ …         ┆ … ┆ …         ┆ …         ┆ …         ┆ …         │\n",
       "│ 2010-12-26 ┆ 0.2     ┆ 0         ┆ 0         ┆ … ┆ 0         ┆ 0         ┆ 0         ┆ 9         │\n",
       "│ 07:00:00   ┆         ┆           ┆           ┆   ┆           ┆           ┆           ┆           │\n",
       "│ 2010-12-27 ┆ 0.0     ┆ 0         ┆ 0         ┆ … ┆ 0         ┆ 0         ┆ 0         ┆ 9         │\n",
       "│ 07:00:00   ┆         ┆           ┆           ┆   ┆           ┆           ┆           ┆           │\n",
       "│ 2010-12-28 ┆ 0.0     ┆ 0         ┆ 0         ┆ … ┆ 0         ┆ 0         ┆ 0         ┆ 9         │\n",
       "│ 07:00:00   ┆         ┆           ┆           ┆   ┆           ┆           ┆           ┆           │\n",
       "│ 2010-12-29 ┆ 0.0     ┆ 0         ┆ 0         ┆ … ┆ 0         ┆ 0         ┆ 0         ┆ 9         │\n",
       "│ 07:00:00   ┆         ┆           ┆           ┆   ┆           ┆           ┆           ┆           │\n",
       "│ 2010-12-30 ┆ 0.0     ┆ 0         ┆ 0         ┆ … ┆ 0         ┆ 0         ┆ 0         ┆ 9         │\n",
       "│ 07:00:00   ┆         ┆           ┆           ┆   ┆           ┆           ┆           ┆           │\n",
       "└────────────┴─────────┴───────────┴───────────┴───┴───────────┴───────────┴───────────┴───────────┘"
      ],
      "text/html": [
       "<div><style>\n",
       ".dataframe > thead > tr,\n",
       ".dataframe > tbody > tr {\n",
       "  text-align: right;\n",
       "  white-space: pre-wrap;\n",
       "}\n",
       "</style>\n",
       "<small>shape: (1_825, 12)</small><table border=\"1\" class=\"dataframe\"><thead><tr><th>time</th><th>rain_mm</th><th>dry_flags_DE_03215</th><th>dry_flags_DE_02718</th><th>dry_flags_DE_04488</th><th>dry_flags_DE_06264</th><th>dry_flags_DE_00390</th><th>dry_flags_DE_01300</th><th>dry_flags_DE_04313</th><th>dry_flags_DE_06303</th><th>dry_flags_DE_00310</th><th>num_neighbours_online</th></tr><tr><td>datetime[μs]</td><td>f64</td><td>i32</td><td>i32</td><td>i32</td><td>i32</td><td>i32</td><td>i32</td><td>i32</td><td>i32</td><td>i32</td><td>i16</td></tr></thead><tbody><tr><td>2006-01-01 07:00:00</td><td>0.2</td><td>null</td><td>0</td><td>null</td><td>0</td><td>0</td><td>0</td><td>0</td><td>0</td><td>0</td><td>7</td></tr><tr><td>2006-01-02 07:00:00</td><td>0.0</td><td>null</td><td>0</td><td>null</td><td>0</td><td>0</td><td>0</td><td>0</td><td>0</td><td>0</td><td>7</td></tr><tr><td>2006-01-03 07:00:00</td><td>0.0</td><td>null</td><td>0</td><td>null</td><td>0</td><td>0</td><td>0</td><td>0</td><td>0</td><td>0</td><td>7</td></tr><tr><td>2006-01-04 07:00:00</td><td>0.0</td><td>null</td><td>0</td><td>null</td><td>0</td><td>0</td><td>0</td><td>0</td><td>0</td><td>0</td><td>7</td></tr><tr><td>2006-01-05 07:00:00</td><td>0.0</td><td>null</td><td>0</td><td>null</td><td>0</td><td>0</td><td>0</td><td>0</td><td>0</td><td>0</td><td>7</td></tr><tr><td>&hellip;</td><td>&hellip;</td><td>&hellip;</td><td>&hellip;</td><td>&hellip;</td><td>&hellip;</td><td>&hellip;</td><td>&hellip;</td><td>&hellip;</td><td>&hellip;</td><td>&hellip;</td><td>&hellip;</td></tr><tr><td>2010-12-26 07:00:00</td><td>0.2</td><td>0</td><td>0</td><td>0</td><td>0</td><td>0</td><td>0</td><td>0</td><td>0</td><td>0</td><td>9</td></tr><tr><td>2010-12-27 07:00:00</td><td>0.0</td><td>0</td><td>0</td><td>0</td><td>0</td><td>0</td><td>0</td><td>0</td><td>0</td><td>0</td><td>9</td></tr><tr><td>2010-12-28 07:00:00</td><td>0.0</td><td>0</td><td>0</td><td>0</td><td>0</td><td>0</td><td>0</td><td>0</td><td>0</td><td>0</td><td>9</td></tr><tr><td>2010-12-29 07:00:00</td><td>0.0</td><td>0</td><td>0</td><td>0</td><td>0</td><td>0</td><td>0</td><td>0</td><td>0</td><td>0</td><td>9</td></tr><tr><td>2010-12-30 07:00:00</td><td>0.0</td><td>0</td><td>0</td><td>0</td><td>0</td><td>0</td><td>0</td><td>0</td><td>0</td><td>0</td><td>9</td></tr></tbody></table></div>"
      ]
     },
     "execution_count": 121,
     "metadata": {},
     "output_type": "execute_result"
    }
   ],
   "execution_count": 121
  },
  {
   "metadata": {
    "ExecuteTime": {
     "end_time": "2025-04-17T09:05:40.756976Z",
     "start_time": "2025-04-17T09:05:40.742399Z"
    }
   },
   "cell_type": "code",
   "source": [
    "all_data_num_neighbours[\"num_neighbours_online\"].value_counts()"
   ],
   "id": "8fa43af6183e1ea5",
   "outputs": [
    {
     "data": {
      "text/plain": [
       "shape: (8, 2)\n",
       "┌───────────────────────┬───────┐\n",
       "│ num_neighbours_online ┆ count │\n",
       "│ ---                   ┆ ---   │\n",
       "│ i16                   ┆ u32   │\n",
       "╞═══════════════════════╪═══════╡\n",
       "│ 4                     ┆ 1     │\n",
       "│ 9                     ┆ 1210  │\n",
       "│ 0                     ┆ 65    │\n",
       "│ 3                     ┆ 1     │\n",
       "│ 8                     ┆ 335   │\n",
       "│ 7                     ┆ 203   │\n",
       "│ 5                     ┆ 1     │\n",
       "│ 6                     ┆ 9     │\n",
       "└───────────────────────┴───────┘"
      ],
      "text/html": [
       "<div><style>\n",
       ".dataframe > thead > tr,\n",
       ".dataframe > tbody > tr {\n",
       "  text-align: right;\n",
       "  white-space: pre-wrap;\n",
       "}\n",
       "</style>\n",
       "<small>shape: (8, 2)</small><table border=\"1\" class=\"dataframe\"><thead><tr><th>num_neighbours_online</th><th>count</th></tr><tr><td>i16</td><td>u32</td></tr></thead><tbody><tr><td>4</td><td>1</td></tr><tr><td>9</td><td>1210</td></tr><tr><td>0</td><td>65</td></tr><tr><td>3</td><td>1</td></tr><tr><td>8</td><td>335</td></tr><tr><td>7</td><td>203</td></tr><tr><td>5</td><td>1</td></tr><tr><td>6</td><td>9</td></tr></tbody></table></div>"
      ]
     },
     "execution_count": 122,
     "metadata": {},
     "output_type": "execute_result"
    }
   ],
   "execution_count": 122
  },
  {
   "metadata": {
    "ExecuteTime": {
     "end_time": "2025-04-17T09:05:41.102216Z",
     "start_time": "2025-04-17T09:05:41.078792Z"
    }
   },
   "cell_type": "code",
   "source": [
    "all_data.filter(pl.col(\"dry_flags_DE_03215\") == 1)"
   ],
   "id": "58da1f7c81de20c3",
   "outputs": [
    {
     "data": {
      "text/plain": [
       "shape: (6, 11)\n",
       "┌────────────┬─────────┬───────────┬───────────┬───┬───────────┬───────────┬───────────┬───────────┐\n",
       "│ time       ┆ rain_mm ┆ dry_flags ┆ dry_flags ┆ … ┆ dry_flags ┆ dry_flags ┆ dry_flags ┆ dry_flags │\n",
       "│ ---        ┆ ---     ┆ _DE_03215 ┆ _DE_02718 ┆   ┆ _DE_01300 ┆ _DE_04313 ┆ _DE_06303 ┆ _DE_00310 │\n",
       "│ datetime[μ ┆ f64     ┆ ---       ┆ ---       ┆   ┆ ---       ┆ ---       ┆ ---       ┆ ---       │\n",
       "│ s]         ┆         ┆ i32       ┆ i32       ┆   ┆ i32       ┆ i32       ┆ i32       ┆ i32       │\n",
       "╞════════════╪═════════╪═══════════╪═══════════╪═══╪═══════════╪═══════════╪═══════════╪═══════════╡\n",
       "│ 2007-10-16 ┆ 0.0     ┆ 1         ┆ 0         ┆ … ┆ null      ┆ 1         ┆ 0         ┆ 0         │\n",
       "│ 07:00:00   ┆         ┆           ┆           ┆   ┆           ┆           ┆           ┆           │\n",
       "│ 2008-09-28 ┆ 0.0     ┆ 1         ┆ 3         ┆ … ┆ 1         ┆ 2         ┆ 2         ┆ 1         │\n",
       "│ 07:00:00   ┆         ┆           ┆           ┆   ┆           ┆           ┆           ┆           │\n",
       "│ 2008-09-29 ┆ 0.0     ┆ 1         ┆ 3         ┆ … ┆ 1         ┆ 2         ┆ 3         ┆ 1         │\n",
       "│ 07:00:00   ┆         ┆           ┆           ┆   ┆           ┆           ┆           ┆           │\n",
       "│ 2009-07-02 ┆ 0.0     ┆ 1         ┆ 3         ┆ … ┆ 3         ┆ 2         ┆ 2         ┆ 3         │\n",
       "│ 07:00:00   ┆         ┆           ┆           ┆   ┆           ┆           ┆           ┆           │\n",
       "│ 2009-07-03 ┆ 0.0     ┆ 1         ┆ 3         ┆ … ┆ 3         ┆ 2         ┆ 2         ┆ 3         │\n",
       "│ 07:00:00   ┆         ┆           ┆           ┆   ┆           ┆           ┆           ┆           │\n",
       "│ 2009-07-04 ┆ 0.0     ┆ 1         ┆ 3         ┆ … ┆ 3         ┆ 2         ┆ 2         ┆ 3         │\n",
       "│ 07:00:00   ┆         ┆           ┆           ┆   ┆           ┆           ┆           ┆           │\n",
       "└────────────┴─────────┴───────────┴───────────┴───┴───────────┴───────────┴───────────┴───────────┘"
      ],
      "text/html": [
       "<div><style>\n",
       ".dataframe > thead > tr,\n",
       ".dataframe > tbody > tr {\n",
       "  text-align: right;\n",
       "  white-space: pre-wrap;\n",
       "}\n",
       "</style>\n",
       "<small>shape: (6, 11)</small><table border=\"1\" class=\"dataframe\"><thead><tr><th>time</th><th>rain_mm</th><th>dry_flags_DE_03215</th><th>dry_flags_DE_02718</th><th>dry_flags_DE_04488</th><th>dry_flags_DE_06264</th><th>dry_flags_DE_00390</th><th>dry_flags_DE_01300</th><th>dry_flags_DE_04313</th><th>dry_flags_DE_06303</th><th>dry_flags_DE_00310</th></tr><tr><td>datetime[μs]</td><td>f64</td><td>i32</td><td>i32</td><td>i32</td><td>i32</td><td>i32</td><td>i32</td><td>i32</td><td>i32</td><td>i32</td></tr></thead><tbody><tr><td>2007-10-16 07:00:00</td><td>0.0</td><td>1</td><td>0</td><td>0</td><td>0</td><td>null</td><td>null</td><td>1</td><td>0</td><td>0</td></tr><tr><td>2008-09-28 07:00:00</td><td>0.0</td><td>1</td><td>3</td><td>0</td><td>2</td><td>1</td><td>1</td><td>2</td><td>2</td><td>1</td></tr><tr><td>2008-09-29 07:00:00</td><td>0.0</td><td>1</td><td>3</td><td>2</td><td>2</td><td>1</td><td>1</td><td>2</td><td>3</td><td>1</td></tr><tr><td>2009-07-02 07:00:00</td><td>0.0</td><td>1</td><td>3</td><td>2</td><td>3</td><td>3</td><td>3</td><td>2</td><td>2</td><td>3</td></tr><tr><td>2009-07-03 07:00:00</td><td>0.0</td><td>1</td><td>3</td><td>2</td><td>3</td><td>3</td><td>3</td><td>2</td><td>2</td><td>3</td></tr><tr><td>2009-07-04 07:00:00</td><td>0.0</td><td>1</td><td>3</td><td>2</td><td>3</td><td>3</td><td>3</td><td>2</td><td>2</td><td>3</td></tr></tbody></table></div>"
      ]
     },
     "execution_count": 123,
     "metadata": {},
     "output_type": "execute_result"
    }
   ],
   "execution_count": 123
  },
  {
   "metadata": {},
   "cell_type": "markdown",
   "source": "## Step 3. Majority voting flags for the target",
   "id": "282f501f4193b27e"
  },
  {
   "metadata": {
    "ExecuteTime": {
     "end_time": "2025-04-17T09:05:41.598206Z",
     "start_time": "2025-04-17T09:05:41.591208Z"
    }
   },
   "cell_type": "code",
   "source": [
    "all_data_dry_flags = all_data_num_neighbours.with_columns(\n",
    "    pl.when(pl.col(\"num_neighbours_online\") < MIN_NUM_NEIGHBOURS)\n",
    "    .then(np.nan)\n",
    "    .otherwise(\n",
    "        pl.min_horizontal(pl.all().exclude(\"time\", rain_col, \"num_neighbours_online\"))\n",
    "    )\n",
    "    .alias(\"dry_flags\")\n",
    ")"
   ],
   "id": "3af7c3dd87623d21",
   "outputs": [],
   "execution_count": 124
  },
  {
   "metadata": {
    "ExecuteTime": {
     "end_time": "2025-04-17T09:05:42.227276Z",
     "start_time": "2025-04-17T09:05:42.204060Z"
    }
   },
   "cell_type": "code",
   "source": [
    "all_data_dry_flags[\"dry_flags\"].value_counts()"
   ],
   "id": "763c12e2d6f5df63",
   "outputs": [
    {
     "data": {
      "text/plain": [
       "shape: (5, 2)\n",
       "┌───────────┬───────┐\n",
       "│ dry_flags ┆ count │\n",
       "│ ---       ┆ ---   │\n",
       "│ f64       ┆ u32   │\n",
       "╞═══════════╪═══════╡\n",
       "│ 2.0       ┆ 25    │\n",
       "│ 0.0       ┆ 1637  │\n",
       "│ 1.0       ┆ 6     │\n",
       "│ NaN       ┆ 65    │\n",
       "│ 3.0       ┆ 92    │\n",
       "└───────────┴───────┘"
      ],
      "text/html": [
       "<div><style>\n",
       ".dataframe > thead > tr,\n",
       ".dataframe > tbody > tr {\n",
       "  text-align: right;\n",
       "  white-space: pre-wrap;\n",
       "}\n",
       "</style>\n",
       "<small>shape: (5, 2)</small><table border=\"1\" class=\"dataframe\"><thead><tr><th>dry_flags</th><th>count</th></tr><tr><td>f64</td><td>u32</td></tr></thead><tbody><tr><td>2.0</td><td>25</td></tr><tr><td>0.0</td><td>1637</td></tr><tr><td>1.0</td><td>6</td></tr><tr><td>NaN</td><td>65</td></tr><tr><td>3.0</td><td>92</td></tr></tbody></table></div>"
      ]
     },
     "execution_count": 125,
     "metadata": {},
     "output_type": "execute_result"
    }
   ],
   "execution_count": 125
  },
  {
   "metadata": {
    "ExecuteTime": {
     "end_time": "2025-04-17T09:05:42.839931Z",
     "start_time": "2025-04-17T09:05:42.821268Z"
    }
   },
   "cell_type": "code",
   "source": [
    "all_data_dry_flags.filter((pl.col(\"dry_flags\") > 0) & (pl.col(\"dry_flags\").is_finite()))"
   ],
   "id": "47c36a07a6de3d45",
   "outputs": [
    {
     "data": {
      "text/plain": [
       "shape: (123, 13)\n",
       "┌────────────┬─────────┬───────────┬───────────┬───┬───────────┬───────────┬───────────┬───────────┐\n",
       "│ time       ┆ rain_mm ┆ dry_flags ┆ dry_flags ┆ … ┆ dry_flags ┆ dry_flags ┆ num_neigh ┆ dry_flags │\n",
       "│ ---        ┆ ---     ┆ _DE_03215 ┆ _DE_02718 ┆   ┆ _DE_06303 ┆ _DE_00310 ┆ bours_onl ┆ ---       │\n",
       "│ datetime[μ ┆ f64     ┆ ---       ┆ ---       ┆   ┆ ---       ┆ ---       ┆ ine       ┆ f64       │\n",
       "│ s]         ┆         ┆ i32       ┆ i32       ┆   ┆ i32       ┆ i32       ┆ ---       ┆           │\n",
       "│            ┆         ┆           ┆           ┆   ┆           ┆           ┆ i16       ┆           │\n",
       "╞════════════╪═════════╪═══════════╪═══════════╪═══╪═══════════╪═══════════╪═══════════╪═══════════╡\n",
       "│ 2008-09-29 ┆ 0.0     ┆ 1         ┆ 3         ┆ … ┆ 3         ┆ 1         ┆ 9         ┆ 1.0       │\n",
       "│ 07:00:00   ┆         ┆           ┆           ┆   ┆           ┆           ┆           ┆           │\n",
       "│ 2008-09-30 ┆ 0.0     ┆ 2         ┆ 3         ┆ … ┆ 3         ┆ 2         ┆ 9         ┆ 2.0       │\n",
       "│ 07:00:00   ┆         ┆           ┆           ┆   ┆           ┆           ┆           ┆           │\n",
       "│ 2008-10-01 ┆ 0.0     ┆ 3         ┆ 3         ┆ … ┆ null      ┆ 3         ┆ 8         ┆ 3.0       │\n",
       "│ 07:00:00   ┆         ┆           ┆           ┆   ┆           ┆           ┆           ┆           │\n",
       "│ 2008-10-02 ┆ 0.0     ┆ 3         ┆ 3         ┆ … ┆ 3         ┆ 3         ┆ 8         ┆ 3.0       │\n",
       "│ 07:00:00   ┆         ┆           ┆           ┆   ┆           ┆           ┆           ┆           │\n",
       "│ 2008-10-03 ┆ 0.0     ┆ 3         ┆ 3         ┆ … ┆ 3         ┆ 3         ┆ 9         ┆ 3.0       │\n",
       "│ 07:00:00   ┆         ┆           ┆           ┆   ┆           ┆           ┆           ┆           │\n",
       "│ …          ┆ …       ┆ …         ┆ …         ┆ … ┆ …         ┆ …         ┆ …         ┆ …         │\n",
       "│ 2010-10-26 ┆ 0.0     ┆ 3         ┆ 3         ┆ … ┆ 3         ┆ 3         ┆ 9         ┆ 3.0       │\n",
       "│ 07:00:00   ┆         ┆           ┆           ┆   ┆           ┆           ┆           ┆           │\n",
       "│ 2010-10-27 ┆ 0.0     ┆ 3         ┆ 3         ┆ … ┆ 3         ┆ 3         ┆ 9         ┆ 3.0       │\n",
       "│ 07:00:00   ┆         ┆           ┆           ┆   ┆           ┆           ┆           ┆           │\n",
       "│ 2010-10-28 ┆ 0.0     ┆ 3         ┆ 3         ┆ … ┆ 3         ┆ 3         ┆ 9         ┆ 3.0       │\n",
       "│ 07:00:00   ┆         ┆           ┆           ┆   ┆           ┆           ┆           ┆           │\n",
       "│ 2010-10-29 ┆ 0.0     ┆ 3         ┆ 3         ┆ … ┆ 3         ┆ 3         ┆ 9         ┆ 3.0       │\n",
       "│ 07:00:00   ┆         ┆           ┆           ┆   ┆           ┆           ┆           ┆           │\n",
       "│ 2010-10-30 ┆ 0.0     ┆ 3         ┆ 3         ┆ … ┆ 3         ┆ 3         ┆ 9         ┆ 3.0       │\n",
       "│ 07:00:00   ┆         ┆           ┆           ┆   ┆           ┆           ┆           ┆           │\n",
       "└────────────┴─────────┴───────────┴───────────┴───┴───────────┴───────────┴───────────┴───────────┘"
      ],
      "text/html": [
       "<div><style>\n",
       ".dataframe > thead > tr,\n",
       ".dataframe > tbody > tr {\n",
       "  text-align: right;\n",
       "  white-space: pre-wrap;\n",
       "}\n",
       "</style>\n",
       "<small>shape: (123, 13)</small><table border=\"1\" class=\"dataframe\"><thead><tr><th>time</th><th>rain_mm</th><th>dry_flags_DE_03215</th><th>dry_flags_DE_02718</th><th>dry_flags_DE_04488</th><th>dry_flags_DE_06264</th><th>dry_flags_DE_00390</th><th>dry_flags_DE_01300</th><th>dry_flags_DE_04313</th><th>dry_flags_DE_06303</th><th>dry_flags_DE_00310</th><th>num_neighbours_online</th><th>dry_flags</th></tr><tr><td>datetime[μs]</td><td>f64</td><td>i32</td><td>i32</td><td>i32</td><td>i32</td><td>i32</td><td>i32</td><td>i32</td><td>i32</td><td>i32</td><td>i16</td><td>f64</td></tr></thead><tbody><tr><td>2008-09-29 07:00:00</td><td>0.0</td><td>1</td><td>3</td><td>2</td><td>2</td><td>1</td><td>1</td><td>2</td><td>3</td><td>1</td><td>9</td><td>1.0</td></tr><tr><td>2008-09-30 07:00:00</td><td>0.0</td><td>2</td><td>3</td><td>3</td><td>3</td><td>2</td><td>2</td><td>3</td><td>3</td><td>2</td><td>9</td><td>2.0</td></tr><tr><td>2008-10-01 07:00:00</td><td>0.0</td><td>3</td><td>3</td><td>3</td><td>3</td><td>3</td><td>3</td><td>3</td><td>null</td><td>3</td><td>8</td><td>3.0</td></tr><tr><td>2008-10-02 07:00:00</td><td>0.0</td><td>3</td><td>3</td><td>3</td><td>null</td><td>3</td><td>3</td><td>3</td><td>3</td><td>3</td><td>8</td><td>3.0</td></tr><tr><td>2008-10-03 07:00:00</td><td>0.0</td><td>3</td><td>3</td><td>3</td><td>3</td><td>3</td><td>3</td><td>3</td><td>3</td><td>3</td><td>9</td><td>3.0</td></tr><tr><td>&hellip;</td><td>&hellip;</td><td>&hellip;</td><td>&hellip;</td><td>&hellip;</td><td>&hellip;</td><td>&hellip;</td><td>&hellip;</td><td>&hellip;</td><td>&hellip;</td><td>&hellip;</td><td>&hellip;</td><td>&hellip;</td></tr><tr><td>2010-10-26 07:00:00</td><td>0.0</td><td>3</td><td>3</td><td>3</td><td>3</td><td>3</td><td>3</td><td>3</td><td>3</td><td>3</td><td>9</td><td>3.0</td></tr><tr><td>2010-10-27 07:00:00</td><td>0.0</td><td>3</td><td>3</td><td>3</td><td>3</td><td>3</td><td>3</td><td>3</td><td>3</td><td>3</td><td>9</td><td>3.0</td></tr><tr><td>2010-10-28 07:00:00</td><td>0.0</td><td>3</td><td>3</td><td>3</td><td>3</td><td>3</td><td>3</td><td>3</td><td>3</td><td>3</td><td>9</td><td>3.0</td></tr><tr><td>2010-10-29 07:00:00</td><td>0.0</td><td>3</td><td>3</td><td>3</td><td>3</td><td>3</td><td>3</td><td>3</td><td>3</td><td>3</td><td>9</td><td>3.0</td></tr><tr><td>2010-10-30 07:00:00</td><td>0.0</td><td>3</td><td>3</td><td>3</td><td>3</td><td>3</td><td>3</td><td>3</td><td>3</td><td>3</td><td>9</td><td>3.0</td></tr></tbody></table></div>"
      ]
     },
     "execution_count": 126,
     "metadata": {},
     "output_type": "execute_result"
    }
   ],
   "execution_count": 126
  },
  {
   "metadata": {},
   "cell_type": "markdown",
   "source": [
    "## Step 4. Back propogate flags so period previous to flag is also given the same flag\n",
    "Number of days of period set by DRY_PERIOD_DAYS"
   ],
   "id": "fd1a74e1c53da56f"
  },
  {
   "metadata": {
    "ExecuteTime": {
     "end_time": "2025-04-17T09:05:43.160706Z",
     "start_time": "2025-04-17T09:05:43.152740Z"
    }
   },
   "cell_type": "code",
   "source": [
    "def back_propagate_flags(df, flag_column, num_days):\n",
    "    \"\"\"\n",
    "    Back fill-in flags a number of days. This will prioritise higher flag values\n",
    "\n",
    "    Parameters\n",
    "    ----------\n",
    "    df : polars.DataFrame\n",
    "        Data with `flag_column` series\n",
    "    flag_column : str\n",
    "        column with flags\n",
    "    num_days: int\n",
    "        Number of days to back-propagate\n",
    "    Returns\n",
    "    -------\n",
    "    df\n",
    "\n",
    "    \"\"\"\n",
    "    df = df.clone()\n",
    "    # TODO: automatically extract flag values\n",
    "    flag_values = (\n",
    "        flag for flag in df[flag_column].unique() if (np.isfinite(flag) & (flag > 0))\n",
    "    )\n",
    "    for flag, df_filtered in [\n",
    "        (flag, df.filter(pl.col(flag_column) == flag)) for flag in flag_values\n",
    "    ]:\n",
    "        for time_to_use in df_filtered[\"time\"]:\n",
    "            assert isinstance(\n",
    "                time_to_use, datetime.datetime\n",
    "            ), \"time_to_use must be datetime.datetime\"\n",
    "            start_time = time_to_use - datetime.timedelta(days=num_days)\n",
    "            df = df.with_columns(\n",
    "                pl.when(\n",
    "                    (pl.col(\"time\") >= start_time) & (pl.col(\"time\") <= time_to_use)\n",
    "                )\n",
    "                .then(flag)\n",
    "                .otherwise(pl.col(flag_column))\n",
    "                .alias(flag_column)\n",
    "            )\n",
    "\n",
    "    return df"
   ],
   "id": "5de3ab9d20918c75",
   "outputs": [],
   "execution_count": 127
  },
  {
   "metadata": {
    "ExecuteTime": {
     "end_time": "2025-04-17T09:05:43.593480Z",
     "start_time": "2025-04-17T09:05:43.537150Z"
    }
   },
   "cell_type": "code",
   "source": [
    "all_data_dry_flags_back_prop = back_propagate_flags(\n",
    "    all_data_dry_flags, flag_column=\"dry_flags\", num_days=(DRY_PERIOD_DAYS - 1)\n",
    ")"
   ],
   "id": "787e55242fb966fa",
   "outputs": [],
   "execution_count": 128
  },
  {
   "metadata": {
    "ExecuteTime": {
     "end_time": "2025-04-17T09:05:43.846204Z",
     "start_time": "2025-04-17T09:05:43.837178Z"
    }
   },
   "cell_type": "code",
   "source": [
    "## whilst still daily data:\n",
    "all_data_dry_flags[\"dry_flags\"].value_counts()"
   ],
   "id": "5981b5a7bd45f12c",
   "outputs": [
    {
     "data": {
      "text/plain": [
       "shape: (5, 2)\n",
       "┌───────────┬───────┐\n",
       "│ dry_flags ┆ count │\n",
       "│ ---       ┆ ---   │\n",
       "│ f64       ┆ u32   │\n",
       "╞═══════════╪═══════╡\n",
       "│ 0.0       ┆ 1637  │\n",
       "│ 3.0       ┆ 92    │\n",
       "│ 2.0       ┆ 25    │\n",
       "│ NaN       ┆ 65    │\n",
       "│ 1.0       ┆ 6     │\n",
       "└───────────┴───────┘"
      ],
      "text/html": [
       "<div><style>\n",
       ".dataframe > thead > tr,\n",
       ".dataframe > tbody > tr {\n",
       "  text-align: right;\n",
       "  white-space: pre-wrap;\n",
       "}\n",
       "</style>\n",
       "<small>shape: (5, 2)</small><table border=\"1\" class=\"dataframe\"><thead><tr><th>dry_flags</th><th>count</th></tr><tr><td>f64</td><td>u32</td></tr></thead><tbody><tr><td>0.0</td><td>1637</td></tr><tr><td>3.0</td><td>92</td></tr><tr><td>2.0</td><td>25</td></tr><tr><td>NaN</td><td>65</td></tr><tr><td>1.0</td><td>6</td></tr></tbody></table></div>"
      ]
     },
     "execution_count": 129,
     "metadata": {},
     "output_type": "execute_result"
    }
   ],
   "execution_count": 129
  },
  {
   "metadata": {
    "ExecuteTime": {
     "end_time": "2025-04-17T09:05:44.105345Z",
     "start_time": "2025-04-17T09:05:44.094623Z"
    }
   },
   "cell_type": "code",
   "source": [
    "## after\n",
    "all_data_dry_flags_back_prop[\"dry_flags\"].value_counts()"
   ],
   "id": "74d661f03394e84",
   "outputs": [
    {
     "data": {
      "text/plain": [
       "shape: (5, 2)\n",
       "┌───────────┬───────┐\n",
       "│ dry_flags ┆ count │\n",
       "│ ---       ┆ ---   │\n",
       "│ f64       ┆ u32   │\n",
       "╞═══════════╪═══════╡\n",
       "│ 0.0       ┆ 1581  │\n",
       "│ NaN       ┆ 65    │\n",
       "│ 2.0       ┆ 8     │\n",
       "│ 1.0       ┆ 1     │\n",
       "│ 3.0       ┆ 170   │\n",
       "└───────────┴───────┘"
      ],
      "text/html": [
       "<div><style>\n",
       ".dataframe > thead > tr,\n",
       ".dataframe > tbody > tr {\n",
       "  text-align: right;\n",
       "  white-space: pre-wrap;\n",
       "}\n",
       "</style>\n",
       "<small>shape: (5, 2)</small><table border=\"1\" class=\"dataframe\"><thead><tr><th>dry_flags</th><th>count</th></tr><tr><td>f64</td><td>u32</td></tr></thead><tbody><tr><td>0.0</td><td>1581</td></tr><tr><td>NaN</td><td>65</td></tr><tr><td>2.0</td><td>8</td></tr><tr><td>1.0</td><td>1</td></tr><tr><td>3.0</td><td>170</td></tr></tbody></table></div>"
      ]
     },
     "execution_count": 130,
     "metadata": {},
     "output_type": "execute_result"
    }
   ],
   "execution_count": 130
  },
  {
   "metadata": {
    "ExecuteTime": {
     "end_time": "2025-04-17T09:05:44.412466Z",
     "start_time": "2025-04-17T09:05:44.398352Z"
    }
   },
   "cell_type": "code",
   "source": [
    "all_data_dry_flags_back_prop[845:950]"
   ],
   "id": "f298e719483b9e2a",
   "outputs": [
    {
     "data": {
      "text/plain": [
       "shape: (105, 13)\n",
       "┌────────────┬─────────┬───────────┬───────────┬───┬───────────┬───────────┬───────────┬───────────┐\n",
       "│ time       ┆ rain_mm ┆ dry_flags ┆ dry_flags ┆ … ┆ dry_flags ┆ dry_flags ┆ num_neigh ┆ dry_flags │\n",
       "│ ---        ┆ ---     ┆ _DE_03215 ┆ _DE_02718 ┆   ┆ _DE_06303 ┆ _DE_00310 ┆ bours_onl ┆ ---       │\n",
       "│ datetime[μ ┆ f64     ┆ ---       ┆ ---       ┆   ┆ ---       ┆ ---       ┆ ine       ┆ f64       │\n",
       "│ s]         ┆         ┆ i32       ┆ i32       ┆   ┆ i32       ┆ i32       ┆ ---       ┆           │\n",
       "│            ┆         ┆           ┆           ┆   ┆           ┆           ┆ i16       ┆           │\n",
       "╞════════════╪═════════╪═══════════╪═══════════╪═══╪═══════════╪═══════════╪═══════════╪═══════════╡\n",
       "│ 2008-04-25 ┆ 0.0     ┆ 0         ┆ 0         ┆ … ┆ 0         ┆ 0         ┆ 9         ┆ 0.0       │\n",
       "│ 07:00:00   ┆         ┆           ┆           ┆   ┆           ┆           ┆           ┆           │\n",
       "│ 2008-04-26 ┆ 0.0     ┆ 0         ┆ 0         ┆ … ┆ 0         ┆ 0         ┆ 9         ┆ 0.0       │\n",
       "│ 07:00:00   ┆         ┆           ┆           ┆   ┆           ┆           ┆           ┆           │\n",
       "│ 2008-04-27 ┆ 0.0     ┆ 0         ┆ 0         ┆ … ┆ 0         ┆ 0         ┆ 9         ┆ 0.0       │\n",
       "│ 07:00:00   ┆         ┆           ┆           ┆   ┆           ┆           ┆           ┆           │\n",
       "│ 2008-04-28 ┆ 0.6     ┆ 0         ┆ 0         ┆ … ┆ 0         ┆ 0         ┆ 9         ┆ 0.0       │\n",
       "│ 07:00:00   ┆         ┆           ┆           ┆   ┆           ┆           ┆           ┆           │\n",
       "│ 2008-04-29 ┆ 0.0     ┆ 0         ┆ 0         ┆ … ┆ 0         ┆ 0         ┆ 9         ┆ 0.0       │\n",
       "│ 07:00:00   ┆         ┆           ┆           ┆   ┆           ┆           ┆           ┆           │\n",
       "│ …          ┆ …       ┆ …         ┆ …         ┆ … ┆ …         ┆ …         ┆ …         ┆ …         │\n",
       "│ 2008-08-03 ┆ 0.7     ┆ 0         ┆ 0         ┆ … ┆ 0         ┆ 0         ┆ 9         ┆ 0.0       │\n",
       "│ 07:00:00   ┆         ┆           ┆           ┆   ┆           ┆           ┆           ┆           │\n",
       "│ 2008-08-04 ┆ 0.1     ┆ 0         ┆ 0         ┆ … ┆ 0         ┆ 0         ┆ 9         ┆ 0.0       │\n",
       "│ 07:00:00   ┆         ┆           ┆           ┆   ┆           ┆           ┆           ┆           │\n",
       "│ 2008-08-05 ┆ 0.0     ┆ 0         ┆ 0         ┆ … ┆ 0         ┆ 0         ┆ 9         ┆ 0.0       │\n",
       "│ 07:00:00   ┆         ┆           ┆           ┆   ┆           ┆           ┆           ┆           │\n",
       "│ 2008-08-06 ┆ 0.0     ┆ 0         ┆ 0         ┆ … ┆ 0         ┆ 0         ┆ 9         ┆ 0.0       │\n",
       "│ 07:00:00   ┆         ┆           ┆           ┆   ┆           ┆           ┆           ┆           │\n",
       "│ 2008-08-07 ┆ 0.2     ┆ 0         ┆ 0         ┆ … ┆ 0         ┆ 0         ┆ 9         ┆ 0.0       │\n",
       "│ 07:00:00   ┆         ┆           ┆           ┆   ┆           ┆           ┆           ┆           │\n",
       "└────────────┴─────────┴───────────┴───────────┴───┴───────────┴───────────┴───────────┴───────────┘"
      ],
      "text/html": [
       "<div><style>\n",
       ".dataframe > thead > tr,\n",
       ".dataframe > tbody > tr {\n",
       "  text-align: right;\n",
       "  white-space: pre-wrap;\n",
       "}\n",
       "</style>\n",
       "<small>shape: (105, 13)</small><table border=\"1\" class=\"dataframe\"><thead><tr><th>time</th><th>rain_mm</th><th>dry_flags_DE_03215</th><th>dry_flags_DE_02718</th><th>dry_flags_DE_04488</th><th>dry_flags_DE_06264</th><th>dry_flags_DE_00390</th><th>dry_flags_DE_01300</th><th>dry_flags_DE_04313</th><th>dry_flags_DE_06303</th><th>dry_flags_DE_00310</th><th>num_neighbours_online</th><th>dry_flags</th></tr><tr><td>datetime[μs]</td><td>f64</td><td>i32</td><td>i32</td><td>i32</td><td>i32</td><td>i32</td><td>i32</td><td>i32</td><td>i32</td><td>i32</td><td>i16</td><td>f64</td></tr></thead><tbody><tr><td>2008-04-25 07:00:00</td><td>0.0</td><td>0</td><td>0</td><td>0</td><td>0</td><td>0</td><td>0</td><td>0</td><td>0</td><td>0</td><td>9</td><td>0.0</td></tr><tr><td>2008-04-26 07:00:00</td><td>0.0</td><td>0</td><td>0</td><td>0</td><td>0</td><td>0</td><td>0</td><td>0</td><td>0</td><td>0</td><td>9</td><td>0.0</td></tr><tr><td>2008-04-27 07:00:00</td><td>0.0</td><td>0</td><td>0</td><td>0</td><td>0</td><td>0</td><td>0</td><td>0</td><td>0</td><td>0</td><td>9</td><td>0.0</td></tr><tr><td>2008-04-28 07:00:00</td><td>0.6</td><td>0</td><td>0</td><td>0</td><td>0</td><td>0</td><td>0</td><td>0</td><td>0</td><td>0</td><td>9</td><td>0.0</td></tr><tr><td>2008-04-29 07:00:00</td><td>0.0</td><td>0</td><td>0</td><td>0</td><td>0</td><td>0</td><td>0</td><td>0</td><td>0</td><td>0</td><td>9</td><td>0.0</td></tr><tr><td>&hellip;</td><td>&hellip;</td><td>&hellip;</td><td>&hellip;</td><td>&hellip;</td><td>&hellip;</td><td>&hellip;</td><td>&hellip;</td><td>&hellip;</td><td>&hellip;</td><td>&hellip;</td><td>&hellip;</td><td>&hellip;</td></tr><tr><td>2008-08-03 07:00:00</td><td>0.7</td><td>0</td><td>0</td><td>0</td><td>0</td><td>0</td><td>0</td><td>0</td><td>0</td><td>0</td><td>9</td><td>0.0</td></tr><tr><td>2008-08-04 07:00:00</td><td>0.1</td><td>0</td><td>0</td><td>0</td><td>0</td><td>0</td><td>0</td><td>0</td><td>0</td><td>0</td><td>9</td><td>0.0</td></tr><tr><td>2008-08-05 07:00:00</td><td>0.0</td><td>0</td><td>0</td><td>0</td><td>0</td><td>0</td><td>0</td><td>0</td><td>0</td><td>0</td><td>9</td><td>0.0</td></tr><tr><td>2008-08-06 07:00:00</td><td>0.0</td><td>0</td><td>0</td><td>0</td><td>0</td><td>0</td><td>0</td><td>0</td><td>0</td><td>0</td><td>9</td><td>0.0</td></tr><tr><td>2008-08-07 07:00:00</td><td>0.2</td><td>0</td><td>0</td><td>0</td><td>0</td><td>0</td><td>0</td><td>0</td><td>0</td><td>0</td><td>9</td><td>0.0</td></tr></tbody></table></div>"
      ]
     },
     "execution_count": 131,
     "metadata": {},
     "output_type": "execute_result"
    }
   ],
   "execution_count": 131
  },
  {
   "metadata": {},
   "cell_type": "markdown",
   "source": "## Step 5. Join back to hourly data",
   "id": "c55c4ef996401786"
  },
  {
   "metadata": {
    "ExecuteTime": {
     "end_time": "2025-04-17T09:05:45.174072Z",
     "start_time": "2025-04-17T09:05:45.167089Z"
    }
   },
   "cell_type": "code",
   "source": [
    "target_gauge_w_dry_flags = target_gauge.join(\n",
    "    all_data_dry_flags_back_prop[[\"time\", \"dry_flags\"]], on=\"time\", how=\"left\"\n",
    ")"
   ],
   "id": "d75e0e2d7ecdda1f",
   "outputs": [],
   "execution_count": 132
  },
  {
   "metadata": {},
   "cell_type": "markdown",
   "source": "## Step 6. Forward flood-fill",
   "id": "b23a1a6e4e5a0ab0"
  },
  {
   "metadata": {
    "ExecuteTime": {
     "end_time": "2025-04-17T09:05:45.315071Z",
     "start_time": "2025-04-17T09:05:45.309573Z"
    }
   },
   "cell_type": "code",
   "source": [
    "## Forward flood-fill data to convert the flags back to hourly\n",
    "target_gauge_w_dry_flags = target_gauge_w_dry_flags.with_columns(\n",
    "    pl.col(\"dry_flags\").forward_fill(limit=23)\n",
    ")"
   ],
   "id": "94610e95f835e8ca",
   "outputs": [],
   "execution_count": 133
  },
  {
   "metadata": {
    "ExecuteTime": {
     "end_time": "2025-04-17T09:05:46.033911Z",
     "start_time": "2025-04-17T09:05:46.021562Z"
    }
   },
   "cell_type": "code",
   "source": [
    "target_gauge_w_dry_flags[\"dry_flags\"].value_counts()"
   ],
   "id": "ca19f693cb71e430",
   "outputs": [
    {
     "data": {
      "text/plain": [
       "shape: (6, 2)\n",
       "┌───────────┬───────┐\n",
       "│ dry_flags ┆ count │\n",
       "│ ---       ┆ ---   │\n",
       "│ f64       ┆ u32   │\n",
       "╞═══════════╪═══════╡\n",
       "│ NaN       ┆ 1560  │\n",
       "│ 3.0       ┆ 4080  │\n",
       "│ 1.0       ┆ 24    │\n",
       "│ 2.0       ┆ 192   │\n",
       "│ 0.0       ┆ 37944 │\n",
       "│ null      ┆ 24    │\n",
       "└───────────┴───────┘"
      ],
      "text/html": [
       "<div><style>\n",
       ".dataframe > thead > tr,\n",
       ".dataframe > tbody > tr {\n",
       "  text-align: right;\n",
       "  white-space: pre-wrap;\n",
       "}\n",
       "</style>\n",
       "<small>shape: (6, 2)</small><table border=\"1\" class=\"dataframe\"><thead><tr><th>dry_flags</th><th>count</th></tr><tr><td>f64</td><td>u32</td></tr></thead><tbody><tr><td>NaN</td><td>1560</td></tr><tr><td>3.0</td><td>4080</td></tr><tr><td>1.0</td><td>24</td></tr><tr><td>2.0</td><td>192</td></tr><tr><td>0.0</td><td>37944</td></tr><tr><td>null</td><td>24</td></tr></tbody></table></div>"
      ]
     },
     "execution_count": 134,
     "metadata": {},
     "output_type": "execute_result"
    }
   ],
   "execution_count": 134
  },
  {
   "metadata": {
    "ExecuteTime": {
     "end_time": "2025-04-17T09:05:46.143207Z",
     "start_time": "2025-04-17T09:05:46.129829Z"
    }
   },
   "cell_type": "code",
   "source": [
    "target_gauge_w_dry_flags.filter(\n",
    "    (pl.col(\"dry_flags\") > 0) & (pl.col(\"dry_flags\").is_finite())\n",
    ")"
   ],
   "id": "7a3353eedfd968f5",
   "outputs": [
    {
     "data": {
      "text/plain": [
       "shape: (4_296, 3)\n",
       "┌─────────────────────┬─────────┬───────────┐\n",
       "│ time                ┆ rain_mm ┆ dry_flags │\n",
       "│ ---                 ┆ ---     ┆ ---       │\n",
       "│ datetime[μs]        ┆ f64     ┆ f64       │\n",
       "╞═════════════════════╪═════════╪═══════════╡\n",
       "│ 2008-09-15 07:00:00 ┆ 0.0     ┆ 1.0       │\n",
       "│ 2008-09-15 08:00:00 ┆ 0.0     ┆ 1.0       │\n",
       "│ 2008-09-15 09:00:00 ┆ 0.0     ┆ 1.0       │\n",
       "│ 2008-09-15 10:00:00 ┆ 0.0     ┆ 1.0       │\n",
       "│ 2008-09-15 11:00:00 ┆ 0.0     ┆ 1.0       │\n",
       "│ …                   ┆ …       ┆ …         │\n",
       "│ 2010-10-31 02:00:00 ┆ 0.0     ┆ 3.0       │\n",
       "│ 2010-10-31 03:00:00 ┆ 0.0     ┆ 3.0       │\n",
       "│ 2010-10-31 04:00:00 ┆ 0.0     ┆ 3.0       │\n",
       "│ 2010-10-31 05:00:00 ┆ 0.0     ┆ 3.0       │\n",
       "│ 2010-10-31 06:00:00 ┆ 0.0     ┆ 3.0       │\n",
       "└─────────────────────┴─────────┴───────────┘"
      ],
      "text/html": [
       "<div><style>\n",
       ".dataframe > thead > tr,\n",
       ".dataframe > tbody > tr {\n",
       "  text-align: right;\n",
       "  white-space: pre-wrap;\n",
       "}\n",
       "</style>\n",
       "<small>shape: (4_296, 3)</small><table border=\"1\" class=\"dataframe\"><thead><tr><th>time</th><th>rain_mm</th><th>dry_flags</th></tr><tr><td>datetime[μs]</td><td>f64</td><td>f64</td></tr></thead><tbody><tr><td>2008-09-15 07:00:00</td><td>0.0</td><td>1.0</td></tr><tr><td>2008-09-15 08:00:00</td><td>0.0</td><td>1.0</td></tr><tr><td>2008-09-15 09:00:00</td><td>0.0</td><td>1.0</td></tr><tr><td>2008-09-15 10:00:00</td><td>0.0</td><td>1.0</td></tr><tr><td>2008-09-15 11:00:00</td><td>0.0</td><td>1.0</td></tr><tr><td>&hellip;</td><td>&hellip;</td><td>&hellip;</td></tr><tr><td>2010-10-31 02:00:00</td><td>0.0</td><td>3.0</td></tr><tr><td>2010-10-31 03:00:00</td><td>0.0</td><td>3.0</td></tr><tr><td>2010-10-31 04:00:00</td><td>0.0</td><td>3.0</td></tr><tr><td>2010-10-31 05:00:00</td><td>0.0</td><td>3.0</td></tr><tr><td>2010-10-31 06:00:00</td><td>0.0</td><td>3.0</td></tr></tbody></table></div>"
      ]
     },
     "execution_count": 135,
     "metadata": {},
     "output_type": "execute_result"
    }
   ],
   "execution_count": 135
  },
  {
   "cell_type": "markdown",
   "id": "f26abff0-392f-4598-ba76-3d054608521b",
   "metadata": {},
   "source": [
    "# QC20 - Monthly neighbours\n",
    "[Back to Index](#Table-of-contents)\n",
    "\n",
    "#### Differences from `intense-qc`: \n",
    "- The intenseQC code is wrong for the +/-4, 5 flags, so I am going off the description in the paper"
   ]
  },
  {
   "metadata": {},
   "cell_type": "markdown",
   "source": [
    "## Step 0. Resample into monthly\n",
    "Also includes step of extracting year and month and computing expected days in month"
   ],
   "id": "200946673fef8f97"
  },
  {
   "metadata": {
    "ExecuteTime": {
     "end_time": "2025-04-17T09:05:46.261389Z",
     "start_time": "2025-04-17T09:05:46.257399Z"
    }
   },
   "cell_type": "code",
   "source": "PERC_MONTH_NEEDED = 95  ## 95% stated in paper. In IntenseQC it says: \"count valid values within month and set flag as nan if more than 5% of data is missing\"",
   "id": "1f8f6672c2c69908",
   "outputs": [],
   "execution_count": 136
  },
  {
   "metadata": {
    "ExecuteTime": {
     "end_time": "2025-04-17T09:05:46.514862Z",
     "start_time": "2025-04-17T09:05:46.510534Z"
    }
   },
   "cell_type": "code",
   "source": [
    "# NOTE: Annoyingly, there is no days_in_month functionality for polars yet\n",
    "def make_monthyear_col(data):\n",
    "    # Make year and month columns\n",
    "    return data.with_columns(\n",
    "        [\n",
    "            pl.col(\"time\").dt.year().alias(\"year\"),\n",
    "            pl.col(\"time\").dt.month().alias(\"month\"),\n",
    "        ]\n",
    "    )\n",
    "\n",
    "\n",
    "def get_expected_days_in_month(data):\n",
    "    \"\"\"\n",
    "\n",
    "    Parameters\n",
    "    ----------\n",
    "    data : pl.DataFrame\n",
    "        Data with 'year' and 'month' columns\n",
    "\n",
    "    Returns\n",
    "    -------\n",
    "\n",
    "    \"\"\"\n",
    "    # Use map_elements + calendar.monthrange to compute days in each month\n",
    "    return data.with_columns(\n",
    "        [\n",
    "            pl.struct([\"year\", \"month\"])\n",
    "            .map_elements(\n",
    "                lambda x: calendar.monthrange(x[\"year\"], x[\"month\"])[1],\n",
    "                return_dtype=pl.Int64,\n",
    "            )\n",
    "            .alias(\"expected_days_in_month\")\n",
    "        ]\n",
    "    )"
   ],
   "id": "4c9472d2e1a29423",
   "outputs": [],
   "execution_count": 137
  },
  {
   "metadata": {
    "ExecuteTime": {
     "end_time": "2025-04-17T09:05:46.931368Z",
     "start_time": "2025-04-17T09:05:46.814734Z"
    }
   },
   "cell_type": "code",
   "source": [
    "target_gauge_monthyear = make_monthyear_col(target_gauge)\n",
    "target_gauge_monthyear = get_expected_days_in_month(target_gauge_monthyear)"
   ],
   "id": "1111377456c719bd",
   "outputs": [],
   "execution_count": 138
  },
  {
   "metadata": {
    "ExecuteTime": {
     "end_time": "2025-04-17T09:05:47.135950Z",
     "start_time": "2025-04-17T09:05:47.112644Z"
    }
   },
   "cell_type": "code",
   "source": [
    "target_gauge_monthly = (\n",
    "    target_gauge_monthyear.group_by_dynamic(\"time\", every=\"1mo\", closed=\"right\")\n",
    "    .agg(\n",
    "        [\n",
    "            pl.len().alias(\"n_hours\"),\n",
    "            pl.col(rain_col).sum().alias(rain_col),\n",
    "            pl.col(\"expected_days_in_month\").first(),\n",
    "        ]\n",
    "    )\n",
    "    .filter(\n",
    "        pl.col(\"n_hours\")\n",
    "        >= (24 * pl.col(\"expected_days_in_month\") * PERC_MONTH_NEEDED / 100)\n",
    "    )  # TODO: Ensure at least 95% values for month are available\n",
    "    .drop(\"n_hours\", \"expected_days_in_month\")\n",
    ")"
   ],
   "id": "291eeae4105a9806",
   "outputs": [],
   "execution_count": 139
  },
  {
   "metadata": {
    "ExecuteTime": {
     "end_time": "2025-04-17T09:05:47.398756Z",
     "start_time": "2025-04-17T09:05:47.389682Z"
    }
   },
   "cell_type": "code",
   "source": [
    "target_gauge_monthly"
   ],
   "id": "e4df273e70a073f7",
   "outputs": [
    {
     "data": {
      "text/plain": [
       "shape: (60, 2)\n",
       "┌─────────────────────┬─────────┐\n",
       "│ time                ┆ rain_mm │\n",
       "│ ---                 ┆ ---     │\n",
       "│ datetime[μs]        ┆ f64     │\n",
       "╞═════════════════════╪═════════╡\n",
       "│ 2006-01-01 00:00:00 ┆ NaN     │\n",
       "│ 2006-02-01 00:00:00 ┆ NaN     │\n",
       "│ 2006-03-01 00:00:00 ┆ 302.9   │\n",
       "│ 2006-04-01 00:00:00 ┆ 224.2   │\n",
       "│ 2006-05-01 00:00:00 ┆ 402.2   │\n",
       "│ …                   ┆ …       │\n",
       "│ 2010-08-01 00:00:00 ┆ 417.1   │\n",
       "│ 2010-09-01 00:00:00 ┆ 30.0    │\n",
       "│ 2010-10-01 00:00:00 ┆ 40.0    │\n",
       "│ 2010-11-01 00:00:00 ┆ 192.5   │\n",
       "│ 2010-12-01 00:00:00 ┆ 160.25  │\n",
       "└─────────────────────┴─────────┘"
      ],
      "text/html": [
       "<div><style>\n",
       ".dataframe > thead > tr,\n",
       ".dataframe > tbody > tr {\n",
       "  text-align: right;\n",
       "  white-space: pre-wrap;\n",
       "}\n",
       "</style>\n",
       "<small>shape: (60, 2)</small><table border=\"1\" class=\"dataframe\"><thead><tr><th>time</th><th>rain_mm</th></tr><tr><td>datetime[μs]</td><td>f64</td></tr></thead><tbody><tr><td>2006-01-01 00:00:00</td><td>NaN</td></tr><tr><td>2006-02-01 00:00:00</td><td>NaN</td></tr><tr><td>2006-03-01 00:00:00</td><td>302.9</td></tr><tr><td>2006-04-01 00:00:00</td><td>224.2</td></tr><tr><td>2006-05-01 00:00:00</td><td>402.2</td></tr><tr><td>&hellip;</td><td>&hellip;</td></tr><tr><td>2010-08-01 00:00:00</td><td>417.1</td></tr><tr><td>2010-09-01 00:00:00</td><td>30.0</td></tr><tr><td>2010-10-01 00:00:00</td><td>40.0</td></tr><tr><td>2010-11-01 00:00:00</td><td>192.5</td></tr><tr><td>2010-12-01 00:00:00</td><td>160.25</td></tr></tbody></table></div>"
      ]
     },
     "execution_count": 140,
     "metadata": {},
     "output_type": "execute_result"
    }
   ],
   "execution_count": 140
  },
  {
   "metadata": {},
   "cell_type": "markdown",
   "source": [
    "## Step 1. Loop through monthly GPCC neighbours and compare to target\n",
    "\n",
    "TODO: need to find a way to programatically parse TW (daily) and MW (monthly) data"
   ],
   "id": "3f98a1005917f053"
  },
  {
   "metadata": {
    "ExecuteTime": {
     "end_time": "2025-04-17T09:05:47.598058Z",
     "start_time": "2025-04-17T09:05:47.591209Z"
    }
   },
   "cell_type": "code",
   "source": [
    "def calculate_perc_diff(target, other):\n",
    "    \"\"\"\n",
    "    Parameters\n",
    "    ----------\n",
    "    target: pl.Series\n",
    "        Target data to compare other too\n",
    "    other: pl.Series\n",
    "        Other data\n",
    "    Returns\n",
    "    -------\n",
    "    perc_diff: pl.Series\n",
    "    \"\"\"\n",
    "    return (target - other) * 100 / other\n",
    "\n"
   ],
   "id": "fdd4980f93a2c970",
   "outputs": [],
   "execution_count": 141
  },
  {
   "metadata": {
    "ExecuteTime": {
     "end_time": "2025-04-17T09:05:47.934440Z",
     "start_time": "2025-04-17T09:05:47.806431Z"
    }
   },
   "cell_type": "code",
   "source": [
    "all_data = target_gauge_monthly.clone()\n",
    "\n",
    "for gpcc_id_to_use, gpcc_path in existing_gpcc_monthly_paths.items():\n",
    "    ## Step 0. Load GPCC monthly data\n",
    "    gpcc_id_name = gpcc_id_to_use.split(\"DE_\")[1].lstrip(\"0\")\n",
    "    if len(gpcc_path) == 0:\n",
    "        continue\n",
    "    f = zipfile.ZipFile(gpcc_path[0]).open(f\"mw_{gpcc_id_name}.dat\")\n",
    "    example_gpcc = pl.from_pandas(pd.read_csv(f, skiprows=1, header=None, sep=r\"\\s+\"))\n",
    "\n",
    "    ## Step 1. drop unnecessary columns\n",
    "    example_gpcc = example_gpcc.drop([str(i) for i in range(3, 15)])\n",
    "\n",
    "    ## Step 2. make datetime column (apparently it's 7am-7pm)\n",
    "    example_gpcc = example_gpcc.with_columns(\n",
    "        pl.datetime(year=pl.col(\"1\"), month=pl.col(\"0\"), day=1).alias(\"time\")\n",
    "    ).drop([\"0\", \"1\"])\n",
    "\n",
    "    ## Step 3. rename and reorder\n",
    "    example_gpcc = example_gpcc.rename({\"2\": rain_col})\n",
    "    example_gpcc = example_gpcc.select([\"time\", rain_col])  ## Reorder (to look nice)\n",
    "\n",
    "    ## Step 4. join to target data\n",
    "    joined_gauges_gpcc = target_gauge_monthly.join(\n",
    "        example_gpcc, on=\"time\", suffix=f\"_GPCC_{gpcc_id_name}\"\n",
    "    )\n",
    "    joined_gauges_gpcc = joined_gauges_gpcc.drop_nans()\n",
    "\n",
    "    ## Step 5. Calculate perc_diff between target and neighbour\n",
    "    joined_gauges_gpcc_perc_diff = joined_gauges_gpcc.with_columns(\n",
    "        perc_diff=calculate_perc_diff(\n",
    "            pl.col(f\"{rain_col}\"), pl.col(f\"{rain_col}_GPCC_{gpcc_id_name}\")\n",
    "        )\n",
    "    )\n",
    "\n",
    "    ## Step 6. Assign flags\n",
    "    joined_gauges_gpcc_perc_flags = joined_gauges_gpcc_perc_diff.with_columns(\n",
    "        pl.when((pl.col(\"perc_diff\") <= -100.0))\n",
    "        .then(-3)\n",
    "        .when((pl.col(\"perc_diff\") <= -50.0) & (pl.col(\"perc_diff\") > -100.0))\n",
    "        .then(-2)\n",
    "        .when((pl.col(\"perc_diff\") <= -25.0) & (pl.col(\"perc_diff\") > -50.0))\n",
    "        .then(-1)\n",
    "        .when((pl.col(\"perc_diff\") <= 25.0) & (pl.col(\"perc_diff\") > -25.0))\n",
    "        .then(0)\n",
    "        .when((pl.col(\"perc_diff\") >= 25.0) & (pl.col(\"perc_diff\") < 50.0))\n",
    "        .then(1)\n",
    "        .when((pl.col(\"perc_diff\") >= 50.0) & (pl.col(\"perc_diff\") < 100.0))\n",
    "        .then(2)\n",
    "        .when((pl.col(\"perc_diff\") >= 100.0))\n",
    "        .then(3)\n",
    "        .otherwise(0)\n",
    "        .alias(f\"monthly_flags_{gpcc_id_name}\")\n",
    "    )\n",
    "\n",
    "    all_data = all_data.join(\n",
    "        joined_gauges_gpcc_perc_flags[[\"time\", f\"monthly_flags_{gpcc_id_name}\"]],\n",
    "        on=\"time\",\n",
    "        how=\"left\",\n",
    "    )\n",
    "\n",
    "    print(all_data[f\"monthly_flags_{gpcc_id_name}\"].value_counts())"
   ],
   "id": "787aea1e620f52be",
   "outputs": [
    {
     "name": "stdout",
     "output_type": "stream",
     "text": [
      "shape: (7, 2)\n",
      "┌────────────────────┬───────┐\n",
      "│ monthly_flags_3215 ┆ count │\n",
      "│ ---                ┆ ---   │\n",
      "│ i32                ┆ u32   │\n",
      "╞════════════════════╪═══════╡\n",
      "│ 1                  ┆ 3     │\n",
      "│ null               ┆ 27    │\n",
      "│ 2                  ┆ 13    │\n",
      "│ -3                 ┆ 2     │\n",
      "│ 3                  ┆ 10    │\n",
      "│ 0                  ┆ 4     │\n",
      "│ -2                 ┆ 1     │\n",
      "└────────────────────┴───────┘\n",
      "shape: (8, 2)\n",
      "┌────────────────────┬───────┐\n",
      "│ monthly_flags_6303 ┆ count │\n",
      "│ ---                ┆ ---   │\n",
      "│ i32                ┆ u32   │\n",
      "╞════════════════════╪═══════╡\n",
      "│ -1                 ┆ 2     │\n",
      "│ -3                 ┆ 2     │\n",
      "│ 3                  ┆ 10    │\n",
      "│ 0                  ┆ 16    │\n",
      "│ 2                  ┆ 3     │\n",
      "│ null               ┆ 17    │\n",
      "│ -2                 ┆ 1     │\n",
      "│ 1                  ┆ 9     │\n",
      "└────────────────────┴───────┘\n",
      "shape: (8, 2)\n",
      "┌───────────────────┬───────┐\n",
      "│ monthly_flags_310 ┆ count │\n",
      "│ ---               ┆ ---   │\n",
      "│ i32               ┆ u32   │\n",
      "╞═══════════════════╪═══════╡\n",
      "│ -3                ┆ 2     │\n",
      "│ 2                 ┆ 8     │\n",
      "│ 0                 ┆ 9     │\n",
      "│ -2                ┆ 1     │\n",
      "│ null              ┆ 17    │\n",
      "│ -1                ┆ 2     │\n",
      "│ 3                 ┆ 11    │\n",
      "│ 1                 ┆ 10    │\n",
      "└───────────────────┴───────┘\n"
     ]
    }
   ],
   "execution_count": 142
  },
  {
   "metadata": {
    "ExecuteTime": {
     "end_time": "2025-04-17T09:05:48.118423Z",
     "start_time": "2025-04-17T09:05:48.106596Z"
    }
   },
   "cell_type": "code",
   "source": [
    "all_data"
   ],
   "id": "88f002ac8d9f55ea",
   "outputs": [
    {
     "data": {
      "text/plain": [
       "shape: (60, 5)\n",
       "┌─────────────────────┬─────────┬────────────────────┬────────────────────┬───────────────────┐\n",
       "│ time                ┆ rain_mm ┆ monthly_flags_3215 ┆ monthly_flags_6303 ┆ monthly_flags_310 │\n",
       "│ ---                 ┆ ---     ┆ ---                ┆ ---                ┆ ---               │\n",
       "│ datetime[μs]        ┆ f64     ┆ i32                ┆ i32                ┆ i32               │\n",
       "╞═════════════════════╪═════════╪════════════════════╪════════════════════╪═══════════════════╡\n",
       "│ 2006-01-01 00:00:00 ┆ NaN     ┆ null               ┆ null               ┆ null              │\n",
       "│ 2006-02-01 00:00:00 ┆ NaN     ┆ null               ┆ null               ┆ null              │\n",
       "│ 2006-03-01 00:00:00 ┆ 302.9   ┆ null               ┆ 3                  ┆ 3                 │\n",
       "│ 2006-04-01 00:00:00 ┆ 224.2   ┆ null               ┆ 3                  ┆ 3                 │\n",
       "│ 2006-05-01 00:00:00 ┆ 402.2   ┆ null               ┆ 3                  ┆ 3                 │\n",
       "│ …                   ┆ …       ┆ …                  ┆ …                  ┆ …                 │\n",
       "│ 2010-08-01 00:00:00 ┆ 417.1   ┆ 3                  ┆ 3                  ┆ 2                 │\n",
       "│ 2010-09-01 00:00:00 ┆ 30.0    ┆ -2                 ┆ -2                 ┆ -2                │\n",
       "│ 2010-10-01 00:00:00 ┆ 40.0    ┆ 1                  ┆ 0                  ┆ 0                 │\n",
       "│ 2010-11-01 00:00:00 ┆ 192.5   ┆ 3                  ┆ 1                  ┆ 1                 │\n",
       "│ 2010-12-01 00:00:00 ┆ 160.25  ┆ 2                  ┆ 2                  ┆ 2                 │\n",
       "└─────────────────────┴─────────┴────────────────────┴────────────────────┴───────────────────┘"
      ],
      "text/html": [
       "<div><style>\n",
       ".dataframe > thead > tr,\n",
       ".dataframe > tbody > tr {\n",
       "  text-align: right;\n",
       "  white-space: pre-wrap;\n",
       "}\n",
       "</style>\n",
       "<small>shape: (60, 5)</small><table border=\"1\" class=\"dataframe\"><thead><tr><th>time</th><th>rain_mm</th><th>monthly_flags_3215</th><th>monthly_flags_6303</th><th>monthly_flags_310</th></tr><tr><td>datetime[μs]</td><td>f64</td><td>i32</td><td>i32</td><td>i32</td></tr></thead><tbody><tr><td>2006-01-01 00:00:00</td><td>NaN</td><td>null</td><td>null</td><td>null</td></tr><tr><td>2006-02-01 00:00:00</td><td>NaN</td><td>null</td><td>null</td><td>null</td></tr><tr><td>2006-03-01 00:00:00</td><td>302.9</td><td>null</td><td>3</td><td>3</td></tr><tr><td>2006-04-01 00:00:00</td><td>224.2</td><td>null</td><td>3</td><td>3</td></tr><tr><td>2006-05-01 00:00:00</td><td>402.2</td><td>null</td><td>3</td><td>3</td></tr><tr><td>&hellip;</td><td>&hellip;</td><td>&hellip;</td><td>&hellip;</td><td>&hellip;</td></tr><tr><td>2010-08-01 00:00:00</td><td>417.1</td><td>3</td><td>3</td><td>2</td></tr><tr><td>2010-09-01 00:00:00</td><td>30.0</td><td>-2</td><td>-2</td><td>-2</td></tr><tr><td>2010-10-01 00:00:00</td><td>40.0</td><td>1</td><td>0</td><td>0</td></tr><tr><td>2010-11-01 00:00:00</td><td>192.5</td><td>3</td><td>1</td><td>1</td></tr><tr><td>2010-12-01 00:00:00</td><td>160.25</td><td>2</td><td>2</td><td>2</td></tr></tbody></table></div>"
      ]
     },
     "execution_count": 143,
     "metadata": {},
     "output_type": "execute_result"
    }
   ],
   "execution_count": 143
  },
  {
   "metadata": {
    "ExecuteTime": {
     "end_time": "2025-04-17T09:05:48.391060Z",
     "start_time": "2025-04-17T09:05:48.385910Z"
    }
   },
   "cell_type": "code",
   "source": "",
   "id": "2bc6899418bbe621",
   "outputs": [],
   "execution_count": null
  },
  {
   "metadata": {},
   "cell_type": "markdown",
   "source": "## Step 2. Calculate num neighbours online",
   "id": "1b5b439009b58daa"
  },
  {
   "metadata": {
    "ExecuteTime": {
     "end_time": "2025-04-17T09:05:48.618231Z",
     "start_time": "2025-04-17T09:05:48.611366Z"
    }
   },
   "cell_type": "code",
   "source": [
    "## global determining the minimum number of non-null neighbours to count flags\n",
    "MIN_NUM_NEIGHBOURS = 2  # original method is 3"
   ],
   "id": "dab80e749412bb2",
   "outputs": [],
   "execution_count": 144
  },
  {
   "metadata": {
    "ExecuteTime": {
     "end_time": "2025-04-17T09:05:48.877451Z",
     "start_time": "2025-04-17T09:05:48.869617Z"
    }
   },
   "cell_type": "code",
   "source": [
    "num_neighbours = len(all_data.columns[2:])\n",
    "num_neighbours"
   ],
   "id": "2300d2415ba47129",
   "outputs": [
    {
     "data": {
      "text/plain": [
       "3"
      ]
     },
     "execution_count": 145,
     "metadata": {},
     "output_type": "execute_result"
    }
   ],
   "execution_count": 145
  },
  {
   "metadata": {
    "ExecuteTime": {
     "end_time": "2025-04-17T09:05:49.026240Z",
     "start_time": "2025-04-17T09:05:49.011685Z"
    }
   },
   "cell_type": "code",
   "source": [
    "all_data_num_neighbours = all_data.with_columns(\n",
    "    (\n",
    "        num_neighbours\n",
    "        - pl.sum_horizontal(pl.all().exclude(\"time\").is_null().cast(pl.Int16))\n",
    "    ).alias(\"num_neighbours_online\")\n",
    ")\n",
    "all_data_num_neighbours"
   ],
   "id": "1e1dc18973fdbe6b",
   "outputs": [
    {
     "data": {
      "text/plain": [
       "shape: (60, 6)\n",
       "┌─────────────────┬─────────┬─────────────────┬─────────────────┬─────────────────┬────────────────┐\n",
       "│ time            ┆ rain_mm ┆ monthly_flags_3 ┆ monthly_flags_6 ┆ monthly_flags_3 ┆ num_neighbours │\n",
       "│ ---             ┆ ---     ┆ 215             ┆ 303             ┆ 10              ┆ _online        │\n",
       "│ datetime[μs]    ┆ f64     ┆ ---             ┆ ---             ┆ ---             ┆ ---            │\n",
       "│                 ┆         ┆ i32             ┆ i32             ┆ i32             ┆ i16            │\n",
       "╞═════════════════╪═════════╪═════════════════╪═════════════════╪═════════════════╪════════════════╡\n",
       "│ 2006-01-01      ┆ NaN     ┆ null            ┆ null            ┆ null            ┆ 0              │\n",
       "│ 00:00:00        ┆         ┆                 ┆                 ┆                 ┆                │\n",
       "│ 2006-02-01      ┆ NaN     ┆ null            ┆ null            ┆ null            ┆ 0              │\n",
       "│ 00:00:00        ┆         ┆                 ┆                 ┆                 ┆                │\n",
       "│ 2006-03-01      ┆ 302.9   ┆ null            ┆ 3               ┆ 3               ┆ 2              │\n",
       "│ 00:00:00        ┆         ┆                 ┆                 ┆                 ┆                │\n",
       "│ 2006-04-01      ┆ 224.2   ┆ null            ┆ 3               ┆ 3               ┆ 2              │\n",
       "│ 00:00:00        ┆         ┆                 ┆                 ┆                 ┆                │\n",
       "│ 2006-05-01      ┆ 402.2   ┆ null            ┆ 3               ┆ 3               ┆ 2              │\n",
       "│ 00:00:00        ┆         ┆                 ┆                 ┆                 ┆                │\n",
       "│ …               ┆ …       ┆ …               ┆ …               ┆ …               ┆ …              │\n",
       "│ 2010-08-01      ┆ 417.1   ┆ 3               ┆ 3               ┆ 2               ┆ 3              │\n",
       "│ 00:00:00        ┆         ┆                 ┆                 ┆                 ┆                │\n",
       "│ 2010-09-01      ┆ 30.0    ┆ -2              ┆ -2              ┆ -2              ┆ 3              │\n",
       "│ 00:00:00        ┆         ┆                 ┆                 ┆                 ┆                │\n",
       "│ 2010-10-01      ┆ 40.0    ┆ 1               ┆ 0               ┆ 0               ┆ 3              │\n",
       "│ 00:00:00        ┆         ┆                 ┆                 ┆                 ┆                │\n",
       "│ 2010-11-01      ┆ 192.5   ┆ 3               ┆ 1               ┆ 1               ┆ 3              │\n",
       "│ 00:00:00        ┆         ┆                 ┆                 ┆                 ┆                │\n",
       "│ 2010-12-01      ┆ 160.25  ┆ 2               ┆ 2               ┆ 2               ┆ 3              │\n",
       "│ 00:00:00        ┆         ┆                 ┆                 ┆                 ┆                │\n",
       "└─────────────────┴─────────┴─────────────────┴─────────────────┴─────────────────┴────────────────┘"
      ],
      "text/html": [
       "<div><style>\n",
       ".dataframe > thead > tr,\n",
       ".dataframe > tbody > tr {\n",
       "  text-align: right;\n",
       "  white-space: pre-wrap;\n",
       "}\n",
       "</style>\n",
       "<small>shape: (60, 6)</small><table border=\"1\" class=\"dataframe\"><thead><tr><th>time</th><th>rain_mm</th><th>monthly_flags_3215</th><th>monthly_flags_6303</th><th>monthly_flags_310</th><th>num_neighbours_online</th></tr><tr><td>datetime[μs]</td><td>f64</td><td>i32</td><td>i32</td><td>i32</td><td>i16</td></tr></thead><tbody><tr><td>2006-01-01 00:00:00</td><td>NaN</td><td>null</td><td>null</td><td>null</td><td>0</td></tr><tr><td>2006-02-01 00:00:00</td><td>NaN</td><td>null</td><td>null</td><td>null</td><td>0</td></tr><tr><td>2006-03-01 00:00:00</td><td>302.9</td><td>null</td><td>3</td><td>3</td><td>2</td></tr><tr><td>2006-04-01 00:00:00</td><td>224.2</td><td>null</td><td>3</td><td>3</td><td>2</td></tr><tr><td>2006-05-01 00:00:00</td><td>402.2</td><td>null</td><td>3</td><td>3</td><td>2</td></tr><tr><td>&hellip;</td><td>&hellip;</td><td>&hellip;</td><td>&hellip;</td><td>&hellip;</td><td>&hellip;</td></tr><tr><td>2010-08-01 00:00:00</td><td>417.1</td><td>3</td><td>3</td><td>2</td><td>3</td></tr><tr><td>2010-09-01 00:00:00</td><td>30.0</td><td>-2</td><td>-2</td><td>-2</td><td>3</td></tr><tr><td>2010-10-01 00:00:00</td><td>40.0</td><td>1</td><td>0</td><td>0</td><td>3</td></tr><tr><td>2010-11-01 00:00:00</td><td>192.5</td><td>3</td><td>1</td><td>1</td><td>3</td></tr><tr><td>2010-12-01 00:00:00</td><td>160.25</td><td>2</td><td>2</td><td>2</td><td>3</td></tr></tbody></table></div>"
      ]
     },
     "execution_count": 146,
     "metadata": {},
     "output_type": "execute_result"
    }
   ],
   "execution_count": 146
  },
  {
   "metadata": {
    "ExecuteTime": {
     "end_time": "2025-04-17T09:05:49.196231Z",
     "start_time": "2025-04-17T09:05:49.189972Z"
    }
   },
   "cell_type": "code",
   "source": [
    "all_data_num_neighbours[\"num_neighbours_online\"].value_counts()"
   ],
   "id": "b3f62cedab779c12",
   "outputs": [
    {
     "data": {
      "text/plain": [
       "shape: (3, 2)\n",
       "┌───────────────────────┬───────┐\n",
       "│ num_neighbours_online ┆ count │\n",
       "│ ---                   ┆ ---   │\n",
       "│ i16                   ┆ u32   │\n",
       "╞═══════════════════════╪═══════╡\n",
       "│ 2                     ┆ 10    │\n",
       "│ 0                     ┆ 17    │\n",
       "│ 3                     ┆ 33    │\n",
       "└───────────────────────┴───────┘"
      ],
      "text/html": [
       "<div><style>\n",
       ".dataframe > thead > tr,\n",
       ".dataframe > tbody > tr {\n",
       "  text-align: right;\n",
       "  white-space: pre-wrap;\n",
       "}\n",
       "</style>\n",
       "<small>shape: (3, 2)</small><table border=\"1\" class=\"dataframe\"><thead><tr><th>num_neighbours_online</th><th>count</th></tr><tr><td>i16</td><td>u32</td></tr></thead><tbody><tr><td>2</td><td>10</td></tr><tr><td>0</td><td>17</td></tr><tr><td>3</td><td>33</td></tr></tbody></table></div>"
      ]
     },
     "execution_count": 147,
     "metadata": {},
     "output_type": "execute_result"
    }
   ],
   "execution_count": 147
  },
  {
   "metadata": {
    "ExecuteTime": {
     "end_time": "2025-04-17T09:05:49.481063Z",
     "start_time": "2025-04-17T09:05:49.471883Z"
    }
   },
   "cell_type": "code",
   "source": [
    "all_data.filter(pl.col(\"monthly_flags_3215\") == -3)"
   ],
   "id": "6ec11869667cf43b",
   "outputs": [
    {
     "data": {
      "text/plain": [
       "shape: (2, 5)\n",
       "┌─────────────────────┬─────────┬────────────────────┬────────────────────┬───────────────────┐\n",
       "│ time                ┆ rain_mm ┆ monthly_flags_3215 ┆ monthly_flags_6303 ┆ monthly_flags_310 │\n",
       "│ ---                 ┆ ---     ┆ ---                ┆ ---                ┆ ---               │\n",
       "│ datetime[μs]        ┆ f64     ┆ i32                ┆ i32                ┆ i32               │\n",
       "╞═════════════════════╪═════════╪════════════════════╪════════════════════╪═══════════════════╡\n",
       "│ 2009-06-01 00:00:00 ┆ 0.0     ┆ -3                 ┆ -3                 ┆ -3                │\n",
       "│ 2009-07-01 00:00:00 ┆ 0.0     ┆ -3                 ┆ -3                 ┆ -3                │\n",
       "└─────────────────────┴─────────┴────────────────────┴────────────────────┴───────────────────┘"
      ],
      "text/html": [
       "<div><style>\n",
       ".dataframe > thead > tr,\n",
       ".dataframe > tbody > tr {\n",
       "  text-align: right;\n",
       "  white-space: pre-wrap;\n",
       "}\n",
       "</style>\n",
       "<small>shape: (2, 5)</small><table border=\"1\" class=\"dataframe\"><thead><tr><th>time</th><th>rain_mm</th><th>monthly_flags_3215</th><th>monthly_flags_6303</th><th>monthly_flags_310</th></tr><tr><td>datetime[μs]</td><td>f64</td><td>i32</td><td>i32</td><td>i32</td></tr></thead><tbody><tr><td>2009-06-01 00:00:00</td><td>0.0</td><td>-3</td><td>-3</td><td>-3</td></tr><tr><td>2009-07-01 00:00:00</td><td>0.0</td><td>-3</td><td>-3</td><td>-3</td></tr></tbody></table></div>"
      ]
     },
     "execution_count": 148,
     "metadata": {},
     "output_type": "execute_result"
    }
   ],
   "execution_count": 148
  },
  {
   "metadata": {},
   "cell_type": "markdown",
   "source": "## Step 3. Majority voting flags for the target",
   "id": "f0fc9d812c0931dc"
  },
  {
   "metadata": {
    "ExecuteTime": {
     "end_time": "2025-04-17T09:05:49.801024Z",
     "start_time": "2025-04-17T09:05:49.792849Z"
    }
   },
   "cell_type": "code",
   "source": [
    "all_data_monthly_flags = all_data_num_neighbours.with_columns(\n",
    "    pl.when(pl.col(\"num_neighbours_online\") < MIN_NUM_NEIGHBOURS)\n",
    "    .then(np.nan)\n",
    "    .otherwise(\n",
    "        pl.min_horizontal(pl.all().exclude(\"time\", rain_col, \"num_neighbours_online\"))\n",
    "    )\n",
    "    .alias(\"monthly_flags\")\n",
    ")"
   ],
   "id": "3274d231c53e0fe9",
   "outputs": [],
   "execution_count": 149
  },
  {
   "metadata": {
    "ExecuteTime": {
     "end_time": "2025-04-17T09:05:50.132198Z",
     "start_time": "2025-04-17T09:05:50.121529Z"
    }
   },
   "cell_type": "code",
   "source": [
    "all_data_monthly_flags[\"monthly_flags\"].value_counts()"
   ],
   "id": "54962a4fd7dab72c",
   "outputs": [
    {
     "data": {
      "text/plain": [
       "shape: (8, 2)\n",
       "┌───────────────┬───────┐\n",
       "│ monthly_flags ┆ count │\n",
       "│ ---           ┆ ---   │\n",
       "│ f64           ┆ u32   │\n",
       "╞═══════════════╪═══════╡\n",
       "│ -1.0          ┆ 3     │\n",
       "│ -3.0          ┆ 2     │\n",
       "│ 0.0           ┆ 19    │\n",
       "│ 3.0           ┆ 9     │\n",
       "│ -2.0          ┆ 1     │\n",
       "│ 1.0           ┆ 5     │\n",
       "│ NaN           ┆ 17    │\n",
       "│ 2.0           ┆ 4     │\n",
       "└───────────────┴───────┘"
      ],
      "text/html": [
       "<div><style>\n",
       ".dataframe > thead > tr,\n",
       ".dataframe > tbody > tr {\n",
       "  text-align: right;\n",
       "  white-space: pre-wrap;\n",
       "}\n",
       "</style>\n",
       "<small>shape: (8, 2)</small><table border=\"1\" class=\"dataframe\"><thead><tr><th>monthly_flags</th><th>count</th></tr><tr><td>f64</td><td>u32</td></tr></thead><tbody><tr><td>-1.0</td><td>3</td></tr><tr><td>-3.0</td><td>2</td></tr><tr><td>0.0</td><td>19</td></tr><tr><td>3.0</td><td>9</td></tr><tr><td>-2.0</td><td>1</td></tr><tr><td>1.0</td><td>5</td></tr><tr><td>NaN</td><td>17</td></tr><tr><td>2.0</td><td>4</td></tr></tbody></table></div>"
      ]
     },
     "execution_count": 150,
     "metadata": {},
     "output_type": "execute_result"
    }
   ],
   "execution_count": 150
  },
  {
   "metadata": {
    "ExecuteTime": {
     "end_time": "2025-04-17T09:05:50.374852Z",
     "start_time": "2025-04-17T09:05:50.364686Z"
    }
   },
   "cell_type": "code",
   "source": [
    "all_data_monthly_flags.filter(\n",
    "    (pl.col(\"monthly_flags\") > 0) & (pl.col(\"monthly_flags\").is_finite())\n",
    ")"
   ],
   "id": "31b34a8762a78115",
   "outputs": [
    {
     "data": {
      "text/plain": [
       "shape: (18, 7)\n",
       "┌──────────────┬─────────┬──────────────┬──────────────┬──────────────┬──────────────┬─────────────┐\n",
       "│ time         ┆ rain_mm ┆ monthly_flag ┆ monthly_flag ┆ monthly_flag ┆ num_neighbou ┆ monthly_fla │\n",
       "│ ---          ┆ ---     ┆ s_3215       ┆ s_6303       ┆ s_310        ┆ rs_online    ┆ gs          │\n",
       "│ datetime[μs] ┆ f64     ┆ ---          ┆ ---          ┆ ---          ┆ ---          ┆ ---         │\n",
       "│              ┆         ┆ i32          ┆ i32          ┆ i32          ┆ i16          ┆ f64         │\n",
       "╞══════════════╪═════════╪══════════════╪══════════════╪══════════════╪══════════════╪═════════════╡\n",
       "│ 2006-03-01   ┆ 302.9   ┆ null         ┆ 3            ┆ 3            ┆ 2            ┆ 3.0         │\n",
       "│ 00:00:00     ┆         ┆              ┆              ┆              ┆              ┆             │\n",
       "│ 2006-04-01   ┆ 224.2   ┆ null         ┆ 3            ┆ 3            ┆ 2            ┆ 3.0         │\n",
       "│ 00:00:00     ┆         ┆              ┆              ┆              ┆              ┆             │\n",
       "│ 2006-05-01   ┆ 402.2   ┆ null         ┆ 3            ┆ 3            ┆ 2            ┆ 3.0         │\n",
       "│ 00:00:00     ┆         ┆              ┆              ┆              ┆              ┆             │\n",
       "│ 2006-08-01   ┆ 372.5   ┆ null         ┆ 3            ┆ 3            ┆ 2            ┆ 3.0         │\n",
       "│ 00:00:00     ┆         ┆              ┆              ┆              ┆              ┆             │\n",
       "│ 2006-09-01   ┆ 89.1    ┆ null         ┆ 3            ┆ 3            ┆ 2            ┆ 3.0         │\n",
       "│ 00:00:00     ┆         ┆              ┆              ┆              ┆              ┆             │\n",
       "│ …            ┆ …       ┆ …            ┆ …            ┆ …            ┆ …            ┆ …           │\n",
       "│ 2009-04-01   ┆ 41.9    ┆ 2            ┆ 1            ┆ 1            ┆ 3            ┆ 1.0         │\n",
       "│ 00:00:00     ┆         ┆              ┆              ┆              ┆              ┆             │\n",
       "│ 2009-11-01   ┆ 1099.5  ┆ 3            ┆ 3            ┆ 3            ┆ 3            ┆ 3.0         │\n",
       "│ 00:00:00     ┆         ┆              ┆              ┆              ┆              ┆             │\n",
       "│ 2010-08-01   ┆ 417.1   ┆ 3            ┆ 3            ┆ 2            ┆ 3            ┆ 2.0         │\n",
       "│ 00:00:00     ┆         ┆              ┆              ┆              ┆              ┆             │\n",
       "│ 2010-11-01   ┆ 192.5   ┆ 3            ┆ 1            ┆ 1            ┆ 3            ┆ 1.0         │\n",
       "│ 00:00:00     ┆         ┆              ┆              ┆              ┆              ┆             │\n",
       "│ 2010-12-01   ┆ 160.25  ┆ 2            ┆ 2            ┆ 2            ┆ 3            ┆ 2.0         │\n",
       "│ 00:00:00     ┆         ┆              ┆              ┆              ┆              ┆             │\n",
       "└──────────────┴─────────┴──────────────┴──────────────┴──────────────┴──────────────┴─────────────┘"
      ],
      "text/html": [
       "<div><style>\n",
       ".dataframe > thead > tr,\n",
       ".dataframe > tbody > tr {\n",
       "  text-align: right;\n",
       "  white-space: pre-wrap;\n",
       "}\n",
       "</style>\n",
       "<small>shape: (18, 7)</small><table border=\"1\" class=\"dataframe\"><thead><tr><th>time</th><th>rain_mm</th><th>monthly_flags_3215</th><th>monthly_flags_6303</th><th>monthly_flags_310</th><th>num_neighbours_online</th><th>monthly_flags</th></tr><tr><td>datetime[μs]</td><td>f64</td><td>i32</td><td>i32</td><td>i32</td><td>i16</td><td>f64</td></tr></thead><tbody><tr><td>2006-03-01 00:00:00</td><td>302.9</td><td>null</td><td>3</td><td>3</td><td>2</td><td>3.0</td></tr><tr><td>2006-04-01 00:00:00</td><td>224.2</td><td>null</td><td>3</td><td>3</td><td>2</td><td>3.0</td></tr><tr><td>2006-05-01 00:00:00</td><td>402.2</td><td>null</td><td>3</td><td>3</td><td>2</td><td>3.0</td></tr><tr><td>2006-08-01 00:00:00</td><td>372.5</td><td>null</td><td>3</td><td>3</td><td>2</td><td>3.0</td></tr><tr><td>2006-09-01 00:00:00</td><td>89.1</td><td>null</td><td>3</td><td>3</td><td>2</td><td>3.0</td></tr><tr><td>&hellip;</td><td>&hellip;</td><td>&hellip;</td><td>&hellip;</td><td>&hellip;</td><td>&hellip;</td><td>&hellip;</td></tr><tr><td>2009-04-01 00:00:00</td><td>41.9</td><td>2</td><td>1</td><td>1</td><td>3</td><td>1.0</td></tr><tr><td>2009-11-01 00:00:00</td><td>1099.5</td><td>3</td><td>3</td><td>3</td><td>3</td><td>3.0</td></tr><tr><td>2010-08-01 00:00:00</td><td>417.1</td><td>3</td><td>3</td><td>2</td><td>3</td><td>2.0</td></tr><tr><td>2010-11-01 00:00:00</td><td>192.5</td><td>3</td><td>1</td><td>1</td><td>3</td><td>1.0</td></tr><tr><td>2010-12-01 00:00:00</td><td>160.25</td><td>2</td><td>2</td><td>2</td><td>3</td><td>2.0</td></tr></tbody></table></div>"
      ]
     },
     "execution_count": 151,
     "metadata": {},
     "output_type": "execute_result"
    }
   ],
   "execution_count": 151
  },
  {
   "metadata": {},
   "cell_type": "markdown",
   "source": "## Step 4. Calculate neighbour monthly min/max climatology",
   "id": "3abe637e84591801"
  },
  {
   "metadata": {
    "ExecuteTime": {
     "end_time": "2025-04-17T09:05:50.614096Z",
     "start_time": "2025-04-17T09:05:50.577344Z"
    }
   },
   "cell_type": "code",
   "source": [
    "all_gpcc_data = target_gauge_monthly.clone()\n",
    "\n",
    "for gpcc_id_to_use, gpcc_path in existing_gpcc_monthly_paths.items():\n",
    "    ## Step 0. Load GPCC monthly data\n",
    "    gpcc_id_name = gpcc_id_to_use.split(\"DE_\")[1].lstrip(\"0\")\n",
    "    if len(gpcc_path) == 0:\n",
    "        continue\n",
    "    f = zipfile.ZipFile(gpcc_path[0]).open(f\"mw_{gpcc_id_name}.dat\")\n",
    "    example_gpcc = pl.from_pandas(pd.read_csv(f, skiprows=1, header=None, sep=r\"\\s+\"))\n",
    "\n",
    "    ## Step 1. drop unnecessary columns\n",
    "    example_gpcc = example_gpcc.drop([str(i) for i in range(3, 15)])\n",
    "\n",
    "    ## Step 2. make datetime column (apparently it's 7am-7pm)\n",
    "    example_gpcc = example_gpcc.with_columns(\n",
    "        pl.datetime(year=pl.col(\"1\"), month=pl.col(\"0\"), day=1).alias(\"time\")\n",
    "    ).drop([\"0\", \"1\"])\n",
    "\n",
    "    ## Step 3. rename and reorder\n",
    "    example_gpcc = example_gpcc.rename({\"2\": f\"{rain_col}_GPCC_{gpcc_id_name}\"})\n",
    "    example_gpcc = example_gpcc.select(\n",
    "        [\"time\", f\"{rain_col}_GPCC_{gpcc_id_name}\"]\n",
    "    )  ## Reorder (to look nice)\n",
    "\n",
    "    ## Step 4. Add rows together climatology\n",
    "    all_gpcc_data = all_gpcc_data.join(\n",
    "        example_gpcc,\n",
    "        on=\"time\",\n",
    "        how=\"left\",\n",
    "    )"
   ],
   "id": "946fbf208b58d5b8",
   "outputs": [],
   "execution_count": 152
  },
  {
   "metadata": {
    "ExecuteTime": {
     "end_time": "2025-04-17T09:05:50.888466Z",
     "start_time": "2025-04-17T09:05:50.876272Z"
    }
   },
   "cell_type": "code",
   "source": [
    "all_gpcc_data_monthyear = make_monthyear_col(all_gpcc_data)"
   ],
   "id": "cbfc9777ca7021b3",
   "outputs": [],
   "execution_count": 153
  },
  {
   "metadata": {
    "ExecuteTime": {
     "end_time": "2025-04-17T09:05:51.177354Z",
     "start_time": "2025-04-17T09:05:51.163232Z"
    }
   },
   "cell_type": "code",
   "source": [
    "all_gpcc_data_month_min_max = all_gpcc_data_monthyear.group_by(\"month\").agg(\n",
    "    [\n",
    "        pl.min_horizontal(pl.all().exclude(\"time\", \"month\", \"year\").min()).alias(\n",
    "            \"neighbour_min\"\n",
    "        ),\n",
    "        pl.max_horizontal(pl.all().exclude(\"time\", \"month\", \"year\").max()).alias(\n",
    "            \"neighbour_max\"\n",
    "        ),\n",
    "    ]\n",
    ")"
   ],
   "id": "e6e44d3b487f099d",
   "outputs": [],
   "execution_count": 154
  },
  {
   "metadata": {
    "ExecuteTime": {
     "end_time": "2025-04-17T09:05:51.387823Z",
     "start_time": "2025-04-17T09:05:51.382290Z"
    }
   },
   "cell_type": "code",
   "source": [
    "all_gpcc_data_month_min_max"
   ],
   "id": "bba25ed59db64d98",
   "outputs": [
    {
     "data": {
      "text/plain": [
       "shape: (12, 3)\n",
       "┌───────┬───────────────┬───────────────┐\n",
       "│ month ┆ neighbour_min ┆ neighbour_max │\n",
       "│ ---   ┆ ---           ┆ ---           │\n",
       "│ i8    ┆ f64           ┆ f64           │\n",
       "╞═══════╪═══════════════╪═══════════════╡\n",
       "│ 9     ┆ 17.1          ┆ 206.0         │\n",
       "│ 1     ┆ 34.0          ┆ 226.3         │\n",
       "│ 12    ┆ 51.5          ┆ 160.25        │\n",
       "│ 5     ┆ 43.3          ┆ 402.2         │\n",
       "│ 4     ┆ 1.0           ┆ 4996.5        │\n",
       "│ …     ┆ …             ┆ …             │\n",
       "│ 11    ┆ 70.5          ┆ 1099.5        │\n",
       "│ 2     ┆ 59.7          ┆ 246.35        │\n",
       "│ 3     ┆ 54.7          ┆ 302.9         │\n",
       "│ 7     ┆ 0.0           ┆ 136.8         │\n",
       "│ 8     ┆ 40.0          ┆ 417.1         │\n",
       "└───────┴───────────────┴───────────────┘"
      ],
      "text/html": [
       "<div><style>\n",
       ".dataframe > thead > tr,\n",
       ".dataframe > tbody > tr {\n",
       "  text-align: right;\n",
       "  white-space: pre-wrap;\n",
       "}\n",
       "</style>\n",
       "<small>shape: (12, 3)</small><table border=\"1\" class=\"dataframe\"><thead><tr><th>month</th><th>neighbour_min</th><th>neighbour_max</th></tr><tr><td>i8</td><td>f64</td><td>f64</td></tr></thead><tbody><tr><td>9</td><td>17.1</td><td>206.0</td></tr><tr><td>1</td><td>34.0</td><td>226.3</td></tr><tr><td>12</td><td>51.5</td><td>160.25</td></tr><tr><td>5</td><td>43.3</td><td>402.2</td></tr><tr><td>4</td><td>1.0</td><td>4996.5</td></tr><tr><td>&hellip;</td><td>&hellip;</td><td>&hellip;</td></tr><tr><td>11</td><td>70.5</td><td>1099.5</td></tr><tr><td>2</td><td>59.7</td><td>246.35</td></tr><tr><td>3</td><td>54.7</td><td>302.9</td></tr><tr><td>7</td><td>0.0</td><td>136.8</td></tr><tr><td>8</td><td>40.0</td><td>417.1</td></tr></tbody></table></div>"
      ]
     },
     "execution_count": 155,
     "metadata": {},
     "output_type": "execute_result"
    }
   ],
   "execution_count": 155
  },
  {
   "metadata": {},
   "cell_type": "markdown",
   "source": "## Step 5. Adjust flags to look for values outside of climatological range",
   "id": "2d0d5b34bbc46d67"
  },
  {
   "metadata": {
    "ExecuteTime": {
     "end_time": "2025-04-17T09:05:51.630930Z",
     "start_time": "2025-04-17T09:05:51.607592Z"
    }
   },
   "cell_type": "code",
   "source": [
    "all_data_monthly_flags = all_data_monthly_flags.select(\n",
    "    [\"time\", rain_col, \"num_neighbours_online\", \"monthly_flags\"]\n",
    ")\n",
    "all_data_monthly_flags_w_monthyear = make_monthyear_col(all_data_monthly_flags)\n",
    "\n",
    "all_data_monthly_flags_w_climatology = all_data_monthly_flags_w_monthyear.join(\n",
    "    all_gpcc_data_month_min_max, on=\"month\"\n",
    ")\n",
    "all_data_monthly_flags_w_climatology = all_data_monthly_flags_w_climatology.drop(\n",
    "    \"year\", \"month\"\n",
    ")"
   ],
   "id": "ae86e048f0c42636",
   "outputs": [],
   "execution_count": 156
  },
  {
   "metadata": {
    "ExecuteTime": {
     "end_time": "2025-04-17T09:05:51.821553Z",
     "start_time": "2025-04-17T09:05:51.812940Z"
    }
   },
   "cell_type": "code",
   "source": [
    "all_data_monthly_flags_w_climatology"
   ],
   "id": "d7311f299c4fd56d",
   "outputs": [
    {
     "data": {
      "text/plain": [
       "shape: (60, 6)\n",
       "┌──────────────┬─────────┬─────────────────────────┬───────────────┬───────────────┬───────────────┐\n",
       "│ time         ┆ rain_mm ┆ num_neighbours_online   ┆ monthly_flags ┆ neighbour_min ┆ neighbour_max │\n",
       "│ ---          ┆ ---     ┆ ---                     ┆ ---           ┆ ---           ┆ ---           │\n",
       "│ datetime[μs] ┆ f64     ┆ i16                     ┆ f64           ┆ f64           ┆ f64           │\n",
       "╞══════════════╪═════════╪═════════════════════════╪═══════════════╪═══════════════╪═══════════════╡\n",
       "│ 2006-01-01   ┆ NaN     ┆ 0                       ┆ NaN           ┆ 34.0          ┆ 226.3         │\n",
       "│ 00:00:00     ┆         ┆                         ┆               ┆               ┆               │\n",
       "│ 2006-02-01   ┆ NaN     ┆ 0                       ┆ NaN           ┆ 59.7          ┆ 246.35        │\n",
       "│ 00:00:00     ┆         ┆                         ┆               ┆               ┆               │\n",
       "│ 2006-03-01   ┆ 302.9   ┆ 2                       ┆ 3.0           ┆ 54.7          ┆ 302.9         │\n",
       "│ 00:00:00     ┆         ┆                         ┆               ┆               ┆               │\n",
       "│ 2006-04-01   ┆ 224.2   ┆ 2                       ┆ 3.0           ┆ 1.0           ┆ 4996.5        │\n",
       "│ 00:00:00     ┆         ┆                         ┆               ┆               ┆               │\n",
       "│ 2006-05-01   ┆ 402.2   ┆ 2                       ┆ 3.0           ┆ 43.3          ┆ 402.2         │\n",
       "│ 00:00:00     ┆         ┆                         ┆               ┆               ┆               │\n",
       "│ …            ┆ …       ┆ …                       ┆ …             ┆ …             ┆ …             │\n",
       "│ 2010-08-01   ┆ 417.1   ┆ 3                       ┆ 2.0           ┆ 40.0          ┆ 417.1         │\n",
       "│ 00:00:00     ┆         ┆                         ┆               ┆               ┆               │\n",
       "│ 2010-09-01   ┆ 30.0    ┆ 3                       ┆ -2.0          ┆ 17.1          ┆ 206.0         │\n",
       "│ 00:00:00     ┆         ┆                         ┆               ┆               ┆               │\n",
       "│ 2010-10-01   ┆ 40.0    ┆ 3                       ┆ 0.0           ┆ 22.8          ┆ 188.9         │\n",
       "│ 00:00:00     ┆         ┆                         ┆               ┆               ┆               │\n",
       "│ 2010-11-01   ┆ 192.5   ┆ 3                       ┆ 1.0           ┆ 70.5          ┆ 1099.5        │\n",
       "│ 00:00:00     ┆         ┆                         ┆               ┆               ┆               │\n",
       "│ 2010-12-01   ┆ 160.25  ┆ 3                       ┆ 2.0           ┆ 51.5          ┆ 160.25        │\n",
       "│ 00:00:00     ┆         ┆                         ┆               ┆               ┆               │\n",
       "└──────────────┴─────────┴─────────────────────────┴───────────────┴───────────────┴───────────────┘"
      ],
      "text/html": [
       "<div><style>\n",
       ".dataframe > thead > tr,\n",
       ".dataframe > tbody > tr {\n",
       "  text-align: right;\n",
       "  white-space: pre-wrap;\n",
       "}\n",
       "</style>\n",
       "<small>shape: (60, 6)</small><table border=\"1\" class=\"dataframe\"><thead><tr><th>time</th><th>rain_mm</th><th>num_neighbours_online</th><th>monthly_flags</th><th>neighbour_min</th><th>neighbour_max</th></tr><tr><td>datetime[μs]</td><td>f64</td><td>i16</td><td>f64</td><td>f64</td><td>f64</td></tr></thead><tbody><tr><td>2006-01-01 00:00:00</td><td>NaN</td><td>0</td><td>NaN</td><td>34.0</td><td>226.3</td></tr><tr><td>2006-02-01 00:00:00</td><td>NaN</td><td>0</td><td>NaN</td><td>59.7</td><td>246.35</td></tr><tr><td>2006-03-01 00:00:00</td><td>302.9</td><td>2</td><td>3.0</td><td>54.7</td><td>302.9</td></tr><tr><td>2006-04-01 00:00:00</td><td>224.2</td><td>2</td><td>3.0</td><td>1.0</td><td>4996.5</td></tr><tr><td>2006-05-01 00:00:00</td><td>402.2</td><td>2</td><td>3.0</td><td>43.3</td><td>402.2</td></tr><tr><td>&hellip;</td><td>&hellip;</td><td>&hellip;</td><td>&hellip;</td><td>&hellip;</td><td>&hellip;</td></tr><tr><td>2010-08-01 00:00:00</td><td>417.1</td><td>3</td><td>2.0</td><td>40.0</td><td>417.1</td></tr><tr><td>2010-09-01 00:00:00</td><td>30.0</td><td>3</td><td>-2.0</td><td>17.1</td><td>206.0</td></tr><tr><td>2010-10-01 00:00:00</td><td>40.0</td><td>3</td><td>0.0</td><td>22.8</td><td>188.9</td></tr><tr><td>2010-11-01 00:00:00</td><td>192.5</td><td>3</td><td>1.0</td><td>70.5</td><td>1099.5</td></tr><tr><td>2010-12-01 00:00:00</td><td>160.25</td><td>3</td><td>2.0</td><td>51.5</td><td>160.25</td></tr></tbody></table></div>"
      ]
     },
     "execution_count": 157,
     "metadata": {},
     "output_type": "execute_result"
    }
   ],
   "execution_count": 157
  },
  {
   "metadata": {
    "ExecuteTime": {
     "end_time": "2025-04-17T09:05:52.042265Z",
     "start_time": "2025-04-17T09:05:52.028858Z"
    }
   },
   "cell_type": "code",
   "source": [
    "## The intenseQC code is wrong here, so I am going off the description in the paper\n",
    "all_data_monthly_flags_extreme = all_data_monthly_flags_w_climatology.with_columns(\n",
    "    pl.when(\n",
    "        (pl.col(\"monthly_flags\") == -3)\n",
    "        & (pl.col(\"num_neighbours_online\") >= MIN_NUM_NEIGHBOURS)\n",
    "        & (pl.col(rain_col) <= (0.75 * pl.col(\"neighbour_min\")))\n",
    "        & (pl.col(rain_col) > (0.5 * pl.col(\"neighbour_min\")))\n",
    "    )\n",
    "    .then(-4)\n",
    "    .when(\n",
    "        (pl.col(\"monthly_flags\") == 3)\n",
    "        & (pl.col(\"num_neighbours_online\") >= MIN_NUM_NEIGHBOURS)\n",
    "        & (pl.col(rain_col) < (0.5 * pl.col(\"neighbour_min\")))\n",
    "    )\n",
    "    .then(-5)\n",
    "    .when(\n",
    "        (pl.col(\"monthly_flags\") == 3)\n",
    "        & (pl.col(\"num_neighbours_online\") >= MIN_NUM_NEIGHBOURS)\n",
    "        & (pl.col(rain_col) > (1.25 * pl.col(\"neighbour_max\")))\n",
    "        & (pl.col(rain_col) < (2 * pl.col(\"neighbour_max\")))\n",
    "    )\n",
    "    .then(4)\n",
    "    .when(\n",
    "        (pl.col(\"monthly_flags\") == 3)\n",
    "        & (pl.col(\"num_neighbours_online\") >= MIN_NUM_NEIGHBOURS)\n",
    "        & (pl.col(rain_col) > (2 * pl.col(\"neighbour_max\")))\n",
    "    )\n",
    "    .then(5)\n",
    "    .otherwise(pl.col(\"monthly_flags\"))\n",
    "    .alias(\"monthly_flags\")\n",
    ")"
   ],
   "id": "d8009f35713a4223",
   "outputs": [],
   "execution_count": 158
  },
  {
   "cell_type": "code",
   "id": "8c302184-8c8f-4683-a03b-ce8660f5ed7b",
   "metadata": {
    "ExecuteTime": {
     "end_time": "2025-04-17T09:05:52.243138Z",
     "start_time": "2025-04-17T09:05:52.233661Z"
    }
   },
   "source": [
    "## NOTE: there are no -4, -5, 4 or 5 flags in this target data\n",
    "all_data_monthly_flags_extreme[\"monthly_flags\"].value_counts()"
   ],
   "outputs": [
    {
     "data": {
      "text/plain": [
       "shape: (8, 2)\n",
       "┌───────────────┬───────┐\n",
       "│ monthly_flags ┆ count │\n",
       "│ ---           ┆ ---   │\n",
       "│ f64           ┆ u32   │\n",
       "╞═══════════════╪═══════╡\n",
       "│ 2.0           ┆ 4     │\n",
       "│ -2.0          ┆ 1     │\n",
       "│ 0.0           ┆ 19    │\n",
       "│ 3.0           ┆ 9     │\n",
       "│ -1.0          ┆ 3     │\n",
       "│ -3.0          ┆ 2     │\n",
       "│ 1.0           ┆ 5     │\n",
       "│ NaN           ┆ 17    │\n",
       "└───────────────┴───────┘"
      ],
      "text/html": [
       "<div><style>\n",
       ".dataframe > thead > tr,\n",
       ".dataframe > tbody > tr {\n",
       "  text-align: right;\n",
       "  white-space: pre-wrap;\n",
       "}\n",
       "</style>\n",
       "<small>shape: (8, 2)</small><table border=\"1\" class=\"dataframe\"><thead><tr><th>monthly_flags</th><th>count</th></tr><tr><td>f64</td><td>u32</td></tr></thead><tbody><tr><td>2.0</td><td>4</td></tr><tr><td>-2.0</td><td>1</td></tr><tr><td>0.0</td><td>19</td></tr><tr><td>3.0</td><td>9</td></tr><tr><td>-1.0</td><td>3</td></tr><tr><td>-3.0</td><td>2</td></tr><tr><td>1.0</td><td>5</td></tr><tr><td>NaN</td><td>17</td></tr></tbody></table></div>"
      ]
     },
     "execution_count": 159,
     "metadata": {},
     "output_type": "execute_result"
    }
   ],
   "execution_count": 159
  },
  {
   "metadata": {
    "ExecuteTime": {
     "end_time": "2025-04-17T09:05:52.456433Z",
     "start_time": "2025-04-17T09:05:52.452017Z"
    }
   },
   "cell_type": "code",
   "source": "",
   "id": "c90ee584241850a1",
   "outputs": [],
   "execution_count": null
  },
  {
   "cell_type": "markdown",
   "id": "35a03907-142a-4c08-8ab3-ae0fe5f3f493",
   "metadata": {},
   "source": [
    "# QC21 - Timing offset \n",
    "[Back to Index](#Table-of-contents)\n",
    "\n",
    "#### Differences from `intense-qc`: \n",
    "-\n",
    "\n",
    "#### Notes on method:\n",
    "- Only for daily neighbours"
   ]
  },
  {
   "metadata": {},
   "cell_type": "markdown",
   "source": "### Step 1. Read in target data and join to nearest neighbour",
   "id": "e2bccebbc04123a6"
  },
  {
   "metadata": {
    "ExecuteTime": {
     "end_time": "2025-04-17T12:12:33.975515Z",
     "start_time": "2025-04-17T12:12:33.964722Z"
    }
   },
   "cell_type": "code",
   "source": [
    "## resample into daily (also round to 1 decimal place) TODO: check offset='7h' part\n",
    "target_gauge_daily = (\n",
    "    target_gauge.group_by_dynamic(\"time\", every=\"1d\", offset=\"7h\", closed=\"right\")\n",
    "    .agg(\n",
    "        [\n",
    "            pl.len().alias(\"n_hours\"),\n",
    "            pl.col(rain_col).mean().round(1).alias(rain_col),\n",
    "        ]\n",
    "    )\n",
    "    .filter(pl.col(\"n_hours\") == 24)\n",
    "    .drop(\"n_hours\")\n",
    ")  # Ensure at least 24 data points"
   ],
   "id": "5ce6011a4a1c3c0b",
   "outputs": [],
   "execution_count": 402
  },
  {
   "metadata": {
    "ExecuteTime": {
     "end_time": "2025-04-17T12:12:34.782317Z",
     "start_time": "2025-04-17T12:12:34.775097Z"
    }
   },
   "cell_type": "code",
   "source": [
    "existing_gpcc_daily_paths"
   ],
   "id": "bc159db18cd1938d",
   "outputs": [
    {
     "data": {
      "text/plain": [
       "{'DE_03215': ['../data/GPCC/tw_3215.zip'],\n",
       " 'DE_02718': [],\n",
       " 'DE_04488': [],\n",
       " 'DE_06264': [],\n",
       " 'DE_00390': [],\n",
       " 'DE_01300': [],\n",
       " 'DE_04313': [],\n",
       " 'DE_06303': ['../data/GPCC/tw_6303.zip'],\n",
       " 'DE_00310': ['../data/GPCC/tw_310.zip']}"
      ]
     },
     "execution_count": 403,
     "metadata": {},
     "output_type": "execute_result"
    }
   ],
   "execution_count": 403
  },
  {
   "metadata": {
    "ExecuteTime": {
     "end_time": "2025-04-17T12:12:35.729809Z",
     "start_time": "2025-04-17T12:12:35.689104Z"
    }
   },
   "cell_type": "code",
   "source": [
    "## TODO: function that will extract closest neighbour\n",
    "gpcc_id_to_use = \"DE_06303\"\n",
    "gpcc_path = existing_gpcc_daily_paths[gpcc_id_to_use]  ## might not be closest\n",
    "\n",
    "## 0. Load GPCC data\n",
    "gpcc_id_name = gpcc_id_to_use.split(\"DE_\")[1].lstrip(\"0\")\n",
    "gpcc_col_name = f\"{rain_col}_GPCC_{gpcc_id_name}\"\n",
    "\n",
    "f = zipfile.ZipFile(gpcc_path[0]).open(f\"tw_{gpcc_id_name}.dat\")\n",
    "example_gpcc = pl.from_pandas(pd.read_csv(f, skiprows=1, header=None, sep=r\"\\s+\"))\n",
    "\n",
    "## 1. drop unnecessary columns\n",
    "example_gpcc = example_gpcc.drop([str(i) for i in range(4, 16)])\n",
    "\n",
    "## 2. make datetime column (apparently it's 7am-7pm)\n",
    "example_gpcc = example_gpcc.with_columns(\n",
    "    pl.datetime(pl.col(\"2\"), pl.col(\"1\"), pl.col(\"0\"), 7).alias(\"time\")\n",
    ").drop([\"0\", \"1\", \"2\"])\n",
    "\n",
    "## 3. rename and reorder\n",
    "example_gpcc = example_gpcc.rename({\"3\": rain_col})\n",
    "example_gpcc = example_gpcc.select([\"time\", rain_col])  ## Reorder (to look nice)\n",
    "\n",
    "## 4. join to target data\n",
    "joined_gauges_gpcc = target_gauge_daily.join(\n",
    "    example_gpcc, on=\"time\", suffix=f\"_GPCC_{gpcc_id_name}\"\n",
    ")\n",
    "joined_gauges_gpcc = joined_gauges_gpcc.drop_nans()"
   ],
   "id": "6a8b86776b4f76f9",
   "outputs": [],
   "execution_count": 404
  },
  {
   "metadata": {},
   "cell_type": "markdown",
   "source": [
    "### Step 2. Get lagged data\n",
    "+/- 1 day\n",
    "\n",
    "Notes:\n",
    "- need to test for big gaps in days"
   ],
   "id": "b6facba2a50b7baa"
  },
  {
   "metadata": {
    "ExecuteTime": {
     "end_time": "2025-04-17T12:12:37.908730Z",
     "start_time": "2025-04-17T12:12:37.872164Z"
    }
   },
   "cell_type": "code",
   "source": [
    "def get_lagged_data(data, shift_in_time, target_col, time_res):\n",
    "    \"\"\"\n",
    "    NOTE: Do I want this to take n-amount of columns and loop over and shift?\n",
    "\n",
    "    Parameters\n",
    "    ----------\n",
    "    data : pl.DataFrame\n",
    "    shift_in_time : int\n",
    "        Amount to shift data by i.e. 1 for 1 day if time_res set to '1d'\n",
    "    target_col : str\n",
    "    time_res : str\n",
    "        Time resolution like '1d' or '1mo'\n",
    "\n",
    "    Returns\n",
    "    -------\n",
    "\n",
    "    \"\"\"\n",
    "    ## Upsample data to 1 day to fill in gaps\n",
    "    data = data.upsample(\"time\", every=time_res)\n",
    "\n",
    "    return data.with_columns(\n",
    "        pl.col(target_col)\n",
    "        .last()\n",
    "        .over(pl.col(\"time\").dt.truncate(time_res))\n",
    "        .shift(shift_in_time),\n",
    "    )\n",
    "\n",
    "\n",
    "joined_gauges_gpcc_lag_minus1 = get_lagged_data(\n",
    "    joined_gauges_gpcc, shift_in_time=-1, target_col=rain_col, time_res=\"1d\"\n",
    ")\n",
    "joined_gauges_gpcc_lag_plus1 = get_lagged_data(\n",
    "    joined_gauges_gpcc, shift_in_time=1, target_col=rain_col, time_res=\"1d\"\n",
    ")"
   ],
   "id": "8d380dcd23fc7f60",
   "outputs": [],
   "execution_count": 405
  },
  {
   "metadata": {
    "ExecuteTime": {
     "end_time": "2025-04-17T12:12:38.831684Z",
     "start_time": "2025-04-17T12:12:38.826340Z"
    }
   },
   "cell_type": "code",
   "source": [
    "joined_gauges_gpcc_lag_minus1"
   ],
   "id": "7e1cbf2986d0426b",
   "outputs": [
    {
     "data": {
      "text/plain": [
       "shape: (1_825, 3)\n",
       "┌─────────────────────┬─────────┬───────────────────┐\n",
       "│ time                ┆ rain_mm ┆ rain_mm_GPCC_6303 │\n",
       "│ ---                 ┆ ---     ┆ ---               │\n",
       "│ datetime[μs]        ┆ f64     ┆ f64               │\n",
       "╞═════════════════════╪═════════╪═══════════════════╡\n",
       "│ 2006-01-01 07:00:00 ┆ 0.0     ┆ 0.2               │\n",
       "│ 2006-01-02 07:00:00 ┆ 0.0     ┆ 0.0               │\n",
       "│ 2006-01-03 07:00:00 ┆ 0.0     ┆ 0.0               │\n",
       "│ 2006-01-04 07:00:00 ┆ 0.0     ┆ 0.0               │\n",
       "│ 2006-01-05 07:00:00 ┆ 0.0     ┆ 0.0               │\n",
       "│ …                   ┆ …       ┆ …                 │\n",
       "│ 2010-12-26 07:00:00 ┆ 0.0     ┆ 3.0               │\n",
       "│ 2010-12-27 07:00:00 ┆ 0.0     ┆ 0.4               │\n",
       "│ 2010-12-28 07:00:00 ┆ 0.0     ┆ 0.0               │\n",
       "│ 2010-12-29 07:00:00 ┆ 0.0     ┆ 0.0               │\n",
       "│ 2010-12-30 07:00:00 ┆ null    ┆ 0.0               │\n",
       "└─────────────────────┴─────────┴───────────────────┘"
      ],
      "text/html": [
       "<div><style>\n",
       ".dataframe > thead > tr,\n",
       ".dataframe > tbody > tr {\n",
       "  text-align: right;\n",
       "  white-space: pre-wrap;\n",
       "}\n",
       "</style>\n",
       "<small>shape: (1_825, 3)</small><table border=\"1\" class=\"dataframe\"><thead><tr><th>time</th><th>rain_mm</th><th>rain_mm_GPCC_6303</th></tr><tr><td>datetime[μs]</td><td>f64</td><td>f64</td></tr></thead><tbody><tr><td>2006-01-01 07:00:00</td><td>0.0</td><td>0.2</td></tr><tr><td>2006-01-02 07:00:00</td><td>0.0</td><td>0.0</td></tr><tr><td>2006-01-03 07:00:00</td><td>0.0</td><td>0.0</td></tr><tr><td>2006-01-04 07:00:00</td><td>0.0</td><td>0.0</td></tr><tr><td>2006-01-05 07:00:00</td><td>0.0</td><td>0.0</td></tr><tr><td>&hellip;</td><td>&hellip;</td><td>&hellip;</td></tr><tr><td>2010-12-26 07:00:00</td><td>0.0</td><td>3.0</td></tr><tr><td>2010-12-27 07:00:00</td><td>0.0</td><td>0.4</td></tr><tr><td>2010-12-28 07:00:00</td><td>0.0</td><td>0.0</td></tr><tr><td>2010-12-29 07:00:00</td><td>0.0</td><td>0.0</td></tr><tr><td>2010-12-30 07:00:00</td><td>null</td><td>0.0</td></tr></tbody></table></div>"
      ]
     },
     "execution_count": 406,
     "metadata": {},
     "output_type": "execute_result"
    }
   ],
   "execution_count": 406
  },
  {
   "metadata": {
    "ExecuteTime": {
     "end_time": "2025-04-17T12:12:39.897667Z",
     "start_time": "2025-04-17T12:12:39.891887Z"
    }
   },
   "cell_type": "code",
   "source": [
    "joined_gauges_gpcc_lag_plus1"
   ],
   "id": "568b809acc5df0bf",
   "outputs": [
    {
     "data": {
      "text/plain": [
       "shape: (1_825, 3)\n",
       "┌─────────────────────┬─────────┬───────────────────┐\n",
       "│ time                ┆ rain_mm ┆ rain_mm_GPCC_6303 │\n",
       "│ ---                 ┆ ---     ┆ ---               │\n",
       "│ datetime[μs]        ┆ f64     ┆ f64               │\n",
       "╞═════════════════════╪═════════╪═══════════════════╡\n",
       "│ 2006-01-01 07:00:00 ┆ null    ┆ 0.2               │\n",
       "│ 2006-01-02 07:00:00 ┆ 0.2     ┆ 0.0               │\n",
       "│ 2006-01-03 07:00:00 ┆ 0.0     ┆ 0.0               │\n",
       "│ 2006-01-04 07:00:00 ┆ 0.0     ┆ 0.0               │\n",
       "│ 2006-01-05 07:00:00 ┆ 0.0     ┆ 0.0               │\n",
       "│ …                   ┆ …       ┆ …                 │\n",
       "│ 2010-12-26 07:00:00 ┆ 0.0     ┆ 3.0               │\n",
       "│ 2010-12-27 07:00:00 ┆ 0.2     ┆ 0.4               │\n",
       "│ 2010-12-28 07:00:00 ┆ 0.0     ┆ 0.0               │\n",
       "│ 2010-12-29 07:00:00 ┆ 0.0     ┆ 0.0               │\n",
       "│ 2010-12-30 07:00:00 ┆ 0.0     ┆ 0.0               │\n",
       "└─────────────────────┴─────────┴───────────────────┘"
      ],
      "text/html": [
       "<div><style>\n",
       ".dataframe > thead > tr,\n",
       ".dataframe > tbody > tr {\n",
       "  text-align: right;\n",
       "  white-space: pre-wrap;\n",
       "}\n",
       "</style>\n",
       "<small>shape: (1_825, 3)</small><table border=\"1\" class=\"dataframe\"><thead><tr><th>time</th><th>rain_mm</th><th>rain_mm_GPCC_6303</th></tr><tr><td>datetime[μs]</td><td>f64</td><td>f64</td></tr></thead><tbody><tr><td>2006-01-01 07:00:00</td><td>null</td><td>0.2</td></tr><tr><td>2006-01-02 07:00:00</td><td>0.2</td><td>0.0</td></tr><tr><td>2006-01-03 07:00:00</td><td>0.0</td><td>0.0</td></tr><tr><td>2006-01-04 07:00:00</td><td>0.0</td><td>0.0</td></tr><tr><td>2006-01-05 07:00:00</td><td>0.0</td><td>0.0</td></tr><tr><td>&hellip;</td><td>&hellip;</td><td>&hellip;</td></tr><tr><td>2010-12-26 07:00:00</td><td>0.0</td><td>3.0</td></tr><tr><td>2010-12-27 07:00:00</td><td>0.2</td><td>0.4</td></tr><tr><td>2010-12-28 07:00:00</td><td>0.0</td><td>0.0</td></tr><tr><td>2010-12-29 07:00:00</td><td>0.0</td><td>0.0</td></tr><tr><td>2010-12-30 07:00:00</td><td>0.0</td><td>0.0</td></tr></tbody></table></div>"
      ]
     },
     "execution_count": 407,
     "metadata": {},
     "output_type": "execute_result"
    }
   ],
   "execution_count": 407
  },
  {
   "metadata": {},
   "cell_type": "markdown",
   "source": "### Step 3. Loop through -1, 0, +1 lags and compute offset flag",
   "id": "93bb44c2fd0f37ef"
  },
  {
   "metadata": {
    "ExecuteTime": {
     "end_time": "2025-04-17T12:12:42.063039Z",
     "start_time": "2025-04-17T12:12:42.016631Z"
    }
   },
   "cell_type": "code",
   "source": [
    "affinities = {}\n",
    "gauge_corrs = {}\n",
    "for lag, gauge_data in zip(\n",
    "    [-1, 0, 1],\n",
    "    [joined_gauges_gpcc_lag_minus1, joined_gauges_gpcc, joined_gauges_gpcc_lag_plus1],\n",
    "):\n",
    "    ## Step 1. get gauge non-0 minima\n",
    "    non_zero_minima = get_target_neighbour_non_zero_minima(\n",
    "        gauge_data, target_col=rain_col, other_col=f\"{rain_col}_GPCC_{gpcc_id_name}\"\n",
    "    )\n",
    "    gauge_data_minima = get_target_and_neighbour_not_minima_column(\n",
    "        gauge_data,\n",
    "        data_minima=non_zero_minima,\n",
    "        target_col=rain_col,\n",
    "        other_col=f\"{rain_col}_GPCC_{gpcc_id_name}\",\n",
    "    )\n",
    "\n",
    "    ### Step 2. Calculate affinity and gauge correlation\n",
    "    match, diff, affinity = calc_affinity_index(\n",
    "        gauge_data_minima, return_match_and_diff=True\n",
    "    )\n",
    "    gauge_corr = calc_gauge_correlation(\n",
    "        gauge_data, rain_col=rain_col, other_col=f\"{rain_col}_GPCC_{gpcc_id_name}\"\n",
    "    )\n",
    "\n",
    "    affinities[lag] = affinity\n",
    "    gauge_corrs[lag] = gauge_corr\n",
    "\n",
    "    print(f\"Lag: {lag}\")\n",
    "    print(\n",
    "        f\"different rows: {diff}, matching rows: {match}, affinity :{affinity}, correlation {gauge_corr}\"\n",
    "    )\n",
    "    print(\"#\" * 10)"
   ],
   "id": "7e945cc0ddc71efb",
   "outputs": [
    {
     "name": "stdout",
     "output_type": "stream",
     "text": [
      "Lag: -1\n",
      "different rows: 131, matching rows: 417, affinity :0.7609489051094891, correlation -0.013916554390363284\n",
      "##########\n",
      "Lag: 0\n",
      "different rows: 158, matching rows: 542, affinity :0.7742857142857142, correlation 0.009957123786108265\n",
      "##########\n",
      "Lag: 1\n",
      "different rows: 131, matching rows: 444, affinity :0.7721739130434783, correlation -0.010228388153778127\n",
      "##########\n"
     ]
    }
   ],
   "execution_count": 408
  },
  {
   "metadata": {},
   "cell_type": "markdown",
   "source": "### Step 4. Flag data",
   "id": "680c71e09d3714dd"
  },
  {
   "metadata": {
    "ExecuteTime": {
     "end_time": "2025-04-17T12:12:44.350488Z",
     "start_time": "2025-04-17T12:12:44.343535Z"
    }
   },
   "cell_type": "code",
   "source": [
    "print(f\"{affinities}, \\nIndex of max: {max(affinities, key=affinities.get)}\")"
   ],
   "id": "e02124f8d2b29da5",
   "outputs": [
    {
     "name": "stdout",
     "output_type": "stream",
     "text": [
      "{-1: 0.7609489051094891, 0: 0.7742857142857142, 1: 0.7721739130434783}, \n",
      "Index of max: 0\n"
     ]
    }
   ],
   "execution_count": 409
  },
  {
   "metadata": {
    "ExecuteTime": {
     "end_time": "2025-04-17T12:12:44.799198Z",
     "start_time": "2025-04-17T12:12:44.792531Z"
    }
   },
   "cell_type": "code",
   "source": [
    "print(f\"{gauge_corrs}, \\nIndex of max: {max(gauge_corrs, key=gauge_corrs.get)}\")"
   ],
   "id": "1f11f4a4b2f0bd32",
   "outputs": [
    {
     "name": "stdout",
     "output_type": "stream",
     "text": [
      "{-1: np.float64(-0.013916554390363284), 0: np.float64(0.009957123786108265), 1: np.float64(-0.010228388153778127)}, \n",
      "Index of max: 0\n"
     ]
    }
   ],
   "execution_count": 410
  },
  {
   "metadata": {
    "ExecuteTime": {
     "end_time": "2025-04-17T12:12:46.025643Z",
     "start_time": "2025-04-17T12:12:46.017308Z"
    }
   },
   "cell_type": "code",
   "source": [
    "if max(affinities, key=affinities.get) == max(gauge_corrs, key=gauge_corrs.get):\n",
    "    offset_flag = max(affinities, key=affinities.get)\n",
    "else:\n",
    "    offset_flag = 0\n",
    "\n",
    "print(offset_flag)"
   ],
   "id": "2c93d6f5ad091540",
   "outputs": [
    {
     "name": "stdout",
     "output_type": "stream",
     "text": [
      "0\n"
     ]
    }
   ],
   "execution_count": 411
  },
  {
   "cell_type": "code",
   "id": "77490dfe",
   "metadata": {
    "ExecuteTime": {
     "end_time": "2025-04-17T12:12:46.806515Z",
     "start_time": "2025-04-17T12:12:46.799669Z"
    }
   },
   "source": [
    "## test\n",
    "affinities[-1] = 1\n",
    "gauge_corrs[-1] = 1\n",
    "\n",
    "if max(affinities, key=affinities.get) == max(gauge_corrs, key=gauge_corrs.get):\n",
    "    offset_flag = max(affinities, key=affinities.get)\n",
    "else:\n",
    "    offset_flag = 0\n",
    "\n",
    "print(offset_flag)"
   ],
   "outputs": [
    {
     "name": "stdout",
     "output_type": "stream",
     "text": [
      "-1\n"
     ]
    }
   ],
   "execution_count": 412
  },
  {
   "cell_type": "markdown",
   "id": "f372ec0e-7d3b-44c8-a052-806e66454834",
   "metadata": {},
   "source": [
    "# QC22 - Pre-QC Affinity  \n",
    "[Back to Index](#Table-of-contents)\n",
    "\n",
    "#### Differences from `intense-qc`: \n",
    "-"
   ]
  },
  {
   "metadata": {},
   "cell_type": "markdown",
   "source": "### Step 1. Read in target data and join to nearest neighbour",
   "id": "ae0556bd65c64924"
  },
  {
   "metadata": {
    "ExecuteTime": {
     "end_time": "2025-04-17T12:12:48.452475Z",
     "start_time": "2025-04-17T12:12:48.445415Z"
    }
   },
   "cell_type": "code",
   "source": [
    "## resample into daily (also round to 1 decimal place) TODO: check offset='7h' part\n",
    "target_gauge_daily = (\n",
    "    target_gauge.group_by_dynamic(\"time\", every=\"1d\", offset=\"7h\", closed=\"right\")\n",
    "    .agg(\n",
    "        [\n",
    "            pl.len().alias(\"n_hours\"),\n",
    "            pl.col(rain_col).mean().round(1).alias(rain_col),\n",
    "        ]\n",
    "    )\n",
    "    .filter(pl.col(\"n_hours\") == 24)\n",
    "    .drop(\"n_hours\")\n",
    ")  # Ensure at least 24 data points"
   ],
   "id": "95544a98c7ce0625",
   "outputs": [],
   "execution_count": 413
  },
  {
   "metadata": {
    "ExecuteTime": {
     "end_time": "2025-04-17T12:12:48.791428Z",
     "start_time": "2025-04-17T12:12:48.786746Z"
    }
   },
   "cell_type": "code",
   "source": "existing_gpcc_daily_paths",
   "id": "3a91a6258f193e09",
   "outputs": [
    {
     "data": {
      "text/plain": [
       "{'DE_03215': ['../data/GPCC/tw_3215.zip'],\n",
       " 'DE_02718': [],\n",
       " 'DE_04488': [],\n",
       " 'DE_06264': [],\n",
       " 'DE_00390': [],\n",
       " 'DE_01300': [],\n",
       " 'DE_04313': [],\n",
       " 'DE_06303': ['../data/GPCC/tw_6303.zip'],\n",
       " 'DE_00310': ['../data/GPCC/tw_310.zip']}"
      ]
     },
     "execution_count": 414,
     "metadata": {},
     "output_type": "execute_result"
    }
   ],
   "execution_count": 414
  },
  {
   "metadata": {
    "ExecuteTime": {
     "end_time": "2025-04-17T12:12:49.146981Z",
     "start_time": "2025-04-17T12:12:49.114850Z"
    }
   },
   "cell_type": "code",
   "source": [
    "## TODO: function that will extract closest neighbour\n",
    "gpcc_id_to_use = \"DE_06303\"\n",
    "gpcc_path = existing_gpcc_daily_paths[gpcc_id_to_use]  ## might not be closest\n",
    "\n",
    "## 0. Load GPCC data\n",
    "gpcc_id_name = gpcc_id_to_use.split(\"DE_\")[1].lstrip(\"0\")\n",
    "gpcc_col_name = f\"{rain_col}_GPCC_{gpcc_id_name}\"\n",
    "\n",
    "f = zipfile.ZipFile(gpcc_path[0]).open(f\"tw_{gpcc_id_name}.dat\")\n",
    "example_gpcc = pl.from_pandas(pd.read_csv(f, skiprows=1, header=None, sep=r\"\\s+\"))\n",
    "\n",
    "## 1. drop unnecessary columns\n",
    "example_gpcc = example_gpcc.drop([str(i) for i in range(4, 16)])\n",
    "\n",
    "## 2. make datetime column (apparently it's 7am-7pm)\n",
    "example_gpcc = example_gpcc.with_columns(\n",
    "    pl.datetime(pl.col(\"2\"), pl.col(\"1\"), pl.col(\"0\"), 7).alias(\"time\")\n",
    ").drop([\"0\", \"1\", \"2\"])\n",
    "\n",
    "## 3. rename and reorder\n",
    "example_gpcc = example_gpcc.rename({\"3\": rain_col})\n",
    "example_gpcc = example_gpcc.select([\"time\", rain_col])  ## Reorder (to look nice)\n",
    "\n",
    "## 4. join to target data\n",
    "joined_gauges_gpcc = target_gauge_daily.join(\n",
    "    example_gpcc, on=\"time\", suffix=f\"_GPCC_{gpcc_id_name}\"\n",
    ")\n",
    "joined_gauges_gpcc = joined_gauges_gpcc.drop_nans()"
   ],
   "id": "672c2704fef65741",
   "outputs": [],
   "execution_count": 415
  },
  {
   "metadata": {},
   "cell_type": "markdown",
   "source": "### Step 2. Get non-0 minima",
   "id": "de99e9a14b7f86ca"
  },
  {
   "cell_type": "code",
   "id": "a1294be1-19a5-42c4-8c89-5f5112326ccb",
   "metadata": {
    "ExecuteTime": {
     "end_time": "2025-04-17T12:12:49.618777Z",
     "start_time": "2025-04-17T12:12:49.607302Z"
    }
   },
   "source": [
    "## Step 1. get gauge non-0 minima\n",
    "non_zero_minima = get_target_neighbour_non_zero_minima(\n",
    "    joined_gauges_gpcc, target_col=rain_col, other_col=f\"{rain_col}_GPCC_{gpcc_id_name}\"\n",
    ")\n",
    "joined_gauges_gpcc_minima = get_target_and_neighbour_not_minima_column(\n",
    "    joined_gauges_gpcc,\n",
    "    data_minima=non_zero_minima,\n",
    "    target_col=rain_col,\n",
    "    other_col=f\"{rain_col}_GPCC_{gpcc_id_name}\",\n",
    ")\n",
    "joined_gauges_gpcc_minima"
   ],
   "outputs": [
    {
     "data": {
      "text/plain": [
       "shape: (1_759, 4)\n",
       "┌─────────────────────┬─────────┬───────────────────┬───────────────────┐\n",
       "│ time                ┆ rain_mm ┆ rain_mm_GPCC_6303 ┆ gauges_not_minima │\n",
       "│ ---                 ┆ ---     ┆ ---               ┆ ---               │\n",
       "│ datetime[μs]        ┆ f64     ┆ f64               ┆ f64               │\n",
       "╞═════════════════════╪═════════╪═══════════════════╪═══════════════════╡\n",
       "│ 2006-01-01 07:00:00 ┆ 0.2     ┆ 0.2               ┆ 1.0               │\n",
       "│ 2006-01-02 07:00:00 ┆ 0.0     ┆ 0.0               ┆ NaN               │\n",
       "│ 2006-01-03 07:00:00 ┆ 0.0     ┆ 0.0               ┆ NaN               │\n",
       "│ 2006-01-04 07:00:00 ┆ 0.0     ┆ 0.0               ┆ NaN               │\n",
       "│ 2006-01-05 07:00:00 ┆ 0.0     ┆ 0.0               ┆ NaN               │\n",
       "│ …                   ┆ …       ┆ …                 ┆ …                 │\n",
       "│ 2010-12-26 07:00:00 ┆ 0.2     ┆ 3.0               ┆ 1.0               │\n",
       "│ 2010-12-27 07:00:00 ┆ 0.0     ┆ 0.4               ┆ NaN               │\n",
       "│ 2010-12-28 07:00:00 ┆ 0.0     ┆ 0.0               ┆ NaN               │\n",
       "│ 2010-12-29 07:00:00 ┆ 0.0     ┆ 0.0               ┆ NaN               │\n",
       "│ 2010-12-30 07:00:00 ┆ 0.0     ┆ 0.0               ┆ NaN               │\n",
       "└─────────────────────┴─────────┴───────────────────┴───────────────────┘"
      ],
      "text/html": [
       "<div><style>\n",
       ".dataframe > thead > tr,\n",
       ".dataframe > tbody > tr {\n",
       "  text-align: right;\n",
       "  white-space: pre-wrap;\n",
       "}\n",
       "</style>\n",
       "<small>shape: (1_759, 4)</small><table border=\"1\" class=\"dataframe\"><thead><tr><th>time</th><th>rain_mm</th><th>rain_mm_GPCC_6303</th><th>gauges_not_minima</th></tr><tr><td>datetime[μs]</td><td>f64</td><td>f64</td><td>f64</td></tr></thead><tbody><tr><td>2006-01-01 07:00:00</td><td>0.2</td><td>0.2</td><td>1.0</td></tr><tr><td>2006-01-02 07:00:00</td><td>0.0</td><td>0.0</td><td>NaN</td></tr><tr><td>2006-01-03 07:00:00</td><td>0.0</td><td>0.0</td><td>NaN</td></tr><tr><td>2006-01-04 07:00:00</td><td>0.0</td><td>0.0</td><td>NaN</td></tr><tr><td>2006-01-05 07:00:00</td><td>0.0</td><td>0.0</td><td>NaN</td></tr><tr><td>&hellip;</td><td>&hellip;</td><td>&hellip;</td><td>&hellip;</td></tr><tr><td>2010-12-26 07:00:00</td><td>0.2</td><td>3.0</td><td>1.0</td></tr><tr><td>2010-12-27 07:00:00</td><td>0.0</td><td>0.4</td><td>NaN</td></tr><tr><td>2010-12-28 07:00:00</td><td>0.0</td><td>0.0</td><td>NaN</td></tr><tr><td>2010-12-29 07:00:00</td><td>0.0</td><td>0.0</td><td>NaN</td></tr><tr><td>2010-12-30 07:00:00</td><td>0.0</td><td>0.0</td><td>NaN</td></tr></tbody></table></div>"
      ]
     },
     "execution_count": 416,
     "metadata": {},
     "output_type": "execute_result"
    }
   ],
   "execution_count": 416
  },
  {
   "metadata": {},
   "cell_type": "markdown",
   "source": "### Step 3. Compute affinity",
   "id": "5545081e98208dbb"
  },
  {
   "metadata": {
    "ExecuteTime": {
     "end_time": "2025-04-17T12:12:50.401923Z",
     "start_time": "2025-04-17T12:12:50.391341Z"
    }
   },
   "cell_type": "code",
   "source": [
    "### Step 2. Calculate affinity and gauge correlation\n",
    "match, diff, affinity = calc_affinity_index(\n",
    "    joined_gauges_gpcc_minima, return_match_and_diff=True\n",
    ")\n",
    "\n",
    "print(f\"different rows: {diff}, matching rows: {match}, affinity :{affinity}\")"
   ],
   "id": "765b31272b22e258",
   "outputs": [
    {
     "name": "stdout",
     "output_type": "stream",
     "text": [
      "different rows: 158, matching rows: 542, affinity :0.7742857142857142\n"
     ]
    }
   ],
   "execution_count": 417
  },
  {
   "cell_type": "markdown",
   "id": "b52dfb5b-44d6-481b-b3ac-8c562df044d4",
   "metadata": {},
   "source": [
    "# QC23 - Pre-QC Pearson\n",
    "[Back to Index](#Table-of-contents)\n",
    "\n",
    "#### Differences from `intense-qc`: \n",
    "-"
   ]
  },
  {
   "metadata": {},
   "cell_type": "markdown",
   "source": "### See Steps 1-2 of QC22",
   "id": "90cd7855294e7b7a"
  },
  {
   "metadata": {},
   "cell_type": "markdown",
   "source": "### Step 3. Calculate gauge correlation",
   "id": "c84da6c6a1eec139"
  },
  {
   "cell_type": "code",
   "id": "2abacf73-41a8-463b-97e4-c87f3ec7b63d",
   "metadata": {
    "ExecuteTime": {
     "end_time": "2025-04-17T12:12:52.825967Z",
     "start_time": "2025-04-17T12:12:52.822237Z"
    }
   },
   "source": [
    "gauge_corr = calc_gauge_correlation(\n",
    "    joined_gauges_gpcc, rain_col=rain_col, other_col=f\"{rain_col}_GPCC_{gpcc_id_name}\"\n",
    ")\n",
    "print(gauge_corr)"
   ],
   "outputs": [
    {
     "name": "stdout",
     "output_type": "stream",
     "text": [
      "0.009957123786108265\n"
     ]
    }
   ],
   "execution_count": 418
  },
  {
   "cell_type": "markdown",
   "id": "7ad5d0b8-a686-435a-b35d-8685e97ec8fd",
   "metadata": {},
   "source": [
    "# QC24 - Daily factor  \n",
    "[Back to Index](#Table-of-contents)\n",
    "\n",
    "#### Differences from `intense-qc`: \n",
    "-"
   ]
  },
  {
   "metadata": {},
   "cell_type": "markdown",
   "source": "### Step 1. Compute factor diff",
   "id": "a33c5a300579aea0"
  },
  {
   "metadata": {
    "ExecuteTime": {
     "end_time": "2025-04-17T12:13:20.926839Z",
     "start_time": "2025-04-17T12:13:20.915869Z"
    }
   },
   "cell_type": "code",
   "source": "joined_gauges_gpcc_factor = compute_factor_diff_target_and_neighbour(joined_gauges_gpcc, target_col=rain_col, other_col=f\"{rain_col}_GPCC_{gpcc_id_name}\")",
   "id": "83f00927b689b156",
   "outputs": [],
   "execution_count": 419
  },
  {
   "metadata": {
    "ExecuteTime": {
     "end_time": "2025-04-17T12:13:32.569540Z",
     "start_time": "2025-04-17T12:13:32.558946Z"
    }
   },
   "cell_type": "code",
   "source": "joined_gauges_gpcc_factor",
   "id": "fefdf22bdcb5f115",
   "outputs": [
    {
     "data": {
      "text/plain": [
       "shape: (1_759, 4)\n",
       "┌─────────────────────┬─────────┬───────────────────┬──────────┐\n",
       "│ time                ┆ rain_mm ┆ rain_mm_GPCC_6303 ┆ factor   │\n",
       "│ ---                 ┆ ---     ┆ ---               ┆ ---      │\n",
       "│ datetime[μs]        ┆ f64     ┆ f64               ┆ f64      │\n",
       "╞═════════════════════╪═════════╪═══════════════════╪══════════╡\n",
       "│ 2006-01-01 07:00:00 ┆ 0.2     ┆ 0.2               ┆ 1.0      │\n",
       "│ 2006-01-02 07:00:00 ┆ 0.0     ┆ 0.0               ┆ NaN      │\n",
       "│ 2006-01-03 07:00:00 ┆ 0.0     ┆ 0.0               ┆ NaN      │\n",
       "│ 2006-01-04 07:00:00 ┆ 0.0     ┆ 0.0               ┆ NaN      │\n",
       "│ 2006-01-05 07:00:00 ┆ 0.0     ┆ 0.0               ┆ NaN      │\n",
       "│ …                   ┆ …       ┆ …                 ┆ …        │\n",
       "│ 2010-12-26 07:00:00 ┆ 0.2     ┆ 3.0               ┆ 0.066667 │\n",
       "│ 2010-12-27 07:00:00 ┆ 0.0     ┆ 0.4               ┆ NaN      │\n",
       "│ 2010-12-28 07:00:00 ┆ 0.0     ┆ 0.0               ┆ NaN      │\n",
       "│ 2010-12-29 07:00:00 ┆ 0.0     ┆ 0.0               ┆ NaN      │\n",
       "│ 2010-12-30 07:00:00 ┆ 0.0     ┆ 0.0               ┆ NaN      │\n",
       "└─────────────────────┴─────────┴───────────────────┴──────────┘"
      ],
      "text/html": [
       "<div><style>\n",
       ".dataframe > thead > tr,\n",
       ".dataframe > tbody > tr {\n",
       "  text-align: right;\n",
       "  white-space: pre-wrap;\n",
       "}\n",
       "</style>\n",
       "<small>shape: (1_759, 4)</small><table border=\"1\" class=\"dataframe\"><thead><tr><th>time</th><th>rain_mm</th><th>rain_mm_GPCC_6303</th><th>factor</th></tr><tr><td>datetime[μs]</td><td>f64</td><td>f64</td><td>f64</td></tr></thead><tbody><tr><td>2006-01-01 07:00:00</td><td>0.2</td><td>0.2</td><td>1.0</td></tr><tr><td>2006-01-02 07:00:00</td><td>0.0</td><td>0.0</td><td>NaN</td></tr><tr><td>2006-01-03 07:00:00</td><td>0.0</td><td>0.0</td><td>NaN</td></tr><tr><td>2006-01-04 07:00:00</td><td>0.0</td><td>0.0</td><td>NaN</td></tr><tr><td>2006-01-05 07:00:00</td><td>0.0</td><td>0.0</td><td>NaN</td></tr><tr><td>&hellip;</td><td>&hellip;</td><td>&hellip;</td><td>&hellip;</td></tr><tr><td>2010-12-26 07:00:00</td><td>0.2</td><td>3.0</td><td>0.066667</td></tr><tr><td>2010-12-27 07:00:00</td><td>0.0</td><td>0.4</td><td>NaN</td></tr><tr><td>2010-12-28 07:00:00</td><td>0.0</td><td>0.0</td><td>NaN</td></tr><tr><td>2010-12-29 07:00:00</td><td>0.0</td><td>0.0</td><td>NaN</td></tr><tr><td>2010-12-30 07:00:00</td><td>0.0</td><td>0.0</td><td>NaN</td></tr></tbody></table></div>"
      ]
     },
     "execution_count": 420,
     "metadata": {},
     "output_type": "execute_result"
    }
   ],
   "execution_count": 420
  },
  {
   "metadata": {
    "ExecuteTime": {
     "end_time": "2025-04-17T12:19:24.631699Z",
     "start_time": "2025-04-17T12:19:24.620295Z"
    }
   },
   "cell_type": "code",
   "source": [
    "factor_mean = joined_gauges_gpcc_factor.filter(\n",
    "    (pl.col(rain_col) > 0)  & (pl.col(f\"{rain_col}_GPCC_{gpcc_id_name}\") > 0)\n",
    ")['factor'].mean()\n",
    "\n",
    "print(\"Factor mean:\", factor_mean)"
   ],
   "id": "cb9f58f1b1a8c239",
   "outputs": [
    {
     "name": "stdout",
     "output_type": "stream",
     "text": [
      "Factor mean: 0.21474557905460745\n"
     ]
    }
   ],
   "execution_count": 426
  },
  {
   "cell_type": "code",
   "id": "8ce16043-48bc-411c-9b0a-be611f95d602",
   "metadata": {
    "ExecuteTime": {
     "end_time": "2025-04-17T12:21:43.662252Z",
     "start_time": "2025-04-17T12:21:43.500346Z"
    }
   },
   "source": [
    "all_data = target_gauge_daily.clone()\n",
    "\n",
    "for gpcc_id_to_use, gpcc_path in existing_gpcc_daily_paths.items():\n",
    "    ## 0. Load GPCC data\n",
    "    gpcc_id_name = gpcc_id_to_use.split(\"DE_\")[1].lstrip(\"0\")\n",
    "    gpcc_col_name = f\"{rain_col}_GPCC_{gpcc_id_name}\"\n",
    "    if len(gpcc_path) == 0:\n",
    "        continue\n",
    "    f = zipfile.ZipFile(gpcc_path[0]).open(f\"tw_{gpcc_id_name}.dat\")\n",
    "    example_gpcc = pl.from_pandas(pd.read_csv(f, skiprows=1, header=None, sep=r\"\\s+\"))\n",
    "\n",
    "    ## 1. drop unnecessary columns\n",
    "    example_gpcc = example_gpcc.drop([str(i) for i in range(4, 16)])\n",
    "\n",
    "    ## 2. make datetime column (apparently it's 7am-7pm)\n",
    "    example_gpcc = example_gpcc.with_columns(\n",
    "        pl.datetime(pl.col(\"2\"), pl.col(\"1\"), pl.col(\"0\"), 7).alias(\"time\")\n",
    "    ).drop([\"0\", \"1\", \"2\"])\n",
    "\n",
    "    ## 3. rename and reorder\n",
    "    example_gpcc = example_gpcc.rename({\"3\": rain_col})\n",
    "    example_gpcc = example_gpcc.select([\"time\", rain_col])  ## Reorder (to look nice)\n",
    "\n",
    "    ## 4. join to target data\n",
    "    joined_gauges_gpcc = target_gauge_daily.join(\n",
    "        example_gpcc, on=\"time\", suffix=f\"_GPCC_{gpcc_id_name}\"\n",
    "    )\n",
    "    joined_gauges_gpcc = joined_gauges_gpcc.drop_nans()\n",
    "\n",
    "    joined_gauges_factor = compute_factor_diff_target_and_neighbour(joined_gauges_gpcc, target_col=rain_col, other_col=f\"{rain_col}_GPCC_{gpcc_id_name}\")\n",
    "\n",
    "    f_mean = joined_gauges_factor[\"factor_diff\"].drop_nans().mean()\n",
    "    print(f\"{gpcc_id_to_use}: factor mean: {f_mean}\")"
   ],
   "outputs": [
    {
     "name": "stdout",
     "output_type": "stream",
     "text": [
      "DE_03215: factor mean: 0.2748925805169023\n",
      "DE_06303: factor mean: 0.21474557905460745\n",
      "DE_00310: factor mean: 0.17670482524262948\n"
     ]
    }
   ],
   "execution_count": 429
  },
  {
   "cell_type": "markdown",
   "id": "f63fafe7-f52e-4dc7-beec-380828762245",
   "metadata": {},
   "source": [
    "# QC25 - Monthly factor\n",
    "[Back to Index](#Table-of-contents)\n",
    "\n",
    "#### Differences from `intense-qc`: \n",
    "-"
   ]
  },
  {
   "metadata": {},
   "cell_type": "code",
   "outputs": [],
   "execution_count": null,
   "source": "",
   "id": "bec5ced50fa224ef"
  },
  {
   "metadata": {},
   "cell_type": "markdown",
   "source": "### Step 1. Load in monthly data and check completeness",
   "id": "c10b7291e03c3bfd"
  },
  {
   "metadata": {
    "ExecuteTime": {
     "end_time": "2025-04-17T12:23:48.087394Z",
     "start_time": "2025-04-17T12:23:47.962106Z"
    }
   },
   "cell_type": "code",
   "source": [
    "target_gauge_monthyear = make_monthyear_col(target_gauge)\n",
    "target_gauge_monthyear = get_expected_days_in_month(target_gauge_monthyear)"
   ],
   "id": "37673fd4a89b04d5",
   "outputs": [],
   "execution_count": 430
  },
  {
   "metadata": {
    "ExecuteTime": {
     "end_time": "2025-04-17T12:23:49.474951Z",
     "start_time": "2025-04-17T12:23:49.453623Z"
    }
   },
   "cell_type": "code",
   "source": [
    "target_gauge_monthly = (\n",
    "    target_gauge_monthyear.group_by_dynamic(\"time\", every=\"1mo\", closed=\"right\")\n",
    "    .agg(\n",
    "        [\n",
    "            pl.len().alias(\"n_hours\"),\n",
    "            pl.col(rain_col).sum().alias(rain_col),\n",
    "            pl.col(\"expected_days_in_month\").first(),\n",
    "        ]\n",
    "    )\n",
    "    .filter(\n",
    "        pl.col(\"n_hours\")\n",
    "        >= (24 * pl.col(\"expected_days_in_month\") * PERC_MONTH_NEEDED / 100)\n",
    "    )  # TODO: Ensure at least 95% values for month are available\n",
    "    .drop(\"n_hours\", \"expected_days_in_month\")\n",
    ")"
   ],
   "id": "48f5cbdc53a2b535",
   "outputs": [],
   "execution_count": 431
  },
  {
   "metadata": {
    "ExecuteTime": {
     "end_time": "2025-04-17T12:29:03.374745Z",
     "start_time": "2025-04-17T12:29:03.365274Z"
    }
   },
   "cell_type": "code",
   "source": "target_gauge_monthly",
   "id": "7abfbd5ddac8588e",
   "outputs": [
    {
     "data": {
      "text/plain": [
       "shape: (60, 2)\n",
       "┌─────────────────────┬─────────┐\n",
       "│ time                ┆ rain_mm │\n",
       "│ ---                 ┆ ---     │\n",
       "│ datetime[μs]        ┆ f64     │\n",
       "╞═════════════════════╪═════════╡\n",
       "│ 2006-01-01 00:00:00 ┆ NaN     │\n",
       "│ 2006-02-01 00:00:00 ┆ NaN     │\n",
       "│ 2006-03-01 00:00:00 ┆ 302.9   │\n",
       "│ 2006-04-01 00:00:00 ┆ 224.2   │\n",
       "│ 2006-05-01 00:00:00 ┆ 402.2   │\n",
       "│ …                   ┆ …       │\n",
       "│ 2010-08-01 00:00:00 ┆ 417.1   │\n",
       "│ 2010-09-01 00:00:00 ┆ 30.0    │\n",
       "│ 2010-10-01 00:00:00 ┆ 40.0    │\n",
       "│ 2010-11-01 00:00:00 ┆ 192.5   │\n",
       "│ 2010-12-01 00:00:00 ┆ 160.25  │\n",
       "└─────────────────────┴─────────┘"
      ],
      "text/html": [
       "<div><style>\n",
       ".dataframe > thead > tr,\n",
       ".dataframe > tbody > tr {\n",
       "  text-align: right;\n",
       "  white-space: pre-wrap;\n",
       "}\n",
       "</style>\n",
       "<small>shape: (60, 2)</small><table border=\"1\" class=\"dataframe\"><thead><tr><th>time</th><th>rain_mm</th></tr><tr><td>datetime[μs]</td><td>f64</td></tr></thead><tbody><tr><td>2006-01-01 00:00:00</td><td>NaN</td></tr><tr><td>2006-02-01 00:00:00</td><td>NaN</td></tr><tr><td>2006-03-01 00:00:00</td><td>302.9</td></tr><tr><td>2006-04-01 00:00:00</td><td>224.2</td></tr><tr><td>2006-05-01 00:00:00</td><td>402.2</td></tr><tr><td>&hellip;</td><td>&hellip;</td></tr><tr><td>2010-08-01 00:00:00</td><td>417.1</td></tr><tr><td>2010-09-01 00:00:00</td><td>30.0</td></tr><tr><td>2010-10-01 00:00:00</td><td>40.0</td></tr><tr><td>2010-11-01 00:00:00</td><td>192.5</td></tr><tr><td>2010-12-01 00:00:00</td><td>160.25</td></tr></tbody></table></div>"
      ]
     },
     "execution_count": 434,
     "metadata": {},
     "output_type": "execute_result"
    }
   ],
   "execution_count": 434
  },
  {
   "metadata": {},
   "cell_type": "markdown",
   "source": "### Step 2. Loop through and compute factor diff",
   "id": "af9a6fc9feb74546"
  },
  {
   "metadata": {
    "ExecuteTime": {
     "end_time": "2025-04-17T12:44:58.239939Z",
     "start_time": "2025-04-17T12:44:58.135392Z"
    }
   },
   "cell_type": "code",
   "source": [
    "all_data = target_gauge_monthly.clone()\n",
    "\n",
    "for gpcc_id_to_use, gpcc_path in existing_gpcc_monthly_paths.items():\n",
    "    ## Step 0. Load GPCC monthly data\n",
    "    gpcc_id_name = gpcc_id_to_use.split(\"DE_\")[1].lstrip(\"0\")\n",
    "    if len(gpcc_path) == 0:\n",
    "        continue\n",
    "    f = zipfile.ZipFile(gpcc_path[0]).open(f\"mw_{gpcc_id_name}.dat\")\n",
    "    example_gpcc = pl.from_pandas(pd.read_csv(f, skiprows=1, header=None, sep=r\"\\s+\"))\n",
    "\n",
    "    ## Step 1. drop unnecessary columns\n",
    "    example_gpcc = example_gpcc.drop([str(i) for i in range(3, 15)])\n",
    "\n",
    "    ## Step 2. make datetime column (apparently it's 7am-7pm)\n",
    "    example_gpcc = example_gpcc.with_columns(\n",
    "        pl.datetime(year=pl.col(\"1\"), month=pl.col(\"0\"), day=1).alias(\"time\")\n",
    "    ).drop([\"0\", \"1\"])\n",
    "\n",
    "    ## Step 3. rename and reorder\n",
    "    example_gpcc = example_gpcc.rename({\"2\": rain_col})\n",
    "    example_gpcc = example_gpcc.select([\"time\", rain_col])  ## Reorder (to look nice)\n",
    "\n",
    "    ## Step 4. join to target data\n",
    "    joined_gauges_gpcc_monthly = target_gauge_monthly.join(\n",
    "        example_gpcc, on=\"time\", suffix=f\"_GPCC_{gpcc_id_name}\"\n",
    "    )\n",
    "    joined_gauges_gpcc_monthly = joined_gauges_gpcc_monthly.drop_nans()\n",
    "\n",
    "    ## Step 5. Calculate factor between target and neighbour\n",
    "    # TODO: check whether it is okay or whether this function should ignore zeros\n",
    "    joined_gauges_gpcc_monthly_factor = joined_gauges_gpcc_monthly.with_columns(\n",
    "        factor_diff=pl.col(rain_col) / pl.col(f\"{rain_col}_GPCC_{gpcc_id_name}\"),\n",
    "    )\n",
    "\n",
    "    joined_gauges_gpcc_monthly_factor_flags = joined_gauges_gpcc_monthly_factor.with_columns(\n",
    "        pl.when((pl.col(\"factor_diff\") < 11) & (pl.col(\"factor_diff\") > 9))\n",
    "        .then(1)\n",
    "        .when((pl.col(\"factor_diff\") < 26) & (pl.col(\"factor_diff\") > 24))\n",
    "        .then(2)\n",
    "        .when((pl.col(\"factor_diff\") < 3) & (pl.col(\"factor_diff\") > 2))\n",
    "        .then(3)\n",
    "        .when((pl.col(\"factor_diff\") > 1 / 11) & (pl.col(\"factor_diff\") < 1 / 9))\n",
    "        .then(4)\n",
    "        .when((pl.col(\"factor_diff\") > 1 / 26) & (pl.col(\"factor_diff\") < 1 / 24))\n",
    "        .then(5)\n",
    "        .when((pl.col(\"factor_diff\") > 1 / 3) & (pl.col(\"factor_diff\") < 1 / 2))\n",
    "        .then(6)\n",
    "        .otherwise(0)\n",
    "        .alias(f\"factor_flags_{gpcc_id_name}\")\n",
    "    )\n",
    "\n",
    "    all_data = all_data.join(\n",
    "        joined_gauges_gpcc_monthly_factor_flags[[\"time\", f\"factor_flags_{gpcc_id_name}\"]],\n",
    "        on=\"time\",\n",
    "        how=\"left\",\n",
    "    )\n",
    "\n",
    "    print(all_data[f\"factor_flags_{gpcc_id_name}\"].value_counts())"
   ],
   "id": "25005a44eded0f37",
   "outputs": [
    {
     "name": "stdout",
     "output_type": "stream",
     "text": [
      "shape: (4, 2)\n",
      "┌───────────────────┬───────┐\n",
      "│ factor_flags_3215 ┆ count │\n",
      "│ ---               ┆ ---   │\n",
      "│ i32               ┆ u32   │\n",
      "╞═══════════════════╪═══════╡\n",
      "│ 6                 ┆ 1     │\n",
      "│ 0                 ┆ 25    │\n",
      "│ null              ┆ 27    │\n",
      "│ 3                 ┆ 7     │\n",
      "└───────────────────┴───────┘\n",
      "shape: (3, 2)\n",
      "┌───────────────────┬───────┐\n",
      "│ factor_flags_6303 ┆ count │\n",
      "│ ---               ┆ ---   │\n",
      "│ i32               ┆ u32   │\n",
      "╞═══════════════════╪═══════╡\n",
      "│ 3                 ┆ 6     │\n",
      "│ null              ┆ 17    │\n",
      "│ 0                 ┆ 37    │\n",
      "└───────────────────┴───────┘\n",
      "shape: (4, 2)\n",
      "┌──────────────────┬───────┐\n",
      "│ factor_flags_310 ┆ count │\n",
      "│ ---              ┆ ---   │\n",
      "│ i32              ┆ u32   │\n",
      "╞══════════════════╪═══════╡\n",
      "│ null             ┆ 17    │\n",
      "│ 6                ┆ 1     │\n",
      "│ 0                ┆ 35    │\n",
      "│ 3                ┆ 7     │\n",
      "└──────────────────┴───────┘\n"
     ]
    }
   ],
   "execution_count": 448
  },
  {
   "cell_type": "code",
   "id": "cea02d33-4923-41e0-8453-2ad9c13dae1f",
   "metadata": {
    "ExecuteTime": {
     "end_time": "2025-04-17T12:47:05.452341Z",
     "start_time": "2025-04-17T12:47:05.447154Z"
    }
   },
   "source": "all_data",
   "outputs": [
    {
     "data": {
      "text/plain": [
       "shape: (60, 5)\n",
       "┌─────────────────────┬─────────┬───────────────────┬───────────────────┬──────────────────┐\n",
       "│ time                ┆ rain_mm ┆ factor_flags_3215 ┆ factor_flags_6303 ┆ factor_flags_310 │\n",
       "│ ---                 ┆ ---     ┆ ---               ┆ ---               ┆ ---              │\n",
       "│ datetime[μs]        ┆ f64     ┆ i32               ┆ i32               ┆ i32              │\n",
       "╞═════════════════════╪═════════╪═══════════════════╪═══════════════════╪══════════════════╡\n",
       "│ 2006-01-01 00:00:00 ┆ NaN     ┆ null              ┆ null              ┆ null             │\n",
       "│ 2006-02-01 00:00:00 ┆ NaN     ┆ null              ┆ null              ┆ null             │\n",
       "│ 2006-03-01 00:00:00 ┆ 302.9   ┆ null              ┆ 3                 ┆ 3                │\n",
       "│ 2006-04-01 00:00:00 ┆ 224.2   ┆ null              ┆ 3                 ┆ 0                │\n",
       "│ 2006-05-01 00:00:00 ┆ 402.2   ┆ null              ┆ 3                 ┆ 3                │\n",
       "│ …                   ┆ …       ┆ …                 ┆ …                 ┆ …                │\n",
       "│ 2010-08-01 00:00:00 ┆ 417.1   ┆ 0                 ┆ 3                 ┆ 0                │\n",
       "│ 2010-09-01 00:00:00 ┆ 30.0    ┆ 6                 ┆ 0                 ┆ 6                │\n",
       "│ 2010-10-01 00:00:00 ┆ 40.0    ┆ 0                 ┆ 0                 ┆ 0                │\n",
       "│ 2010-11-01 00:00:00 ┆ 192.5   ┆ 3                 ┆ 0                 ┆ 0                │\n",
       "│ 2010-12-01 00:00:00 ┆ 160.25  ┆ 0                 ┆ 0                 ┆ 0                │\n",
       "└─────────────────────┴─────────┴───────────────────┴───────────────────┴──────────────────┘"
      ],
      "text/html": [
       "<div><style>\n",
       ".dataframe > thead > tr,\n",
       ".dataframe > tbody > tr {\n",
       "  text-align: right;\n",
       "  white-space: pre-wrap;\n",
       "}\n",
       "</style>\n",
       "<small>shape: (60, 5)</small><table border=\"1\" class=\"dataframe\"><thead><tr><th>time</th><th>rain_mm</th><th>factor_flags_3215</th><th>factor_flags_6303</th><th>factor_flags_310</th></tr><tr><td>datetime[μs]</td><td>f64</td><td>i32</td><td>i32</td><td>i32</td></tr></thead><tbody><tr><td>2006-01-01 00:00:00</td><td>NaN</td><td>null</td><td>null</td><td>null</td></tr><tr><td>2006-02-01 00:00:00</td><td>NaN</td><td>null</td><td>null</td><td>null</td></tr><tr><td>2006-03-01 00:00:00</td><td>302.9</td><td>null</td><td>3</td><td>3</td></tr><tr><td>2006-04-01 00:00:00</td><td>224.2</td><td>null</td><td>3</td><td>0</td></tr><tr><td>2006-05-01 00:00:00</td><td>402.2</td><td>null</td><td>3</td><td>3</td></tr><tr><td>&hellip;</td><td>&hellip;</td><td>&hellip;</td><td>&hellip;</td><td>&hellip;</td></tr><tr><td>2010-08-01 00:00:00</td><td>417.1</td><td>0</td><td>3</td><td>0</td></tr><tr><td>2010-09-01 00:00:00</td><td>30.0</td><td>6</td><td>0</td><td>6</td></tr><tr><td>2010-10-01 00:00:00</td><td>40.0</td><td>0</td><td>0</td><td>0</td></tr><tr><td>2010-11-01 00:00:00</td><td>192.5</td><td>3</td><td>0</td><td>0</td></tr><tr><td>2010-12-01 00:00:00</td><td>160.25</td><td>0</td><td>0</td><td>0</td></tr></tbody></table></div>"
      ]
     },
     "execution_count": 451,
     "metadata": {},
     "output_type": "execute_result"
    }
   ],
   "execution_count": 451
  },
  {
   "metadata": {
    "ExecuteTime": {
     "end_time": "2025-04-17T12:47:19.118880Z",
     "start_time": "2025-04-17T12:47:19.100944Z"
    }
   },
   "cell_type": "code",
   "source": "joined_gauges_gpcc_monthly_factor_flags",
   "id": "d2d91430db589344",
   "outputs": [
    {
     "data": {
      "text/plain": [
       "shape: (43, 5)\n",
       "┌─────────────────────┬─────────┬──────────────────┬─────────────┬──────────────────┐\n",
       "│ time                ┆ rain_mm ┆ rain_mm_GPCC_310 ┆ factor_diff ┆ factor_flags_310 │\n",
       "│ ---                 ┆ ---     ┆ ---              ┆ ---         ┆ ---              │\n",
       "│ datetime[μs]        ┆ f64     ┆ f64              ┆ f64         ┆ i32              │\n",
       "╞═════════════════════╪═════════╪══════════════════╪═════════════╪══════════════════╡\n",
       "│ 2006-03-01 00:00:00 ┆ 302.9   ┆ 112.5            ┆ 2.692444    ┆ 3                │\n",
       "│ 2006-04-01 00:00:00 ┆ 224.2   ┆ 68.4             ┆ 3.277778    ┆ 0                │\n",
       "│ 2006-05-01 00:00:00 ┆ 402.2   ┆ 138.2            ┆ 2.910275    ┆ 3                │\n",
       "│ 2006-08-01 00:00:00 ┆ 372.5   ┆ 139.5            ┆ 2.670251    ┆ 3                │\n",
       "│ 2006-09-01 00:00:00 ┆ 89.1    ┆ 17.1             ┆ 5.210526    ┆ 0                │\n",
       "│ …                   ┆ …       ┆ …                ┆ …           ┆ …                │\n",
       "│ 2010-08-01 00:00:00 ┆ 417.1   ┆ 231.8            ┆ 1.799396    ┆ 0                │\n",
       "│ 2010-09-01 00:00:00 ┆ 30.0    ┆ 84.8             ┆ 0.353774    ┆ 6                │\n",
       "│ 2010-10-01 00:00:00 ┆ 40.0    ┆ 42.1             ┆ 0.950119    ┆ 0                │\n",
       "│ 2010-11-01 00:00:00 ┆ 192.5   ┆ 140.2            ┆ 1.373039    ┆ 0                │\n",
       "│ 2010-12-01 00:00:00 ┆ 160.25  ┆ 102.0            ┆ 1.571078    ┆ 0                │\n",
       "└─────────────────────┴─────────┴──────────────────┴─────────────┴──────────────────┘"
      ],
      "text/html": [
       "<div><style>\n",
       ".dataframe > thead > tr,\n",
       ".dataframe > tbody > tr {\n",
       "  text-align: right;\n",
       "  white-space: pre-wrap;\n",
       "}\n",
       "</style>\n",
       "<small>shape: (43, 5)</small><table border=\"1\" class=\"dataframe\"><thead><tr><th>time</th><th>rain_mm</th><th>rain_mm_GPCC_310</th><th>factor_diff</th><th>factor_flags_310</th></tr><tr><td>datetime[μs]</td><td>f64</td><td>f64</td><td>f64</td><td>i32</td></tr></thead><tbody><tr><td>2006-03-01 00:00:00</td><td>302.9</td><td>112.5</td><td>2.692444</td><td>3</td></tr><tr><td>2006-04-01 00:00:00</td><td>224.2</td><td>68.4</td><td>3.277778</td><td>0</td></tr><tr><td>2006-05-01 00:00:00</td><td>402.2</td><td>138.2</td><td>2.910275</td><td>3</td></tr><tr><td>2006-08-01 00:00:00</td><td>372.5</td><td>139.5</td><td>2.670251</td><td>3</td></tr><tr><td>2006-09-01 00:00:00</td><td>89.1</td><td>17.1</td><td>5.210526</td><td>0</td></tr><tr><td>&hellip;</td><td>&hellip;</td><td>&hellip;</td><td>&hellip;</td><td>&hellip;</td></tr><tr><td>2010-08-01 00:00:00</td><td>417.1</td><td>231.8</td><td>1.799396</td><td>0</td></tr><tr><td>2010-09-01 00:00:00</td><td>30.0</td><td>84.8</td><td>0.353774</td><td>6</td></tr><tr><td>2010-10-01 00:00:00</td><td>40.0</td><td>42.1</td><td>0.950119</td><td>0</td></tr><tr><td>2010-11-01 00:00:00</td><td>192.5</td><td>140.2</td><td>1.373039</td><td>0</td></tr><tr><td>2010-12-01 00:00:00</td><td>160.25</td><td>102.0</td><td>1.571078</td><td>0</td></tr></tbody></table></div>"
      ]
     },
     "execution_count": 452,
     "metadata": {},
     "output_type": "execute_result"
    }
   ],
   "execution_count": 452
  },
  {
   "metadata": {},
   "cell_type": "code",
   "outputs": [],
   "execution_count": null,
   "source": "",
   "id": "b3310cc1e2ba366"
  },
  {
   "metadata": {},
   "cell_type": "code",
   "outputs": [],
   "execution_count": null,
   "source": "",
   "id": "1a05b568c19bb4d2"
  },
  {
   "metadata": {},
   "cell_type": "code",
   "outputs": [],
   "execution_count": null,
   "source": "",
   "id": "9bdb232cfd8e4a7f"
  }
 ],
 "metadata": {
  "kernelspec": {
   "display_name": "rainfallqc",
   "language": "python",
   "name": "python3"
  },
  "language_info": {
   "codemirror_mode": {
    "name": "ipython",
    "version": 3
   },
   "file_extension": ".py",
   "mimetype": "text/x-python",
   "name": "python",
   "nbconvert_exporter": "python",
   "pygments_lexer": "ipython3",
   "version": "3.13.1"
  }
 },
 "nbformat": 4,
 "nbformat_minor": 5
}
