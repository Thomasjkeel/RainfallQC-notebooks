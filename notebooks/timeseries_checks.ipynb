{
 "cells": [
  {
   "cell_type": "markdown",
   "id": "e373d55b-482e-4c7b-a5f5-279d298e6384",
   "metadata": {},
   "source": [
    "# Timeseries checks for quality control flags\n",
    "Covers QC13-15\n",
    "\n",
    "## Table of contents\n",
    "[QC13 Daily accumulations](#QC13---Daily-accumulations)  \n",
    "[QC14 Monthly accumulations](#QC14---Monthly-accumulations)  \n",
    "[QC15 Streaks](#QC15---Streaks)  \n",
    "\n",
    "See '3.3 Suspect accumulations and repeated values' in Lewis et al. (2021)"
   ]
  },
  {
   "cell_type": "code",
   "execution_count": null,
   "id": "d9fc067c-29e0-46b1-b745-c69d3f998521",
   "metadata": {},
   "outputs": [],
   "source": []
  },
  {
   "cell_type": "markdown",
   "id": "6d86884e-93d8-4350-aa5e-e204b9935484",
   "metadata": {},
   "source": [
    "# QC13 - Daily accumulations\n",
    "[Back to Index](#Table-of-contents)\n",
    "\n",
    "#### Differences from `intenseqc`: \n",
    "- "
   ]
  },
  {
   "cell_type": "code",
   "execution_count": null,
   "id": "746deb62-5242-49ed-ae7e-dbc3227435c4",
   "metadata": {},
   "outputs": [],
   "source": []
  },
  {
   "cell_type": "markdown",
   "id": "d3007040-6156-472c-ab75-89287acecc2b",
   "metadata": {},
   "source": [
    "# QC14 - Monthly accumulations \n",
    "[Back to Index](#Table-of-contents)\n",
    "\n",
    "#### Differences from `intenseqc`: \n",
    "- "
   ]
  },
  {
   "cell_type": "code",
   "execution_count": null,
   "id": "2c02353d-51ed-4790-99b8-f64567a3e7bf",
   "metadata": {},
   "outputs": [],
   "source": []
  },
  {
   "cell_type": "markdown",
   "id": "26138b2f-21e8-4d0e-809d-f435e7bee636",
   "metadata": {},
   "source": [
    "# QC15 - Streaks \n",
    "[Back to Index](#Table-of-contents)\n",
    "\n",
    "#### Differences from `intenseqc`: \n",
    "- "
   ]
  },
  {
   "cell_type": "code",
   "execution_count": null,
   "id": "bb4a6b34-29d6-4529-9c01-43d1cbd47d45",
   "metadata": {},
   "outputs": [],
   "source": []
  }
 ],
 "metadata": {
  "kernelspec": {
   "display_name": "Python 3 (ipykernel)",
   "language": "python",
   "name": "python3"
  },
  "language_info": {
   "codemirror_mode": {
    "name": "ipython",
    "version": 3
   },
   "file_extension": ".py",
   "mimetype": "text/x-python",
   "name": "python",
   "nbconvert_exporter": "python",
   "pygments_lexer": "ipython3",
   "version": "3.13.1"
  }
 },
 "nbformat": 4,
 "nbformat_minor": 5
}
