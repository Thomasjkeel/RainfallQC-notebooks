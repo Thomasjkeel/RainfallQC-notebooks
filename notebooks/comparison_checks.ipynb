{
 "cells": [
  {
   "cell_type": "markdown",
   "id": "9880f270-11c6-4092-886c-106530be1065",
   "metadata": {},
   "source": [
    "# Comparison checks for quality control flags\n",
    "Covers QC8-15\n",
    "\n",
    "## Table of contents\n",
    "[QC8 R99p](#QC8---R99p)  \n",
    "[QC9 PRCPTOT](#QC9---PRCPTOT)  \n",
    "[QC10 World Record](#QC10---World-Record)  \n",
    "[QC11 Rx1day](#QC11---Rx1day)  \n",
    "[QC12 CDD](#QC12---CDD)  \n",
    "[QC13 Daily accumulations](#QC13---Daily-accumulations)  \n",
    "[QC14 Monthly accumulations](#QC14---Monthly-accumulations)  \n",
    "[QC15 Streaks](#QC15---Streaks)  \n",
    "\n",
    "See '3.3.1 Suspiciously high values' in Lewis et al. (2021)"
   ]
  },
  {
   "cell_type": "code",
   "execution_count": null,
   "id": "e0ccfe9a-9143-4e03-8acc-54d4921d900e",
   "metadata": {},
   "outputs": [],
   "source": []
  },
  {
   "cell_type": "markdown",
   "id": "efddc9dc-4abc-4097-99e6-111b6705ebe3",
   "metadata": {},
   "source": [
    "# QC8 - R99p \n",
    "[Back to Index](#Table-of-contents)\n",
    "\n",
    "#### Differences from `intense-qc`: \n",
    "- "
   ]
  },
  {
   "cell_type": "code",
   "execution_count": null,
   "id": "90862152-7965-4e8b-aca0-5a63cfef2e4c",
   "metadata": {},
   "outputs": [],
   "source": []
  },
  {
   "cell_type": "markdown",
   "id": "3f6c444c-0004-42b1-bb0b-0cc9f120d5e9",
   "metadata": {},
   "source": [
    "# QC9 - PRCPTOT \n",
    "[Back to Index](#Table-of-contents)\n",
    "\n",
    "#### Differences from `intense-qc`: \n",
    "- "
   ]
  },
  {
   "cell_type": "code",
   "execution_count": null,
   "id": "4b12a0f2-77f4-4004-9a03-fc00c933ba2a",
   "metadata": {},
   "outputs": [],
   "source": []
  },
  {
   "cell_type": "markdown",
   "id": "5be5c8e2-f162-4947-a720-84daaabfae81",
   "metadata": {},
   "source": [
    "# QC10 - World Record \n",
    "[Back to Index](#Table-of-contents)\n",
    "\n",
    "#### Differences from `intense-qc`: \n",
    "- "
   ]
  },
  {
   "cell_type": "code",
   "execution_count": null,
   "id": "018f3d8f-d3d6-4920-8c3f-ab271665b1ff",
   "metadata": {},
   "outputs": [],
   "source": []
  },
  {
   "cell_type": "markdown",
   "id": "8ec52052-54c4-400b-bb3a-892e09511484",
   "metadata": {},
   "source": [
    "# QC11 - Rx1day \n",
    "[Back to Index](#Table-of-contents)\n",
    "\n",
    "#### Differences from `intense-qc`: \n",
    "- "
   ]
  },
  {
   "cell_type": "code",
   "execution_count": null,
   "id": "facf4762-936a-4275-8e1d-bb6841aa37fa",
   "metadata": {},
   "outputs": [],
   "source": []
  },
  {
   "cell_type": "markdown",
   "id": "8edfb34f-4284-4936-9a60-670c366fcb53",
   "metadata": {},
   "source": [
    "# QC12 - CDD \n",
    "[Back to Index](#Table-of-contents)\n",
    "\n",
    "#### Differences from `intense-qc`: \n",
    "- "
   ]
  },
  {
   "cell_type": "code",
   "execution_count": null,
   "id": "3183c232-d611-4fb8-b43b-9fcfdb4c2797",
   "metadata": {},
   "outputs": [],
   "source": []
  },
  {
   "cell_type": "markdown",
   "id": "8d9da023",
   "metadata": {},
   "source": [
    "# QC13 - Daily accumulations\n",
    "[Back to Index](#Table-of-contents)\n",
    "\n",
    "#### Differences from `intense-qc`: \n",
    "- "
   ]
  },
  {
   "cell_type": "code",
   "execution_count": null,
   "id": "1cf8aa22",
   "metadata": {},
   "outputs": [],
   "source": [
    "        vals = list(self.gauge.data)\n",
    "\n",
    "        mean_wet_day_val, mean_wet_day_val_filled = self.get_sdii()\n",
    "\n",
    "        flags = [0 for i in range(len(vals))]\n",
    "\n",
    "        for i in range(len(vals) - 24):\n",
    "            day_val_list = vals[i:i + 24]\n",
    "            flag = utils.daily_accums_day_check(day_val_list, mean_wet_day_val, mean_wet_day_val_filled)\n",
    "            if flag > max(flags[i:i + 24]):\n",
    "                flags[i:i + 24] = [flag for j in range(24)]\n",
    "\n",
    "        return flags\n",
    "\n",
    "\n",
    " -->   utils.daily_accums_day_check(day_list, mean_wet_day_val, mean_wet_day_val_filled):\n",
    "    \"\"\"\n",
    "    Suspect daily accumulations flagged where a recorded rainfall amount at these times is preceded by 23 hours with no\n",
    "    rain. A threshold of 2x the mean wet day amount for the corresponding month is applied to increase the chance of\n",
    "    identifying accumulated values at the expense of genuine, moderate events.\n",
    "    \"\"\"\n",
    "\n",
    "    if day_list[23] > 0:\n",
    "        dry_hours = 0\n",
    "        for i in range(23):\n",
    "            if day_list[i] <= 0:\n",
    "                dry_hours += 1\n",
    "        if dry_hours == 23:\n",
    "            if np.isnan(mean_wet_day_val):\n",
    "                if day_list[23] > mean_wet_day_val_filled:\n",
    "                    flag = 2\n",
    "                else:\n",
    "                    flag = 0\n",
    "            else:\n",
    "                if day_list[23] > mean_wet_day_val:\n",
    "                    flag = 1\n",
    "                else:\n",
    "                    flag = 0\n",
    "        else:\n",
    "            flag = 0\n",
    "    else:\n",
    "        flag = 0\n",
    "\n",
    "    return flag"
   ]
  },
  {
   "cell_type": "markdown",
   "id": "4cec8f6b",
   "metadata": {},
   "source": [
    "# QC14 - Monthly accumulations \n",
    "[Back to Index](#Table-of-contents)\n",
    "\n",
    "#### Differences from `intense-qc`: \n",
    "- "
   ]
  },
  {
   "cell_type": "code",
   "execution_count": null,
   "id": "dd6cea83",
   "metadata": {},
   "outputs": [],
   "source": []
  },
  {
   "cell_type": "markdown",
   "id": "65b30399",
   "metadata": {},
   "source": [
    "# QC15 - Streaks \n",
    "[Back to Index](#Table-of-contents)\n",
    "\n",
    "#### Differences from `intense-qc`: \n",
    "- "
   ]
  },
  {
   "cell_type": "code",
   "execution_count": null,
   "id": "9fdcc931-edce-4d47-88e1-7cc96461ca35",
   "metadata": {},
   "outputs": [],
   "source": []
  }
 ],
 "metadata": {
  "kernelspec": {
   "display_name": "Python 3 (ipykernel)",
   "language": "python",
   "name": "python3"
  },
  "language_info": {
   "codemirror_mode": {
    "name": "ipython",
    "version": 3
   },
   "file_extension": ".py",
   "mimetype": "text/x-python",
   "name": "python",
   "nbconvert_exporter": "python",
   "pygments_lexer": "ipython3",
   "version": "3.13.1"
  }
 },
 "nbformat": 4,
 "nbformat_minor": 5
}
