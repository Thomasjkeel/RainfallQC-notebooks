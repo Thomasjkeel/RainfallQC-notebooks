{
 "cells": [
  {
   "cell_type": "markdown",
   "id": "f2747cce",
   "metadata": {},
   "source": [
    "# RainfallQC demo\n",
    "\n",
    "## Index\n",
    "- [1. Load in GDSR data](#1-load-in-gdsr-data)  \n",
    "- [2. Quality control checks](#2-quality-control-checks)  \n",
    "[2.1 Gauge checks](#21-gauge-checks)  \n",
    "[2.2 Comparison checks](#22-comparison-checks)  \n",
    "[2.3 Time-series checks](#23-time-series-checks)  \n",
    "[2.4 Neighbourhood checks](#24-neighbourhood-checks)  \n",
    "- [3 Running QC frameworks](#3-running-qc-frameworks)"
   ]
  },
  {
   "cell_type": "code",
   "execution_count": 1,
   "id": "899a19d5",
   "metadata": {},
   "outputs": [
    {
     "name": "stdout",
     "output_type": "stream",
     "text": [
      "0.3.0\n"
     ]
    }
   ],
   "source": [
    "import polars as pl\n",
    "import rainfallqc\n",
    "\n",
    "print(rainfallqc.__version__)"
   ]
  },
  {
   "cell_type": "code",
   "execution_count": 2,
   "id": "2663cf3a",
   "metadata": {},
   "outputs": [],
   "source": [
    "from rainfallqc import (comparison_checks, gauge_checks, neighbourhood_checks,\n",
    "                        timeseries_checks)\n",
    "from rainfallqc.utils import data_readers # Reads data from GDSR and GPCC format\n",
    "from rainfallqc.qc_frameworks import apply_qc_framework # applies QC framework like IntenseQC\n",
    "\n",
    "from load_example_data import load_local_GSDR_data, load_local_GSDR_metadata # Reads info for a single gauge"
   ]
  },
  {
   "cell_type": "markdown",
   "id": "0d2b173d",
   "metadata": {},
   "source": [
    "# 1. Load in GSDR data\n",
    "[Back to Index](#index)\n",
    "\n",
    "The data we will use in this example is from the Global sub-daily rainfall [dataset](https://journals.ametsoc.org/view/journals/clim/32/15/jcli-d-18-0143.1.xml)"
   ]
  },
  {
   "cell_type": "markdown",
   "id": "d59df8d6",
   "metadata": {},
   "source": [
    "## 1.1 Load data for a single rain gauge"
   ]
  },
  {
   "cell_type": "code",
   "execution_count": 3,
   "id": "413b76d3",
   "metadata": {},
   "outputs": [],
   "source": [
    "TARGET_GSDR = \"DE_02483\"\n",
    "TARGET_GAUGE_COL = f\"rain_mm_{TARGET_GSDR}\""
   ]
  },
  {
   "cell_type": "code",
   "execution_count": 4,
   "id": "46a2ca81",
   "metadata": {},
   "outputs": [],
   "source": [
    "gsdr_data = load_local_GSDR_data(gauge_id=TARGET_GSDR)\n",
    "gsdr_metadata = load_local_GSDR_metadata(gauge_id=TARGET_GSDR)"
   ]
  },
  {
   "cell_type": "code",
   "execution_count": 5,
   "id": "6ced6263",
   "metadata": {},
   "outputs": [
    {
     "data": {
      "text/html": [
       "<div><style>\n",
       ".dataframe > thead > tr,\n",
       ".dataframe > tbody > tr {\n",
       "  text-align: right;\n",
       "  white-space: pre-wrap;\n",
       "}\n",
       "</style>\n",
       "<small>shape: (43_824, 2)</small><table border=\"1\" class=\"dataframe\"><thead><tr><th>time</th><th>rain_mm_DE_02483</th></tr><tr><td>datetime[μs]</td><td>f64</td></tr></thead><tbody><tr><td>2006-01-01 00:00:00</td><td>0.9</td></tr><tr><td>2006-01-01 01:00:00</td><td>0.3</td></tr><tr><td>2006-01-01 02:00:00</td><td>0.3</td></tr><tr><td>2006-01-01 03:00:00</td><td>0.0</td></tr><tr><td>2006-01-01 04:00:00</td><td>0.0</td></tr><tr><td>&hellip;</td><td>&hellip;</td></tr><tr><td>2010-12-31 19:00:00</td><td>0.0</td></tr><tr><td>2010-12-31 20:00:00</td><td>0.0</td></tr><tr><td>2010-12-31 21:00:00</td><td>0.0</td></tr><tr><td>2010-12-31 22:00:00</td><td>0.0</td></tr><tr><td>2010-12-31 23:00:00</td><td>0.0</td></tr></tbody></table></div>"
      ],
      "text/plain": [
       "shape: (43_824, 2)\n",
       "┌─────────────────────┬──────────────────┐\n",
       "│ time                ┆ rain_mm_DE_02483 │\n",
       "│ ---                 ┆ ---              │\n",
       "│ datetime[μs]        ┆ f64              │\n",
       "╞═════════════════════╪══════════════════╡\n",
       "│ 2006-01-01 00:00:00 ┆ 0.9              │\n",
       "│ 2006-01-01 01:00:00 ┆ 0.3              │\n",
       "│ 2006-01-01 02:00:00 ┆ 0.3              │\n",
       "│ 2006-01-01 03:00:00 ┆ 0.0              │\n",
       "│ 2006-01-01 04:00:00 ┆ 0.0              │\n",
       "│ …                   ┆ …                │\n",
       "│ 2010-12-31 19:00:00 ┆ 0.0              │\n",
       "│ 2010-12-31 20:00:00 ┆ 0.0              │\n",
       "│ 2010-12-31 21:00:00 ┆ 0.0              │\n",
       "│ 2010-12-31 22:00:00 ┆ 0.0              │\n",
       "│ 2010-12-31 23:00:00 ┆ 0.0              │\n",
       "└─────────────────────┴──────────────────┘"
      ]
     },
     "execution_count": 5,
     "metadata": {},
     "output_type": "execute_result"
    }
   ],
   "source": [
    "gsdr_data"
   ]
  },
  {
   "cell_type": "markdown",
   "id": "9aa455c1",
   "metadata": {},
   "source": [
    "## 1.2 Load data for a subset of the GSDR network"
   ]
  },
  {
   "cell_type": "code",
   "execution_count": 6,
   "id": "4f46ad53",
   "metadata": {},
   "outputs": [],
   "source": [
    "gdsr_reader = data_readers.GSDRNetworkReader(path_to_gsdr_dir=\"../../data/GSDR/\")"
   ]
  },
  {
   "cell_type": "code",
   "execution_count": 7,
   "id": "69e8d4cd",
   "metadata": {},
   "outputs": [
    {
     "data": {
      "text/html": [
       "<div><style>\n",
       ".dataframe > thead > tr,\n",
       ".dataframe > tbody > tr {\n",
       "  text-align: right;\n",
       "  white-space: pre-wrap;\n",
       "}\n",
       "</style>\n",
       "<small>shape: (5, 22)</small><table border=\"1\" class=\"dataframe\"><thead><tr><th>station_id</th><th>country</th><th>original_station_number</th><th>original_station_name</th><th>path_to_original_data</th><th>latitude</th><th>longitude</th><th>start_datetime</th><th>end_datetime</th><th>elevation</th><th>number_of_records</th><th>percent_missing_data</th><th>original_timestep</th><th>new_timestep</th><th>original_units</th><th>new_units</th><th>time_zone</th><th>daylight_saving_info</th><th>no_data_value</th><th>resolution</th><th>other</th><th>path</th></tr><tr><td>str</td><td>str</td><td>str</td><td>str</td><td>str</td><td>f64</td><td>f64</td><td>datetime[μs]</td><td>datetime[μs]</td><td>str</td><td>str</td><td>str</td><td>str</td><td>str</td><td>str</td><td>str</td><td>str</td><td>str</td><td>str</td><td>str</td><td>str</td><td>str</td></tr></thead><tbody><tr><td>&quot;DE_00310&quot;</td><td>&quot;Germany&quot;</td><td>&quot;00310&quot;</td><td>&quot;NA&quot;</td><td>&quot;B:/INTENSE data/Original data/…</td><td>51.0662</td><td>8.5373</td><td>2006-01-01 00:00:00</td><td>2010-12-31 23:00:00</td><td>&quot;590m&quot;</td><td>&quot;43824&quot;</td><td>&quot;0.00&quot;</td><td>&quot;1hr&quot;</td><td>&quot;1hr&quot;</td><td>&quot;mm&quot;</td><td>&quot;mm&quot;</td><td>&quot;CET&quot;</td><td>&quot;NA&quot;</td><td>&quot;-999&quot;</td><td>&quot;0.10&quot;</td><td>&quot;&quot;</td><td>&quot;../../data/GSDR/DE_00310.txt&quot;</td></tr><tr><td>&quot;DE_00389&quot;</td><td>&quot;Germany&quot;</td><td>&quot;00389&quot;</td><td>&quot;NA&quot;</td><td>&quot;B:/INTENSE data/Original data/…</td><td>51.0148</td><td>8.4318</td><td>2009-11-01 00:00:00</td><td>2010-12-31 23:00:00</td><td>&quot;436m&quot;</td><td>&quot;10224&quot;</td><td>&quot;0.00&quot;</td><td>&quot;1hr&quot;</td><td>&quot;1hr&quot;</td><td>&quot;mm&quot;</td><td>&quot;mm&quot;</td><td>&quot;CET&quot;</td><td>&quot;NA&quot;</td><td>&quot;-999&quot;</td><td>&quot;0.10&quot;</td><td>&quot;&quot;</td><td>&quot;../../data/GSDR/DE_00389.txt&quot;</td></tr><tr><td>&quot;DE_00390&quot;</td><td>&quot;Germany&quot;</td><td>&quot;00390&quot;</td><td>&quot;NA&quot;</td><td>&quot;B:/INTENSE data/Original data/…</td><td>50.9837</td><td>8.3679</td><td>2006-01-01 00:00:00</td><td>2010-12-31 23:00:00</td><td>&quot;610m&quot;</td><td>&quot;43824&quot;</td><td>&quot;0.00&quot;</td><td>&quot;1hr&quot;</td><td>&quot;1hr&quot;</td><td>&quot;mm&quot;</td><td>&quot;mm&quot;</td><td>&quot;CET&quot;</td><td>&quot;NA&quot;</td><td>&quot;-999&quot;</td><td>&quot;0.10&quot;</td><td>&quot;&quot;</td><td>&quot;../../data/GSDR/DE_00390.txt&quot;</td></tr><tr><td>&quot;DE_01300&quot;</td><td>&quot;Germany&quot;</td><td>&quot;01300&quot;</td><td>&quot;NA&quot;</td><td>&quot;B:/INTENSE data/Original data/…</td><td>51.254</td><td>8.1565</td><td>2006-01-01 00:00:00</td><td>2010-12-31 23:00:00</td><td>&quot;351m&quot;</td><td>&quot;43824&quot;</td><td>&quot;0.00&quot;</td><td>&quot;1hr&quot;</td><td>&quot;1hr&quot;</td><td>&quot;mm&quot;</td><td>&quot;mm&quot;</td><td>&quot;CET&quot;</td><td>&quot;NA&quot;</td><td>&quot;-999&quot;</td><td>&quot;0.10&quot;</td><td>&quot;&quot;</td><td>&quot;../../data/GSDR/DE_01300.txt&quot;</td></tr><tr><td>&quot;DE_02483&quot;</td><td>&quot;Germany&quot;</td><td>&quot;02483&quot;</td><td>&quot;NA&quot;</td><td>&quot;B:/INTENSE data/Original data/…</td><td>51.1803</td><td>8.4891</td><td>2006-01-01 00:00:00</td><td>2010-12-31 23:00:00</td><td>&quot;839m&quot;</td><td>&quot;43824&quot;</td><td>&quot;0.00&quot;</td><td>&quot;1hr&quot;</td><td>&quot;1hr&quot;</td><td>&quot;mm&quot;</td><td>&quot;mm&quot;</td><td>&quot;CET&quot;</td><td>&quot;NA&quot;</td><td>&quot;-999&quot;</td><td>&quot;0.10&quot;</td><td>&quot;&quot;</td><td>&quot;../../data/GSDR/DE_02483.txt&quot;</td></tr></tbody></table></div>"
      ],
      "text/plain": [
       "shape: (5, 22)\n",
       "┌────────────┬─────────┬────────────┬────────────┬───┬────────────┬────────────┬───────┬───────────┐\n",
       "│ station_id ┆ country ┆ original_s ┆ original_s ┆ … ┆ no_data_va ┆ resolution ┆ other ┆ path      │\n",
       "│ ---        ┆ ---     ┆ tation_num ┆ tation_nam ┆   ┆ lue        ┆ ---        ┆ ---   ┆ ---       │\n",
       "│ str        ┆ str     ┆ ber        ┆ e          ┆   ┆ ---        ┆ str        ┆ str   ┆ str       │\n",
       "│            ┆         ┆ ---        ┆ ---        ┆   ┆ str        ┆            ┆       ┆           │\n",
       "│            ┆         ┆ str        ┆ str        ┆   ┆            ┆            ┆       ┆           │\n",
       "╞════════════╪═════════╪════════════╪════════════╪═══╪════════════╪════════════╪═══════╪═══════════╡\n",
       "│ DE_00310   ┆ Germany ┆ 00310      ┆ NA         ┆ … ┆ -999       ┆ 0.10       ┆       ┆ ../../dat │\n",
       "│            ┆         ┆            ┆            ┆   ┆            ┆            ┆       ┆ a/GSDR/DE │\n",
       "│            ┆         ┆            ┆            ┆   ┆            ┆            ┆       ┆ _00310.tx │\n",
       "│            ┆         ┆            ┆            ┆   ┆            ┆            ┆       ┆ t         │\n",
       "│ DE_00389   ┆ Germany ┆ 00389      ┆ NA         ┆ … ┆ -999       ┆ 0.10       ┆       ┆ ../../dat │\n",
       "│            ┆         ┆            ┆            ┆   ┆            ┆            ┆       ┆ a/GSDR/DE │\n",
       "│            ┆         ┆            ┆            ┆   ┆            ┆            ┆       ┆ _00389.tx │\n",
       "│            ┆         ┆            ┆            ┆   ┆            ┆            ┆       ┆ t         │\n",
       "│ DE_00390   ┆ Germany ┆ 00390      ┆ NA         ┆ … ┆ -999       ┆ 0.10       ┆       ┆ ../../dat │\n",
       "│            ┆         ┆            ┆            ┆   ┆            ┆            ┆       ┆ a/GSDR/DE │\n",
       "│            ┆         ┆            ┆            ┆   ┆            ┆            ┆       ┆ _00390.tx │\n",
       "│            ┆         ┆            ┆            ┆   ┆            ┆            ┆       ┆ t         │\n",
       "│ DE_01300   ┆ Germany ┆ 01300      ┆ NA         ┆ … ┆ -999       ┆ 0.10       ┆       ┆ ../../dat │\n",
       "│            ┆         ┆            ┆            ┆   ┆            ┆            ┆       ┆ a/GSDR/DE │\n",
       "│            ┆         ┆            ┆            ┆   ┆            ┆            ┆       ┆ _01300.tx │\n",
       "│            ┆         ┆            ┆            ┆   ┆            ┆            ┆       ┆ t         │\n",
       "│ DE_02483   ┆ Germany ┆ 02483      ┆ NA         ┆ … ┆ -999       ┆ 0.10       ┆       ┆ ../../dat │\n",
       "│            ┆         ┆            ┆            ┆   ┆            ┆            ┆       ┆ a/GSDR/DE │\n",
       "│            ┆         ┆            ┆            ┆   ┆            ┆            ┆       ┆ _02483.tx │\n",
       "│            ┆         ┆            ┆            ┆   ┆            ┆            ┆       ┆ t         │\n",
       "└────────────┴─────────┴────────────┴────────────┴───┴────────────┴────────────┴───────┴───────────┘"
      ]
     },
     "execution_count": 7,
     "metadata": {},
     "output_type": "execute_result"
    }
   ],
   "source": [
    "gdsr_reader.metadata.head()"
   ]
  },
  {
   "cell_type": "markdown",
   "id": "d5eb819f",
   "metadata": {},
   "source": [
    "#### 1.2.1 Get nearest neighbours"
   ]
  },
  {
   "cell_type": "code",
   "execution_count": 8,
   "id": "55fd7845",
   "metadata": {},
   "outputs": [
    {
     "data": {
      "text/plain": [
       "['../../data/GSDR/DE_02718.txt',\n",
       " '../../data/GSDR/DE_04488.txt',\n",
       " '../../data/GSDR/DE_00310.txt',\n",
       " '../../data/GSDR/DE_06303.txt',\n",
       " '../../data/GSDR/DE_01300.txt',\n",
       " '../../data/GSDR/DE_03215.txt',\n",
       " '../../data/GSDR/DE_00390.txt']"
      ]
     },
     "execution_count": 8,
     "metadata": {},
     "output_type": "execute_result"
    }
   ],
   "source": [
    "## Get nearest 8 neighbours with temporal overlap of 1000 days\n",
    "nearest_gdsr_gauges = gdsr_reader.get_nearest_overlapping_neighbours_to_target(\n",
    "    target_id=TARGET_GSDR, distance_threshold=100, n_closest=8, min_overlap_days=1000\n",
    ")\n",
    "nearest_gdsr_paths = [gdsr_reader.data_paths[gauge_id] for gauge_id in nearest_gdsr_gauges]\n",
    "nearest_gdsr_paths"
   ]
  },
  {
   "cell_type": "code",
   "execution_count": 9,
   "id": "7665a197",
   "metadata": {},
   "outputs": [
    {
     "data": {
      "text/html": [
       "<div><style>\n",
       ".dataframe > thead > tr,\n",
       ".dataframe > tbody > tr {\n",
       "  text-align: right;\n",
       "  white-space: pre-wrap;\n",
       "}\n",
       "</style>\n",
       "<small>shape: (5, 9)</small><table border=\"1\" class=\"dataframe\"><thead><tr><th>time</th><th>rain_mm_DE_02483</th><th>rain_mm_DE_02718</th><th>rain_mm_DE_04488</th><th>rain_mm_DE_00310</th><th>rain_mm_DE_06303</th><th>rain_mm_DE_01300</th><th>rain_mm_DE_03215</th><th>rain_mm_DE_00390</th></tr><tr><td>datetime[μs]</td><td>f64</td><td>f64</td><td>f64</td><td>f64</td><td>f64</td><td>f64</td><td>f64</td><td>f64</td></tr></thead><tbody><tr><td>2006-01-01 00:00:00</td><td>0.9</td><td>0.1</td><td>null</td><td>0.0</td><td>0.0</td><td>0.1</td><td>null</td><td>0.0</td></tr><tr><td>2006-01-01 01:00:00</td><td>0.3</td><td>0.6</td><td>null</td><td>0.2</td><td>0.2</td><td>0.0</td><td>null</td><td>0.2</td></tr><tr><td>2006-01-01 02:00:00</td><td>0.3</td><td>0.1</td><td>null</td><td>0.0</td><td>0.0</td><td>0.0</td><td>null</td><td>0.0</td></tr><tr><td>2006-01-01 03:00:00</td><td>0.0</td><td>0.0</td><td>null</td><td>0.0</td><td>0.0</td><td>0.0</td><td>null</td><td>0.0</td></tr><tr><td>2006-01-01 04:00:00</td><td>0.0</td><td>0.0</td><td>null</td><td>0.1</td><td>0.0</td><td>0.0</td><td>null</td><td>0.0</td></tr></tbody></table></div>"
      ],
      "text/plain": [
       "shape: (5, 9)\n",
       "┌───────────┬───────────┬───────────┬───────────┬───┬───────────┬───────────┬───────────┬──────────┐\n",
       "│ time      ┆ rain_mm_D ┆ rain_mm_D ┆ rain_mm_D ┆ … ┆ rain_mm_D ┆ rain_mm_D ┆ rain_mm_D ┆ rain_mm_ │\n",
       "│ ---       ┆ E_02483   ┆ E_02718   ┆ E_04488   ┆   ┆ E_06303   ┆ E_01300   ┆ E_03215   ┆ DE_00390 │\n",
       "│ datetime[ ┆ ---       ┆ ---       ┆ ---       ┆   ┆ ---       ┆ ---       ┆ ---       ┆ ---      │\n",
       "│ μs]       ┆ f64       ┆ f64       ┆ f64       ┆   ┆ f64       ┆ f64       ┆ f64       ┆ f64      │\n",
       "╞═══════════╪═══════════╪═══════════╪═══════════╪═══╪═══════════╪═══════════╪═══════════╪══════════╡\n",
       "│ 2006-01-0 ┆ 0.9       ┆ 0.1       ┆ null      ┆ … ┆ 0.0       ┆ 0.1       ┆ null      ┆ 0.0      │\n",
       "│ 1         ┆           ┆           ┆           ┆   ┆           ┆           ┆           ┆          │\n",
       "│ 00:00:00  ┆           ┆           ┆           ┆   ┆           ┆           ┆           ┆          │\n",
       "│ 2006-01-0 ┆ 0.3       ┆ 0.6       ┆ null      ┆ … ┆ 0.2       ┆ 0.0       ┆ null      ┆ 0.2      │\n",
       "│ 1         ┆           ┆           ┆           ┆   ┆           ┆           ┆           ┆          │\n",
       "│ 01:00:00  ┆           ┆           ┆           ┆   ┆           ┆           ┆           ┆          │\n",
       "│ 2006-01-0 ┆ 0.3       ┆ 0.1       ┆ null      ┆ … ┆ 0.0       ┆ 0.0       ┆ null      ┆ 0.0      │\n",
       "│ 1         ┆           ┆           ┆           ┆   ┆           ┆           ┆           ┆          │\n",
       "│ 02:00:00  ┆           ┆           ┆           ┆   ┆           ┆           ┆           ┆          │\n",
       "│ 2006-01-0 ┆ 0.0       ┆ 0.0       ┆ null      ┆ … ┆ 0.0       ┆ 0.0       ┆ null      ┆ 0.0      │\n",
       "│ 1         ┆           ┆           ┆           ┆   ┆           ┆           ┆           ┆          │\n",
       "│ 03:00:00  ┆           ┆           ┆           ┆   ┆           ┆           ┆           ┆          │\n",
       "│ 2006-01-0 ┆ 0.0       ┆ 0.0       ┆ null      ┆ … ┆ 0.0       ┆ 0.0       ┆ null      ┆ 0.0      │\n",
       "│ 1         ┆           ┆           ┆           ┆   ┆           ┆           ┆           ┆          │\n",
       "│ 04:00:00  ┆           ┆           ┆           ┆   ┆           ┆           ┆           ┆          │\n",
       "└───────────┴───────────┴───────────┴───────────┴───┴───────────┴───────────┴───────────┴──────────┘"
      ]
     },
     "execution_count": 9,
     "metadata": {},
     "output_type": "execute_result"
    }
   ],
   "source": [
    "\n",
    "gdsr_network_data = gdsr_reader.load_network_data(\n",
    "    data_paths=nearest_gdsr_paths, rain_col_prefix='rain'\n",
    ")\n",
    "gdsr_network_data = gdsr_network_data.sort(\"time\")\n",
    "\n",
    "gdsr_network_data = gsdr_data.join(gdsr_network_data, on='time') # Join target data\n",
    "gdsr_network_data.head()"
   ]
  },
  {
   "cell_type": "markdown",
   "id": "80efc911",
   "metadata": {},
   "source": [
    "# 2. Quality control checks\n",
    "Four distinct types included in RainfallQC Python package\n",
    "\n",
    "<img src=\"images/rainfall_qc_quadrant.png\" alt=\"qc\" width=\"800\"/>\n",
    "<!-- *Figure 1. Types of rainfall QC* -->\n"
   ]
  },
  {
   "cell_type": "markdown",
   "id": "ed02ebb6",
   "metadata": {},
   "source": [
    "# 2.1 Gauge checks\n",
    "[Back to Index](#index)  \n",
    "QC1-QC7 (suspect gauges)\n",
    "\n",
    "<img src=\"images/gauge_example.jpg\" alt=\"gauge\" width=\"250\"/>\n",
    "\n",
    "**Description:** - For detecting abnormalities in summary and descriptive statistics."
   ]
  },
  {
   "cell_type": "markdown",
   "id": "e6f5ed76",
   "metadata": {},
   "source": [
    "##### QC1"
   ]
  },
  {
   "cell_type": "code",
   "execution_count": 10,
   "id": "05c917a1",
   "metadata": {},
   "outputs": [
    {
     "data": {
      "text/plain": [
       "[2006, 2008, 2009]"
      ]
     },
     "execution_count": 10,
     "metadata": {},
     "output_type": "execute_result"
    }
   ],
   "source": [
    "gauge_checks.check_years_where_annual_mean_k_top_rows_are_zero(\n",
    "    gsdr_data, target_gauge_col=TARGET_GAUGE_COL, k=1800\n",
    ")"
   ]
  },
  {
   "cell_type": "markdown",
   "id": "623f7550",
   "metadata": {},
   "source": [
    "##### QC2"
   ]
  },
  {
   "cell_type": "code",
   "execution_count": 11,
   "id": "5a811745",
   "metadata": {},
   "outputs": [
    {
     "data": {
      "text/plain": [
       "[2006, 2008, 2009]"
      ]
     },
     "execution_count": 11,
     "metadata": {},
     "output_type": "execute_result"
    }
   ],
   "source": [
    "gauge_checks.check_years_where_nth_percentile_is_zero(gsdr_data, target_gauge_col=TARGET_GAUGE_COL, quantile=0.8)"
   ]
  },
  {
   "cell_type": "markdown",
   "id": "b6cfb26c",
   "metadata": {},
   "source": [
    "##### QC3"
   ]
  },
  {
   "cell_type": "code",
   "execution_count": 12,
   "id": "a56850d8",
   "metadata": {},
   "outputs": [
    {
     "data": {
      "text/plain": [
       "0"
      ]
     },
     "execution_count": 12,
     "metadata": {},
     "output_type": "execute_result"
    }
   ],
   "source": [
    "gauge_checks.check_breakpoints(gsdr_data, target_gauge_col=TARGET_GAUGE_COL)"
   ]
  },
  {
   "cell_type": "markdown",
   "id": "97b69fd1",
   "metadata": {},
   "source": [
    "##### QC4"
   ]
  },
  {
   "cell_type": "code",
   "execution_count": 13,
   "id": "8876c995",
   "metadata": {},
   "outputs": [
    {
     "data": {
      "text/plain": [
       "[2010, 2006]"
      ]
     },
     "execution_count": 13,
     "metadata": {},
     "output_type": "execute_result"
    }
   ],
   "source": [
    "gauge_checks.check_intermittency(gsdr_data, target_gauge_col=TARGET_GAUGE_COL)"
   ]
  },
  {
   "cell_type": "markdown",
   "id": "05c6da08",
   "metadata": {},
   "source": [
    "##### QC5"
   ]
  },
  {
   "cell_type": "code",
   "execution_count": 14,
   "id": "ca7c66b4",
   "metadata": {},
   "outputs": [
    {
     "data": {
      "text/plain": [
       "[2006, 2010]"
      ]
     },
     "execution_count": 14,
     "metadata": {},
     "output_type": "execute_result"
    }
   ],
   "source": [
    "gauge_checks.check_min_val_change(gsdr_data, target_gauge_col=TARGET_GAUGE_COL, expected_min_val=0.1)"
   ]
  },
  {
   "cell_type": "markdown",
   "id": "31827e36",
   "metadata": {},
   "source": [
    "##### QC6-7"
   ]
  },
  {
   "cell_type": "code",
   "execution_count": 15,
   "id": "1b8d91ad",
   "metadata": {},
   "outputs": [
    {
     "data": {
      "text/plain": [
       "0"
      ]
     },
     "execution_count": 15,
     "metadata": {},
     "output_type": "execute_result"
    }
   ],
   "source": [
    "gauge_checks.check_temporal_bias(gsdr_data, target_gauge_col=TARGET_GAUGE_COL, time_granularity=\"weekday\")"
   ]
  },
  {
   "cell_type": "markdown",
   "id": "94af38cd",
   "metadata": {},
   "source": [
    "# 2.2 Comparison checks\n",
    "[Back to Index](#index)  \n",
    "QC8-QC11 (suspiciously high values) - comparison to ETCCDI  \n",
    "\n",
    "<img src=\"images/timeseries_comparison_example.png\" alt=\"comparison-check\" width=\"450\"/>\n",
    "\n",
    "**Description:** - For detecting abnormalities based on benchmarks.\n",
    "\n"
   ]
  },
  {
   "cell_type": "markdown",
   "id": "056635a6",
   "metadata": {},
   "source": [
    "##### QC8"
   ]
  },
  {
   "cell_type": "code",
   "execution_count": 16,
   "id": "44dd3006",
   "metadata": {},
   "outputs": [
    {
     "data": {
      "text/plain": [
       "[0, 0, 0, 0, 0]"
      ]
     },
     "execution_count": 16,
     "metadata": {},
     "output_type": "execute_result"
    }
   ],
   "source": [
    "comparison_checks.check_annual_exceedance_etccdi_prcptot(\n",
    "    gsdr_data,\n",
    "    target_gauge_col=TARGET_GAUGE_COL,\n",
    "    gauge_lat=gsdr_metadata[\"latitude\"],\n",
    "    gauge_lon=gsdr_metadata[\"longitude\"],\n",
    ")"
   ]
  },
  {
   "cell_type": "markdown",
   "id": "58263623",
   "metadata": {},
   "source": [
    "##### QC9"
   ]
  },
  {
   "cell_type": "code",
   "execution_count": 17,
   "id": "4958cee0",
   "metadata": {},
   "outputs": [
    {
     "data": {
      "text/plain": [
       "[0, 4, 0, 0, 0]"
      ]
     },
     "execution_count": 17,
     "metadata": {},
     "output_type": "execute_result"
    }
   ],
   "source": [
    "comparison_checks.check_annual_exceedance_etccdi_r99p(\n",
    "    gsdr_data,\n",
    "    TARGET_GAUGE_COL,\n",
    "    gauge_lat=gsdr_metadata[\"latitude\"],\n",
    "    gauge_lon=gsdr_metadata[\"longitude\"],\n",
    ")"
   ]
  },
  {
   "cell_type": "markdown",
   "id": "7cb4ea10",
   "metadata": {},
   "source": [
    "##### QC10"
   ]
  },
  {
   "cell_type": "code",
   "execution_count": 18,
   "id": "9cfeb1e3",
   "metadata": {},
   "outputs": [
    {
     "data": {
      "text/html": [
       "<div><style>\n",
       ".dataframe > thead > tr,\n",
       ".dataframe > tbody > tr {\n",
       "  text-align: right;\n",
       "  white-space: pre-wrap;\n",
       "}\n",
       "</style>\n",
       "<small>shape: (4, 2)</small><table border=\"1\" class=\"dataframe\"><thead><tr><th>world_record_check</th><th>count</th></tr><tr><td>f64</td><td>u32</td></tr></thead><tbody><tr><td>1.0</td><td>23</td></tr><tr><td>0.0</td><td>42750</td></tr><tr><td>NaN</td><td>1046</td></tr><tr><td>4.0</td><td>5</td></tr></tbody></table></div>"
      ],
      "text/plain": [
       "shape: (4, 2)\n",
       "┌────────────────────┬───────┐\n",
       "│ world_record_check ┆ count │\n",
       "│ ---                ┆ ---   │\n",
       "│ f64                ┆ u32   │\n",
       "╞════════════════════╪═══════╡\n",
       "│ 1.0                ┆ 23    │\n",
       "│ 0.0                ┆ 42750 │\n",
       "│ NaN                ┆ 1046  │\n",
       "│ 4.0                ┆ 5     │\n",
       "└────────────────────┴───────┘"
      ]
     },
     "execution_count": 18,
     "metadata": {},
     "output_type": "execute_result"
    }
   ],
   "source": [
    "wr_check = comparison_checks.check_exceedance_of_rainfall_world_record(\n",
    "    gsdr_data, TARGET_GAUGE_COL, time_res=\"hourly\"\n",
    ")\n",
    "wr_check[\"world_record_check\"].value_counts()"
   ]
  },
  {
   "cell_type": "code",
   "execution_count": 19,
   "id": "9e6205a4",
   "metadata": {},
   "outputs": [
    {
     "data": {
      "text/html": [
       "<div><style>\n",
       ".dataframe > thead > tr,\n",
       ".dataframe > tbody > tr {\n",
       "  text-align: right;\n",
       "  white-space: pre-wrap;\n",
       "}\n",
       "</style>\n",
       "<small>shape: (43_824, 2)</small><table border=\"1\" class=\"dataframe\"><thead><tr><th>time</th><th>rain_mm_DE_02483</th></tr><tr><td>datetime[μs]</td><td>f64</td></tr></thead><tbody><tr><td>2006-01-01 00:00:00</td><td>0.9</td></tr><tr><td>2006-01-01 01:00:00</td><td>0.3</td></tr><tr><td>2006-01-01 02:00:00</td><td>0.3</td></tr><tr><td>2006-01-01 03:00:00</td><td>0.0</td></tr><tr><td>2006-01-01 04:00:00</td><td>0.0</td></tr><tr><td>&hellip;</td><td>&hellip;</td></tr><tr><td>2010-12-31 19:00:00</td><td>0.0</td></tr><tr><td>2010-12-31 20:00:00</td><td>0.0</td></tr><tr><td>2010-12-31 21:00:00</td><td>0.0</td></tr><tr><td>2010-12-31 22:00:00</td><td>0.0</td></tr><tr><td>2010-12-31 23:00:00</td><td>0.0</td></tr></tbody></table></div>"
      ],
      "text/plain": [
       "shape: (43_824, 2)\n",
       "┌─────────────────────┬──────────────────┐\n",
       "│ time                ┆ rain_mm_DE_02483 │\n",
       "│ ---                 ┆ ---              │\n",
       "│ datetime[μs]        ┆ f64              │\n",
       "╞═════════════════════╪══════════════════╡\n",
       "│ 2006-01-01 00:00:00 ┆ 0.9              │\n",
       "│ 2006-01-01 01:00:00 ┆ 0.3              │\n",
       "│ 2006-01-01 02:00:00 ┆ 0.3              │\n",
       "│ 2006-01-01 03:00:00 ┆ 0.0              │\n",
       "│ 2006-01-01 04:00:00 ┆ 0.0              │\n",
       "│ …                   ┆ …                │\n",
       "│ 2010-12-31 19:00:00 ┆ 0.0              │\n",
       "│ 2010-12-31 20:00:00 ┆ 0.0              │\n",
       "│ 2010-12-31 21:00:00 ┆ 0.0              │\n",
       "│ 2010-12-31 22:00:00 ┆ 0.0              │\n",
       "│ 2010-12-31 23:00:00 ┆ 0.0              │\n",
       "└─────────────────────┴──────────────────┘"
      ]
     },
     "execution_count": 19,
     "metadata": {},
     "output_type": "execute_result"
    }
   ],
   "source": [
    "gsdr_data"
   ]
  },
  {
   "cell_type": "code",
   "execution_count": 20,
   "id": "26202839",
   "metadata": {},
   "outputs": [],
   "source": [
    "wr_check = gsdr_data.join(wr_check, on='time')"
   ]
  },
  {
   "cell_type": "code",
   "execution_count": 21,
   "id": "d3206f6a",
   "metadata": {},
   "outputs": [
    {
     "data": {
      "text/html": [
       "<div><style>\n",
       ".dataframe > thead > tr,\n",
       ".dataframe > tbody > tr {\n",
       "  text-align: right;\n",
       "  white-space: pre-wrap;\n",
       "}\n",
       "</style>\n",
       "<small>shape: (23, 3)</small><table border=\"1\" class=\"dataframe\"><thead><tr><th>time</th><th>rain_mm_DE_02483</th><th>world_record_check</th></tr><tr><td>datetime[μs]</td><td>f64</td><td>f64</td></tr></thead><tbody><tr><td>2006-12-24 01:00:00</td><td>450.0</td><td>1.0</td></tr><tr><td>2006-12-24 02:00:00</td><td>450.0</td><td>1.0</td></tr><tr><td>2006-12-24 03:00:00</td><td>450.0</td><td>1.0</td></tr><tr><td>2006-12-24 04:00:00</td><td>450.0</td><td>1.0</td></tr><tr><td>2006-12-24 05:00:00</td><td>450.0</td><td>1.0</td></tr><tr><td>&hellip;</td><td>&hellip;</td><td>&hellip;</td></tr><tr><td>2006-12-24 19:00:00</td><td>450.0</td><td>1.0</td></tr><tr><td>2006-12-24 20:00:00</td><td>450.0</td><td>1.0</td></tr><tr><td>2006-12-24 21:00:00</td><td>450.0</td><td>1.0</td></tr><tr><td>2006-12-24 22:00:00</td><td>450.0</td><td>1.0</td></tr><tr><td>2006-12-24 23:00:00</td><td>450.0</td><td>1.0</td></tr></tbody></table></div>"
      ],
      "text/plain": [
       "shape: (23, 3)\n",
       "┌─────────────────────┬──────────────────┬────────────────────┐\n",
       "│ time                ┆ rain_mm_DE_02483 ┆ world_record_check │\n",
       "│ ---                 ┆ ---              ┆ ---                │\n",
       "│ datetime[μs]        ┆ f64              ┆ f64                │\n",
       "╞═════════════════════╪══════════════════╪════════════════════╡\n",
       "│ 2006-12-24 01:00:00 ┆ 450.0            ┆ 1.0                │\n",
       "│ 2006-12-24 02:00:00 ┆ 450.0            ┆ 1.0                │\n",
       "│ 2006-12-24 03:00:00 ┆ 450.0            ┆ 1.0                │\n",
       "│ 2006-12-24 04:00:00 ┆ 450.0            ┆ 1.0                │\n",
       "│ 2006-12-24 05:00:00 ┆ 450.0            ┆ 1.0                │\n",
       "│ …                   ┆ …                ┆ …                  │\n",
       "│ 2006-12-24 19:00:00 ┆ 450.0            ┆ 1.0                │\n",
       "│ 2006-12-24 20:00:00 ┆ 450.0            ┆ 1.0                │\n",
       "│ 2006-12-24 21:00:00 ┆ 450.0            ┆ 1.0                │\n",
       "│ 2006-12-24 22:00:00 ┆ 450.0            ┆ 1.0                │\n",
       "│ 2006-12-24 23:00:00 ┆ 450.0            ┆ 1.0                │\n",
       "└─────────────────────┴──────────────────┴────────────────────┘"
      ]
     },
     "execution_count": 21,
     "metadata": {},
     "output_type": "execute_result"
    }
   ],
   "source": [
    "wr_check.filter(pl.col(\"world_record_check\") == 1)"
   ]
  },
  {
   "cell_type": "code",
   "execution_count": 22,
   "id": "501a78cd",
   "metadata": {},
   "outputs": [
    {
     "data": {
      "text/html": [
       "<div><style>\n",
       ".dataframe > thead > tr,\n",
       ".dataframe > tbody > tr {\n",
       "  text-align: right;\n",
       "  white-space: pre-wrap;\n",
       "}\n",
       "</style>\n",
       "<small>shape: (5, 3)</small><table border=\"1\" class=\"dataframe\"><thead><tr><th>time</th><th>rain_mm_DE_02483</th><th>world_record_check</th></tr><tr><td>datetime[μs]</td><td>f64</td><td>f64</td></tr></thead><tbody><tr><td>2007-04-23 00:00:00</td><td>999.0</td><td>4.0</td></tr><tr><td>2007-04-23 01:00:00</td><td>999.0</td><td>4.0</td></tr><tr><td>2007-04-23 02:00:00</td><td>999.0</td><td>4.0</td></tr><tr><td>2007-04-23 03:00:00</td><td>999.0</td><td>4.0</td></tr><tr><td>2007-04-23 04:00:00</td><td>999.0</td><td>4.0</td></tr></tbody></table></div>"
      ],
      "text/plain": [
       "shape: (5, 3)\n",
       "┌─────────────────────┬──────────────────┬────────────────────┐\n",
       "│ time                ┆ rain_mm_DE_02483 ┆ world_record_check │\n",
       "│ ---                 ┆ ---              ┆ ---                │\n",
       "│ datetime[μs]        ┆ f64              ┆ f64                │\n",
       "╞═════════════════════╪══════════════════╪════════════════════╡\n",
       "│ 2007-04-23 00:00:00 ┆ 999.0            ┆ 4.0                │\n",
       "│ 2007-04-23 01:00:00 ┆ 999.0            ┆ 4.0                │\n",
       "│ 2007-04-23 02:00:00 ┆ 999.0            ┆ 4.0                │\n",
       "│ 2007-04-23 03:00:00 ┆ 999.0            ┆ 4.0                │\n",
       "│ 2007-04-23 04:00:00 ┆ 999.0            ┆ 4.0                │\n",
       "└─────────────────────┴──────────────────┴────────────────────┘"
      ]
     },
     "execution_count": 22,
     "metadata": {},
     "output_type": "execute_result"
    }
   ],
   "source": [
    "wr_check.filter(pl.col(\"world_record_check\") == 4)"
   ]
  },
  {
   "cell_type": "markdown",
   "id": "15c76060",
   "metadata": {},
   "source": [
    "##### QC11"
   ]
  },
  {
   "cell_type": "code",
   "execution_count": 23,
   "id": "1387bdad",
   "metadata": {},
   "outputs": [
    {
     "data": {
      "text/html": [
       "<div><style>\n",
       ".dataframe > thead > tr,\n",
       ".dataframe > tbody > tr {\n",
       "  text-align: right;\n",
       "  white-space: pre-wrap;\n",
       "}\n",
       "</style>\n",
       "<small>shape: (4, 2)</small><table border=\"1\" class=\"dataframe\"><thead><tr><th>rx1day_check</th><th>count</th></tr><tr><td>f64</td><td>u32</td></tr></thead><tbody><tr><td>4.0</td><td>32</td></tr><tr><td>0.0</td><td>42740</td></tr><tr><td>1.0</td><td>6</td></tr><tr><td>NaN</td><td>1046</td></tr></tbody></table></div>"
      ],
      "text/plain": [
       "shape: (4, 2)\n",
       "┌──────────────┬───────┐\n",
       "│ rx1day_check ┆ count │\n",
       "│ ---          ┆ ---   │\n",
       "│ f64          ┆ u32   │\n",
       "╞══════════════╪═══════╡\n",
       "│ 4.0          ┆ 32    │\n",
       "│ 0.0          ┆ 42740 │\n",
       "│ 1.0          ┆ 6     │\n",
       "│ NaN          ┆ 1046  │\n",
       "└──────────────┴───────┘"
      ]
     },
     "execution_count": 23,
     "metadata": {},
     "output_type": "execute_result"
    }
   ],
   "source": [
    "rx1day_check = comparison_checks.check_hourly_exceedance_etccdi_rx1day(\n",
    "    gsdr_data,\n",
    "    TARGET_GAUGE_COL,\n",
    "    gauge_lat=gsdr_metadata[\"latitude\"],\n",
    "    gauge_lon=gsdr_metadata[\"longitude\"],\n",
    ")\n",
    "\n",
    "rx1day_check[\"rx1day_check\"].value_counts()"
   ]
  },
  {
   "cell_type": "code",
   "execution_count": 24,
   "id": "bf587412",
   "metadata": {},
   "outputs": [],
   "source": [
    "rx1day_check = gsdr_data.join(rx1day_check, on='time')"
   ]
  },
  {
   "cell_type": "code",
   "execution_count": 25,
   "id": "a46d2696",
   "metadata": {},
   "outputs": [
    {
     "data": {
      "text/html": [
       "<div><style>\n",
       ".dataframe > thead > tr,\n",
       ".dataframe > tbody > tr {\n",
       "  text-align: right;\n",
       "  white-space: pre-wrap;\n",
       "}\n",
       "</style>\n",
       "<small>shape: (6, 3)</small><table border=\"1\" class=\"dataframe\"><thead><tr><th>time</th><th>rain_mm_DE_02483</th><th>rx1day_check</th></tr><tr><td>datetime[μs]</td><td>f64</td><td>f64</td></tr></thead><tbody><tr><td>2008-05-30 19:00:00</td><td>50.0</td><td>1.0</td></tr><tr><td>2008-05-30 20:00:00</td><td>50.0</td><td>1.0</td></tr><tr><td>2008-05-30 21:00:00</td><td>50.0</td><td>1.0</td></tr><tr><td>2008-06-30 00:00:00</td><td>50.0</td><td>1.0</td></tr><tr><td>2008-06-30 01:00:00</td><td>50.0</td><td>1.0</td></tr><tr><td>2010-08-10 23:00:00</td><td>50.0</td><td>1.0</td></tr></tbody></table></div>"
      ],
      "text/plain": [
       "shape: (6, 3)\n",
       "┌─────────────────────┬──────────────────┬──────────────┐\n",
       "│ time                ┆ rain_mm_DE_02483 ┆ rx1day_check │\n",
       "│ ---                 ┆ ---              ┆ ---          │\n",
       "│ datetime[μs]        ┆ f64              ┆ f64          │\n",
       "╞═════════════════════╪══════════════════╪══════════════╡\n",
       "│ 2008-05-30 19:00:00 ┆ 50.0             ┆ 1.0          │\n",
       "│ 2008-05-30 20:00:00 ┆ 50.0             ┆ 1.0          │\n",
       "│ 2008-05-30 21:00:00 ┆ 50.0             ┆ 1.0          │\n",
       "│ 2008-06-30 00:00:00 ┆ 50.0             ┆ 1.0          │\n",
       "│ 2008-06-30 01:00:00 ┆ 50.0             ┆ 1.0          │\n",
       "│ 2010-08-10 23:00:00 ┆ 50.0             ┆ 1.0          │\n",
       "└─────────────────────┴──────────────────┴──────────────┘"
      ]
     },
     "execution_count": 25,
     "metadata": {},
     "output_type": "execute_result"
    }
   ],
   "source": [
    "rx1day_check.filter(pl.col(\"rx1day_check\") == 1)"
   ]
  },
  {
   "cell_type": "code",
   "execution_count": 26,
   "id": "b60a05ac",
   "metadata": {},
   "outputs": [
    {
     "data": {
      "text/html": [
       "<div><style>\n",
       ".dataframe > thead > tr,\n",
       ".dataframe > tbody > tr {\n",
       "  text-align: right;\n",
       "  white-space: pre-wrap;\n",
       "}\n",
       "</style>\n",
       "<small>shape: (32, 3)</small><table border=\"1\" class=\"dataframe\"><thead><tr><th>time</th><th>rain_mm_DE_02483</th><th>rx1day_check</th></tr><tr><td>datetime[μs]</td><td>f64</td><td>f64</td></tr></thead><tbody><tr><td>2006-12-24 01:00:00</td><td>450.0</td><td>4.0</td></tr><tr><td>2006-12-24 02:00:00</td><td>450.0</td><td>4.0</td></tr><tr><td>2006-12-24 03:00:00</td><td>450.0</td><td>4.0</td></tr><tr><td>2006-12-24 04:00:00</td><td>450.0</td><td>4.0</td></tr><tr><td>2006-12-24 05:00:00</td><td>450.0</td><td>4.0</td></tr><tr><td>&hellip;</td><td>&hellip;</td><td>&hellip;</td></tr><tr><td>2007-04-23 02:00:00</td><td>999.0</td><td>4.0</td></tr><tr><td>2007-04-23 03:00:00</td><td>999.0</td><td>4.0</td></tr><tr><td>2007-04-23 04:00:00</td><td>999.0</td><td>4.0</td></tr><tr><td>2007-07-01 16:00:00</td><td>82.5</td><td>4.0</td></tr><tr><td>2008-07-29 13:00:00</td><td>100.0</td><td>4.0</td></tr></tbody></table></div>"
      ],
      "text/plain": [
       "shape: (32, 3)\n",
       "┌─────────────────────┬──────────────────┬──────────────┐\n",
       "│ time                ┆ rain_mm_DE_02483 ┆ rx1day_check │\n",
       "│ ---                 ┆ ---              ┆ ---          │\n",
       "│ datetime[μs]        ┆ f64              ┆ f64          │\n",
       "╞═════════════════════╪══════════════════╪══════════════╡\n",
       "│ 2006-12-24 01:00:00 ┆ 450.0            ┆ 4.0          │\n",
       "│ 2006-12-24 02:00:00 ┆ 450.0            ┆ 4.0          │\n",
       "│ 2006-12-24 03:00:00 ┆ 450.0            ┆ 4.0          │\n",
       "│ 2006-12-24 04:00:00 ┆ 450.0            ┆ 4.0          │\n",
       "│ 2006-12-24 05:00:00 ┆ 450.0            ┆ 4.0          │\n",
       "│ …                   ┆ …                ┆ …            │\n",
       "│ 2007-04-23 02:00:00 ┆ 999.0            ┆ 4.0          │\n",
       "│ 2007-04-23 03:00:00 ┆ 999.0            ┆ 4.0          │\n",
       "│ 2007-04-23 04:00:00 ┆ 999.0            ┆ 4.0          │\n",
       "│ 2007-07-01 16:00:00 ┆ 82.5             ┆ 4.0          │\n",
       "│ 2008-07-29 13:00:00 ┆ 100.0            ┆ 4.0          │\n",
       "└─────────────────────┴──────────────────┴──────────────┘"
      ]
     },
     "execution_count": 26,
     "metadata": {},
     "output_type": "execute_result"
    }
   ],
   "source": [
    "rx1day_check.filter(pl.col(\"rx1day_check\") == 4)"
   ]
  },
  {
   "cell_type": "markdown",
   "id": "35afb53f",
   "metadata": {},
   "source": [
    "# 2.3 Time-series checks\n",
    "[Back to Index](#index)  \n",
    "QC12-QC15 (Long periods without rainfall, accumulations and streaks)\n",
    "- will also include spike checks and other time-series related QC\n",
    "\n",
    "<img src=\"images/timeseries_example.jpg\" alt=\"timeseries\" width=\"350\"/>\n",
    "\n",
    "**Description:** - For detecting abnormalities in patterns of the data record."
   ]
  },
  {
   "cell_type": "markdown",
   "id": "be809d31",
   "metadata": {},
   "source": [
    "##### QC12"
   ]
  },
  {
   "cell_type": "code",
   "execution_count": 27,
   "id": "2dbf8db8",
   "metadata": {},
   "outputs": [
    {
     "data": {
      "text/html": [
       "<div><style>\n",
       ".dataframe > thead > tr,\n",
       ".dataframe > tbody > tr {\n",
       "  text-align: right;\n",
       "  white-space: pre-wrap;\n",
       "}\n",
       "</style>\n",
       "<small>shape: (2, 2)</small><table border=\"1\" class=\"dataframe\"><thead><tr><th>dry_spell_flag</th><th>count</th></tr><tr><td>f64</td><td>u32</td></tr></thead><tbody><tr><td>4.0</td><td>2200</td></tr><tr><td>0.0</td><td>41624</td></tr></tbody></table></div>"
      ],
      "text/plain": [
       "shape: (2, 2)\n",
       "┌────────────────┬───────┐\n",
       "│ dry_spell_flag ┆ count │\n",
       "│ ---            ┆ ---   │\n",
       "│ f64            ┆ u32   │\n",
       "╞════════════════╪═══════╡\n",
       "│ 4.0            ┆ 2200  │\n",
       "│ 0.0            ┆ 41624 │\n",
       "└────────────────┴───────┘"
      ]
     },
     "execution_count": 27,
     "metadata": {},
     "output_type": "execute_result"
    }
   ],
   "source": [
    "cdd_check = timeseries_checks.check_dry_period_cdd(\n",
    "    gsdr_data,\n",
    "    target_gauge_col=TARGET_GAUGE_COL,\n",
    "    time_res='hourly',\n",
    "    gauge_lat=gsdr_metadata['latitude'],\n",
    "    gauge_lon=gsdr_metadata['longitude'],\n",
    ")\n",
    "cdd_check['dry_spell_flag'].value_counts()"
   ]
  },
  {
   "cell_type": "code",
   "execution_count": 28,
   "id": "fab645ca",
   "metadata": {},
   "outputs": [],
   "source": [
    "cdd_check = gsdr_data.join(cdd_check, on='time')"
   ]
  },
  {
   "cell_type": "code",
   "execution_count": 29,
   "id": "b4bbd01a",
   "metadata": {},
   "outputs": [
    {
     "data": {
      "text/html": [
       "<div><style>\n",
       ".dataframe > thead > tr,\n",
       ".dataframe > tbody > tr {\n",
       "  text-align: right;\n",
       "  white-space: pre-wrap;\n",
       "}\n",
       "</style>\n",
       "<small>shape: (2_200, 3)</small><table border=\"1\" class=\"dataframe\"><thead><tr><th>time</th><th>rain_mm_DE_02483</th><th>dry_spell_flag</th></tr><tr><td>datetime[μs]</td><td>f64</td><td>f64</td></tr></thead><tbody><tr><td>2009-05-31 08:00:00</td><td>0.0</td><td>4.0</td></tr><tr><td>2009-05-31 09:00:00</td><td>0.0</td><td>4.0</td></tr><tr><td>2009-05-31 10:00:00</td><td>0.0</td><td>4.0</td></tr><tr><td>2009-05-31 11:00:00</td><td>0.0</td><td>4.0</td></tr><tr><td>2009-05-31 12:00:00</td><td>0.0</td><td>4.0</td></tr><tr><td>&hellip;</td><td>&hellip;</td><td>&hellip;</td></tr><tr><td>2009-08-30 19:00:00</td><td>0.0</td><td>4.0</td></tr><tr><td>2009-08-30 20:00:00</td><td>0.0</td><td>4.0</td></tr><tr><td>2009-08-30 21:00:00</td><td>0.0</td><td>4.0</td></tr><tr><td>2009-08-30 22:00:00</td><td>0.0</td><td>4.0</td></tr><tr><td>2009-08-30 23:00:00</td><td>0.0</td><td>4.0</td></tr></tbody></table></div>"
      ],
      "text/plain": [
       "shape: (2_200, 3)\n",
       "┌─────────────────────┬──────────────────┬────────────────┐\n",
       "│ time                ┆ rain_mm_DE_02483 ┆ dry_spell_flag │\n",
       "│ ---                 ┆ ---              ┆ ---            │\n",
       "│ datetime[μs]        ┆ f64              ┆ f64            │\n",
       "╞═════════════════════╪══════════════════╪════════════════╡\n",
       "│ 2009-05-31 08:00:00 ┆ 0.0              ┆ 4.0            │\n",
       "│ 2009-05-31 09:00:00 ┆ 0.0              ┆ 4.0            │\n",
       "│ 2009-05-31 10:00:00 ┆ 0.0              ┆ 4.0            │\n",
       "│ 2009-05-31 11:00:00 ┆ 0.0              ┆ 4.0            │\n",
       "│ 2009-05-31 12:00:00 ┆ 0.0              ┆ 4.0            │\n",
       "│ …                   ┆ …                ┆ …              │\n",
       "│ 2009-08-30 19:00:00 ┆ 0.0              ┆ 4.0            │\n",
       "│ 2009-08-30 20:00:00 ┆ 0.0              ┆ 4.0            │\n",
       "│ 2009-08-30 21:00:00 ┆ 0.0              ┆ 4.0            │\n",
       "│ 2009-08-30 22:00:00 ┆ 0.0              ┆ 4.0            │\n",
       "│ 2009-08-30 23:00:00 ┆ 0.0              ┆ 4.0            │\n",
       "└─────────────────────┴──────────────────┴────────────────┘"
      ]
     },
     "execution_count": 29,
     "metadata": {},
     "output_type": "execute_result"
    }
   ],
   "source": [
    "cdd_check.filter(pl.col(\"dry_spell_flag\") == 4)"
   ]
  },
  {
   "cell_type": "code",
   "execution_count": 30,
   "id": "ec861252",
   "metadata": {},
   "outputs": [
    {
     "data": {
      "text/plain": [
       "<Axes: xlabel='time'>"
      ]
     },
     "execution_count": 30,
     "metadata": {},
     "output_type": "execute_result"
    },
    {
     "data": {
      "image/png": "[encoded data removed]",
      "text/plain": [
       "<Figure size 640x480 with 1 Axes>"
      ]
     },
     "metadata": {},
     "output_type": "display_data"
    }
   ],
   "source": [
    "cdd_check.filter((pl.col('time') > pl.date(2009, 3, 28)) & (pl.col('time') < pl.date(2009, 9, 30))).to_pandas().plot(x='time')"
   ]
  },
  {
   "cell_type": "markdown",
   "id": "2b7bfb67",
   "metadata": {},
   "source": [
    "##### QC13 - Daily accumulations\n",
    "(currently need to implement flag 3 for accumulations longer than 1 day & flag 6 for labelling zeros)"
   ]
  },
  {
   "cell_type": "code",
   "execution_count": 31,
   "id": "8d398558",
   "metadata": {},
   "outputs": [
    {
     "data": {
      "text/html": [
       "<div><style>\n",
       ".dataframe > thead > tr,\n",
       ".dataframe > tbody > tr {\n",
       "  text-align: right;\n",
       "  white-space: pre-wrap;\n",
       "}\n",
       "</style>\n",
       "<small>shape: (2, 2)</small><table border=\"1\" class=\"dataframe\"><thead><tr><th>daily_accumulation</th><th>count</th></tr><tr><td>f64</td><td>u32</td></tr></thead><tbody><tr><td>0.0</td><td>43392</td></tr><tr><td>1.0</td><td>432</td></tr></tbody></table></div>"
      ],
      "text/plain": [
       "shape: (2, 2)\n",
       "┌────────────────────┬───────┐\n",
       "│ daily_accumulation ┆ count │\n",
       "│ ---                ┆ ---   │\n",
       "│ f64                ┆ u32   │\n",
       "╞════════════════════╪═══════╡\n",
       "│ 0.0                ┆ 43392 │\n",
       "│ 1.0                ┆ 432   │\n",
       "└────────────────────┴───────┘"
      ]
     },
     "execution_count": 31,
     "metadata": {},
     "output_type": "execute_result"
    }
   ],
   "source": [
    "daily_accumulations = timeseries_checks.check_daily_accumulations(\n",
    "    gsdr_data,\n",
    "    target_gauge_col=TARGET_GAUGE_COL,\n",
    "    gauge_lat=gsdr_metadata['latitude'],\n",
    "    gauge_lon=gsdr_metadata['longitude'],\n",
    "    wet_day_threshold=1.0,\n",
    "    accumulation_multiplying_factor=2.0,\n",
    ")\n",
    "daily_accumulations['daily_accumulation'].value_counts()"
   ]
  },
  {
   "cell_type": "code",
   "execution_count": 32,
   "id": "fa3b0455",
   "metadata": {},
   "outputs": [],
   "source": [
    "daily_accumulations = gsdr_data.join(daily_accumulations, on='time')"
   ]
  },
  {
   "cell_type": "code",
   "execution_count": 33,
   "id": "4a4b8650",
   "metadata": {},
   "outputs": [
    {
     "data": {
      "text/html": [
       "<div><style>\n",
       ".dataframe > thead > tr,\n",
       ".dataframe > tbody > tr {\n",
       "  text-align: right;\n",
       "  white-space: pre-wrap;\n",
       "}\n",
       "</style>\n",
       "<small>shape: (432, 3)</small><table border=\"1\" class=\"dataframe\"><thead><tr><th>time</th><th>rain_mm_DE_02483</th><th>daily_accumulation</th></tr><tr><td>datetime[μs]</td><td>f64</td><td>f64</td></tr></thead><tbody><tr><td>2006-06-13 17:00:00</td><td>0.0</td><td>1.0</td></tr><tr><td>2006-06-13 18:00:00</td><td>0.0</td><td>1.0</td></tr><tr><td>2006-06-13 19:00:00</td><td>0.0</td><td>1.0</td></tr><tr><td>2006-06-13 20:00:00</td><td>0.0</td><td>1.0</td></tr><tr><td>2006-06-13 21:00:00</td><td>0.0</td><td>1.0</td></tr><tr><td>&hellip;</td><td>&hellip;</td><td>&hellip;</td></tr><tr><td>2010-10-31 20:00:00</td><td>0.0</td><td>1.0</td></tr><tr><td>2010-10-31 21:00:00</td><td>0.0</td><td>1.0</td></tr><tr><td>2010-10-31 22:00:00</td><td>0.0</td><td>1.0</td></tr><tr><td>2010-10-31 23:00:00</td><td>0.0</td><td>1.0</td></tr><tr><td>2010-11-01 00:00:00</td><td>40.0</td><td>1.0</td></tr></tbody></table></div>"
      ],
      "text/plain": [
       "shape: (432, 3)\n",
       "┌─────────────────────┬──────────────────┬────────────────────┐\n",
       "│ time                ┆ rain_mm_DE_02483 ┆ daily_accumulation │\n",
       "│ ---                 ┆ ---              ┆ ---                │\n",
       "│ datetime[μs]        ┆ f64              ┆ f64                │\n",
       "╞═════════════════════╪══════════════════╪════════════════════╡\n",
       "│ 2006-06-13 17:00:00 ┆ 0.0              ┆ 1.0                │\n",
       "│ 2006-06-13 18:00:00 ┆ 0.0              ┆ 1.0                │\n",
       "│ 2006-06-13 19:00:00 ┆ 0.0              ┆ 1.0                │\n",
       "│ 2006-06-13 20:00:00 ┆ 0.0              ┆ 1.0                │\n",
       "│ 2006-06-13 21:00:00 ┆ 0.0              ┆ 1.0                │\n",
       "│ …                   ┆ …                ┆ …                  │\n",
       "│ 2010-10-31 20:00:00 ┆ 0.0              ┆ 1.0                │\n",
       "│ 2010-10-31 21:00:00 ┆ 0.0              ┆ 1.0                │\n",
       "│ 2010-10-31 22:00:00 ┆ 0.0              ┆ 1.0                │\n",
       "│ 2010-10-31 23:00:00 ┆ 0.0              ┆ 1.0                │\n",
       "│ 2010-11-01 00:00:00 ┆ 40.0             ┆ 1.0                │\n",
       "└─────────────────────┴──────────────────┴────────────────────┘"
      ]
     },
     "execution_count": 33,
     "metadata": {},
     "output_type": "execute_result"
    }
   ],
   "source": [
    "daily_accumulations.filter(pl.col('daily_accumulation') == 1.0)"
   ]
  },
  {
   "cell_type": "code",
   "execution_count": 34,
   "id": "f9a0dd07",
   "metadata": {},
   "outputs": [
    {
     "data": {
      "text/plain": [
       "<Axes: xlabel='time'>"
      ]
     },
     "execution_count": 34,
     "metadata": {},
     "output_type": "execute_result"
    },
    {
     "data": {
      "image/png": "[encoded data removed]",
      "text/plain": [
       "<Figure size 640x480 with 1 Axes>"
      ]
     },
     "metadata": {},
     "output_type": "display_data"
    }
   ],
   "source": [
    "daily_accumulations.filter((pl.col('time') > pl.date(2006, 6, 12)) & (pl.col('time') < pl.date(2006, 7, 30))).to_pandas().plot(x='time')"
   ]
  },
  {
   "cell_type": "markdown",
   "id": "c63aefd7",
   "metadata": {},
   "source": [
    "Editing accumulation period length..."
   ]
  },
  {
   "cell_type": "code",
   "execution_count": 35,
   "id": "709a4da7",
   "metadata": {},
   "outputs": [
    {
     "data": {
      "text/html": [
       "<div><style>\n",
       ".dataframe > thead > tr,\n",
       ".dataframe > tbody > tr {\n",
       "  text-align: right;\n",
       "  white-space: pre-wrap;\n",
       "}\n",
       "</style>\n",
       "<small>shape: (2, 2)</small><table border=\"1\" class=\"dataframe\"><thead><tr><th>n_hour_accumulation</th><th>count</th></tr><tr><td>f64</td><td>u32</td></tr></thead><tbody><tr><td>1.0</td><td>576</td></tr><tr><td>0.0</td><td>43248</td></tr></tbody></table></div>"
      ],
      "text/plain": [
       "shape: (2, 2)\n",
       "┌─────────────────────┬───────┐\n",
       "│ n_hour_accumulation ┆ count │\n",
       "│ ---                 ┆ ---   │\n",
       "│ f64                 ┆ u32   │\n",
       "╞═════════════════════╪═══════╡\n",
       "│ 1.0                 ┆ 576   │\n",
       "│ 0.0                 ┆ 43248 │\n",
       "└─────────────────────┴───────┘"
      ]
     },
     "execution_count": 35,
     "metadata": {},
     "output_type": "execute_result"
    }
   ],
   "source": [
    "N_HOURS = 96\n",
    "ACCUMULATION_THRESHOLD = 11.0\n",
    "\n",
    "da_flags = timeseries_checks.flag_accumulation_periods(gsdr_data, TARGET_GAUGE_COL,\n",
    "                                                       accumulation_threshold=ACCUMULATION_THRESHOLD,\n",
    "                                                       accumulation_period_in_hours=N_HOURS)\n",
    "\n",
    "n_hour_accumulations = gsdr_data.with_columns(n_hour_accumulation=pl.Series(da_flags))\n",
    "n_hour_accumulations['n_hour_accumulation'].value_counts()\n"
   ]
  },
  {
   "cell_type": "code",
   "execution_count": 36,
   "id": "63965b5d",
   "metadata": {},
   "outputs": [
    {
     "data": {
      "text/plain": [
       "<Axes: xlabel='time'>"
      ]
     },
     "execution_count": 36,
     "metadata": {},
     "output_type": "execute_result"
    },
    {
     "data": {
      "image/png": "[encoded data removed]",
      "text/plain": [
       "<Figure size 640x480 with 1 Axes>"
      ]
     },
     "metadata": {},
     "output_type": "display_data"
    }
   ],
   "source": [
    "n_hour_accumulations.filter((pl.col('time') > pl.date(2006, 5, 12)) & (pl.col('time') < pl.date(2006, 7, 30))).to_pandas().plot(x='time')"
   ]
  },
  {
   "cell_type": "markdown",
   "id": "6b097e46",
   "metadata": {},
   "source": [
    "##### QC14"
   ]
  },
  {
   "cell_type": "code",
   "execution_count": 37,
   "id": "17d21197",
   "metadata": {},
   "outputs": [
    {
     "data": {
      "text/html": [
       "<div><style>\n",
       ".dataframe > thead > tr,\n",
       ".dataframe > tbody > tr {\n",
       "  text-align: right;\n",
       "  white-space: pre-wrap;\n",
       "}\n",
       "</style>\n",
       "<small>shape: (2, 2)</small><table border=\"1\" class=\"dataframe\"><thead><tr><th>monthly_accumulation</th><th>count</th></tr><tr><td>i32</td><td>u32</td></tr></thead><tbody><tr><td>2</td><td>22</td></tr><tr><td>0</td><td>43802</td></tr></tbody></table></div>"
      ],
      "text/plain": [
       "shape: (2, 2)\n",
       "┌──────────────────────┬───────┐\n",
       "│ monthly_accumulation ┆ count │\n",
       "│ ---                  ┆ ---   │\n",
       "│ i32                  ┆ u32   │\n",
       "╞══════════════════════╪═══════╡\n",
       "│ 2                    ┆ 22    │\n",
       "│ 0                    ┆ 43802 │\n",
       "└──────────────────────┴───────┘"
      ]
     },
     "execution_count": 37,
     "metadata": {},
     "output_type": "execute_result"
    }
   ],
   "source": [
    "monthly_accumulations = timeseries_checks.check_monthly_accumulations(\n",
    "    gsdr_data,\n",
    "    TARGET_GAUGE_COL,\n",
    "    gauge_lat=gsdr_metadata['latitude'],\n",
    "    gauge_lon=gsdr_metadata['longitude'],\n",
    ")\n",
    "monthly_accumulations['monthly_accumulation'].value_counts()"
   ]
  },
  {
   "cell_type": "code",
   "execution_count": 38,
   "id": "8498f0c4",
   "metadata": {},
   "outputs": [],
   "source": [
    "monthly_accumulations = gsdr_data.join(monthly_accumulations, on='time')"
   ]
  },
  {
   "cell_type": "code",
   "execution_count": 39,
   "id": "c48f5072",
   "metadata": {},
   "outputs": [
    {
     "data": {
      "text/html": [
       "<div><style>\n",
       ".dataframe > thead > tr,\n",
       ".dataframe > tbody > tr {\n",
       "  text-align: right;\n",
       "  white-space: pre-wrap;\n",
       "}\n",
       "</style>\n",
       "<small>shape: (22, 3)</small><table border=\"1\" class=\"dataframe\"><thead><tr><th>time</th><th>rain_mm_DE_02483</th><th>monthly_accumulation</th></tr><tr><td>datetime[μs]</td><td>f64</td><td>i32</td></tr></thead><tbody><tr><td>2006-06-14 16:00:00</td><td>12.4</td><td>2</td></tr><tr><td>2006-06-25 19:00:00</td><td>15.0</td><td>2</td></tr><tr><td>2006-07-07 17:00:00</td><td>17.2</td><td>2</td></tr><tr><td>2006-07-22 17:00:00</td><td>13.0</td><td>2</td></tr><tr><td>2006-07-27 13:00:00</td><td>22.4</td><td>2</td></tr><tr><td>&hellip;</td><td>&hellip;</td><td>&hellip;</td></tr><tr><td>2010-08-10 23:00:00</td><td>50.0</td><td>2</td></tr><tr><td>2010-08-11 23:00:00</td><td>40.0</td><td>2</td></tr><tr><td>2010-08-12 23:00:00</td><td>40.0</td><td>2</td></tr><tr><td>2010-08-13 23:00:00</td><td>20.0</td><td>2</td></tr><tr><td>2010-08-27 04:00:00</td><td>13.7</td><td>2</td></tr></tbody></table></div>"
      ],
      "text/plain": [
       "shape: (22, 3)\n",
       "┌─────────────────────┬──────────────────┬──────────────────────┐\n",
       "│ time                ┆ rain_mm_DE_02483 ┆ monthly_accumulation │\n",
       "│ ---                 ┆ ---              ┆ ---                  │\n",
       "│ datetime[μs]        ┆ f64              ┆ i32                  │\n",
       "╞═════════════════════╪══════════════════╪══════════════════════╡\n",
       "│ 2006-06-14 16:00:00 ┆ 12.4             ┆ 2                    │\n",
       "│ 2006-06-25 19:00:00 ┆ 15.0             ┆ 2                    │\n",
       "│ 2006-07-07 17:00:00 ┆ 17.2             ┆ 2                    │\n",
       "│ 2006-07-22 17:00:00 ┆ 13.0             ┆ 2                    │\n",
       "│ 2006-07-27 13:00:00 ┆ 22.4             ┆ 2                    │\n",
       "│ …                   ┆ …                ┆ …                    │\n",
       "│ 2010-08-10 23:00:00 ┆ 50.0             ┆ 2                    │\n",
       "│ 2010-08-11 23:00:00 ┆ 40.0             ┆ 2                    │\n",
       "│ 2010-08-12 23:00:00 ┆ 40.0             ┆ 2                    │\n",
       "│ 2010-08-13 23:00:00 ┆ 20.0             ┆ 2                    │\n",
       "│ 2010-08-27 04:00:00 ┆ 13.7             ┆ 2                    │\n",
       "└─────────────────────┴──────────────────┴──────────────────────┘"
      ]
     },
     "execution_count": 39,
     "metadata": {},
     "output_type": "execute_result"
    }
   ],
   "source": [
    "monthly_accumulations.filter(pl.col(\"monthly_accumulation\") == 2)"
   ]
  },
  {
   "cell_type": "code",
   "execution_count": null,
   "id": "086fb95a",
   "metadata": {},
   "outputs": [],
   "source": []
  },
  {
   "cell_type": "markdown",
   "id": "ffc6bfb8",
   "metadata": {},
   "source": [
    "##### QC15 - Streaks\n",
    "\n",
    "- Flag 1: 2 or more repeated above extreme rain  \n",
    "- Flag 3: streaks of 12 or more greater than data resolution  \n",
    "- Flag 4: streaks of 24 or more greater than 0  \n",
    "- Flag 5: Periods of 0 as multiples of 24  "
   ]
  },
  {
   "cell_type": "code",
   "execution_count": 41,
   "id": "fe927656",
   "metadata": {},
   "outputs": [
    {
     "data": {
      "text/html": [
       "<div><style>\n",
       ".dataframe > thead > tr,\n",
       ".dataframe > tbody > tr {\n",
       "  text-align: right;\n",
       "  white-space: pre-wrap;\n",
       "}\n",
       "</style>\n",
       "<small>shape: (2, 2)</small><table border=\"1\" class=\"dataframe\"><thead><tr><th>streak_flag1</th><th>count</th></tr><tr><td>i32</td><td>u32</td></tr></thead><tbody><tr><td>1</td><td>33</td></tr><tr><td>0</td><td>43791</td></tr></tbody></table></div>"
      ],
      "text/plain": [
       "shape: (2, 2)\n",
       "┌──────────────┬───────┐\n",
       "│ streak_flag1 ┆ count │\n",
       "│ ---          ┆ ---   │\n",
       "│ i32          ┆ u32   │\n",
       "╞══════════════╪═══════╡\n",
       "│ 1            ┆ 33    │\n",
       "│ 0            ┆ 43791 │\n",
       "└──────────────┴───────┘"
      ]
     },
     "execution_count": 41,
     "metadata": {},
     "output_type": "execute_result"
    }
   ],
   "source": [
    "streaks = timeseries_checks.check_streaks(\n",
    "    gsdr_data,\n",
    "    target_gauge_col=TARGET_GAUGE_COL,\n",
    "    gauge_lat=gsdr_metadata[\"latitude\"],\n",
    "    gauge_lon=gsdr_metadata[\"longitude\"],\n",
    "    smallest_measurable_rainfall_amount=gsdr_metadata[\"resolution\"],\n",
    ")\n",
    "\n",
    "streaks['streak_flag1'].value_counts()"
   ]
  },
  {
   "cell_type": "code",
   "execution_count": 42,
   "id": "072f50d9",
   "metadata": {},
   "outputs": [],
   "source": [
    "streaks = gsdr_data.join(streaks, on='time')"
   ]
  },
  {
   "cell_type": "code",
   "execution_count": 43,
   "id": "fdabb35c",
   "metadata": {},
   "outputs": [
    {
     "data": {
      "text/html": [
       "<div><style>\n",
       ".dataframe > thead > tr,\n",
       ".dataframe > tbody > tr {\n",
       "  text-align: right;\n",
       "  white-space: pre-wrap;\n",
       "}\n",
       "</style>\n",
       "<small>shape: (33, 6)</small><table border=\"1\" class=\"dataframe\"><thead><tr><th>time</th><th>rain_mm_DE_02483</th><th>streak_flag1</th><th>streak_flag3</th><th>streak_flag4</th><th>streak_flag5</th></tr><tr><td>datetime[μs]</td><td>f64</td><td>i32</td><td>i32</td><td>i32</td><td>i32</td></tr></thead><tbody><tr><td>2006-12-24 01:00:00</td><td>450.0</td><td>1</td><td>3</td><td>0</td><td>0</td></tr><tr><td>2006-12-24 02:00:00</td><td>450.0</td><td>1</td><td>3</td><td>0</td><td>0</td></tr><tr><td>2006-12-24 03:00:00</td><td>450.0</td><td>1</td><td>3</td><td>0</td><td>0</td></tr><tr><td>2006-12-24 04:00:00</td><td>450.0</td><td>1</td><td>3</td><td>0</td><td>0</td></tr><tr><td>2006-12-24 05:00:00</td><td>450.0</td><td>1</td><td>3</td><td>0</td><td>0</td></tr><tr><td>&hellip;</td><td>&hellip;</td><td>&hellip;</td><td>&hellip;</td><td>&hellip;</td><td>&hellip;</td></tr><tr><td>2008-05-30 19:00:00</td><td>50.0</td><td>1</td><td>0</td><td>0</td><td>0</td></tr><tr><td>2008-05-30 20:00:00</td><td>50.0</td><td>1</td><td>0</td><td>0</td><td>0</td></tr><tr><td>2008-05-30 21:00:00</td><td>50.0</td><td>1</td><td>0</td><td>0</td><td>0</td></tr><tr><td>2008-06-30 00:00:00</td><td>50.0</td><td>1</td><td>0</td><td>0</td><td>0</td></tr><tr><td>2008-06-30 01:00:00</td><td>50.0</td><td>1</td><td>0</td><td>0</td><td>0</td></tr></tbody></table></div>"
      ],
      "text/plain": [
       "shape: (33, 6)\n",
       "┌──────────────┬──────────────────┬──────────────┬──────────────┬──────────────┬──────────────┐\n",
       "│ time         ┆ rain_mm_DE_02483 ┆ streak_flag1 ┆ streak_flag3 ┆ streak_flag4 ┆ streak_flag5 │\n",
       "│ ---          ┆ ---              ┆ ---          ┆ ---          ┆ ---          ┆ ---          │\n",
       "│ datetime[μs] ┆ f64              ┆ i32          ┆ i32          ┆ i32          ┆ i32          │\n",
       "╞══════════════╪══════════════════╪══════════════╪══════════════╪══════════════╪══════════════╡\n",
       "│ 2006-12-24   ┆ 450.0            ┆ 1            ┆ 3            ┆ 0            ┆ 0            │\n",
       "│ 01:00:00     ┆                  ┆              ┆              ┆              ┆              │\n",
       "│ 2006-12-24   ┆ 450.0            ┆ 1            ┆ 3            ┆ 0            ┆ 0            │\n",
       "│ 02:00:00     ┆                  ┆              ┆              ┆              ┆              │\n",
       "│ 2006-12-24   ┆ 450.0            ┆ 1            ┆ 3            ┆ 0            ┆ 0            │\n",
       "│ 03:00:00     ┆                  ┆              ┆              ┆              ┆              │\n",
       "│ 2006-12-24   ┆ 450.0            ┆ 1            ┆ 3            ┆ 0            ┆ 0            │\n",
       "│ 04:00:00     ┆                  ┆              ┆              ┆              ┆              │\n",
       "│ 2006-12-24   ┆ 450.0            ┆ 1            ┆ 3            ┆ 0            ┆ 0            │\n",
       "│ 05:00:00     ┆                  ┆              ┆              ┆              ┆              │\n",
       "│ …            ┆ …                ┆ …            ┆ …            ┆ …            ┆ …            │\n",
       "│ 2008-05-30   ┆ 50.0             ┆ 1            ┆ 0            ┆ 0            ┆ 0            │\n",
       "│ 19:00:00     ┆                  ┆              ┆              ┆              ┆              │\n",
       "│ 2008-05-30   ┆ 50.0             ┆ 1            ┆ 0            ┆ 0            ┆ 0            │\n",
       "│ 20:00:00     ┆                  ┆              ┆              ┆              ┆              │\n",
       "│ 2008-05-30   ┆ 50.0             ┆ 1            ┆ 0            ┆ 0            ┆ 0            │\n",
       "│ 21:00:00     ┆                  ┆              ┆              ┆              ┆              │\n",
       "│ 2008-06-30   ┆ 50.0             ┆ 1            ┆ 0            ┆ 0            ┆ 0            │\n",
       "│ 00:00:00     ┆                  ┆              ┆              ┆              ┆              │\n",
       "│ 2008-06-30   ┆ 50.0             ┆ 1            ┆ 0            ┆ 0            ┆ 0            │\n",
       "│ 01:00:00     ┆                  ┆              ┆              ┆              ┆              │\n",
       "└──────────────┴──────────────────┴──────────────┴──────────────┴──────────────┴──────────────┘"
      ]
     },
     "execution_count": 43,
     "metadata": {},
     "output_type": "execute_result"
    }
   ],
   "source": [
    "streaks.filter(pl.col(\"streak_flag1\") == 1)"
   ]
  },
  {
   "cell_type": "code",
   "execution_count": 44,
   "id": "90065ba6",
   "metadata": {},
   "outputs": [
    {
     "data": {
      "text/plain": [
       "<Axes: xlabel='time'>"
      ]
     },
     "execution_count": 44,
     "metadata": {},
     "output_type": "execute_result"
    },
    {
     "data": {
      "image/png": "[encoded data removed]",
      "text/plain": [
       "<Figure size 640x480 with 1 Axes>"
      ]
     },
     "metadata": {},
     "output_type": "display_data"
    },
    {
     "data": {
      "image/png": "[encoded data removed]",
      "text/plain": [
       "<Figure size 640x480 with 1 Axes>"
      ]
     },
     "metadata": {},
     "output_type": "display_data"
    }
   ],
   "source": [
    "streaks.filter((pl.col('time') > pl.date(2009, 10, 12)) & (pl.col('time') < pl.date(2010, 1, 30))).to_pandas()[['time', 'streak_flag1', 'streak_flag3', 'streak_flag4', 'streak_flag5']].plot(x='time', alpha=.5)\n",
    "streaks.filter((pl.col('time') > pl.date(2009, 10, 12)) & (pl.col('time') < pl.date(2010, 1, 30))).to_pandas()[['time', TARGET_GAUGE_COL]].plot(x='time', alpha=.5)"
   ]
  },
  {
   "cell_type": "code",
   "execution_count": null,
   "id": "4701bb4d",
   "metadata": {},
   "outputs": [],
   "source": []
  },
  {
   "cell_type": "markdown",
   "id": "61188b07",
   "metadata": {},
   "source": [
    "# 2.4 Neighbourhood checks\n",
    "[Back to Index](#index)  \n",
    "QC16-QC25 (neighbouring gauge checks)\n",
    "\n",
    "<img src=\"images/neighbourhood_example.png\" alt=\"neighbourhood\" width=\"300\"/>\n",
    "\n",
    "**Description:** For detecting abnormalities based on measurements in neighbouring gauges.\n"
   ]
  },
  {
   "cell_type": "code",
   "execution_count": null,
   "id": "911a501f",
   "metadata": {},
   "outputs": [
    {
     "data": {
      "text/html": [
       "<div><style>\n",
       ".dataframe > thead > tr,\n",
       ".dataframe > tbody > tr {\n",
       "  text-align: right;\n",
       "  white-space: pre-wrap;\n",
       "}\n",
       "</style>\n",
       "<small>shape: (5, 9)</small><table border=\"1\" class=\"dataframe\"><thead><tr><th>time</th><th>rain_mm_DE_02483</th><th>rain_mm_DE_02718</th><th>rain_mm_DE_04488</th><th>rain_mm_DE_00310</th><th>rain_mm_DE_00390</th><th>rain_mm_DE_03215</th><th>rain_mm_DE_06303</th><th>rain_mm_DE_01300</th></tr><tr><td>datetime[μs]</td><td>f64</td><td>f64</td><td>f64</td><td>f64</td><td>f64</td><td>f64</td><td>f64</td><td>f64</td></tr></thead><tbody><tr><td>2006-01-01 00:00:00</td><td>0.9</td><td>0.1</td><td>null</td><td>0.0</td><td>0.0</td><td>null</td><td>0.0</td><td>0.1</td></tr><tr><td>2006-01-01 01:00:00</td><td>0.3</td><td>0.6</td><td>null</td><td>0.2</td><td>0.2</td><td>null</td><td>0.2</td><td>0.0</td></tr><tr><td>2006-01-01 02:00:00</td><td>0.3</td><td>0.1</td><td>null</td><td>0.0</td><td>0.0</td><td>null</td><td>0.0</td><td>0.0</td></tr><tr><td>2006-01-01 03:00:00</td><td>0.0</td><td>0.0</td><td>null</td><td>0.0</td><td>0.0</td><td>null</td><td>0.0</td><td>0.0</td></tr><tr><td>2006-01-01 04:00:00</td><td>0.0</td><td>0.0</td><td>null</td><td>0.1</td><td>0.0</td><td>null</td><td>0.0</td><td>0.0</td></tr></tbody></table></div>"
      ],
      "text/plain": [
       "shape: (5, 9)\n",
       "┌───────────┬───────────┬───────────┬───────────┬───┬───────────┬───────────┬───────────┬──────────┐\n",
       "│ time      ┆ rain_mm_D ┆ rain_mm_D ┆ rain_mm_D ┆ … ┆ rain_mm_D ┆ rain_mm_D ┆ rain_mm_D ┆ rain_mm_ │\n",
       "│ ---       ┆ E_02483   ┆ E_02718   ┆ E_04488   ┆   ┆ E_00390   ┆ E_03215   ┆ E_06303   ┆ DE_01300 │\n",
       "│ datetime[ ┆ ---       ┆ ---       ┆ ---       ┆   ┆ ---       ┆ ---       ┆ ---       ┆ ---      │\n",
       "│ μs]       ┆ f64       ┆ f64       ┆ f64       ┆   ┆ f64       ┆ f64       ┆ f64       ┆ f64      │\n",
       "╞═══════════╪═══════════╪═══════════╪═══════════╪═══╪═══════════╪═══════════╪═══════════╪══════════╡\n",
       "│ 2006-01-0 ┆ 0.9       ┆ 0.1       ┆ null      ┆ … ┆ 0.0       ┆ null      ┆ 0.0       ┆ 0.1      │\n",
       "│ 1         ┆           ┆           ┆           ┆   ┆           ┆           ┆           ┆          │\n",
       "│ 00:00:00  ┆           ┆           ┆           ┆   ┆           ┆           ┆           ┆          │\n",
       "│ 2006-01-0 ┆ 0.3       ┆ 0.6       ┆ null      ┆ … ┆ 0.2       ┆ null      ┆ 0.2       ┆ 0.0      │\n",
       "│ 1         ┆           ┆           ┆           ┆   ┆           ┆           ┆           ┆          │\n",
       "│ 01:00:00  ┆           ┆           ┆           ┆   ┆           ┆           ┆           ┆          │\n",
       "│ 2006-01-0 ┆ 0.3       ┆ 0.1       ┆ null      ┆ … ┆ 0.0       ┆ null      ┆ 0.0       ┆ 0.0      │\n",
       "│ 1         ┆           ┆           ┆           ┆   ┆           ┆           ┆           ┆          │\n",
       "│ 02:00:00  ┆           ┆           ┆           ┆   ┆           ┆           ┆           ┆          │\n",
       "│ 2006-01-0 ┆ 0.0       ┆ 0.0       ┆ null      ┆ … ┆ 0.0       ┆ null      ┆ 0.0       ┆ 0.0      │\n",
       "│ 1         ┆           ┆           ┆           ┆   ┆           ┆           ┆           ┆          │\n",
       "│ 03:00:00  ┆           ┆           ┆           ┆   ┆           ┆           ┆           ┆          │\n",
       "│ 2006-01-0 ┆ 0.0       ┆ 0.0       ┆ null      ┆ … ┆ 0.0       ┆ null      ┆ 0.0       ┆ 0.0      │\n",
       "│ 1         ┆           ┆           ┆           ┆   ┆           ┆           ┆           ┆          │\n",
       "│ 04:00:00  ┆           ┆           ┆           ┆   ┆           ┆           ┆           ┆          │\n",
       "└───────────┴───────────┴───────────┴───────────┴───┴───────────┴───────────┴───────────┴──────────┘"
      ]
     },
     "execution_count": 44,
     "metadata": {},
     "output_type": "execute_result"
    }
   ],
   "source": [
    "gdsr_network_data.head()"
   ]
  },
  {
   "cell_type": "markdown",
   "id": "987ccf70",
   "metadata": {},
   "source": [
    "##### QC16 Daily neighbours (wet)\n",
    "Identifies suspiciously large values by comparison to to neighbouring data"
   ]
  },
  {
   "cell_type": "code",
   "execution_count": 47,
   "id": "ce9bbc1a",
   "metadata": {},
   "outputs": [],
   "source": [
    "gdsr_network_data_onenans = gdsr_network_data.with_columns(\n",
    "    rain_mm_test=300\n",
    ")"
   ]
  },
  {
   "cell_type": "code",
   "execution_count": 48,
   "id": "1e36b87e",
   "metadata": {},
   "outputs": [
    {
     "data": {
      "text/html": [
       "<div><style>\n",
       ".dataframe > thead > tr,\n",
       ".dataframe > tbody > tr {\n",
       "  text-align: right;\n",
       "  white-space: pre-wrap;\n",
       "}\n",
       "</style>\n",
       "<small>shape: (43_824, 10)</small><table border=\"1\" class=\"dataframe\"><thead><tr><th>time</th><th>rain_mm_DE_02483</th><th>rain_mm_DE_02718</th><th>rain_mm_DE_04488</th><th>rain_mm_DE_00310</th><th>rain_mm_DE_06303</th><th>rain_mm_DE_01300</th><th>rain_mm_DE_03215</th><th>rain_mm_DE_00390</th><th>rain_mm_test</th></tr><tr><td>datetime[μs]</td><td>f64</td><td>f64</td><td>f64</td><td>f64</td><td>f64</td><td>f64</td><td>f64</td><td>f64</td><td>i32</td></tr></thead><tbody><tr><td>2006-01-01 00:00:00</td><td>0.9</td><td>0.1</td><td>null</td><td>0.0</td><td>0.0</td><td>0.1</td><td>null</td><td>0.0</td><td>300</td></tr><tr><td>2006-01-01 01:00:00</td><td>0.3</td><td>0.6</td><td>null</td><td>0.2</td><td>0.2</td><td>0.0</td><td>null</td><td>0.2</td><td>300</td></tr><tr><td>2006-01-01 02:00:00</td><td>0.3</td><td>0.1</td><td>null</td><td>0.0</td><td>0.0</td><td>0.0</td><td>null</td><td>0.0</td><td>300</td></tr><tr><td>2006-01-01 03:00:00</td><td>0.0</td><td>0.0</td><td>null</td><td>0.0</td><td>0.0</td><td>0.0</td><td>null</td><td>0.0</td><td>300</td></tr><tr><td>2006-01-01 04:00:00</td><td>0.0</td><td>0.0</td><td>null</td><td>0.1</td><td>0.0</td><td>0.0</td><td>null</td><td>0.0</td><td>300</td></tr><tr><td>&hellip;</td><td>&hellip;</td><td>&hellip;</td><td>&hellip;</td><td>&hellip;</td><td>&hellip;</td><td>&hellip;</td><td>&hellip;</td><td>&hellip;</td><td>&hellip;</td></tr><tr><td>2010-12-31 19:00:00</td><td>0.0</td><td>0.0</td><td>0.0</td><td>0.0</td><td>0.0</td><td>0.0</td><td>0.0</td><td>0.0</td><td>300</td></tr><tr><td>2010-12-31 20:00:00</td><td>0.0</td><td>0.0</td><td>0.0</td><td>0.0</td><td>0.0</td><td>0.0</td><td>0.0</td><td>0.0</td><td>300</td></tr><tr><td>2010-12-31 21:00:00</td><td>0.0</td><td>0.0</td><td>0.0</td><td>0.0</td><td>0.0</td><td>0.0</td><td>0.0</td><td>0.0</td><td>300</td></tr><tr><td>2010-12-31 22:00:00</td><td>0.0</td><td>0.0</td><td>0.0</td><td>0.0</td><td>0.0</td><td>0.0</td><td>0.0</td><td>0.0</td><td>300</td></tr><tr><td>2010-12-31 23:00:00</td><td>0.0</td><td>0.0</td><td>0.0</td><td>0.0</td><td>0.0</td><td>0.0</td><td>0.0</td><td>0.0</td><td>300</td></tr></tbody></table></div>"
      ],
      "text/plain": [
       "shape: (43_824, 10)\n",
       "┌───────────┬───────────┬───────────┬───────────┬───┬───────────┬───────────┬───────────┬──────────┐\n",
       "│ time      ┆ rain_mm_D ┆ rain_mm_D ┆ rain_mm_D ┆ … ┆ rain_mm_D ┆ rain_mm_D ┆ rain_mm_D ┆ rain_mm_ │\n",
       "│ ---       ┆ E_02483   ┆ E_02718   ┆ E_04488   ┆   ┆ E_01300   ┆ E_03215   ┆ E_00390   ┆ test     │\n",
       "│ datetime[ ┆ ---       ┆ ---       ┆ ---       ┆   ┆ ---       ┆ ---       ┆ ---       ┆ ---      │\n",
       "│ μs]       ┆ f64       ┆ f64       ┆ f64       ┆   ┆ f64       ┆ f64       ┆ f64       ┆ i32      │\n",
       "╞═══════════╪═══════════╪═══════════╪═══════════╪═══╪═══════════╪═══════════╪═══════════╪══════════╡\n",
       "│ 2006-01-0 ┆ 0.9       ┆ 0.1       ┆ null      ┆ … ┆ 0.1       ┆ null      ┆ 0.0       ┆ 300      │\n",
       "│ 1         ┆           ┆           ┆           ┆   ┆           ┆           ┆           ┆          │\n",
       "│ 00:00:00  ┆           ┆           ┆           ┆   ┆           ┆           ┆           ┆          │\n",
       "│ 2006-01-0 ┆ 0.3       ┆ 0.6       ┆ null      ┆ … ┆ 0.0       ┆ null      ┆ 0.2       ┆ 300      │\n",
       "│ 1         ┆           ┆           ┆           ┆   ┆           ┆           ┆           ┆          │\n",
       "│ 01:00:00  ┆           ┆           ┆           ┆   ┆           ┆           ┆           ┆          │\n",
       "│ 2006-01-0 ┆ 0.3       ┆ 0.1       ┆ null      ┆ … ┆ 0.0       ┆ null      ┆ 0.0       ┆ 300      │\n",
       "│ 1         ┆           ┆           ┆           ┆   ┆           ┆           ┆           ┆          │\n",
       "│ 02:00:00  ┆           ┆           ┆           ┆   ┆           ┆           ┆           ┆          │\n",
       "│ 2006-01-0 ┆ 0.0       ┆ 0.0       ┆ null      ┆ … ┆ 0.0       ┆ null      ┆ 0.0       ┆ 300      │\n",
       "│ 1         ┆           ┆           ┆           ┆   ┆           ┆           ┆           ┆          │\n",
       "│ 03:00:00  ┆           ┆           ┆           ┆   ┆           ┆           ┆           ┆          │\n",
       "│ 2006-01-0 ┆ 0.0       ┆ 0.0       ┆ null      ┆ … ┆ 0.0       ┆ null      ┆ 0.0       ┆ 300      │\n",
       "│ 1         ┆           ┆           ┆           ┆   ┆           ┆           ┆           ┆          │\n",
       "│ 04:00:00  ┆           ┆           ┆           ┆   ┆           ┆           ┆           ┆          │\n",
       "│ …         ┆ …         ┆ …         ┆ …         ┆ … ┆ …         ┆ …         ┆ …         ┆ …        │\n",
       "│ 2010-12-3 ┆ 0.0       ┆ 0.0       ┆ 0.0       ┆ … ┆ 0.0       ┆ 0.0       ┆ 0.0       ┆ 300      │\n",
       "│ 1         ┆           ┆           ┆           ┆   ┆           ┆           ┆           ┆          │\n",
       "│ 19:00:00  ┆           ┆           ┆           ┆   ┆           ┆           ┆           ┆          │\n",
       "│ 2010-12-3 ┆ 0.0       ┆ 0.0       ┆ 0.0       ┆ … ┆ 0.0       ┆ 0.0       ┆ 0.0       ┆ 300      │\n",
       "│ 1         ┆           ┆           ┆           ┆   ┆           ┆           ┆           ┆          │\n",
       "│ 20:00:00  ┆           ┆           ┆           ┆   ┆           ┆           ┆           ┆          │\n",
       "│ 2010-12-3 ┆ 0.0       ┆ 0.0       ┆ 0.0       ┆ … ┆ 0.0       ┆ 0.0       ┆ 0.0       ┆ 300      │\n",
       "│ 1         ┆           ┆           ┆           ┆   ┆           ┆           ┆           ┆          │\n",
       "│ 21:00:00  ┆           ┆           ┆           ┆   ┆           ┆           ┆           ┆          │\n",
       "│ 2010-12-3 ┆ 0.0       ┆ 0.0       ┆ 0.0       ┆ … ┆ 0.0       ┆ 0.0       ┆ 0.0       ┆ 300      │\n",
       "│ 1         ┆           ┆           ┆           ┆   ┆           ┆           ┆           ┆          │\n",
       "│ 22:00:00  ┆           ┆           ┆           ┆   ┆           ┆           ┆           ┆          │\n",
       "│ 2010-12-3 ┆ 0.0       ┆ 0.0       ┆ 0.0       ┆ … ┆ 0.0       ┆ 0.0       ┆ 0.0       ┆ 300      │\n",
       "│ 1         ┆           ┆           ┆           ┆   ┆           ┆           ┆           ┆          │\n",
       "│ 23:00:00  ┆           ┆           ┆           ┆   ┆           ┆           ┆           ┆          │\n",
       "└───────────┴───────────┴───────────┴───────────┴───┴───────────┴───────────┴───────────┴──────────┘"
      ]
     },
     "execution_count": 48,
     "metadata": {},
     "output_type": "execute_result"
    }
   ],
   "source": [
    "gdsr_network_data_onenans"
   ]
  },
  {
   "cell_type": "code",
   "execution_count": 49,
   "id": "741da875",
   "metadata": {},
   "outputs": [
    {
     "name": "stdout",
     "output_type": "stream",
     "text": [
      "Warning: removing 'rain_mm_test' from list_of_nearest_stations because: The data contains non-finite values.\n"
     ]
    },
    {
     "data": {
      "text/html": [
       "<div><style>\n",
       ".dataframe > thead > tr,\n",
       ".dataframe > tbody > tr {\n",
       "  text-align: right;\n",
       "  white-space: pre-wrap;\n",
       "}\n",
       "</style>\n",
       "<small>shape: (4, 2)</small><table border=\"1\" class=\"dataframe\"><thead><tr><th>wet_spell_flag_hourly</th><th>count</th></tr><tr><td>f64</td><td>u32</td></tr></thead><tbody><tr><td>2.0</td><td>24</td></tr><tr><td>null</td><td>1608</td></tr><tr><td>0.0</td><td>42168</td></tr><tr><td>3.0</td><td>24</td></tr></tbody></table></div>"
      ],
      "text/plain": [
       "shape: (4, 2)\n",
       "┌───────────────────────┬───────┐\n",
       "│ wet_spell_flag_hourly ┆ count │\n",
       "│ ---                   ┆ ---   │\n",
       "│ f64                   ┆ u32   │\n",
       "╞═══════════════════════╪═══════╡\n",
       "│ 2.0                   ┆ 24    │\n",
       "│ null                  ┆ 1608  │\n",
       "│ 0.0                   ┆ 42168 │\n",
       "│ 3.0                   ┆ 24    │\n",
       "└───────────────────────┴───────┘"
      ]
     },
     "execution_count": 49,
     "metadata": {},
     "output_type": "execute_result"
    }
   ],
   "source": [
    "wet_daily_check = neighbourhood_checks.check_wet_neighbours(\n",
    "    gdsr_network_data_onenans,\n",
    "    target_gauge_col=TARGET_GAUGE_COL,\n",
    "    list_of_nearest_stations=gdsr_network_data_onenans.columns[1:],\n",
    "    time_res='hourly',\n",
    "    wet_threshold=1.0,\n",
    "    min_n_neighbours=5,\n",
    "    n_neighbours_ignored=0,\n",
    ")\n",
    "wet_daily_check['wet_spell_flag_hourly'].value_counts()"
   ]
  },
  {
   "cell_type": "code",
   "execution_count": 50,
   "id": "2d22f519",
   "metadata": {},
   "outputs": [],
   "source": [
    "wet_daily_check = gdsr_network_data.join(wet_daily_check, on='time')"
   ]
  },
  {
   "cell_type": "code",
   "execution_count": 51,
   "id": "30e1c3ef",
   "metadata": {},
   "outputs": [
    {
     "data": {
      "text/html": [
       "<div><style>\n",
       ".dataframe > thead > tr,\n",
       ".dataframe > tbody > tr {\n",
       "  text-align: right;\n",
       "  white-space: pre-wrap;\n",
       "}\n",
       "</style>\n",
       "<small>shape: (24, 10)</small><table border=\"1\" class=\"dataframe\"><thead><tr><th>time</th><th>rain_mm_DE_02483</th><th>rain_mm_DE_02718</th><th>rain_mm_DE_04488</th><th>rain_mm_DE_00310</th><th>rain_mm_DE_06303</th><th>rain_mm_DE_01300</th><th>rain_mm_DE_03215</th><th>rain_mm_DE_00390</th><th>wet_spell_flag_hourly</th></tr><tr><td>datetime[μs]</td><td>f64</td><td>f64</td><td>f64</td><td>f64</td><td>f64</td><td>f64</td><td>f64</td><td>f64</td><td>f64</td></tr></thead><tbody><tr><td>2007-04-23 00:00:00</td><td>999.0</td><td>0.0</td><td>0.0</td><td>0.0</td><td>0.0</td><td>0.0</td><td>null</td><td>0.0</td><td>2.0</td></tr><tr><td>2007-04-23 01:00:00</td><td>999.0</td><td>0.0</td><td>0.0</td><td>0.0</td><td>0.0</td><td>0.0</td><td>null</td><td>0.0</td><td>2.0</td></tr><tr><td>2007-04-23 02:00:00</td><td>999.0</td><td>0.0</td><td>0.0</td><td>0.0</td><td>0.0</td><td>0.0</td><td>null</td><td>0.0</td><td>2.0</td></tr><tr><td>2007-04-23 03:00:00</td><td>999.0</td><td>0.0</td><td>0.0</td><td>0.0</td><td>0.0</td><td>0.0</td><td>null</td><td>0.0</td><td>2.0</td></tr><tr><td>2007-04-23 04:00:00</td><td>999.0</td><td>0.0</td><td>0.0</td><td>0.0</td><td>0.0</td><td>0.0</td><td>null</td><td>0.0</td><td>2.0</td></tr><tr><td>&hellip;</td><td>&hellip;</td><td>&hellip;</td><td>&hellip;</td><td>&hellip;</td><td>&hellip;</td><td>&hellip;</td><td>&hellip;</td><td>&hellip;</td><td>&hellip;</td></tr><tr><td>2007-04-23 19:00:00</td><td>0.0</td><td>0.0</td><td>0.0</td><td>0.0</td><td>0.0</td><td>0.0</td><td>null</td><td>0.0</td><td>2.0</td></tr><tr><td>2007-04-23 20:00:00</td><td>0.0</td><td>0.0</td><td>0.0</td><td>0.0</td><td>0.0</td><td>0.0</td><td>null</td><td>0.0</td><td>2.0</td></tr><tr><td>2007-04-23 21:00:00</td><td>0.0</td><td>0.0</td><td>0.0</td><td>0.0</td><td>0.0</td><td>0.0</td><td>null</td><td>0.0</td><td>2.0</td></tr><tr><td>2007-04-23 22:00:00</td><td>0.0</td><td>0.0</td><td>0.0</td><td>0.0</td><td>0.0</td><td>0.0</td><td>null</td><td>0.0</td><td>2.0</td></tr><tr><td>2007-04-23 23:00:00</td><td>0.1</td><td>0.1</td><td>0.0</td><td>0.0</td><td>0.0</td><td>0.0</td><td>null</td><td>0.0</td><td>2.0</td></tr></tbody></table></div>"
      ],
      "text/plain": [
       "shape: (24, 10)\n",
       "┌───────────┬───────────┬───────────┬───────────┬───┬───────────┬───────────┬───────────┬──────────┐\n",
       "│ time      ┆ rain_mm_D ┆ rain_mm_D ┆ rain_mm_D ┆ … ┆ rain_mm_D ┆ rain_mm_D ┆ rain_mm_D ┆ wet_spel │\n",
       "│ ---       ┆ E_02483   ┆ E_02718   ┆ E_04488   ┆   ┆ E_01300   ┆ E_03215   ┆ E_00390   ┆ l_flag_h │\n",
       "│ datetime[ ┆ ---       ┆ ---       ┆ ---       ┆   ┆ ---       ┆ ---       ┆ ---       ┆ ourly    │\n",
       "│ μs]       ┆ f64       ┆ f64       ┆ f64       ┆   ┆ f64       ┆ f64       ┆ f64       ┆ ---      │\n",
       "│           ┆           ┆           ┆           ┆   ┆           ┆           ┆           ┆ f64      │\n",
       "╞═══════════╪═══════════╪═══════════╪═══════════╪═══╪═══════════╪═══════════╪═══════════╪══════════╡\n",
       "│ 2007-04-2 ┆ 999.0     ┆ 0.0       ┆ 0.0       ┆ … ┆ 0.0       ┆ null      ┆ 0.0       ┆ 2.0      │\n",
       "│ 3         ┆           ┆           ┆           ┆   ┆           ┆           ┆           ┆          │\n",
       "│ 00:00:00  ┆           ┆           ┆           ┆   ┆           ┆           ┆           ┆          │\n",
       "│ 2007-04-2 ┆ 999.0     ┆ 0.0       ┆ 0.0       ┆ … ┆ 0.0       ┆ null      ┆ 0.0       ┆ 2.0      │\n",
       "│ 3         ┆           ┆           ┆           ┆   ┆           ┆           ┆           ┆          │\n",
       "│ 01:00:00  ┆           ┆           ┆           ┆   ┆           ┆           ┆           ┆          │\n",
       "│ 2007-04-2 ┆ 999.0     ┆ 0.0       ┆ 0.0       ┆ … ┆ 0.0       ┆ null      ┆ 0.0       ┆ 2.0      │\n",
       "│ 3         ┆           ┆           ┆           ┆   ┆           ┆           ┆           ┆          │\n",
       "│ 02:00:00  ┆           ┆           ┆           ┆   ┆           ┆           ┆           ┆          │\n",
       "│ 2007-04-2 ┆ 999.0     ┆ 0.0       ┆ 0.0       ┆ … ┆ 0.0       ┆ null      ┆ 0.0       ┆ 2.0      │\n",
       "│ 3         ┆           ┆           ┆           ┆   ┆           ┆           ┆           ┆          │\n",
       "│ 03:00:00  ┆           ┆           ┆           ┆   ┆           ┆           ┆           ┆          │\n",
       "│ 2007-04-2 ┆ 999.0     ┆ 0.0       ┆ 0.0       ┆ … ┆ 0.0       ┆ null      ┆ 0.0       ┆ 2.0      │\n",
       "│ 3         ┆           ┆           ┆           ┆   ┆           ┆           ┆           ┆          │\n",
       "│ 04:00:00  ┆           ┆           ┆           ┆   ┆           ┆           ┆           ┆          │\n",
       "│ …         ┆ …         ┆ …         ┆ …         ┆ … ┆ …         ┆ …         ┆ …         ┆ …        │\n",
       "│ 2007-04-2 ┆ 0.0       ┆ 0.0       ┆ 0.0       ┆ … ┆ 0.0       ┆ null      ┆ 0.0       ┆ 2.0      │\n",
       "│ 3         ┆           ┆           ┆           ┆   ┆           ┆           ┆           ┆          │\n",
       "│ 19:00:00  ┆           ┆           ┆           ┆   ┆           ┆           ┆           ┆          │\n",
       "│ 2007-04-2 ┆ 0.0       ┆ 0.0       ┆ 0.0       ┆ … ┆ 0.0       ┆ null      ┆ 0.0       ┆ 2.0      │\n",
       "│ 3         ┆           ┆           ┆           ┆   ┆           ┆           ┆           ┆          │\n",
       "│ 20:00:00  ┆           ┆           ┆           ┆   ┆           ┆           ┆           ┆          │\n",
       "│ 2007-04-2 ┆ 0.0       ┆ 0.0       ┆ 0.0       ┆ … ┆ 0.0       ┆ null      ┆ 0.0       ┆ 2.0      │\n",
       "│ 3         ┆           ┆           ┆           ┆   ┆           ┆           ┆           ┆          │\n",
       "│ 21:00:00  ┆           ┆           ┆           ┆   ┆           ┆           ┆           ┆          │\n",
       "│ 2007-04-2 ┆ 0.0       ┆ 0.0       ┆ 0.0       ┆ … ┆ 0.0       ┆ null      ┆ 0.0       ┆ 2.0      │\n",
       "│ 3         ┆           ┆           ┆           ┆   ┆           ┆           ┆           ┆          │\n",
       "│ 22:00:00  ┆           ┆           ┆           ┆   ┆           ┆           ┆           ┆          │\n",
       "│ 2007-04-2 ┆ 0.1       ┆ 0.1       ┆ 0.0       ┆ … ┆ 0.0       ┆ null      ┆ 0.0       ┆ 2.0      │\n",
       "│ 3         ┆           ┆           ┆           ┆   ┆           ┆           ┆           ┆          │\n",
       "│ 23:00:00  ┆           ┆           ┆           ┆   ┆           ┆           ┆           ┆          │\n",
       "└───────────┴───────────┴───────────┴───────────┴───┴───────────┴───────────┴───────────┴──────────┘"
      ]
     },
     "execution_count": 51,
     "metadata": {},
     "output_type": "execute_result"
    }
   ],
   "source": [
    "wet_daily_check.filter(pl.col(\"wet_spell_flag_hourly\") == 2.0)"
   ]
  },
  {
   "cell_type": "markdown",
   "id": "a9c27a94",
   "metadata": {},
   "source": [
    "Changing number of ignored neighbours..."
   ]
  },
  {
   "cell_type": "code",
   "execution_count": 52,
   "id": "a42251eb",
   "metadata": {},
   "outputs": [
    {
     "data": {
      "text/html": [
       "<div><style>\n",
       ".dataframe > thead > tr,\n",
       ".dataframe > tbody > tr {\n",
       "  text-align: right;\n",
       "  white-space: pre-wrap;\n",
       "}\n",
       "</style>\n",
       "<small>shape: (4, 2)</small><table border=\"1\" class=\"dataframe\"><thead><tr><th>wet_spell_flag_hourly</th><th>count</th></tr><tr><td>f64</td><td>u32</td></tr></thead><tbody><tr><td>2.0</td><td>24</td></tr><tr><td>3.0</td><td>48</td></tr><tr><td>0.0</td><td>40872</td></tr><tr><td>null</td><td>2880</td></tr></tbody></table></div>"
      ],
      "text/plain": [
       "shape: (4, 2)\n",
       "┌───────────────────────┬───────┐\n",
       "│ wet_spell_flag_hourly ┆ count │\n",
       "│ ---                   ┆ ---   │\n",
       "│ f64                   ┆ u32   │\n",
       "╞═══════════════════════╪═══════╡\n",
       "│ 2.0                   ┆ 24    │\n",
       "│ 3.0                   ┆ 48    │\n",
       "│ 0.0                   ┆ 40872 │\n",
       "│ null                  ┆ 2880  │\n",
       "└───────────────────────┴───────┘"
      ]
     },
     "execution_count": 52,
     "metadata": {},
     "output_type": "execute_result"
    }
   ],
   "source": [
    "WET_THRESHOLD = 0.1\n",
    "N_NEIGHBOURS_IGNORED = 6\n",
    "\n",
    "wet_daily_check = neighbourhood_checks.check_wet_neighbours(\n",
    "    gdsr_network_data,\n",
    "    target_gauge_col=TARGET_GAUGE_COL,\n",
    "    list_of_nearest_stations=gdsr_network_data.columns[1:],\n",
    "    time_res='hourly',\n",
    "    wet_threshold=WET_THRESHOLD,\n",
    "    min_n_neighbours=5,\n",
    "    n_neighbours_ignored=N_NEIGHBOURS_IGNORED,\n",
    ")\n",
    "wet_daily_check['wet_spell_flag_hourly'].value_counts()"
   ]
  },
  {
   "cell_type": "code",
   "execution_count": 53,
   "id": "816a6da9",
   "metadata": {},
   "outputs": [],
   "source": [
    "wet_daily_check = gdsr_network_data.join(wet_daily_check, on='time')"
   ]
  },
  {
   "cell_type": "code",
   "execution_count": 54,
   "id": "51576a5f",
   "metadata": {},
   "outputs": [
    {
     "data": {
      "text/html": [
       "<div><style>\n",
       ".dataframe > thead > tr,\n",
       ".dataframe > tbody > tr {\n",
       "  text-align: right;\n",
       "  white-space: pre-wrap;\n",
       "}\n",
       "</style>\n",
       "<small>shape: (48, 10)</small><table border=\"1\" class=\"dataframe\"><thead><tr><th>time</th><th>rain_mm_DE_02483</th><th>rain_mm_DE_02718</th><th>rain_mm_DE_04488</th><th>rain_mm_DE_00310</th><th>rain_mm_DE_06303</th><th>rain_mm_DE_01300</th><th>rain_mm_DE_03215</th><th>rain_mm_DE_00390</th><th>wet_spell_flag_hourly</th></tr><tr><td>datetime[μs]</td><td>f64</td><td>f64</td><td>f64</td><td>f64</td><td>f64</td><td>f64</td><td>f64</td><td>f64</td><td>f64</td></tr></thead><tbody><tr><td>2006-12-24 00:00:00</td><td>0.0</td><td>0.0</td><td>0.0</td><td>0.0</td><td>0.0</td><td>0.0</td><td>null</td><td>0.0</td><td>3.0</td></tr><tr><td>2006-12-24 01:00:00</td><td>450.0</td><td>0.0</td><td>0.0</td><td>0.0</td><td>0.0</td><td>0.0</td><td>null</td><td>0.0</td><td>3.0</td></tr><tr><td>2006-12-24 02:00:00</td><td>450.0</td><td>0.0</td><td>0.0</td><td>0.0</td><td>0.0</td><td>0.0</td><td>null</td><td>0.0</td><td>3.0</td></tr><tr><td>2006-12-24 03:00:00</td><td>450.0</td><td>0.0</td><td>0.0</td><td>0.0</td><td>0.0</td><td>0.0</td><td>null</td><td>0.0</td><td>3.0</td></tr><tr><td>2006-12-24 04:00:00</td><td>450.0</td><td>0.0</td><td>0.0</td><td>0.0</td><td>0.0</td><td>0.0</td><td>null</td><td>0.0</td><td>3.0</td></tr><tr><td>&hellip;</td><td>&hellip;</td><td>&hellip;</td><td>&hellip;</td><td>&hellip;</td><td>&hellip;</td><td>&hellip;</td><td>&hellip;</td><td>&hellip;</td><td>&hellip;</td></tr><tr><td>2007-04-23 19:00:00</td><td>0.0</td><td>0.0</td><td>0.0</td><td>0.0</td><td>0.0</td><td>0.0</td><td>null</td><td>0.0</td><td>3.0</td></tr><tr><td>2007-04-23 20:00:00</td><td>0.0</td><td>0.0</td><td>0.0</td><td>0.0</td><td>0.0</td><td>0.0</td><td>null</td><td>0.0</td><td>3.0</td></tr><tr><td>2007-04-23 21:00:00</td><td>0.0</td><td>0.0</td><td>0.0</td><td>0.0</td><td>0.0</td><td>0.0</td><td>null</td><td>0.0</td><td>3.0</td></tr><tr><td>2007-04-23 22:00:00</td><td>0.0</td><td>0.0</td><td>0.0</td><td>0.0</td><td>0.0</td><td>0.0</td><td>null</td><td>0.0</td><td>3.0</td></tr><tr><td>2007-04-23 23:00:00</td><td>0.1</td><td>0.1</td><td>0.0</td><td>0.0</td><td>0.0</td><td>0.0</td><td>null</td><td>0.0</td><td>3.0</td></tr></tbody></table></div>"
      ],
      "text/plain": [
       "shape: (48, 10)\n",
       "┌───────────┬───────────┬───────────┬───────────┬───┬───────────┬───────────┬───────────┬──────────┐\n",
       "│ time      ┆ rain_mm_D ┆ rain_mm_D ┆ rain_mm_D ┆ … ┆ rain_mm_D ┆ rain_mm_D ┆ rain_mm_D ┆ wet_spel │\n",
       "│ ---       ┆ E_02483   ┆ E_02718   ┆ E_04488   ┆   ┆ E_01300   ┆ E_03215   ┆ E_00390   ┆ l_flag_h │\n",
       "│ datetime[ ┆ ---       ┆ ---       ┆ ---       ┆   ┆ ---       ┆ ---       ┆ ---       ┆ ourly    │\n",
       "│ μs]       ┆ f64       ┆ f64       ┆ f64       ┆   ┆ f64       ┆ f64       ┆ f64       ┆ ---      │\n",
       "│           ┆           ┆           ┆           ┆   ┆           ┆           ┆           ┆ f64      │\n",
       "╞═══════════╪═══════════╪═══════════╪═══════════╪═══╪═══════════╪═══════════╪═══════════╪══════════╡\n",
       "│ 2006-12-2 ┆ 0.0       ┆ 0.0       ┆ 0.0       ┆ … ┆ 0.0       ┆ null      ┆ 0.0       ┆ 3.0      │\n",
       "│ 4         ┆           ┆           ┆           ┆   ┆           ┆           ┆           ┆          │\n",
       "│ 00:00:00  ┆           ┆           ┆           ┆   ┆           ┆           ┆           ┆          │\n",
       "│ 2006-12-2 ┆ 450.0     ┆ 0.0       ┆ 0.0       ┆ … ┆ 0.0       ┆ null      ┆ 0.0       ┆ 3.0      │\n",
       "│ 4         ┆           ┆           ┆           ┆   ┆           ┆           ┆           ┆          │\n",
       "│ 01:00:00  ┆           ┆           ┆           ┆   ┆           ┆           ┆           ┆          │\n",
       "│ 2006-12-2 ┆ 450.0     ┆ 0.0       ┆ 0.0       ┆ … ┆ 0.0       ┆ null      ┆ 0.0       ┆ 3.0      │\n",
       "│ 4         ┆           ┆           ┆           ┆   ┆           ┆           ┆           ┆          │\n",
       "│ 02:00:00  ┆           ┆           ┆           ┆   ┆           ┆           ┆           ┆          │\n",
       "│ 2006-12-2 ┆ 450.0     ┆ 0.0       ┆ 0.0       ┆ … ┆ 0.0       ┆ null      ┆ 0.0       ┆ 3.0      │\n",
       "│ 4         ┆           ┆           ┆           ┆   ┆           ┆           ┆           ┆          │\n",
       "│ 03:00:00  ┆           ┆           ┆           ┆   ┆           ┆           ┆           ┆          │\n",
       "│ 2006-12-2 ┆ 450.0     ┆ 0.0       ┆ 0.0       ┆ … ┆ 0.0       ┆ null      ┆ 0.0       ┆ 3.0      │\n",
       "│ 4         ┆           ┆           ┆           ┆   ┆           ┆           ┆           ┆          │\n",
       "│ 04:00:00  ┆           ┆           ┆           ┆   ┆           ┆           ┆           ┆          │\n",
       "│ …         ┆ …         ┆ …         ┆ …         ┆ … ┆ …         ┆ …         ┆ …         ┆ …        │\n",
       "│ 2007-04-2 ┆ 0.0       ┆ 0.0       ┆ 0.0       ┆ … ┆ 0.0       ┆ null      ┆ 0.0       ┆ 3.0      │\n",
       "│ 3         ┆           ┆           ┆           ┆   ┆           ┆           ┆           ┆          │\n",
       "│ 19:00:00  ┆           ┆           ┆           ┆   ┆           ┆           ┆           ┆          │\n",
       "│ 2007-04-2 ┆ 0.0       ┆ 0.0       ┆ 0.0       ┆ … ┆ 0.0       ┆ null      ┆ 0.0       ┆ 3.0      │\n",
       "│ 3         ┆           ┆           ┆           ┆   ┆           ┆           ┆           ┆          │\n",
       "│ 20:00:00  ┆           ┆           ┆           ┆   ┆           ┆           ┆           ┆          │\n",
       "│ 2007-04-2 ┆ 0.0       ┆ 0.0       ┆ 0.0       ┆ … ┆ 0.0       ┆ null      ┆ 0.0       ┆ 3.0      │\n",
       "│ 3         ┆           ┆           ┆           ┆   ┆           ┆           ┆           ┆          │\n",
       "│ 21:00:00  ┆           ┆           ┆           ┆   ┆           ┆           ┆           ┆          │\n",
       "│ 2007-04-2 ┆ 0.0       ┆ 0.0       ┆ 0.0       ┆ … ┆ 0.0       ┆ null      ┆ 0.0       ┆ 3.0      │\n",
       "│ 3         ┆           ┆           ┆           ┆   ┆           ┆           ┆           ┆          │\n",
       "│ 22:00:00  ┆           ┆           ┆           ┆   ┆           ┆           ┆           ┆          │\n",
       "│ 2007-04-2 ┆ 0.1       ┆ 0.1       ┆ 0.0       ┆ … ┆ 0.0       ┆ null      ┆ 0.0       ┆ 3.0      │\n",
       "│ 3         ┆           ┆           ┆           ┆   ┆           ┆           ┆           ┆          │\n",
       "│ 23:00:00  ┆           ┆           ┆           ┆   ┆           ┆           ┆           ┆          │\n",
       "└───────────┴───────────┴───────────┴───────────┴───┴───────────┴───────────┴───────────┴──────────┘"
      ]
     },
     "execution_count": 54,
     "metadata": {},
     "output_type": "execute_result"
    }
   ],
   "source": [
    "wet_daily_check.filter(pl.col(\"wet_spell_flag_hourly\") == 3.0)"
   ]
  },
  {
   "cell_type": "markdown",
   "id": "6c118e7a",
   "metadata": {},
   "source": [
    "# 3. Running QC frameworks\n",
    "[Back to Index](#index)  \n",
    "Like intense-qc\n",
    "\n",
    "## 3.1 Running multiple QC on a single target gauge"
   ]
  },
  {
   "cell_type": "code",
   "execution_count": 55,
   "id": "4824b453",
   "metadata": {},
   "outputs": [],
   "source": [
    "TARGET_GAUGE_COL = 'rain_mm_DE_00310'"
   ]
  },
  {
   "cell_type": "code",
   "execution_count": 58,
   "id": "ecf31a8e",
   "metadata": {},
   "outputs": [
    {
     "name": "stdout",
     "output_type": "stream",
     "text": [
      "51.1803 8.4891\n"
     ]
    }
   ],
   "source": [
    "target_gauge_lat = gsdr_metadata['latitude']\n",
    "target_gauge_lon = gsdr_metadata['longitude']\n",
    "\n",
    "print(target_gauge_lat, target_gauge_lon)"
   ]
  },
  {
   "cell_type": "code",
   "execution_count": 59,
   "id": "757bcd66",
   "metadata": {},
   "outputs": [],
   "source": [
    "qc_to_run = [\n",
    "            \"QC1\", \"QC2\", \"QC3\", \"QC4\", \"QC5\", \"QC6\", \"QC7\", # gauge checks\n",
    "            \"QC8\", \"QC9\", \"QC10\", \"QC11\", # comparison checks\n",
    "            \"QC12\", \"QC13\", \"QC14\", \"QC15\", # time series checks\n",
    "            \"QC17\", \"QC19\", \"QC21\", \"QC22\", \"QC23\", # neighbourhood checks (for hourly data)\n",
    "            ]\n",
    "\n",
    "qc_kwargs = {\n",
    "    \"QC1\": {\"quantile\": 5},\n",
    "    \"QC2\": {\"k\": 3},\n",
    "    \"QC3\": {\"time_granularity\": \"hour\"},\n",
    "    \"QC4\": {\"time_granularity\": \"weekday\"},\n",
    "    \"QC5\": {\"no_data_threshold\" : 2}, # days\n",
    "    \"QC6\": {\"p_threshold\": 0.05},\n",
    "    \"QC7\": {\"expected_min_val\": 0.1},\n",
    "    \"QC13\": {\"accumulation_multiplying_factor\": 2.0},\n",
    "    \"QC14\": {\"accumulation_multiplying_factor\": 2.0},\n",
    "    # Shared defaults applied to all\n",
    "    \"shared\": {\n",
    "        \"target_gauge_col\": TARGET_GAUGE_COL,\n",
    "        \"nearest_neighbour\": \"rain_mm_DE_02483\",\n",
    "        \"gauge_lat\": target_gauge_lat,\n",
    "        \"gauge_lon\": target_gauge_lon,\n",
    "        \"time_res\": \"hourly\",\n",
    "        \"smallest_measurable_rainfall_amount\": float(gsdr_metadata['resolution']),\n",
    "        \"wet_threshold\": 1.0,\n",
    "        \"list_of_nearest_stations\": gdsr_network_data.columns[2:],\n",
    "        \"min_n_neighbours\": 5,\n",
    "        \"n_neighbours_ignored\": 0\n",
    "    }\n",
    "}"
   ]
  },
  {
   "cell_type": "code",
   "execution_count": 60,
   "id": "5214fd18",
   "metadata": {},
   "outputs": [
    {
     "name": "stdout",
     "output_type": "stream",
     "text": [
      "CPU times: user 5.1 s, sys: 249 ms, total: 5.35 s\n",
      "Wall time: 5.16 s\n"
     ]
    }
   ],
   "source": [
    "%%time\n",
    "results = apply_qc_framework.run_qc_framework(data=gdsr_network_data,\n",
    "                                              qc_framework='IntenseQC',\n",
    "                                              qc_methods_to_run=qc_to_run,\n",
    "                                              qc_kwargs=qc_kwargs)"
   ]
  },
  {
   "cell_type": "code",
   "execution_count": 61,
   "id": "21ae0ee2",
   "metadata": {},
   "outputs": [
    {
     "data": {
      "text/plain": [
       "{'QC1': [],\n",
       " 'QC2': [],\n",
       " 'QC3': 0,\n",
       " 'QC4': 0,\n",
       " 'QC5': [],\n",
       " 'QC6': 0,\n",
       " 'QC7': [],\n",
       " 'QC8': [0, 0, 0, 0, 0],\n",
       " 'QC9': [0, 0, 0, 0, 0],\n",
       " 'QC10': shape: (43_824, 2)\n",
       " ┌─────────────────────┬────────────────────┐\n",
       " │ time                ┆ world_record_check │\n",
       " │ ---                 ┆ ---                │\n",
       " │ datetime[μs]        ┆ f64                │\n",
       " ╞═════════════════════╪════════════════════╡\n",
       " │ 2006-01-01 00:00:00 ┆ 0.0                │\n",
       " │ 2006-01-01 01:00:00 ┆ 0.0                │\n",
       " │ 2006-01-01 02:00:00 ┆ 0.0                │\n",
       " │ 2006-01-01 03:00:00 ┆ 0.0                │\n",
       " │ 2006-01-01 04:00:00 ┆ 0.0                │\n",
       " │ …                   ┆ …                  │\n",
       " │ 2010-12-31 19:00:00 ┆ 0.0                │\n",
       " │ 2010-12-31 20:00:00 ┆ 0.0                │\n",
       " │ 2010-12-31 21:00:00 ┆ 0.0                │\n",
       " │ 2010-12-31 22:00:00 ┆ 0.0                │\n",
       " │ 2010-12-31 23:00:00 ┆ 0.0                │\n",
       " └─────────────────────┴────────────────────┘,\n",
       " 'QC11': shape: (43_824, 2)\n",
       " ┌─────────────────────┬──────────────┐\n",
       " │ time                ┆ rx1day_check │\n",
       " │ ---                 ┆ ---          │\n",
       " │ datetime[μs]        ┆ f64          │\n",
       " ╞═════════════════════╪══════════════╡\n",
       " │ 2006-01-01 00:00:00 ┆ 0.0          │\n",
       " │ 2006-01-01 01:00:00 ┆ 0.0          │\n",
       " │ 2006-01-01 02:00:00 ┆ 0.0          │\n",
       " │ 2006-01-01 03:00:00 ┆ 0.0          │\n",
       " │ 2006-01-01 04:00:00 ┆ 0.0          │\n",
       " │ …                   ┆ …            │\n",
       " │ 2010-12-31 19:00:00 ┆ 0.0          │\n",
       " │ 2010-12-31 20:00:00 ┆ 0.0          │\n",
       " │ 2010-12-31 21:00:00 ┆ 0.0          │\n",
       " │ 2010-12-31 22:00:00 ┆ 0.0          │\n",
       " │ 2010-12-31 23:00:00 ┆ 0.0          │\n",
       " └─────────────────────┴──────────────┘,\n",
       " 'QC12': shape: (43_824, 2)\n",
       " ┌─────────────────────┬────────────────┐\n",
       " │ time                ┆ dry_spell_flag │\n",
       " │ ---                 ┆ ---            │\n",
       " │ datetime[μs]        ┆ f64            │\n",
       " ╞═════════════════════╪════════════════╡\n",
       " │ 2006-01-01 00:00:00 ┆ 0.0            │\n",
       " │ 2006-01-01 01:00:00 ┆ 0.0            │\n",
       " │ 2006-01-01 02:00:00 ┆ 0.0            │\n",
       " │ 2006-01-01 03:00:00 ┆ 0.0            │\n",
       " │ 2006-01-01 04:00:00 ┆ 0.0            │\n",
       " │ …                   ┆ …              │\n",
       " │ 2010-12-31 19:00:00 ┆ 0.0            │\n",
       " │ 2010-12-31 20:00:00 ┆ 0.0            │\n",
       " │ 2010-12-31 21:00:00 ┆ 0.0            │\n",
       " │ 2010-12-31 22:00:00 ┆ 0.0            │\n",
       " │ 2010-12-31 23:00:00 ┆ 0.0            │\n",
       " └─────────────────────┴────────────────┘,\n",
       " 'QC13': shape: (43_824, 2)\n",
       " ┌─────────────────────┬────────────────────┐\n",
       " │ time                ┆ daily_accumulation │\n",
       " │ ---                 ┆ ---                │\n",
       " │ datetime[μs]        ┆ f64                │\n",
       " ╞═════════════════════╪════════════════════╡\n",
       " │ 2006-01-01 00:00:00 ┆ 0.0                │\n",
       " │ 2006-01-01 01:00:00 ┆ 0.0                │\n",
       " │ 2006-01-01 02:00:00 ┆ 0.0                │\n",
       " │ 2006-01-01 03:00:00 ┆ 0.0                │\n",
       " │ 2006-01-01 04:00:00 ┆ 0.0                │\n",
       " │ …                   ┆ …                  │\n",
       " │ 2010-12-31 19:00:00 ┆ 0.0                │\n",
       " │ 2010-12-31 20:00:00 ┆ 0.0                │\n",
       " │ 2010-12-31 21:00:00 ┆ 0.0                │\n",
       " │ 2010-12-31 22:00:00 ┆ 0.0                │\n",
       " │ 2010-12-31 23:00:00 ┆ 0.0                │\n",
       " └─────────────────────┴────────────────────┘,\n",
       " 'QC14': shape: (43_824, 2)\n",
       " ┌─────────────────────┬──────────────────────┐\n",
       " │ time                ┆ monthly_accumulation │\n",
       " │ ---                 ┆ ---                  │\n",
       " │ datetime[μs]        ┆ i32                  │\n",
       " ╞═════════════════════╪══════════════════════╡\n",
       " │ 2006-01-01 00:00:00 ┆ 0                    │\n",
       " │ 2006-01-01 01:00:00 ┆ 0                    │\n",
       " │ 2006-01-01 02:00:00 ┆ 0                    │\n",
       " │ 2006-01-01 03:00:00 ┆ 0                    │\n",
       " │ 2006-01-01 04:00:00 ┆ 0                    │\n",
       " │ …                   ┆ …                    │\n",
       " │ 2010-12-31 19:00:00 ┆ 0                    │\n",
       " │ 2010-12-31 20:00:00 ┆ 0                    │\n",
       " │ 2010-12-31 21:00:00 ┆ 0                    │\n",
       " │ 2010-12-31 22:00:00 ┆ 0                    │\n",
       " │ 2010-12-31 23:00:00 ┆ 0                    │\n",
       " └─────────────────────┴──────────────────────┘,\n",
       " 'QC15': shape: (43_824, 5)\n",
       " ┌─────────────────────┬──────────────┬──────────────┬──────────────┬──────────────┐\n",
       " │ time                ┆ streak_flag1 ┆ streak_flag3 ┆ streak_flag4 ┆ streak_flag5 │\n",
       " │ ---                 ┆ ---          ┆ ---          ┆ ---          ┆ ---          │\n",
       " │ datetime[μs]        ┆ i32          ┆ i32          ┆ i32          ┆ i32          │\n",
       " ╞═════════════════════╪══════════════╪══════════════╪══════════════╪══════════════╡\n",
       " │ 2006-01-01 00:00:00 ┆ 0            ┆ 0            ┆ 0            ┆ 0            │\n",
       " │ 2006-01-01 01:00:00 ┆ 0            ┆ 0            ┆ 0            ┆ 0            │\n",
       " │ 2006-01-01 02:00:00 ┆ 0            ┆ 0            ┆ 0            ┆ 0            │\n",
       " │ 2006-01-01 03:00:00 ┆ 0            ┆ 0            ┆ 0            ┆ 0            │\n",
       " │ 2006-01-01 04:00:00 ┆ 0            ┆ 0            ┆ 0            ┆ 0            │\n",
       " │ …                   ┆ …            ┆ …            ┆ …            ┆ …            │\n",
       " │ 2010-12-31 19:00:00 ┆ 0            ┆ 0            ┆ 0            ┆ 0            │\n",
       " │ 2010-12-31 20:00:00 ┆ 0            ┆ 0            ┆ 0            ┆ 0            │\n",
       " │ 2010-12-31 21:00:00 ┆ 0            ┆ 0            ┆ 0            ┆ 0            │\n",
       " │ 2010-12-31 22:00:00 ┆ 0            ┆ 0            ┆ 0            ┆ 0            │\n",
       " │ 2010-12-31 23:00:00 ┆ 0            ┆ 0            ┆ 0            ┆ 0            │\n",
       " └─────────────────────┴──────────────┴──────────────┴──────────────┴──────────────┘,\n",
       " 'QC17': shape: (43_824, 2)\n",
       " ┌─────────────────────┬───────────────────────┐\n",
       " │ time                ┆ wet_spell_flag_hourly │\n",
       " │ ---                 ┆ ---                   │\n",
       " │ datetime[μs]        ┆ f64                   │\n",
       " ╞═════════════════════╪═══════════════════════╡\n",
       " │ 2006-01-01 00:00:00 ┆ 0.0                   │\n",
       " │ 2006-01-01 01:00:00 ┆ 0.0                   │\n",
       " │ 2006-01-01 02:00:00 ┆ 0.0                   │\n",
       " │ 2006-01-01 03:00:00 ┆ 0.0                   │\n",
       " │ 2006-01-01 04:00:00 ┆ 0.0                   │\n",
       " │ …                   ┆ …                     │\n",
       " │ 2010-12-31 19:00:00 ┆ null                  │\n",
       " │ 2010-12-31 20:00:00 ┆ null                  │\n",
       " │ 2010-12-31 21:00:00 ┆ null                  │\n",
       " │ 2010-12-31 22:00:00 ┆ null                  │\n",
       " │ 2010-12-31 23:00:00 ┆ null                  │\n",
       " └─────────────────────┴───────────────────────┘,\n",
       " 'QC19': shape: (43_824, 2)\n",
       " ┌─────────────────────┬───────────────────────┐\n",
       " │ time                ┆ dry_spell_flag_hourly │\n",
       " │ ---                 ┆ ---                   │\n",
       " │ datetime[μs]        ┆ f64                   │\n",
       " ╞═════════════════════╪═══════════════════════╡\n",
       " │ 2006-01-01 00:00:00 ┆ 0.0                   │\n",
       " │ 2006-01-01 01:00:00 ┆ 0.0                   │\n",
       " │ 2006-01-01 02:00:00 ┆ 0.0                   │\n",
       " │ 2006-01-01 03:00:00 ┆ 0.0                   │\n",
       " │ 2006-01-01 04:00:00 ┆ 0.0                   │\n",
       " │ …                   ┆ …                     │\n",
       " │ 2010-12-31 19:00:00 ┆ null                  │\n",
       " │ 2010-12-31 20:00:00 ┆ null                  │\n",
       " │ 2010-12-31 21:00:00 ┆ null                  │\n",
       " │ 2010-12-31 22:00:00 ┆ null                  │\n",
       " │ 2010-12-31 23:00:00 ┆ null                  │\n",
       " └─────────────────────┴───────────────────────┘,\n",
       " 'QC21': 0,\n",
       " 'QC22': 0.8084415584415584,\n",
       " 'QC23': np.float64(0.027733214482451213)}"
      ]
     },
     "execution_count": 61,
     "metadata": {},
     "output_type": "execute_result"
    }
   ],
   "source": [
    "results"
   ]
  },
  {
   "cell_type": "code",
   "execution_count": 62,
   "id": "dc2b0f35",
   "metadata": {},
   "outputs": [
    {
     "data": {
      "text/html": [
       "<div><style>\n",
       ".dataframe > thead > tr,\n",
       ".dataframe > tbody > tr {\n",
       "  text-align: right;\n",
       "  white-space: pre-wrap;\n",
       "}\n",
       "</style>\n",
       "<small>shape: (43_824, 2)</small><table border=\"1\" class=\"dataframe\"><thead><tr><th>time</th><th>dry_spell_flag</th></tr><tr><td>datetime[μs]</td><td>f64</td></tr></thead><tbody><tr><td>2006-01-01 00:00:00</td><td>0.0</td></tr><tr><td>2006-01-01 01:00:00</td><td>0.0</td></tr><tr><td>2006-01-01 02:00:00</td><td>0.0</td></tr><tr><td>2006-01-01 03:00:00</td><td>0.0</td></tr><tr><td>2006-01-01 04:00:00</td><td>0.0</td></tr><tr><td>&hellip;</td><td>&hellip;</td></tr><tr><td>2010-12-31 19:00:00</td><td>0.0</td></tr><tr><td>2010-12-31 20:00:00</td><td>0.0</td></tr><tr><td>2010-12-31 21:00:00</td><td>0.0</td></tr><tr><td>2010-12-31 22:00:00</td><td>0.0</td></tr><tr><td>2010-12-31 23:00:00</td><td>0.0</td></tr></tbody></table></div>"
      ],
      "text/plain": [
       "shape: (43_824, 2)\n",
       "┌─────────────────────┬────────────────┐\n",
       "│ time                ┆ dry_spell_flag │\n",
       "│ ---                 ┆ ---            │\n",
       "│ datetime[μs]        ┆ f64            │\n",
       "╞═════════════════════╪════════════════╡\n",
       "│ 2006-01-01 00:00:00 ┆ 0.0            │\n",
       "│ 2006-01-01 01:00:00 ┆ 0.0            │\n",
       "│ 2006-01-01 02:00:00 ┆ 0.0            │\n",
       "│ 2006-01-01 03:00:00 ┆ 0.0            │\n",
       "│ 2006-01-01 04:00:00 ┆ 0.0            │\n",
       "│ …                   ┆ …              │\n",
       "│ 2010-12-31 19:00:00 ┆ 0.0            │\n",
       "│ 2010-12-31 20:00:00 ┆ 0.0            │\n",
       "│ 2010-12-31 21:00:00 ┆ 0.0            │\n",
       "│ 2010-12-31 22:00:00 ┆ 0.0            │\n",
       "│ 2010-12-31 23:00:00 ┆ 0.0            │\n",
       "└─────────────────────┴────────────────┘"
      ]
     },
     "execution_count": 62,
     "metadata": {},
     "output_type": "execute_result"
    }
   ],
   "source": [
    "results['QC12'] "
   ]
  },
  {
   "cell_type": "code",
   "execution_count": 63,
   "id": "418adc75",
   "metadata": {},
   "outputs": [
    {
     "data": {
      "text/html": [
       "<div><style>\n",
       ".dataframe > thead > tr,\n",
       ".dataframe > tbody > tr {\n",
       "  text-align: right;\n",
       "  white-space: pre-wrap;\n",
       "}\n",
       "</style>\n",
       "<small>shape: (4, 2)</small><table border=\"1\" class=\"dataframe\"><thead><tr><th>wet_spell_flag_hourly</th><th>count</th></tr><tr><td>f64</td><td>u32</td></tr></thead><tbody><tr><td>0.0</td><td>42960</td></tr><tr><td>1.0</td><td>72</td></tr><tr><td>3.0</td><td>24</td></tr><tr><td>null</td><td>768</td></tr></tbody></table></div>"
      ],
      "text/plain": [
       "shape: (4, 2)\n",
       "┌───────────────────────┬───────┐\n",
       "│ wet_spell_flag_hourly ┆ count │\n",
       "│ ---                   ┆ ---   │\n",
       "│ f64                   ┆ u32   │\n",
       "╞═══════════════════════╪═══════╡\n",
       "│ 0.0                   ┆ 42960 │\n",
       "│ 1.0                   ┆ 72    │\n",
       "│ 3.0                   ┆ 24    │\n",
       "│ null                  ┆ 768   │\n",
       "└───────────────────────┴───────┘"
      ]
     },
     "execution_count": 63,
     "metadata": {},
     "output_type": "execute_result"
    }
   ],
   "source": [
    "results['QC17']['wet_spell_flag_hourly'].value_counts()"
   ]
  },
  {
   "cell_type": "code",
   "execution_count": 64,
   "id": "24fc99d2",
   "metadata": {},
   "outputs": [
    {
     "data": {
      "text/plain": [
       "{'QC1': [],\n",
       " 'QC2': [],\n",
       " 'QC3': 0,\n",
       " 'QC4': 0,\n",
       " 'QC5': [],\n",
       " 'QC6': 0,\n",
       " 'QC7': [],\n",
       " 'QC8': [0, 0, 0, 0, 0],\n",
       " 'QC9': [0, 0, 0, 0, 0],\n",
       " 'QC10': shape: (43_824, 2)\n",
       " ┌─────────────────────┬────────────────────┐\n",
       " │ time                ┆ world_record_check │\n",
       " │ ---                 ┆ ---                │\n",
       " │ datetime[μs]        ┆ f64                │\n",
       " ╞═════════════════════╪════════════════════╡\n",
       " │ 2006-01-01 00:00:00 ┆ 0.0                │\n",
       " │ 2006-01-01 01:00:00 ┆ 0.0                │\n",
       " │ 2006-01-01 02:00:00 ┆ 0.0                │\n",
       " │ 2006-01-01 03:00:00 ┆ 0.0                │\n",
       " │ 2006-01-01 04:00:00 ┆ 0.0                │\n",
       " │ …                   ┆ …                  │\n",
       " │ 2010-12-31 19:00:00 ┆ 0.0                │\n",
       " │ 2010-12-31 20:00:00 ┆ 0.0                │\n",
       " │ 2010-12-31 21:00:00 ┆ 0.0                │\n",
       " │ 2010-12-31 22:00:00 ┆ 0.0                │\n",
       " │ 2010-12-31 23:00:00 ┆ 0.0                │\n",
       " └─────────────────────┴────────────────────┘,\n",
       " 'QC11': shape: (43_824, 2)\n",
       " ┌─────────────────────┬──────────────┐\n",
       " │ time                ┆ rx1day_check │\n",
       " │ ---                 ┆ ---          │\n",
       " │ datetime[μs]        ┆ f64          │\n",
       " ╞═════════════════════╪══════════════╡\n",
       " │ 2006-01-01 00:00:00 ┆ 0.0          │\n",
       " │ 2006-01-01 01:00:00 ┆ 0.0          │\n",
       " │ 2006-01-01 02:00:00 ┆ 0.0          │\n",
       " │ 2006-01-01 03:00:00 ┆ 0.0          │\n",
       " │ 2006-01-01 04:00:00 ┆ 0.0          │\n",
       " │ …                   ┆ …            │\n",
       " │ 2010-12-31 19:00:00 ┆ 0.0          │\n",
       " │ 2010-12-31 20:00:00 ┆ 0.0          │\n",
       " │ 2010-12-31 21:00:00 ┆ 0.0          │\n",
       " │ 2010-12-31 22:00:00 ┆ 0.0          │\n",
       " │ 2010-12-31 23:00:00 ┆ 0.0          │\n",
       " └─────────────────────┴──────────────┘,\n",
       " 'QC12': shape: (43_824, 2)\n",
       " ┌─────────────────────┬────────────────┐\n",
       " │ time                ┆ dry_spell_flag │\n",
       " │ ---                 ┆ ---            │\n",
       " │ datetime[μs]        ┆ f64            │\n",
       " ╞═════════════════════╪════════════════╡\n",
       " │ 2006-01-01 00:00:00 ┆ 0.0            │\n",
       " │ 2006-01-01 01:00:00 ┆ 0.0            │\n",
       " │ 2006-01-01 02:00:00 ┆ 0.0            │\n",
       " │ 2006-01-01 03:00:00 ┆ 0.0            │\n",
       " │ 2006-01-01 04:00:00 ┆ 0.0            │\n",
       " │ …                   ┆ …              │\n",
       " │ 2010-12-31 19:00:00 ┆ 0.0            │\n",
       " │ 2010-12-31 20:00:00 ┆ 0.0            │\n",
       " │ 2010-12-31 21:00:00 ┆ 0.0            │\n",
       " │ 2010-12-31 22:00:00 ┆ 0.0            │\n",
       " │ 2010-12-31 23:00:00 ┆ 0.0            │\n",
       " └─────────────────────┴────────────────┘,\n",
       " 'QC13': shape: (43_824, 2)\n",
       " ┌─────────────────────┬────────────────────┐\n",
       " │ time                ┆ daily_accumulation │\n",
       " │ ---                 ┆ ---                │\n",
       " │ datetime[μs]        ┆ f64                │\n",
       " ╞═════════════════════╪════════════════════╡\n",
       " │ 2006-01-01 00:00:00 ┆ 0.0                │\n",
       " │ 2006-01-01 01:00:00 ┆ 0.0                │\n",
       " │ 2006-01-01 02:00:00 ┆ 0.0                │\n",
       " │ 2006-01-01 03:00:00 ┆ 0.0                │\n",
       " │ 2006-01-01 04:00:00 ┆ 0.0                │\n",
       " │ …                   ┆ …                  │\n",
       " │ 2010-12-31 19:00:00 ┆ 0.0                │\n",
       " │ 2010-12-31 20:00:00 ┆ 0.0                │\n",
       " │ 2010-12-31 21:00:00 ┆ 0.0                │\n",
       " │ 2010-12-31 22:00:00 ┆ 0.0                │\n",
       " │ 2010-12-31 23:00:00 ┆ 0.0                │\n",
       " └─────────────────────┴────────────────────┘,\n",
       " 'QC14': shape: (43_824, 2)\n",
       " ┌─────────────────────┬──────────────────────┐\n",
       " │ time                ┆ monthly_accumulation │\n",
       " │ ---                 ┆ ---                  │\n",
       " │ datetime[μs]        ┆ i32                  │\n",
       " ╞═════════════════════╪══════════════════════╡\n",
       " │ 2006-01-01 00:00:00 ┆ 0                    │\n",
       " │ 2006-01-01 01:00:00 ┆ 0                    │\n",
       " │ 2006-01-01 02:00:00 ┆ 0                    │\n",
       " │ 2006-01-01 03:00:00 ┆ 0                    │\n",
       " │ 2006-01-01 04:00:00 ┆ 0                    │\n",
       " │ …                   ┆ …                    │\n",
       " │ 2010-12-31 19:00:00 ┆ 0                    │\n",
       " │ 2010-12-31 20:00:00 ┆ 0                    │\n",
       " │ 2010-12-31 21:00:00 ┆ 0                    │\n",
       " │ 2010-12-31 22:00:00 ┆ 0                    │\n",
       " │ 2010-12-31 23:00:00 ┆ 0                    │\n",
       " └─────────────────────┴──────────────────────┘,\n",
       " 'QC15': shape: (43_824, 5)\n",
       " ┌─────────────────────┬──────────────┬──────────────┬──────────────┬──────────────┐\n",
       " │ time                ┆ streak_flag1 ┆ streak_flag3 ┆ streak_flag4 ┆ streak_flag5 │\n",
       " │ ---                 ┆ ---          ┆ ---          ┆ ---          ┆ ---          │\n",
       " │ datetime[μs]        ┆ i32          ┆ i32          ┆ i32          ┆ i32          │\n",
       " ╞═════════════════════╪══════════════╪══════════════╪══════════════╪══════════════╡\n",
       " │ 2006-01-01 00:00:00 ┆ 0            ┆ 0            ┆ 0            ┆ 0            │\n",
       " │ 2006-01-01 01:00:00 ┆ 0            ┆ 0            ┆ 0            ┆ 0            │\n",
       " │ 2006-01-01 02:00:00 ┆ 0            ┆ 0            ┆ 0            ┆ 0            │\n",
       " │ 2006-01-01 03:00:00 ┆ 0            ┆ 0            ┆ 0            ┆ 0            │\n",
       " │ 2006-01-01 04:00:00 ┆ 0            ┆ 0            ┆ 0            ┆ 0            │\n",
       " │ …                   ┆ …            ┆ …            ┆ …            ┆ …            │\n",
       " │ 2010-12-31 19:00:00 ┆ 0            ┆ 0            ┆ 0            ┆ 0            │\n",
       " │ 2010-12-31 20:00:00 ┆ 0            ┆ 0            ┆ 0            ┆ 0            │\n",
       " │ 2010-12-31 21:00:00 ┆ 0            ┆ 0            ┆ 0            ┆ 0            │\n",
       " │ 2010-12-31 22:00:00 ┆ 0            ┆ 0            ┆ 0            ┆ 0            │\n",
       " │ 2010-12-31 23:00:00 ┆ 0            ┆ 0            ┆ 0            ┆ 0            │\n",
       " └─────────────────────┴──────────────┴──────────────┴──────────────┴──────────────┘,\n",
       " 'QC17': shape: (43_824, 2)\n",
       " ┌─────────────────────┬───────────────────────┐\n",
       " │ time                ┆ wet_spell_flag_hourly │\n",
       " │ ---                 ┆ ---                   │\n",
       " │ datetime[μs]        ┆ f64                   │\n",
       " ╞═════════════════════╪═══════════════════════╡\n",
       " │ 2006-01-01 00:00:00 ┆ 0.0                   │\n",
       " │ 2006-01-01 01:00:00 ┆ 0.0                   │\n",
       " │ 2006-01-01 02:00:00 ┆ 0.0                   │\n",
       " │ 2006-01-01 03:00:00 ┆ 0.0                   │\n",
       " │ 2006-01-01 04:00:00 ┆ 0.0                   │\n",
       " │ …                   ┆ …                     │\n",
       " │ 2010-12-31 19:00:00 ┆ null                  │\n",
       " │ 2010-12-31 20:00:00 ┆ null                  │\n",
       " │ 2010-12-31 21:00:00 ┆ null                  │\n",
       " │ 2010-12-31 22:00:00 ┆ null                  │\n",
       " │ 2010-12-31 23:00:00 ┆ null                  │\n",
       " └─────────────────────┴───────────────────────┘,\n",
       " 'QC19': shape: (43_824, 2)\n",
       " ┌─────────────────────┬───────────────────────┐\n",
       " │ time                ┆ dry_spell_flag_hourly │\n",
       " │ ---                 ┆ ---                   │\n",
       " │ datetime[μs]        ┆ f64                   │\n",
       " ╞═════════════════════╪═══════════════════════╡\n",
       " │ 2006-01-01 00:00:00 ┆ 0.0                   │\n",
       " │ 2006-01-01 01:00:00 ┆ 0.0                   │\n",
       " │ 2006-01-01 02:00:00 ┆ 0.0                   │\n",
       " │ 2006-01-01 03:00:00 ┆ 0.0                   │\n",
       " │ 2006-01-01 04:00:00 ┆ 0.0                   │\n",
       " │ …                   ┆ …                     │\n",
       " │ 2010-12-31 19:00:00 ┆ null                  │\n",
       " │ 2010-12-31 20:00:00 ┆ null                  │\n",
       " │ 2010-12-31 21:00:00 ┆ null                  │\n",
       " │ 2010-12-31 22:00:00 ┆ null                  │\n",
       " │ 2010-12-31 23:00:00 ┆ null                  │\n",
       " └─────────────────────┴───────────────────────┘,\n",
       " 'QC21': 0,\n",
       " 'QC22': 0.8084415584415584,\n",
       " 'QC23': np.float64(0.027733214482451213)}"
      ]
     },
     "execution_count": 64,
     "metadata": {},
     "output_type": "execute_result"
    }
   ],
   "source": [
    "results"
   ]
  },
  {
   "cell_type": "markdown",
   "id": "5108452e",
   "metadata": {},
   "source": [
    "## 3.2 Running multiple QC checks on a network of gauges"
   ]
  },
  {
   "cell_type": "code",
   "execution_count": null,
   "id": "919e6a9d",
   "metadata": {},
   "outputs": [],
   "source": []
  },
  {
   "cell_type": "code",
   "execution_count": null,
   "id": "e7be63d1",
   "metadata": {},
   "outputs": [],
   "source": []
  },
  {
   "cell_type": "code",
   "execution_count": null,
   "id": "e4ca31ac",
   "metadata": {},
   "outputs": [],
   "source": []
  }
 ],
 "metadata": {
  "kernelspec": {
   "display_name": "run_rainfallqc",
   "language": "python",
   "name": "python3"
  },
  "language_info": {
   "codemirror_mode": {
    "name": "ipython",
    "version": 3
   },
   "file_extension": ".py",
   "mimetype": "text/x-python",
   "name": "python",
   "nbconvert_exporter": "python",
   "pygments_lexer": "ipython3",
   "version": "3.13.3"
  }
 },
 "nbformat": 4,
 "nbformat_minor": 5
}
