{
 "cells": [
  {
   "cell_type": "markdown",
   "id": "f2747cce",
   "metadata": {},
   "source": [
    "# RainfallQC example"
   ]
  },
  {
   "cell_type": "code",
   "execution_count": 1,
   "id": "899a19d5",
   "metadata": {},
   "outputs": [
    {
     "name": "stdout",
     "output_type": "stream",
     "text": [
      "0.0.7\n"
     ]
    }
   ],
   "source": [
    "import rainfallqc\n",
    "print(rainfallqc.__version__)"
   ]
  },
  {
   "cell_type": "code",
   "execution_count": null,
   "id": "c8c057a5",
   "metadata": {},
   "outputs": [],
   "source": [
    "import polars as pl\n",
    "from rainfallqc import gauge_checks, comparison_checks, timeseries_checks, neighbourhood_checks\n",
    "\n",
    "from load_example_data import load_local_gdsr_data, load_local_gdsr_metadata"
   ]
  },
  {
   "cell_type": "code",
   "execution_count": 3,
   "id": "413b76d3",
   "metadata": {},
   "outputs": [],
   "source": [
    "GAUGE_ID = \"DE_02483\"\n",
    "RAIN_COL = \"rain_mm\""
   ]
  },
  {
   "cell_type": "code",
   "execution_count": 4,
   "id": "46a2ca81",
   "metadata": {},
   "outputs": [],
   "source": [
    "gdsr_data = load_local_gdsr_data(GAUGE_ID)\n",
    "gdsr_metadata = load_local_gdsr_metadata(GAUGE_ID)"
   ]
  },
  {
   "cell_type": "code",
   "execution_count": 5,
   "id": "6ced6263",
   "metadata": {},
   "outputs": [
    {
     "data": {
      "text/html": [
       "<div><style>\n",
       ".dataframe > thead > tr,\n",
       ".dataframe > tbody > tr {\n",
       "  text-align: right;\n",
       "  white-space: pre-wrap;\n",
       "}\n",
       "</style>\n",
       "<small>shape: (43_824, 2)</small><table border=\"1\" class=\"dataframe\"><thead><tr><th>time</th><th>rain_mm</th></tr><tr><td>datetime[μs]</td><td>f64</td></tr></thead><tbody><tr><td>2006-01-01 00:00:00</td><td>0.9</td></tr><tr><td>2006-01-01 01:00:00</td><td>0.3</td></tr><tr><td>2006-01-01 02:00:00</td><td>0.3</td></tr><tr><td>2006-01-01 03:00:00</td><td>0.0</td></tr><tr><td>2006-01-01 04:00:00</td><td>0.0</td></tr><tr><td>&hellip;</td><td>&hellip;</td></tr><tr><td>2010-12-31 19:00:00</td><td>0.0</td></tr><tr><td>2010-12-31 20:00:00</td><td>0.0</td></tr><tr><td>2010-12-31 21:00:00</td><td>0.0</td></tr><tr><td>2010-12-31 22:00:00</td><td>0.0</td></tr><tr><td>2010-12-31 23:00:00</td><td>0.0</td></tr></tbody></table></div>"
      ],
      "text/plain": [
       "shape: (43_824, 2)\n",
       "┌─────────────────────┬─────────┐\n",
       "│ time                ┆ rain_mm │\n",
       "│ ---                 ┆ ---     │\n",
       "│ datetime[μs]        ┆ f64     │\n",
       "╞═════════════════════╪═════════╡\n",
       "│ 2006-01-01 00:00:00 ┆ 0.9     │\n",
       "│ 2006-01-01 01:00:00 ┆ 0.3     │\n",
       "│ 2006-01-01 02:00:00 ┆ 0.3     │\n",
       "│ 2006-01-01 03:00:00 ┆ 0.0     │\n",
       "│ 2006-01-01 04:00:00 ┆ 0.0     │\n",
       "│ …                   ┆ …       │\n",
       "│ 2010-12-31 19:00:00 ┆ 0.0     │\n",
       "│ 2010-12-31 20:00:00 ┆ 0.0     │\n",
       "│ 2010-12-31 21:00:00 ┆ 0.0     │\n",
       "│ 2010-12-31 22:00:00 ┆ 0.0     │\n",
       "│ 2010-12-31 23:00:00 ┆ 0.0     │\n",
       "└─────────────────────┴─────────┘"
      ]
     },
     "execution_count": 5,
     "metadata": {},
     "output_type": "execute_result"
    }
   ],
   "source": [
    "gdsr_data"
   ]
  },
  {
   "cell_type": "code",
   "execution_count": 6,
   "id": "05c917a1",
   "metadata": {},
   "outputs": [
    {
     "data": {
      "text/plain": [
       "[2006, 2008, 2009]"
      ]
     },
     "execution_count": 6,
     "metadata": {},
     "output_type": "execute_result"
    }
   ],
   "source": [
    "gauge_checks.get_years_where_annual_mean_k_top_rows_are_zero(gdsr_data, \"rain_mm\", k=1800)"
   ]
  },
  {
   "cell_type": "code",
   "execution_count": 7,
   "id": "5a811745",
   "metadata": {},
   "outputs": [
    {
     "data": {
      "text/plain": [
       "[2006, 2008, 2009]"
      ]
     },
     "execution_count": 7,
     "metadata": {},
     "output_type": "execute_result"
    }
   ],
   "source": [
    "gauge_checks.get_years_where_nth_percentile_is_zero(gdsr_data, \"rain_mm\", quantile=.8)"
   ]
  },
  {
   "cell_type": "code",
   "execution_count": 8,
   "id": "a56850d8",
   "metadata": {},
   "outputs": [
    {
     "data": {
      "text/plain": [
       "0"
      ]
     },
     "execution_count": 8,
     "metadata": {},
     "output_type": "execute_result"
    }
   ],
   "source": [
    "gauge_checks.breakpoints_check(gdsr_data, \"rain_mm\")"
   ]
  },
  {
   "cell_type": "code",
   "execution_count": 9,
   "id": "8876c995",
   "metadata": {},
   "outputs": [
    {
     "data": {
      "text/plain": [
       "[2006, 2010]"
      ]
     },
     "execution_count": 9,
     "metadata": {},
     "output_type": "execute_result"
    }
   ],
   "source": [
    "gauge_checks.intermittency_check(gdsr_data, \"rain_mm\")"
   ]
  },
  {
   "cell_type": "code",
   "execution_count": 10,
   "id": "ca7c66b4",
   "metadata": {},
   "outputs": [
    {
     "data": {
      "text/plain": [
       "[2006, 2010]"
      ]
     },
     "execution_count": 10,
     "metadata": {},
     "output_type": "execute_result"
    }
   ],
   "source": [
    "gauge_checks.min_val_change(gdsr_data, \"rain_mm\", expected_min_val=0.1)"
   ]
  },
  {
   "cell_type": "code",
   "execution_count": 11,
   "id": "1b8d91ad",
   "metadata": {},
   "outputs": [
    {
     "data": {
      "text/plain": [
       "0"
      ]
     },
     "execution_count": 11,
     "metadata": {},
     "output_type": "execute_result"
    }
   ],
   "source": [
    "gauge_checks.check_temporal_bias(gdsr_data, \"rain_mm\", time_granularity='weekday')"
   ]
  },
  {
   "cell_type": "markdown",
   "id": "94af38cd",
   "metadata": {},
   "source": [
    "# Comparison checks"
   ]
  },
  {
   "cell_type": "code",
   "execution_count": 12,
   "id": "44dd3006",
   "metadata": {},
   "outputs": [
    {
     "data": {
      "text/plain": [
       "[0, 0, 0, 0, 0]"
      ]
     },
     "execution_count": 12,
     "metadata": {},
     "output_type": "execute_result"
    }
   ],
   "source": [
    "comparison_checks.check_annual_exceedance_etccdi_prcptot(gdsr_data, \"rain_mm\", gauge_lat=gdsr_metadata['latitude'], gauge_lon=gdsr_metadata['longitude'])"
   ]
  },
  {
   "cell_type": "code",
   "execution_count": 13,
   "id": "4958cee0",
   "metadata": {},
   "outputs": [
    {
     "data": {
      "text/plain": [
       "[0, 4, 0, 0, 0]"
      ]
     },
     "execution_count": 13,
     "metadata": {},
     "output_type": "execute_result"
    }
   ],
   "source": [
    "comparison_checks.check_annual_exceedance_etccdi_r99p(gdsr_data, \"rain_mm\", gauge_lat=gdsr_metadata['latitude'], gauge_lon=gdsr_metadata['longitude'])"
   ]
  },
  {
   "cell_type": "code",
   "execution_count": 14,
   "id": "9cfeb1e3",
   "metadata": {},
   "outputs": [],
   "source": [
    "wr_check = comparison_checks.check_exceedance_of_rainfall_world_record(gdsr_data, \"rain_mm\", time_res='hourly')"
   ]
  },
  {
   "cell_type": "code",
   "execution_count": 15,
   "id": "1ca13f40",
   "metadata": {},
   "outputs": [
    {
     "data": {
      "text/html": [
       "<div><style>\n",
       ".dataframe > thead > tr,\n",
       ".dataframe > tbody > tr {\n",
       "  text-align: right;\n",
       "  white-space: pre-wrap;\n",
       "}\n",
       "</style>\n",
       "<small>shape: (3, 2)</small><table border=\"1\" class=\"dataframe\"><thead><tr><th>world_record_check</th><th>count</th></tr><tr><td>i32</td><td>u32</td></tr></thead><tbody><tr><td>4</td><td>1051</td></tr><tr><td>1</td><td>23</td></tr><tr><td>0</td><td>42750</td></tr></tbody></table></div>"
      ],
      "text/plain": [
       "shape: (3, 2)\n",
       "┌────────────────────┬───────┐\n",
       "│ world_record_check ┆ count │\n",
       "│ ---                ┆ ---   │\n",
       "│ i32                ┆ u32   │\n",
       "╞════════════════════╪═══════╡\n",
       "│ 4                  ┆ 1051  │\n",
       "│ 1                  ┆ 23    │\n",
       "│ 0                  ┆ 42750 │\n",
       "└────────────────────┴───────┘"
      ]
     },
     "execution_count": 15,
     "metadata": {},
     "output_type": "execute_result"
    }
   ],
   "source": [
    "wr_check['world_record_check'].value_counts()"
   ]
  },
  {
   "cell_type": "code",
   "execution_count": 16,
   "id": "1387bdad",
   "metadata": {},
   "outputs": [],
   "source": [
    "rx1day_check = comparison_checks.check_annual_exceedance_etccdi_rx1day(gdsr_data, \"rain_mm\", gauge_lat=gdsr_metadata['latitude'], gauge_lon=gdsr_metadata['longitude'])"
   ]
  },
  {
   "cell_type": "code",
   "execution_count": 17,
   "id": "cd300d43",
   "metadata": {},
   "outputs": [
    {
     "data": {
      "text/html": [
       "<div><style>\n",
       ".dataframe > thead > tr,\n",
       ".dataframe > tbody > tr {\n",
       "  text-align: right;\n",
       "  white-space: pre-wrap;\n",
       "}\n",
       "</style>\n",
       "<small>shape: (3, 2)</small><table border=\"1\" class=\"dataframe\"><thead><tr><th>rx1day_check</th><th>count</th></tr><tr><td>i32</td><td>u32</td></tr></thead><tbody><tr><td>1</td><td>6</td></tr><tr><td>4</td><td>1078</td></tr><tr><td>0</td><td>42740</td></tr></tbody></table></div>"
      ],
      "text/plain": [
       "shape: (3, 2)\n",
       "┌──────────────┬───────┐\n",
       "│ rx1day_check ┆ count │\n",
       "│ ---          ┆ ---   │\n",
       "│ i32          ┆ u32   │\n",
       "╞══════════════╪═══════╡\n",
       "│ 1            ┆ 6     │\n",
       "│ 4            ┆ 1078  │\n",
       "│ 0            ┆ 42740 │\n",
       "└──────────────┴───────┘"
      ]
     },
     "execution_count": 17,
     "metadata": {},
     "output_type": "execute_result"
    }
   ],
   "source": [
    "rx1day_check['rx1day_check'].value_counts()"
   ]
  },
  {
   "cell_type": "code",
   "execution_count": null,
   "id": "757bcd66",
   "metadata": {},
   "outputs": [],
   "source": []
  }
 ],
 "metadata": {
  "kernelspec": {
   "display_name": "rainfallqc",
   "language": "python",
   "name": "python3"
  },
  "language_info": {
   "codemirror_mode": {
    "name": "ipython",
    "version": 3
   },
   "file_extension": ".py",
   "mimetype": "text/x-python",
   "name": "python",
   "nbconvert_exporter": "python",
   "pygments_lexer": "ipython3",
   "version": "3.13.1"
  }
 },
 "nbformat": 4,
 "nbformat_minor": 5
}
