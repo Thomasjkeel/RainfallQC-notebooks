{
 "cells": [
  {
   "cell_type": "markdown",
   "id": "5596a859",
   "metadata": {},
   "source": [
    "# Test GDSR and GPCC data reader classes"
   ]
  },
  {
   "cell_type": "code",
   "execution_count": 2,
   "id": "b283d95e",
   "metadata": {},
   "outputs": [
    {
     "name": "stdout",
     "output_type": "stream",
     "text": [
      "0.0.7\n"
     ]
    }
   ],
   "source": [
    "import polars as pl\n",
    "import rainfallqc\n",
    "\n",
    "print(rainfallqc.__version__)\n",
    "\n",
    "from rainfallqc.utils import data_readers"
   ]
  },
  {
   "cell_type": "markdown",
   "id": "e9a54d58",
   "metadata": {},
   "source": [
    "## Testing"
   ]
  },
  {
   "cell_type": "code",
   "execution_count": 3,
   "id": "049deef1",
   "metadata": {},
   "outputs": [],
   "source": [
    "gdsr_reader = data_readers.GDSRNetworkReader(path_to_gdsr_dir=\"../../data/GDSR/\")\n",
    "gpcc_reader = data_readers.GPCCNetworkReader(\n",
    "    path_to_gpcc_dir=\"../../data/GPCC/\", time_res=\"tw\"\n",
    ")"
   ]
  },
  {
   "cell_type": "code",
   "execution_count": 4,
   "id": "b73924bc",
   "metadata": {},
   "outputs": [
    {
     "data": {
      "text/html": [
       "<div><style>\n",
       ".dataframe > thead > tr,\n",
       ".dataframe > tbody > tr {\n",
       "  text-align: right;\n",
       "  white-space: pre-wrap;\n",
       "}\n",
       "</style>\n",
       "<small>shape: (11, 22)</small><table border=\"1\" class=\"dataframe\"><thead><tr><th>station_id</th><th>country</th><th>original_station_number</th><th>original_station_name</th><th>path_to_original_data</th><th>latitude</th><th>longitude</th><th>start_datetime</th><th>end_datetime</th><th>elevation</th><th>number_of_records</th><th>percent_missing_data</th><th>original_timestep</th><th>new_timestep</th><th>original_units</th><th>new_units</th><th>time_zone</th><th>daylight_saving_info</th><th>no_data_value</th><th>resolution</th><th>other</th><th>path</th></tr><tr><td>str</td><td>str</td><td>str</td><td>str</td><td>str</td><td>f64</td><td>f64</td><td>datetime[μs]</td><td>datetime[μs]</td><td>str</td><td>str</td><td>str</td><td>str</td><td>str</td><td>str</td><td>str</td><td>str</td><td>str</td><td>str</td><td>str</td><td>str</td><td>str</td></tr></thead><tbody><tr><td>&quot;DE_00310&quot;</td><td>&quot;Germany&quot;</td><td>&quot;00310&quot;</td><td>&quot;NA&quot;</td><td>&quot;B:/INTENSE data/Original data/…</td><td>51.0662</td><td>8.5373</td><td>2006-01-01 00:00:00</td><td>2010-12-31 23:00:00</td><td>&quot;590m&quot;</td><td>&quot;43824&quot;</td><td>&quot;0.00&quot;</td><td>&quot;1hr&quot;</td><td>&quot;1hr&quot;</td><td>&quot;mm&quot;</td><td>&quot;mm&quot;</td><td>&quot;CET&quot;</td><td>&quot;NA&quot;</td><td>&quot;-999&quot;</td><td>&quot;0.10&quot;</td><td>&quot;&quot;</td><td>&quot;../../data/GDSR/DE_00310.txt&quot;</td></tr><tr><td>&quot;DE_00389&quot;</td><td>&quot;Germany&quot;</td><td>&quot;00389&quot;</td><td>&quot;NA&quot;</td><td>&quot;B:/INTENSE data/Original data/…</td><td>51.0148</td><td>8.4318</td><td>2009-11-01 00:00:00</td><td>2010-12-31 23:00:00</td><td>&quot;436m&quot;</td><td>&quot;10224&quot;</td><td>&quot;0.00&quot;</td><td>&quot;1hr&quot;</td><td>&quot;1hr&quot;</td><td>&quot;mm&quot;</td><td>&quot;mm&quot;</td><td>&quot;CET&quot;</td><td>&quot;NA&quot;</td><td>&quot;-999&quot;</td><td>&quot;0.10&quot;</td><td>&quot;&quot;</td><td>&quot;../../data/GDSR/DE_00389.txt&quot;</td></tr><tr><td>&quot;DE_00390&quot;</td><td>&quot;Germany&quot;</td><td>&quot;00390&quot;</td><td>&quot;NA&quot;</td><td>&quot;B:/INTENSE data/Original data/…</td><td>50.9837</td><td>8.3679</td><td>2006-01-01 00:00:00</td><td>2010-12-31 23:00:00</td><td>&quot;610m&quot;</td><td>&quot;43824&quot;</td><td>&quot;0.00&quot;</td><td>&quot;1hr&quot;</td><td>&quot;1hr&quot;</td><td>&quot;mm&quot;</td><td>&quot;mm&quot;</td><td>&quot;CET&quot;</td><td>&quot;NA&quot;</td><td>&quot;-999&quot;</td><td>&quot;0.10&quot;</td><td>&quot;&quot;</td><td>&quot;../../data/GDSR/DE_00390.txt&quot;</td></tr><tr><td>&quot;DE_01300&quot;</td><td>&quot;Germany&quot;</td><td>&quot;01300&quot;</td><td>&quot;NA&quot;</td><td>&quot;B:/INTENSE data/Original data/…</td><td>51.254</td><td>8.1565</td><td>2006-01-01 00:00:00</td><td>2010-12-31 23:00:00</td><td>&quot;351m&quot;</td><td>&quot;43824&quot;</td><td>&quot;0.00&quot;</td><td>&quot;1hr&quot;</td><td>&quot;1hr&quot;</td><td>&quot;mm&quot;</td><td>&quot;mm&quot;</td><td>&quot;CET&quot;</td><td>&quot;NA&quot;</td><td>&quot;-999&quot;</td><td>&quot;0.10&quot;</td><td>&quot;&quot;</td><td>&quot;../../data/GDSR/DE_01300.txt&quot;</td></tr><tr><td>&quot;DE_02483&quot;</td><td>&quot;Germany&quot;</td><td>&quot;02483&quot;</td><td>&quot;NA&quot;</td><td>&quot;B:/INTENSE data/Original data/…</td><td>51.1803</td><td>8.4891</td><td>2006-01-01 00:00:00</td><td>2010-12-31 23:00:00</td><td>&quot;839m&quot;</td><td>&quot;43824&quot;</td><td>&quot;0.00&quot;</td><td>&quot;1hr&quot;</td><td>&quot;1hr&quot;</td><td>&quot;mm&quot;</td><td>&quot;mm&quot;</td><td>&quot;CET&quot;</td><td>&quot;NA&quot;</td><td>&quot;-999&quot;</td><td>&quot;0.10&quot;</td><td>&quot;&quot;</td><td>&quot;../../data/GDSR/DE_02483.txt&quot;</td></tr><tr><td>&hellip;</td><td>&hellip;</td><td>&hellip;</td><td>&hellip;</td><td>&hellip;</td><td>&hellip;</td><td>&hellip;</td><td>&hellip;</td><td>&hellip;</td><td>&hellip;</td><td>&hellip;</td><td>&hellip;</td><td>&hellip;</td><td>&hellip;</td><td>&hellip;</td><td>&hellip;</td><td>&hellip;</td><td>&hellip;</td><td>&hellip;</td><td>&hellip;</td><td>&hellip;</td><td>&hellip;</td></tr><tr><td>&quot;DE_03215&quot;</td><td>&quot;Germany&quot;</td><td>&quot;03215&quot;</td><td>&quot;NA&quot;</td><td>&quot;B:/INTENSE data/Original data/…</td><td>51.1681</td><td>8.7129</td><td>2007-06-01 00:00:00</td><td>2010-12-31 23:00:00</td><td>&quot;380m&quot;</td><td>&quot;31440&quot;</td><td>&quot;0.00&quot;</td><td>&quot;1hr&quot;</td><td>&quot;1hr&quot;</td><td>&quot;mm&quot;</td><td>&quot;mm&quot;</td><td>&quot;CET&quot;</td><td>&quot;NA&quot;</td><td>&quot;-999&quot;</td><td>&quot;0.10&quot;</td><td>&quot;&quot;</td><td>&quot;../../data/GDSR/DE_03215.txt&quot;</td></tr><tr><td>&quot;DE_04313&quot;</td><td>&quot;Germany&quot;</td><td>&quot;04313&quot;</td><td>&quot;NA&quot;</td><td>&quot;B:/INTENSE data/Original data/…</td><td>51.4966</td><td>8.4342</td><td>2006-01-01 00:00:00</td><td>2010-12-31 23:00:00</td><td>&quot;361m&quot;</td><td>&quot;43824&quot;</td><td>&quot;0.00&quot;</td><td>&quot;1hr&quot;</td><td>&quot;1hr&quot;</td><td>&quot;mm&quot;</td><td>&quot;mm&quot;</td><td>&quot;CET&quot;</td><td>&quot;NA&quot;</td><td>&quot;-999&quot;</td><td>&quot;0.10&quot;</td><td>&quot;&quot;</td><td>&quot;../../data/GDSR/DE_04313.txt&quot;</td></tr><tr><td>&quot;DE_04488&quot;</td><td>&quot;Germany&quot;</td><td>&quot;04488&quot;</td><td>&quot;NA&quot;</td><td>&quot;B:/INTENSE data/Original data/…</td><td>51.2129</td><td>8.2672</td><td>2006-08-01 00:00:00</td><td>2010-12-31 23:00:00</td><td>&quot;443m&quot;</td><td>&quot;38736&quot;</td><td>&quot;0.00&quot;</td><td>&quot;1hr&quot;</td><td>&quot;1hr&quot;</td><td>&quot;mm&quot;</td><td>&quot;mm&quot;</td><td>&quot;CET&quot;</td><td>&quot;NA&quot;</td><td>&quot;-999&quot;</td><td>&quot;0.10&quot;</td><td>&quot;&quot;</td><td>&quot;../../data/GDSR/DE_04488.txt&quot;</td></tr><tr><td>&quot;DE_06264&quot;</td><td>&quot;Germany&quot;</td><td>&quot;06264&quot;</td><td>&quot;NA&quot;</td><td>&quot;B:/INTENSE data/Original data/…</td><td>51.4143</td><td>8.6498</td><td>2006-01-01 00:00:00</td><td>2010-12-31 23:00:00</td><td>&quot;457m&quot;</td><td>&quot;43824&quot;</td><td>&quot;0.00&quot;</td><td>&quot;1hr&quot;</td><td>&quot;1hr&quot;</td><td>&quot;mm&quot;</td><td>&quot;mm&quot;</td><td>&quot;CET&quot;</td><td>&quot;NA&quot;</td><td>&quot;-999&quot;</td><td>&quot;0.10&quot;</td><td>&quot;&quot;</td><td>&quot;../../data/GDSR/DE_06264.txt&quot;</td></tr><tr><td>&quot;DE_06303&quot;</td><td>&quot;Germany&quot;</td><td>&quot;06303&quot;</td><td>&quot;NA&quot;</td><td>&quot;B:/INTENSE data/Original data/…</td><td>51.2884</td><td>8.5907</td><td>2006-01-01 00:00:00</td><td>2010-12-31 23:00:00</td><td>&quot;588m&quot;</td><td>&quot;43824&quot;</td><td>&quot;0.00&quot;</td><td>&quot;1hr&quot;</td><td>&quot;1hr&quot;</td><td>&quot;mm&quot;</td><td>&quot;mm&quot;</td><td>&quot;CET&quot;</td><td>&quot;NA&quot;</td><td>&quot;-999&quot;</td><td>&quot;0.10&quot;</td><td>&quot;&quot;</td><td>&quot;../../data/GDSR/DE_06303.txt&quot;</td></tr></tbody></table></div>"
      ],
      "text/plain": [
       "shape: (11, 22)\n",
       "┌────────────┬─────────┬────────────┬────────────┬───┬────────────┬────────────┬───────┬───────────┐\n",
       "│ station_id ┆ country ┆ original_s ┆ original_s ┆ … ┆ no_data_va ┆ resolution ┆ other ┆ path      │\n",
       "│ ---        ┆ ---     ┆ tation_num ┆ tation_nam ┆   ┆ lue        ┆ ---        ┆ ---   ┆ ---       │\n",
       "│ str        ┆ str     ┆ ber        ┆ e          ┆   ┆ ---        ┆ str        ┆ str   ┆ str       │\n",
       "│            ┆         ┆ ---        ┆ ---        ┆   ┆ str        ┆            ┆       ┆           │\n",
       "│            ┆         ┆ str        ┆ str        ┆   ┆            ┆            ┆       ┆           │\n",
       "╞════════════╪═════════╪════════════╪════════════╪═══╪════════════╪════════════╪═══════╪═══════════╡\n",
       "│ DE_00310   ┆ Germany ┆ 00310      ┆ NA         ┆ … ┆ -999       ┆ 0.10       ┆       ┆ ../../dat │\n",
       "│            ┆         ┆            ┆            ┆   ┆            ┆            ┆       ┆ a/GDSR/DE │\n",
       "│            ┆         ┆            ┆            ┆   ┆            ┆            ┆       ┆ _00310.tx │\n",
       "│            ┆         ┆            ┆            ┆   ┆            ┆            ┆       ┆ t         │\n",
       "│ DE_00389   ┆ Germany ┆ 00389      ┆ NA         ┆ … ┆ -999       ┆ 0.10       ┆       ┆ ../../dat │\n",
       "│            ┆         ┆            ┆            ┆   ┆            ┆            ┆       ┆ a/GDSR/DE │\n",
       "│            ┆         ┆            ┆            ┆   ┆            ┆            ┆       ┆ _00389.tx │\n",
       "│            ┆         ┆            ┆            ┆   ┆            ┆            ┆       ┆ t         │\n",
       "│ DE_00390   ┆ Germany ┆ 00390      ┆ NA         ┆ … ┆ -999       ┆ 0.10       ┆       ┆ ../../dat │\n",
       "│            ┆         ┆            ┆            ┆   ┆            ┆            ┆       ┆ a/GDSR/DE │\n",
       "│            ┆         ┆            ┆            ┆   ┆            ┆            ┆       ┆ _00390.tx │\n",
       "│            ┆         ┆            ┆            ┆   ┆            ┆            ┆       ┆ t         │\n",
       "│ DE_01300   ┆ Germany ┆ 01300      ┆ NA         ┆ … ┆ -999       ┆ 0.10       ┆       ┆ ../../dat │\n",
       "│            ┆         ┆            ┆            ┆   ┆            ┆            ┆       ┆ a/GDSR/DE │\n",
       "│            ┆         ┆            ┆            ┆   ┆            ┆            ┆       ┆ _01300.tx │\n",
       "│            ┆         ┆            ┆            ┆   ┆            ┆            ┆       ┆ t         │\n",
       "│ DE_02483   ┆ Germany ┆ 02483      ┆ NA         ┆ … ┆ -999       ┆ 0.10       ┆       ┆ ../../dat │\n",
       "│            ┆         ┆            ┆            ┆   ┆            ┆            ┆       ┆ a/GDSR/DE │\n",
       "│            ┆         ┆            ┆            ┆   ┆            ┆            ┆       ┆ _02483.tx │\n",
       "│            ┆         ┆            ┆            ┆   ┆            ┆            ┆       ┆ t         │\n",
       "│ …          ┆ …       ┆ …          ┆ …          ┆ … ┆ …          ┆ …          ┆ …     ┆ …         │\n",
       "│ DE_03215   ┆ Germany ┆ 03215      ┆ NA         ┆ … ┆ -999       ┆ 0.10       ┆       ┆ ../../dat │\n",
       "│            ┆         ┆            ┆            ┆   ┆            ┆            ┆       ┆ a/GDSR/DE │\n",
       "│            ┆         ┆            ┆            ┆   ┆            ┆            ┆       ┆ _03215.tx │\n",
       "│            ┆         ┆            ┆            ┆   ┆            ┆            ┆       ┆ t         │\n",
       "│ DE_04313   ┆ Germany ┆ 04313      ┆ NA         ┆ … ┆ -999       ┆ 0.10       ┆       ┆ ../../dat │\n",
       "│            ┆         ┆            ┆            ┆   ┆            ┆            ┆       ┆ a/GDSR/DE │\n",
       "│            ┆         ┆            ┆            ┆   ┆            ┆            ┆       ┆ _04313.tx │\n",
       "│            ┆         ┆            ┆            ┆   ┆            ┆            ┆       ┆ t         │\n",
       "│ DE_04488   ┆ Germany ┆ 04488      ┆ NA         ┆ … ┆ -999       ┆ 0.10       ┆       ┆ ../../dat │\n",
       "│            ┆         ┆            ┆            ┆   ┆            ┆            ┆       ┆ a/GDSR/DE │\n",
       "│            ┆         ┆            ┆            ┆   ┆            ┆            ┆       ┆ _04488.tx │\n",
       "│            ┆         ┆            ┆            ┆   ┆            ┆            ┆       ┆ t         │\n",
       "│ DE_06264   ┆ Germany ┆ 06264      ┆ NA         ┆ … ┆ -999       ┆ 0.10       ┆       ┆ ../../dat │\n",
       "│            ┆         ┆            ┆            ┆   ┆            ┆            ┆       ┆ a/GDSR/DE │\n",
       "│            ┆         ┆            ┆            ┆   ┆            ┆            ┆       ┆ _06264.tx │\n",
       "│            ┆         ┆            ┆            ┆   ┆            ┆            ┆       ┆ t         │\n",
       "│ DE_06303   ┆ Germany ┆ 06303      ┆ NA         ┆ … ┆ -999       ┆ 0.10       ┆       ┆ ../../dat │\n",
       "│            ┆         ┆            ┆            ┆   ┆            ┆            ┆       ┆ a/GDSR/DE │\n",
       "│            ┆         ┆            ┆            ┆   ┆            ┆            ┆       ┆ _06303.tx │\n",
       "│            ┆         ┆            ┆            ┆   ┆            ┆            ┆       ┆ t         │\n",
       "└────────────┴─────────┴────────────┴────────────┴───┴────────────┴────────────┴───────┴───────────┘"
      ]
     },
     "execution_count": 4,
     "metadata": {},
     "output_type": "execute_result"
    }
   ],
   "source": [
    "gdsr_reader.metadata"
   ]
  },
  {
   "cell_type": "code",
   "execution_count": 5,
   "id": "507aca6f",
   "metadata": {},
   "outputs": [
    {
     "data": {
      "text/html": [
       "<div><style>\n",
       ".dataframe > thead > tr,\n",
       ".dataframe > tbody > tr {\n",
       "  text-align: right;\n",
       "  white-space: pre-wrap;\n",
       "}\n",
       "</style>\n",
       "<small>shape: (10, 9)</small><table border=\"1\" class=\"dataframe\"><thead><tr><th>station_id</th><th>latitude</th><th>longitude</th><th>start_datetime</th><th>end_datetime</th><th>time_step</th><th>country</th><th>location</th><th>path</th></tr><tr><td>str</td><td>f64</td><td>f64</td><td>datetime[μs]</td><td>datetime[μs]</td><td>str</td><td>str</td><td>str</td><td>str</td></tr></thead><tbody><tr><td>&quot;6303&quot;</td><td>51.2915</td><td>8.5982</td><td>2002-12-02 07:00:00</td><td>2018-12-31 07:00:00</td><td>&quot;daily&quot;</td><td>&quot;DEU&quot;</td><td>&quot;Willingen/Hochsauerland&quot;</td><td>&quot;../../data/GPCC/tw_6303.zip&quot;</td></tr><tr><td>&quot;1283&quot;</td><td>51.0148</td><td>8.2824</td><td>1941-01-02 07:00:00</td><td>2018-12-31 07:00:00</td><td>&quot;daily&quot;</td><td>&quot;DEU&quot;</td><td>&quot;Erndtebruck-Birkelbach&quot;</td><td>&quot;../../data/GPCC/tw_1283.zip&quot;</td></tr><tr><td>&quot;2483&quot;</td><td>51.1803</td><td>8.4891</td><td>1955-01-02 07:00:00</td><td>2018-12-31 07:00:00</td><td>&quot;daily&quot;</td><td>&quot;DEU&quot;</td><td>&quot;Kahler Asten&quot;</td><td>&quot;../../data/GPCC/tw_2483.zip&quot;</td></tr><tr><td>&quot;310&quot;</td><td>51.0662</td><td>8.5375</td><td>1951-01-02 07:00:00</td><td>2018-12-31 07:00:00</td><td>&quot;daily&quot;</td><td>&quot;DEU&quot;</td><td>&quot;Battenberg-Hof Karlsburg&quot;</td><td>&quot;../../data/GPCC/tw_310.zip&quot;</td></tr><tr><td>&quot;3215&quot;</td><td>51.1683</td><td>8.7125</td><td>1931-01-02 07:00:00</td><td>2018-12-31 07:00:00</td><td>&quot;daily&quot;</td><td>&quot;DEU&quot;</td><td>&quot;Medebach-Berge&quot;</td><td>&quot;../../data/GPCC/tw_3215.zip&quot;</td></tr><tr><td>&quot;3264&quot;</td><td>51.3385</td><td>8.2709</td><td>1941-01-02 07:00:00</td><td>2018-12-31 07:00:00</td><td>&quot;daily&quot;</td><td>&quot;DEU&quot;</td><td>&quot;Meschede&quot;</td><td>&quot;../../data/GPCC/tw_3264.zip&quot;</td></tr><tr><td>&quot;3798&quot;</td><td>51.2827</td><td>8.4797</td><td>1950-01-02 07:00:00</td><td>2018-12-31 07:00:00</td><td>&quot;daily&quot;</td><td>&quot;DEU&quot;</td><td>&quot;Olsberg-Brunskappel&quot;</td><td>&quot;../../data/GPCC/tw_3798.zip&quot;</td></tr><tr><td>&quot;480&quot;</td><td>50.9275</td><td>8.4935</td><td>1931-01-02 07:00:00</td><td>2018-12-31 07:00:00</td><td>&quot;daily&quot;</td><td>&quot;DEU&quot;</td><td>&quot;Biedenkopf-Wallau&quot;</td><td>&quot;../../data/GPCC/tw_480.zip&quot;</td></tr><tr><td>&quot;5360&quot;</td><td>51.4319</td><td>8.2665</td><td>1941-01-02 07:00:00</td><td>2018-12-31 07:00:00</td><td>&quot;daily&quot;</td><td>&quot;DEU&quot;</td><td>&quot;Warstein-Hirschberg&quot;</td><td>&quot;../../data/GPCC/tw_5360.zip&quot;</td></tr><tr><td>&quot;5610&quot;</td><td>51.1968</td><td>8.5268</td><td>1970-01-02 07:00:00</td><td>2008-12-31 07:00:00</td><td>&quot;daily&quot;</td><td>&quot;DEU&quot;</td><td>&quot;Winterberg&quot;</td><td>&quot;../../data/GPCC/tw_5610.zip&quot;</td></tr></tbody></table></div>"
      ],
      "text/plain": [
       "shape: (10, 9)\n",
       "┌────────────┬──────────┬───────────┬────────────┬───┬───────────┬─────────┬───────────┬───────────┐\n",
       "│ station_id ┆ latitude ┆ longitude ┆ start_date ┆ … ┆ time_step ┆ country ┆ location  ┆ path      │\n",
       "│ ---        ┆ ---      ┆ ---       ┆ time       ┆   ┆ ---       ┆ ---     ┆ ---       ┆ ---       │\n",
       "│ str        ┆ f64      ┆ f64       ┆ ---        ┆   ┆ str       ┆ str     ┆ str       ┆ str       │\n",
       "│            ┆          ┆           ┆ datetime[μ ┆   ┆           ┆         ┆           ┆           │\n",
       "│            ┆          ┆           ┆ s]         ┆   ┆           ┆         ┆           ┆           │\n",
       "╞════════════╪══════════╪═══════════╪════════════╪═══╪═══════════╪═════════╪═══════════╪═══════════╡\n",
       "│ 6303       ┆ 51.2915  ┆ 8.5982    ┆ 2002-12-02 ┆ … ┆ daily     ┆ DEU     ┆ Willingen ┆ ../../dat │\n",
       "│            ┆          ┆           ┆ 07:00:00   ┆   ┆           ┆         ┆ /Hochsaue ┆ a/GPCC/tw │\n",
       "│            ┆          ┆           ┆            ┆   ┆           ┆         ┆ rland     ┆ _6303.zip │\n",
       "│ 1283       ┆ 51.0148  ┆ 8.2824    ┆ 1941-01-02 ┆ … ┆ daily     ┆ DEU     ┆ Erndtebru ┆ ../../dat │\n",
       "│            ┆          ┆           ┆ 07:00:00   ┆   ┆           ┆         ┆ ck-Birkel ┆ a/GPCC/tw │\n",
       "│            ┆          ┆           ┆            ┆   ┆           ┆         ┆ bach      ┆ _1283.zip │\n",
       "│ 2483       ┆ 51.1803  ┆ 8.4891    ┆ 1955-01-02 ┆ … ┆ daily     ┆ DEU     ┆ Kahler    ┆ ../../dat │\n",
       "│            ┆          ┆           ┆ 07:00:00   ┆   ┆           ┆         ┆ Asten     ┆ a/GPCC/tw │\n",
       "│            ┆          ┆           ┆            ┆   ┆           ┆         ┆           ┆ _2483.zip │\n",
       "│ 310        ┆ 51.0662  ┆ 8.5375    ┆ 1951-01-02 ┆ … ┆ daily     ┆ DEU     ┆ Battenber ┆ ../../dat │\n",
       "│            ┆          ┆           ┆ 07:00:00   ┆   ┆           ┆         ┆ g-Hof     ┆ a/GPCC/tw │\n",
       "│            ┆          ┆           ┆            ┆   ┆           ┆         ┆ Karlsburg ┆ _310.zip  │\n",
       "│ 3215       ┆ 51.1683  ┆ 8.7125    ┆ 1931-01-02 ┆ … ┆ daily     ┆ DEU     ┆ Medebach- ┆ ../../dat │\n",
       "│            ┆          ┆           ┆ 07:00:00   ┆   ┆           ┆         ┆ Berge     ┆ a/GPCC/tw │\n",
       "│            ┆          ┆           ┆            ┆   ┆           ┆         ┆           ┆ _3215.zip │\n",
       "│ 3264       ┆ 51.3385  ┆ 8.2709    ┆ 1941-01-02 ┆ … ┆ daily     ┆ DEU     ┆ Meschede  ┆ ../../dat │\n",
       "│            ┆          ┆           ┆ 07:00:00   ┆   ┆           ┆         ┆           ┆ a/GPCC/tw │\n",
       "│            ┆          ┆           ┆            ┆   ┆           ┆         ┆           ┆ _3264.zip │\n",
       "│ 3798       ┆ 51.2827  ┆ 8.4797    ┆ 1950-01-02 ┆ … ┆ daily     ┆ DEU     ┆ Olsberg-B ┆ ../../dat │\n",
       "│            ┆          ┆           ┆ 07:00:00   ┆   ┆           ┆         ┆ runskappe ┆ a/GPCC/tw │\n",
       "│            ┆          ┆           ┆            ┆   ┆           ┆         ┆ l         ┆ _3798.zip │\n",
       "│ 480        ┆ 50.9275  ┆ 8.4935    ┆ 1931-01-02 ┆ … ┆ daily     ┆ DEU     ┆ Biedenkop ┆ ../../dat │\n",
       "│            ┆          ┆           ┆ 07:00:00   ┆   ┆           ┆         ┆ f-Wallau  ┆ a/GPCC/tw │\n",
       "│            ┆          ┆           ┆            ┆   ┆           ┆         ┆           ┆ _480.zip  │\n",
       "│ 5360       ┆ 51.4319  ┆ 8.2665    ┆ 1941-01-02 ┆ … ┆ daily     ┆ DEU     ┆ Warstein- ┆ ../../dat │\n",
       "│            ┆          ┆           ┆ 07:00:00   ┆   ┆           ┆         ┆ Hirschber ┆ a/GPCC/tw │\n",
       "│            ┆          ┆           ┆            ┆   ┆           ┆         ┆ g         ┆ _5360.zip │\n",
       "│ 5610       ┆ 51.1968  ┆ 8.5268    ┆ 1970-01-02 ┆ … ┆ daily     ┆ DEU     ┆ Winterber ┆ ../../dat │\n",
       "│            ┆          ┆           ┆ 07:00:00   ┆   ┆           ┆         ┆ g         ┆ a/GPCC/tw │\n",
       "│            ┆          ┆           ┆            ┆   ┆           ┆         ┆           ┆ _5610.zip │\n",
       "└────────────┴──────────┴───────────┴────────────┴───┴───────────┴─────────┴───────────┴───────────┘"
      ]
     },
     "execution_count": 5,
     "metadata": {},
     "output_type": "execute_result"
    }
   ],
   "source": [
    "gpcc_reader.metadata"
   ]
  },
  {
   "cell_type": "code",
   "execution_count": 6,
   "id": "3d11c4dd",
   "metadata": {},
   "outputs": [
    {
     "data": {
      "text/plain": [
       "{'6303': '../../data/GPCC/tw_6303.zip',\n",
       " '1283': '../../data/GPCC/tw_1283.zip',\n",
       " '2483': '../../data/GPCC/tw_2483.zip',\n",
       " '310': '../../data/GPCC/tw_310.zip',\n",
       " '3215': '../../data/GPCC/tw_3215.zip',\n",
       " '3264': '../../data/GPCC/tw_3264.zip',\n",
       " '3798': '../../data/GPCC/tw_3798.zip',\n",
       " '480': '../../data/GPCC/tw_480.zip',\n",
       " '5360': '../../data/GPCC/tw_5360.zip',\n",
       " '5610': '../../data/GPCC/tw_5610.zip'}"
      ]
     },
     "execution_count": 6,
     "metadata": {},
     "output_type": "execute_result"
    }
   ],
   "source": [
    "gpcc_reader.data_paths"
   ]
  },
  {
   "cell_type": "code",
   "execution_count": 7,
   "id": "ea763efe",
   "metadata": {},
   "outputs": [],
   "source": [
    "result = gpcc_reader.get_nearest_overlapping_neighbours_to_target(\n",
    "    target_id=\"310\", distance_threshold=30, n_closest=3, min_overlap_days=1000\n",
    ")"
   ]
  },
  {
   "cell_type": "code",
   "execution_count": 8,
   "id": "7754df0e",
   "metadata": {},
   "outputs": [
    {
     "data": {
      "text/plain": [
       "['5610', '480', '2483']"
      ]
     },
     "execution_count": 8,
     "metadata": {},
     "output_type": "execute_result"
    }
   ],
   "source": [
    "list(result)"
   ]
  },
  {
   "cell_type": "code",
   "execution_count": 9,
   "id": "234438b0",
   "metadata": {},
   "outputs": [
    {
     "data": {
      "text/plain": [
       "{'6303': '../../data/GPCC/tw_6303.zip',\n",
       " '1283': '../../data/GPCC/tw_1283.zip',\n",
       " '2483': '../../data/GPCC/tw_2483.zip',\n",
       " '310': '../../data/GPCC/tw_310.zip',\n",
       " '3215': '../../data/GPCC/tw_3215.zip',\n",
       " '3264': '../../data/GPCC/tw_3264.zip',\n",
       " '3798': '../../data/GPCC/tw_3798.zip',\n",
       " '480': '../../data/GPCC/tw_480.zip',\n",
       " '5360': '../../data/GPCC/tw_5360.zip',\n",
       " '5610': '../../data/GPCC/tw_5610.zip'}"
      ]
     },
     "execution_count": 9,
     "metadata": {},
     "output_type": "execute_result"
    }
   ],
   "source": [
    "gpcc_reader.data_paths"
   ]
  },
  {
   "cell_type": "code",
   "execution_count": 10,
   "id": "0fddeeed",
   "metadata": {},
   "outputs": [
    {
     "name": "stdout",
     "output_type": "stream",
     "text": [
      "Data has a inconsistent time step. Data has following time steps: ['1d', '731d', '1462d']\n",
      "Attempting to resample into daily\n",
      "Data has a inconsistent time step. Data has following time steps: ['1d', '2d', '7d']\n",
      "Attempting to resample into daily\n",
      "Data has a inconsistent time step. Data has following time steps: ['1d', '731d', '1248d']\n",
      "Attempting to resample into daily\n",
      "Data has a inconsistent time step. Data has following time steps: ['1d', '731d']\n",
      "Attempting to resample into daily\n",
      "Data has a inconsistent time step. Data has following time steps: ['1d', '121d']\n",
      "Attempting to resample into daily\n",
      "Data has a inconsistent time step. Data has following time steps: ['1d', '151d', '731d']\n",
      "Attempting to resample into daily\n"
     ]
    }
   ],
   "source": [
    "gpcc_obj = data_readers.GPCCNetworkReader(\n",
    "    path_to_gpcc_dir=\"../../data/GPCC/\", time_res=\"tw\"\n",
    ")\n",
    "res = gpcc_obj.load_network_data(\n",
    "    data_paths=gpcc_reader.data_paths.values(), rain_col=\"rain_mm\"\n",
    ")\n",
    "res = res.sort(\"time\")"
   ]
  },
  {
   "cell_type": "code",
   "execution_count": 11,
   "id": "4d9a48e9",
   "metadata": {},
   "outputs": [
    {
     "data": {
      "text/html": [
       "<div><style>\n",
       ".dataframe > thead > tr,\n",
       ".dataframe > tbody > tr {\n",
       "  text-align: right;\n",
       "  white-space: pre-wrap;\n",
       "}\n",
       "</style>\n",
       "<small>shape: (32_142, 11)</small><table border=\"1\" class=\"dataframe\"><thead><tr><th>time</th><th>rain_mm_tw_6303</th><th>rain_mm_tw_1283</th><th>rain_mm_tw_2483</th><th>rain_mm_tw_310</th><th>rain_mm_tw_3215</th><th>rain_mm_tw_3264</th><th>rain_mm_tw_3798</th><th>rain_mm_tw_480</th><th>rain_mm_tw_5360</th><th>rain_mm_tw_5610</th></tr><tr><td>datetime[μs]</td><td>f64</td><td>f64</td><td>f64</td><td>f64</td><td>f64</td><td>f64</td><td>f64</td><td>f64</td><td>f64</td><td>f64</td></tr></thead><tbody><tr><td>1931-01-01 07:00:00</td><td>null</td><td>null</td><td>null</td><td>null</td><td>0.0</td><td>null</td><td>null</td><td>11.3</td><td>null</td><td>null</td></tr><tr><td>1931-01-02 07:00:00</td><td>null</td><td>null</td><td>null</td><td>null</td><td>0.0</td><td>null</td><td>null</td><td>1.2</td><td>null</td><td>null</td></tr><tr><td>1931-01-03 07:00:00</td><td>null</td><td>null</td><td>null</td><td>null</td><td>0.0</td><td>null</td><td>null</td><td>13.4</td><td>null</td><td>null</td></tr><tr><td>1931-01-04 07:00:00</td><td>null</td><td>null</td><td>null</td><td>null</td><td>0.0</td><td>null</td><td>null</td><td>4.3</td><td>null</td><td>null</td></tr><tr><td>1931-01-05 07:00:00</td><td>null</td><td>null</td><td>null</td><td>null</td><td>0.0</td><td>null</td><td>null</td><td>0.0</td><td>null</td><td>null</td></tr><tr><td>&hellip;</td><td>&hellip;</td><td>&hellip;</td><td>&hellip;</td><td>&hellip;</td><td>&hellip;</td><td>&hellip;</td><td>&hellip;</td><td>&hellip;</td><td>&hellip;</td><td>&hellip;</td></tr><tr><td>2018-12-27 07:00:00</td><td>0.0</td><td>0.0</td><td>0.0</td><td>0.0</td><td>0.0</td><td>0.0</td><td>0.0</td><td>0.0</td><td>0.0</td><td>null</td></tr><tr><td>2018-12-28 07:00:00</td><td>1.0</td><td>0.5</td><td>0.1</td><td>0.2</td><td>0.1</td><td>1.8</td><td>0.7</td><td>0.0</td><td>1.5</td><td>null</td></tr><tr><td>2018-12-29 07:00:00</td><td>10.5</td><td>4.4</td><td>9.9</td><td>6.9</td><td>3.2</td><td>5.5</td><td>8.6</td><td>2.2</td><td>6.5</td><td>null</td></tr><tr><td>2018-12-30 07:00:00</td><td>4.7</td><td>1.8</td><td>2.1</td><td>0.9</td><td>0.2</td><td>3.8</td><td>2.3</td><td>0.3</td><td>4.3</td><td>null</td></tr><tr><td>2018-12-31 07:00:00</td><td>1.7</td><td>1.2</td><td>2.5</td><td>1.4</td><td>0.0</td><td>2.7</td><td>2.0</td><td>1.1</td><td>3.3</td><td>null</td></tr></tbody></table></div>"
      ],
      "text/plain": [
       "shape: (32_142, 11)\n",
       "┌───────────┬───────────┬───────────┬───────────┬───┬───────────┬───────────┬───────────┬──────────┐\n",
       "│ time      ┆ rain_mm_t ┆ rain_mm_t ┆ rain_mm_t ┆ … ┆ rain_mm_t ┆ rain_mm_t ┆ rain_mm_t ┆ rain_mm_ │\n",
       "│ ---       ┆ w_6303    ┆ w_1283    ┆ w_2483    ┆   ┆ w_3798    ┆ w_480     ┆ w_5360    ┆ tw_5610  │\n",
       "│ datetime[ ┆ ---       ┆ ---       ┆ ---       ┆   ┆ ---       ┆ ---       ┆ ---       ┆ ---      │\n",
       "│ μs]       ┆ f64       ┆ f64       ┆ f64       ┆   ┆ f64       ┆ f64       ┆ f64       ┆ f64      │\n",
       "╞═══════════╪═══════════╪═══════════╪═══════════╪═══╪═══════════╪═══════════╪═══════════╪══════════╡\n",
       "│ 1931-01-0 ┆ null      ┆ null      ┆ null      ┆ … ┆ null      ┆ 11.3      ┆ null      ┆ null     │\n",
       "│ 1         ┆           ┆           ┆           ┆   ┆           ┆           ┆           ┆          │\n",
       "│ 07:00:00  ┆           ┆           ┆           ┆   ┆           ┆           ┆           ┆          │\n",
       "│ 1931-01-0 ┆ null      ┆ null      ┆ null      ┆ … ┆ null      ┆ 1.2       ┆ null      ┆ null     │\n",
       "│ 2         ┆           ┆           ┆           ┆   ┆           ┆           ┆           ┆          │\n",
       "│ 07:00:00  ┆           ┆           ┆           ┆   ┆           ┆           ┆           ┆          │\n",
       "│ 1931-01-0 ┆ null      ┆ null      ┆ null      ┆ … ┆ null      ┆ 13.4      ┆ null      ┆ null     │\n",
       "│ 3         ┆           ┆           ┆           ┆   ┆           ┆           ┆           ┆          │\n",
       "│ 07:00:00  ┆           ┆           ┆           ┆   ┆           ┆           ┆           ┆          │\n",
       "│ 1931-01-0 ┆ null      ┆ null      ┆ null      ┆ … ┆ null      ┆ 4.3       ┆ null      ┆ null     │\n",
       "│ 4         ┆           ┆           ┆           ┆   ┆           ┆           ┆           ┆          │\n",
       "│ 07:00:00  ┆           ┆           ┆           ┆   ┆           ┆           ┆           ┆          │\n",
       "│ 1931-01-0 ┆ null      ┆ null      ┆ null      ┆ … ┆ null      ┆ 0.0       ┆ null      ┆ null     │\n",
       "│ 5         ┆           ┆           ┆           ┆   ┆           ┆           ┆           ┆          │\n",
       "│ 07:00:00  ┆           ┆           ┆           ┆   ┆           ┆           ┆           ┆          │\n",
       "│ …         ┆ …         ┆ …         ┆ …         ┆ … ┆ …         ┆ …         ┆ …         ┆ …        │\n",
       "│ 2018-12-2 ┆ 0.0       ┆ 0.0       ┆ 0.0       ┆ … ┆ 0.0       ┆ 0.0       ┆ 0.0       ┆ null     │\n",
       "│ 7         ┆           ┆           ┆           ┆   ┆           ┆           ┆           ┆          │\n",
       "│ 07:00:00  ┆           ┆           ┆           ┆   ┆           ┆           ┆           ┆          │\n",
       "│ 2018-12-2 ┆ 1.0       ┆ 0.5       ┆ 0.1       ┆ … ┆ 0.7       ┆ 0.0       ┆ 1.5       ┆ null     │\n",
       "│ 8         ┆           ┆           ┆           ┆   ┆           ┆           ┆           ┆          │\n",
       "│ 07:00:00  ┆           ┆           ┆           ┆   ┆           ┆           ┆           ┆          │\n",
       "│ 2018-12-2 ┆ 10.5      ┆ 4.4       ┆ 9.9       ┆ … ┆ 8.6       ┆ 2.2       ┆ 6.5       ┆ null     │\n",
       "│ 9         ┆           ┆           ┆           ┆   ┆           ┆           ┆           ┆          │\n",
       "│ 07:00:00  ┆           ┆           ┆           ┆   ┆           ┆           ┆           ┆          │\n",
       "│ 2018-12-3 ┆ 4.7       ┆ 1.8       ┆ 2.1       ┆ … ┆ 2.3       ┆ 0.3       ┆ 4.3       ┆ null     │\n",
       "│ 0         ┆           ┆           ┆           ┆   ┆           ┆           ┆           ┆          │\n",
       "│ 07:00:00  ┆           ┆           ┆           ┆   ┆           ┆           ┆           ┆          │\n",
       "│ 2018-12-3 ┆ 1.7       ┆ 1.2       ┆ 2.5       ┆ … ┆ 2.0       ┆ 1.1       ┆ 3.3       ┆ null     │\n",
       "│ 1         ┆           ┆           ┆           ┆   ┆           ┆           ┆           ┆          │\n",
       "│ 07:00:00  ┆           ┆           ┆           ┆   ┆           ┆           ┆           ┆          │\n",
       "└───────────┴───────────┴───────────┴───────────┴───┴───────────┴───────────┴───────────┴──────────┘"
      ]
     },
     "execution_count": 11,
     "metadata": {},
     "output_type": "execute_result"
    }
   ],
   "source": [
    "res"
   ]
  },
  {
   "cell_type": "code",
   "execution_count": 12,
   "id": "ca6bf363",
   "metadata": {},
   "outputs": [
    {
     "data": {
      "text/plain": [
       "['../../data/GPCC/tw_2483.zip',\n",
       " '../../data/GPCC/tw_480.zip',\n",
       " '../../data/GPCC/tw_5610.zip']"
      ]
     },
     "execution_count": 12,
     "metadata": {},
     "output_type": "execute_result"
    }
   ],
   "source": [
    "gpcc_obj.metadata.filter(pl.col(\"station_id\").is_in(result))[\"path\"].to_list()"
   ]
  },
  {
   "cell_type": "code",
   "execution_count": null,
   "id": "5485c900",
   "metadata": {},
   "outputs": [],
   "source": []
  }
 ],
 "metadata": {
  "kernelspec": {
   "display_name": "rainfallqc",
   "language": "python",
   "name": "python3"
  },
  "language_info": {
   "codemirror_mode": {
    "name": "ipython",
    "version": 3
   },
   "file_extension": ".py",
   "mimetype": "text/x-python",
   "name": "python",
   "nbconvert_exporter": "python",
   "pygments_lexer": "ipython3",
   "version": "3.13.1"
  }
 },
 "nbformat": 4,
 "nbformat_minor": 5
}
