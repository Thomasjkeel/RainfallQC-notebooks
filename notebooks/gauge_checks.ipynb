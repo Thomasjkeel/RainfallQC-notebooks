{
 "cells": [
  {
   "cell_type": "markdown",
   "id": "bdbec22d-18ea-4cfb-a859-17391a802764",
   "metadata": {},
   "source": [
    "# Rain gauge checks for quality control flags\n",
    "Covers QC1-7\n",
    "\n",
    "## Table of contents\n",
    "[QC1 Percentiles](#QC1---Percentiles)  \n",
    "[QC2 K-largest](#QC2---K-largest)  \n",
    "[QC3 Days of week](#QC3---Days-of-week)  \n",
    "[QC4 Hours of day](#QC4---Hours-of-day)  \n",
    "[QC5 Intermittency](#QC5---Intermittency)  \n",
    "[QC6 Breakpoints](#QC6---Breakpoints)  \n",
    "[QC7 Minimum value change](#QC7---Minimum-value-change)  \n",
    "\n",
    "See '3.3 Suspect gauges' in Lewis et al. (2021)"
   ]
  },
  {
   "cell_type": "code",
   "execution_count": 1,
   "id": "a1bc24fa-d3f4-4b0b-a124-87644c7cec4b",
   "metadata": {},
   "outputs": [],
   "source": [
    "import datetime\n",
    "\n",
    "import numpy as np\n",
    "import polars as pl\n",
    "import scipy"
   ]
  },
  {
   "cell_type": "code",
   "execution_count": 2,
   "id": "1cdad59e-97fb-4f1a-8415-7a54550af56a",
   "metadata": {},
   "outputs": [],
   "source": [
    "def read_metadata(data_path):\n",
    "    metadata = {}\n",
    "\n",
    "    with open(data_path, 'r') as f:\n",
    "        while True:\n",
    "            key, val = f.readline().strip().split(':', maxsplit=1)\n",
    "            key = key.lower().replace(' ', '_')\n",
    "            metadata[key.strip()] = val.strip()\n",
    "            if key == 'other':\n",
    "                break\n",
    "    return metadata"
   ]
  },
  {
   "cell_type": "code",
   "execution_count": 3,
   "id": "90862152-7965-4e8b-aca0-5a63cfef2e4c",
   "metadata": {},
   "outputs": [],
   "source": [
    "metadata = read_metadata(data_path='../data/gauge_data/DE_02483.txt')\n",
    "startdate = datetime.datetime.strptime(metadata['start_datetime'], '%Y%m%d%H')\n",
    "enddate = datetime.datetime.strptime(metadata['end_datetime'], '%Y%m%d%H')"
   ]
  },
  {
   "cell_type": "code",
   "execution_count": 4,
   "id": "33e4bea6-f7e3-4e7b-8187-87648ad926c5",
   "metadata": {},
   "outputs": [
    {
     "data": {
      "text/plain": [
       "{'station_id': 'DE_02483',\n",
       " 'country': 'Germany',\n",
       " 'original_station_number': '02483',\n",
       " 'original_station_name': 'NA',\n",
       " 'path_to_original_data': 'B:/INTENSE data/Original data/Germany/hourly/precipitation/historical/stundenwerte_RR_02483_19951012_20141231_hist.zip,B:/INTENSE data/Original data/Germany/hourly/precipitation/recent/stundenwerte_RR_02483_akt.zip',\n",
       " 'latitude': '51.1803',\n",
       " 'longitude': '8.4891',\n",
       " 'start_datetime': '2006010100',\n",
       " 'end_datetime': '2010123123',\n",
       " 'elevation': '839m',\n",
       " 'number_of_records': '43824',\n",
       " 'percent_missing_data': '0.00',\n",
       " 'original_timestep': '1hr',\n",
       " 'new_timestep': '1hr',\n",
       " 'original_units': 'mm',\n",
       " 'new_units': 'mm',\n",
       " 'time_zone': 'CET',\n",
       " 'daylight_saving_info': 'NA',\n",
       " 'no_data_value': '-999',\n",
       " 'resolution': '0.10',\n",
       " 'other': ''}"
      ]
     },
     "execution_count": 4,
     "metadata": {},
     "output_type": "execute_result"
    }
   ],
   "source": [
    "metadata"
   ]
  },
  {
   "cell_type": "code",
   "execution_count": 5,
   "id": "4d227e75-c67b-4acd-a001-1016a5641a74",
   "metadata": {},
   "outputs": [],
   "source": [
    "rain_col = f'rain_{metadata['original_units']}'"
   ]
  },
  {
   "cell_type": "code",
   "execution_count": 6,
   "id": "69bcfb4a-2da1-4187-b904-228285144bf2",
   "metadata": {},
   "outputs": [],
   "source": [
    "def get_delta(d1, d2):\n",
    "    delta = d2 - d1\n",
    "    return delta\n",
    "\n",
    "\n",
    "hourly_date_interval = []\n",
    "delta = get_delta(startdate, enddate+datetime.timedelta(days=1))\n",
    "for i in range(delta.days * 24):\n",
    "    hourly_date_interval.append(startdate + datetime.timedelta(hours=i))"
   ]
  },
  {
   "cell_type": "code",
   "execution_count": 7,
   "id": "368479e0-c1ac-4b6e-a21d-7a4a54beb7c3",
   "metadata": {},
   "outputs": [],
   "source": [
    "gauge_data = pl.read_csv('../data/gauge_data/DE_02483.txt', skip_rows=20)\n",
    "\n",
    "assert len(gauge_data) == len(hourly_date_interval)\n",
    "\n",
    "## set time columns\n",
    "gauge_data = gauge_data.with_columns(time=pl.Series(hourly_date_interval))\n",
    "\n",
    "## Rename\n",
    "gauge_data = gauge_data.rename({'Other: ': rain_col})\n",
    "\n",
    "## Reorder (to look nice)\n",
    "gauge_data = gauge_data.select(['time', rain_col])"
   ]
  },
  {
   "cell_type": "code",
   "execution_count": 8,
   "id": "76cffec1",
   "metadata": {},
   "outputs": [],
   "source": [
    "## make no data vals nans\n",
    "gauge_data = gauge_data.with_columns(pl.when(pl.col(rain_col) == int(metadata['no_data_value'])).then(np.nan).otherwise(pl.col(rain_col)).alias(rain_col))"
   ]
  },
  {
   "cell_type": "code",
   "execution_count": null,
   "id": "79500732-d705-49a1-9918-fc3309bb3dac",
   "metadata": {},
   "outputs": [
    {
     "data": {
      "text/html": [
       "<div><style>\n",
       ".dataframe > thead > tr,\n",
       ".dataframe > tbody > tr {\n",
       "  text-align: right;\n",
       "  white-space: pre-wrap;\n",
       "}\n",
       "</style>\n",
       "<small>shape: (5, 2)</small><table border=\"1\" class=\"dataframe\"><thead><tr><th>time</th><th>rain_mm</th></tr><tr><td>datetime[μs]</td><td>f64</td></tr></thead><tbody><tr><td>2006-01-01 00:00:00</td><td>0.9</td></tr><tr><td>2006-01-01 01:00:00</td><td>0.3</td></tr><tr><td>2006-01-01 02:00:00</td><td>0.3</td></tr><tr><td>2006-01-01 03:00:00</td><td>0.0</td></tr><tr><td>2006-01-01 04:00:00</td><td>0.0</td></tr></tbody></table></div>"
      ],
      "text/plain": [
       "shape: (5, 2)\n",
       "┌─────────────────────┬─────────┐\n",
       "│ time                ┆ rain_mm │\n",
       "│ ---                 ┆ ---     │\n",
       "│ datetime[μs]        ┆ f64     │\n",
       "╞═════════════════════╪═════════╡\n",
       "│ 2006-01-01 00:00:00 ┆ 0.9     │\n",
       "│ 2006-01-01 01:00:00 ┆ 0.3     │\n",
       "│ 2006-01-01 02:00:00 ┆ 0.3     │\n",
       "│ 2006-01-01 03:00:00 ┆ 0.0     │\n",
       "│ 2006-01-01 04:00:00 ┆ 0.0     │\n",
       "└─────────────────────┴─────────┘"
      ]
     },
     "execution_count": 9,
     "metadata": {},
     "output_type": "execute_result"
    }
   ],
   "source": [
    "gauge_data.head()"
   ]
  },
  {
   "cell_type": "code",
   "execution_count": 10,
   "id": "ccf6ff45-d168-4a9d-a0cd-94a5534c5567",
   "metadata": {},
   "outputs": [
    {
     "data": {
      "text/html": [
       "\n",
       "<style>\n",
       "  #altair-viz-96b47a5f6a7c4b2cad480d7fa01db976.vega-embed {\n",
       "    width: 100%;\n",
       "    display: flex;\n",
       "  }\n",
       "\n",
       "  #altair-viz-96b47a5f6a7c4b2cad480d7fa01db976.vega-embed details,\n",
       "  #altair-viz-96b47a5f6a7c4b2cad480d7fa01db976.vega-embed details summary {\n",
       "    position: relative;\n",
       "  }\n",
       "</style>\n",
       "<div id=\"altair-viz-96b47a5f6a7c4b2cad480d7fa01db976\"></div>\n",
       "<script type=\"text/javascript\">\n",
       "  var VEGA_DEBUG = (typeof VEGA_DEBUG == \"undefined\") ? {} : VEGA_DEBUG;\n",
       "  (function(spec, embedOpt){\n",
       "    let outputDiv = document.currentScript.previousElementSibling;\n",
       "    if (outputDiv.id !== \"altair-viz-96b47a5f6a7c4b2cad480d7fa01db976\") {\n",
       "      outputDiv = document.getElementById(\"altair-viz-96b47a5f6a7c4b2cad480d7fa01db976\");\n",
       "    }\n",
       "\n",
       "    const paths = {\n",
       "      \"vega\": \"https://cdn.jsdelivr.net/npm/vega@5?noext\",\n",
       "      \"vega-lib\": \"https://cdn.jsdelivr.net/npm/vega-lib?noext\",\n",
       "      \"vega-lite\": \"https://cdn.jsdelivr.net/npm/vega-lite@5.20.1?noext\",\n",
       "      \"vega-embed\": \"https://cdn.jsdelivr.net/npm/vega-embed@6?noext\",\n",
       "    };\n",
       "\n",
       "    function maybeLoadScript(lib, version) {\n",
       "      var key = `${lib.replace(\"-\", \"\")}_version`;\n",
       "      return (VEGA_DEBUG[key] == version) ?\n",
       "        Promise.resolve(paths[lib]) :\n",
       "        new Promise(function(resolve, reject) {\n",
       "          var s = document.createElement('script');\n",
       "          document.getElementsByTagName(\"head\")[0].appendChild(s);\n",
       "          s.async = true;\n",
       "          s.onload = () => {\n",
       "            VEGA_DEBUG[key] = version;\n",
       "            return resolve(paths[lib]);\n",
       "          };\n",
       "          s.onerror = () => reject(`Error loading script: ${paths[lib]}`);\n",
       "          s.src = paths[lib];\n",
       "        });\n",
       "    }\n",
       "\n",
       "    function showError(err) {\n",
       "      outputDiv.innerHTML = `<div class=\"error\" style=\"color:red;\">${err}</div>`;\n",
       "      throw err;\n",
       "    }\n",
       "\n",
       "    function displayChart(vegaEmbed) {\n",
       "      vegaEmbed(outputDiv, spec, embedOpt)\n",
       "        .catch(err => showError(`Javascript Error: ${err.message}<br>This usually means there's a typo in your chart specification. See the javascript console for the full traceback.`));\n",
       "    }\n",
       "\n",
       "    if(typeof define === \"function\" && define.amd) {\n",
       "      requirejs.config({paths});\n",
       "      let deps = [\"vega-embed\"];\n",
       "      require(deps, displayChart, err => showError(`Error loading script: ${err.message}`));\n",
       "    } else {\n",
       "      maybeLoadScript(\"vega\", \"5\")\n",
       "        .then(() => maybeLoadScript(\"vega-lite\", \"5.20.1\"))\n",
       "        .then(() => maybeLoadScript(\"vega-embed\", \"6\"))\n",
       "        .catch(showError)\n",
       "        .then(() => displayChart(vegaEmbed));\n",
       "    }\n",
       "  })({\"config\": {\"view\": {\"continuousWidth\": 300, \"continuousHeight\": 300}}, \"data\": {\"name\": \"data-1de06025ff7f9a5a7c24807992263b7f\"}, \"mark\": {\"type\": \"line\", \"tooltip\": true}, \"encoding\": {\"x\": {\"field\": \"index\", \"type\": \"quantitative\"}, \"y\": {\"field\": \"rain_mm\", \"type\": \"quantitative\"}}, \"params\": [{\"name\": \"param_1\", \"select\": {\"type\": \"interval\", \"encodings\": [\"x\", \"y\"]}, \"bind\": \"scales\"}], \"$schema\": \"https://vega.github.io/schema/vega-lite/v5.20.1.json\", \"datasets\": {\"data-1de06025ff7f9a5a7c24807992263b7f\": [{\"index\": 0, \"rain_mm\": 0.225}, {\"index\": 1, \"rain_mm\": 0.0}, {\"index\": 2, \"rain_mm\": 0.0}, {\"index\": 3, \"rain_mm\": 0.0}, {\"index\": 4, \"rain_mm\": 0.0}, {\"index\": 5, \"rain_mm\": 0.0}, {\"index\": 6, \"rain_mm\": 0.0}, {\"index\": 7, \"rain_mm\": 0.0}, {\"index\": 8, \"rain_mm\": 0.0}, {\"index\": 9, \"rain_mm\": 0.0}, {\"index\": 10, \"rain_mm\": 0.125}, {\"index\": 11, \"rain_mm\": 0.0}, {\"index\": 12, \"rain_mm\": 0.0}, {\"index\": 13, \"rain_mm\": 0.0}, {\"index\": 14, \"rain_mm\": 0.0}, {\"index\": 15, \"rain_mm\": 0.0}, {\"index\": 16, \"rain_mm\": 0.7833333333333335}, {\"index\": 17, \"rain_mm\": NaN}, {\"index\": 18, \"rain_mm\": 0.041666666666666664}, {\"index\": 19, \"rain_mm\": 0.4583333333333333}, {\"index\": 20, \"rain_mm\": 0.9}, {\"index\": 21, \"rain_mm\": 0.0}, {\"index\": 22, \"rain_mm\": NaN}, {\"index\": 23, \"rain_mm\": 0.0}, {\"index\": 24, \"rain_mm\": 0.08333333333333333}, {\"index\": 25, \"rain_mm\": 0.03333333333333333}, {\"index\": 26, \"rain_mm\": 0.0}, {\"index\": 27, \"rain_mm\": NaN}, {\"index\": 28, \"rain_mm\": NaN}, {\"index\": 29, \"rain_mm\": NaN}, {\"index\": 30, \"rain_mm\": 0.0}, {\"index\": 31, \"rain_mm\": 0.0}, {\"index\": 32, \"rain_mm\": 0.0}, {\"index\": 33, \"rain_mm\": 0.0}, {\"index\": 34, \"rain_mm\": 0.008333333333333333}, {\"index\": 35, \"rain_mm\": 0.012499999999999999}, {\"index\": 36, \"rain_mm\": 0.10833333333333334}, {\"index\": 37, \"rain_mm\": 0.8583333333333333}, {\"index\": 38, \"rain_mm\": NaN}, {\"index\": 39, \"rain_mm\": 1.9083333333333334}, {\"index\": 40, \"rain_mm\": 0.5583333333333333}, {\"index\": 41, \"rain_mm\": 0.03333333333333333}, {\"index\": 42, \"rain_mm\": 0.0375}, {\"index\": 43, \"rain_mm\": 0.0}, {\"index\": 44, \"rain_mm\": 0.008333333333333333}, {\"index\": 45, \"rain_mm\": 0.8166666666666668}, {\"index\": 46, \"rain_mm\": 0.5416666666666666}, {\"index\": 47, \"rain_mm\": 0.4416666666666666}, {\"index\": 48, \"rain_mm\": 0.6583333333333333}, {\"index\": 49, \"rain_mm\": 0.28750000000000003}, {\"index\": 50, \"rain_mm\": 0.15}, {\"index\": 51, \"rain_mm\": 0.008333333333333333}, {\"index\": 52, \"rain_mm\": 0.0}, {\"index\": 53, \"rain_mm\": 0.0}, {\"index\": 54, \"rain_mm\": 0.0}, {\"index\": 55, \"rain_mm\": 0.0}, {\"index\": 56, \"rain_mm\": 0.0}, {\"index\": 57, \"rain_mm\": 0.21666666666666667}, {\"index\": 58, \"rain_mm\": 0.5749999999999998}, {\"index\": 59, \"rain_mm\": 0.7083333333333331}, {\"index\": 60, \"rain_mm\": 0.03333333333333333}, {\"index\": 61, \"rain_mm\": 0.075}, {\"index\": 62, \"rain_mm\": 0.0}, {\"index\": 63, \"rain_mm\": 0.23749999999999996}, {\"index\": 64, \"rain_mm\": 0.7749999999999999}, {\"index\": 65, \"rain_mm\": 0.125}, {\"index\": 66, \"rain_mm\": 0.9916666666666666}, {\"index\": 67, \"rain_mm\": 1.5416666666666667}, {\"index\": 68, \"rain_mm\": 0.5833333333333334}, {\"index\": 69, \"rain_mm\": 0.15000000000000002}, {\"index\": 70, \"rain_mm\": 0.0625}, {\"index\": 71, \"rain_mm\": 0.0}, {\"index\": 72, \"rain_mm\": 0.0}, {\"index\": 73, \"rain_mm\": 0.0}, {\"index\": 74, \"rain_mm\": 0.0}, {\"index\": 75, \"rain_mm\": 0.0}, {\"index\": 76, \"rain_mm\": 0.0}, {\"index\": 77, \"rain_mm\": 0.0}, {\"index\": 78, \"rain_mm\": 0.0}, {\"index\": 79, \"rain_mm\": 0.0}, {\"index\": 80, \"rain_mm\": 0.0}, {\"index\": 81, \"rain_mm\": 0.0}, {\"index\": 82, \"rain_mm\": 0.09166666666666667}, {\"index\": 83, \"rain_mm\": 0.65}, {\"index\": 84, \"rain_mm\": 1.8875}, {\"index\": 85, \"rain_mm\": 0.5666666666666668}, {\"index\": 86, \"rain_mm\": 0.049999999999999996}, {\"index\": 87, \"rain_mm\": 0.15833333333333335}, {\"index\": 88, \"rain_mm\": 1.5166666666666668}, {\"index\": 89, \"rain_mm\": 2.4166666666666665}, {\"index\": 90, \"rain_mm\": 0.4749999999999999}, {\"index\": 91, \"rain_mm\": 0.225}, {\"index\": 92, \"rain_mm\": 0.125}, {\"index\": 93, \"rain_mm\": 0.425}, {\"index\": 94, \"rain_mm\": 0.008333333333333333}, {\"index\": 95, \"rain_mm\": 0.0}, {\"index\": 96, \"rain_mm\": 0.0}, {\"index\": 97, \"rain_mm\": 0.27499999999999997}, {\"index\": 98, \"rain_mm\": 0.0375}, {\"index\": 99, \"rain_mm\": 0.0}, {\"index\": 100, \"rain_mm\": 0.0}, {\"index\": 101, \"rain_mm\": 0.775}, {\"index\": 102, \"rain_mm\": 1.3083333333333333}, {\"index\": 103, \"rain_mm\": 0.44999999999999996}, {\"index\": 104, \"rain_mm\": 0.18333333333333335}, {\"index\": 105, \"rain_mm\": 2.6125000000000003}, {\"index\": 106, \"rain_mm\": 0.17500000000000002}, {\"index\": 107, \"rain_mm\": 0.03333333333333333}, {\"index\": 108, \"rain_mm\": 0.0}, {\"index\": 109, \"rain_mm\": 0.0}, {\"index\": 110, \"rain_mm\": 0.0}, {\"index\": 111, \"rain_mm\": 0.2833333333333334}, {\"index\": 112, \"rain_mm\": 0.0}, {\"index\": 113, \"rain_mm\": 0.0}, {\"index\": 114, \"rain_mm\": 0.0}, {\"index\": 115, \"rain_mm\": 0.35833333333333334}, {\"index\": 116, \"rain_mm\": 0.2416666666666667}, {\"index\": 117, \"rain_mm\": 0.05833333333333333}, {\"index\": 118, \"rain_mm\": 0.3166666666666667}, {\"index\": 119, \"rain_mm\": 0.9750000000000001}, {\"index\": 120, \"rain_mm\": 0.3166666666666667}, {\"index\": 121, \"rain_mm\": 0.18333333333333335}, {\"index\": 122, \"rain_mm\": 0.0}, {\"index\": 123, \"rain_mm\": 0.0}, {\"index\": 124, \"rain_mm\": 0.0}, {\"index\": 125, \"rain_mm\": 0.0}, {\"index\": 126, \"rain_mm\": 0.0}, {\"index\": 127, \"rain_mm\": 0.0}, {\"index\": 128, \"rain_mm\": 0.008333333333333333}, {\"index\": 129, \"rain_mm\": 0.0}, {\"index\": 130, \"rain_mm\": 0.0}, {\"index\": 131, \"rain_mm\": 0.05833333333333333}, {\"index\": 132, \"rain_mm\": 0.1416666666666667}, {\"index\": 133, \"rain_mm\": 0.9625}, {\"index\": 134, \"rain_mm\": 0.008333333333333333}, {\"index\": 135, \"rain_mm\": 0.016666666666666666}, {\"index\": 136, \"rain_mm\": 1.3499999999999999}, {\"index\": 137, \"rain_mm\": 1.3333333333333333}, {\"index\": 138, \"rain_mm\": 0.9333333333333332}, {\"index\": 139, \"rain_mm\": 2.1083333333333334}, {\"index\": 140, \"rain_mm\": 0.36250000000000004}, {\"index\": 141, \"rain_mm\": 0.6833333333333332}, {\"index\": 142, \"rain_mm\": 0.2666666666666667}, {\"index\": 143, \"rain_mm\": 0.3}, {\"index\": 144, \"rain_mm\": 1.225}, {\"index\": 145, \"rain_mm\": 2.5749999999999997}, {\"index\": 146, \"rain_mm\": 1.7166666666666661}, {\"index\": 147, \"rain_mm\": 0.625}, {\"index\": 148, \"rain_mm\": 0.7166666666666668}, {\"index\": 149, \"rain_mm\": 0.625}, {\"index\": 150, \"rain_mm\": 0.23333333333333336}, {\"index\": 151, \"rain_mm\": NaN}, {\"index\": 152, \"rain_mm\": 0.0}, {\"index\": 153, \"rain_mm\": 0.0}, {\"index\": 154, \"rain_mm\": 0.0}, {\"index\": 155, \"rain_mm\": 0.0}, {\"index\": 156, \"rain_mm\": 0.0}, {\"index\": 157, \"rain_mm\": 0.0}, {\"index\": 158, \"rain_mm\": 0.0}, {\"index\": 159, \"rain_mm\": 0.0}, {\"index\": 160, \"rain_mm\": 0.0}, {\"index\": 161, \"rain_mm\": 0.0}, {\"index\": 162, \"rain_mm\": 0.0}, {\"index\": 163, \"rain_mm\": 0.0}, {\"index\": 164, \"rain_mm\": 0.5166666666666667}, {\"index\": 165, \"rain_mm\": 1.3333333333333333}, {\"index\": 166, \"rain_mm\": 0.44166666666666665}, {\"index\": 167, \"rain_mm\": 0.0}, {\"index\": 168, \"rain_mm\": 0.012499999999999999}, {\"index\": 169, \"rain_mm\": 0.3666666666666667}, {\"index\": 170, \"rain_mm\": 0.0}, {\"index\": 171, \"rain_mm\": 0.0}, {\"index\": 172, \"rain_mm\": 0.008333333333333333}, {\"index\": 173, \"rain_mm\": 0.0}, {\"index\": 174, \"rain_mm\": 0.0}, {\"index\": 175, \"rain_mm\": 0.6625}, {\"index\": 176, \"rain_mm\": 0.0}, {\"index\": 177, \"rain_mm\": 0.47500000000000003}, {\"index\": 178, \"rain_mm\": 0.0}, {\"index\": 179, \"rain_mm\": 0.0}, {\"index\": 180, \"rain_mm\": 0.0}, {\"index\": 181, \"rain_mm\": 0.0}, {\"index\": 182, \"rain_mm\": 0.0}, {\"index\": 183, \"rain_mm\": 0.0}, {\"index\": 184, \"rain_mm\": 0.0}, {\"index\": 185, \"rain_mm\": 0.0}, {\"index\": 186, \"rain_mm\": 0.31666666666666665}, {\"index\": 187, \"rain_mm\": 1.125}, {\"index\": 188, \"rain_mm\": 0.0}, {\"index\": 189, \"rain_mm\": 0.09999999999999999}, {\"index\": 190, \"rain_mm\": 0.0}, {\"index\": 191, \"rain_mm\": 0.0}, {\"index\": 192, \"rain_mm\": 0.0}, {\"index\": 193, \"rain_mm\": 0.0}, {\"index\": 194, \"rain_mm\": 0.0}, {\"index\": 195, \"rain_mm\": 0.0}, {\"index\": 196, \"rain_mm\": 0.0}, {\"index\": 197, \"rain_mm\": 0.0}, {\"index\": 198, \"rain_mm\": 0.0}, {\"index\": 199, \"rain_mm\": 0.0}, {\"index\": 200, \"rain_mm\": NaN}, {\"index\": 201, \"rain_mm\": NaN}, {\"index\": 202, \"rain_mm\": 1.0250000000000001}, {\"index\": 203, \"rain_mm\": 0.0}, {\"index\": 204, \"rain_mm\": 0.0}, {\"index\": 205, \"rain_mm\": 0.0}, {\"index\": 206, \"rain_mm\": 0.008333333333333333}, {\"index\": 207, \"rain_mm\": 1.5583333333333333}, {\"index\": 208, \"rain_mm\": 1.2666666666666668}, {\"index\": 209, \"rain_mm\": 0.0}, {\"index\": 210, \"rain_mm\": 0.7749999999999999}, {\"index\": 211, \"rain_mm\": 0.0}, {\"index\": 212, \"rain_mm\": 1.3416666666666668}, {\"index\": 213, \"rain_mm\": 0.7833333333333332}, {\"index\": 214, \"rain_mm\": 0.0}, {\"index\": 215, \"rain_mm\": 0.0}, {\"index\": 216, \"rain_mm\": 0.325}, {\"index\": 217, \"rain_mm\": 0.049999999999999996}, {\"index\": 218, \"rain_mm\": 0.21666666666666667}, {\"index\": 219, \"rain_mm\": 0.15833333333333335}, {\"index\": 220, \"rain_mm\": 0.15833333333333333}, {\"index\": 221, \"rain_mm\": 0.03333333333333333}, {\"index\": 222, \"rain_mm\": 0.22500000000000006}, {\"index\": 223, \"rain_mm\": 0.3916666666666666}, {\"index\": 224, \"rain_mm\": 0.0}, {\"index\": 225, \"rain_mm\": 0.125}, {\"index\": 226, \"rain_mm\": 0.5583333333333333}, {\"index\": 227, \"rain_mm\": 0.008333333333333333}, {\"index\": 228, \"rain_mm\": 0.0}, {\"index\": 229, \"rain_mm\": 1.2833333333333334}, {\"index\": 230, \"rain_mm\": 0.8583333333333334}, {\"index\": 231, \"rain_mm\": 1.325}, {\"index\": 232, \"rain_mm\": 1.1916666666666667}, {\"index\": 233, \"rain_mm\": 0.30000000000000004}, {\"index\": 234, \"rain_mm\": 0.0}, {\"index\": 235, \"rain_mm\": 0.425}, {\"index\": 236, \"rain_mm\": 0.5000000000000001}, {\"index\": 237, \"rain_mm\": 1.6666666666666667}, {\"index\": 238, \"rain_mm\": 0.8624999999999999}, {\"index\": 239, \"rain_mm\": 1.05}, {\"index\": 240, \"rain_mm\": 0.5666666666666668}, {\"index\": 241, \"rain_mm\": 1.0833333333333333}, {\"index\": 242, \"rain_mm\": 0.016666666666666666}, {\"index\": 243, \"rain_mm\": 0.016666666666666666}, {\"index\": 244, \"rain_mm\": 0.008333333333333333}, {\"index\": 245, \"rain_mm\": 2.3249999999999997}, {\"index\": 246, \"rain_mm\": 0.0}, {\"index\": 247, \"rain_mm\": 0.016666666666666666}, {\"index\": 248, \"rain_mm\": 0.0}, {\"index\": 249, \"rain_mm\": 0.024999999999999998}, {\"index\": 250, \"rain_mm\": 0.0}, {\"index\": 251, \"rain_mm\": 0.0}, {\"index\": 252, \"rain_mm\": 0.0}, {\"index\": 253, \"rain_mm\": 0.0}, {\"index\": 254, \"rain_mm\": 0.0}, {\"index\": 255, \"rain_mm\": 0.0}, {\"index\": 256, \"rain_mm\": 0.0}, {\"index\": 257, \"rain_mm\": 0.0}, {\"index\": 258, \"rain_mm\": 0.0}, {\"index\": 259, \"rain_mm\": 0.6625}, {\"index\": 260, \"rain_mm\": 0.125}, {\"index\": 261, \"rain_mm\": 0.4583333333333333}, {\"index\": 262, \"rain_mm\": 0.0}, {\"index\": 263, \"rain_mm\": 0.0}, {\"index\": 264, \"rain_mm\": 0.0}, {\"index\": 265, \"rain_mm\": 0.0}, {\"index\": 266, \"rain_mm\": 0.0}, {\"index\": 267, \"rain_mm\": 0.0}, {\"index\": 268, \"rain_mm\": 0.016666666666666666}, {\"index\": 269, \"rain_mm\": 0.06666666666666667}, {\"index\": 270, \"rain_mm\": 0.0}, {\"index\": 271, \"rain_mm\": 0.0}, {\"index\": 272, \"rain_mm\": 0.008333333333333333}, {\"index\": 273, \"rain_mm\": 0.325}, {\"index\": 274, \"rain_mm\": 0.0}, {\"index\": 275, \"rain_mm\": 0.25}, {\"index\": 276, \"rain_mm\": 0.34166666666666673}, {\"index\": 277, \"rain_mm\": 0.0}, {\"index\": 278, \"rain_mm\": 0.9416666666666664}, {\"index\": 279, \"rain_mm\": 0.7000000000000002}, {\"index\": 280, \"rain_mm\": 0.0}, {\"index\": 281, \"rain_mm\": 0.0}, {\"index\": 282, \"rain_mm\": 0.0}, {\"index\": 283, \"rain_mm\": 0.0}, {\"index\": 284, \"rain_mm\": 0.0}, {\"index\": 285, \"rain_mm\": 0.075}, {\"index\": 286, \"rain_mm\": 0.016666666666666666}, {\"index\": 287, \"rain_mm\": 0.0}, {\"index\": 288, \"rain_mm\": 0.0}, {\"index\": 289, \"rain_mm\": 0.0}, {\"index\": 290, \"rain_mm\": 0.0}, {\"index\": 291, \"rain_mm\": 0.008333333333333333}, {\"index\": 292, \"rain_mm\": 0.3333333333333333}, {\"index\": 293, \"rain_mm\": 0.10000000000000002}, {\"index\": 294, \"rain_mm\": 0.1125}, {\"index\": 295, \"rain_mm\": NaN}, {\"index\": 296, \"rain_mm\": 2.0583333333333336}, {\"index\": 297, \"rain_mm\": 0.016666666666666666}, {\"index\": 298, \"rain_mm\": 0.0}, {\"index\": 299, \"rain_mm\": 0.025000000000000005}, {\"index\": 300, \"rain_mm\": 0.8666666666666666}, {\"index\": 301, \"rain_mm\": 0.5875}, {\"index\": 302, \"rain_mm\": 0.008333333333333333}, {\"index\": 303, \"rain_mm\": 0.6833333333333332}, {\"index\": 304, \"rain_mm\": 0.35000000000000003}, {\"index\": 305, \"rain_mm\": 0.5166666666666667}, {\"index\": 306, \"rain_mm\": 0.1416666666666667}, {\"index\": 307, \"rain_mm\": 0.19999999999999998}, {\"index\": 308, \"rain_mm\": 0.7000000000000001}, {\"index\": 309, \"rain_mm\": 0.0}, {\"index\": 310, \"rain_mm\": 0.0}, {\"index\": 311, \"rain_mm\": 0.17499999999999996}, {\"index\": 312, \"rain_mm\": 1.4249999999999998}, {\"index\": 313, \"rain_mm\": 0.0}, {\"index\": 314, \"rain_mm\": 0.7999999999999999}, {\"index\": 315, \"rain_mm\": NaN}, {\"index\": 316, \"rain_mm\": NaN}, {\"index\": 317, \"rain_mm\": 0.7333333333333334}, {\"index\": 318, \"rain_mm\": 0.09999999999999999}, {\"index\": 319, \"rain_mm\": 0.008333333333333333}, {\"index\": 320, \"rain_mm\": 0.7083333333333334}, {\"index\": 321, \"rain_mm\": 0.025000000000000005}, {\"index\": 322, \"rain_mm\": 1.7249999999999999}, {\"index\": 323, \"rain_mm\": 0.17500000000000002}, {\"index\": 324, \"rain_mm\": 0.7083333333333334}, {\"index\": 325, \"rain_mm\": 0.03333333333333333}, {\"index\": 326, \"rain_mm\": 1.1833333333333333}, {\"index\": 327, \"rain_mm\": 0.4166666666666667}, {\"index\": 328, \"rain_mm\": 0.25000000000000006}, {\"index\": 329, \"rain_mm\": 0.0}, {\"index\": 330, \"rain_mm\": 0.0}, {\"index\": 331, \"rain_mm\": 0.0}, {\"index\": 332, \"rain_mm\": 0.06666666666666667}, {\"index\": 333, \"rain_mm\": 0.0}, {\"index\": 334, \"rain_mm\": 0.0}, {\"index\": 335, \"rain_mm\": 0.0}, {\"index\": 336, \"rain_mm\": 1.4749999999999999}, {\"index\": 337, \"rain_mm\": 0.6833333333333332}, {\"index\": 338, \"rain_mm\": 0.5833333333333334}, {\"index\": 339, \"rain_mm\": 0.6499999999999999}, {\"index\": 340, \"rain_mm\": 0.875}, {\"index\": 341, \"rain_mm\": 0.9083333333333335}, {\"index\": 342, \"rain_mm\": 0.20833333333333334}, {\"index\": 343, \"rain_mm\": 0.0375}, {\"index\": 344, \"rain_mm\": 0.725}, {\"index\": 345, \"rain_mm\": 0.6333333333333334}, {\"index\": 346, \"rain_mm\": NaN}, {\"index\": 347, \"rain_mm\": 0.0}, {\"index\": 348, \"rain_mm\": 0.0}, {\"index\": 349, \"rain_mm\": 0.45}, {\"index\": 350, \"rain_mm\": 0.6000000000000001}, {\"index\": 351, \"rain_mm\": 0.09166666666666667}, {\"index\": 352, \"rain_mm\": 0.0}, {\"index\": 353, \"rain_mm\": 0.0}, {\"index\": 354, \"rain_mm\": 0.03333333333333333}, {\"index\": 355, \"rain_mm\": 0.0}, {\"index\": 356, \"rain_mm\": 0.0}, {\"index\": 357, \"rain_mm\": 431.25}, {\"index\": 358, \"rain_mm\": 0.0}, {\"index\": 359, \"rain_mm\": 0.0}, {\"index\": 360, \"rain_mm\": 0.0}, {\"index\": 361, \"rain_mm\": 0.23333333333333336}, {\"index\": 362, \"rain_mm\": 0.0}, {\"index\": 363, \"rain_mm\": 0.5166666666666667}, {\"index\": 364, \"rain_mm\": 0.6375000000000001}, {\"index\": 365, \"rain_mm\": 0.6166666666666668}, {\"index\": 366, \"rain_mm\": 0.3458333333333334}, {\"index\": 367, \"rain_mm\": 0.09583333333333334}, {\"index\": 368, \"rain_mm\": 0.4333333333333333}, {\"index\": 369, \"rain_mm\": 0.24166666666666667}, {\"index\": 370, \"rain_mm\": 0.6833333333333332}, {\"index\": 371, \"rain_mm\": 0.47500000000000003}, {\"index\": 372, \"rain_mm\": 0.2416666666666667}, {\"index\": 373, \"rain_mm\": 0.17500000000000002}, {\"index\": 374, \"rain_mm\": 0.2916666666666667}, {\"index\": 375, \"rain_mm\": 0.625}, {\"index\": 376, \"rain_mm\": 0.2541666666666667}, {\"index\": 377, \"rain_mm\": 0.26666666666666666}, {\"index\": 378, \"rain_mm\": 0.375}, {\"index\": 379, \"rain_mm\": 0.0}, {\"index\": 380, \"rain_mm\": 0.0}, {\"index\": 381, \"rain_mm\": 0.4166666666666667}, {\"index\": 382, \"rain_mm\": 1.854166666666666}, {\"index\": 383, \"rain_mm\": 0.33749999999999997}, {\"index\": 384, \"rain_mm\": 0.3}, {\"index\": 385, \"rain_mm\": 0.40625000000000006}, {\"index\": 386, \"rain_mm\": 0.029166666666666664}, {\"index\": 387, \"rain_mm\": 0.0}, {\"index\": 388, \"rain_mm\": 0.0}, {\"index\": 389, \"rain_mm\": 0.008333333333333333}, {\"index\": 390, \"rain_mm\": 0.21666666666666665}, {\"index\": 391, \"rain_mm\": 0.07083333333333333}, {\"index\": 392, \"rain_mm\": 0.39375000000000004}, {\"index\": 393, \"rain_mm\": 0.15833333333333333}, {\"index\": 394, \"rain_mm\": 0.04166666666666668}, {\"index\": 395, \"rain_mm\": 0.075}, {\"index\": 396, \"rain_mm\": 0.07083333333333333}, {\"index\": 397, \"rain_mm\": 0.025000000000000005}, {\"index\": 398, \"rain_mm\": 0.05833333333333334}, {\"index\": 399, \"rain_mm\": 0.0}, {\"index\": 400, \"rain_mm\": 0.0375}, {\"index\": 401, \"rain_mm\": 0.05416666666666667}, {\"index\": 402, \"rain_mm\": 0.04583333333333333}, {\"index\": 403, \"rain_mm\": 4.420833333333333}, {\"index\": 404, \"rain_mm\": 0.14583333333333331}, {\"index\": 405, \"rain_mm\": 0.07916666666666668}, {\"index\": 406, \"rain_mm\": 0.7000000000000001}, {\"index\": 407, \"rain_mm\": 0.4958333333333334}, {\"index\": 408, \"rain_mm\": 0.775}, {\"index\": 409, \"rain_mm\": 0.2833333333333334}, {\"index\": 410, \"rain_mm\": 0.03333333333333333}, {\"index\": 411, \"rain_mm\": 0.0}, {\"index\": 412, \"rain_mm\": 0.0}, {\"index\": 413, \"rain_mm\": 0.0}, {\"index\": 414, \"rain_mm\": 0.0}, {\"index\": 415, \"rain_mm\": 0.0}, {\"index\": 416, \"rain_mm\": 0.17500000000000002}, {\"index\": 417, \"rain_mm\": 0.0}, {\"index\": 418, \"rain_mm\": 0.07083333333333335}, {\"index\": 419, \"rain_mm\": 0.5083333333333333}, {\"index\": 420, \"rain_mm\": 0.7937500000000001}, {\"index\": 421, \"rain_mm\": 0.47083333333333344}, {\"index\": 422, \"rain_mm\": 0.5625}, {\"index\": 423, \"rain_mm\": 0.4750000000000001}, {\"index\": 424, \"rain_mm\": 0.7000000000000001}, {\"index\": 425, \"rain_mm\": 0.2333333333333333}, {\"index\": 426, \"rain_mm\": 0.6791666666666666}, {\"index\": 427, \"rain_mm\": 0.0}, {\"index\": 428, \"rain_mm\": 0.08750000000000001}, {\"index\": 429, \"rain_mm\": 0.19999999999999998}, {\"index\": 430, \"rain_mm\": 0.4041666666666666}, {\"index\": 431, \"rain_mm\": 0.0}, {\"index\": 432, \"rain_mm\": 0.22916666666666663}, {\"index\": 433, \"rain_mm\": 0.0}, {\"index\": 434, \"rain_mm\": 0.0}, {\"index\": 435, \"rain_mm\": 0.0}, {\"index\": 436, \"rain_mm\": 0.0}, {\"index\": 437, \"rain_mm\": 0.0}, {\"index\": 438, \"rain_mm\": 0.0}, {\"index\": 439, \"rain_mm\": 3.125}, {\"index\": 440, \"rain_mm\": 0.39583333333333326}, {\"index\": 441, \"rain_mm\": 0.525}, {\"index\": 442, \"rain_mm\": 0.22916666666666666}, {\"index\": 443, \"rain_mm\": 0.12083333333333333}, {\"index\": 444, \"rain_mm\": 0.21666666666666665}, {\"index\": 445, \"rain_mm\": 0.6333333333333332}, {\"index\": 446, \"rain_mm\": 0.1625}, {\"index\": 447, \"rain_mm\": 0.016666666666666666}, {\"index\": 448, \"rain_mm\": 0.0}, {\"index\": 449, \"rain_mm\": 0.0}, {\"index\": 450, \"rain_mm\": 0.0}, {\"index\": 451, \"rain_mm\": 0.0}, {\"index\": 452, \"rain_mm\": 0.041666666666666664}, {\"index\": 453, \"rain_mm\": 0.020833333333333332}, {\"index\": 454, \"rain_mm\": 0.0}, {\"index\": 455, \"rain_mm\": 0.0}, {\"index\": 456, \"rain_mm\": 0.0}, {\"index\": 457, \"rain_mm\": 0.05833333333333334}, {\"index\": 458, \"rain_mm\": 0.0}, {\"index\": 459, \"rain_mm\": 0.0}, {\"index\": 460, \"rain_mm\": 0.0}, {\"index\": 461, \"rain_mm\": 0.0}, {\"index\": 462, \"rain_mm\": 0.0}, {\"index\": 463, \"rain_mm\": 0.0}, {\"index\": 464, \"rain_mm\": 0.0}, {\"index\": 465, \"rain_mm\": 0.0}, {\"index\": 466, \"rain_mm\": 0.0}, {\"index\": 467, \"rain_mm\": 0.0}, {\"index\": 468, \"rain_mm\": 0.0}, {\"index\": 469, \"rain_mm\": 0.0}, {\"index\": 470, \"rain_mm\": 0.0}, {\"index\": 471, \"rain_mm\": 0.0}, {\"index\": 472, \"rain_mm\": 0.0}, {\"index\": 473, \"rain_mm\": 0.0}, {\"index\": 474, \"rain_mm\": 0.0}, {\"index\": 475, \"rain_mm\": 0.0}, {\"index\": 476, \"rain_mm\": 0.0}, {\"index\": 477, \"rain_mm\": 208.1291666666667}, {\"index\": 478, \"rain_mm\": 0.0}, {\"index\": 479, \"rain_mm\": 0.0}, {\"index\": 480, \"rain_mm\": 0.0}, {\"index\": 481, \"rain_mm\": 0.0}, {\"index\": 482, \"rain_mm\": 0.0}, {\"index\": 483, \"rain_mm\": 0.0}, {\"index\": 484, \"rain_mm\": 0.0}, {\"index\": 485, \"rain_mm\": 0.0}, {\"index\": 486, \"rain_mm\": 0.0}, {\"index\": 487, \"rain_mm\": 0.0}, {\"index\": 488, \"rain_mm\": 0.0}, {\"index\": 489, \"rain_mm\": 0.0}, {\"index\": 490, \"rain_mm\": 0.0}, {\"index\": 491, \"rain_mm\": 1.4291666666666665}, {\"index\": 492, \"rain_mm\": 0.8208333333333333}, {\"index\": 493, \"rain_mm\": 0.7166666666666667}, {\"index\": 494, \"rain_mm\": 0.1875}, {\"index\": 495, \"rain_mm\": 0.19166666666666665}, {\"index\": 496, \"rain_mm\": 0.5833333333333334}, {\"index\": 497, \"rain_mm\": 0.3125}, {\"index\": 498, \"rain_mm\": 0.012500000000000002}, {\"index\": 499, \"rain_mm\": 0.6791666666666667}, {\"index\": 500, \"rain_mm\": 0.7083333333333334}, {\"index\": 501, \"rain_mm\": 0.0}, {\"index\": 502, \"rain_mm\": 0.0}, {\"index\": 503, \"rain_mm\": 0.07083333333333333}, {\"index\": 504, \"rain_mm\": 0.0}, {\"index\": 505, \"rain_mm\": 0.0}, {\"index\": 506, \"rain_mm\": 0.0}, {\"index\": 507, \"rain_mm\": 0.0}, {\"index\": 508, \"rain_mm\": 0.0}, {\"index\": 509, \"rain_mm\": 0.0375}, {\"index\": 510, \"rain_mm\": 1.0916666666666666}, {\"index\": 511, \"rain_mm\": 0.35000000000000003}, {\"index\": 512, \"rain_mm\": 0.38333333333333325}, {\"index\": 513, \"rain_mm\": 0.9041666666666665}, {\"index\": 514, \"rain_mm\": 0.0}, {\"index\": 515, \"rain_mm\": 0.0}, {\"index\": 516, \"rain_mm\": 0.0}, {\"index\": 517, \"rain_mm\": 0.0}, {\"index\": 518, \"rain_mm\": 0.0}, {\"index\": 519, \"rain_mm\": 0.0}, {\"index\": 520, \"rain_mm\": 0.0}, {\"index\": 521, \"rain_mm\": 0.0}, {\"index\": 522, \"rain_mm\": 0.0}, {\"index\": 523, \"rain_mm\": 0.004166666666666667}, {\"index\": 524, \"rain_mm\": NaN}, {\"index\": 525, \"rain_mm\": 0.043750000000000004}, {\"index\": 526, \"rain_mm\": 0.08750000000000001}, {\"index\": 527, \"rain_mm\": 0.004166666666666667}, {\"index\": 528, \"rain_mm\": 0.0}, {\"index\": 529, \"rain_mm\": 0.2416666666666666}, {\"index\": 530, \"rain_mm\": 0.24166666666666667}, {\"index\": 531, \"rain_mm\": 0.5375}, {\"index\": 532, \"rain_mm\": 0.01875}, {\"index\": 533, \"rain_mm\": 0.33333333333333326}, {\"index\": 534, \"rain_mm\": 0.0}, {\"index\": 535, \"rain_mm\": 0.016666666666666666}, {\"index\": 536, \"rain_mm\": 1.3541666666666667}, {\"index\": 537, \"rain_mm\": 0.08750000000000001}, {\"index\": 538, \"rain_mm\": 0.17499999999999996}, {\"index\": 539, \"rain_mm\": 0.0}, {\"index\": 540, \"rain_mm\": NaN}, {\"index\": 541, \"rain_mm\": 0.6208333333333333}, {\"index\": 542, \"rain_mm\": 0.07083333333333335}, {\"index\": 543, \"rain_mm\": 0.16666666666666666}, {\"index\": 544, \"rain_mm\": 0.09166666666666667}, {\"index\": 545, \"rain_mm\": 0.008333333333333333}, {\"index\": 546, \"rain_mm\": 3.9375}, {\"index\": 547, \"rain_mm\": 0.6666666666666666}, {\"index\": 548, \"rain_mm\": 1.2083333333333333}, {\"index\": 549, \"rain_mm\": 2.9791666666666665}, {\"index\": 550, \"rain_mm\": 4.229166666666667}, {\"index\": 551, \"rain_mm\": 0.6875}, {\"index\": 552, \"rain_mm\": 0.041666666666666664}, {\"index\": 553, \"rain_mm\": 0.0}, {\"index\": 554, \"rain_mm\": 1.3958333333333333}, {\"index\": 555, \"rain_mm\": NaN}, {\"index\": 556, \"rain_mm\": 0.6458333333333334}, {\"index\": 557, \"rain_mm\": 0.25}, {\"index\": 558, \"rain_mm\": 0.5625}, {\"index\": 559, \"rain_mm\": 0.7291666666666666}, {\"index\": 560, \"rain_mm\": 0.0}, {\"index\": 561, \"rain_mm\": 0.0}, {\"index\": 562, \"rain_mm\": 0.0}, {\"index\": 563, \"rain_mm\": 0.0}, {\"index\": 564, \"rain_mm\": 0.3958333333333333}, {\"index\": 565, \"rain_mm\": 1.125}, {\"index\": 566, \"rain_mm\": 0.14583333333333334}, {\"index\": 567, \"rain_mm\": 0.0}, {\"index\": 568, \"rain_mm\": 0.5625}, {\"index\": 569, \"rain_mm\": 3.0208333333333335}, {\"index\": 570, \"rain_mm\": 0.0}, {\"index\": 571, \"rain_mm\": 0.0}, {\"index\": 572, \"rain_mm\": 0.3541666666666667}, {\"index\": 573, \"rain_mm\": 4.666666666666667}, {\"index\": 574, \"rain_mm\": 7.6875}, {\"index\": 575, \"rain_mm\": 0.875}, {\"index\": 576, \"rain_mm\": 0.07083333333333335}, {\"index\": 577, \"rain_mm\": 0.0}, {\"index\": 578, \"rain_mm\": 0.30416666666666664}, {\"index\": 579, \"rain_mm\": 0.05833333333333333}, {\"index\": 580, \"rain_mm\": 0.0}, {\"index\": 581, \"rain_mm\": 0.0}, {\"index\": 582, \"rain_mm\": 0.0}, {\"index\": 583, \"rain_mm\": 0.4041666666666666}, {\"index\": 584, \"rain_mm\": 1.2750000000000001}, {\"index\": 585, \"rain_mm\": 0.9541666666666667}, {\"index\": 586, \"rain_mm\": 0.44999999999999996}, {\"index\": 587, \"rain_mm\": 0.0}, {\"index\": 588, \"rain_mm\": 0.0}, {\"index\": 589, \"rain_mm\": 0.008333333333333333}, {\"index\": 590, \"rain_mm\": 0.0}, {\"index\": 591, \"rain_mm\": 0.6124999999999999}, {\"index\": 592, \"rain_mm\": 0.2958333333333333}, {\"index\": 593, \"rain_mm\": 0.008333333333333333}, {\"index\": 594, \"rain_mm\": 0.0}, {\"index\": 595, \"rain_mm\": 0.26875}, {\"index\": 596, \"rain_mm\": 0.14583333333333334}, {\"index\": 597, \"rain_mm\": 1.7791666666666668}, {\"index\": 598, \"rain_mm\": 1.9000000000000001}, {\"index\": 599, \"rain_mm\": 0.275}, {\"index\": 600, \"rain_mm\": 0.0}, {\"index\": 601, \"rain_mm\": 0.0}, {\"index\": 602, \"rain_mm\": 0.0}, {\"index\": 603, \"rain_mm\": 0.0}, {\"index\": 604, \"rain_mm\": 0.0}, {\"index\": 605, \"rain_mm\": 0.0}, {\"index\": 606, \"rain_mm\": 0.10833333333333332}, {\"index\": 607, \"rain_mm\": 0.29583333333333334}, {\"index\": 608, \"rain_mm\": 0.49999999999999994}, {\"index\": 609, \"rain_mm\": 0.0062499999999999995}, {\"index\": 610, \"rain_mm\": 0.7333333333333335}, {\"index\": 611, \"rain_mm\": 0.3333333333333333}, {\"index\": 612, \"rain_mm\": 0.0}, {\"index\": 613, \"rain_mm\": 0.024999999999999998}, {\"index\": 614, \"rain_mm\": 0.08750000000000002}, {\"index\": 615, \"rain_mm\": 0.20833333333333334}, {\"index\": 616, \"rain_mm\": 0.0062499999999999995}, {\"index\": 617, \"rain_mm\": 1.0625}, {\"index\": 618, \"rain_mm\": 0.5666666666666668}, {\"index\": 619, \"rain_mm\": 0.0625}, {\"index\": 620, \"rain_mm\": 0.0}, {\"index\": 621, \"rain_mm\": 0.020833333333333332}, {\"index\": 622, \"rain_mm\": 0.0}, {\"index\": 623, \"rain_mm\": 0.0}, {\"index\": 624, \"rain_mm\": 0.05416666666666666}, {\"index\": 625, \"rain_mm\": 0.3125}, {\"index\": 626, \"rain_mm\": 0.0}, {\"index\": 627, \"rain_mm\": 0.016666666666666666}, {\"index\": 628, \"rain_mm\": 0.0}, {\"index\": 629, \"rain_mm\": 0.0}, {\"index\": 630, \"rain_mm\": 0.0}, {\"index\": 631, \"rain_mm\": 0.016666666666666666}, {\"index\": 632, \"rain_mm\": 0.24166666666666667}, {\"index\": 633, \"rain_mm\": 0.15}, {\"index\": 634, \"rain_mm\": 1.5333333333333332}, {\"index\": 635, \"rain_mm\": 0.5666666666666668}, {\"index\": 636, \"rain_mm\": 2.079166666666666}, {\"index\": 637, \"rain_mm\": 0.0}, {\"index\": 638, \"rain_mm\": 0.041666666666666664}, {\"index\": 639, \"rain_mm\": 0.05416666666666667}, {\"index\": 640, \"rain_mm\": 0.0}, {\"index\": 641, \"rain_mm\": 0.0}, {\"index\": 642, \"rain_mm\": 0.0}, {\"index\": 643, \"rain_mm\": 0.0}, {\"index\": 644, \"rain_mm\": 0.0}, {\"index\": 645, \"rain_mm\": 0.0}, {\"index\": 646, \"rain_mm\": 0.0}, {\"index\": 647, \"rain_mm\": 0.0}, {\"index\": 648, \"rain_mm\": 0.0}, {\"index\": 649, \"rain_mm\": 0.024999999999999998}, {\"index\": 650, \"rain_mm\": 0.0}, {\"index\": 651, \"rain_mm\": 0.0}, {\"index\": 652, \"rain_mm\": 0.0}, {\"index\": 653, \"rain_mm\": 0.0}, {\"index\": 654, \"rain_mm\": 0.21666666666666667}, {\"index\": 655, \"rain_mm\": 0.3208333333333333}, {\"index\": 656, \"rain_mm\": 0.06666666666666667}, {\"index\": 657, \"rain_mm\": 0.0}, {\"index\": 658, \"rain_mm\": 0.15624999999999997}, {\"index\": 659, \"rain_mm\": 0.0}, {\"index\": 660, \"rain_mm\": 0.0}, {\"index\": 661, \"rain_mm\": 0.0}, {\"index\": 662, \"rain_mm\": 0.0}, {\"index\": 663, \"rain_mm\": 0.0}, {\"index\": 664, \"rain_mm\": 0.004166666666666667}, {\"index\": 665, \"rain_mm\": 0.0}, {\"index\": 666, \"rain_mm\": 0.2666666666666667}, {\"index\": 667, \"rain_mm\": 0.31250000000000006}, {\"index\": 668, \"rain_mm\": 0.0}, {\"index\": 669, \"rain_mm\": 0.0}, {\"index\": 670, \"rain_mm\": 0.004166666666666667}, {\"index\": 671, \"rain_mm\": 0.09166666666666667}, {\"index\": 672, \"rain_mm\": 0.012499999999999999}, {\"index\": 673, \"rain_mm\": 0.029166666666666664}, {\"index\": 674, \"rain_mm\": 0.49999999999999994}, {\"index\": 675, \"rain_mm\": 0.5791666666666666}, {\"index\": 676, \"rain_mm\": 0.4875}, {\"index\": 677, \"rain_mm\": 0.6625}, {\"index\": 678, \"rain_mm\": 1.0791666666666666}, {\"index\": 679, \"rain_mm\": 2.3000000000000003}, {\"index\": 680, \"rain_mm\": 0.43333333333333335}, {\"index\": 681, \"rain_mm\": 0.45416666666666666}, {\"index\": 682, \"rain_mm\": 0.041666666666666664}, {\"index\": 683, \"rain_mm\": 0.0}, {\"index\": 684, \"rain_mm\": 0.029166666666666664}, {\"index\": 685, \"rain_mm\": 0.004166666666666667}, {\"index\": 686, \"rain_mm\": 0.0062499999999999995}, {\"index\": 687, \"rain_mm\": 0.012500000000000002}, {\"index\": 688, \"rain_mm\": 0.0}, {\"index\": 689, \"rain_mm\": 0.020833333333333332}, {\"index\": 690, \"rain_mm\": 0.004166666666666667}, {\"index\": 691, \"rain_mm\": 0.041666666666666664}, {\"index\": 692, \"rain_mm\": 0.004166666666666667}, {\"index\": 693, \"rain_mm\": 0.7687499999999999}, {\"index\": 694, \"rain_mm\": 0.2166666666666667}, {\"index\": 695, \"rain_mm\": 0.0375}, {\"index\": 696, \"rain_mm\": 0.0}, {\"index\": 697, \"rain_mm\": 0.13749999999999998}, {\"index\": 698, \"rain_mm\": 0.17083333333333336}, {\"index\": 699, \"rain_mm\": 0.4208333333333334}, {\"index\": 700, \"rain_mm\": 1.46875}, {\"index\": 701, \"rain_mm\": 0.6125}, {\"index\": 702, \"rain_mm\": 0.09583333333333334}, {\"index\": 703, \"rain_mm\": 0.2333333333333333}, {\"index\": 704, \"rain_mm\": 0.4041666666666666}, {\"index\": 705, \"rain_mm\": 0.9125000000000001}, {\"index\": 706, \"rain_mm\": 0.12083333333333335}, {\"index\": 707, \"rain_mm\": 0.31250000000000006}, {\"index\": 708, \"rain_mm\": 0.5708333333333333}, {\"index\": 709, \"rain_mm\": 0.2708333333333333}, {\"index\": 710, \"rain_mm\": 0.0}, {\"index\": 711, \"rain_mm\": 0.016666666666666666}, {\"index\": 712, \"rain_mm\": 0.0}, {\"index\": 713, \"rain_mm\": 0.0}, {\"index\": 714, \"rain_mm\": 0.0}, {\"index\": 715, \"rain_mm\": 0.0}, {\"index\": 716, \"rain_mm\": 0.0}, {\"index\": 717, \"rain_mm\": 0.0}, {\"index\": 718, \"rain_mm\": 0.0}, {\"index\": 719, \"rain_mm\": 0.0}, {\"index\": 720, \"rain_mm\": 0.0}, {\"index\": 721, \"rain_mm\": 0.03125}, {\"index\": 722, \"rain_mm\": 0.0}, {\"index\": 723, \"rain_mm\": 0.0}, {\"index\": 724, \"rain_mm\": 0.029166666666666664}, {\"index\": 725, \"rain_mm\": 0.0}, {\"index\": 726, \"rain_mm\": 0.0}, {\"index\": 727, \"rain_mm\": 0.09583333333333334}, {\"index\": 728, \"rain_mm\": 0.59375}, {\"index\": 729, \"rain_mm\": 0.024999999999999998}, {\"index\": 730, \"rain_mm\": 0.0}, {\"index\": 731, \"rain_mm\": 0.0}, {\"index\": 732, \"rain_mm\": 0.0}, {\"index\": 733, \"rain_mm\": 0.008333333333333333}, {\"index\": 734, \"rain_mm\": 0.5958333333333333}, {\"index\": 735, \"rain_mm\": 0.36250000000000004}, {\"index\": 736, \"rain_mm\": 0.20416666666666664}, {\"index\": 737, \"rain_mm\": 0.020833333333333332}, {\"index\": 738, \"rain_mm\": 0.10833333333333334}, {\"index\": 739, \"rain_mm\": 0.008333333333333333}, {\"index\": 740, \"rain_mm\": 0.0}, {\"index\": 741, \"rain_mm\": 0.09999999999999999}, {\"index\": 742, \"rain_mm\": 0.0}, {\"index\": 743, \"rain_mm\": 0.004166666666666667}, {\"index\": 744, \"rain_mm\": 0.04583333333333333}, {\"index\": 745, \"rain_mm\": 0.5791666666666666}, {\"index\": 746, \"rain_mm\": 0.2125}, {\"index\": 747, \"rain_mm\": 0.6791666666666668}, {\"index\": 748, \"rain_mm\": 1.5916666666666668}, {\"index\": 749, \"rain_mm\": 1.1500000000000001}, {\"index\": 750, \"rain_mm\": 0.6541666666666667}, {\"index\": 751, \"rain_mm\": 0.4166666666666666}, {\"index\": 752, \"rain_mm\": 0.004166666666666667}, {\"index\": 753, \"rain_mm\": 0.275}, {\"index\": 754, \"rain_mm\": 0.0}, {\"index\": 755, \"rain_mm\": 0.016666666666666666}, {\"index\": 756, \"rain_mm\": 0.31875000000000003}, {\"index\": 757, \"rain_mm\": 0.004166666666666667}, {\"index\": 758, \"rain_mm\": 0.0}, {\"index\": 759, \"rain_mm\": 0.07500000000000001}, {\"index\": 760, \"rain_mm\": 0.15833333333333333}, {\"index\": 761, \"rain_mm\": 0.22083333333333335}, {\"index\": 762, \"rain_mm\": 0.2625}, {\"index\": 763, \"rain_mm\": 0.0}, {\"index\": 764, \"rain_mm\": 0.049999999999999996}, {\"index\": 765, \"rain_mm\": 0.15833333333333335}, {\"index\": 766, \"rain_mm\": 1.1958333333333333}, {\"index\": 767, \"rain_mm\": 0.0}, {\"index\": 768, \"rain_mm\": 0.0}, {\"index\": 769, \"rain_mm\": 0.0}, {\"index\": 770, \"rain_mm\": 0.0}, {\"index\": 771, \"rain_mm\": 0.0}, {\"index\": 772, \"rain_mm\": 0.0}, {\"index\": 773, \"rain_mm\": 0.0}, {\"index\": 774, \"rain_mm\": 0.0}, {\"index\": 775, \"rain_mm\": 0.0}, {\"index\": 776, \"rain_mm\": 0.0}, {\"index\": 777, \"rain_mm\": 0.0}, {\"index\": 778, \"rain_mm\": 0.0}, {\"index\": 779, \"rain_mm\": 0.0}, {\"index\": 780, \"rain_mm\": 0.05833333333333334}, {\"index\": 781, \"rain_mm\": 0.0}, {\"index\": 782, \"rain_mm\": 0.0375}, {\"index\": 783, \"rain_mm\": 0.0}, {\"index\": 784, \"rain_mm\": 0.0}, {\"index\": 785, \"rain_mm\": 0.19166666666666665}, {\"index\": 786, \"rain_mm\": 0.26666666666666666}, {\"index\": 787, \"rain_mm\": 0.0}, {\"index\": 788, \"rain_mm\": 0.0}, {\"index\": 789, \"rain_mm\": 0.33749999999999997}, {\"index\": 790, \"rain_mm\": 1.6291666666666667}, {\"index\": 791, \"rain_mm\": 0.8874999999999998}, {\"index\": 792, \"rain_mm\": 0.12083333333333333}, {\"index\": 793, \"rain_mm\": 0.04583333333333334}, {\"index\": 794, \"rain_mm\": 0.04583333333333334}, {\"index\": 795, \"rain_mm\": 0.008333333333333333}, {\"index\": 796, \"rain_mm\": 0.0375}, {\"index\": 797, \"rain_mm\": 0.0}, {\"index\": 798, \"rain_mm\": 0.0}, {\"index\": 799, \"rain_mm\": 0.15}, {\"index\": 800, \"rain_mm\": 0.6416666666666666}, {\"index\": 801, \"rain_mm\": 0.65}, {\"index\": 802, \"rain_mm\": 0.2708333333333333}, {\"index\": 803, \"rain_mm\": 0.2291666666666667}, {\"index\": 804, \"rain_mm\": 0.0}, {\"index\": 805, \"rain_mm\": 0.41874999999999996}, {\"index\": 806, \"rain_mm\": 0.029166666666666664}, {\"index\": 807, \"rain_mm\": 0.19166666666666665}, {\"index\": 808, \"rain_mm\": 0.2708333333333333}, {\"index\": 809, \"rain_mm\": 0.42916666666666664}, {\"index\": 810, \"rain_mm\": 0.875}, {\"index\": 811, \"rain_mm\": 0.020833333333333332}, {\"index\": 812, \"rain_mm\": 0.0062499999999999995}, {\"index\": 813, \"rain_mm\": 0.1625}, {\"index\": 814, \"rain_mm\": 0.3125}, {\"index\": 815, \"rain_mm\": 0.21250000000000005}, {\"index\": 816, \"rain_mm\": 0.041666666666666664}, {\"index\": 817, \"rain_mm\": 0.08333333333333333}, {\"index\": 818, \"rain_mm\": 0.3499999999999999}, {\"index\": 819, \"rain_mm\": 0.0}, {\"index\": 820, \"rain_mm\": 0.0}, {\"index\": 821, \"rain_mm\": 0.29583333333333334}, {\"index\": 822, \"rain_mm\": 0.34166666666666673}, {\"index\": 823, \"rain_mm\": 0.21666666666666667}, {\"index\": 824, \"rain_mm\": 0.0375}, {\"index\": 825, \"rain_mm\": 0.4833333333333334}, {\"index\": 826, \"rain_mm\": 0.225}, {\"index\": 827, \"rain_mm\": 0.5791666666666665}, {\"index\": 828, \"rain_mm\": 0.0}, {\"index\": 829, \"rain_mm\": 0.06666666666666667}, {\"index\": 830, \"rain_mm\": 0.0}, {\"index\": 831, \"rain_mm\": 0.075}, {\"index\": 832, \"rain_mm\": 0.0}, {\"index\": 833, \"rain_mm\": 0.2875}, {\"index\": 834, \"rain_mm\": 0.6916666666666668}, {\"index\": 835, \"rain_mm\": 0.049999999999999996}, {\"index\": 836, \"rain_mm\": 0.0}, {\"index\": 837, \"rain_mm\": 0.0}, {\"index\": 838, \"rain_mm\": 0.0}, {\"index\": 839, \"rain_mm\": 0.004166666666666667}, {\"index\": 840, \"rain_mm\": 0.0062499999999999995}, {\"index\": 841, \"rain_mm\": 0.0}, {\"index\": 842, \"rain_mm\": 0.0}, {\"index\": 843, \"rain_mm\": 0.0}, {\"index\": 844, \"rain_mm\": 0.3083333333333333}, {\"index\": 845, \"rain_mm\": 0.17083333333333336}, {\"index\": 846, \"rain_mm\": 0.0}, {\"index\": 847, \"rain_mm\": 0.0}, {\"index\": 848, \"rain_mm\": 0.5708333333333332}, {\"index\": 849, \"rain_mm\": 0.008333333333333333}, {\"index\": 850, \"rain_mm\": 0.016666666666666666}, {\"index\": 851, \"rain_mm\": 0.004166666666666667}, {\"index\": 852, \"rain_mm\": 0.008333333333333333}, {\"index\": 853, \"rain_mm\": 0.0}, {\"index\": 854, \"rain_mm\": 0.0}, {\"index\": 855, \"rain_mm\": 0.0}, {\"index\": 856, \"rain_mm\": 0.0}, {\"index\": 857, \"rain_mm\": 0.0}, {\"index\": 858, \"rain_mm\": 0.0}, {\"index\": 859, \"rain_mm\": 0.0}, {\"index\": 860, \"rain_mm\": 0.0}, {\"index\": 861, \"rain_mm\": 0.0}, {\"index\": 862, \"rain_mm\": 0.0}, {\"index\": 863, \"rain_mm\": 0.0}, {\"index\": 864, \"rain_mm\": 0.0}, {\"index\": 865, \"rain_mm\": 0.3333333333333333}, {\"index\": 866, \"rain_mm\": 0.03333333333333333}, {\"index\": 867, \"rain_mm\": 0.11666666666666668}, {\"index\": 868, \"rain_mm\": 0.0}, {\"index\": 869, \"rain_mm\": 0.0}, {\"index\": 870, \"rain_mm\": 0.0}, {\"index\": 871, \"rain_mm\": 0.0}, {\"index\": 872, \"rain_mm\": 0.0}, {\"index\": 873, \"rain_mm\": 0.0}, {\"index\": 874, \"rain_mm\": 0.0}, {\"index\": 875, \"rain_mm\": 0.19999999999999998}, {\"index\": 876, \"rain_mm\": 0.012500000000000002}, {\"index\": 877, \"rain_mm\": 0.012500000000000002}, {\"index\": 878, \"rain_mm\": 0.03333333333333333}, {\"index\": 879, \"rain_mm\": 0.05416666666666667}, {\"index\": 880, \"rain_mm\": 6.254166666666666}, {\"index\": 881, \"rain_mm\": 0.004166666666666667}, {\"index\": 882, \"rain_mm\": 0.0}, {\"index\": 883, \"rain_mm\": 0.0}, {\"index\": 884, \"rain_mm\": 0.1375}, {\"index\": 885, \"rain_mm\": 0.016666666666666666}, {\"index\": 886, \"rain_mm\": 0.1125}, {\"index\": 887, \"rain_mm\": 0.0}, {\"index\": 888, \"rain_mm\": 0.03333333333333333}, {\"index\": 889, \"rain_mm\": 0.0062499999999999995}, {\"index\": 890, \"rain_mm\": 0.0}, {\"index\": 891, \"rain_mm\": 0.0}, {\"index\": 892, \"rain_mm\": 0.0}, {\"index\": 893, \"rain_mm\": 0.8625000000000002}, {\"index\": 894, \"rain_mm\": 0.1875}, {\"index\": 895, \"rain_mm\": 0.12083333333333333}, {\"index\": 896, \"rain_mm\": 0.012499999999999999}, {\"index\": 897, \"rain_mm\": 0.0}, {\"index\": 898, \"rain_mm\": 0.0}, {\"index\": 899, \"rain_mm\": 0.0}, {\"index\": 900, \"rain_mm\": 0.14583333333333334}, {\"index\": 901, \"rain_mm\": 0.0}, {\"index\": 902, \"rain_mm\": 0.09166666666666667}, {\"index\": 903, \"rain_mm\": 0.3625}, {\"index\": 904, \"rain_mm\": 0.0}, {\"index\": 905, \"rain_mm\": 0.0}, {\"index\": 906, \"rain_mm\": 0.39166666666666666}, {\"index\": 907, \"rain_mm\": 0.0}, {\"index\": 908, \"rain_mm\": 0.029166666666666664}, {\"index\": 909, \"rain_mm\": 0.024999999999999998}, {\"index\": 910, \"rain_mm\": 0.0}, {\"index\": 911, \"rain_mm\": 4.166666666666667}, {\"index\": 912, \"rain_mm\": 0.0}, {\"index\": 913, \"rain_mm\": 0.11666666666666665}, {\"index\": 914, \"rain_mm\": 0.10000000000000002}, {\"index\": 915, \"rain_mm\": 0.020833333333333332}, {\"index\": 916, \"rain_mm\": 0.0}, {\"index\": 917, \"rain_mm\": NaN}, {\"index\": 918, \"rain_mm\": 0.13749999999999998}, {\"index\": 919, \"rain_mm\": 0.4000000000000001}, {\"index\": 920, \"rain_mm\": 0.15416666666666667}, {\"index\": 921, \"rain_mm\": 0.1875}, {\"index\": 922, \"rain_mm\": 0.075}, {\"index\": 923, \"rain_mm\": 0.09583333333333333}, {\"index\": 924, \"rain_mm\": 0.0}, {\"index\": 925, \"rain_mm\": 0.0}, {\"index\": 926, \"rain_mm\": 0.0}, {\"index\": 927, \"rain_mm\": 0.5041666666666667}, {\"index\": 928, \"rain_mm\": 0.04583333333333334}, {\"index\": 929, \"rain_mm\": 0.1875}, {\"index\": 930, \"rain_mm\": 0.3541666666666667}, {\"index\": 931, \"rain_mm\": 0.25000000000000006}, {\"index\": 932, \"rain_mm\": 1.1666666666666667}, {\"index\": 933, \"rain_mm\": 0.07916666666666666}, {\"index\": 934, \"rain_mm\": 0.0}, {\"index\": 935, \"rain_mm\": 0.0}, {\"index\": 936, \"rain_mm\": 0.0}, {\"index\": 937, \"rain_mm\": 0.25}, {\"index\": 938, \"rain_mm\": 0.0375}, {\"index\": 939, \"rain_mm\": 0.0}, {\"index\": 940, \"rain_mm\": 4.320833333333333}, {\"index\": 941, \"rain_mm\": 0.0}, {\"index\": 942, \"rain_mm\": 0.0}, {\"index\": 943, \"rain_mm\": 0.0}, {\"index\": 944, \"rain_mm\": 0.0}, {\"index\": 945, \"rain_mm\": 0.35625}, {\"index\": 946, \"rain_mm\": 0.3916666666666666}, {\"index\": 947, \"rain_mm\": 0.0}, {\"index\": 948, \"rain_mm\": 0.0}, {\"index\": 949, \"rain_mm\": 0.2125}, {\"index\": 950, \"rain_mm\": 0.42083333333333334}, {\"index\": 951, \"rain_mm\": 0.004166666666666667}, {\"index\": 952, \"rain_mm\": 0.3}, {\"index\": 953, \"rain_mm\": 0.1375}, {\"index\": 954, \"rain_mm\": 0.24166666666666667}, {\"index\": 955, \"rain_mm\": 0.07916666666666666}, {\"index\": 956, \"rain_mm\": 0.0}, {\"index\": 957, \"rain_mm\": 0.0}, {\"index\": 958, \"rain_mm\": 0.0}, {\"index\": 959, \"rain_mm\": 0.024999999999999998}, {\"index\": 960, \"rain_mm\": 0.020833333333333332}, {\"index\": 961, \"rain_mm\": 0.09166666666666667}, {\"index\": 962, \"rain_mm\": 0.275}, {\"index\": 963, \"rain_mm\": 0.004166666666666667}, {\"index\": 964, \"rain_mm\": 1.458333333333333}, {\"index\": 965, \"rain_mm\": 0.6666666666666669}, {\"index\": 966, \"rain_mm\": 0.024999999999999998}, {\"index\": 967, \"rain_mm\": 0.2333333333333333}, {\"index\": 968, \"rain_mm\": 0.016666666666666666}, {\"index\": 969, \"rain_mm\": 0.0}, {\"index\": 970, \"rain_mm\": 0.025000000000000005}, {\"index\": 971, \"rain_mm\": 0.08750000000000001}, {\"index\": 972, \"rain_mm\": 1.1999999999999995}, {\"index\": 973, \"rain_mm\": 0.0}, {\"index\": 974, \"rain_mm\": 0.225}, {\"index\": 975, \"rain_mm\": 0.016666666666666666}, {\"index\": 976, \"rain_mm\": 0.6166666666666666}, {\"index\": 977, \"rain_mm\": 0.0}, {\"index\": 978, \"rain_mm\": 0.6416666666666667}, {\"index\": 979, \"rain_mm\": 0.13333333333333336}, {\"index\": 980, \"rain_mm\": 0.24375}, {\"index\": 981, \"rain_mm\": 0.020833333333333332}, {\"index\": 982, \"rain_mm\": 0.0}, {\"index\": 983, \"rain_mm\": 0.5999999999999998}, {\"index\": 984, \"rain_mm\": 0.5999999999999998}, {\"index\": 985, \"rain_mm\": 0.5999999999999998}, {\"index\": 986, \"rain_mm\": 0.5999999999999998}, {\"index\": 987, \"rain_mm\": 0.012499999999999999}, {\"index\": 988, \"rain_mm\": 0.0}, {\"index\": 989, \"rain_mm\": 0.0}, {\"index\": 990, \"rain_mm\": 0.0}, {\"index\": 991, \"rain_mm\": 0.0}, {\"index\": 992, \"rain_mm\": 0.0}, {\"index\": 993, \"rain_mm\": 0.0}, {\"index\": 994, \"rain_mm\": 0.0}, {\"index\": 995, \"rain_mm\": 0.0}, {\"index\": 996, \"rain_mm\": 0.0}, {\"index\": 997, \"rain_mm\": 0.0}, {\"index\": 998, \"rain_mm\": 0.0}, {\"index\": 999, \"rain_mm\": 0.0}, {\"index\": 1000, \"rain_mm\": 0.0}, {\"index\": 1001, \"rain_mm\": 0.0}, {\"index\": 1002, \"rain_mm\": 0.012499999999999999}, {\"index\": 1003, \"rain_mm\": 0.0}, {\"index\": 1004, \"rain_mm\": 0.0}, {\"index\": 1005, \"rain_mm\": 0.0}, {\"index\": 1006, \"rain_mm\": 0.0}, {\"index\": 1007, \"rain_mm\": 0.0}, {\"index\": 1008, \"rain_mm\": 0.0}, {\"index\": 1009, \"rain_mm\": 0.0}, {\"index\": 1010, \"rain_mm\": 0.0}, {\"index\": 1011, \"rain_mm\": 0.0}, {\"index\": 1012, \"rain_mm\": 0.004166666666666667}, {\"index\": 1013, \"rain_mm\": 0.0}, {\"index\": 1014, \"rain_mm\": 0.0}, {\"index\": 1015, \"rain_mm\": 0.0}, {\"index\": 1016, \"rain_mm\": 0.02916666666666667}, {\"index\": 1017, \"rain_mm\": 0.054166666666666675}, {\"index\": 1018, \"rain_mm\": 0.09583333333333334}, {\"index\": 1019, \"rain_mm\": 0.48750000000000004}, {\"index\": 1020, \"rain_mm\": 0.041666666666666664}, {\"index\": 1021, \"rain_mm\": 0.0}, {\"index\": 1022, \"rain_mm\": 0.0}, {\"index\": 1023, \"rain_mm\": 0.0}, {\"index\": 1024, \"rain_mm\": 0.10416666666666667}, {\"index\": 1025, \"rain_mm\": 0.0}, {\"index\": 1026, \"rain_mm\": 0.0}, {\"index\": 1027, \"rain_mm\": 0.025000000000000005}, {\"index\": 1028, \"rain_mm\": 0.0}, {\"index\": 1029, \"rain_mm\": 0.13749999999999998}, {\"index\": 1030, \"rain_mm\": 0.46249999999999997}, {\"index\": 1031, \"rain_mm\": 0.0}, {\"index\": 1032, \"rain_mm\": 0.0}, {\"index\": 1033, \"rain_mm\": 0.125}, {\"index\": 1034, \"rain_mm\": 0.029166666666666664}, {\"index\": 1035, \"rain_mm\": 0.041666666666666664}, {\"index\": 1036, \"rain_mm\": 0.0}, {\"index\": 1037, \"rain_mm\": 0.0}, {\"index\": 1038, \"rain_mm\": 0.0}, {\"index\": 1039, \"rain_mm\": 0.0}, {\"index\": 1040, \"rain_mm\": 0.008333333333333333}, {\"index\": 1041, \"rain_mm\": 0.0}, {\"index\": 1042, \"rain_mm\": 0.004166666666666667}, {\"index\": 1043, \"rain_mm\": 0.3625}, {\"index\": 1044, \"rain_mm\": 0.22916666666666666}, {\"index\": 1045, \"rain_mm\": 0.21666666666666665}, {\"index\": 1046, \"rain_mm\": 0.0}, {\"index\": 1047, \"rain_mm\": 0.004166666666666667}, {\"index\": 1048, \"rain_mm\": 0.004166666666666667}, {\"index\": 1049, \"rain_mm\": 0.041666666666666664}, {\"index\": 1050, \"rain_mm\": 0.325}, {\"index\": 1051, \"rain_mm\": 0.008333333333333333}, {\"index\": 1052, \"rain_mm\": 0.19999999999999996}, {\"index\": 1053, \"rain_mm\": 0.004166666666666667}, {\"index\": 1054, \"rain_mm\": 0.9083333333333333}, {\"index\": 1055, \"rain_mm\": 1.1}, {\"index\": 1056, \"rain_mm\": 0.2875}, {\"index\": 1057, \"rain_mm\": 0.1875}, {\"index\": 1058, \"rain_mm\": 0.3999999999999999}, {\"index\": 1059, \"rain_mm\": 0.08750000000000001}, {\"index\": 1060, \"rain_mm\": 0.016666666666666666}, {\"index\": 1061, \"rain_mm\": 0.025000000000000005}, {\"index\": 1062, \"rain_mm\": 0.0}, {\"index\": 1063, \"rain_mm\": 0.02916666666666667}, {\"index\": 1064, \"rain_mm\": 0.012499999999999999}, {\"index\": 1065, \"rain_mm\": 0.0}, {\"index\": 1066, \"rain_mm\": 0.06666666666666667}, {\"index\": 1067, \"rain_mm\": NaN}, {\"index\": 1068, \"rain_mm\": 0.39166666666666666}, {\"index\": 1069, \"rain_mm\": 0.15}, {\"index\": 1070, \"rain_mm\": 0.26666666666666666}, {\"index\": 1071, \"rain_mm\": 0.18125000000000002}, {\"index\": 1072, \"rain_mm\": 0.0}, {\"index\": 1073, \"rain_mm\": 0.020833333333333332}, {\"index\": 1074, \"rain_mm\": 0.012499999999999999}, {\"index\": 1075, \"rain_mm\": 0.0}, {\"index\": 1076, \"rain_mm\": 0.0}, {\"index\": 1077, \"rain_mm\": 0.0}, {\"index\": 1078, \"rain_mm\": 0.0}, {\"index\": 1079, \"rain_mm\": 0.0}, {\"index\": 1080, \"rain_mm\": 0.0}, {\"index\": 1081, \"rain_mm\": 0.02916666666666667}, {\"index\": 1082, \"rain_mm\": 0.004166666666666667}, {\"index\": 1083, \"rain_mm\": 0.16250000000000003}, {\"index\": 1084, \"rain_mm\": 0.9916666666666667}, {\"index\": 1085, \"rain_mm\": 0.41875}, {\"index\": 1086, \"rain_mm\": 0.36666666666666664}, {\"index\": 1087, \"rain_mm\": 0.0}, {\"index\": 1088, \"rain_mm\": 0.020833333333333332}, {\"index\": 1089, \"rain_mm\": 0.0}, {\"index\": 1090, \"rain_mm\": 0.0}, {\"index\": 1091, \"rain_mm\": 0.0}, {\"index\": 1092, \"rain_mm\": 0.0}, {\"index\": 1093, \"rain_mm\": 0.0}, {\"index\": 1094, \"rain_mm\": 0.0}, {\"index\": 1095, \"rain_mm\": 0.0}, {\"index\": 1096, \"rain_mm\": 0.0}, {\"index\": 1097, \"rain_mm\": 0.008333333333333333}, {\"index\": 1098, \"rain_mm\": 0.0}, {\"index\": 1099, \"rain_mm\": 0.16249999999999998}, {\"index\": 1100, \"rain_mm\": 0.075}, {\"index\": 1101, \"rain_mm\": 0.0}, {\"index\": 1102, \"rain_mm\": 0.004166666666666667}, {\"index\": 1103, \"rain_mm\": 0.0}, {\"index\": 1104, \"rain_mm\": 0.0}, {\"index\": 1105, \"rain_mm\": 0.0}, {\"index\": 1106, \"rain_mm\": 0.0}, {\"index\": 1107, \"rain_mm\": 0.0}, {\"index\": 1108, \"rain_mm\": 0.0}, {\"index\": 1109, \"rain_mm\": 0.0375}, {\"index\": 1110, \"rain_mm\": 0.0}, {\"index\": 1111, \"rain_mm\": 0.0}, {\"index\": 1112, \"rain_mm\": 0.03333333333333333}, {\"index\": 1113, \"rain_mm\": 0.94375}, {\"index\": 1114, \"rain_mm\": 0.3499999999999999}, {\"index\": 1115, \"rain_mm\": 0.03333333333333333}, {\"index\": 1116, \"rain_mm\": 0.0}, {\"index\": 1117, \"rain_mm\": 0.05416666666666667}, {\"index\": 1118, \"rain_mm\": 0.9375000000000001}, {\"index\": 1119, \"rain_mm\": 0.1166666666666667}, {\"index\": 1120, \"rain_mm\": 0.0}, {\"index\": 1121, \"rain_mm\": 0.0}, {\"index\": 1122, \"rain_mm\": 0.0}, {\"index\": 1123, \"rain_mm\": 0.0}, {\"index\": 1124, \"rain_mm\": 0.0}, {\"index\": 1125, \"rain_mm\": 0.0}, {\"index\": 1126, \"rain_mm\": 0.0}, {\"index\": 1127, \"rain_mm\": 0.012499999999999999}, {\"index\": 1128, \"rain_mm\": 0.0}, {\"index\": 1129, \"rain_mm\": 0.0}, {\"index\": 1130, \"rain_mm\": 0.008333333333333333}, {\"index\": 1131, \"rain_mm\": 0.008333333333333333}, {\"index\": 1132, \"rain_mm\": 0.0}, {\"index\": 1133, \"rain_mm\": 0.12916666666666668}, {\"index\": 1134, \"rain_mm\": 0.05625}, {\"index\": 1135, \"rain_mm\": 0.07916666666666668}, {\"index\": 1136, \"rain_mm\": 0.9125}, {\"index\": 1137, \"rain_mm\": 0.38749999999999996}, {\"index\": 1138, \"rain_mm\": 0.15416666666666665}, {\"index\": 1139, \"rain_mm\": 0.2833333333333333}, {\"index\": 1140, \"rain_mm\": 0.08333333333333333}, {\"index\": 1141, \"rain_mm\": 0.19374999999999998}, {\"index\": 1142, \"rain_mm\": 0.3833333333333333}, {\"index\": 1143, \"rain_mm\": 0.29166666666666663}, {\"index\": 1144, \"rain_mm\": 0.0}, {\"index\": 1145, \"rain_mm\": 0.0375}, {\"index\": 1146, \"rain_mm\": 0.22499999999999998}, {\"index\": 1147, \"rain_mm\": 0.16666666666666666}, {\"index\": 1148, \"rain_mm\": 0.40000000000000013}, {\"index\": 1149, \"rain_mm\": 0.10000000000000002}, {\"index\": 1150, \"rain_mm\": 0.0}, {\"index\": 1151, \"rain_mm\": 0.0375}, {\"index\": 1152, \"rain_mm\": 0.2291666666666667}, {\"index\": 1153, \"rain_mm\": 0.5833333333333333}, {\"index\": 1154, \"rain_mm\": 0.0375}, {\"index\": 1155, \"rain_mm\": 0.0062499999999999995}, {\"index\": 1156, \"rain_mm\": 0.19583333333333333}, {\"index\": 1157, \"rain_mm\": 0.0}, {\"index\": 1158, \"rain_mm\": 0.0}, {\"index\": 1159, \"rain_mm\": 0.0}, {\"index\": 1160, \"rain_mm\": 0.19999999999999993}, {\"index\": 1161, \"rain_mm\": 0.041666666666666664}, {\"index\": 1162, \"rain_mm\": 0.325}, {\"index\": 1163, \"rain_mm\": 0.29583333333333334}, {\"index\": 1164, \"rain_mm\": 0.7624999999999998}, {\"index\": 1165, \"rain_mm\": 0.18749999999999997}, {\"index\": 1166, \"rain_mm\": 0.6208333333333332}, {\"index\": 1167, \"rain_mm\": 0.004166666666666667}, {\"index\": 1168, \"rain_mm\": 0.075}, {\"index\": 1169, \"rain_mm\": 0.39375}, {\"index\": 1170, \"rain_mm\": 0.0}, {\"index\": 1171, \"rain_mm\": 0.0}, {\"index\": 1172, \"rain_mm\": 0.0}, {\"index\": 1173, \"rain_mm\": 0.0}, {\"index\": 1174, \"rain_mm\": 0.0}, {\"index\": 1175, \"rain_mm\": 0.0}, {\"index\": 1176, \"rain_mm\": 0.024999999999999998}, {\"index\": 1177, \"rain_mm\": 0.5291666666666667}, {\"index\": 1178, \"rain_mm\": 0.2958333333333334}, {\"index\": 1179, \"rain_mm\": 0.4041666666666666}, {\"index\": 1180, \"rain_mm\": 0.3416666666666666}, {\"index\": 1181, \"rain_mm\": 0.38749999999999996}, {\"index\": 1182, \"rain_mm\": 0.5208333333333333}, {\"index\": 1183, \"rain_mm\": 0.15}, {\"index\": 1184, \"rain_mm\": 0.0}, {\"index\": 1185, \"rain_mm\": 0.0}, {\"index\": 1186, \"rain_mm\": 0.0}, {\"index\": 1187, \"rain_mm\": 0.0}, {\"index\": 1188, \"rain_mm\": 0.0}, {\"index\": 1189, \"rain_mm\": 0.0}, {\"index\": 1190, \"rain_mm\": 0.0}, {\"index\": 1191, \"rain_mm\": 0.0}, {\"index\": 1192, \"rain_mm\": 0.020833333333333332}, {\"index\": 1193, \"rain_mm\": 0.016666666666666666}, {\"index\": 1194, \"rain_mm\": 0.07916666666666668}, {\"index\": 1195, \"rain_mm\": 0.0}, {\"index\": 1196, \"rain_mm\": 0.0}, {\"index\": 1197, \"rain_mm\": 0.0}, {\"index\": 1198, \"rain_mm\": 0.0}, {\"index\": 1199, \"rain_mm\": 0.0}, {\"index\": 1200, \"rain_mm\": 0.0}, {\"index\": 1201, \"rain_mm\": 0.4208333333333334}, {\"index\": 1202, \"rain_mm\": 0.42083333333333334}, {\"index\": 1203, \"rain_mm\": 0.012499999999999999}, {\"index\": 1204, \"rain_mm\": 0.0}, {\"index\": 1205, \"rain_mm\": 0.0}, {\"index\": 1206, \"rain_mm\": 0.0}, {\"index\": 1207, \"rain_mm\": 0.0}, {\"index\": 1208, \"rain_mm\": 0.0}, {\"index\": 1209, \"rain_mm\": 0.0}, {\"index\": 1210, \"rain_mm\": 0.0}, {\"index\": 1211, \"rain_mm\": 0.0}, {\"index\": 1212, \"rain_mm\": 0.04583333333333334}, {\"index\": 1213, \"rain_mm\": 0.6624999999999999}, {\"index\": 1214, \"rain_mm\": 0.016666666666666666}, {\"index\": 1215, \"rain_mm\": 0.049999999999999996}, {\"index\": 1216, \"rain_mm\": 0.012499999999999999}, {\"index\": 1217, \"rain_mm\": 0.0}, {\"index\": 1218, \"rain_mm\": 0.0}, {\"index\": 1219, \"rain_mm\": 0.004166666666666667}, {\"index\": 1220, \"rain_mm\": 0.6333333333333333}, {\"index\": 1221, \"rain_mm\": 0.5041666666666665}, {\"index\": 1222, \"rain_mm\": 0.0}, {\"index\": 1223, \"rain_mm\": 0.3166666666666666}, {\"index\": 1224, \"rain_mm\": 0.2416666666666667}, {\"index\": 1225, \"rain_mm\": 0.0}, {\"index\": 1226, \"rain_mm\": 0.7541666666666668}, {\"index\": 1227, \"rain_mm\": 0.016666666666666666}, {\"index\": 1228, \"rain_mm\": 0.0}, {\"index\": 1229, \"rain_mm\": 0.1125}, {\"index\": 1230, \"rain_mm\": 0.4791666666666667}, {\"index\": 1231, \"rain_mm\": 0.012499999999999999}, {\"index\": 1232, \"rain_mm\": 0.024999999999999998}, {\"index\": 1233, \"rain_mm\": 0.0}, {\"index\": 1234, \"rain_mm\": 0.054166666666666675}, {\"index\": 1235, \"rain_mm\": 0.0}, {\"index\": 1236, \"rain_mm\": 0.22916666666666666}, {\"index\": 1237, \"rain_mm\": 0.024999999999999998}, {\"index\": 1238, \"rain_mm\": 0.008333333333333333}, {\"index\": 1239, \"rain_mm\": 0.0}, {\"index\": 1240, \"rain_mm\": 0.2041666666666667}, {\"index\": 1241, \"rain_mm\": 0.07916666666666666}, {\"index\": 1242, \"rain_mm\": 0.0}, {\"index\": 1243, \"rain_mm\": 0.2166666666666667}, {\"index\": 1244, \"rain_mm\": 0.0}, {\"index\": 1245, \"rain_mm\": 0.029166666666666664}, {\"index\": 1246, \"rain_mm\": 0.043750000000000004}, {\"index\": 1247, \"rain_mm\": 0.0}, {\"index\": 1248, \"rain_mm\": 0.0}, {\"index\": 1249, \"rain_mm\": 0.0}, {\"index\": 1250, \"rain_mm\": 0.0}, {\"index\": 1251, \"rain_mm\": 0.0}, {\"index\": 1252, \"rain_mm\": 0.0}, {\"index\": 1253, \"rain_mm\": 0.0}, {\"index\": 1254, \"rain_mm\": 0.0}, {\"index\": 1255, \"rain_mm\": 0.0}, {\"index\": 1256, \"rain_mm\": 0.0}, {\"index\": 1257, \"rain_mm\": 0.0}, {\"index\": 1258, \"rain_mm\": 0.0}, {\"index\": 1259, \"rain_mm\": 0.0}, {\"index\": 1260, \"rain_mm\": 0.0}, {\"index\": 1261, \"rain_mm\": 0.0}, {\"index\": 1262, \"rain_mm\": 0.0}, {\"index\": 1263, \"rain_mm\": 0.0}, {\"index\": 1264, \"rain_mm\": 0.0}, {\"index\": 1265, \"rain_mm\": 0.0}, {\"index\": 1266, \"rain_mm\": 0.0}, {\"index\": 1267, \"rain_mm\": 0.0}, {\"index\": 1268, \"rain_mm\": 0.0}, {\"index\": 1269, \"rain_mm\": 0.0}, {\"index\": 1270, \"rain_mm\": 0.0}, {\"index\": 1271, \"rain_mm\": 0.0}, {\"index\": 1272, \"rain_mm\": 0.0}, {\"index\": 1273, \"rain_mm\": 0.0}, {\"index\": 1274, \"rain_mm\": 0.0}, {\"index\": 1275, \"rain_mm\": 0.0}, {\"index\": 1276, \"rain_mm\": 0.0}, {\"index\": 1277, \"rain_mm\": 0.0}, {\"index\": 1278, \"rain_mm\": 0.0}, {\"index\": 1279, \"rain_mm\": 0.0}, {\"index\": 1280, \"rain_mm\": 0.0}, {\"index\": 1281, \"rain_mm\": 0.0}, {\"index\": 1282, \"rain_mm\": 0.0}, {\"index\": 1283, \"rain_mm\": 0.0}, {\"index\": 1284, \"rain_mm\": 0.0}, {\"index\": 1285, \"rain_mm\": 0.0}, {\"index\": 1286, \"rain_mm\": 0.0}, {\"index\": 1287, \"rain_mm\": 0.0}, {\"index\": 1288, \"rain_mm\": 0.0}, {\"index\": 1289, \"rain_mm\": 0.0}, {\"index\": 1290, \"rain_mm\": 0.0}, {\"index\": 1291, \"rain_mm\": 0.0}, {\"index\": 1292, \"rain_mm\": 0.0}, {\"index\": 1293, \"rain_mm\": 0.0}, {\"index\": 1294, \"rain_mm\": 0.0}, {\"index\": 1295, \"rain_mm\": 0.0}, {\"index\": 1296, \"rain_mm\": 0.0}, {\"index\": 1297, \"rain_mm\": 0.0}, {\"index\": 1298, \"rain_mm\": 0.0}, {\"index\": 1299, \"rain_mm\": 0.0}, {\"index\": 1300, \"rain_mm\": 0.0}, {\"index\": 1301, \"rain_mm\": 0.0}, {\"index\": 1302, \"rain_mm\": 0.0}, {\"index\": 1303, \"rain_mm\": 0.0}, {\"index\": 1304, \"rain_mm\": 0.0}, {\"index\": 1305, \"rain_mm\": 0.0}, {\"index\": 1306, \"rain_mm\": 0.0}, {\"index\": 1307, \"rain_mm\": 0.0}, {\"index\": 1308, \"rain_mm\": 0.0}, {\"index\": 1309, \"rain_mm\": 0.0}, {\"index\": 1310, \"rain_mm\": 0.0}, {\"index\": 1311, \"rain_mm\": 0.0}, {\"index\": 1312, \"rain_mm\": 0.0}, {\"index\": 1313, \"rain_mm\": 0.0}, {\"index\": 1314, \"rain_mm\": 0.0}, {\"index\": 1315, \"rain_mm\": 0.0}, {\"index\": 1316, \"rain_mm\": 0.0}, {\"index\": 1317, \"rain_mm\": 0.0}, {\"index\": 1318, \"rain_mm\": 0.0}, {\"index\": 1319, \"rain_mm\": 0.0}, {\"index\": 1320, \"rain_mm\": 0.0}, {\"index\": 1321, \"rain_mm\": 0.0}, {\"index\": 1322, \"rain_mm\": 0.0}, {\"index\": 1323, \"rain_mm\": 0.0}, {\"index\": 1324, \"rain_mm\": 0.0}, {\"index\": 1325, \"rain_mm\": 0.0}, {\"index\": 1326, \"rain_mm\": 0.0}, {\"index\": 1327, \"rain_mm\": 0.0}, {\"index\": 1328, \"rain_mm\": 0.0}, {\"index\": 1329, \"rain_mm\": 0.0}, {\"index\": 1330, \"rain_mm\": 0.0}, {\"index\": 1331, \"rain_mm\": 0.0}, {\"index\": 1332, \"rain_mm\": 0.0}, {\"index\": 1333, \"rain_mm\": 0.0}, {\"index\": 1334, \"rain_mm\": 0.0}, {\"index\": 1335, \"rain_mm\": 0.0}, {\"index\": 1336, \"rain_mm\": 0.0}, {\"index\": 1337, \"rain_mm\": 0.0}, {\"index\": 1338, \"rain_mm\": 1.6666666666666667}, {\"index\": 1339, \"rain_mm\": 0.05416666666666667}, {\"index\": 1340, \"rain_mm\": 0.0}, {\"index\": 1341, \"rain_mm\": 0.42083333333333334}, {\"index\": 1342, \"rain_mm\": 0.2541666666666667}, {\"index\": 1343, \"rain_mm\": 1.1375000000000002}, {\"index\": 1344, \"rain_mm\": 0.0}, {\"index\": 1345, \"rain_mm\": 0.0}, {\"index\": 1346, \"rain_mm\": 0.0}, {\"index\": 1347, \"rain_mm\": 0.0}, {\"index\": 1348, \"rain_mm\": 0.008333333333333333}, {\"index\": 1349, \"rain_mm\": 0.0}, {\"index\": 1350, \"rain_mm\": 0.0}, {\"index\": 1351, \"rain_mm\": 0.6062500000000001}, {\"index\": 1352, \"rain_mm\": 0.9125000000000001}, {\"index\": 1353, \"rain_mm\": 0.5333333333333333}, {\"index\": 1354, \"rain_mm\": 0.0}, {\"index\": 1355, \"rain_mm\": 0.0}, {\"index\": 1356, \"rain_mm\": 0.0}, {\"index\": 1357, \"rain_mm\": 0.0}, {\"index\": 1358, \"rain_mm\": 0.0}, {\"index\": 1359, \"rain_mm\": 0.0}, {\"index\": 1360, \"rain_mm\": 0.0}, {\"index\": 1361, \"rain_mm\": 0.020833333333333332}, {\"index\": 1362, \"rain_mm\": 0.07083333333333333}, {\"index\": 1363, \"rain_mm\": 0.0}, {\"index\": 1364, \"rain_mm\": 0.0}, {\"index\": 1365, \"rain_mm\": 0.0}, {\"index\": 1366, \"rain_mm\": 0.0}, {\"index\": 1367, \"rain_mm\": 0.35000000000000003}, {\"index\": 1368, \"rain_mm\": 0.24583333333333335}, {\"index\": 1369, \"rain_mm\": 0.20833333333333334}, {\"index\": 1370, \"rain_mm\": 0.2541666666666666}, {\"index\": 1371, \"rain_mm\": 0.0}, {\"index\": 1372, \"rain_mm\": 0.20625000000000004}, {\"index\": 1373, \"rain_mm\": 0.37499999999999994}, {\"index\": 1374, \"rain_mm\": 1.05}, {\"index\": 1375, \"rain_mm\": 0.125}, {\"index\": 1376, \"rain_mm\": 0.3791666666666666}, {\"index\": 1377, \"rain_mm\": 0.0}, {\"index\": 1378, \"rain_mm\": 1.7833333333333334}, {\"index\": 1379, \"rain_mm\": 0.9249999999999999}, {\"index\": 1380, \"rain_mm\": 0.5208333333333334}, {\"index\": 1381, \"rain_mm\": 0.10000000000000002}, {\"index\": 1382, \"rain_mm\": 0.0}, {\"index\": 1383, \"rain_mm\": 0.0}, {\"index\": 1384, \"rain_mm\": 0.9833333333333334}, {\"index\": 1385, \"rain_mm\": 0.3375000000000001}, {\"index\": 1386, \"rain_mm\": 0.0}, {\"index\": 1387, \"rain_mm\": 0.0}, {\"index\": 1388, \"rain_mm\": 0.0}, {\"index\": 1389, \"rain_mm\": 0.0}, {\"index\": 1390, \"rain_mm\": 0.004166666666666667}, {\"index\": 1391, \"rain_mm\": 0.0}, {\"index\": 1392, \"rain_mm\": 0.020833333333333332}, {\"index\": 1393, \"rain_mm\": 0.075}, {\"index\": 1394, \"rain_mm\": 0.3333333333333333}, {\"index\": 1395, \"rain_mm\": 0.07083333333333335}, {\"index\": 1396, \"rain_mm\": 0.0}, {\"index\": 1397, \"rain_mm\": 0.0}, {\"index\": 1398, \"rain_mm\": 0.0}, {\"index\": 1399, \"rain_mm\": 0.0}, {\"index\": 1400, \"rain_mm\": 2.850000000000001}, {\"index\": 1401, \"rain_mm\": 5.5}, {\"index\": 1402, \"rain_mm\": 1.8999999999999992}, {\"index\": 1403, \"rain_mm\": 5.5}, {\"index\": 1404, \"rain_mm\": 0.0}, {\"index\": 1405, \"rain_mm\": 9.800000000000004}, {\"index\": 1406, \"rain_mm\": 9.800000000000004}, {\"index\": 1407, \"rain_mm\": 0.0}, {\"index\": 1408, \"rain_mm\": 0.0}, {\"index\": 1409, \"rain_mm\": 0.0}, {\"index\": 1410, \"rain_mm\": 0.0}, {\"index\": 1411, \"rain_mm\": 0.20000000000000007}, {\"index\": 1412, \"rain_mm\": 0.20000000000000007}, {\"index\": 1413, \"rain_mm\": 0.03333333333333333}, {\"index\": 1414, \"rain_mm\": 1.7999999999999996}, {\"index\": 1415, \"rain_mm\": 1.1999999999999995}, {\"index\": 1416, \"rain_mm\": 1.1999999999999995}, {\"index\": 1417, \"rain_mm\": 1.1999999999999995}, {\"index\": 1418, \"rain_mm\": 1.1999999999999995}, {\"index\": 1419, \"rain_mm\": 0.0}, {\"index\": 1420, \"rain_mm\": 0.0}, {\"index\": 1421, \"rain_mm\": 0.16249999999999998}, {\"index\": 1422, \"rain_mm\": 0.9875000000000002}, {\"index\": 1423, \"rain_mm\": 0.3625}, {\"index\": 1424, \"rain_mm\": 0.10000000000000002}, {\"index\": 1425, \"rain_mm\": 0.016666666666666666}, {\"index\": 1426, \"rain_mm\": 0.7875}, {\"index\": 1427, \"rain_mm\": 0.6124999999999999}, {\"index\": 1428, \"rain_mm\": 0.5187499999999999}, {\"index\": 1429, \"rain_mm\": 0.0}, {\"index\": 1430, \"rain_mm\": 0.0}, {\"index\": 1431, \"rain_mm\": 0.0375}, {\"index\": 1432, \"rain_mm\": 0.18333333333333335}, {\"index\": 1433, \"rain_mm\": 0.04583333333333334}, {\"index\": 1434, \"rain_mm\": 0.12083333333333335}, {\"index\": 1435, \"rain_mm\": 0.7062500000000002}, {\"index\": 1436, \"rain_mm\": 0.049999999999999996}, {\"index\": 1437, \"rain_mm\": 0.16666666666666666}, {\"index\": 1438, \"rain_mm\": 0.0}, {\"index\": 1439, \"rain_mm\": 1.0375}, {\"index\": 1440, \"rain_mm\": 0.3875}, {\"index\": 1441, \"rain_mm\": 0.0375}, {\"index\": 1442, \"rain_mm\": 0.012499999999999999}, {\"index\": 1443, \"rain_mm\": 0.0}, {\"index\": 1444, \"rain_mm\": 0.0}, {\"index\": 1445, \"rain_mm\": 0.008333333333333333}, {\"index\": 1446, \"rain_mm\": 0.004166666666666667}, {\"index\": 1447, \"rain_mm\": 0.04583333333333334}, {\"index\": 1448, \"rain_mm\": 0.0}, {\"index\": 1449, \"rain_mm\": 0.2875}, {\"index\": 1450, \"rain_mm\": 0.049999999999999996}, {\"index\": 1451, \"rain_mm\": 0.3583333333333334}, {\"index\": 1452, \"rain_mm\": 0.0}, {\"index\": 1453, \"rain_mm\": 0.016666666666666666}, {\"index\": 1454, \"rain_mm\": 0.5625}, {\"index\": 1455, \"rain_mm\": 0.0}, {\"index\": 1456, \"rain_mm\": 0.4375}, {\"index\": 1457, \"rain_mm\": 0.19999999999999998}, {\"index\": 1458, \"rain_mm\": 0.44999999999999996}, {\"index\": 1459, \"rain_mm\": 0.5791666666666667}, {\"index\": 1460, \"rain_mm\": 0.30416666666666664}, {\"index\": 1461, \"rain_mm\": 0.041666666666666664}, {\"index\": 1462, \"rain_mm\": NaN}, {\"index\": 1463, \"rain_mm\": NaN}, {\"index\": 1464, \"rain_mm\": NaN}, {\"index\": 1465, \"rain_mm\": NaN}, {\"index\": 1466, \"rain_mm\": NaN}, {\"index\": 1467, \"rain_mm\": NaN}, {\"index\": 1468, \"rain_mm\": NaN}, {\"index\": 1469, \"rain_mm\": 0.03333333333333333}, {\"index\": 1470, \"rain_mm\": 0.10625000000000001}, {\"index\": 1471, \"rain_mm\": 0.125}, {\"index\": 1472, \"rain_mm\": 0.016666666666666666}, {\"index\": 1473, \"rain_mm\": 0.008333333333333333}, {\"index\": 1474, \"rain_mm\": 0.0}, {\"index\": 1475, \"rain_mm\": 0.0}, {\"index\": 1476, \"rain_mm\": 0.09583333333333333}, {\"index\": 1477, \"rain_mm\": 0.5187499999999999}, {\"index\": 1478, \"rain_mm\": 0.17500000000000002}, {\"index\": 1479, \"rain_mm\": 0.10000000000000003}, {\"index\": 1480, \"rain_mm\": 0.0}, {\"index\": 1481, \"rain_mm\": 0.0}, {\"index\": 1482, \"rain_mm\": 0.0}, {\"index\": 1483, \"rain_mm\": 0.0}, {\"index\": 1484, \"rain_mm\": 0.225}, {\"index\": 1485, \"rain_mm\": 0.22916666666666666}, {\"index\": 1486, \"rain_mm\": 0.0}, {\"index\": 1487, \"rain_mm\": 0.23750000000000002}, {\"index\": 1488, \"rain_mm\": 0.43749999999999994}, {\"index\": 1489, \"rain_mm\": NaN}, {\"index\": 1490, \"rain_mm\": NaN}, {\"index\": 1491, \"rain_mm\": NaN}, {\"index\": 1492, \"rain_mm\": NaN}, {\"index\": 1493, \"rain_mm\": NaN}, {\"index\": 1494, \"rain_mm\": NaN}, {\"index\": 1495, \"rain_mm\": NaN}, {\"index\": 1496, \"rain_mm\": 0.0}, {\"index\": 1497, \"rain_mm\": 0.012499999999999999}, {\"index\": 1498, \"rain_mm\": 0.024999999999999998}, {\"index\": 1499, \"rain_mm\": 0.0}, {\"index\": 1500, \"rain_mm\": 0.0}, {\"index\": 1501, \"rain_mm\": 0.06666666666666667}, {\"index\": 1502, \"rain_mm\": 0.049999999999999996}, {\"index\": 1503, \"rain_mm\": 0.08750000000000001}, {\"index\": 1504, \"rain_mm\": 0.09166666666666667}, {\"index\": 1505, \"rain_mm\": 0.075}, {\"index\": 1506, \"rain_mm\": 0.025000000000000005}, {\"index\": 1507, \"rain_mm\": 0.016666666666666666}, {\"index\": 1508, \"rain_mm\": 0.016666666666666666}, {\"index\": 1509, \"rain_mm\": 0.08750000000000001}, {\"index\": 1510, \"rain_mm\": 0.008333333333333333}, {\"index\": 1511, \"rain_mm\": 0.11250000000000003}, {\"index\": 1512, \"rain_mm\": 0.26875}, {\"index\": 1513, \"rain_mm\": 0.22916666666666666}, {\"index\": 1514, \"rain_mm\": 0.5291666666666666}, {\"index\": 1515, \"rain_mm\": 0.1875}, {\"index\": 1516, \"rain_mm\": 0.29166666666666674}, {\"index\": 1517, \"rain_mm\": 0.25833333333333336}, {\"index\": 1518, \"rain_mm\": 0.0}, {\"index\": 1519, \"rain_mm\": 0.7687499999999999}, {\"index\": 1520, \"rain_mm\": 0.3583333333333334}, {\"index\": 1521, \"rain_mm\": 0.016666666666666666}, {\"index\": 1522, \"rain_mm\": 0.0}, {\"index\": 1523, \"rain_mm\": 0.008333333333333333}, {\"index\": 1524, \"rain_mm\": 0.2916666666666667}, {\"index\": 1525, \"rain_mm\": 0.35000000000000003}, {\"index\": 1526, \"rain_mm\": 0.0}, {\"index\": 1527, \"rain_mm\": 0.0}, {\"index\": 1528, \"rain_mm\": 0.0}, {\"index\": 1529, \"rain_mm\": 0.0}, {\"index\": 1530, \"rain_mm\": 0.0}, {\"index\": 1531, \"rain_mm\": 0.05416666666666667}, {\"index\": 1532, \"rain_mm\": 0.08750000000000001}, {\"index\": 1533, \"rain_mm\": 0.7375000000000002}, {\"index\": 1534, \"rain_mm\": 0.6083333333333333}, {\"index\": 1535, \"rain_mm\": 0.13333333333333333}, {\"index\": 1536, \"rain_mm\": 0.0}, {\"index\": 1537, \"rain_mm\": 0.0}, {\"index\": 1538, \"rain_mm\": 0.0}, {\"index\": 1539, \"rain_mm\": 0.24583333333333338}, {\"index\": 1540, \"rain_mm\": NaN}, {\"index\": 1541, \"rain_mm\": NaN}, {\"index\": 1542, \"rain_mm\": NaN}, {\"index\": 1543, \"rain_mm\": NaN}, {\"index\": 1544, \"rain_mm\": NaN}, {\"index\": 1545, \"rain_mm\": NaN}, {\"index\": 1546, \"rain_mm\": NaN}, {\"index\": 1547, \"rain_mm\": 0.24375}, {\"index\": 1548, \"rain_mm\": 0.7791666666666667}, {\"index\": 1549, \"rain_mm\": 0.10416666666666667}, {\"index\": 1550, \"rain_mm\": 0.03333333333333333}, {\"index\": 1551, \"rain_mm\": 0.041666666666666664}, {\"index\": 1552, \"rain_mm\": 0.0}, {\"index\": 1553, \"rain_mm\": 0.13333333333333333}, {\"index\": 1554, \"rain_mm\": 0.42500000000000004}, {\"index\": 1555, \"rain_mm\": 0.0}, {\"index\": 1556, \"rain_mm\": 0.0}, {\"index\": 1557, \"rain_mm\": 0.0}, {\"index\": 1558, \"rain_mm\": 0.016666666666666666}, {\"index\": 1559, \"rain_mm\": 0.0}, {\"index\": 1560, \"rain_mm\": 0.0}, {\"index\": 1561, \"rain_mm\": 0.13125}, {\"index\": 1562, \"rain_mm\": 0.0625}, {\"index\": 1563, \"rain_mm\": 0.0}, {\"index\": 1564, \"rain_mm\": 0.0}, {\"index\": 1565, \"rain_mm\": 0.0}, {\"index\": 1566, \"rain_mm\": 0.0}, {\"index\": 1567, \"rain_mm\": 0.0}, {\"index\": 1568, \"rain_mm\": 0.0}, {\"index\": 1569, \"rain_mm\": 0.0}, {\"index\": 1570, \"rain_mm\": 0.0}, {\"index\": 1571, \"rain_mm\": 0.05416666666666666}, {\"index\": 1572, \"rain_mm\": 0.0}, {\"index\": 1573, \"rain_mm\": 0.0}, {\"index\": 1574, \"rain_mm\": 0.0}, {\"index\": 1575, \"rain_mm\": 0.0}, {\"index\": 1576, \"rain_mm\": 0.1416666666666667}, {\"index\": 1577, \"rain_mm\": 0.0}, {\"index\": 1578, \"rain_mm\": 0.0}, {\"index\": 1579, \"rain_mm\": 0.0}, {\"index\": 1580, \"rain_mm\": 0.008333333333333333}, {\"index\": 1581, \"rain_mm\": 0.0}, {\"index\": 1582, \"rain_mm\": 0.44375000000000003}, {\"index\": 1583, \"rain_mm\": 0.5833333333333334}, {\"index\": 1584, \"rain_mm\": 0.0}, {\"index\": 1585, \"rain_mm\": 0.0}, {\"index\": 1586, \"rain_mm\": 0.7875000000000001}, {\"index\": 1587, \"rain_mm\": 0.05416666666666667}, {\"index\": 1588, \"rain_mm\": NaN}, {\"index\": 1589, \"rain_mm\": NaN}, {\"index\": 1590, \"rain_mm\": NaN}, {\"index\": 1591, \"rain_mm\": NaN}, {\"index\": 1592, \"rain_mm\": NaN}, {\"index\": 1593, \"rain_mm\": NaN}, {\"index\": 1594, \"rain_mm\": NaN}, {\"index\": 1595, \"rain_mm\": 0.0}, {\"index\": 1596, \"rain_mm\": 0.0}, {\"index\": 1597, \"rain_mm\": 0.11666666666666668}, {\"index\": 1598, \"rain_mm\": 0.049999999999999996}, {\"index\": 1599, \"rain_mm\": 0.10000000000000002}, {\"index\": 1600, \"rain_mm\": 0.05416666666666667}, {\"index\": 1601, \"rain_mm\": 0.0}, {\"index\": 1602, \"rain_mm\": 0.0}, {\"index\": 1603, \"rain_mm\": 0.0}, {\"index\": 1604, \"rain_mm\": 0.09166666666666667}, {\"index\": 1605, \"rain_mm\": 0.025000000000000005}, {\"index\": 1606, \"rain_mm\": 0.3625}, {\"index\": 1607, \"rain_mm\": 0.2583333333333333}, {\"index\": 1608, \"rain_mm\": 0.1416666666666667}, {\"index\": 1609, \"rain_mm\": 0.0}, {\"index\": 1610, \"rain_mm\": 1.4562499999999998}, {\"index\": 1611, \"rain_mm\": 0.2333333333333333}, {\"index\": 1612, \"rain_mm\": 0.012499999999999999}, {\"index\": 1613, \"rain_mm\": 0.016666666666666666}, {\"index\": 1614, \"rain_mm\": 0.0}, {\"index\": 1615, \"rain_mm\": 0.0}, {\"index\": 1616, \"rain_mm\": 0.0}, {\"index\": 1617, \"rain_mm\": 0.50625}, {\"index\": 1618, \"rain_mm\": 0.21666666666666667}, {\"index\": 1619, \"rain_mm\": 0.025000000000000005}, {\"index\": 1620, \"rain_mm\": 0.2916666666666667}, {\"index\": 1621, \"rain_mm\": NaN}, {\"index\": 1622, \"rain_mm\": NaN}, {\"index\": 1623, \"rain_mm\": NaN}, {\"index\": 1624, \"rain_mm\": NaN}, {\"index\": 1625, \"rain_mm\": NaN}, {\"index\": 1626, \"rain_mm\": NaN}, {\"index\": 1627, \"rain_mm\": NaN}, {\"index\": 1628, \"rain_mm\": 0.0}, {\"index\": 1629, \"rain_mm\": 0.0}, {\"index\": 1630, \"rain_mm\": 0.012499999999999999}, {\"index\": 1631, \"rain_mm\": 0.20624999999999996}, {\"index\": 1632, \"rain_mm\": 0.0}, {\"index\": 1633, \"rain_mm\": 0.0}, {\"index\": 1634, \"rain_mm\": 0.0}, {\"index\": 1635, \"rain_mm\": 0.0}, {\"index\": 1636, \"rain_mm\": 0.0}, {\"index\": 1637, \"rain_mm\": 0.0}, {\"index\": 1638, \"rain_mm\": 0.0}, {\"index\": 1639, \"rain_mm\": 0.0}, {\"index\": 1640, \"rain_mm\": 0.016666666666666666}, {\"index\": 1641, \"rain_mm\": 0.0}, {\"index\": 1642, \"rain_mm\": 0.0}, {\"index\": 1643, \"rain_mm\": 0.0}, {\"index\": 1644, \"rain_mm\": 0.016666666666666666}, {\"index\": 1645, \"rain_mm\": 0.0}, {\"index\": 1646, \"rain_mm\": 0.3541666666666667}, {\"index\": 1647, \"rain_mm\": 0.12916666666666668}, {\"index\": 1648, \"rain_mm\": 0.0}, {\"index\": 1649, \"rain_mm\": 0.0}, {\"index\": 1650, \"rain_mm\": 0.0}, {\"index\": 1651, \"rain_mm\": 0.0}, {\"index\": 1652, \"rain_mm\": 0.0}, {\"index\": 1653, \"rain_mm\": 0.008333333333333333}, {\"index\": 1654, \"rain_mm\": 0.0}, {\"index\": 1655, \"rain_mm\": 0.29166666666666663}, {\"index\": 1656, \"rain_mm\": 0.0}, {\"index\": 1657, \"rain_mm\": 0.0}, {\"index\": 1658, \"rain_mm\": 0.08750000000000001}, {\"index\": 1659, \"rain_mm\": 0.0}, {\"index\": 1660, \"rain_mm\": 0.0}, {\"index\": 1661, \"rain_mm\": 0.0}, {\"index\": 1662, \"rain_mm\": 0.125}, {\"index\": 1663, \"rain_mm\": NaN}, {\"index\": 1664, \"rain_mm\": NaN}, {\"index\": 1665, \"rain_mm\": NaN}, {\"index\": 1666, \"rain_mm\": NaN}, {\"index\": 1667, \"rain_mm\": NaN}, {\"index\": 1668, \"rain_mm\": NaN}, {\"index\": 1669, \"rain_mm\": NaN}, {\"index\": 1670, \"rain_mm\": 0.38749999999999996}, {\"index\": 1671, \"rain_mm\": 0.0}, {\"index\": 1672, \"rain_mm\": 0.0}, {\"index\": 1673, \"rain_mm\": 0.20000000000000004}, {\"index\": 1674, \"rain_mm\": 0.024999999999999998}, {\"index\": 1675, \"rain_mm\": 0.07083333333333333}, {\"index\": 1676, \"rain_mm\": 0.26666666666666666}, {\"index\": 1677, \"rain_mm\": 0.029166666666666664}, {\"index\": 1678, \"rain_mm\": 0.0}, {\"index\": 1679, \"rain_mm\": 0.024999999999999998}, {\"index\": 1680, \"rain_mm\": 0.3625}, {\"index\": 1681, \"rain_mm\": 1.25}, {\"index\": 1682, \"rain_mm\": 2.0833333333333335}, {\"index\": 1683, \"rain_mm\": 1.6666666666666667}, {\"index\": 1684, \"rain_mm\": 1.6666666666666667}, {\"index\": 1685, \"rain_mm\": 0.8333333333333334}, {\"index\": 1686, \"rain_mm\": 0.0}, {\"index\": 1687, \"rain_mm\": 1.04375}, {\"index\": 1688, \"rain_mm\": 0.6875}, {\"index\": 1689, \"rain_mm\": 2.4708333333333337}, {\"index\": 1690, \"rain_mm\": 0.4499999999999999}, {\"index\": 1691, \"rain_mm\": 0.0}, {\"index\": 1692, \"rain_mm\": 0.0}, {\"index\": 1693, \"rain_mm\": 0.0}, {\"index\": 1694, \"rain_mm\": 0.1875}, {\"index\": 1695, \"rain_mm\": 0.09583333333333333}, {\"index\": 1696, \"rain_mm\": 0.15416666666666667}, {\"index\": 1697, \"rain_mm\": 0.0}, {\"index\": 1698, \"rain_mm\": 0.7458333333333332}, {\"index\": 1699, \"rain_mm\": 1.3416666666666666}, {\"index\": 1700, \"rain_mm\": 0.26666666666666666}, {\"index\": 1701, \"rain_mm\": 1.04375}, {\"index\": 1702, \"rain_mm\": 0.40833333333333327}, {\"index\": 1703, \"rain_mm\": 0.016666666666666666}, {\"index\": 1704, \"rain_mm\": 0.0}, {\"index\": 1705, \"rain_mm\": 0.0}, {\"index\": 1706, \"rain_mm\": 0.0}, {\"index\": 1707, \"rain_mm\": 0.0}, {\"index\": 1708, \"rain_mm\": 0.0}, {\"index\": 1709, \"rain_mm\": 0.0}, {\"index\": 1710, \"rain_mm\": 0.0}, {\"index\": 1711, \"rain_mm\": 0.0}, {\"index\": 1712, \"rain_mm\": 0.0}, {\"index\": 1713, \"rain_mm\": 0.0}, {\"index\": 1714, \"rain_mm\": 0.0}, {\"index\": 1715, \"rain_mm\": 0.0}, {\"index\": 1716, \"rain_mm\": 0.0}, {\"index\": 1717, \"rain_mm\": 0.0}, {\"index\": 1718, \"rain_mm\": 0.0}, {\"index\": 1719, \"rain_mm\": 0.0}, {\"index\": 1720, \"rain_mm\": 0.0}, {\"index\": 1721, \"rain_mm\": 0.0}, {\"index\": 1722, \"rain_mm\": 0.0}, {\"index\": 1723, \"rain_mm\": 0.0}, {\"index\": 1724, \"rain_mm\": 0.0}, {\"index\": 1725, \"rain_mm\": 0.0}, {\"index\": 1726, \"rain_mm\": 0.0}, {\"index\": 1727, \"rain_mm\": 0.0}, {\"index\": 1728, \"rain_mm\": 0.0}, {\"index\": 1729, \"rain_mm\": 0.0}, {\"index\": 1730, \"rain_mm\": 0.0}, {\"index\": 1731, \"rain_mm\": 0.0}, {\"index\": 1732, \"rain_mm\": 0.0}, {\"index\": 1733, \"rain_mm\": 0.0}, {\"index\": 1734, \"rain_mm\": 1.25}, {\"index\": 1735, \"rain_mm\": 0.0}, {\"index\": 1736, \"rain_mm\": 0.0}, {\"index\": 1737, \"rain_mm\": 0.0}, {\"index\": 1738, \"rain_mm\": 0.0}, {\"index\": 1739, \"rain_mm\": 0.0}, {\"index\": 1740, \"rain_mm\": 0.0}, {\"index\": 1741, \"rain_mm\": 0.0}, {\"index\": 1742, \"rain_mm\": 0.0}, {\"index\": 1743, \"rain_mm\": 0.0}, {\"index\": 1744, \"rain_mm\": 0.0}, {\"index\": 1745, \"rain_mm\": 0.0}, {\"index\": 1746, \"rain_mm\": 0.0}, {\"index\": 1747, \"rain_mm\": 0.0}, {\"index\": 1748, \"rain_mm\": 0.0}, {\"index\": 1749, \"rain_mm\": 0.0}, {\"index\": 1750, \"rain_mm\": 0.0}, {\"index\": 1751, \"rain_mm\": 0.0}, {\"index\": 1752, \"rain_mm\": 0.0}, {\"index\": 1753, \"rain_mm\": 0.0}, {\"index\": 1754, \"rain_mm\": 0.0}, {\"index\": 1755, \"rain_mm\": 0.0}, {\"index\": 1756, \"rain_mm\": 0.0}, {\"index\": 1757, \"rain_mm\": 0.0}, {\"index\": 1758, \"rain_mm\": 0.0}, {\"index\": 1759, \"rain_mm\": 0.0}, {\"index\": 1760, \"rain_mm\": 0.0}, {\"index\": 1761, \"rain_mm\": 0.0}, {\"index\": 1762, \"rain_mm\": 0.0}, {\"index\": 1763, \"rain_mm\": 0.0}, {\"index\": 1764, \"rain_mm\": 0.0}, {\"index\": 1765, \"rain_mm\": 1.6666666666666667}, {\"index\": 1766, \"rain_mm\": 0.008333333333333333}, {\"index\": 1767, \"rain_mm\": 0.22083333333333335}, {\"index\": 1768, \"rain_mm\": 0.6208333333333331}, {\"index\": 1769, \"rain_mm\": 0.6749999999999999}, {\"index\": 1770, \"rain_mm\": 0.7916666666666666}, {\"index\": 1771, \"rain_mm\": 0.043750000000000004}, {\"index\": 1772, \"rain_mm\": 0.10000000000000002}, {\"index\": 1773, \"rain_mm\": 0.18750000000000003}, {\"index\": 1774, \"rain_mm\": 0.46249999999999997}, {\"index\": 1775, \"rain_mm\": 0.6125}, {\"index\": 1776, \"rain_mm\": 0.7291666666666666}, {\"index\": 1777, \"rain_mm\": 1.7125000000000001}, {\"index\": 1778, \"rain_mm\": 0.41875}, {\"index\": 1779, \"rain_mm\": 0.008333333333333333}, {\"index\": 1780, \"rain_mm\": 0.0}, {\"index\": 1781, \"rain_mm\": 0.008333333333333333}, {\"index\": 1782, \"rain_mm\": 0.04583333333333333}, {\"index\": 1783, \"rain_mm\": 0.09583333333333334}, {\"index\": 1784, \"rain_mm\": 0.0}, {\"index\": 1785, \"rain_mm\": 0.0}, {\"index\": 1786, \"rain_mm\": 0.12083333333333333}, {\"index\": 1787, \"rain_mm\": 0.41250000000000003}, {\"index\": 1788, \"rain_mm\": 0.3416666666666666}, {\"index\": 1789, \"rain_mm\": 0.11666666666666665}, {\"index\": 1790, \"rain_mm\": 0.0}, {\"index\": 1791, \"rain_mm\": 0.016666666666666666}, {\"index\": 1792, \"rain_mm\": 0.024999999999999998}, {\"index\": 1793, \"rain_mm\": 0.1958333333333333}, {\"index\": 1794, \"rain_mm\": 0.049999999999999996}, {\"index\": 1795, \"rain_mm\": 0.020833333333333332}, {\"index\": 1796, \"rain_mm\": 0.1125}, {\"index\": 1797, \"rain_mm\": 0.0}, {\"index\": 1798, \"rain_mm\": 0.13333333333333333}, {\"index\": 1799, \"rain_mm\": 1.1000000000000003}, {\"index\": 1800, \"rain_mm\": 0.008333333333333333}, {\"index\": 1801, \"rain_mm\": 0.0}, {\"index\": 1802, \"rain_mm\": 0.2166666666666667}, {\"index\": 1803, \"rain_mm\": 0.8708333333333335}, {\"index\": 1804, \"rain_mm\": 0.4708333333333334}, {\"index\": 1805, \"rain_mm\": 0.7166666666666668}, {\"index\": 1806, \"rain_mm\": 0.3875}, {\"index\": 1807, \"rain_mm\": 0.07916666666666668}, {\"index\": 1808, \"rain_mm\": 0.016666666666666666}, {\"index\": 1809, \"rain_mm\": 0.0}, {\"index\": 1810, \"rain_mm\": 0.38333333333333336}, {\"index\": 1811, \"rain_mm\": 0.08333333333333333}, {\"index\": 1812, \"rain_mm\": 0.04583333333333334}, {\"index\": 1813, \"rain_mm\": 1.0374999999999999}, {\"index\": 1814, \"rain_mm\": 0.15833333333333335}, {\"index\": 1815, \"rain_mm\": 0.12500000000000003}, {\"index\": 1816, \"rain_mm\": 0.125}, {\"index\": 1817, \"rain_mm\": 0.25}, {\"index\": 1818, \"rain_mm\": 0.049999999999999996}, {\"index\": 1819, \"rain_mm\": 0.016666666666666666}, {\"index\": 1820, \"rain_mm\": 0.19375}, {\"index\": 1821, \"rain_mm\": 0.05833333333333334}, {\"index\": 1822, \"rain_mm\": 0.0}, {\"index\": 1823, \"rain_mm\": 0.0}, {\"index\": 1824, \"rain_mm\": 0.0}, {\"index\": 1825, \"rain_mm\": 0.016666666666666666}]}}, {\"mode\": \"vega-lite\"});\n",
       "</script>"
      ],
      "text/plain": [
       "alt.Chart(...)"
      ]
     },
     "execution_count": 10,
     "metadata": {},
     "output_type": "execute_result"
    }
   ],
   "source": [
    "gauge_data.group_by_dynamic('time', every='1d').agg(pl.col(rain_col).mean())[rain_col].plot.line()"
   ]
  },
  {
   "cell_type": "markdown",
   "id": "623e68c6-f72e-4f98-b44c-6ea4201c9a1f",
   "metadata": {},
   "source": [
    "# QC1 - Percentiles \n",
    "[Back to Index](#Table-of-contents)\n",
    "\n",
    "#### Differences from `intense-qc`: \n",
    "- \n",
    "\n",
    "#### Notes on testing\n",
    "Tests need to be checking these lists"
   ]
  },
  {
   "cell_type": "code",
   "execution_count": 11,
   "id": "c092cdbb-43d1-4e9c-8cd9-b00fbb6993ee",
   "metadata": {},
   "outputs": [],
   "source": [
    "perc95 = gauge_data.group_by_dynamic('time', every='1y').agg(pl.quantile(rain_col, .95))\n",
    "perc99 = gauge_data.group_by_dynamic('time', every='1y').agg(pl.quantile(rain_col, .99))"
   ]
  },
  {
   "cell_type": "code",
   "execution_count": 12,
   "id": "b434235d-fb77-4b4b-8e43-9b5804b6f5aa",
   "metadata": {},
   "outputs": [
    {
     "data": {
      "text/plain": [
       "[]"
      ]
     },
     "execution_count": 12,
     "metadata": {},
     "output_type": "execute_result"
    }
   ],
   "source": [
    "perc95.filter(pl.col(rain_col) == 0)['time'].dt.year().to_list()"
   ]
  },
  {
   "cell_type": "code",
   "execution_count": 13,
   "id": "f8753585-d914-4d54-b23f-e704e514b2b0",
   "metadata": {},
   "outputs": [
    {
     "data": {
      "text/plain": [
       "[]"
      ]
     },
     "execution_count": 13,
     "metadata": {},
     "output_type": "execute_result"
    }
   ],
   "source": [
    "perc99.filter(pl.col(rain_col) == 0)['time'].dt.year().to_list()"
   ]
  },
  {
   "cell_type": "code",
   "execution_count": 14,
   "id": "e3bd38f4-ae99-49bc-b8e8-9f11029c5c02",
   "metadata": {},
   "outputs": [
    {
     "data": {
      "text/plain": [
       "[2006, 2007, 2008, 2009, 2010]"
      ]
     },
     "execution_count": 14,
     "metadata": {},
     "output_type": "execute_result"
    }
   ],
   "source": [
    "perc50 = gauge_data.group_by_dynamic('time', every='1y').agg(pl.quantile(rain_col, .50))\n",
    "perc50.filter(pl.col(rain_col) == 0)['time'].dt.year().to_list()"
   ]
  },
  {
   "cell_type": "code",
   "execution_count": null,
   "id": "94984b9a-13b9-4c27-b590-9a4443a50c94",
   "metadata": {},
   "outputs": [],
   "source": []
  },
  {
   "cell_type": "markdown",
   "id": "ea442e76-b0bc-42fc-8612-178546765bed",
   "metadata": {},
   "source": [
    "# QC2 - K-largest\n",
    "[Back to Index](#Table-of-contents)\n",
    "\n",
    "#### Differences from `intense-qc`: \n",
    "- \n",
    "\n",
    "#### Notes:\n",
    "- can share things with QC1 percentiles"
   ]
  },
  {
   "cell_type": "code",
   "execution_count": 15,
   "id": "95328b24-95ef-44f4-a4f5-1428917c8283",
   "metadata": {},
   "outputs": [],
   "source": [
    "## TODO: Write function\n",
    "gauge_rain_k1 = gauge_data.group_by_dynamic('time', every='1y').agg(pl.col(rain_col).top_k(1).min())\n",
    "gauge_rain_k5 = gauge_data.group_by_dynamic('time', every='1y').agg(pl.col(rain_col).top_k(5).min())\n",
    "gauge_rain_k10 = gauge_data.group_by_dynamic('time', every='1y').agg(pl.col(rain_col).top_k(10).min())"
   ]
  },
  {
   "cell_type": "code",
   "execution_count": 16,
   "id": "87737acf-5c67-4454-a41d-35df79e220fc",
   "metadata": {},
   "outputs": [
    {
     "data": {
      "text/plain": [
       "[]"
      ]
     },
     "execution_count": 16,
     "metadata": {},
     "output_type": "execute_result"
    }
   ],
   "source": [
    "gauge_rain_k10.filter(pl.col(rain_col) == 0)['time'].dt.year().to_list()"
   ]
  },
  {
   "cell_type": "code",
   "execution_count": 17,
   "id": "ae0a6522-a915-4b85-bab2-8a941f6b1c52",
   "metadata": {},
   "outputs": [],
   "source": [
    "gauge_rain_k1600 = gauge_data.group_by_dynamic('time', every='1y').agg(pl.col(rain_col).top_k(1600).min())"
   ]
  },
  {
   "cell_type": "code",
   "execution_count": 18,
   "id": "b64fd197-f726-4663-8ba1-cedb6eeef0c5",
   "metadata": {},
   "outputs": [
    {
     "data": {
      "text/plain": [
       "[2008]"
      ]
     },
     "execution_count": 18,
     "metadata": {},
     "output_type": "execute_result"
    }
   ],
   "source": [
    "gauge_rain_k1600.filter(pl.col(rain_col) == 0)['time'].dt.year().to_list()"
   ]
  },
  {
   "cell_type": "code",
   "execution_count": null,
   "id": "955070c7-db28-40e0-9927-565b4c2ee175",
   "metadata": {},
   "outputs": [],
   "source": []
  },
  {
   "cell_type": "markdown",
   "id": "23166b6e-7526-42b6-8eb7-a8fdfd2ffe3c",
   "metadata": {},
   "source": [
    "# QC3 - Days of week\n",
    "[Back to Index](#Table-of-contents)\n",
    "\n",
    "#### Differences from `intense-qc`: \n",
    "- "
   ]
  },
  {
   "cell_type": "code",
   "execution_count": 19,
   "id": "beb8251f-6728-4a2d-8891-5320c4a8bed8",
   "metadata": {},
   "outputs": [
    {
     "data": {
      "text/html": [
       "<div><style>\n",
       ".dataframe > thead > tr,\n",
       ".dataframe > tbody > tr {\n",
       "  text-align: right;\n",
       "  white-space: pre-wrap;\n",
       "}\n",
       "</style>\n",
       "<small>shape: (7,)</small><table border=\"1\" class=\"dataframe\"><thead><tr><th>rain_mm</th></tr><tr><td>f64</td></tr></thead><tbody><tr><td>0.248514</td></tr><tr><td>0.187893</td></tr><tr><td>0.237831</td></tr><tr><td>1.991163</td></tr><tr><td>1.049387</td></tr><tr><td>0.213417</td></tr><tr><td>0.262668</td></tr></tbody></table></div>"
      ],
      "text/plain": [
       "shape: (7,)\n",
       "Series: 'rain_mm' [f64]\n",
       "[\n",
       "\t0.248514\n",
       "\t0.187893\n",
       "\t0.237831\n",
       "\t1.991163\n",
       "\t1.049387\n",
       "\t0.213417\n",
       "\t0.262668\n",
       "]"
      ]
     },
     "execution_count": 19,
     "metadata": {},
     "output_type": "execute_result"
    }
   ],
   "source": [
    "gauge_weekday_mean = gauge_data.group_by(pl.col('time').dt.weekday()).agg(pl.col(rain_col).drop_nans().mean())[rain_col]\n",
    "gauge_weekday_mean"
   ]
  },
  {
   "cell_type": "code",
   "execution_count": 20,
   "id": "b2a7a009-6d2d-4def-b6b0-f66c134a542b",
   "metadata": {},
   "outputs": [
    {
     "data": {
      "text/plain": [
       "0.5987189676936745"
      ]
     },
     "execution_count": 20,
     "metadata": {},
     "output_type": "execute_result"
    }
   ],
   "source": [
    "gauage_data_mean = gauge_data[rain_col].drop_nans().mean()\n",
    "gauage_data_mean"
   ]
  },
  {
   "cell_type": "code",
   "execution_count": 21,
   "id": "186738b1-acc7-4393-85cf-1b25bd5e1a57",
   "metadata": {},
   "outputs": [],
   "source": [
    "t_stat, p_val = scipy.stats.ttest_1samp(gauge_weekday_mean, gauage_data_mean)"
   ]
  },
  {
   "cell_type": "code",
   "execution_count": 22,
   "id": "4305f12d-6517-4395-97b7-264206938dad",
   "metadata": {},
   "outputs": [
    {
     "data": {
      "text/plain": [
       "(np.float64(-8.807848472080411e-05), np.float64(0.9999325789548257))"
      ]
     },
     "execution_count": 22,
     "metadata": {},
     "output_type": "execute_result"
    }
   ],
   "source": [
    "t_stat, p_val"
   ]
  },
  {
   "cell_type": "code",
   "execution_count": null,
   "id": "5b243975-c0d3-4145-9337-0c68448cab8a",
   "metadata": {},
   "outputs": [],
   "source": []
  },
  {
   "cell_type": "markdown",
   "id": "d2b69c9e-32d5-4c5b-b86a-cf315f37d09a",
   "metadata": {},
   "source": [
    "# QC4 - Hours of day\n",
    "[Back to Index](#Table-of-contents)\n",
    "\n",
    "#### Differences from `intense-qc`: \n",
    "- \n",
    "\n",
    "#### Notes:\n",
    "- can share functionality with QC3"
   ]
  },
  {
   "cell_type": "code",
   "execution_count": 23,
   "id": "f06d802c-054d-407b-b200-8226f8a6921e",
   "metadata": {},
   "outputs": [
    {
     "data": {
      "text/html": [
       "<div><style>\n",
       ".dataframe > thead > tr,\n",
       ".dataframe > tbody > tr {\n",
       "  text-align: right;\n",
       "  white-space: pre-wrap;\n",
       "}\n",
       "</style>\n",
       "<small>shape: (24,)</small><table border=\"1\" class=\"dataframe\"><thead><tr><th>rain_mm</th></tr><tr><td>f64</td></tr></thead><tbody><tr><td>0.482763</td></tr><tr><td>0.534137</td></tr><tr><td>0.451768</td></tr><tr><td>0.480605</td></tr><tr><td>1.000645</td></tr><tr><td>&hellip;</td></tr><tr><td>0.560236</td></tr><tr><td>0.48963</td></tr><tr><td>0.499944</td></tr><tr><td>0.480612</td></tr><tr><td>0.464731</td></tr></tbody></table></div>"
      ],
      "text/plain": [
       "shape: (24,)\n",
       "Series: 'rain_mm' [f64]\n",
       "[\n",
       "\t0.482763\n",
       "\t0.534137\n",
       "\t0.451768\n",
       "\t0.480605\n",
       "\t1.000645\n",
       "\t…\n",
       "\t0.560236\n",
       "\t0.48963\n",
       "\t0.499944\n",
       "\t0.480612\n",
       "\t0.464731\n",
       "]"
      ]
     },
     "execution_count": 23,
     "metadata": {},
     "output_type": "execute_result"
    }
   ],
   "source": [
    "gauge_hourofday_mean = gauge_data.group_by(pl.col('time').dt.hour()).agg(pl.col(rain_col).drop_nans().mean())[rain_col]\n",
    "gauge_hourofday_mean"
   ]
  },
  {
   "cell_type": "code",
   "execution_count": 24,
   "id": "4c88cda0-65f8-49f5-b067-320d01c2bf94",
   "metadata": {},
   "outputs": [
    {
     "data": {
      "text/plain": [
       "0.5987189676936745"
      ]
     },
     "execution_count": 24,
     "metadata": {},
     "output_type": "execute_result"
    }
   ],
   "source": [
    "gauage_data_mean = gauge_data[rain_col].drop_nans().mean()\n",
    "gauage_data_mean"
   ]
  },
  {
   "cell_type": "code",
   "execution_count": 25,
   "id": "2a6fb6e9-7a21-42b0-b8da-4128f9e11a9a",
   "metadata": {},
   "outputs": [],
   "source": [
    "t_stat, p_val = scipy.stats.ttest_1samp(gauge_hourofday_mean, gauage_data_mean)"
   ]
  },
  {
   "cell_type": "code",
   "execution_count": 26,
   "id": "093feef6-4bca-42c4-a6d5-4e30909cbb48",
   "metadata": {},
   "outputs": [
    {
     "data": {
      "text/plain": [
       "(np.float64(-0.0005176401871918742), np.float64(0.9995914465158195))"
      ]
     },
     "execution_count": 26,
     "metadata": {},
     "output_type": "execute_result"
    }
   ],
   "source": [
    "t_stat, p_val"
   ]
  },
  {
   "cell_type": "code",
   "execution_count": null,
   "id": "9088361d",
   "metadata": {},
   "outputs": [],
   "source": []
  },
  {
   "cell_type": "markdown",
   "id": "4d7f8914-9352-4b40-97cc-33e39fd83045",
   "metadata": {},
   "source": [
    "# QC5 - Intermittency \n",
    "[Back to Index](#Table-of-contents)\n",
    "\n",
    "#### Differences from `intense-qc`: \n",
    "- using polars and cum_sum checks instead of for loops\n",
    "\n",
    "#### Potential problems:\n",
    "- may rely on metadata to determine missing values\n",
    "- check out 'intermittency period identificiation error' part of code in original implementation"
   ]
  },
  {
   "cell_type": "code",
   "execution_count": 27,
   "id": "dbe6f23a",
   "metadata": {},
   "outputs": [],
   "source": [
    "test_data = pl.DataFrame({\n",
    "    rain_col: [np.nan, np.nan, 1, None, None, 4, None, None, None, 8, None, 9, None, None, 12, None, None]\n",
    "})"
   ]
  },
  {
   "cell_type": "code",
   "execution_count": 28,
   "id": "846a9a08",
   "metadata": {},
   "outputs": [],
   "source": [
    "missing_values_mask = (gauge_data[rain_col].is_nan())"
   ]
  },
  {
   "cell_type": "code",
   "execution_count": 29,
   "id": "ef7d2a15",
   "metadata": {},
   "outputs": [
    {
     "name": "stdout",
     "output_type": "stream",
     "text": [
      "1046 missing values\n"
     ]
    }
   ],
   "source": [
    "print(f'{(missing_values_mask).sum()} missing values')"
   ]
  },
  {
   "cell_type": "code",
   "execution_count": 30,
   "id": "f6d788d6",
   "metadata": {},
   "outputs": [],
   "source": [
    "# Identify missing values\n",
    "gauge_data_missing = gauge_data.with_columns(\n",
    "    (missing_values_mask).alias(\"is_missing\")\n",
    ")\n"
   ]
  },
  {
   "cell_type": "code",
   "execution_count": 31,
   "id": "515fce20",
   "metadata": {},
   "outputs": [],
   "source": [
    "# Identify group numbers for consecutive nulls\n",
    "gauge_data_missing_groups = gauge_data_missing.with_columns(\n",
    "    (pl.when(gauge_data_missing[\"is_missing\"])\n",
    "     .then((~gauge_data_missing[\"is_missing\"]).cum_sum())\n",
    "     .otherwise(None)).alias(\"group\")\n",
    ")"
   ]
  },
  {
   "cell_type": "code",
   "execution_count": 32,
   "id": "e7f137fb",
   "metadata": {},
   "outputs": [],
   "source": [
    "gauge_data_missing_group_counts = gauge_data_missing_groups.group_by(\"group\").agg(\n",
    "    pl.col(\"is_missing\").sum().alias(\"count\")\n",
    ")"
   ]
  },
  {
   "cell_type": "code",
   "execution_count": 33,
   "id": "770b1e92",
   "metadata": {},
   "outputs": [],
   "source": [
    "# Get groups with 2 or more missing values\n",
    "no_data_period_groups = gauge_data_missing_group_counts.filter(pl.col(\"count\") >= 2)[\"group\"]\n"
   ]
  },
  {
   "cell_type": "code",
   "execution_count": 34,
   "id": "9c7a4223",
   "metadata": {},
   "outputs": [
    {
     "data": {
      "text/html": [
       "<div><style>\n",
       ".dataframe > thead > tr,\n",
       ".dataframe > tbody > tr {\n",
       "  text-align: right;\n",
       "  white-space: pre-wrap;\n",
       "}\n",
       "</style>\n",
       "<small>shape: (15,)</small><table border=\"1\" class=\"dataframe\"><thead><tr><th>group</th></tr><tr><td>u32</td></tr></thead><tbody><tr><td>670</td></tr><tr><td>35050</td></tr><tr><td>659</td></tr><tr><td>532</td></tr><tr><td>3607</td></tr><tr><td>&hellip;</td></tr><tr><td>25585</td></tr><tr><td>36586</td></tr><tr><td>4794</td></tr><tr><td>37570</td></tr><tr><td>680</td></tr></tbody></table></div>"
      ],
      "text/plain": [
       "shape: (15,)\n",
       "Series: 'group' [u32]\n",
       "[\n",
       "\t670\n",
       "\t35050\n",
       "\t659\n",
       "\t532\n",
       "\t3607\n",
       "\t…\n",
       "\t25585\n",
       "\t36586\n",
       "\t4794\n",
       "\t37570\n",
       "\t680\n",
       "]"
      ]
     },
     "execution_count": 34,
     "metadata": {},
     "output_type": "execute_result"
    }
   ],
   "source": [
    "## should be 15 for this data\n",
    "no_data_period_groups"
   ]
  },
  {
   "cell_type": "code",
   "execution_count": 35,
   "id": "e8face95",
   "metadata": {},
   "outputs": [],
   "source": [
    "# Select rows belonging to valid groups\n",
    "gauge_data_no_data_periods = gauge_data_missing_groups.filter(pl.col(\"group\").is_in(no_data_period_groups))\n"
   ]
  },
  {
   "cell_type": "code",
   "execution_count": 36,
   "id": "77fa82b0",
   "metadata": {},
   "outputs": [],
   "source": [
    "gauge_data_year_counts = gauge_data_no_data_periods.select(pl.col(\"time\").dt.year()).to_series().value_counts()"
   ]
  },
  {
   "cell_type": "code",
   "execution_count": 37,
   "id": "c1821326",
   "metadata": {},
   "outputs": [
    {
     "data": {
      "text/html": [
       "<div><style>\n",
       ".dataframe > thead > tr,\n",
       ".dataframe > tbody > tr {\n",
       "  text-align: right;\n",
       "  white-space: pre-wrap;\n",
       "}\n",
       "</style>\n",
       "<small>shape: (3, 2)</small><table border=\"1\" class=\"dataframe\"><thead><tr><th>time</th><th>count</th></tr><tr><td>i32</td><td>u32</td></tr></thead><tbody><tr><td>2010</td><td>1008</td></tr><tr><td>2006</td><td>22</td></tr><tr><td>2008</td><td>2</td></tr></tbody></table></div>"
      ],
      "text/plain": [
       "shape: (3, 2)\n",
       "┌──────┬───────┐\n",
       "│ time ┆ count │\n",
       "│ ---  ┆ ---   │\n",
       "│ i32  ┆ u32   │\n",
       "╞══════╪═══════╡\n",
       "│ 2010 ┆ 1008  │\n",
       "│ 2006 ┆ 22    │\n",
       "│ 2008 ┆ 2     │\n",
       "└──────┴───────┘"
      ]
     },
     "execution_count": 37,
     "metadata": {},
     "output_type": "execute_result"
    }
   ],
   "source": [
    "gauge_data_year_counts"
   ]
  },
  {
   "cell_type": "code",
   "execution_count": 38,
   "id": "10e37805",
   "metadata": {},
   "outputs": [
    {
     "data": {
      "text/plain": [
       "[2010, 2006]"
      ]
     },
     "execution_count": 38,
     "metadata": {},
     "output_type": "execute_result"
    }
   ],
   "source": [
    "gauge_data_year_counts.filter(pl.col('count') >= 5)['time'].to_list()"
   ]
  },
  {
   "cell_type": "markdown",
   "id": "c07bb7c8-c760-4108-81c6-c26d9a3bc245",
   "metadata": {},
   "source": [
    "# QC6 - Breakpoints\n",
    "[Back to Index](#Table-of-contents)\n",
    "\n",
    "#### Differences from `intense-qc`:\n",
    "- Use python implementation of Pettitt test instead of rpy\n",
    "\n",
    "##### Notes for testing:\n",
    "- could compare results to this package: https://github.com/mmhs013/pyHomogeneity/tree/master\n",
    "- Need to put some NaNs in and check it still works. \n",
    "- Also NaN values may mess up "
   ]
  },
  {
   "cell_type": "code",
   "execution_count": 39,
   "id": "4493cbf2-410e-4439-a7fa-297111192dfb",
   "metadata": {},
   "outputs": [],
   "source": [
    "def pettitt_test(X):\n",
    "    \"\"\"\n",
    "    Pettitt test calculated following Pettitt (1979): https://www.jstor.org/stable/2346729?seq=4#metadata_info_tab_contents\n",
    "\n",
    "    TAKEN FROM: https://stackoverflow.com/questions/58537876/how-to-run-standard-normal-homogeneity-test-for-a-time-series-data\n",
    "    \"\"\"\n",
    "\n",
    "    T = len(X)\n",
    "    U = []\n",
    "    for t in range(T): # t is used to split X into two subseries\n",
    "        X_stack = np.zeros((t, len(X[t:]) + 1), dtype=int)\n",
    "        X_stack[:,0] = X[:t] # first column is each element of the first subseries\n",
    "        X_stack[:,1:] = X[t:] # all rows after the first element are the second subseries\n",
    "        U.append(np.sign(X_stack[:,0] - X_stack[:,1:].transpose()).sum()) # sign test between each element of the first subseries and all elements of the second subseries, summed.\n",
    "\n",
    "    tau = np.argmax(np.abs(U)) # location of change (first data point of second sub-series)\n",
    "    K = np.max(np.abs(U))\n",
    "    p = 2 * np.exp(-6 * K**2 / (T**3 + T**2))\n",
    "    return (tau, p)"
   ]
  },
  {
   "cell_type": "code",
   "execution_count": 40,
   "id": "5f1028e6-5f08-4a46-9605-f969576cbb63",
   "metadata": {},
   "outputs": [],
   "source": [
    "gauge_data_daily_upsample = gauge_data.upsample('time', every='1d')"
   ]
  },
  {
   "cell_type": "code",
   "execution_count": 41,
   "id": "622994d3-25f5-4cdf-a709-4dc52acfdecc",
   "metadata": {},
   "outputs": [
    {
     "name": "stdout",
     "output_type": "stream",
     "text": [
      "CPU times: user 2.77 s, sys: 1.92 s, total: 4.69 s\n",
      "Wall time: 4.69 s\n"
     ]
    }
   ],
   "source": [
    "%%time\n",
    "## 5 seconds\n",
    "tau, p_val = pettitt_test(gauge_data_daily_upsample[rain_col].fill_nan(0.0))"
   ]
  },
  {
   "cell_type": "code",
   "execution_count": 42,
   "id": "7022b819",
   "metadata": {},
   "outputs": [
    {
     "data": {
      "text/plain": [
       "(np.int64(682), np.float64(1.343422289290123))"
      ]
     },
     "execution_count": 42,
     "metadata": {},
     "output_type": "execute_result"
    }
   ],
   "source": [
    "tau, p_val"
   ]
  },
  {
   "cell_type": "code",
   "execution_count": 43,
   "id": "c2af4865",
   "metadata": {},
   "outputs": [],
   "source": [
    "import pyhomogeneity"
   ]
  },
  {
   "cell_type": "code",
   "execution_count": 44,
   "id": "d1b87e88",
   "metadata": {},
   "outputs": [
    {
     "name": "stdout",
     "output_type": "stream",
     "text": [
      "CPU times: user 4.07 s, sys: 59.6 ms, total: 4.13 s\n",
      "Wall time: 4.13 s\n"
     ]
    },
    {
     "data": {
      "text/plain": [
       "Pettitt_Test(h=np.False_, cp=np.int64(826), p=np.float64(0.89175), U=np.float64(25480.0), avg=mean(mu1=np.float64(1.4901937046004843), mu2=np.float64(0.3135)))"
      ]
     },
     "execution_count": 44,
     "metadata": {},
     "output_type": "execute_result"
    }
   ],
   "source": [
    "%%time\n",
    "## 5 seconds\n",
    "result = pyhomogeneity.pettitt_test(gauge_data_daily_upsample[rain_col].fill_nan(0.0))\n",
    "result"
   ]
  },
  {
   "cell_type": "markdown",
   "id": "4f5c0498-edd5-445b-9f1c-60f7f6a25fd5",
   "metadata": {},
   "source": [
    "# QC7 - Minimum value change \n",
    "[Back to Index](#Table-of-contents)\n",
    "\n",
    "#### Differences from `intense-qc`: \n",
    "- \n",
    "\n",
    "#### Potential problems:\n",
    "- relies on resolution given in metadata\n",
    "\n",
    "#### Notes on testing:\n",
    "- "
   ]
  },
  {
   "cell_type": "code",
   "execution_count": 45,
   "id": "a777e6b4",
   "metadata": {},
   "outputs": [],
   "source": [
    "gauge_data_nonzero = gauge_data.filter(pl.col(rain_col) > 0)"
   ]
  },
  {
   "cell_type": "code",
   "execution_count": 46,
   "id": "5f0e06b7",
   "metadata": {},
   "outputs": [
    {
     "data": {
      "text/html": [
       "<div><style>\n",
       ".dataframe > thead > tr,\n",
       ".dataframe > tbody > tr {\n",
       "  text-align: right;\n",
       "  white-space: pre-wrap;\n",
       "}\n",
       "</style>\n",
       "<small>shape: (5, 2)</small><table border=\"1\" class=\"dataframe\"><thead><tr><th>time</th><th>rain_mm</th></tr><tr><td>datetime[μs]</td><td>f64</td></tr></thead><tbody><tr><td>2006-01-01 00:00:00</td><td>0.2</td></tr><tr><td>2007-01-01 00:00:00</td><td>0.1</td></tr><tr><td>2008-01-01 00:00:00</td><td>0.1</td></tr><tr><td>2009-01-01 00:00:00</td><td>0.1</td></tr><tr><td>2010-01-01 00:00:00</td><td>0.2</td></tr></tbody></table></div>"
      ],
      "text/plain": [
       "shape: (5, 2)\n",
       "┌─────────────────────┬─────────┐\n",
       "│ time                ┆ rain_mm │\n",
       "│ ---                 ┆ ---     │\n",
       "│ datetime[μs]        ┆ f64     │\n",
       "╞═════════════════════╪═════════╡\n",
       "│ 2006-01-01 00:00:00 ┆ 0.2     │\n",
       "│ 2007-01-01 00:00:00 ┆ 0.1     │\n",
       "│ 2008-01-01 00:00:00 ┆ 0.1     │\n",
       "│ 2009-01-01 00:00:00 ┆ 0.1     │\n",
       "│ 2010-01-01 00:00:00 ┆ 0.2     │\n",
       "└─────────────────────┴─────────┘"
      ]
     },
     "execution_count": 46,
     "metadata": {},
     "output_type": "execute_result"
    }
   ],
   "source": [
    "gauge_min_by_year = gauge_data_nonzero.group_by_dynamic(pl.col('time'), every='1y').agg(pl.col(rain_col).min())\n",
    "gauge_min_by_year"
   ]
  },
  {
   "cell_type": "code",
   "execution_count": 47,
   "id": "4a926c76",
   "metadata": {},
   "outputs": [],
   "source": [
    "resolution = float(metadata['resolution'])"
   ]
  },
  {
   "cell_type": "code",
   "execution_count": 48,
   "id": "98eb9014",
   "metadata": {},
   "outputs": [],
   "source": [
    "non_res_years = gauge_min_by_year.filter(pl.col(rain_col) != resolution)"
   ]
  },
  {
   "cell_type": "code",
   "execution_count": 49,
   "id": "b25493c3",
   "metadata": {},
   "outputs": [
    {
     "data": {
      "text/plain": [
       "[2006, 2010]"
      ]
     },
     "execution_count": 49,
     "metadata": {},
     "output_type": "execute_result"
    }
   ],
   "source": [
    "\n",
    "non_res_years['time'].dt.year().to_list()"
   ]
  },
  {
   "cell_type": "code",
   "execution_count": null,
   "id": "774f497b",
   "metadata": {},
   "outputs": [],
   "source": []
  },
  {
   "cell_type": "code",
   "execution_count": null,
   "id": "af7e3a12",
   "metadata": {},
   "outputs": [],
   "source": []
  }
 ],
 "metadata": {
  "kernelspec": {
   "display_name": "rainfallqc",
   "language": "python",
   "name": "python3"
  },
  "language_info": {
   "codemirror_mode": {
    "name": "ipython",
    "version": 3
   },
   "file_extension": ".py",
   "mimetype": "text/x-python",
   "name": "python",
   "nbconvert_exporter": "python",
   "pygments_lexer": "ipython3",
   "version": "3.13.1"
  }
 },
 "nbformat": 4,
 "nbformat_minor": 5
}
