{
 "cells": [
  {
   "cell_type": "markdown",
   "id": "bdbec22d-18ea-4cfb-a859-17391a802764",
   "metadata": {},
   "source": [
    "# Rain gauge checks for quality control flags\n",
    "Covers QC1-7\n",
    "\n",
    "## Table of contents\n",
    "[QC1 Percentiles](#QC1---Percentiles)  \n",
    "[QC2 K-largest](#QC2---K-largest)  \n",
    "[QC3 Days of week](#QC3---Days-of-week)  \n",
    "[QC4 Hours of day](#QC4---Hours-of-day)  \n",
    "[QC5 Intermittency](#QC5---Intermittency)  \n",
    "[QC6 Breakpoints](#QC6---Breakpoints)  \n",
    "[QC7 Minimum value change](#QC7---Minimum-value-change)  \n",
    "\n",
    "See '3.3 Suspect gauges' in Lewis et al. (2021)"
   ]
  },
  {
   "cell_type": "code",
   "execution_count": 1,
   "id": "a1bc24fa-d3f4-4b0b-a124-87644c7cec4b",
   "metadata": {},
   "outputs": [],
   "source": [
    "import datetime\n",
    "import polars as pl\n",
    "import pandas as pd\n",
    "import numpy as np"
   ]
  },
  {
   "cell_type": "code",
   "execution_count": 132,
   "id": "1cdad59e-97fb-4f1a-8415-7a54550af56a",
   "metadata": {},
   "outputs": [],
   "source": [
    "def read_intense_metadata(data_path):\n",
    "    metadata = {}\n",
    "\n",
    "    with open(data_path, 'r') as f:\n",
    "        while True:\n",
    "            key, val = f.readline().strip().split(':', maxsplit=1)\n",
    "            key = key.lower().replace(' ', '_')\n",
    "            metadata[key.strip()] = val.strip()\n",
    "            if key == 'other':\n",
    "                break\n",
    "    return metadata"
   ]
  },
  {
   "cell_type": "code",
   "execution_count": 134,
   "id": "90862152-7965-4e8b-aca0-5a63cfef2e4c",
   "metadata": {},
   "outputs": [],
   "source": [
    "metadata = read_intense_metadata(data_path='../data/gauge_data/DE_02483.txt')\n",
    "startdate = datetime.datetime.strptime(metadata['start_datetime'], '%Y%m%d%H')\n",
    "enddate = datetime.datetime.strptime(metadata['end_datetime'], '%Y%m%d%H')"
   ]
  },
  {
   "cell_type": "code",
   "execution_count": 151,
   "id": "33e4bea6-f7e3-4e7b-8187-87648ad926c5",
   "metadata": {},
   "outputs": [
    {
     "data": {
      "text/plain": [
       "{'station_id': 'DE_02483',\n",
       " 'country': 'Germany',\n",
       " 'original_station_number': '02483',\n",
       " 'original_station_name': 'NA',\n",
       " 'path_to_original_data': 'B:/INTENSE data/Original data/Germany/hourly/precipitation/historical/stundenwerte_RR_02483_19951012_20141231_hist.zip,B:/INTENSE data/Original data/Germany/hourly/precipitation/recent/stundenwerte_RR_02483_akt.zip',\n",
       " 'latitude': '51.1803',\n",
       " 'longitude': '8.4891',\n",
       " 'start_datetime': '2006010100',\n",
       " 'end_datetime': '2010123123',\n",
       " 'elevation': '839m',\n",
       " 'number_of_records': '43824',\n",
       " 'percent_missing_data': '0.00',\n",
       " 'original_timestep': '1hr',\n",
       " 'new_timestep': '1hr',\n",
       " 'original_units': 'mm',\n",
       " 'new_units': 'mm',\n",
       " 'time_zone': 'CET',\n",
       " 'daylight_saving_info': 'NA',\n",
       " 'no_data_value': '-999',\n",
       " 'resolution': '0.10',\n",
       " 'other': ''}"
      ]
     },
     "execution_count": 151,
     "metadata": {},
     "output_type": "execute_result"
    }
   ],
   "source": [
    "metadata"
   ]
  },
  {
   "cell_type": "code",
   "execution_count": 154,
   "id": "4d227e75-c67b-4acd-a001-1016a5641a74",
   "metadata": {},
   "outputs": [],
   "source": [
    "precip_col = f'precip_{metadata['original_units']}'"
   ]
  },
  {
   "cell_type": "code",
   "execution_count": 155,
   "id": "69bcfb4a-2da1-4187-b904-228285144bf2",
   "metadata": {},
   "outputs": [],
   "source": [
    "def get_delta(d1, d2):\n",
    "    delta = d2 - d1\n",
    "    return delta\n",
    "\n",
    "hourly_date_interval = []\n",
    "delta = get_delta(startdate, enddate+datetime.timedelta(days=1))\n",
    "for i in range(delta.days * 24):\n",
    "    hourly_date_interval.append(startdate + datetime.timedelta(hours=i))\n"
   ]
  },
  {
   "cell_type": "code",
   "execution_count": 157,
   "id": "368479e0-c1ac-4b6e-a21d-7a4a54beb7c3",
   "metadata": {},
   "outputs": [],
   "source": [
    "gauge_data = pl.read_csv('../data/gauge_data/DE_02483.txt', skip_rows=20)\n",
    "\n",
    "assert len(gauge_data) == len(hourly_date_interval)\n",
    "\n",
    "## set time columns\n",
    "gauge_data = gauge_data.with_columns(time=pl.Series(hourly_date_interval))\n",
    "\n",
    "## Rename\n",
    "gauge_data = gauge_data.rename({'Other: ': precip_col})\n",
    "\n",
    "## Reorder (to look nice)\n",
    "gauge_data = gauge_data.select(['time', precip_col])"
   ]
  },
  {
   "cell_type": "code",
   "execution_count": 158,
   "id": "79500732-d705-49a1-9918-fc3309bb3dac",
   "metadata": {},
   "outputs": [
    {
     "data": {
      "text/html": [
       "<div><style>\n",
       ".dataframe > thead > tr,\n",
       ".dataframe > tbody > tr {\n",
       "  text-align: right;\n",
       "  white-space: pre-wrap;\n",
       "}\n",
       "</style>\n",
       "<small>shape: (5, 2)</small><table border=\"1\" class=\"dataframe\"><thead><tr><th>time</th><th>precip_mm</th></tr><tr><td>datetime[μs]</td><td>f64</td></tr></thead><tbody><tr><td>2006-01-01 00:00:00</td><td>0.9</td></tr><tr><td>2006-01-01 01:00:00</td><td>0.3</td></tr><tr><td>2006-01-01 02:00:00</td><td>0.3</td></tr><tr><td>2006-01-01 03:00:00</td><td>0.0</td></tr><tr><td>2006-01-01 04:00:00</td><td>0.0</td></tr></tbody></table></div>"
      ],
      "text/plain": [
       "shape: (5, 2)\n",
       "┌─────────────────────┬───────────┐\n",
       "│ time                ┆ precip_mm │\n",
       "│ ---                 ┆ ---       │\n",
       "│ datetime[μs]        ┆ f64       │\n",
       "╞═════════════════════╪═══════════╡\n",
       "│ 2006-01-01 00:00:00 ┆ 0.9       │\n",
       "│ 2006-01-01 01:00:00 ┆ 0.3       │\n",
       "│ 2006-01-01 02:00:00 ┆ 0.3       │\n",
       "│ 2006-01-01 03:00:00 ┆ 0.0       │\n",
       "│ 2006-01-01 04:00:00 ┆ 0.0       │\n",
       "└─────────────────────┴───────────┘"
      ]
     },
     "execution_count": 158,
     "metadata": {},
     "output_type": "execute_result"
    }
   ],
   "source": [
    "gauge_data.head()"
   ]
  },
  {
   "cell_type": "markdown",
   "id": "623e68c6-f72e-4f98-b44c-6ea4201c9a1f",
   "metadata": {},
   "source": [
    "# QC1 - Percentiles \n",
    "[Back to Index](#Table-of-contents)\n",
    "\n",
    "#### Differences from `intenseqc`: \n",
    "- "
   ]
  },
  {
   "cell_type": "code",
   "execution_count": 207,
   "id": "c092cdbb-43d1-4e9c-8cd9-b00fbb6993ee",
   "metadata": {},
   "outputs": [],
   "source": [
    "perc95 = gauge_data.group_by_dynamic('time', every='1y').agg(pl.quantile(\"precip_mm\", .95))\n",
    "perc99 = gauge_data.group_by_dynamic('time', every='1y').agg(pl.quantile(\"precip_mm\", .99))"
   ]
  },
  {
   "cell_type": "code",
   "execution_count": 208,
   "id": "b434235d-fb77-4b4b-8e43-9b5804b6f5aa",
   "metadata": {},
   "outputs": [
    {
     "data": {
      "text/plain": [
       "[]"
      ]
     },
     "execution_count": 208,
     "metadata": {},
     "output_type": "execute_result"
    }
   ],
   "source": [
    "list(perc95.filter(pl.col(\"precip_mm\") == 0)['time'].dt.year())"
   ]
  },
  {
   "cell_type": "code",
   "execution_count": 209,
   "id": "f8753585-d914-4d54-b23f-e704e514b2b0",
   "metadata": {},
   "outputs": [
    {
     "data": {
      "text/plain": [
       "[]"
      ]
     },
     "execution_count": 209,
     "metadata": {},
     "output_type": "execute_result"
    }
   ],
   "source": [
    "list(perc99.filter(pl.col(\"precip_mm\") == 0)['time'].dt.year())"
   ]
  },
  {
   "cell_type": "code",
   "execution_count": 210,
   "id": "e3bd38f4-ae99-49bc-b8e8-9f11029c5c02",
   "metadata": {},
   "outputs": [
    {
     "data": {
      "text/plain": [
       "[2006, 2007, 2008, 2009, 2010]"
      ]
     },
     "execution_count": 210,
     "metadata": {},
     "output_type": "execute_result"
    }
   ],
   "source": [
    "perc50 = gauge_data.group_by_dynamic('time', every='1y').agg(pl.quantile(\"precip_mm\", .50))\n",
    "list(perc50.filter(pl.col(\"precip_mm\") == 0)['time'].dt.year())"
   ]
  },
  {
   "cell_type": "code",
   "execution_count": null,
   "id": "5ba28456-5510-4b9c-83e5-fae2397f595d",
   "metadata": {},
   "outputs": [],
   "source": []
  },
  {
   "cell_type": "markdown",
   "id": "ea442e76-b0bc-42fc-8612-178546765bed",
   "metadata": {},
   "source": [
    "# QC2 - K-largest\n",
    "[Back to Index](#Table-of-contents)\n",
    "\n",
    "#### Differences from `intenseqc`: \n",
    "- "
   ]
  },
  {
   "cell_type": "code",
   "execution_count": null,
   "id": "958f02be-d349-4aa9-9f1b-ad022194074c",
   "metadata": {},
   "outputs": [],
   "source": []
  },
  {
   "cell_type": "markdown",
   "id": "23166b6e-7526-42b6-8eb7-a8fdfd2ffe3c",
   "metadata": {},
   "source": [
    "# QC3 - Days of week\n",
    "[Back to Index](#Table-of-contents)\n",
    "\n",
    "#### Differences from `intenseqc`: \n",
    "- "
   ]
  },
  {
   "cell_type": "code",
   "execution_count": null,
   "id": "7f02f9cd-5341-4bba-bdcc-edbda6ddd10b",
   "metadata": {},
   "outputs": [],
   "source": []
  },
  {
   "cell_type": "markdown",
   "id": "d2b69c9e-32d5-4c5b-b86a-cf315f37d09a",
   "metadata": {},
   "source": [
    "# QC4 - Hours of day\n",
    "[Back to Index](#Table-of-contents)\n",
    "\n",
    "#### Differences from `intenseqc`: \n",
    "- "
   ]
  },
  {
   "cell_type": "code",
   "execution_count": null,
   "id": "f6018bfa-f08e-4438-a3b8-5193ea8d627a",
   "metadata": {},
   "outputs": [],
   "source": []
  },
  {
   "cell_type": "markdown",
   "id": "4d7f8914-9352-4b40-97cc-33e39fd83045",
   "metadata": {},
   "source": [
    "# QC5 - Intermittency \n",
    "[Back to Index](#Table-of-contents)\n",
    "\n",
    "#### Differences from `intenseqc`: \n",
    "- "
   ]
  },
  {
   "cell_type": "code",
   "execution_count": null,
   "id": "f30ef190-85ab-4b50-b2ac-d6808018f289",
   "metadata": {},
   "outputs": [],
   "source": []
  },
  {
   "cell_type": "markdown",
   "id": "c07bb7c8-c760-4108-81c6-c26d9a3bc245",
   "metadata": {},
   "source": [
    "# QC6 - Breakpoints \n",
    "[Back to Index](#Table-of-contents)\n",
    "\n",
    "#### Differences from `intenseqc`: \n",
    "- "
   ]
  },
  {
   "cell_type": "code",
   "execution_count": null,
   "id": "4493cbf2-410e-4439-a7fa-297111192dfb",
   "metadata": {},
   "outputs": [],
   "source": []
  },
  {
   "cell_type": "markdown",
   "id": "4f5c0498-edd5-445b-9f1c-60f7f6a25fd5",
   "metadata": {},
   "source": [
    "# QC7 - Minimum value change \n",
    "[Back to Index](#Table-of-contents)\n",
    "\n",
    "#### Differences from `intenseqc`: \n",
    "- "
   ]
  },
  {
   "cell_type": "code",
   "execution_count": null,
   "id": "9826e0fe-6273-4117-9296-bf6e7f6528a9",
   "metadata": {},
   "outputs": [],
   "source": []
  }
 ],
 "metadata": {
  "kernelspec": {
   "display_name": "Python 3 (ipykernel)",
   "language": "python",
   "name": "python3"
  },
  "language_info": {
   "codemirror_mode": {
    "name": "ipython",
    "version": 3
   },
   "file_extension": ".py",
   "mimetype": "text/x-python",
   "name": "python",
   "nbconvert_exporter": "python",
   "pygments_lexer": "ipython3",
   "version": "3.13.1"
  }
 },
 "nbformat": 4,
 "nbformat_minor": 5
}
