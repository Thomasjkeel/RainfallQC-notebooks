{
 "cells": [
  {
   "cell_type": "markdown",
   "id": "bdbec22d-18ea-4cfb-a859-17391a802764",
   "metadata": {},
   "source": [
    "# Rain gauge checks for quality control flags\n",
    "Covers QC1-7\n",
    "\n",
    "## Table of contents\n",
    "[QC1 Percentiles](#QC1---Percentiles)  \n",
    "[QC2 K-largest](#QC2---K-largest)  \n",
    "[QC3 Days of week](#QC3---Days-of-week)  \n",
    "[QC4 Hours of day](#QC4---Hours-of-day)  \n",
    "[QC5 Intermittency](#QC5---Intermittency)  \n",
    "[QC6 Breakpoints](#QC6---Breakpoints)  \n",
    "[QC7 Minimum value change](#QC7---Minimum-value-change)  \n",
    "\n",
    "See '3.3 Suspect gauges' in Lewis et al. (2021)"
   ]
  },
  {
   "cell_type": "code",
   "execution_count": 2,
   "id": "a1bc24fa-d3f4-4b0b-a124-87644c7cec4b",
   "metadata": {},
   "outputs": [],
   "source": [
    "import polars as pl"
   ]
  },
  {
   "cell_type": "code",
   "execution_count": 20,
   "id": "368479e0-c1ac-4b6e-a21d-7a4a54beb7c3",
   "metadata": {},
   "outputs": [],
   "source": [
    "gauge_data = pl.read_csv('../data/gauge_data/DE_02483.txt', skip_rows=20)"
   ]
  },
  {
   "cell_type": "code",
   "execution_count": 23,
   "id": "e84d84dc-004f-462d-9fe9-9c13d37d59d8",
   "metadata": {},
   "outputs": [
    {
     "data": {
      "text/html": [
       "<div><style>\n",
       ".dataframe > thead > tr,\n",
       ".dataframe > tbody > tr {\n",
       "  text-align: right;\n",
       "  white-space: pre-wrap;\n",
       "}\n",
       "</style>\n",
       "<small>shape: (5, 1)</small><table border=\"1\" class=\"dataframe\"><thead><tr><th>Other: </th></tr><tr><td>f64</td></tr></thead><tbody><tr><td>0.9</td></tr><tr><td>0.3</td></tr><tr><td>0.3</td></tr><tr><td>0.0</td></tr><tr><td>0.0</td></tr></tbody></table></div>"
      ],
      "text/plain": [
       "shape: (5, 1)\n",
       "┌─────────┐\n",
       "│ Other:  │\n",
       "│ ---     │\n",
       "│ f64     │\n",
       "╞═════════╡\n",
       "│ 0.9     │\n",
       "│ 0.3     │\n",
       "│ 0.3     │\n",
       "│ 0.0     │\n",
       "│ 0.0     │\n",
       "└─────────┘"
      ]
     },
     "execution_count": 23,
     "metadata": {},
     "output_type": "execute_result"
    }
   ],
   "source": [
    "gauge_data.head()"
   ]
  },
  {
   "cell_type": "markdown",
   "id": "623e68c6-f72e-4f98-b44c-6ea4201c9a1f",
   "metadata": {},
   "source": [
    "# QC1 - Percentiles \n",
    "[Back to Index](#Table-of-contents)\n",
    "\n",
    "#### Differences from `intenseqc`: \n",
    "- d\n",
    "- "
   ]
  },
  {
   "cell_type": "code",
   "execution_count": null,
   "id": "90862152-7965-4e8b-aca0-5a63cfef2e4c",
   "metadata": {},
   "outputs": [],
   "source": []
  },
  {
   "cell_type": "code",
   "execution_count": null,
   "id": "7b4be27d-3715-4b52-90e6-614d462ab836",
   "metadata": {},
   "outputs": [],
   "source": []
  },
  {
   "cell_type": "code",
   "execution_count": null,
   "id": "3b22895e-3b88-4df9-a72d-ae1ec7910a2b",
   "metadata": {},
   "outputs": [],
   "source": []
  },
  {
   "cell_type": "markdown",
   "id": "ea442e76-b0bc-42fc-8612-178546765bed",
   "metadata": {},
   "source": [
    "# QC2 - K-largest\n",
    "[Back to Index](#Table-of-contents)"
   ]
  },
  {
   "cell_type": "code",
   "execution_count": null,
   "id": "958f02be-d349-4aa9-9f1b-ad022194074c",
   "metadata": {},
   "outputs": [],
   "source": []
  },
  {
   "cell_type": "markdown",
   "id": "23166b6e-7526-42b6-8eb7-a8fdfd2ffe3c",
   "metadata": {},
   "source": [
    "# QC3 - Days of week\n",
    "[Back to Index](#Table-of-contents)"
   ]
  },
  {
   "cell_type": "code",
   "execution_count": null,
   "id": "7f02f9cd-5341-4bba-bdcc-edbda6ddd10b",
   "metadata": {},
   "outputs": [],
   "source": []
  },
  {
   "cell_type": "markdown",
   "id": "d2b69c9e-32d5-4c5b-b86a-cf315f37d09a",
   "metadata": {},
   "source": [
    "# QC4 - Hours of day\n",
    "[Back to Index](#Table-of-contents)"
   ]
  },
  {
   "cell_type": "code",
   "execution_count": null,
   "id": "f6018bfa-f08e-4438-a3b8-5193ea8d627a",
   "metadata": {},
   "outputs": [],
   "source": []
  },
  {
   "cell_type": "markdown",
   "id": "4d7f8914-9352-4b40-97cc-33e39fd83045",
   "metadata": {},
   "source": [
    "# QC5 - Intermittency \n",
    "[Back to Index](#Table-of-contents)"
   ]
  },
  {
   "cell_type": "code",
   "execution_count": null,
   "id": "f30ef190-85ab-4b50-b2ac-d6808018f289",
   "metadata": {},
   "outputs": [],
   "source": []
  },
  {
   "cell_type": "markdown",
   "id": "c07bb7c8-c760-4108-81c6-c26d9a3bc245",
   "metadata": {},
   "source": [
    "# QC6 - Breakpoints \n",
    "[Back to Index](#Table-of-contents)"
   ]
  },
  {
   "cell_type": "code",
   "execution_count": null,
   "id": "4493cbf2-410e-4439-a7fa-297111192dfb",
   "metadata": {},
   "outputs": [],
   "source": []
  },
  {
   "cell_type": "markdown",
   "id": "4f5c0498-edd5-445b-9f1c-60f7f6a25fd5",
   "metadata": {},
   "source": [
    "# QC7 - Minimum value change \n",
    "[Back to Index](#Table-of-contents)"
   ]
  },
  {
   "cell_type": "code",
   "execution_count": null,
   "id": "9826e0fe-6273-4117-9296-bf6e7f6528a9",
   "metadata": {},
   "outputs": [],
   "source": []
  }
 ],
 "metadata": {
  "kernelspec": {
   "display_name": "Python 3 (ipykernel)",
   "language": "python",
   "name": "python3"
  },
  "language_info": {
   "codemirror_mode": {
    "name": "ipython",
    "version": 3
   },
   "file_extension": ".py",
   "mimetype": "text/x-python",
   "name": "python",
   "nbconvert_exporter": "python",
   "pygments_lexer": "ipython3",
   "version": "3.13.1"
  }
 },
 "nbformat": 4,
 "nbformat_minor": 5
}
